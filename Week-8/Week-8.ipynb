{
 "cells": [
  {
   "cell_type": "markdown",
   "metadata": {},
   "source": [
    "# Divide and Conquer [Week 8]\n",
    "\n",
    "- Break a problem into smaller subproblems.\n",
    "- Solve each subproblem independently.\n",
    "- Combine solutions to solve the original problem.\n",
    "\n",
    "Examples:\n",
    "\n",
    "- **Merge sort**: Sorts an array by dividing and merging.\n",
    "- **Quick sort**: Sorts by partitioning around a pivot.\n",
    "- **Binary search**: Finds an element in a sorted array.\n",
    "- **Counting inversions**: Counts out-of-order pairs in an array.\n",
    "- **Closest pair of points**: Finds the closest pair among a set of points.\n",
    "- **Integer multiplication**: Multiplies large integers efficiently.\n",
    "- **Quick select and Fast select**: Finds the k-th smallest element.\n",
    "- **Median of Medians (MoM)**: Improves pivot choice in selection algorithms.\n",
    "- **Fast select using MoM**: Selects an element quickly with better pivoting."
   ]
  },
  {
   "cell_type": "markdown",
   "metadata": {},
   "source": [
    "# Count Inversions Problem\n",
    "\n",
    "https://pdsaiitm.github.io/week-8/summary.html#counting-inversions\n",
    "\n",
    "https://itzsyboo.medium.com/algorithms-studynote-2-divide-and-conquer-counting-inversions-9e0899bc9e26\n",
    "\n",
    "**Problem Statement:**\n",
    "\n",
    "- Given a list of integers.\n",
    "- Count the number of inversions.\n",
    "- An inversion is a pair (i, j) where i < j and A[i] > A[j].\n",
    "\n",
    "**Solution Approach:**\n",
    "\n",
    "1. **Divide the Array:**\n",
    "   - Recursively split the array into two halves.\n",
    "\n",
    "2. **Count Inversions:**\n",
    "   - In each half, count inversions using the same method.\n",
    "\n",
    "3. **Merge and Count:**\n",
    "   - Merge two sorted halves.\n",
    "   - Count inversions where elements in the left half are greater than elements in the right half.\n",
    "\n",
    "4. **Combine Counts:**\n",
    "   - Total inversions = inversions in left half + inversions in right half + inversions during merging.\n",
    "\n",
    "**Note:**\n",
    "- This approach is similar to merge sort but includes inversion counts during the merge step."
   ]
  },
  {
   "cell_type": "code",
   "execution_count": 45,
   "metadata": {},
   "outputs": [
    {
     "name": "stdout",
     "output_type": "stream",
     "text": [
      "[1, 2, 3, 4, 5] 4\n"
     ]
    }
   ],
   "source": [
    "def merge_and_count(left, right):\n",
    "  merged = []\n",
    "  i = j = 0\n",
    "  count = 0\n",
    "\n",
    "  # merge the two halves\n",
    "  while i < len(left) and j < len(right):\n",
    "    if left[i] <= right[j]:\n",
    "      merged.append(left[i])\n",
    "      i += 1\n",
    "    else:\n",
    "      merged.append(right[j])\n",
    "      count += len(left) - i\n",
    "      j += 1\n",
    "\n",
    "  # append remaining elements\n",
    "  merged.extend(left[i:])\n",
    "  merged.extend(right[j:])\n",
    "\n",
    "  return merged, count\n",
    "\n",
    "\n",
    "def inversion_count(arr):\n",
    "  if len(arr) < 2:\n",
    "    return arr, 0\n",
    "\n",
    "  mid = len(arr) // 2\n",
    "  left, count_left = inversion_count(arr[:mid])\n",
    "  right, count_right = inversion_count(arr[mid:])\n",
    "  merged, count_merge = merge_and_count(left, right)\n",
    "  return merged, count_left + count_right + count_merge\n",
    "\n",
    "\n",
    "# test\n",
    "arr = [2, 4, 3, 1, 5]\n",
    "sorted_arr, inversions = inversion_count(arr)\n",
    "print(sorted_arr, inversions)"
   ]
  },
  {
   "cell_type": "markdown",
   "metadata": {},
   "source": [
    "**Input:** [2, 4, 3, 1, 5]\n",
    "\n",
    "**Process:**\n",
    "\n",
    "1. **Split Array:**\n",
    "   - Left: [2, 4]\n",
    "   - Right: [3, 1, 5]\n",
    "\n",
    "2. **Count Inversions in Left:**\n",
    "   - Split further: [2] and [4]\n",
    "     - No inversions in [2] and [4]\n",
    "   - Combine [2] and [4] (no new inversions)\n",
    "\n",
    "3. **Count Inversions in Right:**\n",
    "   - Split further: [3] and [1, 5]\n",
    "     - Inversions in [1, 5]: 0\n",
    "     - Merge [3] and [1, 5] with inversions: 1 (pair: (3, 1))\n",
    "\n",
    "4. **Merge and Count:**\n",
    "   - Merge sorted halves [2, 4] and [1, 3, 5]:\n",
    "     - Inversions during merge: 3 (pairs: (2, 1), (4, 1), (4, 3))\n",
    "\n",
    "5. **Total Count:**\n",
    "   - Total inversions: 0 (left) + 1 (right) + 3 (merge) = 4\n",
    "\n",
    "**Result:**\n",
    "\n",
    "- **Number of Inversions:** 4"
   ]
  }
 ],
 "metadata": {
  "kernelspec": {
   "display_name": "Python 3",
   "language": "python",
   "name": "python3"
  },
  "language_info": {
   "codemirror_mode": {
    "name": "ipython",
    "version": 3
   },
   "file_extension": ".py",
   "mimetype": "text/x-python",
   "name": "python",
   "nbconvert_exporter": "python",
   "pygments_lexer": "ipython3",
   "version": "3.12.0"
  }
 },
 "nbformat": 4,
 "nbformat_minor": 2
}
