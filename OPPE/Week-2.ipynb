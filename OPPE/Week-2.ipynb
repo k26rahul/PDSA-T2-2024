{
 "cells": [
  {
   "cell_type": "code",
   "execution_count": 25,
   "metadata": {},
   "outputs": [
    {
     "name": "stdout",
     "output_type": "stream",
     "text": [
      "8\n",
      "8\n",
      "8\n",
      "8\n",
      "8\n"
     ]
    }
   ],
   "source": [
    "# external code (avoid this 💀)\n",
    "def findLargest(L):\n",
    "  low = 0\n",
    "  high = len(L)\n",
    "\n",
    "  while low < high:\n",
    "    mid = (low+high)//2\n",
    "    if L[mid] > L[low]:\n",
    "      low = mid  # go R\n",
    "    else:\n",
    "      high = mid  # go L\n",
    "  return L[low]\n",
    "\n",
    "\n",
    "print(findLargest([2, 4, 5, 7, 8]))\n",
    "print(findLargest([8, 2, 4, 5, 7]))\n",
    "print(findLargest([7, 8, 2, 4, 5]))\n",
    "print(findLargest([5, 7, 8, 2, 4]))\n",
    "print(findLargest([4, 5, 7, 8, 2]))"
   ]
  },
  {
   "cell_type": "code",
   "execution_count": 2,
   "metadata": {},
   "outputs": [
    {
     "name": "stdout",
     "output_type": "stream",
     "text": [
      "[10, 1, 2, 3, 4, 5, 6, 7, 8, 9] 10\n",
      "[9, 10, 1, 2, 3, 4, 5, 6, 7, 8] 10\n",
      "[8, 9, 10, 1, 2, 3, 4, 5, 6, 7] 10\n",
      "[7, 8, 9, 10, 1, 2, 3, 4, 5, 6] 10\n",
      "[6, 7, 8, 9, 10, 1, 2, 3, 4, 5] 10\n",
      "[5, 6, 7, 8, 9, 10, 1, 2, 3, 4] 10\n",
      "[4, 5, 6, 7, 8, 9, 10, 1, 2, 3] 10\n",
      "[3, 4, 5, 6, 7, 8, 9, 10, 1, 2] 10\n",
      "[2, 3, 4, 5, 6, 7, 8, 9, 10, 1] 10\n",
      "[1, 2, 3, 4, 5, 6, 7, 8, 9, 10] 10\n"
     ]
    }
   ],
   "source": [
    "# our own code, based on standard BS\n",
    "def findLargest(L):\n",
    "  low = 0\n",
    "  high = len(L)-1\n",
    "  while low <= high:\n",
    "    mid = (low+high)//2\n",
    "\n",
    "    # possibility 1: mid is max\n",
    "    if L[mid-1] < L[mid] > L[mid+1]:  # 5, 7, 8, 2, 4 👉 [7, 8, 2]\n",
    "      return L[mid]\n",
    "\n",
    "    # possibility 2: only two numbers in domain\n",
    "    if high - low == 1:  # 2, 4, 5, 7, 8 👉 [7, 8]\n",
    "      if L[low] > L[high]:\n",
    "        return L[low]\n",
    "      else:\n",
    "        return L[high]\n",
    "\n",
    "    # possibility 3: change dir (chose L/R)\n",
    "    if L[low] < L[mid]:\n",
    "      low = mid+1  # chose R\n",
    "    else:\n",
    "      high = mid-1  # chose L\n",
    "\n",
    "\n",
    "# primary test cases\n",
    "# print(findLargest([2, 4, 5, 7, 8]))\n",
    "# print(findLargest([8, 2, 4, 5, 7]))\n",
    "# print(findLargest([7, 8, 2, 4, 5]))\n",
    "# print(findLargest([5, 7, 8, 2, 4]))\n",
    "# print(findLargest([4, 5, 7, 8, 2]))\n",
    "\n",
    "# possibility 1: mid is max\n",
    "# possibility 2: only two numbers in domain\n",
    "# possibility 3: change dir (chose L/R)\n",
    "\n",
    "# ultimate test code\n",
    "n = 10\n",
    "L = list(range(1, n+1))\n",
    "for i in range(1, n+1):\n",
    "  test = L[n-i:] + L[:n-i]\n",
    "  print(test, findLargest(test))"
   ]
  },
  {
   "cell_type": "code",
   "execution_count": 7,
   "metadata": {},
   "outputs": [
    {
     "data": {
      "text/plain": [
       "99967"
      ]
     },
     "execution_count": 7,
     "metadata": {},
     "output_type": "execute_result"
    }
   ],
   "source": [
    "f = open('./input.txt')\n",
    "txt = f.read()\n",
    "\n",
    "findLargest(list(map(int, [x for x in txt.strip().split(',') if x])))"
   ]
  }
 ],
 "metadata": {
  "kernelspec": {
   "display_name": "Python 3",
   "language": "python",
   "name": "python3"
  },
  "language_info": {
   "codemirror_mode": {
    "name": "ipython",
    "version": 3
   },
   "file_extension": ".py",
   "mimetype": "text/x-python",
   "name": "python",
   "nbconvert_exporter": "python",
   "pygments_lexer": "ipython3",
   "version": "3.12.0"
  }
 },
 "nbformat": 4,
 "nbformat_minor": 2
}
