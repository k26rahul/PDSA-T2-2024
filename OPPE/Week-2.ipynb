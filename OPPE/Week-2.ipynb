{
 "cells": [
  {
   "cell_type": "code",
   "execution_count": 25,
   "metadata": {},
   "outputs": [
    {
     "name": "stdout",
     "output_type": "stream",
     "text": [
      "8\n",
      "8\n",
      "8\n",
      "8\n",
      "8\n"
     ]
    }
   ],
   "source": [
    "# external code (avoid this 💀)\n",
    "def findLargest(L):\n",
    "  low = 0\n",
    "  high = len(L)\n",
    "\n",
    "  while low < high:\n",
    "    mid = (low+high)//2\n",
    "    if L[mid] > L[low]:\n",
    "      low = mid  # go R\n",
    "    else:\n",
    "      high = mid  # go L\n",
    "  return L[low]\n",
    "\n",
    "\n",
    "print(findLargest([2, 4, 5, 7, 8]))\n",
    "print(findLargest([8, 2, 4, 5, 7]))\n",
    "print(findLargest([7, 8, 2, 4, 5]))\n",
    "print(findLargest([5, 7, 8, 2, 4]))\n",
    "print(findLargest([4, 5, 7, 8, 2]))"
   ]
  },
  {
   "cell_type": "code",
   "execution_count": 2,
   "metadata": {},
   "outputs": [
    {
     "name": "stdout",
     "output_type": "stream",
     "text": [
      "[10, 1, 2, 3, 4, 5, 6, 7, 8, 9] 10\n",
      "[9, 10, 1, 2, 3, 4, 5, 6, 7, 8] 10\n",
      "[8, 9, 10, 1, 2, 3, 4, 5, 6, 7] 10\n",
      "[7, 8, 9, 10, 1, 2, 3, 4, 5, 6] 10\n",
      "[6, 7, 8, 9, 10, 1, 2, 3, 4, 5] 10\n",
      "[5, 6, 7, 8, 9, 10, 1, 2, 3, 4] 10\n",
      "[4, 5, 6, 7, 8, 9, 10, 1, 2, 3] 10\n",
      "[3, 4, 5, 6, 7, 8, 9, 10, 1, 2] 10\n",
      "[2, 3, 4, 5, 6, 7, 8, 9, 10, 1] 10\n",
      "[1, 2, 3, 4, 5, 6, 7, 8, 9, 10] 10\n"
     ]
    }
   ],
   "source": [
    "# our own code, based on standard BS\n",
    "def findLargest(L):\n",
    "  low = 0\n",
    "  high = len(L)-1\n",
    "  while low <= high:\n",
    "    mid = (low+high)//2\n",
    "\n",
    "    # possibility 1: mid is max\n",
    "    if L[mid-1] < L[mid] > L[mid+1]:  # 5, 7, 8, 2, 4 👉 [7, 8, 2]\n",
    "      return L[mid]\n",
    "\n",
    "    # possibility 2: only two numbers in domain\n",
    "    if high - low == 1:  # 2, 4, 5, 7, 8 👉 [7, 8]\n",
    "      if L[low] > L[high]:\n",
    "        return L[low]\n",
    "      else:\n",
    "        return L[high]\n",
    "\n",
    "    # possibility 3: change dir (chose L/R)\n",
    "    if L[low] < L[mid]:\n",
    "      low = mid+1  # chose R\n",
    "    else:\n",
    "      high = mid-1  # chose L\n",
    "\n",
    "\n",
    "# primary test cases\n",
    "# print(findLargest([2, 4, 5, 7, 8]))\n",
    "# print(findLargest([8, 2, 4, 5, 7]))\n",
    "# print(findLargest([7, 8, 2, 4, 5]))\n",
    "# print(findLargest([5, 7, 8, 2, 4]))\n",
    "# print(findLargest([4, 5, 7, 8, 2]))\n",
    "\n",
    "# possibility 1: mid is max\n",
    "# possibility 2: only two numbers in domain\n",
    "# possibility 3: change dir (chose L/R)\n",
    "\n",
    "# ultimate test code\n",
    "n = 10\n",
    "L = list(range(1, n+1))\n",
    "for i in range(1, n+1):\n",
    "  test = L[n-i:] + L[:n-i]\n",
    "  print(test, findLargest(test))"
   ]
  },
  {
   "cell_type": "code",
   "execution_count": 7,
   "metadata": {},
   "outputs": [
    {
     "data": {
      "text/plain": [
       "99967"
      ]
     },
     "execution_count": 7,
     "metadata": {},
     "output_type": "execute_result"
    }
   ],
   "source": [
    "f = open('./input.txt')\n",
    "txt = f.read()\n",
    "\n",
    "findLargest(list(map(int, [x for x in txt.strip().split(',') if x])))"
   ]
  },
  {
   "cell_type": "code",
   "execution_count": 11,
   "metadata": {},
   "outputs": [
    {
     "data": {
      "text/plain": [
       "(True, 3)"
      ]
     },
     "execution_count": 11,
     "metadata": {},
     "output_type": "execute_result"
    }
   ],
   "source": [
    "def binarySearchIndexAndComparisons(L, v):\n",
    "  low = 0\n",
    "  high = len(L)-1\n",
    "  count = 0\n",
    "  while low <= high:\n",
    "    mid = (low+high)//2\n",
    "    count += 1\n",
    "    if L[mid] < v:\n",
    "      low = mid+1\n",
    "    elif L[mid] > v:\n",
    "      high = mid-1\n",
    "    else:  # L[mid] == v:\n",
    "      return (True, count)\n",
    "  return (False, count)\n",
    "\n",
    "\n",
    "binarySearchIndexAndComparisons([2, 6, 8, 11, 17, 23, 33, 44, 46, 50, 65], 11)"
   ]
  },
  {
   "cell_type": "code",
   "execution_count": 14,
   "metadata": {},
   "outputs": [
    {
     "name": "stdout",
     "output_type": "stream",
     "text": [
      "[0, 0, 0, 1, 1, 1, 1, 2, 2, 2, 2, 2, 3, 3]\n"
     ]
    }
   ],
   "source": [
    "# In function, no need to return any list, just sort input list `lst` in place.\n",
    "def sortInRange(lst, r):\n",
    "  lst.sort()\n",
    "\n",
    "\n",
    "lst = [2, 0, 1, 1, 2, 3, 0, 2, 1, 0, 2, 3, 1, 2]\n",
    "sortInRange(lst, 4)\n",
    "print(lst)"
   ]
  },
  {
   "cell_type": "code",
   "execution_count": 34,
   "metadata": {},
   "outputs": [
    {
     "name": "stdout",
     "output_type": "stream",
     "text": [
      "ans: None\n",
      "original list: [0, 0, 0, 1, 1, 1, 1, 2, 2, 2, 2, 2, 3, 3]\n"
     ]
    }
   ],
   "source": [
    "# In function, no need to return any list, just sort input list `lst` in place.\n",
    "def sortInRange(lst, r):\n",
    "  count = {}\n",
    "\n",
    "  for num in lst:  # n\n",
    "    if num not in count:\n",
    "      count[num] = 0\n",
    "    count[num] += 1\n",
    "\n",
    "  lst.clear()\n",
    "  for i in range(r):\n",
    "    lst += [i]*count[i]\n",
    "\n",
    "  # not in-place sorting ☠️\n",
    "  # my_list = []\n",
    "  # for i in range(r):\n",
    "    # my_list += [i]*count[i]\n",
    "  # return my_list\n",
    "\n",
    "\n",
    "lst = [2, 0, 1, 1, 2, 3, 0, 2, 1, 0, 2, 3, 1, 2]\n",
    "print(f'ans: {sortInRange(lst, 4)}')\n",
    "print(f'original list: {lst}')"
   ]
  },
  {
   "cell_type": "code",
   "execution_count": null,
   "metadata": {},
   "outputs": [],
   "source": [
    "# python built-in sort respects order of appearances of EQUAL elem (sort is stable)"
   ]
  },
  {
   "cell_type": "code",
   "execution_count": 49,
   "metadata": {},
   "outputs": [
    {
     "data": {
      "text/plain": [
       "(['b87', 'c65', 'd34', 'd12', 'd77', 'g54', 'g1', 'g40', 'g5'],\n",
       " ['b87', 'c65', 'd77', 'd34', 'd12', 'g54', 'g40', 'g5', 'g1'])"
      ]
     },
     "execution_count": 49,
     "metadata": {},
     "output_type": "execute_result"
    }
   ],
   "source": [
    "def combinationSort(L):\n",
    "  l1 = sorted(L, key=lambda string: string[0])\n",
    "  l2 = sorted(L, key=lambda string: int(string[1:]), reverse=True)\n",
    "  l2 = sorted(l2, key=lambda string: string[0])\n",
    "  return l1, l2\n",
    "\n",
    "\n",
    "combinationSort(['d34', 'g54', 'd12', 'b87', 'g1', 'c65', 'g40', 'g5', 'd77',])"
   ]
  },
  {
   "cell_type": "code",
   "execution_count": 52,
   "metadata": {},
   "outputs": [
    {
     "name": "stdout",
     "output_type": "stream",
     "text": [
      "8\n",
      "8\n",
      "8\n",
      "8\n",
      "8\n",
      "[10, 1, 2, 3, 4, 5, 6, 7, 8, 9] 10\n",
      "[9, 10, 1, 2, 3, 4, 5, 6, 7, 8] 10\n",
      "[8, 9, 10, 1, 2, 3, 4, 5, 6, 7] 10\n",
      "[7, 8, 9, 10, 1, 2, 3, 4, 5, 6] 10\n",
      "[6, 7, 8, 9, 10, 1, 2, 3, 4, 5] 10\n",
      "[5, 6, 7, 8, 9, 10, 1, 2, 3, 4] 10\n",
      "[4, 5, 6, 7, 8, 9, 10, 1, 2, 3] 10\n",
      "[3, 4, 5, 6, 7, 8, 9, 10, 1, 2] 10\n",
      "[2, 3, 4, 5, 6, 7, 8, 9, 10, 1] 10\n",
      "[1, 2, 3, 4, 5, 6, 7, 8, 9, 10] 10\n"
     ]
    }
   ],
   "source": [
    "def findLargest(L):\n",
    "  low = 0\n",
    "  high = len(L)-1\n",
    "  while low <= high:\n",
    "    mid = (low+high)//2\n",
    "\n",
    "    # mid is max\n",
    "    if L[mid-1] < L[mid] > L[mid+1]:\n",
    "      return L[mid]\n",
    "\n",
    "    # domain has only 2 elems\n",
    "    if high-low == 1:\n",
    "      if L[low] > L[high]:\n",
    "        return L[low]\n",
    "      else:\n",
    "        return L[high]\n",
    "\n",
    "    # chose L/R\n",
    "    if L[low] < L[mid]:\n",
    "      low = mid+1  # chose R\n",
    "    else:\n",
    "      high = mid-1  # chose L\n",
    "\n",
    "\n",
    "print(findLargest([2, 4, 5, 7, 8]))\n",
    "print(findLargest([8, 2, 4, 5, 7]))\n",
    "print(findLargest([7, 8, 2, 4, 5]))\n",
    "print(findLargest([5, 7, 8, 2, 4]))\n",
    "print(findLargest([4, 5, 7, 8, 2]))\n",
    "\n",
    "# ultimate test code\n",
    "n = 10\n",
    "L = list(range(1, n+1))\n",
    "for i in range(1, n+1):\n",
    "  test = L[n-i:] + L[:n-i]\n",
    "  print(test, findLargest(test))"
   ]
  },
  {
   "cell_type": "code",
   "execution_count": null,
   "metadata": {},
   "outputs": [],
   "source": [
    "# A\n",
    "# B\n",
    "# A, B (both together must be sorted)\n",
    "\n",
    "# swap(1st_index, source, 2nd_index)\n",
    "# A.swap(0, B, 5): A[0] <> B[5]\n",
    "# A.swap(0, A, 3): A[0] <> A[3]\n",
    "\n",
    "# before merge\n",
    "# A: 2 4 6 9 13 15\n",
    "# B: 1 3 5 10\n",
    "\n",
    "# after merge\n",
    "# A: 1 2 3 4 5 6\n",
    "# B: 9 10 13 15"
   ]
  },
  {
   "cell_type": "code",
   "execution_count": null,
   "metadata": {},
   "outputs": [],
   "source": [
    "# before merge\n",
    "# A: 2 4 6 9 13 15\n",
    "# B: 1 3 5 10"
   ]
  },
  {
   "cell_type": "code",
   "execution_count": 76,
   "metadata": {},
   "outputs": [
    {
     "name": "stdout",
     "output_type": "stream",
     "text": [
      "[1, 2, 3, 4, 5, 6]\n",
      "[9, 10, 13, 15]\n"
     ]
    }
   ],
   "source": [
    "def findMinIndex(lst):  # O(n)\n",
    "  # find index of min elem in lst\n",
    "  lst_min = lst[0]\n",
    "  lst_min_index = 0\n",
    "  for i in range(len(lst)):\n",
    "    if lst[i] < lst_min:\n",
    "      lst_min = lst[i]\n",
    "      lst_min_index = i\n",
    "  return lst_min_index\n",
    "\n",
    "\n",
    "def mergeInPlace(A, B):  # O(n^2)\n",
    "  # sort A list (ensure i-th pos is min of both A,B)\n",
    "  # O(n^2)\n",
    "  for i in range(len(A)):  # O(n)\n",
    "    b_min_index = findMinIndex(B)  # O(n)\n",
    "    if B[b_min_index] < A[i]:\n",
    "      A[i], B[b_min_index] = B[b_min_index], A[i]  # this won't work in IITM submission\n",
    "      # A.swap(i, B, b_min_index) 👈 do this on submission\n",
    "\n",
    "  # fix order in B list (standard bubble sort: why? bcz max value bubbles at right end)\n",
    "  # O(n^2)\n",
    "  for i in range(len(B)):\n",
    "    for j in range(i, len(B)-1):\n",
    "      if B[j] > B[j+1]:\n",
    "        B[j], B[j+1] = B[j+1], B[j]\n",
    "        # B.swap(j, B, j+1)\n",
    "\n",
    "\n",
    "A = [2, 4, 6, 9, 13, 15]\n",
    "B = [1, 3, 5, 10]\n",
    "mergeInPlace(A, B)\n",
    "\n",
    "print(A)\n",
    "print(B)"
   ]
  },
  {
   "cell_type": "code",
   "execution_count": 78,
   "metadata": {},
   "outputs": [
    {
     "data": {
      "text/plain": [
       "3"
      ]
     },
     "execution_count": 78,
     "metadata": {},
     "output_type": "execute_result"
    }
   ],
   "source": [
    "def find_min_number(lst):\n",
    "  lst_min = lst[0]\n",
    "  for num in lst:\n",
    "    if num < lst_min:\n",
    "      lst_min = num\n",
    "  return lst_min\n",
    "\n",
    "\n",
    "find_min_number([19, 17, 5, 15, 21, 3, 20])"
   ]
  },
  {
   "cell_type": "code",
   "execution_count": 79,
   "metadata": {},
   "outputs": [
    {
     "data": {
      "text/plain": [
       "0"
      ]
     },
     "execution_count": 79,
     "metadata": {},
     "output_type": "execute_result"
    }
   ],
   "source": [
    "def find_min_index(lst):\n",
    "  lst_min = lst[0]\n",
    "  lst_min_index = 0\n",
    "  for i in range(len(lst)):\n",
    "    if lst[i] < lst_min:\n",
    "      lst_min = lst[i]\n",
    "      lst_min_index = i\n",
    "  return lst_min_index\n",
    "\n",
    "\n",
    "find_min_index([3, 19, 17, 5, 15, 21, 13, 20])"
   ]
  },
  {
   "cell_type": "code",
   "execution_count": 84,
   "metadata": {},
   "outputs": [
    {
     "data": {
      "text/plain": [
       "True"
      ]
     },
     "execution_count": 84,
     "metadata": {},
     "output_type": "execute_result"
    },
    {
     "data": {
      "text/plain": [
       "False"
      ]
     },
     "execution_count": 84,
     "metadata": {},
     "output_type": "execute_result"
    },
    {
     "data": {
      "text/plain": [
       "True"
      ]
     },
     "execution_count": 84,
     "metadata": {},
     "output_type": "execute_result"
    }
   ],
   "source": [
    "l1 = [1, 2, 3]\n",
    "l2 = [1, 2, 3]\n",
    "abc = l1\n",
    "\n",
    "l1 == l2  # elem by elem check\n",
    "\n",
    "l1 is l2  # check if both vars are same (by reference)\n",
    "abc is l1  # abc and l1 reference to same data"
   ]
  },
  {
   "cell_type": "code",
   "execution_count": 87,
   "metadata": {},
   "outputs": [
    {
     "data": {
      "text/plain": [
       "97"
      ]
     },
     "execution_count": 87,
     "metadata": {},
     "output_type": "execute_result"
    },
    {
     "data": {
      "text/plain": [
       "'a'"
      ]
     },
     "execution_count": 87,
     "metadata": {},
     "output_type": "execute_result"
    }
   ],
   "source": [
    "ord('a')\n",
    "chr(97) # NEW 😲"
   ]
  },
  {
   "cell_type": "code",
   "execution_count": 89,
   "metadata": {},
   "outputs": [
    {
     "name": "stdout",
     "output_type": "stream",
     "text": [
      "0\n",
      "1\n",
      "2\n",
      "3\n",
      "4\n",
      "hello Vidu\n"
     ]
    }
   ],
   "source": [
    "for i in range(5):\n",
    "  print(i)\n",
    "else:  # this runs after loop finishes\n",
    "  print('hello Vidu')"
   ]
  },
  {
   "cell_type": "code",
   "execution_count": 99,
   "metadata": {},
   "outputs": [
    {
     "data": {
      "text/plain": [
       "[1, 2, 'hi']"
      ]
     },
     "execution_count": 99,
     "metadata": {},
     "output_type": "execute_result"
    }
   ],
   "source": [
    "l = [1, 0, 0, 2, 'hi', []]\n",
    "list(filter(bool, l))"
   ]
  },
  {
   "cell_type": "code",
   "execution_count": 103,
   "metadata": {},
   "outputs": [
    {
     "name": "stdout",
     "output_type": "stream",
     "text": [
      "True\n",
      "False\n"
     ]
    }
   ],
   "source": [
    "print(bool('hi'))\n",
    "print(bool(''))"
   ]
  },
  {
   "cell_type": "code",
   "execution_count": 107,
   "metadata": {},
   "outputs": [
    {
     "name": "stdout",
     "output_type": "stream",
     "text": [
      "False\n",
      "True\n",
      "True\n",
      "True\n"
     ]
    }
   ],
   "source": [
    "print(bool(0))\n",
    "print(bool(-4))\n",
    "print(bool(1))\n",
    "print(bool(2))"
   ]
  },
  {
   "cell_type": "code",
   "execution_count": 110,
   "metadata": {},
   "outputs": [
    {
     "name": "stdout",
     "output_type": "stream",
     "text": [
      "False\n",
      "True\n"
     ]
    }
   ],
   "source": [
    "print(bool([]))\n",
    "print(bool([1, 2, 3]))"
   ]
  },
  {
   "cell_type": "code",
   "execution_count": 111,
   "metadata": {},
   "outputs": [
    {
     "data": {
      "text/plain": [
       "[1, 2, 'hi']"
      ]
     },
     "execution_count": 111,
     "metadata": {},
     "output_type": "execute_result"
    }
   ],
   "source": [
    "l = [1, 0, 0, 2, 'hi', '', []]\n",
    "list(filter(bool, l))"
   ]
  },
  {
   "cell_type": "code",
   "execution_count": 112,
   "metadata": {},
   "outputs": [
    {
     "data": {
      "text/plain": [
       "['cat', 'bat', 'jam']"
      ]
     },
     "execution_count": 112,
     "metadata": {},
     "output_type": "execute_result"
    }
   ],
   "source": [
    "def is_good(word):\n",
    "  return len(word) == 3\n",
    "\n",
    "\n",
    "l = ['cat', 'bat', 'hello', 'jam', 'world']\n",
    "list(filter(is_good, l))"
   ]
  },
  {
   "cell_type": "code",
   "execution_count": 121,
   "metadata": {},
   "outputs": [
    {
     "data": {
      "text/plain": [
       "['1', '2', '3']"
      ]
     },
     "execution_count": 121,
     "metadata": {},
     "output_type": "execute_result"
    }
   ],
   "source": [
    "# str.split(separator) -> list of items\n",
    "'1 2 3'.split(' ')"
   ]
  },
  {
   "cell_type": "code",
   "execution_count": 129,
   "metadata": {},
   "outputs": [
    {
     "data": {
      "text/plain": [
       "[1, 2, 3, 17]"
      ]
     },
     "execution_count": 129,
     "metadata": {},
     "output_type": "execute_result"
    }
   ],
   "source": [
    "lst = [1, 2, 2, 3, 3, 3, 3, 17]\n",
    "list(set(lst))"
   ]
  },
  {
   "cell_type": "code",
   "execution_count": 130,
   "metadata": {},
   "outputs": [
    {
     "name": "stdout",
     "output_type": "stream",
     "text": [
      "[1, 2, 3, 17]\n"
     ]
    }
   ],
   "source": [
    "lst = [1, 2, 2, 3, 3, 3, 3, 17]\n",
    "found = {}\n",
    "\n",
    "for num in lst:\n",
    "  found[num] = True\n",
    "\n",
    "my_list = []\n",
    "for key in found:\n",
    "  my_list.append(key)\n",
    "\n",
    "print(my_list)"
   ]
  },
  {
   "cell_type": "code",
   "execution_count": 132,
   "metadata": {},
   "outputs": [
    {
     "name": "stdout",
     "output_type": "stream",
     "text": [
      "[1, 2, 3, 17]\n",
      "[18, 81, 19, 5]\n",
      "[24, 26]\n"
     ]
    }
   ],
   "source": [
    "lst = [1, 2, 2, 3, 3, 3, 3, 17]\n",
    "found = {}\n",
    "\n",
    "for num in lst:\n",
    "  found[num] = True\n",
    "\n",
    "my_list = []\n",
    "for key in found:\n",
    "  my_list.append(key)\n",
    "\n",
    "print(my_list)\n",
    "\n",
    "\n",
    "lst = [18, 81, 19, 19, 18, 5, 5, 5]\n",
    "found = {}\n",
    "\n",
    "for num in lst:\n",
    "  found[num] = True\n",
    "\n",
    "my_list = []\n",
    "for key in found:\n",
    "  my_list.append(key)\n",
    "\n",
    "print(my_list)\n",
    "\n",
    "\n",
    "lst = [24, 24, 24, 26]\n",
    "found = {}\n",
    "\n",
    "for num in lst:\n",
    "  found[num] = True\n",
    "\n",
    "my_list = []\n",
    "for key in found:\n",
    "  my_list.append(key)\n",
    "\n",
    "print(my_list)"
   ]
  },
  {
   "cell_type": "code",
   "execution_count": 133,
   "metadata": {},
   "outputs": [
    {
     "data": {
      "text/plain": [
       "[1, 2, 3, 17]"
      ]
     },
     "execution_count": 133,
     "metadata": {},
     "output_type": "execute_result"
    },
    {
     "data": {
      "text/plain": [
       "[18, 81, 19, 5]"
      ]
     },
     "execution_count": 133,
     "metadata": {},
     "output_type": "execute_result"
    },
    {
     "data": {
      "text/plain": [
       "[24, 26]"
      ]
     },
     "execution_count": 133,
     "metadata": {},
     "output_type": "execute_result"
    }
   ],
   "source": [
    "def remove_duplicates(lst):\n",
    "  found = {}\n",
    "\n",
    "  for num in lst:\n",
    "    found[num] = True\n",
    "\n",
    "  my_list = []\n",
    "  for key in found:\n",
    "    my_list.append(key)\n",
    "  return my_list\n",
    "\n",
    "\n",
    "lst = [1, 2, 2, 3, 3, 3, 3, 17]\n",
    "remove_duplicates(lst)\n",
    "\n",
    "lst = [18, 81, 19, 19, 18, 5, 5, 5]\n",
    "remove_duplicates(lst)\n",
    "\n",
    "lst = [24, 24, 24, 26]\n",
    "remove_duplicates(lst)"
   ]
  },
  {
   "cell_type": "code",
   "execution_count": 141,
   "metadata": {},
   "outputs": [
    {
     "data": {
      "text/plain": [
       "'hello Vidu, u are so very awesome\\ngood morning\\nu r the best'"
      ]
     },
     "metadata": {},
     "output_type": "display_data"
    }
   ],
   "source": [
    "f = open('./ABC.txt')\n",
    "data = f.read()\n",
    "\n",
    "display(data)  # \\n is newline"
   ]
  },
  {
   "cell_type": "code",
   "execution_count": 142,
   "metadata": {},
   "outputs": [
    {
     "name": "stdout",
     "output_type": "stream",
     "text": [
      "total chars are 59\n"
     ]
    }
   ],
   "source": [
    "print(f'total chars are {len(data)}')"
   ]
  },
  {
   "cell_type": "code",
   "execution_count": 143,
   "metadata": {},
   "outputs": [
    {
     "name": "stdout",
     "output_type": "stream",
     "text": [
      "total lines are: 3\n"
     ]
    }
   ],
   "source": [
    "data = data.split('\\n')\n",
    "print(f'total lines are: {len(data)}')"
   ]
  },
  {
   "cell_type": "code",
   "execution_count": 144,
   "metadata": {},
   "outputs": [
    {
     "name": "stdout",
     "output_type": "stream",
     "text": [
      "total words are: 13\n"
     ]
    }
   ],
   "source": [
    "word_count = 0\n",
    "for line in data:\n",
    "  line = line.split(' ')\n",
    "  word_count += len(line)\n",
    "print(f'total words are: {word_count}')"
   ]
  },
  {
   "cell_type": "code",
   "execution_count": 146,
   "metadata": {},
   "outputs": [
    {
     "name": "stdout",
     "output_type": "stream",
     "text": [
      "0\n",
      "1\n",
      "2\n",
      "3\n",
      "4\n"
     ]
    }
   ],
   "source": [
    "for i in range(5):  # limits of iteration\n",
    "  print(i)"
   ]
  },
  {
   "cell_type": "code",
   "execution_count": 152,
   "metadata": {},
   "outputs": [
    {
     "name": "stdout",
     "output_type": "stream",
     "text": [
      "0\n",
      "1\n",
      "2\n",
      "3\n",
      "4\n"
     ]
    }
   ],
   "source": [
    "i = 0\n",
    "while i < 5:  # u just know when to stop, u dont the exact range\n",
    "  print(i)\n",
    "  i += 1"
   ]
  },
  {
   "cell_type": "code",
   "execution_count": 168,
   "metadata": {},
   "outputs": [
    {
     "name": "stdout",
     "output_type": "stream",
     "text": [
      "42\n",
      "84\n",
      "126\n",
      "168\n"
     ]
    },
    {
     "data": {
      "text/plain": [
       "210"
      ]
     },
     "execution_count": 168,
     "metadata": {},
     "output_type": "execute_result"
    }
   ],
   "source": [
    "def lcm(a, b):\n",
    "  a, b = max(a, b), min(a, b)\n",
    "  lcm = a\n",
    "  while lcm % b != 0:\n",
    "    lcm += a\n",
    "  return lcm\n",
    "\n",
    "\n",
    "lcm(10, 42)"
   ]
  },
  {
   "cell_type": "code",
   "execution_count": 157,
   "metadata": {},
   "outputs": [],
   "source": [
    "# a, b\n",
    "# 10 42\n",
    "\n",
    "# lcm, b\n",
    "# 42 10\n",
    "# 84 10\n",
    "# 126 10\n",
    "# 168 10\n",
    "# 210 10"
   ]
  },
  {
   "cell_type": "code",
   "execution_count": 185,
   "metadata": {},
   "outputs": [
    {
     "data": {
      "text/plain": [
       "{'H', 'a'}"
      ]
     },
     "execution_count": 185,
     "metadata": {},
     "output_type": "execute_result"
    }
   ],
   "source": [
    "str1 = 'Hari'\n",
    "str2 = 'Hale'\n",
    "set(str1) & set(str2)"
   ]
  },
  {
   "cell_type": "code",
   "execution_count": 192,
   "metadata": {},
   "outputs": [
    {
     "name": "stdout",
     "output_type": "stream",
     "text": [
      "['H', 'a']\n"
     ]
    }
   ],
   "source": [
    "str1 = 'Hari'\n",
    "str2 = 'Hale'\n",
    "\n",
    "found1 = {}\n",
    "found2 = {}\n",
    "\n",
    "for char in str1:\n",
    "  found1[char] = True\n",
    "\n",
    "for char in str2:\n",
    "  found2[char] = True\n",
    "\n",
    "common = []\n",
    "for key in found1:\n",
    "  if key in found2:\n",
    "    common.append(key)\n",
    "\n",
    "print(common)"
   ]
  },
  {
   "cell_type": "code",
   "execution_count": 194,
   "metadata": {},
   "outputs": [
    {
     "name": "stdout",
     "output_type": "stream",
     "text": [
      "879\n"
     ]
    }
   ],
   "source": [
    "data = {\n",
    "    'A': 100,\n",
    "    'B': 540,\n",
    "    'C': 239\n",
    "}\n",
    "\n",
    "total = 0\n",
    "for key in data:\n",
    "  total += data[key]\n",
    "\n",
    "print(total)"
   ]
  },
  {
   "cell_type": "code",
   "execution_count": 195,
   "metadata": {},
   "outputs": [
    {
     "name": "stdout",
     "output_type": "stream",
     "text": [
      "{2, 3, 4}\n"
     ]
    }
   ],
   "source": [
    "lst = [2, 3, 3, 4, 4, 4, 2]\n",
    "\n",
    "print(set(lst))"
   ]
  },
  {
   "cell_type": "code",
   "execution_count": 200,
   "metadata": {},
   "outputs": [
    {
     "data": {
      "text/plain": [
       "{3, 4}"
      ]
     },
     "execution_count": 200,
     "metadata": {},
     "output_type": "execute_result"
    }
   ],
   "source": [
    "set([1, 2, 3, 4]) & set([3, 4])  # intersection"
   ]
  },
  {
   "cell_type": "code",
   "execution_count": 201,
   "metadata": {},
   "outputs": [
    {
     "data": {
      "text/plain": [
       "{1, 2, 3, 4, 5, 9, 10}"
      ]
     },
     "execution_count": 201,
     "metadata": {},
     "output_type": "execute_result"
    }
   ],
   "source": [
    "set([1, 2, 3, 4]) | set([3, 4, 5, 9, 10])  # union"
   ]
  },
  {
   "cell_type": "code",
   "execution_count": 202,
   "metadata": {},
   "outputs": [
    {
     "name": "stdout",
     "output_type": "stream",
     "text": [
      "[32.0, 68.0, 77.0, 98.6, 212.0]\n"
     ]
    }
   ],
   "source": [
    "def cel_to_fah(cel):\n",
    "  return cel * 9/5 + 32\n",
    "\n",
    "\n",
    "temperatures = [0, 20, 25, 37, 100]\n",
    "converted = [cel_to_fah(cel) for cel in temperatures]\n",
    "print(converted)"
   ]
  },
  {
   "cell_type": "code",
   "execution_count": 221,
   "metadata": {},
   "outputs": [
    {
     "name": "stdout",
     "output_type": "stream",
     "text": [
      "[32.0, 68.0, 77.0, 98.6, 212.0]\n"
     ]
    }
   ],
   "source": [
    "# autopep8: off\n",
    "\n",
    "temperatures = [0, 20, 25, 37, 100]\n",
    "cel_to_fah = lambda cel: cel * 9/5 + 32\n",
    "converted = [cel_to_fah(cel) for cel in temperatures]\n",
    "print(converted)"
   ]
  },
  {
   "cell_type": "code",
   "execution_count": 218,
   "metadata": {},
   "outputs": [
    {
     "data": {
      "text/plain": [
       "212.0"
      ]
     },
     "execution_count": 218,
     "metadata": {},
     "output_type": "execute_result"
    }
   ],
   "source": [
    "# autopep8: off\n",
    "def cel_to_fah(cel): return cel * 9/5 + 32\n",
    "cel_to_fah(100)"
   ]
  },
  {
   "cell_type": "code",
   "execution_count": 219,
   "metadata": {},
   "outputs": [
    {
     "data": {
      "text/plain": [
       "212.0"
      ]
     },
     "execution_count": 219,
     "metadata": {},
     "output_type": "execute_result"
    }
   ],
   "source": [
    "# autopep8: off\n",
    "cel_to_fah = lambda cel: cel * 9/5 + 32\n",
    "cel_to_fah(100)"
   ]
  },
  {
   "cell_type": "code",
   "execution_count": 220,
   "metadata": {},
   "outputs": [],
   "source": [
    "# lambda param: what to return (must be a single expression)"
   ]
  },
  {
   "cell_type": "code",
   "execution_count": 29,
   "metadata": {},
   "outputs": [
    {
     "name": "stdout",
     "output_type": "stream",
     "text": [
      "30\n",
      "55\n",
      "100\n"
     ]
    }
   ],
   "source": [
    "# IITM provided sol code ☠️\n",
    "# AT FIRST GLANCE:\n",
    "# This is horrible code and it doesn't even work for a general list when finding peak\n",
    "# This can be used with some imposed restrictions (??) on list\n",
    "\n",
    "# AFTER DEEP OBSERVATION:\n",
    "# This code is valid for specific list inputs ✅\n",
    "# These are the observations that you've to find 👇\n",
    "\n",
    "# peak at corner\n",
    "# (peak) decr series;\n",
    "# eg. (30), 25, 12, 7, 5, 3\n",
    "\n",
    "# peak at corner\n",
    "# incr series (peak);\n",
    "# eg. 12, 16, 24, 29, 45, (55)\n",
    "\n",
    "# peak in middle\n",
    "# incr series (peak); decr series;\n",
    "# eg. 15, 17, 21, 25, 61, (100), 99, 65, 59, 1\n",
    "\n",
    "def findPeakUtil(arr, low, high, n):\n",
    "  mid = low + (high - low)/2\n",
    "  mid = int(mid)\n",
    "  if ((mid == 0 or arr[mid - 1] < arr[mid]) and (mid == n - 1 or arr[mid + 1] < arr[mid])):\n",
    "    return arr[mid]\n",
    "  elif (mid > 0 and arr[mid - 1] > arr[mid]):\n",
    "    return findPeakUtil(arr, low, (mid - 1), n)\n",
    "  else:\n",
    "    return findPeakUtil(arr, (mid + 1), high, n)\n",
    "\n",
    "\n",
    "def Findpeak(L):\n",
    "  n = len(L)\n",
    "  return findPeakUtil(L, 0, n-1, n)\n",
    "\n",
    "\n",
    "# print(Findpeak([5, 20, 4, (6), 11, 15, 17]))  # wrong answer (bcz invalid input 🤷) ☠️\n",
    "# print(Findpeak([15, 30, 9, (10), 17, 21, 28]))  # wrong answer (bcz invalid input 🤷) ☠️\n",
    "# print(Findpeak([30, 7, (9), 11, 24, 29]))  # wrong answer (bcz invalid input 🤷) ☠️\n",
    "\n",
    "print(Findpeak([(30), 25, 12, 7, 5, 3]))  # correct answer ✅\n",
    "print(Findpeak([12, 16, 24, 29, 45, (55)]))  # correct answer ✅\n",
    "print(Findpeak([15, 17, 21, 25, 61, (100), 99, 65, 59, 1]))  # correct answer ✅"
   ]
  },
  {
   "cell_type": "code",
   "execution_count": 27,
   "metadata": {},
   "outputs": [
    {
     "name": "stdout",
     "output_type": "stream",
     "text": [
      "30\n",
      "55\n",
      "100\n"
     ]
    }
   ],
   "source": [
    "def Findpeak(L):\n",
    "  low = 0\n",
    "  high = len(L)-1\n",
    "  while low <= high:\n",
    "    mid = (low+high)//2\n",
    "    # peak at corners\n",
    "    if mid == 0 or mid == len(L)-1:\n",
    "      return L[mid]\n",
    "\n",
    "    # peak at mid (mid-1 < mid > mid+1)\n",
    "    if L[mid-1] < L[mid] > L[mid+1]:\n",
    "      return L[mid]\n",
    "\n",
    "    # chose L/R (chose L if mid-1 > mid, else R)\n",
    "    if L[mid-1] > L[mid]:\n",
    "      high = mid-1\n",
    "    else:\n",
    "      low = mid+1\n",
    "\n",
    "\n",
    "# Findpeak([5, 10, 20, 15])\n",
    "# print(Findpeak([5, 20, 4, (6), 11, 15, 17]))  # wrong answer (bcz invalid input 🤷) ☠️\n",
    "# print(Findpeak([15, 30, 9, (10), 17, 21, 28]))  # wrong answer (bcz invalid input 🤷) ☠️\n",
    "# print(Findpeak([30, 7, (9), 11, 24, 29]))  # wrong answer (bcz invalid input 🤷) ☠️\n",
    "\n",
    "print(Findpeak([(30), 25, 12, 7, 5, 3]))  # correct answer ✅\n",
    "print(Findpeak([12, 16, 24, 29, 45, (55)]))  # correct answer ✅\n",
    "print(Findpeak([15, 17, 21, 25, 61, (100), 99, 65, 59, 1]))  # correct answer ✅"
   ]
  },
  {
   "cell_type": "code",
   "execution_count": 26,
   "metadata": {},
   "outputs": [],
   "source": [
    "# These are the observations that you've to find 👇\n",
    "\n",
    "# peak at corner\n",
    "# (peak) decr series;\n",
    "# eg. (30), 25, 12, 7, 5, 3\n",
    "\n",
    "# peak at corner\n",
    "# incr series (peak);\n",
    "# eg. 12, 16, 24, 29, 45, (55)\n",
    "\n",
    "# peak in middle\n",
    "# incr series (peak); decr series;\n",
    "# eg. 15, 17, 21, 25, 61, (100), 99, 65, 59, 1"
   ]
  },
  {
   "cell_type": "code",
   "execution_count": 33,
   "metadata": {},
   "outputs": [
    {
     "data": {
      "text/plain": [
       "[20, 21, 22, 23, 24]"
      ]
     },
     "execution_count": 33,
     "metadata": {},
     "output_type": "execute_result"
    }
   ],
   "source": [
    "def findCommonElements(l1, l2):  # O(N)\n",
    "  return list(set(l1) & set(l2))  # N + &(N) + N\n",
    "\n",
    "\n",
    "findCommonElements([23, 24, 18, 22, 20, 10, 17, 12, 16, 19, 21, 15, 14, 11, 13],\n",
    "                   [23, 22, 33, 24, 31, 21, 20, 26, 30, 29, 25, 27, 28, 34, 32])"
   ]
  },
  {
   "cell_type": "code",
   "execution_count": 38,
   "metadata": {},
   "outputs": [
    {
     "data": {
      "text/plain": [
       "[23, 24, 22, 20, 21]"
      ]
     },
     "execution_count": 38,
     "metadata": {},
     "output_type": "execute_result"
    }
   ],
   "source": [
    "def findCommonElements(l1, l2):  # O(N)\n",
    "  found1 = {}\n",
    "  found2 = {}\n",
    "\n",
    "  for num in l1:  # N\n",
    "    found1[num] = True\n",
    "\n",
    "  for num in l2:  # N\n",
    "    found2[num] = True\n",
    "\n",
    "  commons = []\n",
    "  for key in found1:  # N\n",
    "    if key in found2:  # 1\n",
    "      commons.append(key)  # 1\n",
    "\n",
    "  return commons\n",
    "\n",
    "\n",
    "findCommonElements([23, 24, 18, 22, 20, 10, 17, 12, 16, 19, 21, 15, 14, 11, 13],\n",
    "                   [23, 22, 33, 24, 31, 21, 20, 26, 30, 29, 25, 27, 28, 34, 32])"
   ]
  },
  {
   "cell_type": "code",
   "execution_count": 55,
   "metadata": {},
   "outputs": [
    {
     "data": {
      "text/plain": [
       "[23, 24, 22, 20, 21]"
      ]
     },
     "execution_count": 55,
     "metadata": {},
     "output_type": "execute_result"
    }
   ],
   "source": [
    "def findCommonElements(l1, l2):  # O(N^2)\n",
    "  commons = []\n",
    "  # O(N^2)\n",
    "  for num1 in l1:  # N\n",
    "    for num2 in l2:  # N (is num1 present in l2?)\n",
    "      if num1 == num2:\n",
    "        commons.append(num1)\n",
    "\n",
    "  return commons\n",
    "\n",
    "\n",
    "findCommonElements([23, 24, 18, 22, 20, 10, 17, 12, 16, 19, 21, 15, 14, 11, 13],\n",
    "                   [23, 22, 33, 24, 31, 21, 20, 26, 30, 29, 25, 27, 28, 34, 32])"
   ]
  },
  {
   "cell_type": "code",
   "execution_count": 53,
   "metadata": {},
   "outputs": [
    {
     "data": {
      "text/plain": [
       "[23, 24, 22, 20, 21]"
      ]
     },
     "execution_count": 53,
     "metadata": {},
     "output_type": "execute_result"
    }
   ],
   "source": [
    "def bs(lst, target):  # check is target is present in lst in O(logN) time\n",
    "  low = 0\n",
    "  high = len(lst)-1\n",
    "  while low <= high:\n",
    "    mid = (low+high)//2\n",
    "    if lst[mid] < target:\n",
    "      low = mid+1\n",
    "    elif lst[mid] > target:\n",
    "      high = mid-1\n",
    "    else:\n",
    "      return True\n",
    "  return False\n",
    "\n",
    "\n",
    "def findCommonElements(l1, l2):  # O(NlogN)\n",
    "  l2 = sorted(l2)  # NlogN\n",
    "  commons = []\n",
    "  # NlogN\n",
    "  for num in l1:  # N\n",
    "    if bs(l2, num):  # logN (is num present in l2?)\n",
    "      commons.append(num)\n",
    "  return commons\n",
    "\n",
    "\n",
    "findCommonElements([23, 24, 18, 22, 20, 10, 17, 12, 16, 19, 21, 15, 14, 11, 13],\n",
    "                   [23, 22, 33, 24, 31, 21, 20, 26, 30, 29, 25, 27, 28, 34, 32])"
   ]
  },
  {
   "cell_type": "code",
   "execution_count": 56,
   "metadata": {},
   "outputs": [],
   "source": [
    "# 1 (constant)\n",
    "# eg. 1000 > 1\n",
    "\n",
    "# logN (logarithmic)\n",
    "# eg. 1000 > 10\n",
    "\n",
    "# N (linear)\n",
    "# eg. 1000 > 1000\n",
    "\n",
    "# N * logN (linearithmic)\n",
    "# eg. 1000 > 1000 * 10\n",
    "\n",
    "# N^2 (squared, poly family)\n",
    "# eg. 1000 > 1000 * 1000\n",
    "\n",
    "# N^3 (cubic, poly family)\n",
    "# eg. 1000 > 1000 * 1000 * 1000\n",
    "\n",
    "# 2^N (exponential)\n",
    "# eg. 1000 > 2^1000\n",
    "\n",
    "# N! (factorial)\n",
    "# eg. 1000 > 1000! ~ 10^2567"
   ]
  },
  {
   "cell_type": "code",
   "execution_count": 87,
   "metadata": {},
   "outputs": [
    {
     "data": {
      "text/plain": [
       "([44, 69, 98, 103, 103, 150, 151, 194], 7)"
      ]
     },
     "execution_count": 87,
     "metadata": {},
     "output_type": "execute_result"
    },
    {
     "data": {
      "text/plain": [
       "([1, 2, 3, 5], 3)"
      ]
     },
     "execution_count": 87,
     "metadata": {},
     "output_type": "execute_result"
    },
    {
     "data": {
      "text/plain": [
       "([0, 1, 2, 3, 5], 5)"
      ]
     },
     "execution_count": 87,
     "metadata": {},
     "output_type": "execute_result"
    }
   ],
   "source": [
    "def merge(A, B):\n",
    "  m, n = len(A), len(B)\n",
    "  i, j = 0, 0\n",
    "  result = []\n",
    "\n",
    "  # pair-wise companions\n",
    "  while i < m and j < n:\n",
    "    if A[i] < B[j]:\n",
    "      result.append(A[i])\n",
    "      i += 1\n",
    "    else:\n",
    "      result.append(B[j])\n",
    "      j += 1\n",
    "\n",
    "  # add remaining elems\n",
    "  result += A[i:]\n",
    "  result += B[j:]\n",
    "\n",
    "  return result\n",
    "\n",
    "\n",
    "# print(merge([2, 5, 7, 16], [0, 1]))\n",
    "# print(merge([0, 6], [2, 5, 7, 8]))\n",
    "\n",
    "\n",
    "def merge_sort(L, count):  # 1 person\n",
    "  count += 1\n",
    "\n",
    "  n = len(L)\n",
    "  if n == 1:\n",
    "    return L, count\n",
    "  if n == 2:\n",
    "    return [min(L), max(L)], count\n",
    "\n",
    "  mid = n//2\n",
    "  left = L[:mid]\n",
    "  right = L[mid:]\n",
    "\n",
    "  left, count = merge_sort(left, count)  # 1st subordinate\n",
    "  right, count = merge_sort(right, count)  # 2nd subordinate\n",
    "  merged = merge(left, right)\n",
    "  return merged, count\n",
    "\n",
    "\n",
    "def subordinates(L):\n",
    "  return merge_sort(L, 0)  # just 1 line\n",
    "\n",
    "\n",
    "subordinates([194, 69, 103, 150, 151, 44, 103, 98])\n",
    "subordinates([1, 3, 5, 2])\n",
    "subordinates([3, 1, 2, 0, 5])"
   ]
  }
 ],
 "metadata": {
  "kernelspec": {
   "display_name": "Python 3",
   "language": "python",
   "name": "python3"
  },
  "language_info": {
   "codemirror_mode": {
    "name": "ipython",
    "version": 3
   },
   "file_extension": ".py",
   "mimetype": "text/x-python",
   "name": "python",
   "nbconvert_exporter": "python",
   "pygments_lexer": "ipython3",
   "version": "3.12.0"
  }
 },
 "nbformat": 4,
 "nbformat_minor": 2
}
