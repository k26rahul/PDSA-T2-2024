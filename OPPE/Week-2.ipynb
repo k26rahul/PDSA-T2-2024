{
 "cells": [
  {
   "cell_type": "code",
   "execution_count": 25,
   "metadata": {},
   "outputs": [
    {
     "name": "stdout",
     "output_type": "stream",
     "text": [
      "8\n",
      "8\n",
      "8\n",
      "8\n",
      "8\n"
     ]
    }
   ],
   "source": [
    "# external code (avoid this 💀)\n",
    "def findLargest(L):\n",
    "  low = 0\n",
    "  high = len(L)\n",
    "\n",
    "  while low < high:\n",
    "    mid = (low+high)//2\n",
    "    if L[mid] > L[low]:\n",
    "      low = mid  # go R\n",
    "    else:\n",
    "      high = mid  # go L\n",
    "  return L[low]\n",
    "\n",
    "\n",
    "print(findLargest([2, 4, 5, 7, 8]))\n",
    "print(findLargest([8, 2, 4, 5, 7]))\n",
    "print(findLargest([7, 8, 2, 4, 5]))\n",
    "print(findLargest([5, 7, 8, 2, 4]))\n",
    "print(findLargest([4, 5, 7, 8, 2]))"
   ]
  },
  {
   "cell_type": "code",
   "execution_count": 2,
   "metadata": {},
   "outputs": [
    {
     "name": "stdout",
     "output_type": "stream",
     "text": [
      "[10, 1, 2, 3, 4, 5, 6, 7, 8, 9] 10\n",
      "[9, 10, 1, 2, 3, 4, 5, 6, 7, 8] 10\n",
      "[8, 9, 10, 1, 2, 3, 4, 5, 6, 7] 10\n",
      "[7, 8, 9, 10, 1, 2, 3, 4, 5, 6] 10\n",
      "[6, 7, 8, 9, 10, 1, 2, 3, 4, 5] 10\n",
      "[5, 6, 7, 8, 9, 10, 1, 2, 3, 4] 10\n",
      "[4, 5, 6, 7, 8, 9, 10, 1, 2, 3] 10\n",
      "[3, 4, 5, 6, 7, 8, 9, 10, 1, 2] 10\n",
      "[2, 3, 4, 5, 6, 7, 8, 9, 10, 1] 10\n",
      "[1, 2, 3, 4, 5, 6, 7, 8, 9, 10] 10\n"
     ]
    }
   ],
   "source": [
    "# our own code, based on standard BS\n",
    "def findLargest(L):\n",
    "  low = 0\n",
    "  high = len(L)-1\n",
    "  while low <= high:\n",
    "    mid = (low+high)//2\n",
    "\n",
    "    # possibility 1: mid is max\n",
    "    if L[mid-1] < L[mid] > L[mid+1]:  # 5, 7, 8, 2, 4 👉 [7, 8, 2]\n",
    "      return L[mid]\n",
    "\n",
    "    # possibility 2: only two numbers in domain\n",
    "    if high - low == 1:  # 2, 4, 5, 7, 8 👉 [7, 8]\n",
    "      if L[low] > L[high]:\n",
    "        return L[low]\n",
    "      else:\n",
    "        return L[high]\n",
    "\n",
    "    # possibility 3: change dir (chose L/R)\n",
    "    if L[low] < L[mid]:\n",
    "      low = mid+1  # chose R\n",
    "    else:\n",
    "      high = mid-1  # chose L\n",
    "\n",
    "\n",
    "# primary test cases\n",
    "# print(findLargest([2, 4, 5, 7, 8]))\n",
    "# print(findLargest([8, 2, 4, 5, 7]))\n",
    "# print(findLargest([7, 8, 2, 4, 5]))\n",
    "# print(findLargest([5, 7, 8, 2, 4]))\n",
    "# print(findLargest([4, 5, 7, 8, 2]))\n",
    "\n",
    "# possibility 1: mid is max\n",
    "# possibility 2: only two numbers in domain\n",
    "# possibility 3: change dir (chose L/R)\n",
    "\n",
    "# ultimate test code\n",
    "n = 10\n",
    "L = list(range(1, n+1))\n",
    "for i in range(1, n+1):\n",
    "  test = L[n-i:] + L[:n-i]\n",
    "  print(test, findLargest(test))"
   ]
  },
  {
   "cell_type": "code",
   "execution_count": 7,
   "metadata": {},
   "outputs": [
    {
     "data": {
      "text/plain": [
       "99967"
      ]
     },
     "execution_count": 7,
     "metadata": {},
     "output_type": "execute_result"
    }
   ],
   "source": [
    "f = open('./input.txt')\n",
    "txt = f.read()\n",
    "\n",
    "findLargest(list(map(int, [x for x in txt.strip().split(',') if x])))"
   ]
  },
  {
   "cell_type": "code",
   "execution_count": 11,
   "metadata": {},
   "outputs": [
    {
     "data": {
      "text/plain": [
       "(True, 3)"
      ]
     },
     "execution_count": 11,
     "metadata": {},
     "output_type": "execute_result"
    }
   ],
   "source": [
    "def binarySearchIndexAndComparisons(L, v):\n",
    "  low = 0\n",
    "  high = len(L)-1\n",
    "  count = 0\n",
    "  while low <= high:\n",
    "    mid = (low+high)//2\n",
    "    count += 1\n",
    "    if L[mid] < v:\n",
    "      low = mid+1\n",
    "    elif L[mid] > v:\n",
    "      high = mid-1\n",
    "    else:  # L[mid] == v:\n",
    "      return (True, count)\n",
    "  return (False, count)\n",
    "\n",
    "\n",
    "binarySearchIndexAndComparisons([2, 6, 8, 11, 17, 23, 33, 44, 46, 50, 65], 11)"
   ]
  },
  {
   "cell_type": "code",
   "execution_count": 14,
   "metadata": {},
   "outputs": [
    {
     "name": "stdout",
     "output_type": "stream",
     "text": [
      "[0, 0, 0, 1, 1, 1, 1, 2, 2, 2, 2, 2, 3, 3]\n"
     ]
    }
   ],
   "source": [
    "# In function, no need to return any list, just sort input list `lst` in place.\n",
    "def sortInRange(lst, r):\n",
    "  lst.sort()\n",
    "\n",
    "\n",
    "lst = [2, 0, 1, 1, 2, 3, 0, 2, 1, 0, 2, 3, 1, 2]\n",
    "sortInRange(lst, 4)\n",
    "print(lst)"
   ]
  },
  {
   "cell_type": "code",
   "execution_count": 34,
   "metadata": {},
   "outputs": [
    {
     "name": "stdout",
     "output_type": "stream",
     "text": [
      "ans: None\n",
      "original list: [0, 0, 0, 1, 1, 1, 1, 2, 2, 2, 2, 2, 3, 3]\n"
     ]
    }
   ],
   "source": [
    "# In function, no need to return any list, just sort input list `lst` in place.\n",
    "def sortInRange(lst, r):\n",
    "  count = {}\n",
    "\n",
    "  for num in lst:  # n\n",
    "    if num not in count:\n",
    "      count[num] = 0\n",
    "    count[num] += 1\n",
    "\n",
    "  lst.clear()\n",
    "  for i in range(r):\n",
    "    lst += [i]*count[i]\n",
    "\n",
    "  # not in-place sorting ☠️\n",
    "  # my_list = []\n",
    "  # for i in range(r):\n",
    "    # my_list += [i]*count[i]\n",
    "  # return my_list\n",
    "\n",
    "\n",
    "lst = [2, 0, 1, 1, 2, 3, 0, 2, 1, 0, 2, 3, 1, 2]\n",
    "print(f'ans: {sortInRange(lst, 4)}')\n",
    "print(f'original list: {lst}')"
   ]
  },
  {
   "cell_type": "code",
   "execution_count": null,
   "metadata": {},
   "outputs": [],
   "source": [
    "# python built-in sort respects order of appearances of EQUAL elem (sort is stable)"
   ]
  },
  {
   "cell_type": "code",
   "execution_count": 49,
   "metadata": {},
   "outputs": [
    {
     "data": {
      "text/plain": [
       "(['b87', 'c65', 'd34', 'd12', 'd77', 'g54', 'g1', 'g40', 'g5'],\n",
       " ['b87', 'c65', 'd77', 'd34', 'd12', 'g54', 'g40', 'g5', 'g1'])"
      ]
     },
     "execution_count": 49,
     "metadata": {},
     "output_type": "execute_result"
    }
   ],
   "source": [
    "def combinationSort(L):\n",
    "  l1 = sorted(L, key=lambda string: string[0])\n",
    "  l2 = sorted(L, key=lambda string: int(string[1:]), reverse=True)\n",
    "  l2 = sorted(l2, key=lambda string: string[0])\n",
    "  return l1, l2\n",
    "\n",
    "\n",
    "combinationSort(['d34', 'g54', 'd12', 'b87', 'g1', 'c65', 'g40', 'g5', 'd77',])"
   ]
  },
  {
   "cell_type": "code",
   "execution_count": 52,
   "metadata": {},
   "outputs": [
    {
     "name": "stdout",
     "output_type": "stream",
     "text": [
      "8\n",
      "8\n",
      "8\n",
      "8\n",
      "8\n",
      "[10, 1, 2, 3, 4, 5, 6, 7, 8, 9] 10\n",
      "[9, 10, 1, 2, 3, 4, 5, 6, 7, 8] 10\n",
      "[8, 9, 10, 1, 2, 3, 4, 5, 6, 7] 10\n",
      "[7, 8, 9, 10, 1, 2, 3, 4, 5, 6] 10\n",
      "[6, 7, 8, 9, 10, 1, 2, 3, 4, 5] 10\n",
      "[5, 6, 7, 8, 9, 10, 1, 2, 3, 4] 10\n",
      "[4, 5, 6, 7, 8, 9, 10, 1, 2, 3] 10\n",
      "[3, 4, 5, 6, 7, 8, 9, 10, 1, 2] 10\n",
      "[2, 3, 4, 5, 6, 7, 8, 9, 10, 1] 10\n",
      "[1, 2, 3, 4, 5, 6, 7, 8, 9, 10] 10\n"
     ]
    }
   ],
   "source": [
    "def findLargest(L):\n",
    "  low = 0\n",
    "  high = len(L)-1\n",
    "  while low <= high:\n",
    "    mid = (low+high)//2\n",
    "\n",
    "    # mid is max\n",
    "    if L[mid-1] < L[mid] > L[mid+1]:\n",
    "      return L[mid]\n",
    "\n",
    "    # domain has only 2 elems\n",
    "    if high-low == 1:\n",
    "      if L[low] > L[high]:\n",
    "        return L[low]\n",
    "      else:\n",
    "        return L[high]\n",
    "\n",
    "    # chose L/R\n",
    "    if L[low] < L[mid]:\n",
    "      low = mid+1  # chose R\n",
    "    else:\n",
    "      high = mid-1  # chose L\n",
    "\n",
    "\n",
    "print(findLargest([2, 4, 5, 7, 8]))\n",
    "print(findLargest([8, 2, 4, 5, 7]))\n",
    "print(findLargest([7, 8, 2, 4, 5]))\n",
    "print(findLargest([5, 7, 8, 2, 4]))\n",
    "print(findLargest([4, 5, 7, 8, 2]))\n",
    "\n",
    "# ultimate test code\n",
    "n = 10\n",
    "L = list(range(1, n+1))\n",
    "for i in range(1, n+1):\n",
    "  test = L[n-i:] + L[:n-i]\n",
    "  print(test, findLargest(test))"
   ]
  },
  {
   "cell_type": "code",
   "execution_count": null,
   "metadata": {},
   "outputs": [],
   "source": [
    "# A\n",
    "# B\n",
    "# A, B (both together must be sorted)\n",
    "\n",
    "# swap(1st_index, source, 2nd_index)\n",
    "# A.swap(0, B, 5): A[0] <> B[5]\n",
    "# A.swap(0, A, 3): A[0] <> A[3]\n",
    "\n",
    "# before merge\n",
    "# A: 2 4 6 9 13 15\n",
    "# B: 1 3 5 10\n",
    "\n",
    "# after merge\n",
    "# A: 1 2 3 4 5 6\n",
    "# B: 9 10 13 15"
   ]
  },
  {
   "cell_type": "code",
   "execution_count": null,
   "metadata": {},
   "outputs": [],
   "source": [
    "# before merge\n",
    "# A: 2 4 6 9 13 15\n",
    "# B: 1 3 5 10"
   ]
  },
  {
   "cell_type": "code",
   "execution_count": 76,
   "metadata": {},
   "outputs": [
    {
     "name": "stdout",
     "output_type": "stream",
     "text": [
      "[1, 2, 3, 4, 5, 6]\n",
      "[9, 10, 13, 15]\n"
     ]
    }
   ],
   "source": [
    "def findMinIndex(lst):  # O(n)\n",
    "  # find index of min elem in lst\n",
    "  lst_min = lst[0]\n",
    "  lst_min_index = 0\n",
    "  for i in range(len(lst)):\n",
    "    if lst[i] < lst_min:\n",
    "      lst_min = lst[i]\n",
    "      lst_min_index = i\n",
    "  return lst_min_index\n",
    "\n",
    "\n",
    "def mergeInPlace(A, B):  # O(n^2)\n",
    "  # sort A list (ensure i-th pos is min of both A,B)\n",
    "  # O(n^2)\n",
    "  for i in range(len(A)):  # O(n)\n",
    "    b_min_index = findMinIndex(B)  # O(n)\n",
    "    if B[b_min_index] < A[i]:\n",
    "      A[i], B[b_min_index] = B[b_min_index], A[i]  # this won't work in IITM submission\n",
    "      # A.swap(i, B, b_min_index) 👈 do this on submission\n",
    "\n",
    "  # fix order in B list (standard bubble sort: why? bcz max value bubbles at right end)\n",
    "  # O(n^2)\n",
    "  for i in range(len(B)):\n",
    "    for j in range(i, len(B)-1):\n",
    "      if B[j] > B[j+1]:\n",
    "        B[j], B[j+1] = B[j+1], B[j]\n",
    "        # B.swap(j, B, j+1)\n",
    "\n",
    "\n",
    "A = [2, 4, 6, 9, 13, 15]\n",
    "B = [1, 3, 5, 10]\n",
    "mergeInPlace(A, B)\n",
    "\n",
    "print(A)\n",
    "print(B)"
   ]
  },
  {
   "cell_type": "code",
   "execution_count": 78,
   "metadata": {},
   "outputs": [
    {
     "data": {
      "text/plain": [
       "3"
      ]
     },
     "execution_count": 78,
     "metadata": {},
     "output_type": "execute_result"
    }
   ],
   "source": [
    "def find_min_number(lst):\n",
    "  lst_min = lst[0]\n",
    "  for num in lst:\n",
    "    if num < lst_min:\n",
    "      lst_min = num\n",
    "  return lst_min\n",
    "\n",
    "\n",
    "find_min_number([19, 17, 5, 15, 21, 3, 20])"
   ]
  },
  {
   "cell_type": "code",
   "execution_count": 79,
   "metadata": {},
   "outputs": [
    {
     "data": {
      "text/plain": [
       "0"
      ]
     },
     "execution_count": 79,
     "metadata": {},
     "output_type": "execute_result"
    }
   ],
   "source": [
    "def find_min_index(lst):\n",
    "  lst_min = lst[0]\n",
    "  lst_min_index = 0\n",
    "  for i in range(len(lst)):\n",
    "    if lst[i] < lst_min:\n",
    "      lst_min = lst[i]\n",
    "      lst_min_index = i\n",
    "  return lst_min_index\n",
    "\n",
    "\n",
    "find_min_index([3, 19, 17, 5, 15, 21, 13, 20])"
   ]
  }
 ],
 "metadata": {
  "kernelspec": {
   "display_name": "Python 3",
   "language": "python",
   "name": "python3"
  },
  "language_info": {
   "codemirror_mode": {
    "name": "ipython",
    "version": 3
   },
   "file_extension": ".py",
   "mimetype": "text/x-python",
   "name": "python",
   "nbconvert_exporter": "python",
   "pygments_lexer": "ipython3",
   "version": "3.12.0"
  }
 },
 "nbformat": 4,
 "nbformat_minor": 2
}
