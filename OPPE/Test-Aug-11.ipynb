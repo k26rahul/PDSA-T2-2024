{
 "cells": [
  {
   "cell_type": "markdown",
   "metadata": {},
   "source": [
    "**Problem 1**\n",
    "\n",
    "- Reverses the input string.\n",
    "\n",
    "- **Args:**\n",
    "  - `input_string` (str): The string to be reversed.\n",
    "\n",
    "- **Returns:**\n",
    "  - `str`: The reversed string."
   ]
  },
  {
   "cell_type": "code",
   "execution_count": null,
   "metadata": {},
   "outputs": [],
   "source": [
    "def reverse_string(input_string):\n",
    "  pass\n",
    "\n",
    "\n",
    "reverse_string(\"hello\")"
   ]
  },
  {
   "cell_type": "code",
   "execution_count": null,
   "metadata": {},
   "outputs": [],
   "source": [
    "# Test calls\n",
    "assert reverse_string(\"hello\") == \"olleh\"\n",
    "assert reverse_string(\"world\") == \"dlrow\"\n",
    "assert reverse_string(\"Python\") == \"nohtyP\"\n",
    "assert reverse_string(\"Vidhatri\") == \"irtahdiV\"\n",
    "\n",
    "print(\"All tests passed!\")"
   ]
  },
  {
   "cell_type": "markdown",
   "metadata": {},
   "source": [
    "**Problem 2**\n",
    "\n",
    "- Finds the second largest number in a list of numbers.\n",
    "\n",
    "- **Args:**\n",
    "  - `numbers` (list): The list of numbers.\n",
    "\n",
    "- **Returns:**\n",
    "  - `int`: The second largest number in the list.\n"
   ]
  },
  {
   "cell_type": "code",
   "execution_count": null,
   "metadata": {},
   "outputs": [],
   "source": [
    "def find_second_largest(numbers):\n",
    "  pass\n",
    "\n",
    "\n",
    "find_second_largest([1, 2, 3, 4, 5])"
   ]
  },
  {
   "cell_type": "code",
   "execution_count": null,
   "metadata": {},
   "outputs": [],
   "source": [
    "# Test calls\n",
    "assert find_second_largest([1, 2, 3, 4, 5]) == 4\n",
    "assert find_second_largest([5, 4, 3, 2, 1]) == 4\n",
    "assert find_second_largest([1, 1, 1, 1, 1]) == 1\n",
    "assert find_second_largest([2, 1, 3, 4, 2]) == 3\n",
    "assert find_second_largest([-1, -2, -3, -4, -5]) == -2\n",
    "\n",
    "print(\"All tests passed!\")"
   ]
  },
  {
   "cell_type": "markdown",
   "metadata": {},
   "source": [
    "**Problem 3**\n",
    "\n",
    "- Creates a dictionary with keys from 1 to the given integer and values as the square of the keys.\n",
    "\n",
    "- **Args:**\n",
    "  - `n` (int): The integer up to which the keys are created.\n",
    "\n",
    "- **Returns:**\n",
    "  - `dict`: A dictionary where each key is an integer from 1 to `n`, and each value is the square of the key.\n"
   ]
  },
  {
   "cell_type": "code",
   "execution_count": null,
   "metadata": {},
   "outputs": [],
   "source": [
    "def create_square_dict(n):\n",
    "  pass\n",
    "\n",
    "\n",
    "create_square_dict(5)"
   ]
  },
  {
   "cell_type": "code",
   "execution_count": null,
   "metadata": {},
   "outputs": [],
   "source": [
    "# Test calls\n",
    "assert create_square_dict(3) == {1: 1, 2: 4, 3: 9}\n",
    "assert create_square_dict(5) == {1: 1, 2: 4, 3: 9, 4: 16, 5: 25}\n",
    "assert create_square_dict(1) == {1: 1}\n",
    "assert create_square_dict(0) == {}\n",
    "assert create_square_dict(7) == {1: 1, 2: 4, 3: 9, 4: 16, 5: 25, 6: 36, 7: 49}\n",
    "\n",
    "print(\"All tests passed!\")"
   ]
  },
  {
   "cell_type": "markdown",
   "metadata": {},
   "source": [
    "**Problem 4**\n",
    "\n",
    "- Counts the frequency of each dish in a list and returns a dictionary with dish names as keys and their frequency as values.\n",
    "\n",
    "- **Args:**\n",
    "  - `dishes` (list): The list of dish names.\n",
    "\n",
    "- **Returns:**\n",
    "  - `dict`: A dictionary where each key is a dish name, and each value is the frequency of that dish in the list.\n"
   ]
  },
  {
   "cell_type": "code",
   "execution_count": null,
   "metadata": {},
   "outputs": [],
   "source": [
    "def count_dish_frequencies(dishes):\n",
    "  pass\n",
    "\n",
    "\n",
    "count_dish_frequencies(['chay', 'samosa', 'idli', 'dosa', 'samosa', 'idli', 'chay', 'chay'])"
   ]
  },
  {
   "cell_type": "code",
   "execution_count": null,
   "metadata": {},
   "outputs": [],
   "source": [
    "# Test calls\n",
    "assert count_dish_frequencies(['chay', 'samosa', 'idli', 'dosa', 'samosa', 'idli', 'chay', 'chay']) == {\n",
    "    'chay': 3, 'samosa': 2, 'idli': 2, 'dosa': 1}\n",
    "assert count_dish_frequencies(['dosa', 'dosa', 'idli', 'samosa']) == {'dosa': 2, 'idli': 1, 'samosa': 1}\n",
    "assert count_dish_frequencies(['idli']) == {'idli': 1}\n",
    "assert count_dish_frequencies([]) == {}\n",
    "assert count_dish_frequencies(['chay', 'chay', 'chay']) == {'chay': 3}\n",
    "\n",
    "print(\"All tests passed!\")"
   ]
  },
  {
   "cell_type": "markdown",
   "metadata": {},
   "source": [
    "**Problem 5**\n",
    "\n",
    "- Returns a list of unique dish names in decreasing order of their frequency from a given list of dishes.\n",
    "\n",
    "- **Args:**\n",
    "  - `dishes` (list): The list of dish names.\n",
    "\n",
    "- **Returns:**\n",
    "  - `list`: A list of unique dish names sorted by their frequency in decreasing order.\n"
   ]
  },
  {
   "cell_type": "code",
   "execution_count": null,
   "metadata": {},
   "outputs": [],
   "source": [
    "def get_unique_dishes_by_frequency(dishes):\n",
    "  pass\n",
    "\n",
    "\n",
    "get_unique_dishes_by_frequency(['chay', 'samosa', 'idli', 'dosa', 'samosa', 'idli', 'chay', 'chay'])"
   ]
  },
  {
   "cell_type": "code",
   "execution_count": null,
   "metadata": {},
   "outputs": [],
   "source": [
    "# Test calls\n",
    "assert get_unique_dishes_by_frequency(['chay', 'samosa', 'idli', 'dosa', 'samosa', 'idli', 'chay', 'chay']) == [\n",
    "    'chay', 'samosa', 'idli', 'dosa']\n",
    "assert get_unique_dishes_by_frequency(['dosa', 'dosa', 'idli', 'samosa']) == ['dosa', 'idli', 'samosa']\n",
    "assert get_unique_dishes_by_frequency(['idli']) == ['idli']\n",
    "assert get_unique_dishes_by_frequency([]) == []\n",
    "assert get_unique_dishes_by_frequency(['chay', 'chay', 'chay']) == ['chay']\n",
    "\n",
    "print(\"All tests passed!\")"
   ]
  },
  {
   "cell_type": "markdown",
   "metadata": {},
   "source": [
    "**Problem 7**\n",
    "\n",
    "- Sorts a list of tuples containing student names and their marks. The list should be sorted in descending order of marks. If marks are the same, sort by names in ascending order.\n",
    "\n",
    "- **Args:**\n",
    "  - `students` (list of tuples): A list where each tuple contains a student name (str) and their mark (int).\n",
    "\n",
    "- **Returns:**\n",
    "  - `list of tuples`: The list of tuples sorted first by marks in descending order and then by names in ascending order.\n"
   ]
  },
  {
   "cell_type": "code",
   "execution_count": null,
   "metadata": {},
   "outputs": [],
   "source": [
    "def sort_students_by_marks(students):\n",
    "  pass\n",
    "\n",
    "\n",
    "sort_students_by_marks([('rahul', 88), ('vidu', 95), ('muskan', 75), ('mageetha', 95),\n",
    "                       ('harikesh', 80), ('cmd', 80), ('vaishnvi', 88), ('vishnu', 75)])"
   ]
  },
  {
   "cell_type": "code",
   "execution_count": null,
   "metadata": {},
   "outputs": [],
   "source": [
    "# Test calls\n",
    "assert sort_students_by_marks([('rahul', 88), ('vidu', 95), ('muskan', 75), ('mageetha', 95),\n",
    "                               ('harikesh', 80), ('cmd', 80), ('vaishnvi', 88), ('vishnu', 75)]) == [\n",
    "    ('mageetha', 95),\n",
    "    ('vidu', 95),\n",
    "    ('rahul', 88),\n",
    "    ('vaishnvi', 88),\n",
    "    ('cmd', 80),\n",
    "    ('harikesh', 80),\n",
    "    ('muskan', 75),\n",
    "    ('vishnu', 75)\n",
    "]\n",
    "\n",
    "\n",
    "assert sort_students_by_marks([('cmd', 60), ('vidu', 85), ('vishnu', 85), ('rahul', 70)]) == [\n",
    "    ('vidu', 85), ('vishnu', 85), ('rahul', 70), ('cmd', 60)\n",
    "]\n",
    "\n",
    "assert sort_students_by_marks([('vaishnvi', 90), ('muskan', 70), ('mageetha', 85), ('harikesh', 70), ('rahul', 90)]) == [\n",
    "    ('rahul', 90),\n",
    "    ('vaishnvi', 90),\n",
    "    ('mageetha', 85),\n",
    "    ('harikesh', 70),\n",
    "    ('muskan', 70)\n",
    "]\n",
    "\n",
    "assert sort_students_by_marks([('vishnu', 100)]) == [('vishnu', 100)]\n",
    "\n",
    "print(\"All tests passed!\")"
   ]
  }
 ],
 "metadata": {
  "kernelspec": {
   "display_name": "Python 3",
   "language": "python",
   "name": "python3"
  },
  "language_info": {
   "codemirror_mode": {
    "name": "ipython",
    "version": 3
   },
   "file_extension": ".py",
   "mimetype": "text/x-python",
   "name": "python",
   "nbconvert_exporter": "python",
   "pygments_lexer": "ipython3",
   "version": "3.12.0"
  }
 },
 "nbformat": 4,
 "nbformat_minor": 2
}
