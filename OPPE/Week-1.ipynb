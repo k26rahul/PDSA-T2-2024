{
 "cells": [
  {
   "cell_type": "code",
   "execution_count": null,
   "metadata": {},
   "outputs": [],
   "source": [
    "# 10, 43\n",
    "\n",
    "# 11 13 17 19 23 29 31 37 41 43\n",
    "\n",
    "# 11 13\n",
    "# 17 19\n",
    "# 41 43"
   ]
  },
  {
   "cell_type": "code",
   "execution_count": null,
   "metadata": {},
   "outputs": [],
   "source": [
    "# 5%0"
   ]
  },
  {
   "cell_type": "code",
   "execution_count": null,
   "metadata": {},
   "outputs": [],
   "source": [
    "# 17\n",
    "# 1 2 3 4 ... 17\n",
    "# 1 2 3 4"
   ]
  },
  {
   "cell_type": "code",
   "execution_count": 32,
   "metadata": {},
   "outputs": [
    {
     "data": {
      "text/plain": [
       "False"
      ]
     },
     "execution_count": 32,
     "metadata": {},
     "output_type": "execute_result"
    }
   ],
   "source": [
    "def is_prime(n):\n",
    "  for i in range(2, int(n**0.5)+1):\n",
    "    if n % i == 0:\n",
    "      return False\n",
    "  return True\n",
    "\n",
    "\n",
    "is_prime(1849)"
   ]
  },
  {
   "cell_type": "code",
   "execution_count": 50,
   "metadata": {},
   "outputs": [
    {
     "data": {
      "text/plain": [
       "True"
      ]
     },
     "execution_count": 50,
     "metadata": {},
     "output_type": "execute_result"
    }
   ],
   "source": [
    "def twin_primes(n, m):\n",
    "  primes = []\n",
    "\n",
    "  for i in range(n, m+1):\n",
    "    if is_prime(i):\n",
    "      primes.append(i)\n",
    "\n",
    "  twins = []\n",
    "  for i in range(len(primes)-1):\n",
    "    if primes[i+1] - primes[i] == 2:\n",
    "      twins.append((primes[i], primes[i+1]))\n",
    "\n",
    "  return twins\n",
    "\n",
    "\n",
    "twin_primes(5, 50) == [(5, 7), (11, 13), (17, 19), (29, 31), (41, 43)]"
   ]
  },
  {
   "cell_type": "code",
   "execution_count": 60,
   "metadata": {},
   "outputs": [
    {
     "data": {
      "text/plain": [
       "35"
      ]
     },
     "execution_count": 60,
     "metadata": {},
     "output_type": "execute_result"
    }
   ],
   "source": [
    "def find_min_diff(L, P):\n",
    "  L = sorted(L)\n",
    "  min_diff = float('inf')\n",
    "\n",
    "  for i in range(len(L)-P+1):\n",
    "    group = L[i:i+P]\n",
    "    diff = group[-1] - group[0]  # grp max - grp min\n",
    "    if diff < min_diff:  # update if lesser\n",
    "      min_diff = diff\n",
    "\n",
    "  return min_diff\n",
    "\n",
    "\n",
    "find_min_diff([1, 4, 6, 39, 54, 36, 22, 12, 23, 29, 30, 65, 89, 123, 43, 68, 59, 48, 16, 134, 76, 90, 98, 65], 10)"
   ]
  }
 ],
 "metadata": {
  "kernelspec": {
   "display_name": "Python 3",
   "language": "python",
   "name": "python3"
  },
  "language_info": {
   "codemirror_mode": {
    "name": "ipython",
    "version": 3
   },
   "file_extension": ".py",
   "mimetype": "text/x-python",
   "name": "python",
   "nbconvert_exporter": "python",
   "pygments_lexer": "ipython3",
   "version": "3.12.0"
  }
 },
 "nbformat": 4,
 "nbformat_minor": 2
}
