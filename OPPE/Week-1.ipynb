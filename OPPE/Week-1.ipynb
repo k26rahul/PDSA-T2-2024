{
 "cells": [
  {
   "cell_type": "markdown",
   "metadata": {},
   "source": [
    "# 2024/08/06"
   ]
  },
  {
   "cell_type": "code",
   "execution_count": null,
   "metadata": {},
   "outputs": [],
   "source": [
    "# 10, 43\n",
    "\n",
    "# 11 13 17 19 23 29 31 37 41 43\n",
    "\n",
    "# 11 13\n",
    "# 17 19\n",
    "# 41 43"
   ]
  },
  {
   "cell_type": "code",
   "execution_count": null,
   "metadata": {},
   "outputs": [],
   "source": [
    "# 5%0"
   ]
  },
  {
   "cell_type": "code",
   "execution_count": null,
   "metadata": {},
   "outputs": [],
   "source": [
    "# 17\n",
    "# 1 2 3 4 ... 17\n",
    "# 1 2 3 4"
   ]
  },
  {
   "cell_type": "code",
   "execution_count": 32,
   "metadata": {},
   "outputs": [
    {
     "data": {
      "text/plain": [
       "False"
      ]
     },
     "execution_count": 32,
     "metadata": {},
     "output_type": "execute_result"
    }
   ],
   "source": [
    "def is_prime(n):\n",
    "  for i in range(2, int(n**0.5)+1):\n",
    "    if n % i == 0:\n",
    "      return False\n",
    "  return True\n",
    "\n",
    "\n",
    "is_prime(1849)"
   ]
  },
  {
   "cell_type": "code",
   "execution_count": 50,
   "metadata": {},
   "outputs": [
    {
     "data": {
      "text/plain": [
       "True"
      ]
     },
     "execution_count": 50,
     "metadata": {},
     "output_type": "execute_result"
    }
   ],
   "source": [
    "def twin_primes(n, m):\n",
    "  primes = []\n",
    "\n",
    "  for i in range(n, m+1):\n",
    "    if is_prime(i):\n",
    "      primes.append(i)\n",
    "\n",
    "  twins = []\n",
    "  for i in range(len(primes)-1):\n",
    "    if primes[i+1] - primes[i] == 2:\n",
    "      twins.append((primes[i], primes[i+1]))\n",
    "\n",
    "  return twins\n",
    "\n",
    "\n",
    "twin_primes(5, 50) == [(5, 7), (11, 13), (17, 19), (29, 31), (41, 43)]"
   ]
  },
  {
   "cell_type": "code",
   "execution_count": 60,
   "metadata": {},
   "outputs": [
    {
     "data": {
      "text/plain": [
       "35"
      ]
     },
     "execution_count": 60,
     "metadata": {},
     "output_type": "execute_result"
    }
   ],
   "source": [
    "def find_min_diff(L, P):\n",
    "  L = sorted(L)\n",
    "  min_diff = float('inf')\n",
    "\n",
    "  for i in range(len(L)-P+1):\n",
    "    group = L[i:i+P]\n",
    "    diff = group[-1] - group[0]  # grp max - grp min\n",
    "    if diff < min_diff:  # update if lesser\n",
    "      min_diff = diff\n",
    "\n",
    "  return min_diff\n",
    "\n",
    "\n",
    "find_min_diff([1, 4, 6, 39, 54, 36, 22, 12, 23, 29, 30, 65, 89, 123, 43, 68, 59, 48, 16, 134, 76, 90, 98, 65], 10)"
   ]
  },
  {
   "cell_type": "code",
   "execution_count": 8,
   "metadata": {},
   "outputs": [
    {
     "data": {
      "text/plain": [
       "True"
      ]
     },
     "execution_count": 8,
     "metadata": {},
     "output_type": "execute_result"
    },
    {
     "data": {
      "text/plain": [
       "False"
      ]
     },
     "execution_count": 8,
     "metadata": {},
     "output_type": "execute_result"
    }
   ],
   "source": [
    "def is_prime(n):\n",
    "  for i in range(2, int(n**0.5)+1):\n",
    "    if n % i == 0:\n",
    "      return False\n",
    "  return True\n",
    "\n",
    "\n",
    "# print(is_prime(2))\n",
    "# print(is_prime(7))\n",
    "# print(is_prime(8))\n",
    "\n",
    "def prime_product(m):\n",
    "  if m < 0:\n",
    "    return False\n",
    "  # m = i * (m/i), both primes\n",
    "  for i in range(2, m//2+1):\n",
    "    if m % i == 0 and is_prime(i) and is_prime(m/i):\n",
    "      return True\n",
    "  return False\n",
    "\n",
    "\n",
    "prime_product(10)\n",
    "prime_product(12)"
   ]
  },
  {
   "cell_type": "code",
   "execution_count": 19,
   "metadata": {},
   "outputs": [
    {
     "data": {
      "text/plain": [
       "'banana'"
      ]
     },
     "execution_count": 19,
     "metadata": {},
     "output_type": "execute_result"
    }
   ],
   "source": [
    "def del_char(string, c):\n",
    "  if len(c) > 1:\n",
    "    return string\n",
    "\n",
    "  result = ''\n",
    "  for char in string:\n",
    "    if char != c:\n",
    "      result += char\n",
    "  return result\n",
    "\n",
    "\n",
    "del_char('banana', 'ba')"
   ]
  },
  {
   "cell_type": "code",
   "execution_count": 23,
   "metadata": {},
   "outputs": [
    {
     "data": {
      "text/plain": [
       "[1, 0, 3, 2, 4, 6]"
      ]
     },
     "execution_count": 23,
     "metadata": {},
     "output_type": "execute_result"
    }
   ],
   "source": [
    "def shuffle(l1, l2):\n",
    "  result = []\n",
    "\n",
    "  n = min(len(l1), len(l2))\n",
    "  for i in range(n):\n",
    "    result.append(l1[i])\n",
    "    result.append(l2[i])\n",
    "\n",
    "  result += l1[n:]\n",
    "  result += l2[n:]\n",
    "\n",
    "  return result\n",
    "\n",
    "\n",
    "shuffle([1, 3], [0, 2, 4, 6])"
   ]
  },
  {
   "cell_type": "code",
   "execution_count": 26,
   "metadata": {},
   "outputs": [
    {
     "name": "stdout",
     "output_type": "stream",
     "text": [
      "8\n",
      "[1, 2, 5, 8, 9]\n"
     ]
    }
   ],
   "source": [
    "x = 5\n",
    "x += 3\n",
    "print(x)\n",
    "\n",
    "l1 = [1, 2]\n",
    "l1 += [5, 8, 9]\n",
    "print(l1)"
   ]
  },
  {
   "cell_type": "code",
   "execution_count": 37,
   "metadata": {},
   "outputs": [
    {
     "data": {
      "text/plain": [
       "False"
      ]
     },
     "execution_count": 37,
     "metadata": {},
     "output_type": "execute_result"
    }
   ],
   "source": [
    "def expanding(L):\n",
    "  last_diff = -1\n",
    "\n",
    "  for i in range(len(L)-1):\n",
    "    diff = abs(L[i] - L[i+1])\n",
    "    if diff <= last_diff:\n",
    "      return False\n",
    "    last_diff = diff\n",
    "    \n",
    "  return True\n",
    "\n",
    "\n",
    "expanding([1, 3, 7, 2, -3])"
   ]
  },
  {
   "cell_type": "code",
   "execution_count": 39,
   "metadata": {},
   "outputs": [
    {
     "data": {
      "text/plain": [
       "[35, 0]"
      ]
     },
     "execution_count": 39,
     "metadata": {},
     "output_type": "execute_result"
    }
   ],
   "source": [
    "def sumsquare(l):\n",
    "  odd_sum = 0\n",
    "  even_sum = 0\n",
    "\n",
    "  for num in l:\n",
    "    if num % 2 == 0:\n",
    "      even_sum += num**2\n",
    "    else:\n",
    "      odd_sum += num**2\n",
    "\n",
    "  return [odd_sum, even_sum]\n",
    "\n",
    "\n",
    "sumsquare([1, 3, 5])"
   ]
  },
  {
   "cell_type": "code",
   "execution_count": 63,
   "metadata": {},
   "outputs": [
    {
     "data": {
      "text/plain": [
       "[(11, 2), (12, 2), (7, 4), (13, 4), (14, 4)]"
      ]
     },
     "execution_count": 63,
     "metadata": {},
     "output_type": "execute_result"
    },
    {
     "data": {
      "text/plain": [
       "[(14, 1), (7, 2), (11, 2), (12, 2), (13, 2)]"
      ]
     },
     "execution_count": 63,
     "metadata": {},
     "output_type": "execute_result"
    }
   ],
   "source": [
    "def histogram(L):\n",
    "  # part 1: counting the freq\n",
    "  freq = {}\n",
    "  for num in L:\n",
    "    if num not in freq:  # num is key\n",
    "      freq[num] = 0  # init\n",
    "    freq[num] += 1  # incr\n",
    "\n",
    "  # part 2: form pairs\n",
    "  pairs = list(freq.items())  # key-value tuples\n",
    "\n",
    "  # part 3: do sorting\n",
    "  pairs.sort(key=lambda tup: (tup[1], tup[0]))\n",
    "  return pairs\n",
    "\n",
    "\n",
    "histogram([13, 7, 12, 7, 11, 13, 14, 13, 7, 11, 13, 14, 12, 14, 14, 7])\n",
    "histogram([7, 12, 11, 13, 7, 11, 13, 14, 12])"
   ]
  },
  {
   "cell_type": "code",
   "execution_count": null,
   "metadata": {},
   "outputs": [],
   "source": [
    "# lambda param: body as a single expression\n",
    "# var = expression"
   ]
  }
 ],
 "metadata": {
  "kernelspec": {
   "display_name": "Python 3",
   "language": "python",
   "name": "python3"
  },
  "language_info": {
   "codemirror_mode": {
    "name": "ipython",
    "version": 3
   },
   "file_extension": ".py",
   "mimetype": "text/x-python",
   "name": "python",
   "nbconvert_exporter": "python",
   "pygments_lexer": "ipython3",
   "version": "3.12.0"
  }
 },
 "nbformat": 4,
 "nbformat_minor": 2
}
