{
 "cells": [
  {
   "cell_type": "markdown",
   "metadata": {},
   "source": [
    "# 2024/08/08"
   ]
  },
  {
   "cell_type": "code",
   "execution_count": 17,
   "metadata": {},
   "outputs": [],
   "source": [
    "class Node:\n",
    "  def __init__(self, data):\n",
    "    self.data = data\n",
    "    self.next = None\n",
    "    self.prev = None\n",
    "\n",
    "  def __str__(self):\n",
    "    return f'Node: {self.data}'"
   ]
  },
  {
   "cell_type": "code",
   "execution_count": 43,
   "metadata": {},
   "outputs": [],
   "source": [
    "rahul = Node('rahul')\n",
    "vidu = Node('vidu')\n",
    "cmd = Node('cmd')\n",
    "harikesh = Node('harikesh')\n",
    "\n",
    "rahul.next = vidu\n",
    "vidu.prev = rahul\n",
    "\n",
    "vidu.next = cmd\n",
    "cmd.prev = vidu\n",
    "\n",
    "cmd.next = harikesh\n",
    "harikesh.prev = cmd\n",
    "\n",
    "head = rahul\n",
    "tail = harikesh"
   ]
  },
  {
   "cell_type": "code",
   "execution_count": 21,
   "metadata": {},
   "outputs": [],
   "source": [
    "# muskan = Node('muskan')\n",
    "\n",
    "# # insert at start\n",
    "# muskan.next = head\n",
    "# head.prev = muskan\n",
    "# head = muskan"
   ]
  },
  {
   "cell_type": "code",
   "execution_count": 27,
   "metadata": {},
   "outputs": [],
   "source": [
    "# muskan = Node('muskan')\n",
    "\n",
    "# # insert at end\n",
    "# tail.next = muskan\n",
    "# muskan.prev = tail\n",
    "# tail = muskan"
   ]
  },
  {
   "cell_type": "code",
   "execution_count": 36,
   "metadata": {},
   "outputs": [],
   "source": [
    "# # delete at start\n",
    "# head = head.next\n",
    "# head.prev = None"
   ]
  },
  {
   "cell_type": "code",
   "execution_count": 44,
   "metadata": {},
   "outputs": [],
   "source": [
    "# # delete at end\n",
    "# tail = tail.prev\n",
    "# tail.next = None"
   ]
  },
  {
   "cell_type": "code",
   "execution_count": 45,
   "metadata": {},
   "outputs": [
    {
     "name": "stdout",
     "output_type": "stream",
     "text": [
      "Node: rahul\n",
      "Node: vidu\n",
      "Node: cmd\n"
     ]
    }
   ],
   "source": [
    "curr = head\n",
    "while curr:\n",
    "  print(curr)\n",
    "  curr = curr.next"
   ]
  },
  {
   "cell_type": "code",
   "execution_count": 46,
   "metadata": {},
   "outputs": [
    {
     "name": "stdout",
     "output_type": "stream",
     "text": [
      "Node: cmd\n",
      "Node: vidu\n",
      "Node: rahul\n"
     ]
    }
   ],
   "source": [
    "curr = tail\n",
    "while curr:\n",
    "  print(curr)\n",
    "  curr = curr.prev"
   ]
  },
  {
   "cell_type": "code",
   "execution_count": 119,
   "metadata": {},
   "outputs": [
    {
     "name": "stdout",
     "output_type": "stream",
     "text": [
      "['rahul', 'vidu', 'cmd', 'harikesh']\n"
     ]
    }
   ],
   "source": [
    "class LL:\n",
    "  def __init__(self):\n",
    "    self.head = None\n",
    "    self.tail = None\n",
    "\n",
    "  def is_empty(self):\n",
    "    return self.head == None\n",
    "\n",
    "  def insert_start(self, data):\n",
    "    node = Node(data)\n",
    "    if self.is_empty():\n",
    "      self.head = node\n",
    "      self.tail = node\n",
    "    else:\n",
    "      node.next = self.head\n",
    "      self.head.prev = node\n",
    "      self.head = node\n",
    "\n",
    "  def insert_end(self, data):\n",
    "    node = Node(data)\n",
    "    if self.is_empty():\n",
    "      self.head = node\n",
    "      self.tail = node\n",
    "    else:\n",
    "      node.prev = self.tail\n",
    "      self.tail.next = node\n",
    "      self.tail = node\n",
    "\n",
    "  def delete_start(self):\n",
    "    # empty\n",
    "    if self.is_empty():\n",
    "      return\n",
    "    # 1 elem\n",
    "    if self.head == self.tail:\n",
    "      self.head = None\n",
    "      self.tail = None\n",
    "    else:  # at least 2 elems\n",
    "      self.head = self.head.next\n",
    "      self.head.prev = None\n",
    "\n",
    "  def delete_end(self):\n",
    "    # empty\n",
    "    if self.is_empty():\n",
    "      return\n",
    "    # 1 elem\n",
    "    if self.head == self.tail:\n",
    "      self.head = None\n",
    "      self.tail = None\n",
    "    else:  # at least 2 elems\n",
    "      self.tail = self.tail.prev\n",
    "      self.tail.next = None\n",
    "\n",
    "  def __str__(self):\n",
    "    output = []\n",
    "    curr = self.head\n",
    "    while curr:\n",
    "      output.append(curr.data)\n",
    "      curr = curr.next\n",
    "    return str(output)\n",
    "\n",
    "\n",
    "chain = LL()\n",
    "chain.insert_start('rahul')\n",
    "chain.insert_end('vidu')\n",
    "chain.insert_end('cmd')\n",
    "chain.insert_end('harikesh')\n",
    "print(chain)"
   ]
  },
  {
   "cell_type": "code",
   "execution_count": 177,
   "metadata": {},
   "outputs": [
    {
     "name": "stdout",
     "output_type": "stream",
     "text": [
      "[0, 1, 2, 3, 4, 5, 6, 7, 8, 9, 10, 11, 12, 13, 14, 15, 16, 17, 18, 19, 20, 21, 22, 23, 24, 25, 26, 27, 28, 29, 30, 31, 32, 33, 34, 35, 36, 37, 38, 39]\n",
      "[39, 38, 37, 36, 35, 34, 33, 32, 31, 30, 29, 28, 27, 26, 25, 24, 23, 22, 21, 20, 19, 18, 17, 16, 15, 14, 13, 12, 11, 10, 9, 8, 7, 6, 5, 4, 3, 2, 1, 0]\n"
     ]
    }
   ],
   "source": [
    "class Node:\n",
    "  def __init__(self, data):\n",
    "    self.data = data\n",
    "    self.next = None\n",
    "    self.prev = None\n",
    "\n",
    "  def __str__(self):\n",
    "    return f'Node: {self.data}'\n",
    "\n",
    "\n",
    "class doubly_linked_list:\n",
    "  def __init__(self):\n",
    "    self.head = None\n",
    "    self.last = None\n",
    "\n",
    "  def is_empty(self):\n",
    "    return self.head == None\n",
    "\n",
    "  def insert_end(self, data):\n",
    "    node = Node(data)\n",
    "    if self.is_empty():\n",
    "      self.head = node\n",
    "      self.last = node\n",
    "    else:\n",
    "      self.last.next = node\n",
    "      node.prev = self.last\n",
    "      self.last = node\n",
    "\n",
    "  def delete_end(self):\n",
    "    # empty\n",
    "    if self.is_empty():\n",
    "      return\n",
    "    # 1 elem\n",
    "    if self.head == self.last:\n",
    "      self.head = None\n",
    "      self.last = None\n",
    "    else:  # at least 2 elems\n",
    "      self.last = self.last.prev\n",
    "      self.last.next = None\n",
    "\n",
    "  def traverse_lr(self):\n",
    "    output = []\n",
    "    curr = self.head\n",
    "    while curr:\n",
    "      output.append(curr.data)\n",
    "      curr = curr.next\n",
    "    return str(output)\n",
    "\n",
    "  def traverse_rl(self):\n",
    "    output = []\n",
    "    curr = self.last\n",
    "    while curr:\n",
    "      output.append(curr.data)\n",
    "      curr = curr.prev\n",
    "    return str(output)\n",
    "\n",
    "\n",
    "chain = doubly_linked_list()\n",
    "# chain.insert_end('rahul')\n",
    "# chain.insert_end('vidu')\n",
    "# chain.insert_end('cmd')\n",
    "# chain.insert_end('vaish')\n",
    "for x in [0, 1, 2, 3, 4, 5, 6, 7, 8, 9, 10, 11, 12, 13, 14, 15, 16, 17, 18, 19, 20, 21, 22, 23, 24, 25, 26, 27, 28, 29, 30, 31, 32, 33, 34, 35, 36, 37, 38, 39, 40, 41, 42, 43, 44, 45, 46, 47, 48, 49, 50, 51, 52, 53, 54, 55, 56, 57, 58, 59, 60, 61, 62, 63, 64, 65, 66, 67, 68, 69, 70, 71, 72, 73, 74, 75, 76, 77, 78, 79, 80, 81, 82, 83, 84, 85, 86, 87, 88, 89, 90, 91, 92, 93, 94, 95, 96, 97, 98, 99]:\n",
    "  chain.insert_end(x)\n",
    "for i in range(60):\n",
    "  chain.delete_end()\n",
    "print(chain.traverse_lr())\n",
    "print(chain.traverse_rl())"
   ]
  },
  {
   "cell_type": "code",
   "execution_count": 14,
   "metadata": {},
   "outputs": [
    {
     "data": {
      "text/plain": [
       "4"
      ]
     },
     "execution_count": 14,
     "metadata": {},
     "output_type": "execute_result"
    },
    {
     "data": {
      "text/plain": [
       "{1872615521: 10, 8177261622: 7}"
      ]
     },
     "execution_count": 14,
     "metadata": {},
     "output_type": "execute_result"
    }
   ],
   "source": [
    "marks = {\n",
    "    'rahul': 100,\n",
    "    'vidu': 90,\n",
    "    'cmd': 50\n",
    "}\n",
    "\n",
    "freq = {\n",
    "    1872615521: 4,\n",
    "    8177261622: 7,\n",
    "}\n",
    "\n",
    "freq[1872615521]  # get\n",
    "freq[1872615521] = 10  # set\n",
    "freq"
   ]
  },
  {
   "cell_type": "code",
   "execution_count": 22,
   "metadata": {},
   "outputs": [
    {
     "data": {
      "text/plain": [
       "5"
      ]
     },
     "execution_count": 22,
     "metadata": {},
     "output_type": "execute_result"
    },
    {
     "data": {
      "text/plain": [
       "6"
      ]
     },
     "execution_count": 22,
     "metadata": {},
     "output_type": "execute_result"
    },
    {
     "data": {
      "text/plain": [
       "0"
      ]
     },
     "execution_count": 22,
     "metadata": {},
     "output_type": "execute_result"
    },
    {
     "data": {
      "text/plain": [
       "1"
      ]
     },
     "execution_count": 22,
     "metadata": {},
     "output_type": "execute_result"
    }
   ],
   "source": [
    "16266 % 7\n",
    "16267 % 7\n",
    "16268 % 7\n",
    "16269 % 7"
   ]
  },
  {
   "cell_type": "code",
   "execution_count": 23,
   "metadata": {},
   "outputs": [
    {
     "name": "stdout",
     "output_type": "stream",
     "text": [
      "[42, 48, None, None, None, 90, 35]\n"
     ]
    }
   ],
   "source": [
    "m = 7  # capacity\n",
    "storage = [None]*m\n",
    "\n",
    "# index=0 to index=6\n",
    "storage[5] = 90\n",
    "storage[6] = 35\n",
    "storage[0] = 42\n",
    "storage[1] = 48\n",
    "\n",
    "print(storage)"
   ]
  },
  {
   "cell_type": "code",
   "execution_count": 46,
   "metadata": {},
   "outputs": [
    {
     "name": "stdout",
     "output_type": "stream",
     "text": [
      "set: index=2, key=9, value=95\n",
      "set: index=0, key=16, value=45\n",
      "set: index=1, key=23, value=50\n",
      "set: index=3, key=30, value=26\n",
      "set: index=4, key=37, value=26\n",
      "set: index=5, key=44, value=26\n",
      "set: index=6, key=51, value=26\n",
      "[45, 50, 95, 26, 26, 26, 26]\n"
     ]
    }
   ],
   "source": [
    "class HashTable:\n",
    "  def __init__(self, capacity):\n",
    "    self.m = capacity\n",
    "    self.c1 = 1\n",
    "    self.c2 = 1\n",
    "    self.storage = [None]*capacity\n",
    "\n",
    "  def h(self, k):\n",
    "    return k % self.m\n",
    "\n",
    "  def linear_probing(self, key):\n",
    "    index = self.h(key)\n",
    "    # found empty slot\n",
    "    if self.storage[index] == None:\n",
    "      return index\n",
    "    # search for next empty slot\n",
    "    for i in range(self.m):\n",
    "      if self.storage[i] == None:\n",
    "        return i\n",
    "    raise Exception('storage is full')\n",
    "\n",
    "  def h_quad(self, k, i):\n",
    "    return (self.h(k) + self.c1*i + self.c2*i*i) % m\n",
    "\n",
    "  def quadratic_probing(self, key):\n",
    "    index = self.h(key)\n",
    "    # found empty slot\n",
    "    if self.storage[index] == None:\n",
    "      return index\n",
    "    # search for next empty slot\n",
    "    for i in range(self.m):\n",
    "      index = self.h_quad(key, i)\n",
    "      if self.storage[index] == None:\n",
    "        return index\n",
    "    raise Exception('storage is full')\n",
    "\n",
    "  def set(self, key, value):\n",
    "    index = self.linear_probing(key)\n",
    "    print(f'set: {index=}, {key=}, {value=}')\n",
    "    self.storage[index] = value\n",
    "\n",
    "\n",
    "ht = HashTable(7)\n",
    "ht.set(9, 95)\n",
    "ht.set(16, 45)\n",
    "ht.set(23, 50)\n",
    "ht.set(30, 26)\n",
    "ht.set(37, 26)\n",
    "ht.set(44, 26)\n",
    "ht.set(51, 26)\n",
    "# ht.set(58, 26)\n",
    "\n",
    "print(ht.storage)"
   ]
  },
  {
   "cell_type": "code",
   "execution_count": 69,
   "metadata": {},
   "outputs": [
    {
     "name": "stdout",
     "output_type": "stream",
     "text": [
      "Hash table is full\n"
     ]
    },
    {
     "data": {
      "text/plain": [
       "[11, 12, 13, 14, 15, 16, 17, 18, 19, 20, 10]"
      ]
     },
     "execution_count": 69,
     "metadata": {},
     "output_type": "execute_result"
    }
   ],
   "source": [
    "class Hashing:\n",
    "  def __init__(self, c1, c2, m):\n",
    "    self.hashtable = []\n",
    "    for i in range(m):\n",
    "      self.hashtable.append(None)\n",
    "    self.c1 = c1\n",
    "    self.c2 = c2\n",
    "    self.m = m\n",
    "\n",
    "  def h(self, k):\n",
    "    return k % self.m\n",
    "\n",
    "  def h_quad(self, k, i):\n",
    "    return (self.h(k) + self.c1*i + self.c2*i*i) % self.m\n",
    "\n",
    "  def quad_probing(self, key):\n",
    "    index = self.h(key)\n",
    "    # empty slot found, probing not required\n",
    "    if self.hashtable[index] == None:\n",
    "      return index\n",
    "    # do probing, check next empty slot\n",
    "    for i in range(self.m):\n",
    "      index = self.h_quad(key, i)\n",
    "      if self.hashtable[index] == None:\n",
    "        return index\n",
    "    # no slots avail\n",
    "    return False\n",
    "\n",
    "  def store_data(self, key):\n",
    "    index = self.quad_probing(key)\n",
    "    if index is False:\n",
    "      print('Hash table is full')\n",
    "      return\n",
    "    self.hashtable[index] = key\n",
    "\n",
    "  def display_hashtable(self):\n",
    "    return self.hashtable\n",
    "\n",
    "\n",
    "ht = Hashing(1, 2, 11)\n",
    "for x in [10, 11, 12, 13, 14, 15, 16, 17, 18, 19, 20, 21]:\n",
    "  ht.store_data(x)\n",
    "ht.display_hashtable()"
   ]
  },
  {
   "cell_type": "code",
   "execution_count": 9,
   "metadata": {},
   "outputs": [
    {
     "name": "stdout",
     "output_type": "stream",
     "text": [
      "[1, 2, 3, 4, 5]\n",
      "[5, 4, 3, 2, 1]\n"
     ]
    }
   ],
   "source": [
    "class Node:\n",
    "  def __init__(self, data):\n",
    "    self.data = data\n",
    "    self.next = None\n",
    "    self.prev = None\n",
    "\n",
    "\n",
    "class doubly_linked_list:\n",
    "  def __init__(self):\n",
    "    self.head = None\n",
    "    self.last = None\n",
    "\n",
    "  def is_empty(self):\n",
    "    return self.head == None\n",
    "\n",
    "  def insert_end(self, data):\n",
    "    node = Node(data)\n",
    "    if self.is_empty():\n",
    "      self.head = node\n",
    "      self.last = node\n",
    "    else:\n",
    "      self.last.next = node\n",
    "      node.prev = self.last\n",
    "      self.last = node\n",
    "\n",
    "  def delete_end(self):\n",
    "    if self.is_empty():\n",
    "      return\n",
    "    if self.head == self.last:\n",
    "      self.head = None\n",
    "      self.last = None\n",
    "    else:\n",
    "      self.last = self.last.prev\n",
    "      self.last.next = None\n",
    "\n",
    "  def traverse_lr(self):\n",
    "    output = []\n",
    "    curr = self.head\n",
    "    while curr:\n",
    "      output.append(curr.data)\n",
    "      curr = curr.next\n",
    "    return output\n",
    "\n",
    "  def traverse_rl(self):\n",
    "    output = []\n",
    "    curr = self.last\n",
    "    while curr:\n",
    "      output.append(curr.data)\n",
    "      curr = curr.prev\n",
    "    return output\n",
    "\n",
    "\n",
    "chain = doubly_linked_list()\n",
    "# chain.insert_end('rahul')\n",
    "# chain.insert_end('vidu')\n",
    "# chain.insert_end('cmd')\n",
    "# chain.insert_end('harikesh')\n",
    "# chain.delete_end()\n",
    "# chain.traverse_lr()\n",
    "# chain.traverse_rl()\n",
    "\n",
    "for x in [1, 2, 3, 4, 5, 6, 7, 8, 9, 10]:\n",
    "  chain.insert_end(x)\n",
    "for i in range(5):\n",
    "  chain.delete_end()\n",
    "\n",
    "print(chain.traverse_lr())\n",
    "print(chain.traverse_rl())"
   ]
  },
  {
   "cell_type": "code",
   "execution_count": 21,
   "metadata": {},
   "outputs": [
    {
     "name": "stdout",
     "output_type": "stream",
     "text": [
      "7\n",
      "4\n",
      "12\n",
      "7\n",
      "0\n",
      "1\n",
      "3\n",
      "4\n"
     ]
    }
   ],
   "source": [
    "def h(k):\n",
    "  m = 15\n",
    "  return k % m\n",
    "\n",
    "# m addresses are available\n",
    "# m = 15\n",
    "# 0, 1, 2, 3, 4, 5, 6, 7, 8, 9, 10, 11, 12, 13, 14\n",
    "\n",
    "\n",
    "print(h(456262))  # address 7 ✅\n",
    "print(h(456214))  # address 4 ✅\n",
    "print(h(456132))  # address 12 ✅\n",
    "print(h(456277))  # address 0 ✅\n",
    "print(h(1500))  # address 1 ✅\n",
    "print(h(1501))  # address 2 ✅\n",
    "print(h(1503))  # address 3 ✅\n",
    "print(h(1504))  # address 5 ✅"
   ]
  },
  {
   "cell_type": "code",
   "execution_count": 33,
   "metadata": {},
   "outputs": [
    {
     "name": "stdout",
     "output_type": "stream",
     "text": [
      "7\n",
      "14\n",
      "21\n",
      "28\n"
     ]
    }
   ],
   "source": [
    "def h(k):\n",
    "  m = 50\n",
    "  return k % m\n",
    "\n",
    "\n",
    "# 0, 1, 2, 3, 4, 5, 6\n",
    "\n",
    "print(h(7))  # ✅\n",
    "print(h(14))  # ✅\n",
    "print(h(21))  # ✅\n",
    "print(h(28))  # ✅"
   ]
  },
  {
   "cell_type": "code",
   "execution_count": 36,
   "metadata": {},
   "outputs": [
    {
     "name": "stdout",
     "output_type": "stream",
     "text": [
      "7000\n",
      "7007\n",
      "7014\n",
      "7021\n"
     ]
    }
   ],
   "source": [
    "def h(k):\n",
    "  m = 7050\n",
    "  return k % m\n",
    "\n",
    "\n",
    "# 0, 1, 2, 3, 4, 5, 6\n",
    "\n",
    "print(h(7000))  # ✅\n",
    "print(h(7007))  # ✅\n",
    "print(h(7014))  # ✅\n",
    "print(h(7021))  # ✅"
   ]
  },
  {
   "cell_type": "code",
   "execution_count": 38,
   "metadata": {},
   "outputs": [
    {
     "name": "stdout",
     "output_type": "stream",
     "text": [
      "0\n",
      "0\n",
      "0\n",
      "0\n",
      "0\n",
      "0\n",
      "0\n"
     ]
    }
   ],
   "source": [
    "def h(k):\n",
    "  m = 15\n",
    "  return k % m\n",
    "\n",
    "# m addresses are available\n",
    "# m = 15\n",
    "# 0, 1, 2, 3, 4, 5, 6, 7, 8, 9, 10, 11, 12, 13, 14\n",
    "\n",
    "\n",
    "print(h(15))  # ✅\n",
    "print(h(30))  # 💥\n",
    "print(h(45))  # 💥\n",
    "print(h(60))  # 💥\n",
    "print(h(75))  # 💥\n",
    "print(h(90))  # 💥\n",
    "print(h(105))  # 💥"
   ]
  },
  {
   "cell_type": "code",
   "execution_count": 42,
   "metadata": {},
   "outputs": [],
   "source": [
    "# 0, 1, 2, 3, 4, 5, 6, 7, 8, 9, 10, 11, 12, 13, 14\n",
    "# LP attempt #0:   at index  0\n",
    "# LP attempt #1:   at index  1\n",
    "# LP attempt #2:   at index  2\n",
    "# LP attempt #3:   at index  3\n",
    "# LP attempt #4:   at index  4\n",
    "# LP attempt #5:   at index  5\n",
    "# LP attempt #6:   at index  6\n",
    "# LP attempt #7:   at index  7\n",
    "# LP attempt #8:   at index  8\n",
    "# LP attempt #9:   at index  9\n",
    "# LP attempt #10:  at index 10\n",
    "# LP attempt #11:  at index 11\n",
    "# LP attempt #12:  at index 12\n",
    "# LP attempt #13:  at index 13\n",
    "# LP attempt #14:  at index 14"
   ]
  },
  {
   "cell_type": "code",
   "execution_count": 45,
   "metadata": {},
   "outputs": [],
   "source": [
    "# c1, c2 = 1, 1\n",
    "# [h(k) + i + i^2] % m\n",
    "\n",
    "# 0, 1, 2, 3, 4, 5, 6, 7, 8, 9, 10, 11, 12, 13, 14\n",
    "# QP attempt #0:   at index  0 + 0 + 0 = 0\n",
    "# QP attempt #1:   at index  0 + 1 + 1 = 2\n",
    "# QP attempt #2:   at index  0 + 2 + 4 = 6\n",
    "# QP attempt #3:   at index  0 + 3 + 9 = 12\n",
    "# QP attempt #4:   at index  0 + 4 + 16 = 5\n",
    "# QP attempt #5:   at index  0 + 5 + 5^2 = 0\n",
    "# QP attempt #6:   at index  0 + 6 + 6^2 = 12\n",
    "# QP attempt #7:   at index  0 + 7 + 7^2 = 11\n",
    "# QP attempt #8:   at index  0 + 8 + 8^2 = 12\n",
    "# QP attempt #9:   at index  0 + 9 + 9^2 = 0\n",
    "# QP attempt #10:  at index  0 + 10 + 10^2 = 5\n",
    "# QP attempt #11:  at index  0 + 11 + 11^2 = 12\n",
    "# QP attempt #12:  at index  0 + 12 + 12^2 = 6\n",
    "# QP attempt #13:  at index  0 + 13 + 13^2 = 2\n",
    "# QP attempt #14:  at index  0 + 14 + 14^2 = 0"
   ]
  },
  {
   "cell_type": "code",
   "execution_count": 44,
   "metadata": {},
   "outputs": [
    {
     "name": "stdout",
     "output_type": "stream",
     "text": [
      "0\n",
      "2\n",
      "6\n",
      "12\n",
      "5\n",
      "0\n",
      "12\n",
      "11\n",
      "12\n",
      "0\n",
      "5\n",
      "12\n",
      "6\n",
      "2\n",
      "0\n"
     ]
    }
   ],
   "source": [
    "print((0 + 0) % 15)\n",
    "print((1 + 1) % 15)\n",
    "print((2 + 4) % 15)\n",
    "print((3 + 9) % 15)\n",
    "print((4 + 16) % 15)\n",
    "print((5 + 5**2) % 15)\n",
    "print((6 + 6**2) % 15)\n",
    "print((7 + 7**2) % 15)\n",
    "print((8 + 8**2) % 15)\n",
    "print((9 + 9**2) % 15)\n",
    "print((10 + 10**2) % 15)\n",
    "print((11 + 11**2) % 15)\n",
    "print((12 + 12**2) % 15)\n",
    "print((13 + 13**2) % 15)\n",
    "print((14 + 14**2) % 15)"
   ]
  },
  {
   "attachments": {
    "image.png": {
     "image/png": "[encoded data removed]"
    }
   },
   "cell_type": "markdown",
   "metadata": {},
   "source": [
    "![image.png](attachment:image.png)"
   ]
  },
  {
   "cell_type": "code",
   "execution_count": 72,
   "metadata": {},
   "outputs": [
    {
     "name": "stdout",
     "output_type": "stream",
     "text": [
      "Hash table is full\n",
      "[11, 12, 13, 14, 15, 16, 17, 18, 19, 20, 10]\n"
     ]
    }
   ],
   "source": [
    "class Hashing:\n",
    "  def __init__(self, c1, c2, m):\n",
    "    self.hashtable = []\n",
    "    for i in range(m):\n",
    "      self.hashtable.append(None)\n",
    "    self.c1 = c1\n",
    "    self.c2 = c2\n",
    "    self.m = m\n",
    "\n",
    "  def h(self, k):\n",
    "    return k % self.m\n",
    "\n",
    "  def h_quad(self, k, i):\n",
    "    return (self.h(k) + self.c1*i + self.c2*i*i) % m\n",
    "\n",
    "  def qp(self, data):\n",
    "    # do we even need probing?\n",
    "    index = self.h(data)\n",
    "    if self.hashtable[index] == None:\n",
    "      return index\n",
    "\n",
    "    # yes, now we do probing\n",
    "    for i in range(self.m):\n",
    "      index = self.h_quad(data, i)  # QP for ith attempt\n",
    "      if self.hashtable[index] == None:\n",
    "        return index\n",
    "    return None  # no empty slots found\n",
    "\n",
    "  def store_data(self, data):\n",
    "    index = self.qp(data)\n",
    "    if index == None:\n",
    "      print('Hash table is full')\n",
    "      return\n",
    "    self.hashtable[index] = data\n",
    "\n",
    "  def display_hashtable(self):\n",
    "    return self.hashtable\n",
    "\n",
    "\n",
    "# ht = Hashing(1, 1, 11)\n",
    "# ht.store_data(22)\n",
    "# ht.store_data(33)\n",
    "# ht.store_data(44)\n",
    "# ht.store_data(55)\n",
    "# ht.store_data(66)\n",
    "# print(ht.display_hashtable())\n",
    "\n",
    "ht = Hashing(1, 2, 11)\n",
    "for x in [10, 11, 12, 13, 14, 15, 16, 17, 18, 19, 20, 21]:\n",
    "  ht.store_data(x)\n",
    "print(ht.display_hashtable())"
   ]
  },
  {
   "cell_type": "code",
   "execution_count": 77,
   "metadata": {},
   "outputs": [
    {
     "name": "stdout",
     "output_type": "stream",
     "text": [
      "Hash table is full\n",
      "[11, 12, 13, 14, 15, 16, 17, 18, 19, 20, 10]\n"
     ]
    }
   ],
   "source": [
    "class Hashing:\n",
    "  def __init__(self, c1, c2, m):\n",
    "    self.hashtable = []\n",
    "    for i in range(m):\n",
    "      self.hashtable.append(None)\n",
    "    self.c1 = c1\n",
    "    self.c2 = c2\n",
    "    self.m = m\n",
    "\n",
    "  def h(self, k):\n",
    "    return k % self.m\n",
    "\n",
    "  def h_quad(self, k, i):\n",
    "    return (self.h(k) + self.c1*i + self.c2*i*i) % m\n",
    "\n",
    "  def qp(self, data):\n",
    "    # do we even need probing?\n",
    "    index = self.h(data)\n",
    "    if self.hashtable[index] == None:\n",
    "      return index\n",
    "\n",
    "    # yes, we do probing.\n",
    "    for i in range(self.m):\n",
    "      index = self.h_quad(data, i)\n",
    "      if self.hashtable[index] == None:\n",
    "        return index\n",
    "    return None\n",
    "\n",
    "  def lp(self, data):\n",
    "    # do we even need probing?\n",
    "    index = self.h(data)\n",
    "    if self.hashtable[index] == None:\n",
    "      return index\n",
    "\n",
    "    # yes, we do probing.\n",
    "    for i in range(self.m):\n",
    "      if self.hashtable[i] == None:\n",
    "        return i\n",
    "    return None\n",
    "\n",
    "  def store_data(self, data):\n",
    "    index = self.lp(data)\n",
    "    if index == None:\n",
    "      print('Hash table is full')\n",
    "      return\n",
    "    self.hashtable[index] = data\n",
    "\n",
    "  def display_hashtable(self):\n",
    "    return self.hashtable\n",
    "\n",
    "\n",
    "ht = Hashing(1, 2, 11)\n",
    "for x in [10, 11, 12, 13, 14, 15, 16, 17, 18, 19, 20, 21]:\n",
    "  ht.store_data(x)\n",
    "print(ht.display_hashtable())"
   ]
  },
  {
   "cell_type": "code",
   "execution_count": null,
   "metadata": {},
   "outputs": [],
   "source": [
    "  # result = sorted(result) # not in place, returns a new list, original list remains untouched\n",
    "  # result.sort() # in place sort, modifies original list, returns None"
   ]
  },
  {
   "cell_type": "code",
   "execution_count": 109,
   "metadata": {},
   "outputs": [
    {
     "data": {
      "text/plain": [
       "[1002, 1004, 1007, 1008, 1001, 1003, 1005, 1006, 1009]"
      ]
     },
     "execution_count": 109,
     "metadata": {},
     "output_type": "execute_result"
    }
   ],
   "source": [
    "def DishPrepareOrder(orders):\n",
    "  freq = {}\n",
    "  for order in orders:\n",
    "    if order not in freq:\n",
    "      freq[order] = 0\n",
    "    freq[order] += 1\n",
    "\n",
    "  result = list(freq.items())\n",
    "  result.sort(key=lambda item: item[0])\n",
    "  result.sort(key=lambda item: item[1], reverse=True)\n",
    "  return [item[0] for item in result]\n",
    "\n",
    "\n",
    "DishPrepareOrder([1006, 1008, 1009, 1008, 1007, 1005, 1008, 1001, 1003, 1009, 1006, 1003, 1004, 1002,\n",
    "                 1008, 1005, 1004, 1007, 1006, 1002, 1002, 1001, 1004, 1001, 1003, 1007, 1007, 1005, 1004, 1002])\n",
    "# == [1002, 1004, 1007, 1008, 1001, 1003, 1005, 1006, 1009]"
   ]
  },
  {
   "cell_type": "code",
   "execution_count": 117,
   "metadata": {},
   "outputs": [
    {
     "data": {
      "text/plain": [
       "True"
      ]
     },
     "execution_count": 117,
     "metadata": {},
     "output_type": "execute_result"
    }
   ],
   "source": [
    "def DishPrepareOrder(orders):\n",
    "  freq = {}\n",
    "  for order in orders:\n",
    "    if order not in freq:\n",
    "      freq[order] = 0\n",
    "    freq[order] += 1\n",
    "\n",
    "  result = list(freq.items())\n",
    "  result.sort(key=lambda item: item[0])\n",
    "  result.sort(key=lambda item: item[1], reverse=True)\n",
    "  return [item[0] for item in result]\n",
    "\n",
    "\n",
    "DishPrepareOrder([1006, 1007, 1005, 1006, 1003, 1009, 1001, 1005, 1007, 1007, 1004, 1008, 1002, 1002, 1006, 1001, 1006, 1003, 1001, 1006, 1007, 1002, 1005, 1003, 1007, 1007, 1001, 1008, 1007, 1005, 1003, 1005, 1001, 1005, 1003, 1003, 1004, 1001, 1007, 1006, 1006, 1007, 1006, 1008, 1009, 1004, 1005, 1002, 1006, 1002, 1002, 1003, 1007, 1007, 1004, 1006, 1006, 1001, 1004, 1004, 1006, 1007, 1008, 1006, 1004, 1002, 1008, 1002, 1008, 1006, 1007, 1007, 1006, 1008, 1002, 1004, 1004, 1008, 1005, 1001, 1007, 1003, 1005, 1007, 1006, 1001, 1002, 1004, 1001, 1008, 1001, 1007, 1007, 1001, 1005, 1003, 1009, 1007, 1004,\n",
    "                 1006, 1001, 1002, 1005, 1006, 1003, 1003, 1006, 1001, 1005, 1003, 1005, 1005, 1004, 1006, 1005, 1002, 1005, 1006, 1005, 1003, 1006, 1006, 1001, 1003, 1009, 1009, 1005, 1003, 1008, 1005, 1006, 1008, 1004, 1002, 1008, 1001, 1009, 1008, 1009, 1009, 1003, 1007, 1009, 1005, 1003, 1006, 1008, 1007, 1001, 1008, 1009, 1006, 1004, 1002, 1004, 1006, 1001, 1002, 1007, 1008, 1003, 1002, 1004, 1008, 1009, 1006, 1002, 1004, 1004, 1006, 1001, 1001, 1006, 1002, 1009, 1005, 1004, 1005, 1009, 1006, 1008, 1001, 1009, 1001, 1002, 1004, 1003, 1003, 1007, 1001, 1006, 1006, 1006, 1001, 1001, 1005, 1003, 1001, 1001, 1007]) == [1006, 1001, 1007, 1005, 1003, 1004, 1002, 1008, 1009]"
   ]
  }
 ],
 "metadata": {
  "kernelspec": {
   "display_name": "Python 3",
   "language": "python",
   "name": "python3"
  },
  "language_info": {
   "codemirror_mode": {
    "name": "ipython",
    "version": 3
   },
   "file_extension": ".py",
   "mimetype": "text/x-python",
   "name": "python",
   "nbconvert_exporter": "python",
   "pygments_lexer": "ipython3",
   "version": "3.12.0"
  }
 },
 "nbformat": 4,
 "nbformat_minor": 2
}
