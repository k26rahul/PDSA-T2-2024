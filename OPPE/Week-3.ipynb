{
 "cells": [
  {
   "cell_type": "markdown",
   "metadata": {},
   "source": [
    "# 2024/08/08"
   ]
  },
  {
   "cell_type": "code",
   "execution_count": 17,
   "metadata": {},
   "outputs": [],
   "source": [
    "class Node:\n",
    "  def __init__(self, data):\n",
    "    self.data = data\n",
    "    self.next = None\n",
    "    self.prev = None\n",
    "\n",
    "  def __str__(self):\n",
    "    return f'Node: {self.data}'"
   ]
  },
  {
   "cell_type": "code",
   "execution_count": 43,
   "metadata": {},
   "outputs": [],
   "source": [
    "rahul = Node('rahul')\n",
    "vidu = Node('vidu')\n",
    "cmd = Node('cmd')\n",
    "harikesh = Node('harikesh')\n",
    "\n",
    "rahul.next = vidu\n",
    "vidu.prev = rahul\n",
    "\n",
    "vidu.next = cmd\n",
    "cmd.prev = vidu\n",
    "\n",
    "cmd.next = harikesh\n",
    "harikesh.prev = cmd\n",
    "\n",
    "head = rahul\n",
    "tail = harikesh"
   ]
  },
  {
   "cell_type": "code",
   "execution_count": 21,
   "metadata": {},
   "outputs": [],
   "source": [
    "# muskan = Node('muskan')\n",
    "\n",
    "# # insert at start\n",
    "# muskan.next = head\n",
    "# head.prev = muskan\n",
    "# head = muskan"
   ]
  },
  {
   "cell_type": "code",
   "execution_count": 27,
   "metadata": {},
   "outputs": [],
   "source": [
    "# muskan = Node('muskan')\n",
    "\n",
    "# # insert at end\n",
    "# tail.next = muskan\n",
    "# muskan.prev = tail\n",
    "# tail = muskan"
   ]
  },
  {
   "cell_type": "code",
   "execution_count": 36,
   "metadata": {},
   "outputs": [],
   "source": [
    "# # delete at start\n",
    "# head = head.next\n",
    "# head.prev = None"
   ]
  },
  {
   "cell_type": "code",
   "execution_count": 44,
   "metadata": {},
   "outputs": [],
   "source": [
    "# # delete at end\n",
    "# tail = tail.prev\n",
    "# tail.next = None"
   ]
  },
  {
   "cell_type": "code",
   "execution_count": 45,
   "metadata": {},
   "outputs": [
    {
     "name": "stdout",
     "output_type": "stream",
     "text": [
      "Node: rahul\n",
      "Node: vidu\n",
      "Node: cmd\n"
     ]
    }
   ],
   "source": [
    "curr = head\n",
    "while curr:\n",
    "  print(curr)\n",
    "  curr = curr.next"
   ]
  },
  {
   "cell_type": "code",
   "execution_count": 46,
   "metadata": {},
   "outputs": [
    {
     "name": "stdout",
     "output_type": "stream",
     "text": [
      "Node: cmd\n",
      "Node: vidu\n",
      "Node: rahul\n"
     ]
    }
   ],
   "source": [
    "curr = tail\n",
    "while curr:\n",
    "  print(curr)\n",
    "  curr = curr.prev"
   ]
  },
  {
   "cell_type": "code",
   "execution_count": 119,
   "metadata": {},
   "outputs": [
    {
     "name": "stdout",
     "output_type": "stream",
     "text": [
      "['rahul', 'vidu', 'cmd', 'harikesh']\n"
     ]
    }
   ],
   "source": [
    "class LL:\n",
    "  def __init__(self):\n",
    "    self.head = None\n",
    "    self.tail = None\n",
    "\n",
    "  def is_empty(self):\n",
    "    return self.head == None\n",
    "\n",
    "  def insert_start(self, data):\n",
    "    node = Node(data)\n",
    "    if self.is_empty():\n",
    "      self.head = node\n",
    "      self.tail = node\n",
    "    else:\n",
    "      node.next = self.head\n",
    "      self.head.prev = node\n",
    "      self.head = node\n",
    "\n",
    "  def insert_end(self, data):\n",
    "    node = Node(data)\n",
    "    if self.is_empty():\n",
    "      self.head = node\n",
    "      self.tail = node\n",
    "    else:\n",
    "      node.prev = self.tail\n",
    "      self.tail.next = node\n",
    "      self.tail = node\n",
    "\n",
    "  def delete_start(self):\n",
    "    # empty\n",
    "    if self.is_empty():\n",
    "      return\n",
    "    # 1 elem\n",
    "    if self.head == self.tail:\n",
    "      self.head = None\n",
    "      self.tail = None\n",
    "    else:  # at least 2 elems\n",
    "      self.head = self.head.next\n",
    "      self.head.prev = None\n",
    "\n",
    "  def delete_end(self):\n",
    "    # empty\n",
    "    if self.is_empty():\n",
    "      return\n",
    "    # 1 elem\n",
    "    if self.head == self.tail:\n",
    "      self.head = None\n",
    "      self.tail = None\n",
    "    else:  # at least 2 elems\n",
    "      self.tail = self.tail.prev\n",
    "      self.tail.next = None\n",
    "\n",
    "  def __str__(self):\n",
    "    output = []\n",
    "    curr = self.head\n",
    "    while curr:\n",
    "      output.append(curr.data)\n",
    "      curr = curr.next\n",
    "    return str(output)\n",
    "\n",
    "\n",
    "chain = LL()\n",
    "chain.insert_start('rahul')\n",
    "chain.insert_end('vidu')\n",
    "chain.insert_end('cmd')\n",
    "chain.insert_end('harikesh')\n",
    "print(chain)"
   ]
  },
  {
   "cell_type": "code",
   "execution_count": 177,
   "metadata": {},
   "outputs": [
    {
     "name": "stdout",
     "output_type": "stream",
     "text": [
      "[0, 1, 2, 3, 4, 5, 6, 7, 8, 9, 10, 11, 12, 13, 14, 15, 16, 17, 18, 19, 20, 21, 22, 23, 24, 25, 26, 27, 28, 29, 30, 31, 32, 33, 34, 35, 36, 37, 38, 39]\n",
      "[39, 38, 37, 36, 35, 34, 33, 32, 31, 30, 29, 28, 27, 26, 25, 24, 23, 22, 21, 20, 19, 18, 17, 16, 15, 14, 13, 12, 11, 10, 9, 8, 7, 6, 5, 4, 3, 2, 1, 0]\n"
     ]
    }
   ],
   "source": [
    "class Node:\n",
    "  def __init__(self, data):\n",
    "    self.data = data\n",
    "    self.next = None\n",
    "    self.prev = None\n",
    "\n",
    "  def __str__(self):\n",
    "    return f'Node: {self.data}'\n",
    "\n",
    "\n",
    "class doubly_linked_list:\n",
    "  def __init__(self):\n",
    "    self.head = None\n",
    "    self.last = None\n",
    "\n",
    "  def is_empty(self):\n",
    "    return self.head == None\n",
    "\n",
    "  def insert_end(self, data):\n",
    "    node = Node(data)\n",
    "    if self.is_empty():\n",
    "      self.head = node\n",
    "      self.last = node\n",
    "    else:\n",
    "      self.last.next = node\n",
    "      node.prev = self.last\n",
    "      self.last = node\n",
    "\n",
    "  def delete_end(self):\n",
    "    # empty\n",
    "    if self.is_empty():\n",
    "      return\n",
    "    # 1 elem\n",
    "    if self.head == self.last:\n",
    "      self.head = None\n",
    "      self.last = None\n",
    "    else:  # at least 2 elems\n",
    "      self.last = self.last.prev\n",
    "      self.last.next = None\n",
    "\n",
    "  def traverse_lr(self):\n",
    "    output = []\n",
    "    curr = self.head\n",
    "    while curr:\n",
    "      output.append(curr.data)\n",
    "      curr = curr.next\n",
    "    return str(output)\n",
    "\n",
    "  def traverse_rl(self):\n",
    "    output = []\n",
    "    curr = self.last\n",
    "    while curr:\n",
    "      output.append(curr.data)\n",
    "      curr = curr.prev\n",
    "    return str(output)\n",
    "\n",
    "\n",
    "chain = doubly_linked_list()\n",
    "# chain.insert_end('rahul')\n",
    "# chain.insert_end('vidu')\n",
    "# chain.insert_end('cmd')\n",
    "# chain.insert_end('vaish')\n",
    "for x in [0, 1, 2, 3, 4, 5, 6, 7, 8, 9, 10, 11, 12, 13, 14, 15, 16, 17, 18, 19, 20, 21, 22, 23, 24, 25, 26, 27, 28, 29, 30, 31, 32, 33, 34, 35, 36, 37, 38, 39, 40, 41, 42, 43, 44, 45, 46, 47, 48, 49, 50, 51, 52, 53, 54, 55, 56, 57, 58, 59, 60, 61, 62, 63, 64, 65, 66, 67, 68, 69, 70, 71, 72, 73, 74, 75, 76, 77, 78, 79, 80, 81, 82, 83, 84, 85, 86, 87, 88, 89, 90, 91, 92, 93, 94, 95, 96, 97, 98, 99]:\n",
    "  chain.insert_end(x)\n",
    "for i in range(60):\n",
    "  chain.delete_end()\n",
    "print(chain.traverse_lr())\n",
    "print(chain.traverse_rl())"
   ]
  }
 ],
 "metadata": {
  "kernelspec": {
   "display_name": "Python 3",
   "language": "python",
   "name": "python3"
  },
  "language_info": {
   "codemirror_mode": {
    "name": "ipython",
    "version": 3
   },
   "file_extension": ".py",
   "mimetype": "text/x-python",
   "name": "python",
   "nbconvert_exporter": "python",
   "pygments_lexer": "ipython3",
   "version": "3.12.0"
  }
 },
 "nbformat": 4,
 "nbformat_minor": 2
}
