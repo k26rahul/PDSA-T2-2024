{
 "cells": [
  {
   "cell_type": "markdown",
   "metadata": {},
   "source": [
    "https://www.geeksforgeeks.org/problems/bfs-traversal-of-graph/1"
   ]
  },
  {
   "cell_type": "code",
   "execution_count": null,
   "metadata": {},
   "outputs": [],
   "source": [
    "# User function Template for python3\n",
    "\n",
    "from typing import List\n",
    "from queue import Queue\n",
    "\n",
    "\n",
    "class Solution:\n",
    "  # Function to return Breadth First Traversal of given graph.\n",
    "  def bfsOfGraph(self, V: int, adj: List[List[int]]) -> List[int]:\n",
    "    from collections import deque\n",
    "\n",
    "    visited = {u: False for u in range(V)}\n",
    "    visited[0] = True\n",
    "    order = [0]\n",
    "    queue = deque([0])\n",
    "\n",
    "    while queue:\n",
    "      u = queue.popleft()\n",
    "      for v in adj[u]:\n",
    "        if not visited[v]:\n",
    "          queue.append(v)\n",
    "          visited[v] = True\n",
    "          order.append(v)\n",
    "    return order"
   ]
  },
  {
   "cell_type": "markdown",
   "metadata": {},
   "source": [
    "https://www.geeksforgeeks.org/problems/depth-first-traversal-for-a-graph/1"
   ]
  },
  {
   "cell_type": "code",
   "execution_count": null,
   "metadata": {},
   "outputs": [],
   "source": [
    "# User function Template for python3\n",
    "\n",
    "class Solution:\n",
    "\n",
    "  # Function to return a list containing the DFS traversal of the graph.\n",
    "  def dfsOfGraph(self, V, adj):\n",
    "    from collections import deque\n",
    "\n",
    "    visited = {u: False for u in range(V)}\n",
    "    order = []\n",
    "    stack = deque([0])\n",
    "\n",
    "    while stack:\n",
    "      u = stack.pop()\n",
    "      if not visited[u]:\n",
    "        visited[u] = True\n",
    "        order.append(u)\n",
    "        for v in reversed(adj[u]):\n",
    "          if not visited[v]:\n",
    "            stack.append(v)\n",
    "    return order"
   ]
  },
  {
   "cell_type": "code",
   "execution_count": 13,
   "metadata": {},
   "outputs": [
    {
     "data": {
      "text/plain": [
       "[0, 1, 5, 8, 3, 7, 6, 9, 2, 4]"
      ]
     },
     "execution_count": 13,
     "metadata": {},
     "output_type": "execute_result"
    }
   ],
   "source": [
    "# User function Template for python3\n",
    "\n",
    "class Solution:\n",
    "\n",
    "  # Function to return a list containing the DFS traversal of the graph.\n",
    "  def dfsOfGraph(self, V, adj):\n",
    "    from collections import deque\n",
    "\n",
    "    visited = {u: False for u in range(V)}\n",
    "    order = []\n",
    "    stack = deque([0])\n",
    "\n",
    "    while stack:\n",
    "      u = stack.pop()\n",
    "      if not visited[u]:\n",
    "        visited[u] = True\n",
    "        order.append(u)\n",
    "        for v in reversed(adj[u]):\n",
    "          if not visited[v]:\n",
    "            stack.append(v)\n",
    "        # print(f'Visit `{u}`: stack={list(stack)}')\n",
    "    return order\n",
    "\n",
    "\n",
    "Solution().dfsOfGraph(10, [[1, 2, 4, 8], [0, 5, 6, 9], [0, 4], [7, 8], [0, 2],\n",
    "                           [1, 8], [1, 7, 9], [3, 6], [0, 3, 5], [1, 6], []])\n",
    "# 0 1 5 8 3 7 6 9 2 4"
   ]
  },
  {
   "cell_type": "code",
   "execution_count": 10,
   "metadata": {},
   "outputs": [],
   "source": [
    "# Dry Run (adj 👇)\n",
    "#  0 [1, 2, 4, 8],\n",
    "#  1 [0, 5, 6, 9],\n",
    "#  2 [0, 4],\n",
    "#  3 [7, 8],\n",
    "#  4 [0, 2],\n",
    "#  5 [1, 8],\n",
    "#  6 [1, 7, 9],\n",
    "#  7 [3, 6],\n",
    "#  8 [0, 3, 5],\n",
    "#  9 [1, 6],\n",
    "# 10 []\n",
    "\n",
    "# Starting from vertex `0`:\n",
    "#  1. Visit `0`: stack = [8, 4, 2, 1]\n",
    "#  2. Visit `1`: stack = [8, 4, 2, 9, 6, 5]\n",
    "#  3. Visit `5`: stack = [8, 4, 2, 9, 6, 8]\n",
    "#  4. Visit `8`: stack = [8, 4, 2, 9, 6, 3]\n",
    "#  5. Visit `3`: stack = [8, 4, 2, 9, 6, 7]\n",
    "#  6. Visit `7`: stack = [8, 4, 2, 9, 6, 6]\n",
    "#  7. Visit `6`: stack = [8, 4, 2, 9, 6, 9]\n",
    "#  8. Visit `9`: stack = [8, 4, 2, 9, 6]\n",
    "#  9. Visit `2`: stack = [8, 4, 4]\n",
    "# 10. Visit `4`: stack = [8, 4]"
   ]
  },
  {
   "cell_type": "markdown",
   "metadata": {},
   "source": [
    "https://leetcode.com/problems/number-of-provinces/"
   ]
  },
  {
   "cell_type": "code",
   "execution_count": null,
   "metadata": {},
   "outputs": [],
   "source": [
    "# 191 ms Beats 26.74%\n",
    "\n",
    "def dfs(adjacency_matrix, curr_vertex, visited, component=None):\n",
    "  if component is None:\n",
    "    component = []\n",
    "  visited[curr_vertex] = True\n",
    "  component.append(curr_vertex)\n",
    "\n",
    "  for adj_vertex in range(len(adjacency_matrix)):\n",
    "    if not visited[adj_vertex]:\n",
    "      if adjacency_matrix[curr_vertex][adj_vertex] == 1:\n",
    "        dfs(adjacency_matrix, adj_vertex, visited, component)\n",
    "  return component\n",
    "\n",
    "\n",
    "class Solution:\n",
    "  def findCircleNum(self, adjacency_matrix: List[List[int]]) -> int:\n",
    "    n = len(adjacency_matrix)\n",
    "    visited = {u: False for u in range(n)}\n",
    "    components = []\n",
    "    for i in range(n):\n",
    "      if not visited[i]:\n",
    "        component = dfs(adjacency_matrix, i, visited)\n",
    "        components.append(component)\n",
    "    return len(components)\n",
    "\n",
    "\n",
    "Solution().findCircleNum([[1, 0, 0], [0, 1, 0], [0, 0, 1]])"
   ]
  },
  {
   "cell_type": "code",
   "execution_count": null,
   "metadata": {},
   "outputs": [],
   "source": [
    "# 186 ms Beats 45.91%\n",
    "\n",
    "def dfs(adjacency_list, curr_vertex, visited, component=None):\n",
    "  if component is None:\n",
    "    component = []\n",
    "  visited[curr_vertex] = True\n",
    "  component.append(curr_vertex)\n",
    "\n",
    "  for adj_vertex in adjacency_list[curr_vertex]:\n",
    "    if not visited[adj_vertex]:\n",
    "      dfs(adjacency_list, adj_vertex, visited, component)\n",
    "  return component\n",
    "\n",
    "\n",
    "def make_adjacency_list(adjacency_matrix):\n",
    "  n = len(adjacency_matrix)\n",
    "  adjacency_list = {}\n",
    "  for i in range(n):\n",
    "    for j in range(n):\n",
    "      if adjacency_matrix[i][j] == 1:\n",
    "        if i not in adjacency_list:\n",
    "          adjacency_list[i] = []\n",
    "        adjacency_list[i].append(j)\n",
    "  return adjacency_list\n",
    "\n",
    "\n",
    "class Solution:\n",
    "  def findCircleNum(self, adjacency_matrix: List[List[int]]) -> int:\n",
    "    adjacency_list = make_adjacency_list(adjacency_matrix)\n",
    "    visited = {u: False for u in adjacency_list}\n",
    "    components = []\n",
    "    for u in adjacency_list:\n",
    "      if not visited[u]:\n",
    "        component = dfs(adjacency_list, u, visited)\n",
    "        components.append(component)\n",
    "    return len(components)\n",
    "\n",
    "\n",
    "Solution().findCircleNum([[1, 1, 0], [1, 1, 0], [0, 0, 1]])"
   ]
  }
 ],
 "metadata": {
  "kernelspec": {
   "display_name": "Python 3",
   "language": "python",
   "name": "python3"
  },
  "language_info": {
   "codemirror_mode": {
    "name": "ipython",
    "version": 3
   },
   "file_extension": ".py",
   "mimetype": "text/x-python",
   "name": "python",
   "nbconvert_exporter": "python",
   "pygments_lexer": "ipython3",
   "version": "3.12.0"
  }
 },
 "nbformat": 4,
 "nbformat_minor": 2
}
