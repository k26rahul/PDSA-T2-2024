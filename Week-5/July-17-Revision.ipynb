{
 "cells": [
  {
   "cell_type": "markdown",
   "metadata": {},
   "source": [
    "# Dijkstra's Algorithm (use a priority queue)"
   ]
  },
  {
   "cell_type": "code",
   "execution_count": 1,
   "metadata": {},
   "outputs": [
    {
     "name": "stdout",
     "output_type": "stream",
     "text": [
      "C\n",
      "B\n"
     ]
    }
   ],
   "source": [
    "import heapq\n",
    "\n",
    "\n",
    "class PriorityQueue:\n",
    "  def __init__(self):\n",
    "    self.heap = []\n",
    "\n",
    "  def is_empty(self):\n",
    "    return len(self.heap) == 0\n",
    "\n",
    "  def enqueue(self, priority, item):\n",
    "    heapq.heappush(self.heap, (priority, item))\n",
    "\n",
    "  def dequeue(self):\n",
    "    return heapq.heappop(self.heap)[1]\n",
    "\n",
    "\n",
    "pq = PriorityQueue()\n",
    "pq.enqueue(4, 'B')\n",
    "pq.enqueue(2, 'C')\n",
    "print(pq.dequeue())\n",
    "print(pq.dequeue())"
   ]
  },
  {
   "cell_type": "code",
   "execution_count": 2,
   "metadata": {},
   "outputs": [
    {
     "data": {
      "text/plain": [
       "True"
      ]
     },
     "execution_count": 2,
     "metadata": {},
     "output_type": "execute_result"
    }
   ],
   "source": [
    "def dijkstra(adjacency_list, start_vertex):\n",
    "  visited = {vertex: False for vertex in adjacency_list}\n",
    "\n",
    "  distance = {vertex: float('inf') for vertex in adjacency_list}\n",
    "  distance[start_vertex] = 0\n",
    "\n",
    "  pq = PriorityQueue()\n",
    "  pq.enqueue(0, start_vertex)\n",
    "\n",
    "  while not pq.is_empty():\n",
    "    current_vertex = pq.dequeue()\n",
    "    visited[current_vertex] = True\n",
    "\n",
    "    # print(f'{current_vertex=}')\n",
    "\n",
    "    for neighbor, weight in adjacency_list[current_vertex]:\n",
    "      if not visited[neighbor]:\n",
    "        new_distance = distance[current_vertex] + weight\n",
    "        if new_distance < distance[neighbor]:\n",
    "          distance[neighbor] = new_distance\n",
    "          pq.enqueue(new_distance, neighbor)\n",
    "\n",
    "  return distance\n",
    "\n",
    "\n",
    "adjacency_list = {\n",
    "    'A': [('B', 4), ('C', 2)],\n",
    "    'B': [('C', 3), ('D', 2), ('E', 3)],\n",
    "    'C': [('B', 1), ('D', 4), ('E', 5)],\n",
    "    'D': [],\n",
    "    'E': [('D', 1)],\n",
    "}\n",
    "\n",
    "dijkstra(adjacency_list, 'A') == {'A': 0, 'B': 3, 'C': 2, 'D': 5, 'E': 6}"
   ]
  },
  {
   "cell_type": "code",
   "execution_count": 3,
   "metadata": {},
   "outputs": [
    {
     "data": {
      "text/plain": [
       "True"
      ]
     },
     "execution_count": 3,
     "metadata": {},
     "output_type": "execute_result"
    }
   ],
   "source": [
    "def dijkstra(adjacency_list, start_vertex):\n",
    "  visited = {vertex: False for vertex in adjacency_list}\n",
    "\n",
    "  distance = {vertex: float('inf') for vertex in adjacency_list}\n",
    "  distance[start_vertex] = 0\n",
    "\n",
    "  while True:\n",
    "    current_vertex = None\n",
    "    for vertex in adjacency_list:\n",
    "      if not visited[vertex]:\n",
    "        if current_vertex is None or distance[vertex] < distance[current_vertex]:\n",
    "          current_vertex = vertex\n",
    "\n",
    "    if current_vertex is None:  # all vertices are visited\n",
    "      break\n",
    "\n",
    "    visited[current_vertex] = True\n",
    "\n",
    "    # print(f'{current_vertex=}')\n",
    "\n",
    "    for neighbor, weight in adjacency_list[current_vertex]:\n",
    "      if not visited[neighbor]:\n",
    "        new_distance = distance[current_vertex] + weight\n",
    "        if new_distance < distance[neighbor]:\n",
    "          distance[neighbor] = new_distance\n",
    "\n",
    "  return distance\n",
    "\n",
    "\n",
    "adjacency_list = {\n",
    "    'A': [('B', 4), ('C', 2)],\n",
    "    'B': [('C', 3), ('D', 2), ('E', 3)],\n",
    "    'C': [('B', 1), ('D', 4), ('E', 5)],\n",
    "    'D': [],\n",
    "    'E': [('D', 1)],\n",
    "}\n",
    "\n",
    "dijkstra(adjacency_list, 'A') == {'A': 0, 'B': 3, 'C': 2, 'D': 5, 'E': 6}"
   ]
  },
  {
   "cell_type": "markdown",
   "metadata": {},
   "source": [
    "# Bellman-Ford Algorithm"
   ]
  },
  {
   "cell_type": "code",
   "execution_count": 4,
   "metadata": {},
   "outputs": [
    {
     "data": {
      "text/plain": [
       "True"
      ]
     },
     "execution_count": 4,
     "metadata": {},
     "output_type": "execute_result"
    }
   ],
   "source": [
    "def bellman_ford(adjacency_list, start_vertex):\n",
    "  distance = {vertex: float('inf') for vertex in adjacency_list}\n",
    "  distance[start_vertex] = 0\n",
    "\n",
    "  for _ in range(len(adjacency_list) - 1):\n",
    "    for vertex in adjacency_list:  # S A B C D E F\n",
    "      for neighbor, weight in adjacency_list[vertex]:\n",
    "        # same as dijkstra: you offer better distances to neighbors\n",
    "        new_distance = distance[vertex] + weight\n",
    "        if new_distance < distance[neighbor]:\n",
    "          distance[neighbor] = new_distance\n",
    "\n",
    "  return distance\n",
    "\n",
    "\n",
    "adjacency_list = {\n",
    "    'S': [('E', 8), ('A', 10)],\n",
    "    'E': [('D', 1)],\n",
    "    'A': [('C', 2)],\n",
    "    'D': [('A', -4), ('C', -1)],\n",
    "    'B': [('A', 1)],\n",
    "    'C': [('B', -2)],\n",
    "}\n",
    "\n",
    "bellman_ford(adjacency_list, 'S') == {'S': 0, 'E': 8, 'A': 5, 'D': 9, 'B': 5, 'C': 7}"
   ]
  },
  {
   "cell_type": "markdown",
   "metadata": {},
   "source": [
    "# Floyd-Warshall Algorithm"
   ]
  },
  {
   "cell_type": "code",
   "execution_count": 5,
   "metadata": {},
   "outputs": [
    {
     "data": {
      "text/plain": [
       "True"
      ]
     },
     "execution_count": 5,
     "metadata": {},
     "output_type": "execute_result"
    }
   ],
   "source": [
    "def floyd_warshall(adjacency_list):\n",
    "  dist = {u: {v: float('inf') for v in adjacency_list} for u in adjacency_list}\n",
    "\n",
    "  for vertex in adjacency_list:\n",
    "    dist[vertex][vertex] = 0\n",
    "\n",
    "  for vertex in adjacency_list:\n",
    "    for neighbor, weight in adjacency_list[vertex]:\n",
    "      dist[vertex][neighbor] = weight\n",
    "\n",
    "  for k in adjacency_list:\n",
    "    for i in adjacency_list:\n",
    "      for j in adjacency_list:\n",
    "        if dist[i][j] > dist[i][k] + dist[k][j]:\n",
    "          dist[i][j] = dist[i][k] + dist[k][j]\n",
    "\n",
    "  return dist\n",
    "\n",
    "\n",
    "adjacency_list = {\n",
    "    1: [(3, -2)],\n",
    "    2: [(1, 4), (3, 3)],\n",
    "    3: [(4, 2)],\n",
    "    4: [(2, -1)],\n",
    "}\n",
    "\n",
    "floyd_warshall(adjacency_list) == {1: {1: 0, 2: -1, 3: -2, 4: 0},\n",
    "                                   2: {1: 4, 2: 0, 3: 2, 4: 4},\n",
    "                                   3: {1: 5, 2: 1, 3: 0, 4: 2},\n",
    "                                   4: {1: 3, 2: -1, 3: 1, 4: 0}}"
   ]
  },
  {
   "cell_type": "markdown",
   "metadata": {},
   "source": [
    "# Prim's Algorithm"
   ]
  },
  {
   "cell_type": "code",
   "execution_count": 6,
   "metadata": {},
   "outputs": [
    {
     "name": "stdout",
     "output_type": "stream",
     "text": [
      "(4, ('D', 'H'))\n",
      "(5, ('A', 'B'))\n"
     ]
    }
   ],
   "source": [
    "import heapq\n",
    "\n",
    "\n",
    "class PriorityQueue:\n",
    "  def __init__(self):\n",
    "    self.heap = []\n",
    "\n",
    "  def is_empty(self):\n",
    "    return len(self.heap) == 0\n",
    "\n",
    "  def enqueue(self, priority, item):\n",
    "    heapq.heappush(self.heap, (priority, item))\n",
    "\n",
    "  def dequeue(self):\n",
    "    return heapq.heappop(self.heap)\n",
    "\n",
    "\n",
    "pq = PriorityQueue()\n",
    "pq.enqueue(5, ('A', 'B'))  # weight, (u, v)\n",
    "pq.enqueue(4, ('D', 'H'))\n",
    "print(pq.dequeue())\n",
    "print(pq.dequeue())"
   ]
  },
  {
   "cell_type": "code",
   "execution_count": 7,
   "metadata": {},
   "outputs": [
    {
     "data": {
      "text/plain": [
       "True"
      ]
     },
     "execution_count": 7,
     "metadata": {},
     "output_type": "execute_result"
    }
   ],
   "source": [
    "def prim(adjacency_list, start_vertex):\n",
    "  mst = []\n",
    "  pq = PriorityQueue()\n",
    "  visited = {vertex: False for vertex in adjacency_list}\n",
    "  visited[start_vertex] = True\n",
    "\n",
    "  for neighbor, weight in adjacency_list[start_vertex]:\n",
    "    pq.enqueue(weight, (start_vertex, neighbor))\n",
    "\n",
    "  while not pq.is_empty():\n",
    "    weight, (u, v) = pq.dequeue()\n",
    "\n",
    "    if not visited[v]:\n",
    "      mst.append((u, v, weight))\n",
    "      visited[v] = True\n",
    "      for next_neighbor, next_weight in adjacency_list[v]:\n",
    "        if not visited[next_neighbor]:\n",
    "          pq.enqueue(next_weight, (v, next_neighbor))\n",
    "\n",
    "  return mst\n",
    "\n",
    "\n",
    "adjacency_list = {\n",
    "    0: [(1, 10), (2, 6)],\n",
    "    1: [(0, 10), (3, 15), (2, 4)],\n",
    "    2: [(0, 6), (1, 4), (3, 11)],\n",
    "    3: [(1, 15), (2, 11)]\n",
    "}\n",
    "\n",
    "prim(adjacency_list, 0) == [(0, 2, 6), (2, 1, 4), (2, 3, 11)]"
   ]
  },
  {
   "cell_type": "code",
   "execution_count": 8,
   "metadata": {},
   "outputs": [
    {
     "data": {
      "text/plain": [
       "True"
      ]
     },
     "execution_count": 8,
     "metadata": {},
     "output_type": "execute_result"
    }
   ],
   "source": [
    "adjacency_list = {\n",
    "    'A': [('C', 3), ('D', 3), ('B', 2)],\n",
    "    'B': [('A', 2), ('C', 4), ('E', 3)],\n",
    "    'C': [('A', 3), ('B', 4), ('F', 6), ('E', 1)],\n",
    "    'D': [('A', 3), ('F', 7)],\n",
    "    'E': [('B', 3), ('C', 1), ('F', 8)],\n",
    "    'F': [('D', 7), ('E', 8), ('G', 9), ('C', 6)],\n",
    "    'G': [('F', 9)]\n",
    "}\n",
    "\n",
    "prim(adjacency_list, 'A') == [('A', 'B', 2),\n",
    "                              ('A', 'C', 3),\n",
    "                              ('C', 'E', 1),\n",
    "                              ('A', 'D', 3),\n",
    "                              ('C', 'F', 6),\n",
    "                              ('F', 'G', 9)]"
   ]
  },
  {
   "cell_type": "markdown",
   "metadata": {},
   "source": [
    "# Kruskal's Algorithm"
   ]
  },
  {
   "cell_type": "code",
   "execution_count": 9,
   "metadata": {},
   "outputs": [
    {
     "data": {
      "text/plain": [
       "True"
      ]
     },
     "execution_count": 9,
     "metadata": {},
     "output_type": "execute_result"
    }
   ],
   "source": [
    "def kruskal(adjacency_list):\n",
    "  mst = []\n",
    "\n",
    "  edges = []\n",
    "  for vertex in adjacency_list:\n",
    "    for neighbor, weight in adjacency_list[vertex]:\n",
    "      edges.append((weight, vertex, neighbor))\n",
    "  edges.sort()\n",
    "\n",
    "  parent = {vertex: vertex for vertex in adjacency_list}\n",
    "\n",
    "  def find(node):\n",
    "    while parent[node] != node:\n",
    "      node = parent[node]\n",
    "    return node\n",
    "\n",
    "  for weight, u, v in edges:\n",
    "    root1 = find(u)\n",
    "    root2 = find(v)\n",
    "    if root1 != root2:\n",
    "      parent[root2] = root1\n",
    "      mst.append((u, v, weight))\n",
    "\n",
    "  return mst\n",
    "\n",
    "\n",
    "adjacency_list = {\n",
    "    0: [(1, 10), (2, 6)],\n",
    "    1: [(0, 10), (3, 15), (2, 4)],\n",
    "    2: [(0, 6), (1, 4), (3, 11)],\n",
    "    3: [(1, 15), (2, 11)]\n",
    "}\n",
    "\n",
    "kruskal(adjacency_list) == [(1, 2, 4), (0, 2, 6), (2, 3, 11)]"
   ]
  },
  {
   "cell_type": "code",
   "execution_count": 10,
   "metadata": {},
   "outputs": [
    {
     "data": {
      "text/plain": [
       "True"
      ]
     },
     "execution_count": 10,
     "metadata": {},
     "output_type": "execute_result"
    }
   ],
   "source": [
    "adjacency_list = {\n",
    "    'A': [('C', 3), ('D', 3), ('B', 2)],\n",
    "    'B': [('A', 2), ('C', 4), ('E', 3)],\n",
    "    'C': [('A', 3), ('B', 4), ('F', 6), ('E', 1)],\n",
    "    'D': [('A', 3), ('F', 7)],\n",
    "    'E': [('B', 3), ('C', 1), ('F', 8)],\n",
    "    'F': [('D', 7), ('E', 8), ('G', 9), ('C', 6)],\n",
    "    'G': [('F', 9)]\n",
    "}\n",
    "\n",
    "kruskal(adjacency_list) == [('C', 'E', 1),\n",
    "                            ('A', 'B', 2),\n",
    "                            ('A', 'C', 3),\n",
    "                            ('A', 'D', 3),\n",
    "                            ('C', 'F', 6),\n",
    "                            ('F', 'G', 9)]"
   ]
  },
  {
   "cell_type": "code",
   "execution_count": 11,
   "metadata": {},
   "outputs": [
    {
     "data": {
      "text/plain": [
       "True"
      ]
     },
     "execution_count": 11,
     "metadata": {},
     "output_type": "execute_result"
    }
   ],
   "source": [
    "adjacency_list = {1: [(2, 2)],\n",
    "                  2: [(6, 7)],\n",
    "                  3: [(2, 3), (6, 8)],\n",
    "                  4: [(3, 5), (1, 1), (2, 3)],\n",
    "                  5: [(1, 4), (4, 9)],\n",
    "                  6: []}\n",
    "\n",
    "kruskal(adjacency_list) == [(4, 1, 1), (1, 2, 2), (3, 2, 3), (5, 1, 4), (2, 6, 7)]"
   ]
  }
 ],
 "metadata": {
  "kernelspec": {
   "display_name": "Python 3",
   "language": "python",
   "name": "python3"
  },
  "language_info": {
   "codemirror_mode": {
    "name": "ipython",
    "version": 3
   },
   "file_extension": ".py",
   "mimetype": "text/x-python",
   "name": "python",
   "nbconvert_exporter": "python",
   "pygments_lexer": "ipython3",
   "version": "3.12.0"
  }
 },
 "nbformat": 4,
 "nbformat_minor": 2
}
