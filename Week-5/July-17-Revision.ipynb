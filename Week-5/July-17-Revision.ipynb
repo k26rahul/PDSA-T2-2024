{
 "cells": [
  {
   "cell_type": "markdown",
   "metadata": {},
   "source": [
    "# Dijkstra's Algorithm (use a priority queue)"
   ]
  },
  {
   "cell_type": "code",
   "execution_count": 235,
   "metadata": {},
   "outputs": [
    {
     "name": "stdout",
     "output_type": "stream",
     "text": [
      "C\n",
      "B\n"
     ]
    }
   ],
   "source": [
    "import heapq\n",
    "\n",
    "\n",
    "class PriorityQueue:\n",
    "  def __init__(self):\n",
    "    self.heap = []\n",
    "\n",
    "  def is_empty(self):\n",
    "    return len(self.heap) == 0\n",
    "\n",
    "  def enqueue(self, priority, item):\n",
    "    heapq.heappush(self.heap, (priority, item))\n",
    "\n",
    "  def dequeue(self):\n",
    "    return heapq.heappop(self.heap)[1]\n",
    "\n",
    "\n",
    "pq = PriorityQueue()\n",
    "pq.enqueue(4, 'B')\n",
    "pq.enqueue(2, 'C')\n",
    "print(pq.dequeue())\n",
    "print(pq.dequeue())"
   ]
  },
  {
   "cell_type": "code",
   "execution_count": 236,
   "metadata": {},
   "outputs": [
    {
     "data": {
      "text/plain": [
       "True"
      ]
     },
     "execution_count": 236,
     "metadata": {},
     "output_type": "execute_result"
    }
   ],
   "source": [
    "def dijkstra(adjacency_list, start_vertex):\n",
    "  visited = {vertex: False for vertex in adjacency_list}\n",
    "\n",
    "  distance = {vertex: float('inf') for vertex in adjacency_list}\n",
    "  distance[start_vertex] = 0\n",
    "\n",
    "  pq = PriorityQueue()\n",
    "  pq.enqueue(0, start_vertex)\n",
    "\n",
    "  while not pq.is_empty():\n",
    "    current_vertex = pq.dequeue()\n",
    "    visited[current_vertex] = True\n",
    "\n",
    "    # print(f'{current_vertex=}')\n",
    "\n",
    "    for neighbor, weight in adjacency_list[current_vertex]:\n",
    "      if not visited[neighbor]:\n",
    "        new_distance = distance[current_vertex] + weight\n",
    "        if new_distance < distance[neighbor]:\n",
    "          distance[neighbor] = new_distance\n",
    "          pq.enqueue(new_distance, neighbor)\n",
    "\n",
    "  return distance\n",
    "\n",
    "\n",
    "adjacency_list = {\n",
    "    'A': [('B', 4), ('C', 2)],\n",
    "    'B': [('C', 3), ('D', 2), ('E', 3)],\n",
    "    'C': [('B', 1), ('D', 4), ('E', 5)],\n",
    "    'D': [],\n",
    "    'E': [('D', 1)],\n",
    "}\n",
    "\n",
    "dijkstra(adjacency_list, 'A') == {'A': 0, 'B': 3, 'C': 2, 'D': 5, 'E': 6}"
   ]
  },
  {
   "cell_type": "code",
   "execution_count": 237,
   "metadata": {},
   "outputs": [
    {
     "data": {
      "text/plain": [
       "True"
      ]
     },
     "execution_count": 237,
     "metadata": {},
     "output_type": "execute_result"
    }
   ],
   "source": [
    "def dijkstra(adjacency_list, start_vertex):\n",
    "  visited = {vertex: False for vertex in adjacency_list}\n",
    "\n",
    "  distance = {vertex: float('inf') for vertex in adjacency_list}\n",
    "  distance[start_vertex] = 0\n",
    "\n",
    "  while True:\n",
    "    current_vertex = None\n",
    "    for vertex in adjacency_list:\n",
    "      if not visited[vertex]:\n",
    "        if current_vertex is None or distance[vertex] < distance[current_vertex]:\n",
    "          current_vertex = vertex\n",
    "\n",
    "    if current_vertex is None:  # all vertices are visited\n",
    "      break\n",
    "\n",
    "    visited[current_vertex] = True\n",
    "\n",
    "    # print(f'{current_vertex=}')\n",
    "\n",
    "    for neighbor, weight in adjacency_list[current_vertex]:\n",
    "      if not visited[neighbor]:\n",
    "        new_distance = distance[current_vertex] + weight\n",
    "        if new_distance < distance[neighbor]:\n",
    "          distance[neighbor] = new_distance\n",
    "\n",
    "  return distance\n",
    "\n",
    "\n",
    "adjacency_list = {\n",
    "    'A': [('B', 4), ('C', 2)],\n",
    "    'B': [('C', 3), ('D', 2), ('E', 3)],\n",
    "    'C': [('B', 1), ('D', 4), ('E', 5)],\n",
    "    'D': [],\n",
    "    'E': [('D', 1)],\n",
    "}\n",
    "\n",
    "dijkstra(adjacency_list, 'A') == {'A': 0, 'B': 3, 'C': 2, 'D': 5, 'E': 6}"
   ]
  },
  {
   "cell_type": "markdown",
   "metadata": {},
   "source": [
    "# Bellman-Ford Algorithm"
   ]
  },
  {
   "cell_type": "code",
   "execution_count": 238,
   "metadata": {},
   "outputs": [
    {
     "data": {
      "text/plain": [
       "True"
      ]
     },
     "execution_count": 238,
     "metadata": {},
     "output_type": "execute_result"
    }
   ],
   "source": [
    "def bellman_ford(adjacency_list, start_vertex):\n",
    "  distance = {vertex: float('inf') for vertex in adjacency_list}\n",
    "  distance[start_vertex] = 0\n",
    "\n",
    "  for _ in range(len(adjacency_list) - 1):\n",
    "    for vertex in adjacency_list:  # S A B C D E F\n",
    "      for neighbor, weight in adjacency_list[vertex]:\n",
    "        # same as dijkstra: you offer better distances to neighbors\n",
    "        new_distance = distance[vertex] + weight\n",
    "        if new_distance < distance[neighbor]:\n",
    "          distance[neighbor] = new_distance\n",
    "\n",
    "  return distance\n",
    "\n",
    "\n",
    "adjacency_list = {\n",
    "    'S': [('E', 8), ('A', 10)],\n",
    "    'E': [('D', 1)],\n",
    "    'A': [('C', 2)],\n",
    "    'D': [('A', -4), ('C', -1)],\n",
    "    'B': [('A', 1)],\n",
    "    'C': [('B', -2)],\n",
    "}\n",
    "\n",
    "bellman_ford(adjacency_list, 'S') == {'S': 0, 'E': 8, 'A': 5, 'D': 9, 'B': 5, 'C': 7}"
   ]
  },
  {
   "cell_type": "markdown",
   "metadata": {},
   "source": [
    "# Floyd-Warshall Algorithm"
   ]
  },
  {
   "cell_type": "code",
   "execution_count": 239,
   "metadata": {},
   "outputs": [
    {
     "data": {
      "text/plain": [
       "True"
      ]
     },
     "execution_count": 239,
     "metadata": {},
     "output_type": "execute_result"
    }
   ],
   "source": [
    "def floyd_warshall(adjacency_list):\n",
    "  dist = {u: {v: float('inf') for v in adjacency_list} for u in adjacency_list}\n",
    "\n",
    "  for vertex in adjacency_list:\n",
    "    dist[vertex][vertex] = 0\n",
    "\n",
    "  for vertex in adjacency_list:\n",
    "    for neighbor, weight in adjacency_list[vertex]:\n",
    "      dist[vertex][neighbor] = weight\n",
    "\n",
    "  for k in adjacency_list:\n",
    "    for i in adjacency_list:\n",
    "      for j in adjacency_list:\n",
    "        if dist[i][j] > dist[i][k] + dist[k][j]:\n",
    "          dist[i][j] = dist[i][k] + dist[k][j]\n",
    "\n",
    "  return dist\n",
    "\n",
    "\n",
    "adjacency_list = {\n",
    "    1: [(3, -2)],\n",
    "    2: [(1, 4), (3, 3)],\n",
    "    3: [(4, 2)],\n",
    "    4: [(2, -1)],\n",
    "}\n",
    "\n",
    "floyd_warshall(adjacency_list) == {1: {1: 0, 2: -1, 3: -2, 4: 0},\n",
    "                                   2: {1: 4, 2: 0, 3: 2, 4: 4},\n",
    "                                   3: {1: 5, 2: 1, 3: 0, 4: 2},\n",
    "                                   4: {1: 3, 2: -1, 3: 1, 4: 0}}"
   ]
  },
  {
   "cell_type": "markdown",
   "metadata": {},
   "source": [
    "# Prim's Algorithm"
   ]
  },
  {
   "cell_type": "code",
   "execution_count": 240,
   "metadata": {},
   "outputs": [
    {
     "name": "stdout",
     "output_type": "stream",
     "text": [
      "(4, ('D', 'H'))\n",
      "(5, ('A', 'B'))\n"
     ]
    }
   ],
   "source": [
    "import heapq\n",
    "\n",
    "\n",
    "class PriorityQueue:\n",
    "  def __init__(self):\n",
    "    self.heap = []\n",
    "\n",
    "  def is_empty(self):\n",
    "    return len(self.heap) == 0\n",
    "\n",
    "  def enqueue(self, priority, item):\n",
    "    heapq.heappush(self.heap, (priority, item))\n",
    "\n",
    "  def dequeue(self):\n",
    "    return heapq.heappop(self.heap)\n",
    "\n",
    "\n",
    "pq = PriorityQueue()\n",
    "pq.enqueue(5, ('A', 'B'))  # weight, (u, v)\n",
    "pq.enqueue(4, ('D', 'H'))\n",
    "print(pq.dequeue())\n",
    "print(pq.dequeue())"
   ]
  },
  {
   "cell_type": "code",
   "execution_count": 241,
   "metadata": {},
   "outputs": [
    {
     "data": {
      "text/plain": [
       "True"
      ]
     },
     "execution_count": 241,
     "metadata": {},
     "output_type": "execute_result"
    }
   ],
   "source": [
    "def prim(adjacency_list, start_vertex):\n",
    "  mst = []\n",
    "  pq = PriorityQueue()\n",
    "  visited = {vertex: False for vertex in adjacency_list}\n",
    "  visited[start_vertex] = True\n",
    "\n",
    "  for neighbor, weight in adjacency_list[start_vertex]:\n",
    "    pq.enqueue(weight, (start_vertex, neighbor))\n",
    "\n",
    "  while not pq.is_empty():\n",
    "    weight, (u, v) = pq.dequeue()\n",
    "\n",
    "    if not visited[v]:\n",
    "      mst.append((u, v, weight))\n",
    "      visited[v] = True\n",
    "      for next_neighbor, next_weight in adjacency_list[v]:\n",
    "        if not visited[next_neighbor]:\n",
    "          pq.enqueue(next_weight, (v, next_neighbor))\n",
    "\n",
    "  return mst\n",
    "\n",
    "\n",
    "adjacency_list = {\n",
    "    0: [(1, 10), (2, 6)],\n",
    "    1: [(0, 10), (3, 15), (2, 4)],\n",
    "    2: [(0, 6), (1, 4), (3, 11)],\n",
    "    3: [(1, 15), (2, 11)]\n",
    "}\n",
    "\n",
    "prim(adjacency_list, 0) == [(0, 2, 6), (2, 1, 4), (2, 3, 11)]"
   ]
  },
  {
   "cell_type": "code",
   "execution_count": 242,
   "metadata": {},
   "outputs": [
    {
     "data": {
      "text/plain": [
       "True"
      ]
     },
     "execution_count": 242,
     "metadata": {},
     "output_type": "execute_result"
    }
   ],
   "source": [
    "adjacency_list = {\n",
    "    'A': [('C', 3), ('D', 3), ('B', 2)],\n",
    "    'B': [('A', 2), ('C', 4), ('E', 3)],\n",
    "    'C': [('A', 3), ('B', 4), ('F', 6), ('E', 1)],\n",
    "    'D': [('A', 3), ('F', 7)],\n",
    "    'E': [('B', 3), ('C', 1), ('F', 8)],\n",
    "    'F': [('D', 7), ('E', 8), ('G', 9), ('C', 6)],\n",
    "    'G': [('F', 9)]\n",
    "}\n",
    "\n",
    "prim(adjacency_list, 'A') == [('A', 'B', 2),\n",
    "                              ('A', 'C', 3),\n",
    "                              ('C', 'E', 1),\n",
    "                              ('A', 'D', 3),\n",
    "                              ('C', 'F', 6),\n",
    "                              ('F', 'G', 9)]"
   ]
  },
  {
   "cell_type": "markdown",
   "metadata": {},
   "source": [
    "# Kruskal's Algorithm"
   ]
  },
  {
   "cell_type": "code",
   "execution_count": 243,
   "metadata": {},
   "outputs": [
    {
     "data": {
      "text/plain": [
       "True"
      ]
     },
     "execution_count": 243,
     "metadata": {},
     "output_type": "execute_result"
    }
   ],
   "source": [
    "def kruskal(adjacency_list):\n",
    "  mst = []\n",
    "\n",
    "  edges = []\n",
    "  for vertex in adjacency_list:\n",
    "    for neighbor, weight in adjacency_list[vertex]:\n",
    "      edges.append((weight, vertex, neighbor))\n",
    "  edges.sort()\n",
    "\n",
    "  parent = {vertex: vertex for vertex in adjacency_list}\n",
    "\n",
    "  def find(node):\n",
    "    while parent[node] != node:\n",
    "      node = parent[node]\n",
    "    return node\n",
    "\n",
    "  for weight, u, v in edges:\n",
    "    root1 = find(u)\n",
    "    root2 = find(v)\n",
    "    if root1 != root2:\n",
    "      parent[root2] = root1\n",
    "      mst.append((u, v, weight))\n",
    "\n",
    "  return mst\n",
    "\n",
    "\n",
    "adjacency_list = {\n",
    "    0: [(1, 10), (2, 6)],\n",
    "    1: [(0, 10), (3, 15), (2, 4)],\n",
    "    2: [(0, 6), (1, 4), (3, 11)],\n",
    "    3: [(1, 15), (2, 11)]\n",
    "}\n",
    "\n",
    "kruskal(adjacency_list) == [(1, 2, 4), (0, 2, 6), (2, 3, 11)]"
   ]
  },
  {
   "cell_type": "code",
   "execution_count": 244,
   "metadata": {},
   "outputs": [
    {
     "data": {
      "text/plain": [
       "True"
      ]
     },
     "execution_count": 244,
     "metadata": {},
     "output_type": "execute_result"
    }
   ],
   "source": [
    "adjacency_list = {\n",
    "    'A': [('C', 3), ('D', 3), ('B', 2)],\n",
    "    'B': [('A', 2), ('C', 4), ('E', 3)],\n",
    "    'C': [('A', 3), ('B', 4), ('F', 6), ('E', 1)],\n",
    "    'D': [('A', 3), ('F', 7)],\n",
    "    'E': [('B', 3), ('C', 1), ('F', 8)],\n",
    "    'F': [('D', 7), ('E', 8), ('G', 9), ('C', 6)],\n",
    "    'G': [('F', 9)]\n",
    "}\n",
    "\n",
    "kruskal(adjacency_list) == [('C', 'E', 1),\n",
    "                            ('A', 'B', 2),\n",
    "                            ('A', 'C', 3),\n",
    "                            ('A', 'D', 3),\n",
    "                            ('C', 'F', 6),\n",
    "                            ('F', 'G', 9)]"
   ]
  },
  {
   "cell_type": "code",
   "execution_count": 245,
   "metadata": {},
   "outputs": [
    {
     "data": {
      "text/plain": [
       "True"
      ]
     },
     "execution_count": 245,
     "metadata": {},
     "output_type": "execute_result"
    }
   ],
   "source": [
    "adjacency_list = {1: [(2, 2)],\n",
    "                  2: [(6, 7)],\n",
    "                  3: [(2, 3), (6, 8)],\n",
    "                  4: [(3, 5), (1, 1), (2, 3)],\n",
    "                  5: [(1, 4), (4, 9)],\n",
    "                  6: []}\n",
    "\n",
    "kruskal(adjacency_list) == [(4, 1, 1), (1, 2, 2), (3, 2, 3), (5, 1, 4), (2, 6, 7)]"
   ]
  },
  {
   "cell_type": "markdown",
   "metadata": {},
   "source": [
    "# Some utility functions"
   ]
  },
  {
   "cell_type": "code",
   "execution_count": 246,
   "metadata": {},
   "outputs": [
    {
     "data": {
      "text/plain": [
       "{'A': [('B', 10)], 'H': [], 'B': [('H', 20)]}"
      ]
     },
     "execution_count": 246,
     "metadata": {},
     "output_type": "execute_result"
    },
    {
     "data": {
      "text/plain": [
       "{'A': [('B', 10)], 'H': [('B', 20)], 'B': [('A', 10), ('H', 20)]}"
      ]
     },
     "execution_count": 246,
     "metadata": {},
     "output_type": "execute_result"
    }
   ],
   "source": [
    "def create_directed_adjacency_list(edges):\n",
    "  vertices = set()\n",
    "  for u, v, w in edges:\n",
    "    vertices.add(u)\n",
    "    vertices.add(v)\n",
    "\n",
    "  adjacency_list = {}\n",
    "  for v in vertices:\n",
    "    adjacency_list[v] = []\n",
    "  for u, v, w in edges:\n",
    "    adjacency_list[u].append((v, w))  # u -> v\n",
    "  return adjacency_list\n",
    "\n",
    "\n",
    "def create_undirected_adjacency_list(edges):\n",
    "  vertices = set()\n",
    "  for u, v, w in edges:\n",
    "    vertices.add(u)\n",
    "    vertices.add(v)\n",
    "\n",
    "  adjacency_list = {}\n",
    "  for v in vertices:\n",
    "    adjacency_list[v] = []\n",
    "  for u, v, w in edges:\n",
    "    adjacency_list[u].append((v, w))  # u -> v (undirected graph)\n",
    "    adjacency_list[v].append((u, w))  # v -> u (undirected graph)\n",
    "  return adjacency_list\n",
    "\n",
    "\n",
    "create_directed_adjacency_list([('A', 'B', 10), ('B', 'H', 20)])\n",
    "create_undirected_adjacency_list([('A', 'B', 10), ('B', 'H', 20)])"
   ]
  },
  {
   "cell_type": "markdown",
   "metadata": {},
   "source": [
    "# GrPA 1"
   ]
  },
  {
   "cell_type": "code",
   "execution_count": 247,
   "metadata": {},
   "outputs": [],
   "source": [
    "# Kruskal's Algorithm (standard implementation)\n",
    "def kruskal(adjacency_list):\n",
    "  mst = []\n",
    "\n",
    "  edges = []\n",
    "  for vertex in adjacency_list:\n",
    "    for neighbor, weight in adjacency_list[vertex]:\n",
    "      edges.append((weight, vertex, neighbor))\n",
    "  edges.sort()\n",
    "\n",
    "  parent = {vertex: vertex for vertex in adjacency_list}\n",
    "\n",
    "  def find(node):\n",
    "    while parent[node] != node:\n",
    "      node = parent[node]\n",
    "    return node\n",
    "\n",
    "  for weight, u, v in edges:\n",
    "    root1 = find(u)\n",
    "    root2 = find(v)\n",
    "    if root1 != root2:\n",
    "      parent[root2] = root1\n",
    "      mst.append((u, v, weight))\n",
    "\n",
    "  return mst"
   ]
  },
  {
   "cell_type": "code",
   "execution_count": 248,
   "metadata": {},
   "outputs": [],
   "source": [
    "def fiber_link(adjacency_list):\n",
    "  mst = kruskal(adjacency_list)  # Kruskal's Algorithm (standard implementation)\n",
    "  fiber_length = 0\n",
    "  for u, v, w in mst:\n",
    "    fiber_length += w\n",
    "  return fiber_length"
   ]
  },
  {
   "cell_type": "code",
   "execution_count": 249,
   "metadata": {},
   "outputs": [
    {
     "data": {
      "text/plain": [
       "True"
      ]
     },
     "execution_count": 249,
     "metadata": {},
     "output_type": "execute_result"
    },
    {
     "data": {
      "text/plain": [
       "True"
      ]
     },
     "execution_count": 249,
     "metadata": {},
     "output_type": "execute_result"
    },
    {
     "data": {
      "text/plain": [
       "True"
      ]
     },
     "execution_count": 249,
     "metadata": {},
     "output_type": "execute_result"
    },
    {
     "data": {
      "text/plain": [
       "True"
      ]
     },
     "execution_count": 249,
     "metadata": {},
     "output_type": "execute_result"
    },
    {
     "data": {
      "text/plain": [
       "True"
      ]
     },
     "execution_count": 249,
     "metadata": {},
     "output_type": "execute_result"
    }
   ],
   "source": [
    "# Test cases\n",
    "\n",
    "edges = [(0, 1, 10), (0, 2, 50), (0, 3, 300), (5, 6, 45), (2, 1, 30),\n",
    "         (6, 4, 37), (1, 6, 65), (2, 5, 76), (1, 3, 40), (3, 4, 60), (2, 4, 20)]\n",
    "fiber_link(create_undirected_adjacency_list(edges)) == 182\n",
    "\n",
    "edges = [(0, 1, 1), (0, 2, 6), (1, 2, 3), (1, 3, 4), (2, 4, 4), (2, 3, 2),\n",
    "         (3, 4, 3), (1, 5, 2), (2, 5, 7), (3, 5, 1), (4, 5, 5)]\n",
    "fiber_link(create_undirected_adjacency_list(edges)) == 9\n",
    "\n",
    "edges = [(0, 1, 16), (0, 3, 2), (1, 2, 4), (3, 4, 10), (0, 4, 9), (3, 5, 15), (1, 5, 7), (2, 5, 6)]\n",
    "fiber_link(create_undirected_adjacency_list(edges)) == 36\n",
    "\n",
    "edges = [(0, 1, 10), (0, 2, 4), (1, 2, 7), (0, 5, 4), (0, 4, 2), (2, 5, 7), (3, 5, 2), (3, 4, 6)]\n",
    "fiber_link(create_undirected_adjacency_list(edges)) == 19\n",
    "\n",
    "edges = [(0, 1, 1), (0, 2, 4), (1, 2, 7), (0, 5, 14), (0, 4, 12), (2, 5, 17), (3, 5, 22), (3, 4, 26)]\n",
    "fiber_link(create_undirected_adjacency_list(edges)) == 53"
   ]
  },
  {
   "cell_type": "markdown",
   "metadata": {},
   "source": [
    "# GrPA 2"
   ]
  },
  {
   "cell_type": "code",
   "execution_count": 250,
   "metadata": {},
   "outputs": [
    {
     "name": "stdout",
     "output_type": "stream",
     "text": [
      "C\n",
      "B\n"
     ]
    }
   ],
   "source": [
    "import heapq\n",
    "\n",
    "\n",
    "class PriorityQueue:\n",
    "  def __init__(self):\n",
    "    self.heap = []\n",
    "\n",
    "  def is_empty(self):\n",
    "    return len(self.heap) == 0\n",
    "\n",
    "  def enqueue(self, priority, item):\n",
    "    heapq.heappush(self.heap, (priority, item))\n",
    "\n",
    "  def dequeue(self):\n",
    "    return heapq.heappop(self.heap)[1]\n",
    "\n",
    "\n",
    "pq = PriorityQueue()\n",
    "pq.enqueue(4, 'B')\n",
    "pq.enqueue(2, 'C')\n",
    "print(pq.dequeue())\n",
    "print(pq.dequeue())"
   ]
  },
  {
   "cell_type": "code",
   "execution_count": 251,
   "metadata": {},
   "outputs": [
    {
     "data": {
      "text/plain": [
       "({'A': 0, 'B': 3, 'C': 2, 'D': 5, 'E': 6},\n",
       " {'A': None, 'B': 'C', 'C': 'A', 'D': 'B', 'E': 'B'})"
      ]
     },
     "execution_count": 251,
     "metadata": {},
     "output_type": "execute_result"
    }
   ],
   "source": [
    "# Dijkstra's Algorithm (slightly modified for `predecessor`)\n",
    "def dijkstra(adjacency_list, start_vertex):\n",
    "  visited = {vertex: False for vertex in adjacency_list}\n",
    "  predecessor = {vertex: None for vertex in adjacency_list}  # NEW 😱\n",
    "  distance = {vertex: float('inf') for vertex in adjacency_list}\n",
    "  distance[start_vertex] = 0\n",
    "\n",
    "  pq = PriorityQueue()\n",
    "  pq.enqueue(0, start_vertex)\n",
    "\n",
    "  while not pq.is_empty():\n",
    "    current_vertex = pq.dequeue()\n",
    "    visited[current_vertex] = True\n",
    "\n",
    "    # print(f'{current_vertex=}')\n",
    "\n",
    "    for neighbor, weight in adjacency_list[current_vertex]:\n",
    "      if not visited[neighbor]:\n",
    "        new_distance = distance[current_vertex] + weight\n",
    "        if new_distance < distance[neighbor]:\n",
    "          distance[neighbor] = new_distance\n",
    "          pq.enqueue(new_distance, neighbor)\n",
    "          predecessor[neighbor] = current_vertex  # NEW 😱\n",
    "\n",
    "  return distance, predecessor\n",
    "\n",
    "\n",
    "adjacency_list = {\n",
    "    'A': [('B', 4), ('C', 2)],\n",
    "    'B': [('C', 3), ('D', 2), ('E', 3)],\n",
    "    'C': [('B', 1), ('D', 4), ('E', 5)],\n",
    "    'D': [],\n",
    "    'E': [('D', 1)],\n",
    "}\n",
    "\n",
    "dijkstra(adjacency_list, 'A')  # {'A': 0, 'B': 3, 'C': 2, 'D': 5, 'E': 6}"
   ]
  },
  {
   "cell_type": "code",
   "execution_count": 252,
   "metadata": {},
   "outputs": [
    {
     "data": {
      "text/plain": [
       "(198, [0, 1, 2, 5, 6, 4])"
      ]
     },
     "execution_count": 252,
     "metadata": {},
     "output_type": "execute_result"
    }
   ],
   "source": [
    "def construct_path(predecessor, destination):\n",
    "  path = []\n",
    "  while destination is not None:\n",
    "    path.append(destination)\n",
    "    destination = predecessor[destination]\n",
    "  path.reverse()\n",
    "  return path\n",
    "\n",
    "\n",
    "def min_cost_walk(adjacency_list, S, D, V):  # go: S -> V -> D\n",
    "  dist_S, predecessor_S = dijkstra(adjacency_list, S)\n",
    "  dist_V, predecessor_V = dijkstra(adjacency_list, V)\n",
    "\n",
    "  path_S = construct_path(predecessor_S, V)  # S -> V\n",
    "  path_V = construct_path(predecessor_V, D)  # V -> D\n",
    "\n",
    "  # print(f'{dist_S=}, {predecessor_S=}, {path_S=}')\n",
    "  # print(f'{dist_V=}, {predecessor_V=}, {path_V=}')\n",
    "\n",
    "  total_distance = dist_S[V] + dist_V[D]\n",
    "  walk_route = path_S[:-1] + path_V\n",
    "  return total_distance, walk_route\n",
    "\n",
    "\n",
    "edges = [(0, 1, 10), (0, 2, 50), (0, 3, 300), (5, 6, 45), (2, 1, 30),\n",
    "         (6, 4, 37), (1, 6, 65), (2, 5, 76), (1, 3, 40), (3, 4, 60), (2, 4, 20)]\n",
    "min_cost_walk(create_undirected_adjacency_list(edges), 0, 4, 5)  # (198, [0, 1, 2, 5, 6, 4])"
   ]
  },
  {
   "cell_type": "code",
   "execution_count": 253,
   "metadata": {},
   "outputs": [
    {
     "data": {
      "text/plain": [
       "True"
      ]
     },
     "execution_count": 253,
     "metadata": {},
     "output_type": "execute_result"
    },
    {
     "data": {
      "text/plain": [
       "True"
      ]
     },
     "execution_count": 253,
     "metadata": {},
     "output_type": "execute_result"
    },
    {
     "data": {
      "text/plain": [
       "True"
      ]
     },
     "execution_count": 253,
     "metadata": {},
     "output_type": "execute_result"
    },
    {
     "data": {
      "text/plain": [
       "True"
      ]
     },
     "execution_count": 253,
     "metadata": {},
     "output_type": "execute_result"
    }
   ],
   "source": [
    "# Test cases\n",
    "\n",
    "edges = [(0, 1, 10), (0, 2, 50), (0, 3, 300), (5, 6, 45), (2, 1, 30),\n",
    "         (6, 4, 37), (1, 6, 65), (2, 5, 76), (1, 3, 40), (3, 4, 60), (2, 4, 20)]\n",
    "min_cost_walk(create_undirected_adjacency_list(edges), 0, 5, 1) == (116, [0, 1, 2, 5])\n",
    "\n",
    "edges = [(0, 1, 10), (0, 2, 20), (0, 3, 30), (5, 6, 120), (2, 1, 5), (6, 4, 20),\n",
    "         (1, 6, 15), (2, 5, 70), (1, 3, 7), (3, 4, 100), (2, 4, 50)]\n",
    "min_cost_walk(create_undirected_adjacency_list(edges), 2, 3, 4) == (82, [2, 1, 6, 4, 6, 1, 3])\n",
    "\n",
    "edges = [(0, 1, 10), (0, 2, 20), (0, 3, 30), (5, 6, 120), (2, 1, 5), (6, 4, 20),\n",
    "         (1, 6, 15), (2, 5, 70), (1, 3, 7), (3, 4, 100), (2, 4, 50)]\n",
    "min_cost_walk(create_undirected_adjacency_list(edges), 0, 4, 1) == (45, [0, 1, 6, 4])\n",
    "\n",
    "edges = [(0, 1, 10), (0, 2, 20), (0, 3, 30), (5, 6, 120), (2, 1, 5), (6, 4, 20),\n",
    "         (1, 6, 15), (2, 5, 70), (1, 3, 7), (3, 4, 100), (2, 4, 50)]\n",
    "min_cost_walk(create_undirected_adjacency_list(edges), 0, 4, 5) == (195, [0, 1, 2, 5, 2, 1, 6, 4])"
   ]
  },
  {
   "cell_type": "markdown",
   "metadata": {},
   "source": [
    "# GrPA 3"
   ]
  },
  {
   "cell_type": "code",
   "execution_count": 254,
   "metadata": {},
   "outputs": [],
   "source": [
    "# Bellman-Ford Algorithm (standard implementation with cycle detection)\n",
    "def bellman_ford(adjacency_list, start_vertex):\n",
    "  distance = {vertex: float('inf') for vertex in adjacency_list}\n",
    "  distance[start_vertex] = 0\n",
    "\n",
    "  # Relax all edges |V|-1 times\n",
    "  for _ in range(len(adjacency_list)):  # OMG, why no (-1)? ☠️😱\n",
    "    for vertex in adjacency_list:  # S A B C D E F\n",
    "      for neighbor, weight in adjacency_list[vertex]:\n",
    "        # same as dijkstra: you offer better distances to neighbors\n",
    "        new_distance = distance[vertex] + weight\n",
    "        if new_distance < distance[neighbor]:\n",
    "          distance[neighbor] = new_distance\n",
    "\n",
    "  for vertex in adjacency_list:  # S A B C D E F\n",
    "    for neighbor, weight in adjacency_list[vertex]:\n",
    "      # same as dijkstra: you offer better distances to neighbors\n",
    "      new_distance = distance[vertex] + weight\n",
    "      if new_distance < distance[neighbor]:\n",
    "        return None  # NEW 😱\n",
    "\n",
    "  return distance"
   ]
  },
  {
   "cell_type": "code",
   "execution_count": 255,
   "metadata": {},
   "outputs": [
    {
     "name": "stdout",
     "output_type": "stream",
     "text": [
      "distance=None\n"
     ]
    },
    {
     "data": {
      "text/plain": [
       "True"
      ]
     },
     "execution_count": 255,
     "metadata": {},
     "output_type": "execute_result"
    }
   ],
   "source": [
    "def is_negative_weight_cycle_present(adjacency_list):\n",
    "  distance = bellman_ford(adjacency_list, 0)\n",
    "  print(f'{distance=}')\n",
    "  return distance is None\n",
    "\n",
    "\n",
    "edges = [(0, 1, 10), (0, 2, -5), (0, 3, 2), (3, 2, -5), (2, 1, -20), (1, 3, 10)]\n",
    "is_negative_weight_cycle_present(create_directed_adjacency_list(edges)) == True"
   ]
  },
  {
   "cell_type": "code",
   "execution_count": 256,
   "metadata": {},
   "outputs": [
    {
     "name": "stdout",
     "output_type": "stream",
     "text": [
      "distance=None\n"
     ]
    },
    {
     "data": {
      "text/plain": [
       "True"
      ]
     },
     "execution_count": 256,
     "metadata": {},
     "output_type": "execute_result"
    },
    {
     "name": "stdout",
     "output_type": "stream",
     "text": [
      "distance=None\n"
     ]
    },
    {
     "data": {
      "text/plain": [
       "True"
      ]
     },
     "execution_count": 256,
     "metadata": {},
     "output_type": "execute_result"
    },
    {
     "name": "stdout",
     "output_type": "stream",
     "text": [
      "distance={0: 0, 1: 10, 2: 30, 3: 20, 4: 15, 5: 0}\n"
     ]
    },
    {
     "data": {
      "text/plain": [
       "True"
      ]
     },
     "execution_count": 256,
     "metadata": {},
     "output_type": "execute_result"
    },
    {
     "name": "stdout",
     "output_type": "stream",
     "text": [
      "distance={0: 0, 1: -10, 2: -30, 3: -50}\n"
     ]
    },
    {
     "data": {
      "text/plain": [
       "True"
      ]
     },
     "execution_count": 256,
     "metadata": {},
     "output_type": "execute_result"
    }
   ],
   "source": [
    "# Test cases\n",
    "\n",
    "edges = [(0, 1, 20), (1, 4, -10), (4, 0, 5), (0, 2, 10), (0, 3, 10), (2, 3, 20), (3, 4, 30), (3, 1, -20)]\n",
    "is_negative_weight_cycle_present(create_directed_adjacency_list(edges)) == True\n",
    "\n",
    "edges = [(0, 1, 20), (1, 2, 10), (2, 3, 20), (3, 1, -40)]\n",
    "is_negative_weight_cycle_present(create_directed_adjacency_list(edges)) == True\n",
    "\n",
    "edges = [(0, 1, 10), (1, 2, 20), (2, 3, -10), (3, 4, -5), (4, 5, -15), (5, 0, 5)]\n",
    "is_negative_weight_cycle_present(create_directed_adjacency_list(edges)) == False\n",
    "\n",
    "edges = [(0, 1, -10), (1, 2, -20), (2, 3, -20)]\n",
    "is_negative_weight_cycle_present(create_directed_adjacency_list(edges)) == False"
   ]
  }
 ],
 "metadata": {
  "kernelspec": {
   "display_name": "Python 3",
   "language": "python",
   "name": "python3"
  },
  "language_info": {
   "codemirror_mode": {
    "name": "ipython",
    "version": 3
   },
   "file_extension": ".py",
   "mimetype": "text/x-python",
   "name": "python",
   "nbconvert_exporter": "python",
   "pygments_lexer": "ipython3",
   "version": "3.12.0"
  }
 },
 "nbformat": 4,
 "nbformat_minor": 2
}
