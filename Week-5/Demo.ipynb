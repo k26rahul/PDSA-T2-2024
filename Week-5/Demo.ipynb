{
 "cells": [
  {
   "cell_type": "code",
   "execution_count": 10,
   "metadata": {},
   "outputs": [],
   "source": [
    "# each tuple (u, v, w) represents an edge from u to v with weight w.\n",
    "edges = [(0, 1, 10), (0, 2, 80), (1, 2, 6), (1, 4, 20),\n",
    "         (2, 3, 70), (4, 5, 50), (4, 6, 4), (5, 6, 10)]  # E"
   ]
  },
  {
   "cell_type": "code",
   "execution_count": 12,
   "metadata": {},
   "outputs": [],
   "source": [
    "def get_vertices(edges):\n",
    "  vertices = set()\n",
    "  for u, v, w in edges:\n",
    "    vertices.add(u)\n",
    "    vertices.add(v)\n",
    "  return vertices\n",
    "\n",
    "\n",
    "vertices = get_vertices(edges)  # V"
   ]
  },
  {
   "cell_type": "code",
   "execution_count": 13,
   "metadata": {},
   "outputs": [
    {
     "data": {
      "text/plain": [
       "[(0, 1, 10),\n",
       " (0, 2, 80),\n",
       " (1, 2, 6),\n",
       " (1, 4, 20),\n",
       " (2, 3, 70),\n",
       " (4, 5, 50),\n",
       " (4, 6, 4),\n",
       " (5, 6, 10)]"
      ]
     },
     "execution_count": 13,
     "metadata": {},
     "output_type": "execute_result"
    },
    {
     "data": {
      "text/plain": [
       "{0, 1, 2, 3, 4, 5, 6}"
      ]
     },
     "execution_count": 13,
     "metadata": {},
     "output_type": "execute_result"
    }
   ],
   "source": [
    "edges\n",
    "vertices"
   ]
  },
  {
   "cell_type": "code",
   "execution_count": 22,
   "metadata": {},
   "outputs": [
    {
     "data": {
      "text/plain": [
       "{0: [(1, 10), (2, 80)],\n",
       " 1: [(2, 6), (4, 20)],\n",
       " 2: [(3, 70)],\n",
       " 3: [],\n",
       " 4: [(5, 50), (6, 4)],\n",
       " 5: [(6, 10)],\n",
       " 6: []}"
      ]
     },
     "execution_count": 22,
     "metadata": {},
     "output_type": "execute_result"
    }
   ],
   "source": [
    "def create_adjacency_list(vertices, edges):\n",
    "  adjacency_list = {}\n",
    "\n",
    "  # empty neighbors\n",
    "  for u in vertices:\n",
    "    adjacency_list[u] = []\n",
    "\n",
    "  # loop over edges and append neighbors\n",
    "  for u, v, w in edges:\n",
    "    adjacency_list[u].append((v, w))  # u is linked to v with weight w\n",
    "\n",
    "  return adjacency_list\n",
    "\n",
    "\n",
    "create_adjacency_list(vertices, edges)"
   ]
  },
  {
   "cell_type": "markdown",
   "metadata": {},
   "source": [
    "# Dijkstra's Algorithm"
   ]
  },
  {
   "cell_type": "code",
   "execution_count": 36,
   "metadata": {},
   "outputs": [
    {
     "name": "stdout",
     "output_type": "stream",
     "text": [
      "current_vertex='A'\n",
      "current_vertex='C'\n",
      "current_vertex='B'\n",
      "current_vertex='D'\n",
      "current_vertex='E'\n"
     ]
    },
    {
     "data": {
      "text/plain": [
       "{'A': 0, 'B': 3, 'C': 2, 'D': 5, 'E': 6}"
      ]
     },
     "execution_count": 36,
     "metadata": {},
     "output_type": "execute_result"
    }
   ],
   "source": [
    "def dijkstra(adjacency_list, start_vertex):\n",
    "  visited = {vertex: False for vertex in adjacency_list}\n",
    "  distances = {vertex: float('inf') for vertex in adjacency_list}\n",
    "  distances[start_vertex] = 0\n",
    "\n",
    "  # Iterate until all vertices are processed\n",
    "  while True:\n",
    "    # Find current_vertex with the smallest known distance\n",
    "    current_vertex = None\n",
    "    for vertex in adjacency_list:\n",
    "      if not visited[vertex]:\n",
    "        if current_vertex is None:\n",
    "          current_vertex = vertex\n",
    "        if distances[vertex] < distances[current_vertex]:\n",
    "          current_vertex = vertex\n",
    "\n",
    "    # Break if no current_vertex is found\n",
    "    if current_vertex is None:\n",
    "      break\n",
    "\n",
    "    print(f'{current_vertex=}')\n",
    "    visited[current_vertex] = True\n",
    "\n",
    "    # Update distances to its neighbors\n",
    "    for neighbor, weight in adjacency_list[current_vertex]:\n",
    "      if not visited[neighbor]:\n",
    "        new_distance = distances[current_vertex] + weight\n",
    "        if new_distance < distances[neighbor]:\n",
    "          distances[neighbor] = new_distance\n",
    "\n",
    "  return distances\n",
    "\n",
    "\n",
    "adjacency_list = {\n",
    "    'A': [('B', 4), ('C', 2)],\n",
    "    'B': [('C', 3), ('D', 2), ('E', 3)],\n",
    "    'C': [('B', 1), ('D', 4), ('E', 5)],\n",
    "    'D': [],\n",
    "    'E': [('D', 1)],\n",
    "}\n",
    "\n",
    "dijkstra(adjacency_list, 'A')"
   ]
  },
  {
   "cell_type": "code",
   "execution_count": 37,
   "metadata": {},
   "outputs": [
    {
     "name": "stdout",
     "output_type": "stream",
     "text": [
      "time to change goal from None to 17\n",
      "time to change goal from 17 to 15\n",
      "time to change goal from 15 to 14\n",
      "time to change goal from 14 to 10\n",
      "time to change goal from 10 to 2\n",
      "2\n"
     ]
    }
   ],
   "source": [
    "goal = None\n",
    "\n",
    "numbers = [17, 15, 14, 19, 21, 10, 2, 7]\n",
    "\n",
    "for num in numbers:\n",
    "  if goal is None:\n",
    "    print(f'time to change goal from {goal} to {num}')\n",
    "    goal = num\n",
    "  if num < goal:\n",
    "    print(f'time to change goal from {goal} to {num}')\n",
    "    goal = num\n",
    "\n",
    "print(goal)"
   ]
  },
  {
   "cell_type": "markdown",
   "metadata": {},
   "source": [
    "# Dijkstra's Algorithm (2)\n",
    "\n",
    "**utilizes a priority queue**"
   ]
  },
  {
   "cell_type": "code",
   "execution_count": 50,
   "metadata": {},
   "outputs": [
    {
     "data": {
      "text/plain": [
       "(50, 'vidhatri')"
      ]
     },
     "execution_count": 50,
     "metadata": {},
     "output_type": "execute_result"
    }
   ],
   "source": [
    "import heapq\n",
    "\n",
    "heap = []\n",
    "\n",
    "# prioritize lower marks\n",
    "heapq.heappush(heap, (80, 'rahul'))  # (priority, item)\n",
    "heapq.heappush(heap, (50, 'vidhatri'))  # (priority, item)\n",
    "heapq.heappush(heap, (100, 'cmd'))  # (priority, item)\n",
    "\n",
    "heapq.heappop(heap)"
   ]
  },
  {
   "cell_type": "code",
   "execution_count": 94,
   "metadata": {},
   "outputs": [
    {
     "name": "stdout",
     "output_type": "stream",
     "text": [
      "C\n",
      "B\n"
     ]
    }
   ],
   "source": [
    "class PriorityQueue:\n",
    "  def __init__(self):\n",
    "    self.heap = []\n",
    "\n",
    "  def is_empty(self):\n",
    "    return len(self.heap) == 0\n",
    "\n",
    "  def enqueue(self, priority, item):  # dijkstra (vertex, distance)\n",
    "    heapq.heappush(self.heap, (priority, item))\n",
    "\n",
    "  def dequeue(self):\n",
    "    return heapq.heappop(self.heap)[1]\n",
    "\n",
    "\n",
    "pq = PriorityQueue()\n",
    "pq.enqueue(4, 'B')\n",
    "pq.enqueue(2, 'C')\n",
    "print(pq.dequeue())\n",
    "print(pq.dequeue())"
   ]
  },
  {
   "cell_type": "code",
   "execution_count": 103,
   "metadata": {},
   "outputs": [
    {
     "name": "stdout",
     "output_type": "stream",
     "text": [
      "current_vertex='A', []\n",
      "after: [(2, 'C'), (4, 'B')]\n",
      "current_vertex='C', [(4, 'B')]\n",
      "after: [(3, 'B'), (4, 'B'), (6, 'D'), (7, 'E')]\n",
      "current_vertex='B', [(4, 'B'), (7, 'E'), (6, 'D')]\n",
      "after: [(4, 'B'), (5, 'D'), (6, 'D'), (7, 'E'), (6, 'E')]\n",
      "skip: current_vertex='B'\n",
      "current_vertex='D', [(6, 'D'), (6, 'E'), (7, 'E')]\n",
      "after: [(6, 'D'), (6, 'E'), (7, 'E')]\n",
      "skip: current_vertex='D'\n",
      "current_vertex='E', [(7, 'E')]\n",
      "after: [(7, 'E')]\n",
      "skip: current_vertex='E'\n"
     ]
    },
    {
     "data": {
      "text/plain": [
       "{'A': 0, 'B': 3, 'C': 2, 'D': 5, 'E': 6}"
      ]
     },
     "execution_count": 103,
     "metadata": {},
     "output_type": "execute_result"
    }
   ],
   "source": [
    "def dijkstra(adjacency_list, start_vertex):\n",
    "  visited = {vertex: False for vertex in adjacency_list}  # optional optimization\n",
    "  distance = {vertex: float('inf') for vertex in adjacency_list}\n",
    "  distance[start_vertex] = 0\n",
    "\n",
    "  pq = PriorityQueue()\n",
    "  pq.enqueue(0, start_vertex)\n",
    "\n",
    "  while not pq.is_empty():\n",
    "    current_vertex = pq.dequeue()\n",
    "    if visited[current_vertex]:\n",
    "      print(f'skip: {current_vertex=}')\n",
    "      continue\n",
    "\n",
    "    print(f'{current_vertex=}, {pq.heap}')\n",
    "    visited[current_vertex] = True\n",
    "\n",
    "    # Update distances to its neighbors\n",
    "    for neighbor, weight in adjacency_list[current_vertex]:\n",
    "      if not visited[neighbor]:\n",
    "        new_distance = distance[current_vertex] + weight\n",
    "        if new_distance < distance[neighbor]:\n",
    "          distance[neighbor] = new_distance\n",
    "          pq.enqueue(new_distance, neighbor)  # NEW (as compared to algo 1)\n",
    "\n",
    "    print(f'after: {pq.heap}')\n",
    "\n",
    "  return distance  # ok\n",
    "\n",
    "\n",
    "adjacency_list = {\n",
    "    'A': [('B', 4), ('C', 2)],\n",
    "    'B': [('C', 3), ('D', 2), ('E', 3)],\n",
    "    'C': [('B', 1), ('D', 4), ('E', 5)],\n",
    "    'D': [],\n",
    "    'E': [('D', 1)],\n",
    "}\n",
    "\n",
    "dijkstra(adjacency_list, 'A')"
   ]
  }
 ],
 "metadata": {
  "kernelspec": {
   "display_name": "Python 3",
   "language": "python",
   "name": "python3"
  },
  "language_info": {
   "codemirror_mode": {
    "name": "ipython",
    "version": 3
   },
   "file_extension": ".py",
   "mimetype": "text/x-python",
   "name": "python",
   "nbconvert_exporter": "python",
   "pygments_lexer": "ipython3",
   "version": "3.12.0"
  }
 },
 "nbformat": 4,
 "nbformat_minor": 2
}
