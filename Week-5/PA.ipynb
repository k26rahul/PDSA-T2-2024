{
 "cells": [
  {
   "cell_type": "markdown",
   "metadata": {},
   "source": [
    "# Some utility functions"
   ]
  },
  {
   "cell_type": "code",
   "execution_count": 67,
   "metadata": {},
   "outputs": [
    {
     "data": {
      "text/plain": [
       "{'A': [('B', 10)], 'B': [('H', 20)], 'H': []}"
      ]
     },
     "execution_count": 67,
     "metadata": {},
     "output_type": "execute_result"
    },
    {
     "data": {
      "text/plain": [
       "{'A': [('B', 10)], 'B': [('A', 10), ('H', 20)], 'H': [('B', 20)]}"
      ]
     },
     "execution_count": 67,
     "metadata": {},
     "output_type": "execute_result"
    }
   ],
   "source": [
    "def create_directed_adjacency_list(edges):\n",
    "  vertices = set()\n",
    "  for u, v, w in edges:\n",
    "    vertices.add(u)\n",
    "    vertices.add(v)\n",
    "\n",
    "  adjacency_list = {}\n",
    "  for v in vertices:\n",
    "    adjacency_list[v] = []\n",
    "  for u, v, w in edges:\n",
    "    adjacency_list[u].append((v, w))  # u -> v\n",
    "  return adjacency_list\n",
    "\n",
    "\n",
    "def create_undirected_adjacency_list(edges):\n",
    "  vertices = set()\n",
    "  for u, v, w in edges:\n",
    "    vertices.add(u)\n",
    "    vertices.add(v)\n",
    "\n",
    "  adjacency_list = {}\n",
    "  for v in vertices:\n",
    "    adjacency_list[v] = []\n",
    "  for u, v, w in edges:\n",
    "    adjacency_list[u].append((v, w))  # u -> v (undirected graph)\n",
    "    adjacency_list[v].append((u, w))  # v -> u (undirected graph)\n",
    "  return adjacency_list\n",
    "\n",
    "\n",
    "create_directed_adjacency_list([('A', 'B', 10), ('B', 'H', 20)])\n",
    "create_undirected_adjacency_list([('A', 'B', 10), ('B', 'H', 20)])"
   ]
  },
  {
   "cell_type": "markdown",
   "metadata": {},
   "source": [
    "# GrPA 1\n",
    "\n",
    "## Solution Approach: FiberLink\n",
    "\n",
    "The goal is to connect `n` cities with minimum fiber length using Kruskal's Algorithm.\n",
    "\n",
    "### Overview\n",
    "\n",
    "To solve this problem, we'll:\n",
    "1. Use Kruskal's Algorithm to build the Minimum Spanning Tree (MST).\n",
    "2. Sum the weights of the MST edges to get the total fiber length required.\n",
    "\n",
    "### Steps\n",
    "\n",
    "1. **Kruskal's Algorithm**:\n",
    "   - **Initialize**: \n",
    "     - `mst`: List to store the Minimum Spanning Tree (MST) edges.\n",
    "     - `edges`: List to store all edges in the graph.\n",
    "     - `parent`: Dictionary for the Union-Find structure, each vertex is its own parent.\n",
    "   - **Populate Edges**:\n",
    "     - Iterate through `adjacency_list`.\n",
    "     - For each vertex and its neighbors, add `(weight, vertex, neighbor)` to `edges`.\n",
    "   - **Sort Edges**:\n",
    "     - Sort `edges` based on weights.\n",
    "   - **Union-Find**:\n",
    "     - Define `find(node)` to get the root parent.\n",
    "     - For each edge `(weight, u, v)` in sorted `edges`:\n",
    "       - Find root parents `root1` and `root2` of `u` and `v`.\n",
    "       - If roots are different, merge them (`parent[root2] = root1`) and add edge to `mst`.\n",
    "   - **Return**:\n",
    "     - The MST edges.\n",
    "\n",
    "2. **FiberLink Function**:\n",
    "   - **Compute MST**:\n",
    "     - Call `kruskal(adjacency_list)` to get `mst`.\n",
    "   - **Calculate Total Fiber Length**:\n",
    "     - Initialize `fiber_length` to 0.\n",
    "     - Sum the weights of all edges in `mst`.\n",
    "   - **Return**:\n",
    "     - The total fiber length."
   ]
  },
  {
   "cell_type": "code",
   "execution_count": 68,
   "metadata": {},
   "outputs": [],
   "source": [
    "# Kruskal's Algorithm (standard implementation)\n",
    "def kruskal(adjacency_list):\n",
    "  mst = []\n",
    "\n",
    "  edges = []\n",
    "  for vertex in adjacency_list:\n",
    "    for neighbor, weight in adjacency_list[vertex]:\n",
    "      edges.append((weight, vertex, neighbor))\n",
    "  edges.sort()\n",
    "\n",
    "  parent = {vertex: vertex for vertex in adjacency_list}\n",
    "\n",
    "  def find(node):\n",
    "    while parent[node] != node:\n",
    "      node = parent[node]\n",
    "    return node\n",
    "\n",
    "  for weight, u, v in edges:\n",
    "    root1 = find(u)\n",
    "    root2 = find(v)\n",
    "    if root1 != root2:\n",
    "      parent[root2] = root1\n",
    "      mst.append((u, v, weight))\n",
    "\n",
    "  return mst"
   ]
  },
  {
   "cell_type": "code",
   "execution_count": 69,
   "metadata": {},
   "outputs": [],
   "source": [
    "def fiber_link(adjacency_list):\n",
    "  mst = kruskal(adjacency_list)  # Kruskal's Algorithm (standard implementation)\n",
    "  fiber_length = 0\n",
    "  for u, v, w in mst:\n",
    "    fiber_length += w\n",
    "  return fiber_length"
   ]
  },
  {
   "cell_type": "code",
   "execution_count": 70,
   "metadata": {},
   "outputs": [
    {
     "data": {
      "text/plain": [
       "True"
      ]
     },
     "execution_count": 70,
     "metadata": {},
     "output_type": "execute_result"
    },
    {
     "data": {
      "text/plain": [
       "True"
      ]
     },
     "execution_count": 70,
     "metadata": {},
     "output_type": "execute_result"
    },
    {
     "data": {
      "text/plain": [
       "True"
      ]
     },
     "execution_count": 70,
     "metadata": {},
     "output_type": "execute_result"
    },
    {
     "data": {
      "text/plain": [
       "True"
      ]
     },
     "execution_count": 70,
     "metadata": {},
     "output_type": "execute_result"
    },
    {
     "data": {
      "text/plain": [
       "True"
      ]
     },
     "execution_count": 70,
     "metadata": {},
     "output_type": "execute_result"
    }
   ],
   "source": [
    "# Test cases\n",
    "\n",
    "edges = [(0, 1, 10), (0, 2, 50), (0, 3, 300), (5, 6, 45), (2, 1, 30),\n",
    "         (6, 4, 37), (1, 6, 65), (2, 5, 76), (1, 3, 40), (3, 4, 60), (2, 4, 20)]\n",
    "fiber_link(create_undirected_adjacency_list(edges)) == 182\n",
    "\n",
    "edges = [(0, 1, 1), (0, 2, 6), (1, 2, 3), (1, 3, 4), (2, 4, 4), (2, 3, 2),\n",
    "         (3, 4, 3), (1, 5, 2), (2, 5, 7), (3, 5, 1), (4, 5, 5)]\n",
    "fiber_link(create_undirected_adjacency_list(edges)) == 9\n",
    "\n",
    "edges = [(0, 1, 16), (0, 3, 2), (1, 2, 4), (3, 4, 10), (0, 4, 9), (3, 5, 15), (1, 5, 7), (2, 5, 6)]\n",
    "fiber_link(create_undirected_adjacency_list(edges)) == 36\n",
    "\n",
    "edges = [(0, 1, 10), (0, 2, 4), (1, 2, 7), (0, 5, 4), (0, 4, 2), (2, 5, 7), (3, 5, 2), (3, 4, 6)]\n",
    "fiber_link(create_undirected_adjacency_list(edges)) == 19\n",
    "\n",
    "edges = [(0, 1, 1), (0, 2, 4), (1, 2, 7), (0, 5, 14), (0, 4, 12), (2, 5, 17), (3, 5, 22), (3, 4, 26)]\n",
    "fiber_link(create_undirected_adjacency_list(edges)) == 53"
   ]
  },
  {
   "cell_type": "markdown",
   "metadata": {},
   "source": [
    "# GrPA 2\n",
    "\n",
    "## Solution Approach: MinCostWalk\n",
    "\n",
    "The goal is to find the minimum cost walk from node `S` to node `D` via node `V` using Dijkstra's Algorithm.\n",
    "\n",
    "### Overview\n",
    "\n",
    "To solve this problem, we'll:\n",
    "1. Use Dijkstra's Algorithm to find the shortest path from `S` to `V` and from `V` to `D`.\n",
    "2. Combine these paths to get the total minimum cost and the walk route.\n",
    "\n",
    "### Steps\n",
    "\n",
    "1. **Priority Queue Class**:\n",
    "   - Implement a `PriorityQueue` using `heapq` to manage vertices based on distance.\n",
    "\n",
    "2. **Dijkstra's Algorithm**:\n",
    "   - **Initialize**:\n",
    "     - `visited`: Dictionary to track visited vertices.\n",
    "     - `predecessor`: Dictionary to store the path.\n",
    "     - `distance`: Dictionary to store the shortest distance from the start vertex.\n",
    "   - **Processing**:\n",
    "     - Start from `start_vertex`, set its distance to 0, and enqueue it.\n",
    "     - While the queue is not empty:\n",
    "       - Dequeue the vertex with the smallest distance.\n",
    "       - For each neighbor, calculate the new distance.\n",
    "       - If the new distance is shorter, update the distance and predecessor, and enqueue the neighbor.\n",
    "\n",
    "3. **Construct Path**:\n",
    "   - Use the `predecessor` dictionary to backtrack from the destination to the start to get the path.\n",
    "\n",
    "4. **MinCostWalk Function**:\n",
    "   - **Compute Paths**:\n",
    "     - Use Dijkstra's Algorithm to find the shortest path and distance from `S` to `V` (`dist_S`, `predecessor_S`).\n",
    "     - Use Dijkstra's Algorithm to find the shortest path and distance from `V` to `D` (`dist_V`, `predecessor_V`).\n",
    "   - **Combine Paths**:\n",
    "     - Construct the path from `S` to `V` (`path_S`).\n",
    "     - Construct the path from `V` to `D` (`path_V`).\n",
    "     - Merge these paths, ensuring not to repeat node `V`.\n",
    "   - **Calculate Total Distance**:\n",
    "     - Sum the distances from `S` to `V` and from `V` to `D`.\n",
    "   - **Return**:\n",
    "     - The total minimum cost and the combined walk route."
   ]
  },
  {
   "cell_type": "code",
   "execution_count": 71,
   "metadata": {},
   "outputs": [
    {
     "name": "stdout",
     "output_type": "stream",
     "text": [
      "C\n",
      "B\n"
     ]
    }
   ],
   "source": [
    "import heapq\n",
    "\n",
    "\n",
    "class PriorityQueue:\n",
    "  def __init__(self):\n",
    "    self.heap = []\n",
    "\n",
    "  def is_empty(self):\n",
    "    return len(self.heap) == 0\n",
    "\n",
    "  def enqueue(self, priority, item):\n",
    "    heapq.heappush(self.heap, (priority, item))\n",
    "\n",
    "  def dequeue(self):\n",
    "    return heapq.heappop(self.heap)[1]\n",
    "\n",
    "\n",
    "pq = PriorityQueue()\n",
    "pq.enqueue(4, 'B')\n",
    "pq.enqueue(2, 'C')\n",
    "print(pq.dequeue())\n",
    "print(pq.dequeue())"
   ]
  },
  {
   "cell_type": "code",
   "execution_count": 72,
   "metadata": {},
   "outputs": [
    {
     "data": {
      "text/plain": [
       "({'A': 0, 'B': 3, 'C': 2, 'D': 5, 'E': 6},\n",
       " {'A': None, 'B': 'C', 'C': 'A', 'D': 'B', 'E': 'B'})"
      ]
     },
     "execution_count": 72,
     "metadata": {},
     "output_type": "execute_result"
    }
   ],
   "source": [
    "# Dijkstra's Algorithm (slightly modified for `predecessor`)\n",
    "def dijkstra(adjacency_list, start_vertex):\n",
    "  visited = {vertex: False for vertex in adjacency_list}\n",
    "  predecessor = {vertex: None for vertex in adjacency_list}  # NEW 😱\n",
    "  distance = {vertex: float('inf') for vertex in adjacency_list}\n",
    "  distance[start_vertex] = 0\n",
    "\n",
    "  pq = PriorityQueue()\n",
    "  pq.enqueue(0, start_vertex)\n",
    "\n",
    "  while not pq.is_empty():\n",
    "    current_vertex = pq.dequeue()\n",
    "    visited[current_vertex] = True\n",
    "\n",
    "    # print(f'{current_vertex=}')\n",
    "\n",
    "    for neighbor, weight in adjacency_list[current_vertex]:\n",
    "      if not visited[neighbor]:\n",
    "        new_distance = distance[current_vertex] + weight\n",
    "        if new_distance < distance[neighbor]:\n",
    "          distance[neighbor] = new_distance\n",
    "          pq.enqueue(new_distance, neighbor)\n",
    "          predecessor[neighbor] = current_vertex  # NEW 😱\n",
    "\n",
    "  return distance, predecessor\n",
    "\n",
    "\n",
    "adjacency_list = {\n",
    "    'A': [('B', 4), ('C', 2)],\n",
    "    'B': [('C', 3), ('D', 2), ('E', 3)],\n",
    "    'C': [('B', 1), ('D', 4), ('E', 5)],\n",
    "    'D': [],\n",
    "    'E': [('D', 1)],\n",
    "}\n",
    "\n",
    "dijkstra(adjacency_list, 'A')  # {'A': 0, 'B': 3, 'C': 2, 'D': 5, 'E': 6}"
   ]
  },
  {
   "cell_type": "code",
   "execution_count": 73,
   "metadata": {},
   "outputs": [
    {
     "data": {
      "text/plain": [
       "(198, [0, 1, 2, 5, 6, 4])"
      ]
     },
     "execution_count": 73,
     "metadata": {},
     "output_type": "execute_result"
    }
   ],
   "source": [
    "def construct_path(predecessor, destination):\n",
    "  path = []\n",
    "  while destination is not None:\n",
    "    path.append(destination)\n",
    "    destination = predecessor[destination]\n",
    "  path.reverse()\n",
    "  return path\n",
    "\n",
    "\n",
    "def min_cost_walk(adjacency_list, S, D, V):  # go: S -> V -> D\n",
    "  dist_S, predecessor_S = dijkstra(adjacency_list, S)\n",
    "  dist_V, predecessor_V = dijkstra(adjacency_list, V)\n",
    "\n",
    "  path_S = construct_path(predecessor_S, V)  # S -> V\n",
    "  path_V = construct_path(predecessor_V, D)  # V -> D\n",
    "\n",
    "  # print(f'{dist_S=}, {predecessor_S=}, {path_S=}')\n",
    "  # print(f'{dist_V=}, {predecessor_V=}, {path_V=}')\n",
    "\n",
    "  total_distance = dist_S[V] + dist_V[D]\n",
    "  walk_route = path_S[:-1] + path_V\n",
    "  return total_distance, walk_route\n",
    "\n",
    "\n",
    "edges = [(0, 1, 10), (0, 2, 50), (0, 3, 300), (5, 6, 45), (2, 1, 30),\n",
    "         (6, 4, 37), (1, 6, 65), (2, 5, 76), (1, 3, 40), (3, 4, 60), (2, 4, 20)]\n",
    "min_cost_walk(create_undirected_adjacency_list(edges), 0, 4, 5)  # (198, [0, 1, 2, 5, 6, 4])"
   ]
  },
  {
   "cell_type": "code",
   "execution_count": 74,
   "metadata": {},
   "outputs": [
    {
     "data": {
      "text/plain": [
       "True"
      ]
     },
     "execution_count": 74,
     "metadata": {},
     "output_type": "execute_result"
    },
    {
     "data": {
      "text/plain": [
       "True"
      ]
     },
     "execution_count": 74,
     "metadata": {},
     "output_type": "execute_result"
    },
    {
     "data": {
      "text/plain": [
       "True"
      ]
     },
     "execution_count": 74,
     "metadata": {},
     "output_type": "execute_result"
    },
    {
     "data": {
      "text/plain": [
       "True"
      ]
     },
     "execution_count": 74,
     "metadata": {},
     "output_type": "execute_result"
    }
   ],
   "source": [
    "# Test cases\n",
    "\n",
    "edges = [(0, 1, 10), (0, 2, 50), (0, 3, 300), (5, 6, 45), (2, 1, 30),\n",
    "         (6, 4, 37), (1, 6, 65), (2, 5, 76), (1, 3, 40), (3, 4, 60), (2, 4, 20)]\n",
    "min_cost_walk(create_undirected_adjacency_list(edges), 0, 5, 1) == (116, [0, 1, 2, 5])\n",
    "\n",
    "edges = [(0, 1, 10), (0, 2, 20), (0, 3, 30), (5, 6, 120), (2, 1, 5), (6, 4, 20),\n",
    "         (1, 6, 15), (2, 5, 70), (1, 3, 7), (3, 4, 100), (2, 4, 50)]\n",
    "min_cost_walk(create_undirected_adjacency_list(edges), 2, 3, 4) == (82, [2, 1, 6, 4, 6, 1, 3])\n",
    "\n",
    "edges = [(0, 1, 10), (0, 2, 20), (0, 3, 30), (5, 6, 120), (2, 1, 5), (6, 4, 20),\n",
    "         (1, 6, 15), (2, 5, 70), (1, 3, 7), (3, 4, 100), (2, 4, 50)]\n",
    "min_cost_walk(create_undirected_adjacency_list(edges), 0, 4, 1) == (45, [0, 1, 6, 4])\n",
    "\n",
    "edges = [(0, 1, 10), (0, 2, 20), (0, 3, 30), (5, 6, 120), (2, 1, 5), (6, 4, 20),\n",
    "         (1, 6, 15), (2, 5, 70), (1, 3, 7), (3, 4, 100), (2, 4, 50)]\n",
    "min_cost_walk(create_undirected_adjacency_list(edges), 0, 4, 5) == (195, [0, 1, 2, 5, 2, 1, 6, 4])"
   ]
  },
  {
   "cell_type": "markdown",
   "metadata": {},
   "source": [
    "# GrPA 3\n",
    "\n",
    "## Solution Approach: IsNegativeWeightCyclePresent\n",
    "\n",
    "The goal is to detect if there is a negative weight cycle in a directed and connected graph using the Bellman-Ford Algorithm.\n",
    "\n",
    "### Overview\n",
    "\n",
    "To solve this problem, we'll:\n",
    "1. Use the Bellman-Ford Algorithm to find the shortest paths from a start vertex.\n",
    "2. Check for negative weight cycles during the process.\n",
    "\n",
    "### Steps\n",
    "\n",
    "1. **Bellman-Ford Algorithm**:\n",
    "   - **Initialize**:\n",
    "     - `distance`: Dictionary to store the shortest distance from the start vertex. Initialize all distances to infinity, except the start vertex, which is set to 0.\n",
    "   - **Relaxation**:\n",
    "     - Relax all edges |V|-1 times (where V is the number of vertices).\n",
    "     - For each vertex and its neighbors, update the distance if a shorter path is found.\n",
    "   - **Cycle Detection**:\n",
    "     - After |V|-1 iterations, check all edges one more time.\n",
    "     - If any edge can still be relaxed (i.e., offers a shorter path), a negative weight cycle is present.\n",
    "     - Return `None` if a negative weight cycle is detected, otherwise return the `distance` dictionary.\n",
    "\n",
    "2. **IsNegativeWeightCyclePresent Function**:\n",
    "   - **Run Bellman-Ford**:\n",
    "     - Call `bellman_ford(adjacency_list, 0)` to get the distance dictionary or detect a cycle.\n",
    "   - **Check for Cycle**:\n",
    "     - If `bellman_ford` returns `None`, a negative weight cycle is present.\n",
    "     - Return `True` if a cycle is detected, otherwise return `False`."
   ]
  },
  {
   "cell_type": "code",
   "execution_count": 75,
   "metadata": {},
   "outputs": [],
   "source": [
    "# Bellman-Ford Algorithm (standard implementation with cycle detection)\n",
    "def bellman_ford(adjacency_list, start_vertex):\n",
    "  distance = {vertex: float('inf') for vertex in adjacency_list}\n",
    "  distance[start_vertex] = 0\n",
    "\n",
    "  # Relax all edges |V|-1 times\n",
    "  for _ in range(len(adjacency_list) - 1):\n",
    "    for vertex in adjacency_list:\n",
    "      for neighbor, weight in adjacency_list[vertex]:\n",
    "        # same as dijkstra: you offer better distances to neighbors\n",
    "        new_distance = distance[vertex] + weight\n",
    "        if new_distance < distance[neighbor]:\n",
    "          distance[neighbor] = new_distance\n",
    "\n",
    "  # Check all edges one more time for cycle detection\n",
    "  for vertex in adjacency_list:\n",
    "    for neighbor, weight in adjacency_list[vertex]:\n",
    "      # same as dijkstra: you offer better distances to neighbors\n",
    "      new_distance = distance[vertex] + weight\n",
    "      if new_distance < distance[neighbor]:\n",
    "        return None  # NEW 😱\n",
    "\n",
    "  return distance"
   ]
  },
  {
   "cell_type": "code",
   "execution_count": 76,
   "metadata": {},
   "outputs": [
    {
     "name": "stdout",
     "output_type": "stream",
     "text": [
      "distance=None\n"
     ]
    },
    {
     "data": {
      "text/plain": [
       "True"
      ]
     },
     "execution_count": 76,
     "metadata": {},
     "output_type": "execute_result"
    }
   ],
   "source": [
    "def is_negative_weight_cycle_present(adjacency_list):\n",
    "  distance = bellman_ford(adjacency_list, 0)\n",
    "  print(f'{distance=}')\n",
    "  return distance is None\n",
    "\n",
    "\n",
    "edges = [(0, 1, 10), (0, 2, -5), (0, 3, 2), (3, 2, -5), (2, 1, -20), (1, 3, 10)]\n",
    "is_negative_weight_cycle_present(create_directed_adjacency_list(edges)) == True"
   ]
  },
  {
   "cell_type": "code",
   "execution_count": 77,
   "metadata": {},
   "outputs": [
    {
     "name": "stdout",
     "output_type": "stream",
     "text": [
      "distance=None\n"
     ]
    },
    {
     "data": {
      "text/plain": [
       "True"
      ]
     },
     "execution_count": 77,
     "metadata": {},
     "output_type": "execute_result"
    },
    {
     "name": "stdout",
     "output_type": "stream",
     "text": [
      "distance=None\n"
     ]
    },
    {
     "data": {
      "text/plain": [
       "True"
      ]
     },
     "execution_count": 77,
     "metadata": {},
     "output_type": "execute_result"
    },
    {
     "name": "stdout",
     "output_type": "stream",
     "text": [
      "distance={0: 0, 1: 10, 2: 30, 3: 20, 4: 15, 5: 0}\n"
     ]
    },
    {
     "data": {
      "text/plain": [
       "True"
      ]
     },
     "execution_count": 77,
     "metadata": {},
     "output_type": "execute_result"
    },
    {
     "name": "stdout",
     "output_type": "stream",
     "text": [
      "distance={0: 0, 1: -10, 2: -30, 3: -50}\n"
     ]
    },
    {
     "data": {
      "text/plain": [
       "True"
      ]
     },
     "execution_count": 77,
     "metadata": {},
     "output_type": "execute_result"
    }
   ],
   "source": [
    "# Test cases\n",
    "\n",
    "edges = [(0, 1, 20), (1, 4, -10), (4, 0, 5), (0, 2, 10), (0, 3, 10), (2, 3, 20), (3, 4, 30), (3, 1, -20)]\n",
    "is_negative_weight_cycle_present(create_directed_adjacency_list(edges)) == True\n",
    "\n",
    "edges = [(0, 1, 20), (1, 2, 10), (2, 3, 20), (3, 1, -40)]\n",
    "is_negative_weight_cycle_present(create_directed_adjacency_list(edges)) == True\n",
    "\n",
    "edges = [(0, 1, 10), (1, 2, 20), (2, 3, -10), (3, 4, -5), (4, 5, -15), (5, 0, 5)]\n",
    "is_negative_weight_cycle_present(create_directed_adjacency_list(edges)) == False\n",
    "\n",
    "edges = [(0, 1, -10), (1, 2, -20), (2, 3, -20)]\n",
    "is_negative_weight_cycle_present(create_directed_adjacency_list(edges)) == False"
   ]
  },
  {
   "cell_type": "markdown",
   "metadata": {},
   "source": [
    "# PPA 1\n",
    "\n",
    "### Problem (XYZ Courier)\n",
    "Implement a class `XYZ_Courier` that calculates the minimum cost and shortest route for delivering items between cities using the Floyd-Warshall algorithm.\n",
    "\n",
    "### Steps\n",
    "\n",
    "1. **Floyd-Warshall Algorithm**:\n",
    "   - **Initialize**:\n",
    "     - `dist`: 2D dictionary to store shortest distances between every pair of vertices, initialized to infinity.\n",
    "     - `predecessor`: 2D dictionary to store the predecessor of each vertex in the shortest path.\n",
    "   - **Populate Initial Distances**:\n",
    "     - Set `dist[vertex][vertex]` to 0.\n",
    "     - Set `dist[vertex][neighbor]` to the weight of the edge and `predecessor[vertex][neighbor]` to the vertex itself.\n",
    "   - **Update Distances**:\n",
    "     - Iterate through all pairs `(i, j)` and update `dist[i][j]` if a shorter path is found via an intermediate vertex `k`.\n",
    "     - Update `predecessor[i][j]` to `k`.\n",
    "\n",
    "2. **XYZ_Courier Class**:\n",
    "   - **Initialization**:\n",
    "     - Compute `dist` and `predecessor` using `floyd_warshall`.\n",
    "   - **Cost Method**:\n",
    "     - Calculate and return the cost from `source` to `destination` using `dist[source][destination] * 5`.\n",
    "   - **Route Method**:\n",
    "     - Construct the path from `source` to `destination` using the `predecessor` dictionary.\n",
    "     - Return the path in the correct order."
   ]
  },
  {
   "cell_type": "code",
   "execution_count": 78,
   "metadata": {},
   "outputs": [],
   "source": [
    "# Floyd-Warshall Algorithm (slightly modified for `predecessor`)\n",
    "def floyd_warshall(adjacency_list):\n",
    "  dist = {u: {v: float('inf') for v in adjacency_list} for u in adjacency_list}\n",
    "  predecessor = {u: {v: None for v in adjacency_list} for u in adjacency_list}  # NEW 😱\n",
    "\n",
    "  for vertex in adjacency_list:\n",
    "    dist[vertex][vertex] = 0\n",
    "\n",
    "  for vertex in adjacency_list:\n",
    "    for neighbor, weight in adjacency_list[vertex]:\n",
    "      dist[vertex][neighbor] = weight\n",
    "      predecessor[vertex][neighbor] = vertex  # NEW 😱\n",
    "\n",
    "  for k in adjacency_list:\n",
    "    for i in adjacency_list:\n",
    "      for j in adjacency_list:\n",
    "        if dist[i][j] > dist[i][k] + dist[k][j]:\n",
    "          dist[i][j] = dist[i][k] + dist[k][j]\n",
    "          predecessor[i][j] = k  # NEW 😱\n",
    "\n",
    "  return dist, predecessor"
   ]
  },
  {
   "cell_type": "code",
   "execution_count": 79,
   "metadata": {},
   "outputs": [
    {
     "name": "stdout",
     "output_type": "stream",
     "text": [
      "300\n",
      "[0, 1, 2, 4]\n"
     ]
    }
   ],
   "source": [
    "class XYZ_Courier:\n",
    "  def __init__(self, adjacency_list):\n",
    "    self.dist, self.predecessor = floyd_warshall(adjacency_list)\n",
    "\n",
    "  def cost(self, source, destination):\n",
    "    return self.dist[source][destination] * 5\n",
    "\n",
    "  def route(self, source, destination):\n",
    "    path = []\n",
    "    while destination is not None:\n",
    "      path.append(destination)\n",
    "      destination = self.predecessor[source][destination]\n",
    "    path.reverse()\n",
    "    return path\n",
    "\n",
    "\n",
    "edges = [(0, 1, 10), (0, 2, 50), (0, 3, 300), (5, 6, 45), (2, 1, 30),\n",
    "         (6, 4, 37), (1, 6, 65), (2, 5, 76), (1, 3, 40), (3, 4, 60), (2, 4, 20)]\n",
    "courier = XYZ_Courier(create_undirected_adjacency_list(edges))\n",
    "print(courier.cost(0, 4))  # 300\n",
    "print(courier.route(0, 4))  # [0, 1, 2, 4]"
   ]
  },
  {
   "cell_type": "markdown",
   "metadata": {},
   "source": [
    "# PPA 2\n",
    "\n",
    "### Problem (Taxi Driver's Minimum Cost Route)\n",
    "\n",
    "Find the minimum cost route for a taxi driver to get home by possibly picking up customers along the way. Costs may be _negative_ due to earnings from customers.\n",
    "\n",
    "### Steps\n",
    "\n",
    "  - **Note:** Dijkstra's algorithm is not used because it cannot handle _negative edge weights_.\n",
    "\n",
    "1. **Bellman-Ford Algorithm**:\n",
    "   - **Initialization**:\n",
    "     - `distance`: Dictionary to store shortest distances from `start_vertex`, initialized to infinity.\n",
    "     - `predecessor`: Dictionary to store the predecessor of each vertex in the shortest path.\n",
    "   - **Relax Edges**:\n",
    "     - Iterate through all edges |V|-1 times.\n",
    "       - Update `distance` and `predecessor` if a shorter path is found.\n",
    "   - **Result**:\n",
    "     - Return `distance` and `predecessor` dictionaries.\n",
    "\n",
    "2. **Construct Path**:\n",
    "   - **Backtrack**:\n",
    "     - Using `predecessor`, backtrack from `destination` to `source` to construct the path.\n",
    "     - Reverse the path to get it in the correct order.\n",
    "\n",
    "3. **min_cost Function**:\n",
    "   - **Calculate Distance and Path**:\n",
    "     - Use `bellman_ford` to get `distance` and `predecessor` from `source`.\n",
    "     - Construct the path using `construct_path`.\n",
    "   - **Return**:\n",
    "     - Minimum cost and path from `source` to `destination`."
   ]
  },
  {
   "cell_type": "code",
   "execution_count": 80,
   "metadata": {},
   "outputs": [],
   "source": [
    "# Bellman-Ford Algorithm (slightly modified for `predecessor`)\n",
    "def bellman_ford(adjacency_list, start_vertex):\n",
    "  distance = {vertex: float('inf') for vertex in adjacency_list}\n",
    "  distance[start_vertex] = 0\n",
    "  predecessor = {vertex: None for vertex in adjacency_list}  # NEW 😱\n",
    "\n",
    "  for _ in range(len(adjacency_list) - 1):\n",
    "    for vertex in adjacency_list:  # S A B C D E F\n",
    "      for neighbor, weight in adjacency_list[vertex]:\n",
    "        # same as dijkstra: you offer better distances to neighbors\n",
    "        new_distance = distance[vertex] + weight\n",
    "        if new_distance < distance[neighbor]:\n",
    "          distance[neighbor] = new_distance\n",
    "          predecessor[neighbor] = vertex  # NEW 😱\n",
    "\n",
    "  return distance, predecessor"
   ]
  },
  {
   "cell_type": "code",
   "execution_count": 81,
   "metadata": {},
   "outputs": [],
   "source": [
    "def construct_path(predecessor, destination):\n",
    "  path = []\n",
    "  while destination is not None:\n",
    "    path.append(destination)\n",
    "    destination = predecessor[destination]\n",
    "  path.reverse()\n",
    "  return path"
   ]
  },
  {
   "cell_type": "code",
   "execution_count": 82,
   "metadata": {},
   "outputs": [
    {
     "data": {
      "text/plain": [
       "(900, [0, 7, 6, 5, 2, 1])"
      ]
     },
     "execution_count": 82,
     "metadata": {},
     "output_type": "execute_result"
    }
   ],
   "source": [
    "def min_cost(adjacency_list, source, destination):\n",
    "  distance, predecessor = bellman_ford(adjacency_list, source)\n",
    "  path = construct_path(predecessor, destination)\n",
    "  return distance[destination], path\n",
    "\n",
    "\n",
    "edges = [(0, 1, 1000), (0, 7, 800), (1, 5, 200), (2, 1, 100), (2, 3, 100), (3, 4, 300),\n",
    "         (4, 5, 500), (5, 2, -200), (2, 4, -200), (6, 1, 400), (6, 5, 100), (7, 6, 100)]\n",
    "min_cost(create_directed_adjacency_list(edges), 0, 1)"
   ]
  },
  {
   "cell_type": "markdown",
   "metadata": {},
   "source": [
    "# Summary of Problems\n",
    "\n",
    "### GrPA 1: FiberLink\n",
    "\n",
    "**Problem**: Connect `n` cities with minimum fiber length.\n",
    "\n",
    "**Solution Overview**:\n",
    "- **Algorithm**: _**Kruskal's Algorithm**_\n",
    "- **Steps**:\n",
    "  1. Initialize MST and edge list.\n",
    "  2. Sort edges by weight.\n",
    "  3. Use Union-Find to avoid cycles and add edges to MST.\n",
    "  4. Sum the weights of the MST edges to get the total fiber length required.\n",
    "\n",
    "### GrPA 2: MinCostWalk\n",
    "\n",
    "**Problem**: Find the minimum cost walk from node `S` to node `D` via node `V`.\n",
    "\n",
    "**Solution Overview**:\n",
    "- **Algorithm**: _**Dijkstra's Algorithm**_\n",
    "- **Steps**:\n",
    "  1. Implement Dijkstra's using a priority queue.\n",
    "  2. Compute shortest paths from `S` to `V` and from `V` to `D`.\n",
    "  3. Combine these paths to get the total minimum cost and the walk route.\n",
    "\n",
    "### GrPA 3: IsNegativeWeightCyclePresent\n",
    "\n",
    "**Problem**: Detect if there is a negative weight cycle in a directed and connected graph.\n",
    "\n",
    "**Solution Overview**:\n",
    "- **Algorithm**: _**Bellman-Ford Algorithm**_\n",
    "- **Steps**:\n",
    "  1. Initialize distances, setting the start vertex to 0.\n",
    "  2. Relax all edges |V|-1 times.\n",
    "  3. Check for negative weight cycles by relaxing edges one more time.\n",
    "\n",
    "### PPA 1: XYZ Courier\n",
    "\n",
    "**Problem**: Calculate the minimum cost and shortest route for delivering items between cities.\n",
    "\n",
    "**Solution Overview**:\n",
    "- **Algorithm**: _**Floyd-Warshall Algorithm**_\n",
    "- **Steps**:\n",
    "    1. Use three nested loops over all pairs of cities (`k`, `i`, `j`) to update distances.\n",
    "    1. If a shorter path is found through an intermediate city `k`, update the distance and predecessor matrices.\n",
    "    2. Define a class to return the minimum cost and the corresponding route between the specified cities.\n",
    "\n",
    "### PPA 2: Taxi Driver's Minimum Cost Route\n",
    "\n",
    "**Problem**: Find the minimum cost route for a taxi driver to get home, accounting for possible earnings from picking up customers along the way.\n",
    "\n",
    "**Solution Overview**:\n",
    "- **Algorithm**: _**Bellman-Ford Algorithm**_\n",
    "- **Steps**:\n",
    "  1. Use Bellman-Ford to compute shortest paths with possible negative weights.\n",
    "  2. Construct the route using the predecessors from the Bellman-Ford algorithm.\n",
    "  3. Return the minimum cost and the corresponding path."
   ]
  }
 ],
 "metadata": {
  "kernelspec": {
   "display_name": "Python 3",
   "language": "python",
   "name": "python3"
  },
  "language_info": {
   "codemirror_mode": {
    "name": "ipython",
    "version": 3
   },
   "file_extension": ".py",
   "mimetype": "text/x-python",
   "name": "python",
   "nbconvert_exporter": "python",
   "pygments_lexer": "ipython3",
   "version": "3.12.0"
  }
 },
 "nbformat": 4,
 "nbformat_minor": 2
}
