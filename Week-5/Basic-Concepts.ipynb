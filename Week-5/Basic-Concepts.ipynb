{
 "cells": [
  {
   "cell_type": "markdown",
   "metadata": {},
   "source": [
    "# Graph Representation in Python\n",
    "\n",
    "## Basic Concepts\n",
    "\n",
    "### Graph\n",
    "A graph is a collection of vertices ($V$) and edges ($E$) between those vertices.\n",
    "- Mathematically, a graph $G$ is defined as $G = (V, E)$, where:\n",
    "  - **Vertices ($V$)**: Individual elements (nodes) in the graph, labeled with numbers or letters.\n",
    "  - **Edges ($E$)**: The connections between the vertices, which can be directed (one-way connection) or undirected (two-way connection).\n",
    "\n",
    "### Specifying a Graph\n",
    "- **$G = (V, E)$**: Both vertices and edges are specified.\n",
    "  - Example: $V = \\{17, 18, 19, 20\\}$ and $E = \\{(17, 18), (17, 19)\\}$.\n",
    "    - Note: Vertex 20 is isolated (no edges), but it is part of the graph because it is in $V$.\n",
    "\n",
    "- **$G = (E)$**: Only edges are specified.\n",
    "  - Example: $E = \\{(17, 18), (17, 19)\\}$.\n",
    "    - The vertices are assumed to be those mentioned in $E$ (17, 18, and 19).\n",
    "    - Vertex 20 is not part of the graph as it is not mentioned in the edges.\n",
    "\n",
    "### Directed vs Undirected Graphs\n",
    "\n",
    "🔸**Directed Graph**\n",
    "- An edge $(u, v)$ means there is a one-way link from $u$ to $v$.\n",
    "- Only $(u, v)$ is included in the graph.\n",
    "\n",
    "🔸**Undirected Graph**\n",
    "- Each edge $(u, v)$ is bidirectional. If $u \\rightarrow v$ exists, then $v \\rightarrow u$ also exists.\n",
    "- Both $(u, v)$ and $(v, u)$ are included in the graph.\n",
    "\n",
    "### Data Structures to Store Graphs\n",
    "\n",
    "#### Adjacency Matrix\n",
    "- A 2D matrix of size $|V| \\times |V|$.\n",
    "  - Each cell $[u][v]$ indicates the presence (1) or absence (0) of the link $u \\rightarrow v$.\n",
    "  - To find neighbors of vertex 200, iterate through row 200 to find all indices $j$ where $matrix[200][j] = 1$.\n",
    "- Suitable for dense graphs where edge existence queries are frequent.\n",
    "- Implemented using nested lists:\n",
    "  - Vertices must be integers (as list indices).\n",
    "  - The matrix size must be large enough to accommodate the highest vertex index.\n",
    "  - Efficient when vertices are continuous integers starting from zero.\n",
    "  - Not efficient for sparse graphs with non-continuous or large integer vertex identifiers.\n",
    "    - Example: For vertices 200 and 900, the matrix size should be $901 \\times 901$ with $matrix[200][900] = 1$.\n",
    "- Can also be implemented using nested dictionaries, allowing for letter indices (not covered in the syllabus).\n",
    "\n",
    "#### Adjacency List\n",
    "- Uses a dictionary or a list to store the neighbors of each vertex.\n",
    "- Efficient for sparse graphs.\n",
    "\n",
    "🔸**Using a Dictionary**\n",
    "- Keys are vertices, values are lists of neighbors.\n",
    "- Vertices can be any type (letters, numbers).\n",
    "- The length of the dictionary is equal to the number of vertices.\n",
    "- Suitable for non-continuous or string vertex identifiers.\n",
    "\n",
    "🔸**Using a List**\n",
    "- A list of size $|V|$.\n",
    "  - Each index represents a vertex, and the value at that index is a list of neighbors.\n",
    "  - Vertices are present as list indices, so only integers can be used for list indices.\n",
    "  - The length of the list must accommodate the highest vertex index.\n",
    "  - Suitable for continuous integer vertex identifiers starting from zero.\n",
    "\n",
    "## Summary\n",
    "\n",
    "🔸**Choosing the Right Data Structure**\n",
    "\n",
    "- **Adjacency Matrix**:\n",
    "  - **Best for Dense Graphs**: Dense graphs have many edges, close to $|V|^2$. The matrix efficiently checks the presence or absence of edges between any pair of vertices.\n",
    "  \n",
    "- **Adjacency List**:\n",
    "  - **Best for Sparse Graphs**: Sparse graphs have few edges relative to the number of vertices. The list efficiently provides a list of neighbors for each vertex.\n",
    "\n",
    "- **Implementation**: Use lists for continuous integer vertex identifiers starting from zero. Use dictionaries for non-continuous or string vertex identifiers."
   ]
  },
  {
   "cell_type": "markdown",
   "metadata": {},
   "source": [
    "# Examples (creating graphs)"
   ]
  },
  {
   "cell_type": "code",
   "execution_count": 1,
   "metadata": {},
   "outputs": [
    {
     "data": {
      "text/plain": [
       "864"
      ]
     },
     "execution_count": 1,
     "metadata": {},
     "output_type": "execute_result"
    }
   ],
   "source": [
    "import sys\n",
    "from collections.abc import Iterable\n",
    "\n",
    "\n",
    "def get_deep_size(obj, seen=None):\n",
    "  \"\"\"Recursively calculate the size of an object and its contents.\"\"\"\n",
    "  if seen is None:\n",
    "    seen = set()\n",
    "\n",
    "  obj_id = id(obj)\n",
    "  if obj_id in seen:\n",
    "    return 0\n",
    "\n",
    "  seen.add(obj_id)\n",
    "\n",
    "  size = sys.getsizeof(obj)\n",
    "\n",
    "  if isinstance(obj, str):\n",
    "    return size\n",
    "  elif isinstance(obj, dict):\n",
    "    size += sum(get_deep_size(k, seen) + get_deep_size(v, seen) for k, v in obj.items())\n",
    "  elif isinstance(obj, (list, tuple, set)):\n",
    "    size += sum(get_deep_size(item, seen) for item in obj)\n",
    "\n",
    "  return size\n",
    "\n",
    "\n",
    "dict_var = {'a': [1, 2, 3], 'b': {'x': 10, 'y': [20, 30]}}\n",
    "get_deep_size(dict_var)"
   ]
  },
  {
   "cell_type": "code",
   "execution_count": 2,
   "metadata": {},
   "outputs": [
    {
     "name": "stdout",
     "output_type": "stream",
     "text": [
      "Value at adjacency_matrix[200][900]: 1\n",
      "Shape of adjacency_matrix: 901x901\n",
      "Storage: 6,552,752 bytes\n"
     ]
    }
   ],
   "source": [
    "# 🏗️ adjacency matrix using nested lists\n",
    "\n",
    "# initialize a matrix for vertices 200 and 900\n",
    "matrix_size = 901  # need size 901x901 to include vertices 200 and 900\n",
    "adjacency_matrix = [[0] * matrix_size for _ in range(matrix_size)]\n",
    "\n",
    "# add edge between 200 and 900\n",
    "adjacency_matrix[200][900] = 1\n",
    "\n",
    "print(f\"Value at adjacency_matrix[200][900]: {adjacency_matrix[200][900]}\")\n",
    "print(f\"Shape of adjacency_matrix: {matrix_size}x{matrix_size}\")\n",
    "print(f\"Storage: {get_deep_size(adjacency_matrix):,} bytes\")"
   ]
  },
  {
   "cell_type": "code",
   "execution_count": 3,
   "metadata": {},
   "outputs": [
    {
     "name": "stdout",
     "output_type": "stream",
     "text": [
      "Value at adjacency_matrix[200][900]: 1\n",
      "Size of adjacency_matrix: 2\n",
      "Storage: 596 bytes\n"
     ]
    }
   ],
   "source": [
    "# 🏗️ adjacency matrix using nested dictionaries\n",
    "\n",
    "# initialize a dictionary for vertices 200 and 900\n",
    "adjacency_matrix = {\n",
    "    200: {900: 1},\n",
    "    900: {}\n",
    "}\n",
    "\n",
    "print(f\"Value at adjacency_matrix[200][900]: {adjacency_matrix[200][900]}\")\n",
    "print(f\"Size of adjacency_matrix: {len(adjacency_matrix)}\")\n",
    "print(f\"Storage: {get_deep_size(adjacency_matrix):,} bytes\")"
   ]
  },
  {
   "cell_type": "code",
   "execution_count": 4,
   "metadata": {},
   "outputs": [
    {
     "name": "stdout",
     "output_type": "stream",
     "text": [
      "Neighbors of vertex 200: [900]\n",
      "Size of adjacency_list: 901\n",
      "Storage: 58,348 bytes\n"
     ]
    }
   ],
   "source": [
    "# 🏗️ adjacency list using a list\n",
    "\n",
    "# initialize the adjacency list for vertices 200 and 900\n",
    "# note: index 0-199 are unused, starting at index 200\n",
    "list_size = 901\n",
    "adjacency_list = [[] for _ in range(list_size)]\n",
    "\n",
    "# add edge between 200 and 900\n",
    "adjacency_list[200].append(900)\n",
    "\n",
    "print(f\"Neighbors of vertex 200: {adjacency_list[200]}\")\n",
    "print(f\"Size of adjacency_list: {len(adjacency_list)}\")\n",
    "print(f\"Storage: {get_deep_size(adjacency_list):,} bytes\")"
   ]
  },
  {
   "cell_type": "code",
   "execution_count": 5,
   "metadata": {},
   "outputs": [
    {
     "name": "stdout",
     "output_type": "stream",
     "text": [
      "Neighbors of vertex 200: [900]\n",
      "Size of adjacency_list: 2\n",
      "Storage: 400 bytes\n"
     ]
    }
   ],
   "source": [
    "# 🏗️ adjacency list using a dictionary\n",
    "\n",
    "# initialize the adjacency list for vertices 200 and 900\n",
    "adjacency_list = {\n",
    "    200: [900],\n",
    "    900: []\n",
    "}\n",
    "\n",
    "print(f\"Neighbors of vertex 200: {adjacency_list[200]}\")\n",
    "print(f\"Size of adjacency_list: {len(adjacency_list)}\")\n",
    "print(f\"Storage: {get_deep_size(adjacency_list):,} bytes\")"
   ]
  },
  {
   "cell_type": "markdown",
   "metadata": {},
   "source": [
    "# Examples (finding neighbors)"
   ]
  },
  {
   "cell_type": "code",
   "execution_count": 6,
   "metadata": {},
   "outputs": [
    {
     "name": "stdout",
     "output_type": "stream",
     "text": [
      "[0, 2, 3]\n"
     ]
    }
   ],
   "source": [
    "# create a 4x4 adjacency matrix for vertices 0, 1, 2, 3\n",
    "adjacency_matrix = [\n",
    "    [0, 1, 0, 0],  # vertex 0 is connected to 1\n",
    "    [1, 0, 1, 1],  # vertex 1 is connected to 0, 2, 3\n",
    "    [0, 1, 0, 0],  # vertex 2 is connected to 1\n",
    "    [0, 1, 0, 0]   # vertex 3 is connected to 1\n",
    "]\n",
    "\n",
    "# find neighbors of vertex 1\n",
    "u = 1\n",
    "neighbors = []\n",
    "for v in range(len(adjacency_matrix)):\n",
    "  if adjacency_matrix[u][v] == 1:  # index=u,v\n",
    "    neighbors.append(v)\n",
    "print(neighbors)"
   ]
  },
  {
   "cell_type": "code",
   "execution_count": 7,
   "metadata": {},
   "outputs": [
    {
     "name": "stdout",
     "output_type": "stream",
     "text": [
      "[0, 2, 3]\n"
     ]
    }
   ],
   "source": [
    "# create an adjacency list for vertices 0, 1, 2, 3\n",
    "adjacency_list = [\n",
    "    [1],     # vertex 0 is connected to 1\n",
    "    [0, 2, 3],  # vertex 1 is connected to 0, 2, 3\n",
    "    [1],     # vertex 2 is connected to 1\n",
    "    [1]      # vertex 3 is connected to 1\n",
    "]\n",
    "\n",
    "# find neighbors of vertex 1\n",
    "neighbors = adjacency_list[1]  # index=1\n",
    "print(neighbors)"
   ]
  },
  {
   "cell_type": "code",
   "execution_count": 8,
   "metadata": {},
   "outputs": [
    {
     "name": "stdout",
     "output_type": "stream",
     "text": [
      "[17, 18, 19]\n"
     ]
    }
   ],
   "source": [
    "# adjacency list using a dictionary\n",
    "adjacency_list = {\n",
    "    17: [],\n",
    "    18: [],\n",
    "    19: [],\n",
    "    70190: [17, 18, 19]\n",
    "}\n",
    "\n",
    "# find neighbors of vertex 70190\n",
    "neighbors = adjacency_list[70190]  # key=70190\n",
    "print(neighbors)"
   ]
  },
  {
   "cell_type": "code",
   "execution_count": 9,
   "metadata": {},
   "outputs": [
    {
     "name": "stdout",
     "output_type": "stream",
     "text": [
      "['B', 'D']\n"
     ]
    }
   ],
   "source": [
    "# adjacency list using a dictionary\n",
    "adjacency_list = {\n",
    "    'A': ['B', 'D'],\n",
    "    'B': ['E'],\n",
    "    'C': ['D'],\n",
    "    'D': ['C'],\n",
    "    'E': []\n",
    "}\n",
    "\n",
    "# find neighbors of vertex A\n",
    "neighbors = adjacency_list['A']  # key='A'\n",
    "print(neighbors)"
   ]
  },
  {
   "cell_type": "markdown",
   "metadata": {},
   "source": [
    "# Create Adjacency List From Edges"
   ]
  },
  {
   "cell_type": "code",
   "execution_count": 10,
   "metadata": {},
   "outputs": [
    {
     "name": "stdout",
     "output_type": "stream",
     "text": [
      "len(adjacency_list)=9\n",
      "adjacency_list={19: [2], 2: [7], 0: [1], 1: [2, 3, 7], 3: [], 7: [4, 5], 4: [], 5: [], 200: [5]}\n"
     ]
    }
   ],
   "source": [
    "edges = [(19, 2), (0, 1), (1, 2), (1, 3), (1, 7), (2, 7), (7, 4), (7, 5), (200, 5)]\n",
    "# edges = [('A', 'B'), ('A', 'D')]\n",
    "\n",
    "adjacency_list = {}  # Using a dictionary\n",
    "for u, v in edges:\n",
    "  if u not in adjacency_list:\n",
    "    adjacency_list[u] = []\n",
    "  if v not in adjacency_list:\n",
    "    adjacency_list[v] = []\n",
    "  adjacency_list[u].append(v)\n",
    "\n",
    "print(f'{len(adjacency_list)=}')\n",
    "print(f'{adjacency_list=}')"
   ]
  },
  {
   "cell_type": "code",
   "execution_count": 11,
   "metadata": {},
   "outputs": [
    {
     "name": "stdout",
     "output_type": "stream",
     "text": [
      "len(adjacency_list)=201\n",
      "adjacency_list=[[1], [2, 3, 7], [7], [], [], [], [], [4, 5], [], [], [], [], [], [], [], [], [], [], [], [2], [], [], [], [], [], [], [], [], [], [], [], [], [], [], [], [], [], [], [], [], [], [], [], [], [], [], [], [], [], [], [], [], [], [], [], [], [], [], [], [], [], [], [], [], [], [], [], [], [], [], [], [], [], [], [], [], [], [], [], [], [], [], [], [], [], [], [], [], [], [], [], [], [], [], [], [], [], [], [], [], [], [], [], [], [], [], [], [], [], [], [], [], [], [], [], [], [], [], [], [], [], [], [], [], [], [], [], [], [], [], [], [], [], [], [], [], [], [], [], [], [], [], [], [], [], [], [], [], [], [], [], [], [], [], [], [], [], [], [], [], [], [], [], [], [], [], [], [], [], [], [], [], [], [], [], [], [], [], [], [], [], [], [], [], [], [], [], [], [], [], [], [], [], [], [], [], [], [], [], [], [5]]\n"
     ]
    }
   ],
   "source": [
    "edges = [(19, 2), (0, 1), (1, 2), (1, 3), (1, 7), (2, 7), (7, 4), (7, 5), (200, 5)]\n",
    "# edges = [('A', 'B'), ('A', 'D')]\n",
    "\n",
    "vertices = set()\n",
    "for u, v in edges:\n",
    "  vertices.add(u)\n",
    "  vertices.add(v)\n",
    "\n",
    "size = max(vertices) + 1\n",
    "adjacency_list = [[] for i in range(size)]\n",
    "\n",
    "for u, v in edges:\n",
    "  adjacency_list[u].append(v)\n",
    "\n",
    "print(f'{len(adjacency_list)=}')\n",
    "print(f'{adjacency_list=}')"
   ]
  }
 ],
 "metadata": {
  "kernelspec": {
   "display_name": "Python 3",
   "language": "python",
   "name": "python3"
  },
  "language_info": {
   "codemirror_mode": {
    "name": "ipython",
    "version": 3
   },
   "file_extension": ".py",
   "mimetype": "text/x-python",
   "name": "python",
   "nbconvert_exporter": "python",
   "pygments_lexer": "ipython3",
   "version": "3.12.0"
  }
 },
 "nbformat": 4,
 "nbformat_minor": 2
}
