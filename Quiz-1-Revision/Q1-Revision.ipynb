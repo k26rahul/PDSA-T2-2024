{
 "cells": [
  {
   "cell_type": "code",
   "execution_count": 1,
   "metadata": {},
   "outputs": [
    {
     "name": "stdout",
     "output_type": "stream",
     "text": [
      "[10, 20, 30, 40]\n"
     ]
    }
   ],
   "source": [
    "class Node:\n",
    "  def __init__(self, data):\n",
    "    self.data = data\n",
    "    self.next = None\n",
    "\n",
    "  def __str__(self):\n",
    "    return f'Node: {self.data}'\n",
    "\n",
    "\n",
    "class LinkedList:\n",
    "  def __init__(self):\n",
    "    self.head = None\n",
    "    self.tail = None\n",
    "\n",
    "  def is_empty(self):\n",
    "    return self.head == None\n",
    "\n",
    "  def print(self):\n",
    "    curr = self.head\n",
    "    while curr:\n",
    "      print(curr)\n",
    "      curr = curr.next\n",
    "\n",
    "  def __str__(self):\n",
    "    output = []\n",
    "    curr = self.head\n",
    "    while curr:\n",
    "      output.append(curr.data)\n",
    "      curr = curr.next\n",
    "    return str(output)\n",
    "\n",
    "  def append(self, data):\n",
    "    node = Node(data)\n",
    "    if self.is_empty():\n",
    "      self.head = node\n",
    "      self.tail = node\n",
    "    else:\n",
    "      self.tail.next = node\n",
    "      self.tail = node\n",
    "\n",
    "  def delete_start(self):\n",
    "    self.head = self.head.next\n",
    "\n",
    "  def delete_end(self):\n",
    "    second_last = self.head\n",
    "    while second_last.next != self.tail:\n",
    "      second_last = second_last.next\n",
    "\n",
    "    self.tail = second_last\n",
    "    self.tail.next = None\n",
    "\n",
    "  def delete(self, data):\n",
    "    # find node with data\n",
    "    curr = self.head\n",
    "    while curr:\n",
    "      if curr.data == data:\n",
    "        break\n",
    "      curr = curr.next\n",
    "\n",
    "    # deal if not found\n",
    "    if curr is None:\n",
    "      raise Exception(f'{data} not found')\n",
    "\n",
    "    # delete from start\n",
    "    if curr == self.head:\n",
    "      self.delete_start()\n",
    "      return\n",
    "\n",
    "    # delete from end\n",
    "    if curr == self.tail:\n",
    "      self.delete_end()\n",
    "      return\n",
    "\n",
    "    # delete from middle\n",
    "    prev = self.head  # prev comes just before curr\n",
    "    while prev.next != curr:\n",
    "      prev = prev.next\n",
    "    prev.next = prev.next.next\n",
    "\n",
    "\n",
    "ll = LinkedList()\n",
    "ll.append(10)\n",
    "ll.append(20)\n",
    "ll.append(30)\n",
    "ll.append(40)\n",
    "ll.append(90)\n",
    "\n",
    "ll.delete(90)\n",
    "print(ll)"
   ]
  },
  {
   "cell_type": "code",
   "execution_count": 2,
   "metadata": {},
   "outputs": [
    {
     "name": "stdout",
     "output_type": "stream",
     "text": [
      "30\n",
      "20\n",
      "10\n",
      "[]\n"
     ]
    }
   ],
   "source": [
    "stack = []\n",
    "\n",
    "stack.append(10)  # push()\n",
    "stack.append(20)  # push()\n",
    "stack.append(30)  # push()\n",
    "\n",
    "print(stack.pop())  # pop()\n",
    "print(stack.pop())  # pop()\n",
    "print(stack.pop())  # pop()\n",
    "print(stack)"
   ]
  },
  {
   "cell_type": "code",
   "execution_count": 3,
   "metadata": {},
   "outputs": [
    {
     "name": "stdout",
     "output_type": "stream",
     "text": [
      "30\n",
      "20\n",
      "[10]\n"
     ]
    }
   ],
   "source": [
    "class Stack:\n",
    "  def __init__(self):\n",
    "    self.data = []\n",
    "\n",
    "  def is_empty(self):\n",
    "    return len(self.data) == 0\n",
    "\n",
    "  def push(self, value):\n",
    "    self.data.append(value)\n",
    "\n",
    "  def pop(self):\n",
    "    if self.is_empty():\n",
    "      raise Exception('stack is empty')\n",
    "    return self.data.pop()\n",
    "\n",
    "  def __str__(self):\n",
    "    return str(self.data)\n",
    "\n",
    "\n",
    "stack = Stack()\n",
    "stack.push(10)\n",
    "stack.push(20)\n",
    "stack.push(30)\n",
    "\n",
    "print(stack.pop())\n",
    "print(stack.pop())\n",
    "print(stack)"
   ]
  },
  {
   "cell_type": "code",
   "execution_count": 4,
   "metadata": {},
   "outputs": [
    {
     "name": "stdout",
     "output_type": "stream",
     "text": [
      "10\n",
      "20\n",
      "[30]\n"
     ]
    }
   ],
   "source": [
    "queue = []\n",
    "\n",
    "queue.append(10)  # enqueue()\n",
    "queue.append(20)  # enqueue()\n",
    "queue.append(30)  # enqueue()\n",
    "\n",
    "print(queue.pop(0))  # dequeue()\n",
    "print(queue.pop(0))  # dequeue()\n",
    "print(queue)"
   ]
  },
  {
   "cell_type": "code",
   "execution_count": 5,
   "metadata": {},
   "outputs": [
    {
     "name": "stdout",
     "output_type": "stream",
     "text": [
      "10\n",
      "20\n",
      "[30]\n"
     ]
    }
   ],
   "source": [
    "class Queue:\n",
    "  def __init__(self):\n",
    "    self.data = []\n",
    "\n",
    "  def is_empty(self):\n",
    "    return len(self.data) == 0\n",
    "\n",
    "  def enqueue(self, value):\n",
    "    self.data.append(value)\n",
    "\n",
    "  def dequeue(self):\n",
    "    if self.is_empty():\n",
    "      raise Exception('queue is empty')\n",
    "    return self.data.pop(0)\n",
    "\n",
    "  def __str__(self):\n",
    "    return str(self.data)\n",
    "\n",
    "\n",
    "queue = Queue()\n",
    "queue.enqueue(10)\n",
    "queue.enqueue(20)\n",
    "queue.enqueue(30)\n",
    "\n",
    "print(queue.dequeue())\n",
    "print(queue.dequeue())\n",
    "print(queue)"
   ]
  },
  {
   "cell_type": "markdown",
   "metadata": {},
   "source": [
    "# Hash mapping"
   ]
  },
  {
   "cell_type": "code",
   "execution_count": 6,
   "metadata": {},
   "outputs": [
    {
     "data": {
      "text/plain": [
       "100"
      ]
     },
     "execution_count": 6,
     "metadata": {},
     "output_type": "execute_result"
    },
    {
     "name": "stdout",
     "output_type": "stream",
     "text": [
      "{919828287171262: 99, 919828287171263: 100, 919828287171264: 100, 919828287171265: 100, 919828287171266: 100, 919828287171267: 5}\n"
     ]
    }
   ],
   "source": [
    "# roll -> marks\n",
    "\n",
    "marks = {  # hash table (dict)\n",
    "    919828287171262: 100,\n",
    "    919828287171263: 100,\n",
    "    919828287171264: 100,\n",
    "    919828287171265: 100,\n",
    "    919828287171266: 100,\n",
    "}\n",
    "\n",
    "marks[919828287171262]  # get marks of 919828287171262\n",
    "marks[919828287171262] = 99  # update marks of 919828287171262\n",
    "marks[919828287171267] = 5  # set marks of 919828287171267\n",
    "print(marks)"
   ]
  },
  {
   "cell_type": "code",
   "execution_count": 7,
   "metadata": {},
   "outputs": [],
   "source": [
    "m = 7  # capacity of hash table\n",
    "\n",
    "\n",
    "def h(key):  # key is an integer\n",
    "  return key % m  # remainder -> index in storage\n",
    "\n",
    "\n",
    "# print(h(0))\n",
    "# print(h(8))\n",
    "# print(h(17))\n",
    "# print(h(75))\n",
    "# print(h(152))\n",
    "# print(h(91982821611262))"
   ]
  },
  {
   "cell_type": "code",
   "execution_count": 8,
   "metadata": {},
   "outputs": [
    {
     "name": "stdout",
     "output_type": "stream",
     "text": [
      "4\n",
      "1\n",
      "3\n",
      "2\n",
      "0\n"
     ]
    }
   ],
   "source": [
    "storage = [100, 90, 67, 94, 5, None, None]\n",
    "#         [0     1     2     3     4     5     6   ]\n",
    "\n",
    "# 919828287171266: 5,\n",
    "# 919828287171263: 90,\n",
    "# 919828287171265: 94,\n",
    "# 919828287171264: 67,\n",
    "# 919828287171262: 100,\n",
    "\n",
    "print(h(919828287171266))  # 4\n",
    "print(h(919828287171263))  # 1\n",
    "print(h(919828287171265))  # 3\n",
    "print(h(919828287171264))  # 2\n",
    "print(h(919828287171262))  # 0"
   ]
  },
  {
   "cell_type": "code",
   "execution_count": 9,
   "metadata": {},
   "outputs": [],
   "source": [
    "storage = [None, None, None, None, None, None, None, None, None,\n",
    "           5, 90, 94, 67, 100, None, None, None, None, None]\n",
    "\n",
    "# 10: 5,\n",
    "# 11: 90,\n",
    "# 12: 94,\n",
    "# 13: 67,\n",
    "# 14: 100,"
   ]
  },
  {
   "cell_type": "code",
   "execution_count": 10,
   "metadata": {},
   "outputs": [
    {
     "name": "stdout",
     "output_type": "stream",
     "text": [
      "100\n"
     ]
    }
   ],
   "source": [
    "class HashTable:\n",
    "  def __init__(self) -> None:\n",
    "    self.m = 7\n",
    "    self.storage = [None] * self.m\n",
    "\n",
    "  def __str__(self):\n",
    "    return f'storage={self.storage}'\n",
    "\n",
    "  def h(self, key):\n",
    "    return key % self.m\n",
    "\n",
    "  def set(self, key, value):\n",
    "    index = self.h(key)\n",
    "    self.storage[index] = value\n",
    "    # print(f'set: {key=}, {index=}')\n",
    "\n",
    "  def get(self, key):\n",
    "    index = self.h(key)\n",
    "    return self.storage[index]\n",
    "\n",
    "\n",
    "marks = HashTable()\n",
    "marks.set(10, 100)\n",
    "marks.set(11, 96)\n",
    "\n",
    "print(marks.get(10))\n",
    "# print(marks)"
   ]
  },
  {
   "cell_type": "markdown",
   "metadata": {},
   "source": [
    "# Collision [Linear probing]"
   ]
  },
  {
   "cell_type": "code",
   "execution_count": 11,
   "metadata": {},
   "outputs": [
    {
     "name": "stdout",
     "output_type": "stream",
     "text": [
      "set: key=8, index=1\n",
      "doing linear_probing for key=15\n",
      "set: key=15, index=0\n",
      "doing linear_probing for key=22\n",
      "set: key=22, index=2\n",
      "storage=[96, 100, 70, None, None, None, None]\n"
     ]
    }
   ],
   "source": [
    "class HashTable:\n",
    "  def __init__(self) -> None:\n",
    "    self.m = 7\n",
    "    self.storage = [None] * self.m\n",
    "\n",
    "  def __str__(self):\n",
    "    return f'storage={self.storage}'\n",
    "\n",
    "  def h(self, key):\n",
    "    return key % self.m\n",
    "\n",
    "  def linear_probing(self, index):\n",
    "    for i in range(self.m):\n",
    "      if self.storage[i] == None:  # got a free slot\n",
    "        return i\n",
    "    raise Exception('hash table is full')\n",
    "\n",
    "  def set(self, key, value):\n",
    "    index = self.h(key)\n",
    "    if self.storage[index] is not None:  # collision detected\n",
    "      print(f'doing linear_probing for {key=}')\n",
    "      index = self.linear_probing(index)\n",
    "    self.storage[index] = value\n",
    "    print(f'set: {key=}, {index=}')\n",
    "\n",
    "  def get(self, key):  # not doing any probing, so it'll fail\n",
    "    index = self.h(key)\n",
    "    return self.storage[index]\n",
    "\n",
    "\n",
    "marks = HashTable()\n",
    "marks.set(8, 100)\n",
    "marks.set(15, 96)  # index 1 is already occupied, now where do i go?? Sol: do probing\n",
    "marks.set(22, 70)\n",
    "\n",
    "# print(marks.get(8))\n",
    "# print(marks.get(15))\n",
    "print(marks)"
   ]
  },
  {
   "cell_type": "markdown",
   "metadata": {},
   "source": [
    "# Collision [Quadratic probing]"
   ]
  },
  {
   "cell_type": "code",
   "execution_count": 12,
   "metadata": {},
   "outputs": [
    {
     "name": "stdout",
     "output_type": "stream",
     "text": [
      "set: key=8, index=1\n",
      "doing quadratic_probing for key=15\n",
      "set: key=15, index=3\n",
      "doing quadratic_probing for key=22\n",
      "set: key=22, index=0\n",
      "storage=[70, 100, None, 96, None, None, None]\n"
     ]
    }
   ],
   "source": [
    "class HashTable:\n",
    "  def __init__(self) -> None:\n",
    "    self.m = 7\n",
    "    self.storage = [None] * self.m\n",
    "\n",
    "  def __str__(self):\n",
    "    return f'storage={self.storage}'\n",
    "\n",
    "  def h(self, key):  # returns an index in storage\n",
    "    return key % self.m\n",
    "\n",
    "  def h_prob(self, key, i):  # returns an index in storage\n",
    "    c1, c2 = 1, 1\n",
    "    return (self.h(key) + c1*i + c2*i*i) % self.m\n",
    "\n",
    "  def quadratic_probing(self, key, index):\n",
    "    for i in range(self.m):\n",
    "      index = self.h_prob(key, i)\n",
    "      if self.storage[index] == None:  # got a free slot\n",
    "        return index\n",
    "    raise Exception('hash table is full')\n",
    "\n",
    "  def set(self, key, value):\n",
    "    index = self.h(key)\n",
    "    if self.storage[index] is not None:  # collision detected\n",
    "      print(f'doing quadratic_probing for {key=}')\n",
    "      index = self.quadratic_probing(key, index)\n",
    "    self.storage[index] = value\n",
    "    print(f'set: {key=}, {index=}')\n",
    "\n",
    "  def get(self, key):  # not doing any probing, so it'll fail\n",
    "    index = self.h(key)\n",
    "    return self.storage[index]\n",
    "\n",
    "\n",
    "marks = HashTable()\n",
    "marks.set(8, 100)\n",
    "marks.set(15, 96)  # index 1 is already occupied, now where do i go?? Sol: do probing\n",
    "marks.set(22, 70)\n",
    "\n",
    "# print(marks.get(8))\n",
    "# print(marks.get(15))\n",
    "print(marks)"
   ]
  },
  {
   "cell_type": "code",
   "execution_count": 13,
   "metadata": {},
   "outputs": [
    {
     "name": "stdout",
     "output_type": "stream",
     "text": [
      "1\n",
      "3\n",
      "0\n",
      "6\n",
      "0\n",
      "3\n",
      "1\n",
      "1\n",
      "3\n",
      "0\n",
      "6\n",
      "0\n",
      "3\n",
      "1\n",
      "1\n",
      "3\n",
      "0\n",
      "6\n",
      "0\n",
      "3\n",
      "1\n"
     ]
    }
   ],
   "source": [
    "print(marks.h_prob(8, 0))\n",
    "print(marks.h_prob(8, 1))\n",
    "print(marks.h_prob(8, 2))\n",
    "print(marks.h_prob(8, 3))\n",
    "print(marks.h_prob(8, 4))\n",
    "print(marks.h_prob(8, 5))\n",
    "print(marks.h_prob(8, 6))\n",
    "print(marks.h_prob(8, 7))\n",
    "print(marks.h_prob(8, 8))\n",
    "print(marks.h_prob(8, 9))\n",
    "print(marks.h_prob(8, 10))\n",
    "print(marks.h_prob(8, 11))\n",
    "print(marks.h_prob(8, 12))\n",
    "print(marks.h_prob(8, 13))\n",
    "print(marks.h_prob(8, 14))\n",
    "print(marks.h_prob(8, 15))\n",
    "print(marks.h_prob(8, 16))\n",
    "print(marks.h_prob(8, 17))\n",
    "print(marks.h_prob(8, 18))\n",
    "print(marks.h_prob(8, 19))\n",
    "print(marks.h_prob(8, 20))"
   ]
  },
  {
   "cell_type": "markdown",
   "metadata": {},
   "source": [
    "# Exception handling"
   ]
  },
  {
   "cell_type": "code",
   "execution_count": 14,
   "metadata": {},
   "outputs": [
    {
     "name": "stdout",
     "output_type": "stream",
     "text": [
      "lets do it\n"
     ]
    },
    {
     "data": {
      "text/plain": [
       "10"
      ]
     },
     "execution_count": 14,
     "metadata": {},
     "output_type": "execute_result"
    },
    {
     "name": "stdout",
     "output_type": "stream",
     "text": [
      "cant launch a missile, send message: we are losing the war\n"
     ]
    }
   ],
   "source": [
    "print('lets do it')  # this line runs ok\n",
    "try:\n",
    "  stack = Stack()\n",
    "  stack.push(10)\n",
    "  stack.pop()\n",
    "  stack.pop()  # code exits from here\n",
    "  print('launch missile')  # this line runs only if above lines run without any error\n",
    "except:\n",
    "  print('cant launch a missile, send message: we are losing the war')"
   ]
  },
  {
   "cell_type": "code",
   "execution_count": 15,
   "metadata": {},
   "outputs": [],
   "source": [
    "try:\n",
    "  # num1 = int(input())\n",
    "  # num2 = int(input())\n",
    "  # print(num1/num2)\n",
    "  pass\n",
    "except (ZeroDivisionError):\n",
    "  print('cant divide by zero')\n",
    "except (ValueError):\n",
    "  print('error')\n",
    "  print('please enter valid numbers, not letters')"
   ]
  },
  {
   "cell_type": "code",
   "execution_count": 16,
   "metadata": {},
   "outputs": [],
   "source": [
    "try:\n",
    "  # num1 = int(input())\n",
    "  # num2 = int(input())\n",
    "  # print(num1/num2)\n",
    "  pass\n",
    "except (ZeroDivisionError, ValueError):\n",
    "  print('division failed')"
   ]
  }
 ],
 "metadata": {
  "kernelspec": {
   "display_name": "Python 3",
   "language": "python",
   "name": "python3"
  },
  "language_info": {
   "codemirror_mode": {
    "name": "ipython",
    "version": 3
   },
   "file_extension": ".py",
   "mimetype": "text/x-python",
   "name": "python",
   "nbconvert_exporter": "python",
   "pygments_lexer": "ipython3",
   "version": "3.12.0"
  }
 },
 "nbformat": 4,
 "nbformat_minor": 2
}
