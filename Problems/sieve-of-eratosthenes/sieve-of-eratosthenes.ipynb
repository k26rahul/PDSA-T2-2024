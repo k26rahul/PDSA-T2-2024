{
 "cells": [
  {
   "cell_type": "code",
   "execution_count": 1,
   "metadata": {},
   "outputs": [],
   "source": [
    "# https://www.instagram.com/p/C7rTxDTorfJ/"
   ]
  },
  {
   "cell_type": "code",
   "execution_count": 2,
   "metadata": {},
   "outputs": [
    {
     "data": {
      "text/plain": [
       "True"
      ]
     },
     "execution_count": 2,
     "metadata": {},
     "output_type": "execute_result"
    },
    {
     "data": {
      "text/plain": [
       "False"
      ]
     },
     "execution_count": 2,
     "metadata": {},
     "output_type": "execute_result"
    }
   ],
   "source": [
    "def is_prime(n):\n",
    "  if n <= 1:\n",
    "    return False\n",
    "  for i in range(2, n):\n",
    "    if n % i == 0:\n",
    "      return False\n",
    "  return True\n",
    "\n",
    "\n",
    "is_prime(2)\n",
    "is_prime(6)"
   ]
  },
  {
   "cell_type": "code",
   "execution_count": 3,
   "metadata": {},
   "outputs": [
    {
     "data": {
      "text/plain": [
       "True"
      ]
     },
     "execution_count": 3,
     "metadata": {},
     "output_type": "execute_result"
    },
    {
     "data": {
      "text/plain": [
       "False"
      ]
     },
     "execution_count": 3,
     "metadata": {},
     "output_type": "execute_result"
    }
   ],
   "source": [
    "def is_prime(n):\n",
    "  if n <= 1:\n",
    "    return False\n",
    "  for i in range(2, int(n**0.5)+1):\n",
    "    if n % i == 0:\n",
    "      return False\n",
    "  return True\n",
    "\n",
    "\n",
    "is_prime(2)\n",
    "is_prime(6)"
   ]
  },
  {
   "cell_type": "code",
   "execution_count": 4,
   "metadata": {},
   "outputs": [
    {
     "data": {
      "text/plain": [
       "[2, 3, 5, 7]"
      ]
     },
     "execution_count": 4,
     "metadata": {},
     "output_type": "execute_result"
    }
   ],
   "source": [
    "def find_primes(n):\n",
    "  primes = []\n",
    "  for i in range(2, n+1):\n",
    "    if is_prime(i):\n",
    "      primes.append(i)\n",
    "  return primes\n",
    "\n",
    "\n",
    "find_primes(10)"
   ]
  },
  {
   "cell_type": "markdown",
   "metadata": {},
   "source": [
    "#  Sieve of Eratosthenes\n",
    "\n",
    "https://en.wikipedia.org/wiki/Sieve_of_Eratosthenes\n",
    "\n",
    "https://www.cs.hmc.edu/~oneill/papers/Sieve-JFP.pdf\n",
    "\n",
    "\n",
    "1. **Initialization**:\n",
    "   - Start with a list of integers from 0 to the specified limit (in this case, 100).\n",
    "   - Initially, consider all numbers from 2 onwards as potential primes.\n",
    "\n",
    "2. **Elimination Process**:\n",
    "   - Begin with the first prime number, 2.\n",
    "   - Eliminate all multiples of 2 (except 2 itself) by marking them as `None`.\n",
    "   - Move to the next number in the list that is not `None` (which is 3) and repeat the elimination process for its multiples.\n",
    "   - Continue this process for the next unmarked number (which is 5), and so on."
   ]
  },
  {
   "cell_type": "code",
   "execution_count": 5,
   "metadata": {},
   "outputs": [
    {
     "name": "stdout",
     "output_type": "stream",
     "text": [
      "table=[0, 1, 2, 3, 4, 5, 6, 7, 8, 9, 10, 11, 12, 13, 14, 15, 16, 17, 18, 19, 20, 21, 22, 23, 24, 25, 26, 27, 28, 29, 30, 31, 32, 33, 34, 35, 36, 37, 38, 39, 40, 41, 42, 43, 44, 45, 46, 47, 48, 49, 50, 51, 52, 53, 54, 55, 56, 57, 58, 59, 60, 61, 62, 63, 64, 65, 66, 67, 68, 69, 70, 71, 72, 73, 74, 75, 76, 77, 78, 79, 80, 81, 82, 83, 84, 85, 86, 87, 88, 89, 90, 91, 92, 93, 94, 95, 96, 97, 98, 99, 100]\n"
     ]
    }
   ],
   "source": [
    "n = 100\n",
    "table = list(range(n+1))\n",
    "print(f'{table=}')"
   ]
  },
  {
   "cell_type": "code",
   "execution_count": 6,
   "metadata": {},
   "outputs": [
    {
     "name": "stdout",
     "output_type": "stream",
     "text": [
      "table=[0, 1, 2, 3, None, 5, None, 7, None, None, None, 11, None, 13, None, None, None, 17, None, 19, None, None, None, 23, None, None, None, None, None, 29, None, 31, None, None, None, None, None, 37, None, None, None, 41, None, 43, None, None, None, 47, None, None, None, None, None, 53, None, None, None, None, None, 59, None, 61, None, None, None, None, None, 67, None, None, None, 71, None, 73, None, None, None, None, None, 79, None, None, None, 83, None, None, None, None, None, 89, None, None, None, None, None, None, None, 97, None, None, None]\n"
     ]
    }
   ],
   "source": [
    "p = 2\n",
    "while True:\n",
    "  next_composite = 2 * p\n",
    "  while next_composite <= n:\n",
    "    table[next_composite] = None\n",
    "    next_composite += p\n",
    "\n",
    "  new_p = None\n",
    "  for i in range(p+1, n+1):\n",
    "    if table[i] is not None:\n",
    "      new_p = i\n",
    "      break\n",
    "\n",
    "  if new_p == None:\n",
    "    break\n",
    "  else:\n",
    "    p = new_p\n",
    "\n",
    "print(f'{table=}')"
   ]
  },
  {
   "cell_type": "code",
   "execution_count": 7,
   "metadata": {},
   "outputs": [
    {
     "name": "stdout",
     "output_type": "stream",
     "text": [
      "[2, 3, 5, 7, 11, 13, 17, 19, 23, 29, 31, 37, 41, 43, 47, 53, 59, 61, 67, 71, 73, 79, 83, 89, 97]\n"
     ]
    }
   ],
   "source": [
    "print([i for i in table[2:] if i is not None])"
   ]
  },
  {
   "cell_type": "markdown",
   "metadata": {},
   "source": [
    "# sieve_of_eratosthenes(limit)"
   ]
  },
  {
   "cell_type": "code",
   "execution_count": 8,
   "metadata": {},
   "outputs": [
    {
     "name": "stdout",
     "output_type": "stream",
     "text": [
      "[2, 3, 5, 7, 11, 13, 17, 19, 23, 29, 31, 37, 41, 43, 47, 53, 59, 61, 67, 71, 73, 79, 83, 89, 97]\n"
     ]
    }
   ],
   "source": [
    "def sieve_of_eratosthenes(limit):\n",
    "  # Initialize the list from 0 to limit with the value of the index\n",
    "  table = list(range(limit + 1))\n",
    "\n",
    "  # Start from the first prime number, which is 2\n",
    "  p = 2\n",
    "\n",
    "  while True:\n",
    "    # Mark all multiples of p as None\n",
    "    next_composite = 2 * p\n",
    "    while next_composite <= limit:\n",
    "      table[next_composite] = None\n",
    "      next_composite += p\n",
    "\n",
    "    # Find the next prime number\n",
    "    new_p = None\n",
    "    for i in range(p + 1, limit + 1):\n",
    "      if table[i] is not None:\n",
    "        new_p = i\n",
    "        break\n",
    "\n",
    "    # If no new prime is found, exit the loop\n",
    "    if new_p is None:\n",
    "      break\n",
    "    else:\n",
    "      # Update p to the next prime\n",
    "      p = new_p\n",
    "\n",
    "  # Return the list of primes, skipping None values\n",
    "  return [i for i in table[2:] if i is not None]\n",
    "\n",
    "\n",
    "# Test the function\n",
    "print(sieve_of_eratosthenes(100))"
   ]
  },
  {
   "cell_type": "code",
   "execution_count": 9,
   "metadata": {},
   "outputs": [
    {
     "name": "stdout",
     "output_type": "stream",
     "text": [
      "[2, 3, 5, 7, 11, 13, 17, 19, 23, 29, 31, 37, 41, 43, 47, 53, 59, 61, 67, 71, 73, 79, 83, 89, 97]\n"
     ]
    }
   ],
   "source": [
    "def sieve_of_eratosthenes(limit):\n",
    "  # Initialize the list from 0 to limit with the value of the index\n",
    "  table = list(range(limit + 1))\n",
    "\n",
    "  # Start from the first prime number, which is 2\n",
    "  p = 2\n",
    "\n",
    "  # ⭐ Continue the loop as long as p is not None\n",
    "  while p is not None:\n",
    "    # Mark all multiples of p as None\n",
    "    next_composite = 2 * p\n",
    "    while next_composite <= limit:\n",
    "      table[next_composite] = None\n",
    "      next_composite += p\n",
    "\n",
    "    # Find the next prime number\n",
    "    new_p = None\n",
    "    for i in range(p + 1, limit + 1):\n",
    "      if table[i] is not None:\n",
    "        new_p = i\n",
    "        break\n",
    "\n",
    "    # ⭐ Update p to the next prime or None if no more primes are found\n",
    "    p = new_p\n",
    "\n",
    "  # Return the list of primes, skipping None values\n",
    "  return [i for i in table[2:] if i is not None]\n",
    "\n",
    "\n",
    "# Test the function\n",
    "print(sieve_of_eratosthenes(100))"
   ]
  },
  {
   "cell_type": "code",
   "execution_count": 10,
   "metadata": {},
   "outputs": [
    {
     "name": "stdout",
     "output_type": "stream",
     "text": [
      "[2, 3, 5, 7, 11, 13, 17, 19, 23, 29, 31, 37, 41, 43, 47, 53, 59, 61, 67, 71, 73, 79, 83, 89, 97]\n"
     ]
    }
   ],
   "source": [
    "def sieve_of_eratosthenes(limit):\n",
    "  # Initialize the list from 0 to limit with the value of the index\n",
    "  table = list(range(limit + 1))\n",
    "\n",
    "  # Start from the first prime number, which is 2\n",
    "  p = 2\n",
    "\n",
    "  # ⭐ Continue the loop as long as p is within the limit\n",
    "  while p <= limit:\n",
    "    # ⭐ If p is already marked as None, move to the next number\n",
    "    if table[p] is None:\n",
    "      p += 1\n",
    "      continue\n",
    "\n",
    "    # Mark all multiples of p as None\n",
    "    next_composite = 2 * p\n",
    "    while next_composite <= limit:\n",
    "      table[next_composite] = None\n",
    "      next_composite += p\n",
    "\n",
    "    # ⭐ Move to the next number\n",
    "    p += 1\n",
    "\n",
    "  # Return the list of primes, skipping None values\n",
    "  return [i for i in table[2:] if i is not None]\n",
    "\n",
    "\n",
    "# Test the function\n",
    "print(sieve_of_eratosthenes(100))"
   ]
  },
  {
   "cell_type": "code",
   "execution_count": 11,
   "metadata": {},
   "outputs": [
    {
     "name": "stdout",
     "output_type": "stream",
     "text": [
      "[2, 3, 5, 7, 11, 13, 17, 19, 23, 29, 31, 37, 41, 43, 47, 53, 59, 61, 67, 71, 73, 79, 83, 89, 97]\n"
     ]
    }
   ],
   "source": [
    "def sieve_of_eratosthenes(limit):\n",
    "  # Initialize the list from 0 to limit with the value of the index\n",
    "  table = list(range(limit + 1))\n",
    "\n",
    "  # Start from the first prime number, which is 2\n",
    "  p = 2\n",
    "\n",
    "  # Continue the loop as long as p is within the limit\n",
    "  while p <= limit:\n",
    "    # If p is already marked as None, move to the next number\n",
    "    if table[p] is None:\n",
    "      p += 1\n",
    "      continue\n",
    "\n",
    "    # ⭐ Mark all multiples of p as None using a for loop with steps\n",
    "    for next_composite in range(2 * p, limit + 1, p):\n",
    "      table[next_composite] = None\n",
    "\n",
    "    # Move to the next number\n",
    "    p += 1\n",
    "\n",
    "  # Return the list of primes, skipping None values\n",
    "  return [i for i in table[2:] if i is not None]\n",
    "\n",
    "\n",
    "# Test the function\n",
    "print(sieve_of_eratosthenes(100))"
   ]
  },
  {
   "cell_type": "code",
   "execution_count": 12,
   "metadata": {},
   "outputs": [
    {
     "name": "stdout",
     "output_type": "stream",
     "text": [
      "[2, 3, 5, 7, 11, 13, 17, 19, 23, 29, 31, 37, 41, 43, 47, 53, 59, 61, 67, 71, 73, 79, 83, 89, 97]\n"
     ]
    }
   ],
   "source": [
    "def sieve_of_eratosthenes(limit):\n",
    "  # Initialize the list from 0 to limit with the value of the index\n",
    "  table = list(range(limit + 1))\n",
    "\n",
    "  # Start from the first prime number, which is 2\n",
    "  p = 2\n",
    "\n",
    "  # Continue the loop as long as p is within the limit\n",
    "  while p <= limit:\n",
    "    # ⭐ If p is not marked as None, mark all its multiples as None\n",
    "    if table[p] is not None:\n",
    "      for next_composite in range(2 * p, limit + 1, p):\n",
    "        table[next_composite] = None\n",
    "\n",
    "    # Move to the next number\n",
    "    p += 1\n",
    "\n",
    "  # Return the list of primes, skipping None values\n",
    "  return [i for i in table[2:] if i is not None]\n",
    "\n",
    "\n",
    "# Test the function\n",
    "print(sieve_of_eratosthenes(100))"
   ]
  },
  {
   "cell_type": "markdown",
   "metadata": {},
   "source": [
    "# p*p optimization 1"
   ]
  },
  {
   "cell_type": "code",
   "execution_count": 13,
   "metadata": {},
   "outputs": [
    {
     "name": "stdout",
     "output_type": "stream",
     "text": [
      "[2, 3, 5, 7, 11, 13, 17, 19, 23, 29, 31, 37, 41, 43, 47, 53, 59, 61, 67, 71, 73, 79, 83, 89, 97]\n"
     ]
    }
   ],
   "source": [
    "def sieve_of_eratosthenes(limit):\n",
    "  table = list(range(limit + 1))\n",
    "\n",
    "  p = 2\n",
    "  while p <= limit:  # 🐌🐌\n",
    "    # print(f'{p=}')\n",
    "\n",
    "    if table[p] is not None:\n",
    "      for next_composite in range(2*p, n+1, p):\n",
    "        table[next_composite] = None\n",
    "    p += 1\n",
    "\n",
    "  return [i for i in table[2:] if i is not None]\n",
    "\n",
    "\n",
    "print(sieve_of_eratosthenes(100))"
   ]
  },
  {
   "cell_type": "code",
   "execution_count": 14,
   "metadata": {},
   "outputs": [
    {
     "name": "stdout",
     "output_type": "stream",
     "text": [
      "[2, 3, 5, 7, 11, 13, 17, 19, 23, 29, 31, 37, 41, 43, 47, 53, 59, 61, 67, 71, 73, 79, 83, 89, 97]\n"
     ]
    }
   ],
   "source": [
    "def sieve_of_eratosthenes(limit):\n",
    "  table = list(range(limit + 1))\n",
    "\n",
    "  p = 2\n",
    "  while p*p <= limit:  # 🚀🚀\n",
    "    # print(f'{p=}')\n",
    "\n",
    "    if table[p] is not None:\n",
    "      for next_composite in range(2*p, n+1, p):\n",
    "        table[next_composite] = None\n",
    "    p += 1\n",
    "\n",
    "  return [i for i in table[2:] if i is not None]\n",
    "\n",
    "\n",
    "print(sieve_of_eratosthenes(100))"
   ]
  },
  {
   "cell_type": "markdown",
   "metadata": {},
   "source": [
    "# p*p optimization 2"
   ]
  },
  {
   "cell_type": "code",
   "execution_count": 15,
   "metadata": {},
   "outputs": [
    {
     "name": "stdout",
     "output_type": "stream",
     "text": [
      "[2, 3, 5, 7, 11, 13, 17, 19, 23, 29, 31, 37, 41, 43, 47, 53, 59, 61, 67, 71, 73, 79, 83, 89, 97]\n"
     ]
    }
   ],
   "source": [
    "def sieve_of_eratosthenes(limit):\n",
    "  table = list(range(limit + 1))\n",
    "\n",
    "  p = 2\n",
    "  while p*p <= limit:\n",
    "    # print(f'{p=}')\n",
    "\n",
    "    if table[p] is not None:\n",
    "      for next_composite in range(2*p, n+1, p):  # 🐌🐌\n",
    "        # print(f'{p=}, {next_composite=}, {table[next_composite]}')\n",
    "\n",
    "        table[next_composite] = None\n",
    "    p += 1\n",
    "\n",
    "  return [i for i in table[2:] if i is not None]\n",
    "\n",
    "\n",
    "print(sieve_of_eratosthenes(100))"
   ]
  },
  {
   "cell_type": "code",
   "execution_count": 16,
   "metadata": {},
   "outputs": [
    {
     "name": "stdout",
     "output_type": "stream",
     "text": [
      "[2, 3, 5, 7, 11, 13, 17, 19, 23, 29, 31, 37, 41, 43, 47, 53, 59, 61, 67, 71, 73, 79, 83, 89, 97]\n"
     ]
    }
   ],
   "source": [
    "def sieve_of_eratosthenes(limit):\n",
    "  table = list(range(limit + 1))\n",
    "\n",
    "  p = 2\n",
    "  while p*p <= limit:\n",
    "    # print(f'{p=}')\n",
    "\n",
    "    if table[p] is not None:\n",
    "      for next_composite in range(p*p, n+1, p):  # 🚀🚀\n",
    "        # print(f'{p=}, {next_composite=}, {table[next_composite]}')\n",
    "\n",
    "        table[next_composite] = None\n",
    "    p += 1\n",
    "\n",
    "  return [i for i in table[2:] if i is not None]\n",
    "\n",
    "\n",
    "print(sieve_of_eratosthenes(100))"
   ]
  }
 ],
 "metadata": {
  "kernelspec": {
   "display_name": "Python 3",
   "language": "python",
   "name": "python3"
  },
  "language_info": {
   "codemirror_mode": {
    "name": "ipython",
    "version": 3
   },
   "file_extension": ".py",
   "mimetype": "text/x-python",
   "name": "python",
   "nbconvert_exporter": "python",
   "pygments_lexer": "ipython3",
   "version": "3.12.0"
  }
 },
 "nbformat": 4,
 "nbformat_minor": 2
}
