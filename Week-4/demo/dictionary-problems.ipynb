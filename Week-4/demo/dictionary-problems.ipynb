{
 "cells": [
  {
   "cell_type": "markdown",
   "metadata": {},
   "source": [
    "# Problem 1: Square the Values"
   ]
  },
  {
   "cell_type": "code",
   "execution_count": 12,
   "metadata": {},
   "outputs": [
    {
     "name": "stdout",
     "output_type": "stream",
     "text": [
      "i=0 -> numbers[i]=17: 289\n",
      "i=1 -> numbers[i]=18: 324\n",
      "i=2 -> numbers[i]=19: 361\n"
     ]
    },
    {
     "data": {
      "text/plain": [
       "{17: 289, 18: 324, 19: 361}"
      ]
     },
     "execution_count": 12,
     "metadata": {},
     "output_type": "execute_result"
    }
   ],
   "source": [
    "def square_values(numbers):\n",
    "  squares = {}\n",
    "  for i in range(len(numbers)):\n",
    "    print(f'{i=} -> {numbers[i]=}: {numbers[i]**2}')\n",
    "    key = numbers[i]\n",
    "    value = numbers[i]**2\n",
    "    squares[key] = value\n",
    "\n",
    "  return squares\n",
    "\n",
    "\n",
    "square_values([17, 18, 19])"
   ]
  },
  {
   "cell_type": "code",
   "execution_count": 15,
   "metadata": {},
   "outputs": [
    {
     "name": "stdout",
     "output_type": "stream",
     "text": [
      "i=0 -> numbers[i]=17: 289\n",
      "i=1 -> numbers[i]=18: 324\n",
      "i=2 -> numbers[i]=19: 361\n"
     ]
    },
    {
     "data": {
      "text/plain": [
       "{17: 289, 18: 324, 19: 361}"
      ]
     },
     "execution_count": 15,
     "metadata": {},
     "output_type": "execute_result"
    }
   ],
   "source": [
    "def square_values(numbers):\n",
    "  squares = {}\n",
    "  for i in range(len(numbers)):\n",
    "    print(f'{i=} -> {numbers[i]=}: {numbers[i]**2}')\n",
    "    squares[numbers[i]] = numbers[i]**2\n",
    "\n",
    "  return squares\n",
    "\n",
    "\n",
    "square_values([17, 18, 19])"
   ]
  },
  {
   "cell_type": "code",
   "execution_count": 21,
   "metadata": {},
   "outputs": [
    {
     "data": {
      "text/plain": [
       "{17: 289, 18: 324, 19: 361}"
      ]
     },
     "execution_count": 21,
     "metadata": {},
     "output_type": "execute_result"
    }
   ],
   "source": [
    "def square_values(numbers):\n",
    "  squares = {}\n",
    "  for num in numbers:\n",
    "    squares[num] = num**2\n",
    "\n",
    "  return squares\n",
    "\n",
    "\n",
    "square_values([17, 18, 19])"
   ]
  },
  {
   "cell_type": "code",
   "execution_count": 17,
   "metadata": {},
   "outputs": [
    {
     "data": {
      "text/plain": [
       "{17: 289, 18: 324, 19: 361}"
      ]
     },
     "execution_count": 17,
     "metadata": {},
     "output_type": "execute_result"
    }
   ],
   "source": [
    "def square_values(numbers):\n",
    "  squares = {numbers[i]: numbers[i]**2 for i in range(len(numbers))}\n",
    "  return squares\n",
    "\n",
    "\n",
    "square_values([17, 18, 19])"
   ]
  },
  {
   "cell_type": "code",
   "execution_count": 22,
   "metadata": {},
   "outputs": [
    {
     "data": {
      "text/plain": [
       "{17: 289, 18: 324, 19: 361}"
      ]
     },
     "execution_count": 22,
     "metadata": {},
     "output_type": "execute_result"
    }
   ],
   "source": [
    "def square_values(numbers):\n",
    "  squares = {num: num**2 for num in numbers}\n",
    "  return squares\n",
    "\n",
    "\n",
    "square_values([17, 18, 19])"
   ]
  },
  {
   "cell_type": "code",
   "execution_count": 24,
   "metadata": {},
   "outputs": [
    {
     "name": "stdout",
     "output_type": "stream",
     "text": [
      "All tests passed!\n"
     ]
    }
   ],
   "source": [
    "def square_values(numbers):\n",
    "  \"\"\"\n",
    "  Creates a dictionary where the keys are the integers from the list \n",
    "  and the values are the squares of those integers.\n",
    "\n",
    "  Args:\n",
    "      numbers (list): The list of integers.\n",
    "\n",
    "  Returns:\n",
    "      dict: A dictionary with integers as keys and their squares as values.\n",
    "  \"\"\"\n",
    "  squares = {num: num**2 for num in numbers}\n",
    "  return squares\n",
    "\n",
    "\n",
    "# Test calls\n",
    "assert square_values([1, 2, 3, 4, 5]) == {1: 1, 2: 4, 3: 9, 4: 16, 5: 25}\n",
    "assert square_values([0, -1, -2]) == {0: 0, -1: 1, -2: 4}\n",
    "assert square_values([10, 20]) == {10: 100, 20: 400}\n",
    "assert square_values([]) == {}\n",
    "\n",
    "print(\"All tests passed!\")"
   ]
  },
  {
   "cell_type": "markdown",
   "metadata": {},
   "source": [
    "# Problem 2: Length of Strings"
   ]
  },
  {
   "cell_type": "code",
   "execution_count": 29,
   "metadata": {},
   "outputs": [
    {
     "data": {
      "text/plain": [
       "{'apple': 5, 'banana': 6, 'cherry': 6}"
      ]
     },
     "execution_count": 29,
     "metadata": {},
     "output_type": "execute_result"
    }
   ],
   "source": [
    "def length_of_strings(words):\n",
    "  length_dict = {}\n",
    "  for word in words:\n",
    "    length_dict[word] = len(word)\n",
    "  return length_dict\n",
    "\n",
    "\n",
    "length_of_strings([\"apple\", \"banana\", \"cherry\"])"
   ]
  },
  {
   "cell_type": "code",
   "execution_count": 32,
   "metadata": {},
   "outputs": [
    {
     "data": {
      "text/plain": [
       "{'apple': 5, 'banana': 6, 'cherry': 6}"
      ]
     },
     "execution_count": 32,
     "metadata": {},
     "output_type": "execute_result"
    }
   ],
   "source": [
    "def length_of_strings(words):\n",
    "  length_dict = {word: len(word) for word in words}\n",
    "  return length_dict\n",
    "\n",
    "\n",
    "length_of_strings([\"apple\", \"banana\", \"cherry\"])"
   ]
  },
  {
   "cell_type": "code",
   "execution_count": 34,
   "metadata": {},
   "outputs": [
    {
     "name": "stdout",
     "output_type": "stream",
     "text": [
      "All tests passed!\n"
     ]
    }
   ],
   "source": [
    "def length_of_strings(words):\n",
    "  \"\"\"\n",
    "  Creates a dictionary where the keys are the strings and the values are the lengths of those strings.\n",
    "\n",
    "  Args:\n",
    "      words (list): The list of strings.\n",
    "\n",
    "  Returns:\n",
    "      dict: A dictionary with strings as keys and their lengths as values.\n",
    "  \"\"\"\n",
    "  length_dict = {word: len(word) for word in words}\n",
    "  return length_dict\n",
    "\n",
    "\n",
    "# Test calls\n",
    "assert length_of_strings([\"apple\", \"banana\", \"cherry\"]) == {'apple': 5, 'banana': 6, 'cherry': 6}\n",
    "assert length_of_strings([\"a\", \"ab\", \"abc\"]) == {'a': 1, 'ab': 2, 'abc': 3}\n",
    "assert length_of_strings([\"\"]) == {\"\": 0}\n",
    "assert length_of_strings([]) == {}\n",
    "\n",
    "print(\"All tests passed!\")"
   ]
  },
  {
   "cell_type": "markdown",
   "metadata": {},
   "source": [
    "# Problem 3: Filter and Transform"
   ]
  },
  {
   "cell_type": "code",
   "execution_count": 37,
   "metadata": {},
   "outputs": [
    {
     "data": {
      "text/plain": [
       "{2: 8, 4: 64, 6: 216}"
      ]
     },
     "execution_count": 37,
     "metadata": {},
     "output_type": "execute_result"
    }
   ],
   "source": [
    "def filter_and_transform(numbers):\n",
    "  result_dict = {}\n",
    "  for num in numbers:\n",
    "    if num % 2 == 0:\n",
    "      result_dict[num] = num**3\n",
    "  return result_dict\n",
    "\n",
    "\n",
    "filter_and_transform([1, 2, 3, 4, 5, 6])"
   ]
  },
  {
   "cell_type": "code",
   "execution_count": 40,
   "metadata": {},
   "outputs": [
    {
     "data": {
      "text/plain": [
       "{2: 8, 4: 64, 6: 216}"
      ]
     },
     "execution_count": 40,
     "metadata": {},
     "output_type": "execute_result"
    }
   ],
   "source": [
    "def filter_and_transform(numbers):\n",
    "  result_dict = {num: num**3 for num in numbers if num % 2 == 0}\n",
    "  return result_dict\n",
    "\n",
    "\n",
    "filter_and_transform([1, 2, 3, 4, 5, 6])"
   ]
  },
  {
   "cell_type": "code",
   "execution_count": 41,
   "metadata": {},
   "outputs": [
    {
     "name": "stdout",
     "output_type": "stream",
     "text": [
      "All tests passed!\n"
     ]
    }
   ],
   "source": [
    "def filter_and_transform(numbers):\n",
    "  \"\"\"\n",
    "  Creates a dictionary where the keys are the integers and the values are the cubes of those integers,\n",
    "  but only includes integers that are even.\n",
    "\n",
    "  Args:\n",
    "      numbers (list): The list of integers.\n",
    "\n",
    "  Returns:\n",
    "      dict: A dictionary with even integers as keys and their cubes as values.\n",
    "  \"\"\"\n",
    "  result_dict = {num: num**3 for num in numbers if num % 2 == 0}\n",
    "  return result_dict\n",
    "\n",
    "\n",
    "# Test calls\n",
    "assert filter_and_transform([1, 2, 3, 4, 5, 6]) == {2: 8, 4: 64, 6: 216}\n",
    "assert filter_and_transform([7, 8, 9, 10]) == {8: 512, 10: 1000}\n",
    "assert filter_and_transform([1, 3, 5]) == {}\n",
    "assert filter_and_transform([]) == {}\n",
    "\n",
    "print(\"All tests passed!\")"
   ]
  },
  {
   "cell_type": "markdown",
   "metadata": {},
   "source": [
    "# Problem 4: Swap Keys and Values"
   ]
  },
  {
   "cell_type": "code",
   "execution_count": 49,
   "metadata": {},
   "outputs": [
    {
     "data": {
      "text/plain": [
       "{1: 'a', 2: 'b', 3: 'c'}"
      ]
     },
     "execution_count": 49,
     "metadata": {},
     "output_type": "execute_result"
    }
   ],
   "source": [
    "def swap_keys_and_values(original_dict):\n",
    "  new_dict = {}\n",
    "  for key in original_dict:\n",
    "    value = original_dict[key]\n",
    "    new_dict[value] = key\n",
    "  return new_dict\n",
    "\n",
    "\n",
    "swap_keys_and_values({'a': 1, 'b': 2, 'c': 3})"
   ]
  },
  {
   "cell_type": "code",
   "execution_count": 60,
   "metadata": {},
   "outputs": [],
   "source": [
    "my_dict = {'a': 1, 'b': 2, 'c': 3}\n",
    "\n",
    "# my_dict.keys()\n",
    "# for key in my_dict.keys():\n",
    "#   print(key)\n",
    "\n",
    "# my_dict.values()\n",
    "# for value in my_dict.values():\n",
    "#   print(value)\n",
    "\n",
    "# my_dict.items()\n",
    "# for key, value in my_dict.items():\n",
    "#   print(key, value)"
   ]
  },
  {
   "cell_type": "code",
   "execution_count": null,
   "metadata": {},
   "outputs": [
    {
     "data": {
      "text/plain": [
       "{1: 'a', 2: 'b', 3: 'c'}"
      ]
     },
     "metadata": {},
     "output_type": "display_data"
    }
   ],
   "source": [
    "def swap_keys_and_values(original_dict):\n",
    "  new_dict = {}\n",
    "  for key, value in original_dict.items():\n",
    "    new_dict[value] = key\n",
    "  return new_dict\n",
    "\n",
    "\n",
    "swap_keys_and_values({'a': 1, 'b': 2, 'c': 3})"
   ]
  },
  {
   "cell_type": "code",
   "execution_count": 62,
   "metadata": {},
   "outputs": [
    {
     "data": {
      "text/plain": [
       "{1: 'a', 2: 'b', 3: 'c'}"
      ]
     },
     "execution_count": 62,
     "metadata": {},
     "output_type": "execute_result"
    }
   ],
   "source": [
    "def swap_keys_and_values(original_dict):\n",
    "  new_dict = {value: key for key, value in original_dict.items()}\n",
    "  return new_dict\n",
    "\n",
    "\n",
    "swap_keys_and_values({'a': 1, 'b': 2, 'c': 3})"
   ]
  },
  {
   "cell_type": "code",
   "execution_count": 47,
   "metadata": {},
   "outputs": [
    {
     "data": {
      "text/plain": [
       "{1: 'a', 2: 'b', 3: 'c'}"
      ]
     },
     "execution_count": 47,
     "metadata": {},
     "output_type": "execute_result"
    }
   ],
   "source": [
    "def swap_keys_and_values(original_dict):\n",
    "  new_dict = {original_dict[key]: key for key in original_dict}\n",
    "  return new_dict\n",
    "\n",
    "\n",
    "swap_keys_and_values({'a': 1, 'b': 2, 'c': 3})"
   ]
  },
  {
   "cell_type": "code",
   "execution_count": 63,
   "metadata": {},
   "outputs": [
    {
     "name": "stdout",
     "output_type": "stream",
     "text": [
      "All tests passed!\n"
     ]
    }
   ],
   "source": [
    "def swap_keys_and_values(original_dict):\n",
    "  \"\"\"\n",
    "  Creates a new dictionary by swapping the keys and values of the given dictionary.\n",
    "\n",
    "  Args:\n",
    "      original_dict (dict): The original dictionary.\n",
    "\n",
    "  Returns:\n",
    "      dict: A new dictionary with swapped keys and values.\n",
    "  \"\"\"\n",
    "  new_dict = {value: key for key, value in original_dict.items()}\n",
    "  return new_dict\n",
    "\n",
    "\n",
    "# Test calls\n",
    "assert swap_keys_and_values({'a': 1, 'b': 2, 'c': 3}) == {1: 'a', 2: 'b', 3: 'c'}\n",
    "assert swap_keys_and_values({1: 'x', 2: 'y'}) == {'x': 1, 'y': 2}\n",
    "assert swap_keys_and_values({'key': 'value'}) == {'value': 'key'}\n",
    "assert swap_keys_and_values({}) == {}\n",
    "\n",
    "print(\"All tests passed!\")"
   ]
  },
  {
   "cell_type": "markdown",
   "metadata": {},
   "source": [
    "# Problem 5: Character Frequency"
   ]
  },
  {
   "cell_type": "code",
   "execution_count": 94,
   "metadata": {},
   "outputs": [
    {
     "name": "stdout",
     "output_type": "stream",
     "text": [
      "boom\n"
     ]
    },
    {
     "data": {
      "text/plain": [
       "{'a': 4}"
      ]
     },
     "execution_count": 94,
     "metadata": {},
     "output_type": "execute_result"
    }
   ],
   "source": [
    "def character_frequency(text):\n",
    "  freq = {}\n",
    "  for char in text:\n",
    "    if char not in freq:  # this happens only 1 time\n",
    "      print('boom')\n",
    "      freq[char] = text.count(char)  # freq me char ko shamil kr liya, ab dubara nhi krna hoga (good code 😃)\n",
    "  return freq\n",
    "\n",
    "\n",
    "character_frequency(\"aaaa\")"
   ]
  },
  {
   "cell_type": "code",
   "execution_count": 90,
   "metadata": {},
   "outputs": [
    {
     "data": {
      "text/plain": [
       "{'a': 4}"
      ]
     },
     "execution_count": 90,
     "metadata": {},
     "output_type": "execute_result"
    }
   ],
   "source": [
    "def character_frequency(text):\n",
    "  freq = {char: text.count(char) for char in text}  # bad code, adding same char in freq 4 times\n",
    "  # freq = {char: text.count(char) for char in text if char not in freq}  # good code, (sadly not possible)\n",
    "  return freq\n",
    "\n",
    "\n",
    "character_frequency(\"aaaa\")"
   ]
  },
  {
   "cell_type": "code",
   "execution_count": 91,
   "metadata": {},
   "outputs": [
    {
     "name": "stdout",
     "output_type": "stream",
     "text": [
      "All tests passed!\n"
     ]
    }
   ],
   "source": [
    "def character_frequency(text):\n",
    "  \"\"\"\n",
    "  Creates a dictionary that maps each character to its frequency in the given string.\n",
    "\n",
    "  Args:\n",
    "      text (str): The input string.\n",
    "\n",
    "  Returns:\n",
    "      dict: A dictionary with characters as keys and their frequencies as values.\n",
    "  \"\"\"\n",
    "  freq = {}\n",
    "  for char in text:\n",
    "    if char not in freq:\n",
    "      freq[char] = text.count(char)\n",
    "  return freq\n",
    "\n",
    "\n",
    "# Test calls\n",
    "assert character_frequency(\"hello\") == {'h': 1, 'e': 1, 'l': 2, 'o': 1}\n",
    "assert character_frequency(\"aa bb cc\") == {'a': 2, 'b': 2, 'c': 2, ' ': 2}\n",
    "assert character_frequency(\"abcd abcd\") == {'a': 2, 'b': 2, 'c': 2, 'd': 2, ' ': 1}\n",
    "assert character_frequency(\"\") == {}\n",
    "\n",
    "print(\"All tests passed!\")"
   ]
  },
  {
   "cell_type": "markdown",
   "metadata": {},
   "source": [
    "# Problem 6: Nested Dictionary from Two Lists"
   ]
  },
  {
   "cell_type": "code",
   "execution_count": 120,
   "metadata": {},
   "outputs": [
    {
     "data": {
      "text/plain": [
       "{'name': {'value': 'vidhatri', 'type': str}, 'age': {'value': 20, 'type': int}}"
      ]
     },
     "execution_count": 120,
     "metadata": {},
     "output_type": "execute_result"
    }
   ],
   "source": [
    "def nested_dict_from_lists(keys, values):\n",
    "  result_dict = {}\n",
    "  for i in range(len(keys)):\n",
    "    info = {'value': values[i], 'type': type(values[i])}\n",
    "    result_dict[keys[i]] = info\n",
    "  return result_dict\n",
    "\n",
    "\n",
    "nested_dict_from_lists(['name', 'age'], ['vidhatri', 20])"
   ]
  },
  {
   "cell_type": "code",
   "execution_count": 125,
   "metadata": {},
   "outputs": [
    {
     "data": {
      "text/plain": [
       "{'name': {'value': 'vidhatri', 'type': str}, 'age': {'value': 20, 'type': int}}"
      ]
     },
     "execution_count": 125,
     "metadata": {},
     "output_type": "execute_result"
    }
   ],
   "source": [
    "def nested_dict_from_lists(keys, values):\n",
    "  result_dict = {keys[i]: {'value': values[i], 'type': type(values[i])} for i in range(len(keys))}\n",
    "  return result_dict\n",
    "\n",
    "\n",
    "nested_dict_from_lists(['name', 'age'], ['vidhatri', 20])"
   ]
  },
  {
   "cell_type": "code",
   "execution_count": 106,
   "metadata": {},
   "outputs": [
    {
     "data": {
      "text/plain": [
       "True"
      ]
     },
     "execution_count": 106,
     "metadata": {},
     "output_type": "execute_result"
    }
   ],
   "source": [
    "type('hello') == str"
   ]
  },
  {
   "cell_type": "code",
   "execution_count": 127,
   "metadata": {},
   "outputs": [
    {
     "name": "stdout",
     "output_type": "stream",
     "text": [
      "All tests passed!\n"
     ]
    }
   ],
   "source": [
    "def nested_dict_from_lists(keys, values):\n",
    "  \"\"\"\n",
    "  Creates a dictionary where each key maps to a nested dictionary with the value and its type.\n",
    "\n",
    "  Args:\n",
    "      keys (list): The list of keys.\n",
    "      values (list): The list of values.\n",
    "\n",
    "  Returns:\n",
    "      dict: A dictionary with keys mapping to nested dictionaries containing value and type.\n",
    "  \"\"\"\n",
    "  result_dict = {keys[i]: {'value': values[i], 'type': type(values[i])} for i in range(len(keys))}\n",
    "  return result_dict\n",
    "\n",
    "\n",
    "# Test calls\n",
    "assert nested_dict_from_lists(['one', 'two', 'three'], [1, 2.0, 'three']) == {\n",
    "    'one': {'value': 1, 'type': int},\n",
    "    'two': {'value': 2.0, 'type': float},\n",
    "    'three': {'value': 'three', 'type': str}\n",
    "}\n",
    "\n",
    "assert nested_dict_from_lists(['a', 'b'], [True, None]) == {\n",
    "    'a': {'value': True, 'type': bool},\n",
    "    'b': {'value': None, 'type': type(None)}\n",
    "}\n",
    "\n",
    "assert nested_dict_from_lists(['name', 'age'], ['vidhatri', 20]) == {\n",
    "    'name': {'value': 'vidhatri', 'type': str},\n",
    "    'age': {'value': 20, 'type': int}\n",
    "}\n",
    "\n",
    "assert nested_dict_from_lists([], []) == {}\n",
    "\n",
    "print(\"All tests passed!\")"
   ]
  },
  {
   "cell_type": "markdown",
   "metadata": {},
   "source": [
    "# Problem 7: Grouping by Length"
   ]
  },
  {
   "cell_type": "code",
   "execution_count": 137,
   "metadata": {},
   "outputs": [
    {
     "name": "stdout",
     "output_type": "stream",
     "text": [
      "key=1 not found, so we create it as [a]\n",
      "key=1 already exist, so we just append word='b'\n",
      "key=1 already exist, so we just append word='c'\n",
      "key=2 not found, so we create it as [at]\n",
      "key=3 not found, so we create it as [bat]\n",
      "key=3 already exist, so we just append word='cat'\n",
      "key=4 not found, so we create it as [cats]\n",
      "key=5 not found, so we create it as [hello]\n",
      "key=5 already exist, so we just append word='world'\n",
      "key=8 not found, so we create it as [vidhatri]\n",
      "key=8 already exist, so we just append word='vaishnvi'\n"
     ]
    },
    {
     "data": {
      "text/plain": [
       "{1: ['a', 'b', 'c'],\n",
       " 2: ['at'],\n",
       " 3: ['bat', 'cat'],\n",
       " 4: ['cats'],\n",
       " 5: ['hello', 'world'],\n",
       " 8: ['vidhatri', 'vaishnvi']}"
      ]
     },
     "execution_count": 137,
     "metadata": {},
     "output_type": "execute_result"
    }
   ],
   "source": [
    "def group_by_length(words):\n",
    "  length_dict = {}\n",
    "  for word in words:\n",
    "    if len(word) in length_dict:\n",
    "      print(f'key={len(word)} already exist, so we just append {word=}')\n",
    "      length_dict[len(word)].append(word)\n",
    "    else:\n",
    "      print(f'key={len(word)} not found, so we create it as [{word}]')\n",
    "      length_dict[len(word)] = [word]\n",
    "\n",
    "  return length_dict\n",
    "\n",
    "\n",
    "group_by_length([\"a\", 'b', 'c', \"at\", \"bat\", 'cat', \"cats\", \"hello\", \"world\", 'vidhatri', 'vaishnvi'])"
   ]
  },
  {
   "cell_type": "code",
   "execution_count": 138,
   "metadata": {},
   "outputs": [
    {
     "name": "stdout",
     "output_type": "stream",
     "text": [
      "All tests passed!\n"
     ]
    }
   ],
   "source": [
    "def group_by_length(words):\n",
    "  \"\"\"\n",
    "  Creates a dictionary where the keys are the lengths of the strings \n",
    "  and the values are lists of strings of that length.\n",
    "\n",
    "  Args:\n",
    "      words (list): The list of strings.\n",
    "\n",
    "  Returns:\n",
    "      dict: A dictionary with string lengths as keys and lists of strings as values.\n",
    "  \"\"\"\n",
    "  length_dict = {}\n",
    "  for word in words:\n",
    "    if len(word) in length_dict:\n",
    "      length_dict[len(word)].append(word)\n",
    "    else:\n",
    "      length_dict[len(word)] = [word]\n",
    "\n",
    "  return length_dict\n",
    "\n",
    "\n",
    "# Test calls\n",
    "assert group_by_length([\"a\", 'b', 'c', \"at\", \"bat\", 'cat', \"cats\", \"hello\", \"world\", 'vidhatri', 'vaishnvi']) == {\n",
    "    1: ['a', 'b', 'c'], 2: ['at'],\n",
    "    3: ['bat', 'cat'], 4: ['cats'],\n",
    "    5: ['hello', 'world'],\n",
    "    8: ['vidhatri', 'vaishnvi']\n",
    "}\n",
    "\n",
    "assert group_by_length([\"one\", \"two\", \"three\"]) == {3: ['one', 'two'], 5: ['three']}\n",
    "assert group_by_length([\"\"]) == {0: [\"\"]}\n",
    "assert group_by_length([]) == {}\n",
    "\n",
    "print(\"All tests passed!\")"
   ]
  },
  {
   "cell_type": "markdown",
   "metadata": {},
   "source": [
    "# Problem 8: Frequency of Initials"
   ]
  },
  {
   "cell_type": "code",
   "execution_count": null,
   "metadata": {},
   "outputs": [],
   "source": [
    "def frequency_of_initials(names):\n",
    "  \"\"\"\n",
    "  Creates a dictionary where the keys are the first letters of the names \n",
    "  and the values are the number of names that start with that letter.\n",
    "\n",
    "  Args:\n",
    "      names (list): The list of names.\n",
    "\n",
    "  Returns:\n",
    "      dict: A dictionary with first letters as keys and their frequencies as values.\n",
    "  \"\"\"\n",
    "  pass\n",
    "\n",
    "\n",
    "# Test calls\n",
    "assert frequency_of_initials([\"Alice\", \"Bob\", \"Charlie\", 'Anna', 'Vidhatri', 'Vaishnvi']) == {\n",
    "    'A': 2, 'B': 1, 'C': 1, 'V': 2\n",
    "}\n",
    "assert frequency_of_initials([\"Anna\", \"Alice\", \"Ben\"]) == {'A': 2, 'B': 1}\n",
    "assert frequency_of_initials([\"Zoe\"]) == {'Z': 1}\n",
    "assert frequency_of_initials([]) == {}\n",
    "\n",
    "print(\"All tests passed!\")"
   ]
  },
  {
   "cell_type": "markdown",
   "metadata": {},
   "source": [
    "# Problem 9: Conditional Transformation"
   ]
  },
  {
   "cell_type": "code",
   "execution_count": null,
   "metadata": {},
   "outputs": [],
   "source": [
    "def conditional_transformation(original_dict):\n",
    "  \"\"\"\n",
    "  Creates a new dictionary where keys are the same, but values are squared if they are even \n",
    "  and unchanged if they are odd.\n",
    "\n",
    "  Args:\n",
    "      original_dict (dict): The original dictionary.\n",
    "\n",
    "  Returns:\n",
    "      dict: A new dictionary with conditionally transformed values.\n",
    "  \"\"\"\n",
    "  pass\n",
    "\n",
    "\n",
    "# Test calls\n",
    "assert conditional_transformation({'a': 1, 'b': 2, 'c': 3, 'd': 4}) == {'a': 1, 'b': 4, 'c': 3, 'd': 16}\n",
    "assert conditional_transformation({'x': 5, 'y': 6, 'z': 7}) == {'x': 5, 'y': 36, 'z': 7}\n",
    "assert conditional_transformation({'vidhatri': 0}) == {'vidhatri': 0}\n",
    "assert conditional_transformation({}) == {}\n",
    "\n",
    "print(\"All tests passed!\")"
   ]
  },
  {
   "cell_type": "markdown",
   "metadata": {},
   "source": [
    "# Problem 10: Sum of List Indices"
   ]
  },
  {
   "cell_type": "code",
   "execution_count": null,
   "metadata": {},
   "outputs": [],
   "source": [
    "def sum_of_list_indices(lists):\n",
    "  \"\"\"\n",
    "  Creates a dictionary where the keys are the indices of the outer list, \n",
    "  and the values are the sum of the integers in the corresponding inner list.\n",
    "\n",
    "  Args:\n",
    "      lists (list of list of int): The list of lists of integers.\n",
    "\n",
    "  Returns:\n",
    "      dict: A dictionary with indices as keys and sums of inner lists as values.\n",
    "  \"\"\"\n",
    "  pass\n",
    "\n",
    "\n",
    "# Test calls\n",
    "assert sum_of_list_indices([[1, 2, 3], [4, 5], [6, 7, 8, 9]]) == {0: 6, 1: 9, 2: 30}\n",
    "assert sum_of_list_indices([[], [1], [1, 2, 3]]) == {0: 0, 1: 1, 2: 6}\n",
    "assert sum_of_list_indices([[-1, -2, -3], [0], [1, 1, 1]]) == {0: -6, 1: 0, 2: 3}\n",
    "assert sum_of_list_indices([]) == {}\n",
    "\n",
    "print(\"All tests passed!\")"
   ]
  },
  {
   "cell_type": "markdown",
   "metadata": {},
   "source": [
    "# Problem 11: Character Position Mapping"
   ]
  },
  {
   "cell_type": "code",
   "execution_count": null,
   "metadata": {},
   "outputs": [],
   "source": [
    "def character_position_mapping(text):\n",
    "  \"\"\"\n",
    "  Creates a dictionary where the keys are the characters, \n",
    "  and the values are lists of positions (indices) where the characters appear in the string.\n",
    "\n",
    "  Args:\n",
    "      text (str): The input string.\n",
    "\n",
    "  Returns:\n",
    "      dict: A dictionary with characters as keys and lists of positions as values.\n",
    "  \"\"\"\n",
    "  pass\n",
    "\n",
    "\n",
    "# Test calls\n",
    "assert character_position_mapping(\"abracadabra\") == {\n",
    "    'a': [0, 3, 5, 7, 10],\n",
    "    'b': [1, 8], 'r': [2, 9], 'c': [4], 'd': [6]\n",
    "}\n",
    "\n",
    "assert character_position_mapping(\"hello\") == {\n",
    "    'h': [0], 'e': [1], 'l': [2, 3], 'o': [4]\n",
    "}\n",
    "\n",
    "assert character_position_mapping(\"aaa\") == {'a': [0, 1, 2]}\n",
    "assert character_position_mapping(\"\") == {}\n",
    "\n",
    "print(\"All tests passed!\")"
   ]
  },
  {
   "cell_type": "markdown",
   "metadata": {},
   "source": [
    "# Problem 12: Indexed String Transformation"
   ]
  },
  {
   "cell_type": "code",
   "execution_count": null,
   "metadata": {},
   "outputs": [],
   "source": [
    "def indexed_string_transformation(words):\n",
    "  \"\"\"\n",
    "  Creates a dictionary where the keys are the indices of the list, \n",
    "  and the values are the strings reversed and in uppercase.\n",
    "\n",
    "  Args:\n",
    "      words (list of str): The list of strings.\n",
    "\n",
    "  Returns:\n",
    "      dict: A dictionary with indices as keys and transformed strings as values.\n",
    "  \"\"\"\n",
    "  pass\n",
    "\n",
    "\n",
    "# Test calls\n",
    "assert indexed_string_transformation([\"apple\", \"banana\", \"cherry\"]) == {0: 'ELPPA', 1: 'ANANAB', 2: 'YRREHC'}\n",
    "assert indexed_string_transformation([\"hello\", \"world\"]) == {0: 'OLLEH', 1: 'DLROW'}\n",
    "assert indexed_string_transformation([\"a\", \"bb\", \"ccc\"]) == {0: 'A', 1: 'BB', 2: 'CCC'}\n",
    "assert indexed_string_transformation([]) == {}\n",
    "\n",
    "print(\"All tests passed!\")"
   ]
  },
  {
   "cell_type": "markdown",
   "metadata": {},
   "source": [
    "# Problem 13: Index-Based Conditional Assignment"
   ]
  },
  {
   "cell_type": "code",
   "execution_count": null,
   "metadata": {},
   "outputs": [],
   "source": [
    "def index_based_conditional_assignment(numbers):\n",
    "  \"\"\"\n",
    "  Creates a dictionary where the keys are the indices of the list, \n",
    "  and the values are \"even\" or \"odd\" depending on the integer at that index.\n",
    "\n",
    "  Args:\n",
    "      numbers (list of int): The list of integers.\n",
    "\n",
    "  Returns:\n",
    "      dict: A dictionary with indices as keys and \"even\"/\"odd\" as values.\n",
    "  \"\"\"\n",
    "  pass\n",
    "\n",
    "\n",
    "# Test calls\n",
    "assert index_based_conditional_assignment([10, 21, 32, 43, 54]) == {0: 'even', 1: 'odd', 2: 'even', 3: 'odd', 4: 'even'}\n",
    "assert index_based_conditional_assignment([1, 2, 3, 4, 5]) == {0: 'odd', 1: 'even', 2: 'odd', 3: 'even', 4: 'odd'}\n",
    "assert index_based_conditional_assignment([0, 1, 2, 3]) == {0: 'even', 1: 'odd', 2: 'even', 3: 'odd'}\n",
    "assert index_based_conditional_assignment([]) == {}\n",
    "\n",
    "print(\"All tests passed!\")"
   ]
  },
  {
   "cell_type": "markdown",
   "metadata": {},
   "source": [
    "# Problem 14: Index and Value Pairing"
   ]
  },
  {
   "cell_type": "code",
   "execution_count": null,
   "metadata": {},
   "outputs": [],
   "source": [
    "def index_and_value_pairing(numbers):\n",
    "  \"\"\"\n",
    "  Creates a dictionary where each key is a tuple containing the index and the value, \n",
    "  and the value is the product of the index and the value.\n",
    "\n",
    "  Args:\n",
    "      numbers (list of int): The list of integers.\n",
    "\n",
    "  Returns:\n",
    "      dict: A dictionary with tuples as keys and products as values.\n",
    "  \"\"\"\n",
    "  pass\n",
    "\n",
    "\n",
    "# Test calls\n",
    "assert index_and_value_pairing([2, 4, 6, 8]) == {(0, 2): 0, (1, 4): 4, (2, 6): 12, (3, 8): 24}\n",
    "assert index_and_value_pairing([1, 3, 5]) == {(0, 1): 0, (1, 3): 3, (2, 5): 10}\n",
    "assert index_and_value_pairing([0, 1, 2]) == {(0, 0): 0, (1, 1): 1, (2, 2): 4}\n",
    "assert index_and_value_pairing([]) == {}\n",
    "\n",
    "print(\"All tests passed!\")"
   ]
  }
 ],
 "metadata": {
  "kernelspec": {
   "display_name": "Python 3",
   "language": "python",
   "name": "python3"
  },
  "language_info": {
   "codemirror_mode": {
    "name": "ipython",
    "version": 3
   },
   "file_extension": ".py",
   "mimetype": "text/x-python",
   "name": "python",
   "nbconvert_exporter": "python",
   "pygments_lexer": "ipython3",
   "version": "3.12.0"
  }
 },
 "nbformat": 4,
 "nbformat_minor": 2
}
