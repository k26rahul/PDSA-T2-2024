{
 "cells": [
  {
   "cell_type": "markdown",
   "metadata": {},
   "source": [
    "# printing all the names"
   ]
  },
  {
   "cell_type": "code",
   "execution_count": 221,
   "metadata": {},
   "outputs": [],
   "source": [
    "names = ['vidhatri', 'rahul', 'muskan', 'vaishnvi', 'harikesh']"
   ]
  },
  {
   "cell_type": "code",
   "execution_count": 222,
   "metadata": {},
   "outputs": [
    {
     "name": "stdout",
     "output_type": "stream",
     "text": [
      "vidhatri\n",
      "rahul\n",
      "muskan\n",
      "vaishnvi\n",
      "harikesh\n"
     ]
    }
   ],
   "source": [
    "# printing all the names (just print the values at indices 0-4)\n",
    "print(names[0])\n",
    "print(names[1])\n",
    "print(names[2])\n",
    "print(names[3])\n",
    "print(names[4])"
   ]
  },
  {
   "cell_type": "code",
   "execution_count": 223,
   "metadata": {},
   "outputs": [
    {
     "name": "stdout",
     "output_type": "stream",
     "text": [
      "0 vidhatri\n",
      "0 vidhatri\n",
      "0 vidhatri\n",
      "0 vidhatri\n",
      "0 vidhatri\n"
     ]
    }
   ],
   "source": [
    "# printing all the names (this wont work, why?)\n",
    "i = 0\n",
    "print(i, names[i])\n",
    "\n",
    "print(i, names[i])\n",
    "\n",
    "print(i, names[i])\n",
    "\n",
    "print(i, names[i])\n",
    "\n",
    "print(i, names[i])"
   ]
  },
  {
   "cell_type": "code",
   "execution_count": 224,
   "metadata": {},
   "outputs": [
    {
     "name": "stdout",
     "output_type": "stream",
     "text": [
      "0 vidhatri\n",
      "1 rahul\n",
      "2 muskan\n",
      "3 vaishnvi\n",
      "4 harikesh\n"
     ]
    }
   ],
   "source": [
    "# printing all the names (this works perfectly)\n",
    "i = 0\n",
    "print(i, names[i])\n",
    "\n",
    "i = 1\n",
    "print(i, names[i])\n",
    "\n",
    "i = 2\n",
    "print(i, names[i])\n",
    "\n",
    "i = 3\n",
    "print(i, names[i])\n",
    "\n",
    "i = 4\n",
    "print(i, names[i])"
   ]
  },
  {
   "cell_type": "code",
   "execution_count": 225,
   "metadata": {},
   "outputs": [
    {
     "name": "stdout",
     "output_type": "stream",
     "text": [
      "0\n",
      "vidhatri\n",
      "1\n",
      "rahul\n",
      "2\n",
      "muskan\n",
      "3\n",
      "vaishnvi\n",
      "4\n",
      "harikesh\n"
     ]
    }
   ],
   "source": [
    "# printing all the names (doing the same thing in a loop)\n",
    "for i in range(5):\n",
    "  print(i)  # index\n",
    "  print(names[i])  # value at index"
   ]
  },
  {
   "cell_type": "markdown",
   "metadata": {},
   "source": [
    "# range function"
   ]
  },
  {
   "cell_type": "code",
   "execution_count": 226,
   "metadata": {},
   "outputs": [
    {
     "data": {
      "text/plain": [
       "range(0, 5)"
      ]
     },
     "execution_count": 226,
     "metadata": {},
     "output_type": "execute_result"
    },
    {
     "data": {
      "text/plain": [
       "[0, 1, 2, 3, 4]"
      ]
     },
     "execution_count": 226,
     "metadata": {},
     "output_type": "execute_result"
    }
   ],
   "source": [
    "# range function is used to create an an integer range\n",
    "range(5)\n",
    "list(range(5))"
   ]
  },
  {
   "cell_type": "code",
   "execution_count": 227,
   "metadata": {},
   "outputs": [
    {
     "data": {
      "text/plain": [
       "range(0, 5)"
      ]
     },
     "execution_count": 227,
     "metadata": {},
     "output_type": "execute_result"
    },
    {
     "data": {
      "text/plain": [
       "range(0, 5)"
      ]
     },
     "execution_count": 227,
     "metadata": {},
     "output_type": "execute_result"
    }
   ],
   "source": [
    "# using range function to loop over indices of a list\n",
    "# do you know the exact length?\n",
    "\n",
    "range(5)  # length is hard coded\n",
    "range(len(names))  # length is calculated on the spot"
   ]
  },
  {
   "cell_type": "code",
   "execution_count": 228,
   "metadata": {},
   "outputs": [
    {
     "name": "stdout",
     "output_type": "stream",
     "text": [
      "0 vidhatri\n",
      "1 rahul\n",
      "2 muskan\n",
      "3 vaishnvi\n",
      "4 harikesh\n"
     ]
    }
   ],
   "source": [
    "# looping over indices\n",
    "# when you know the exact length of list (length is hard coded)\n",
    "\n",
    "for i in range(5):\n",
    "  print(i, names[i])"
   ]
  },
  {
   "cell_type": "code",
   "execution_count": 229,
   "metadata": {},
   "outputs": [
    {
     "name": "stdout",
     "output_type": "stream",
     "text": [
      "0 vidhatri\n",
      "1 rahul\n",
      "2 muskan\n",
      "3 vaishnvi\n",
      "4 harikesh\n"
     ]
    }
   ],
   "source": [
    "# looping over indices\n",
    "# you don't know the exact length of list (length is calculated on the spot)\n",
    "\n",
    "for i in range(len(names)):\n",
    "  print(i, names[i])"
   ]
  },
  {
   "cell_type": "markdown",
   "metadata": {},
   "source": [
    "# general syntax of `for`"
   ]
  },
  {
   "cell_type": "code",
   "execution_count": 230,
   "metadata": {},
   "outputs": [],
   "source": [
    "# general syntax of `for` loop on a list\n",
    "# for <i/name> in <range/names>"
   ]
  },
  {
   "cell_type": "code",
   "execution_count": 231,
   "metadata": {},
   "outputs": [
    {
     "name": "stdout",
     "output_type": "stream",
     "text": [
      "0 vidhatri\n",
      "1 rahul\n",
      "2 muskan\n",
      "3 vaishnvi\n",
      "4 harikesh\n"
     ]
    }
   ],
   "source": [
    "# looping over indices\n",
    "for i in range(len(names)):\n",
    "  print(i, names[i])"
   ]
  },
  {
   "cell_type": "code",
   "execution_count": 232,
   "metadata": {},
   "outputs": [
    {
     "name": "stdout",
     "output_type": "stream",
     "text": [
      "vidhatri\n",
      "rahul\n",
      "muskan\n",
      "vaishnvi\n",
      "harikesh\n"
     ]
    }
   ],
   "source": [
    "# looping over values\n",
    "for name in names:\n",
    "  print(name)"
   ]
  },
  {
   "cell_type": "markdown",
   "metadata": {},
   "source": [
    "## demo: name, marks\n",
    "\n",
    "looping over indices/values, when to do what?"
   ]
  },
  {
   "cell_type": "code",
   "execution_count": 233,
   "metadata": {},
   "outputs": [],
   "source": [
    "names = ['vidhatri', 'rahul', 'muskan', 'vaishnvi', 'harikesh']\n",
    "marks = [100, 90, 95, 70, 80]"
   ]
  },
  {
   "cell_type": "code",
   "execution_count": 234,
   "metadata": {},
   "outputs": [
    {
     "name": "stdout",
     "output_type": "stream",
     "text": [
      "0 vidhatri 100\n",
      "1 rahul 90\n",
      "2 muskan 95\n",
      "3 vaishnvi 70\n",
      "4 harikesh 80\n"
     ]
    }
   ],
   "source": [
    "# looping over indices\n",
    "for i in range(len(names)):\n",
    "  print(i, names[i], marks[i])  # using the index you can get the name and marks both"
   ]
  },
  {
   "cell_type": "code",
   "execution_count": 235,
   "metadata": {},
   "outputs": [
    {
     "name": "stdout",
     "output_type": "stream",
     "text": [
      "vidhatri\n",
      "rahul\n",
      "muskan\n",
      "vaishnvi\n",
      "harikesh\n"
     ]
    }
   ],
   "source": [
    "# looping over values\n",
    "for name in names:\n",
    "  print(name)  # there is no way to get the marks of a `name`"
   ]
  },
  {
   "cell_type": "markdown",
   "metadata": {},
   "source": [
    "## demo: numbers\n",
    "\n",
    "looping over indices/values\n",
    "\n",
    "i/x semantics"
   ]
  },
  {
   "cell_type": "code",
   "execution_count": 236,
   "metadata": {},
   "outputs": [
    {
     "name": "stdout",
     "output_type": "stream",
     "text": [
      "0 17\n",
      "1 18\n",
      "2 19\n",
      "3 20\n",
      "4 21\n"
     ]
    }
   ],
   "source": [
    "# using i loop (i: indices)\n",
    "numbers = [17, 18, 19, 20, 21]\n",
    "for i in range(len(numbers)):\n",
    "  print(i, numbers[i])"
   ]
  },
  {
   "cell_type": "code",
   "execution_count": 237,
   "metadata": {},
   "outputs": [
    {
     "name": "stdout",
     "output_type": "stream",
     "text": [
      "17\n",
      "18\n",
      "19\n",
      "20\n",
      "21\n"
     ]
    }
   ],
   "source": [
    "# using x loop (x: values)\n",
    "numbers = [17, 18, 19, 20, 21]\n",
    "for x in numbers:\n",
    "  print(x)"
   ]
  },
  {
   "cell_type": "code",
   "execution_count": 238,
   "metadata": {},
   "outputs": [],
   "source": [
    "# looping i (indices) vs x (values) is only semantic\n",
    "numbers = [17, 18, 19, 20, 21]\n",
    "indices = [2, 3, 4]  # list of indices for which i want to print values"
   ]
  },
  {
   "cell_type": "code",
   "execution_count": 239,
   "metadata": {},
   "outputs": [
    {
     "data": {
      "text/plain": [
       "[2, 3, 4]"
      ]
     },
     "execution_count": 239,
     "metadata": {},
     "output_type": "execute_result"
    },
    {
     "data": {
      "text/plain": [
       "range(2, 5)"
      ]
     },
     "execution_count": 239,
     "metadata": {},
     "output_type": "execute_result"
    }
   ],
   "source": [
    "indices\n",
    "range(2, len(numbers))"
   ]
  },
  {
   "cell_type": "code",
   "execution_count": 240,
   "metadata": {},
   "outputs": [
    {
     "name": "stdout",
     "output_type": "stream",
     "text": [
      "2 19\n",
      "3 20\n",
      "4 21\n"
     ]
    }
   ],
   "source": [
    "# using x loop (x: values in `indices`)\n",
    "for x in indices:\n",
    "  print(x, numbers[x])"
   ]
  },
  {
   "cell_type": "code",
   "execution_count": 241,
   "metadata": {},
   "outputs": [
    {
     "name": "stdout",
     "output_type": "stream",
     "text": [
      "2 19\n",
      "3 20\n",
      "4 21\n"
     ]
    }
   ],
   "source": [
    "# using i loop (i: values in `range`)\n",
    "for i in range(2, len(numbers)):  # how is it different from above cell? `x` vs `i`, why?\n",
    "  print(i, numbers[i])"
   ]
  },
  {
   "cell_type": "markdown",
   "metadata": {},
   "source": [
    "## demo: exam_result\n",
    "\n",
    "list comprehension\n",
    "\n",
    "dict comprehension"
   ]
  },
  {
   "cell_type": "code",
   "execution_count": 242,
   "metadata": {},
   "outputs": [],
   "source": [
    "# list comprehension syntax\n",
    "# my_list = [value for value in <>]\n",
    "\n",
    "# dict comprehension syntax\n",
    "# my_dict = [key: ? for key in <>]"
   ]
  },
  {
   "cell_type": "code",
   "execution_count": 243,
   "metadata": {},
   "outputs": [
    {
     "name": "stdout",
     "output_type": "stream",
     "text": [
      "[('vidhatri', 100), ('rahul', 90), ('muskan', 95), ('vaishnvi', 70), ('harikesh', 80)]\n"
     ]
    }
   ],
   "source": [
    "# make `exam_result`: a list of (name, marks)\n",
    "# loop & append\n",
    "\n",
    "exam_result = []\n",
    "for i in range(len(names)):\n",
    "  exam_result.append((names[i], marks[i]))\n",
    "\n",
    "print(exam_result)"
   ]
  },
  {
   "cell_type": "code",
   "execution_count": 244,
   "metadata": {},
   "outputs": [
    {
     "name": "stdout",
     "output_type": "stream",
     "text": [
      "[('vidhatri', 100), ('rahul', 90), ('muskan', 95), ('vaishnvi', 70), ('harikesh', 80)]\n"
     ]
    }
   ],
   "source": [
    "# make `exam_result`: a list of (name, marks)\n",
    "# list comprehension\n",
    "\n",
    "exam_result = [(names[i], marks[i]) for i in range(len(names))]\n",
    "\n",
    "print(exam_result)"
   ]
  },
  {
   "cell_type": "code",
   "execution_count": 245,
   "metadata": {},
   "outputs": [
    {
     "name": "stdout",
     "output_type": "stream",
     "text": [
      "{'vidhatri': 100, 'rahul': 90, 'muskan': 95, 'vaishnvi': 70, 'harikesh': 80}\n"
     ]
    }
   ],
   "source": [
    "# make `exam_result`: a dict of (name : marks)\n",
    "# loop & set key-value pairs\n",
    "\n",
    "exam_result = {}\n",
    "for i in range(len(names)):\n",
    "  key = names[i]\n",
    "  value = marks[i]\n",
    "  exam_result[key] = value\n",
    "\n",
    "print(exam_result)"
   ]
  },
  {
   "cell_type": "code",
   "execution_count": 246,
   "metadata": {},
   "outputs": [
    {
     "name": "stdout",
     "output_type": "stream",
     "text": [
      "{'vidhatri': 100, 'rahul': 90, 'muskan': 95, 'vaishnvi': 70, 'harikesh': 80}\n"
     ]
    }
   ],
   "source": [
    "# make `exam_result`: a dict of (name : marks)\n",
    "# dict comprehension\n",
    "\n",
    "exam_result = {names[i]: marks[i] for i in range(len(names))}\n",
    "\n",
    "print(exam_result)"
   ]
  },
  {
   "cell_type": "markdown",
   "metadata": {},
   "source": [
    "# adjacency_list"
   ]
  },
  {
   "cell_type": "code",
   "execution_count": 5,
   "metadata": {},
   "outputs": [],
   "source": [
    "# vertex: neighbors of vertex\n",
    "# u: [v1, v2, ...]\n",
    "# u -> v1\n",
    "# u -> v2\n",
    "# ...\n",
    "adjacency_list = {0: [1, 2], 1: [3, 4], 2: [4, 3], 3: [4], 4: []}"
   ]
  },
  {
   "cell_type": "code",
   "execution_count": 9,
   "metadata": {},
   "outputs": [
    {
     "name": "stdout",
     "output_type": "stream",
     "text": [
      "0\n",
      "[1, 2]\n",
      "1\n",
      "[3, 4]\n",
      "2\n",
      "[4, 3]\n",
      "3\n",
      "[4]\n",
      "4\n",
      "[]\n"
     ]
    }
   ],
   "source": [
    "# for key in dict\n",
    "for vertex in adjacency_list:\n",
    "  print(vertex)  # vertex (key)\n",
    "  print(adjacency_list[vertex])  # neighbors of vertex (value)"
   ]
  },
  {
   "cell_type": "markdown",
   "metadata": {},
   "source": [
    "# visited dict\n",
    "\n",
    "to track visited vertices in bfs/dfs"
   ]
  },
  {
   "cell_type": "code",
   "execution_count": 12,
   "metadata": {},
   "outputs": [],
   "source": [
    "# vertex: False for all the vertices\n",
    "\n",
    "# visited = {\n",
    "#   0: False,\n",
    "#   1: False,\n",
    "#   ...\n",
    "# }"
   ]
  },
  {
   "cell_type": "code",
   "execution_count": 26,
   "metadata": {},
   "outputs": [
    {
     "name": "stdout",
     "output_type": "stream",
     "text": [
      "{0: False, 1: False, 2: False, 3: False, 4: False}\n"
     ]
    }
   ],
   "source": [
    "# loop method\n",
    "visited = {}\n",
    "\n",
    "# syntax: for key in dict\n",
    "for vertex in adjacency_list:\n",
    "  visited[vertex] = False\n",
    "\n",
    "print(visited)"
   ]
  },
  {
   "cell_type": "code",
   "execution_count": 27,
   "metadata": {},
   "outputs": [
    {
     "name": "stdout",
     "output_type": "stream",
     "text": [
      "{0: False, 1: False, 2: False, 3: False, 4: False}\n"
     ]
    }
   ],
   "source": [
    "# dict comprehension method\n",
    "visited = {vertex: False for vertex in adjacency_list}\n",
    "\n",
    "print(visited)"
   ]
  },
  {
   "cell_type": "code",
   "execution_count": 24,
   "metadata": {},
   "outputs": [
    {
     "name": "stdout",
     "output_type": "stream",
     "text": [
      "{0: False, 1: False, 2: False, 3: False, 4: False}\n"
     ]
    }
   ],
   "source": [
    "# initializing `visited`, `parent`, `level` for bfs/dfs\n",
    "# loop method\n",
    "\n",
    "visited, parent, level = {}, {}, {}\n",
    "\n",
    "for vertex in adjacency_list:\n",
    "  visited[vertex] = False\n",
    "  parent[vertex] = -1\n",
    "  level[vertex] = 0\n",
    "\n",
    "print(visited)"
   ]
  },
  {
   "cell_type": "code",
   "execution_count": 25,
   "metadata": {},
   "outputs": [],
   "source": [
    "# initializing `visited`, `parent`, `level` for bfs/dfs\n",
    "# dict comprehension method\n",
    "\n",
    "visited = {vertex: False for vertex in adjacency_list}\n",
    "parent = {vertex: -1 for vertex in adjacency_list}\n",
    "level = {vertex: 0 for vertex in adjacency_list}"
   ]
  },
  {
   "cell_type": "markdown",
   "metadata": {},
   "source": [
    "# Queue & Stack"
   ]
  }
 ],
 "metadata": {
  "kernelspec": {
   "display_name": "Python 3",
   "language": "python",
   "name": "python3"
  },
  "language_info": {
   "codemirror_mode": {
    "name": "ipython",
    "version": 3
   },
   "file_extension": ".py",
   "mimetype": "text/x-python",
   "name": "python",
   "nbconvert_exporter": "python",
   "pygments_lexer": "ipython3",
   "version": "3.12.0"
  }
 },
 "nbformat": 4,
 "nbformat_minor": 2
}
