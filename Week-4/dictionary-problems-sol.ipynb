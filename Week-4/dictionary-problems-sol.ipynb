{
 "cells": [
  {
   "cell_type": "markdown",
   "metadata": {},
   "source": [
    "# Problem 1: Square the Values"
   ]
  },
  {
   "cell_type": "code",
   "execution_count": 25,
   "metadata": {},
   "outputs": [
    {
     "name": "stdout",
     "output_type": "stream",
     "text": [
      "All tests passed!\n"
     ]
    }
   ],
   "source": [
    "def square_values(numbers):\n",
    "  result = {}\n",
    "  for number in numbers:\n",
    "    result[number] = number ** 2\n",
    "  return result\n",
    "\n",
    "\n",
    "# Test calls\n",
    "assert square_values([1, 2, 3, 4, 5]) == {1: 1, 2: 4, 3: 9, 4: 16, 5: 25}\n",
    "assert square_values([0, -1, -2]) == {0: 0, -1: 1, -2: 4}\n",
    "assert square_values([10, 20]) == {10: 100, 20: 400}\n",
    "assert square_values([]) == {}\n",
    "\n",
    "print(\"All tests passed!\")"
   ]
  },
  {
   "cell_type": "markdown",
   "metadata": {},
   "source": [
    "# Problem 2: Length of Strings"
   ]
  },
  {
   "cell_type": "code",
   "execution_count": 26,
   "metadata": {},
   "outputs": [
    {
     "name": "stdout",
     "output_type": "stream",
     "text": [
      "All tests passed!\n"
     ]
    }
   ],
   "source": [
    "def length_of_strings(words):\n",
    "  result = {}\n",
    "  for word in words:\n",
    "    result[word] = len(word)\n",
    "  return result\n",
    "\n",
    "\n",
    "# Test calls\n",
    "assert length_of_strings([\"apple\", \"banana\", \"cherry\"]) == {'apple': 5, 'banana': 6, 'cherry': 6}\n",
    "assert length_of_strings([\"a\", \"ab\", \"abc\"]) == {'a': 1, 'ab': 2, 'abc': 3}\n",
    "assert length_of_strings([\"\"]) == {\"\": 0}\n",
    "assert length_of_strings([]) == {}\n",
    "\n",
    "print(\"All tests passed!\")"
   ]
  },
  {
   "cell_type": "markdown",
   "metadata": {},
   "source": [
    "# Problem 3: Filter and Transform"
   ]
  },
  {
   "cell_type": "code",
   "execution_count": 27,
   "metadata": {},
   "outputs": [
    {
     "name": "stdout",
     "output_type": "stream",
     "text": [
      "All tests passed!\n"
     ]
    }
   ],
   "source": [
    "def filter_and_transform(numbers):\n",
    "  result = {}\n",
    "  for number in numbers:\n",
    "    if number % 2 == 0:\n",
    "      result[number] = number ** 3\n",
    "  return result\n",
    "\n",
    "\n",
    "# Test calls\n",
    "assert filter_and_transform([1, 2, 3, 4, 5, 6]) == {2: 8, 4: 64, 6: 216}\n",
    "assert filter_and_transform([7, 8, 9, 10]) == {8: 512, 10: 1000}\n",
    "assert filter_and_transform([1, 3, 5]) == {}\n",
    "assert filter_and_transform([]) == {}\n",
    "\n",
    "print(\"All tests passed!\")"
   ]
  },
  {
   "cell_type": "markdown",
   "metadata": {},
   "source": [
    "# Problem 4: Swap Keys and Values"
   ]
  },
  {
   "cell_type": "code",
   "execution_count": 28,
   "metadata": {},
   "outputs": [
    {
     "name": "stdout",
     "output_type": "stream",
     "text": [
      "All tests passed!\n"
     ]
    }
   ],
   "source": [
    "def swap_keys_and_values(original_dict):\n",
    "  result = {}\n",
    "  for key, value in original_dict.items():\n",
    "    result[value] = key\n",
    "  return result\n",
    "\n",
    "\n",
    "# Test calls\n",
    "assert swap_keys_and_values({'a': 1, 'b': 2, 'c': 3}) == {1: 'a', 2: 'b', 3: 'c'}\n",
    "assert swap_keys_and_values({1: 'x', 2: 'y'}) == {'x': 1, 'y': 2}\n",
    "assert swap_keys_and_values({'key': 'value'}) == {'value': 'key'}\n",
    "assert swap_keys_and_values({}) == {}\n",
    "\n",
    "print(\"All tests passed!\")"
   ]
  },
  {
   "cell_type": "markdown",
   "metadata": {},
   "source": [
    "# Problem 5: Character Frequency"
   ]
  },
  {
   "cell_type": "code",
   "execution_count": 29,
   "metadata": {},
   "outputs": [
    {
     "name": "stdout",
     "output_type": "stream",
     "text": [
      "All tests passed!\n"
     ]
    }
   ],
   "source": [
    "def character_frequency(text):\n",
    "  result = {}\n",
    "  for char in text:\n",
    "    if char in result:\n",
    "      result[char] += 1\n",
    "    else:\n",
    "      result[char] = 1\n",
    "  return result\n",
    "\n",
    "\n",
    "# Test calls\n",
    "assert character_frequency(\"hello\") == {'h': 1, 'e': 1, 'l': 2, 'o': 1}\n",
    "assert character_frequency(\"aa bb cc\") == {'a': 2, 'b': 2, 'c': 2, ' ': 2}\n",
    "assert character_frequency(\"abcd abcd\") == {'a': 2, 'b': 2, 'c': 2, 'd': 2, ' ': 1}\n",
    "assert character_frequency(\"\") == {}\n",
    "\n",
    "print(\"All tests passed!\")"
   ]
  },
  {
   "cell_type": "markdown",
   "metadata": {},
   "source": [
    "# Problem 6: Nested Dictionary from Two Lists"
   ]
  },
  {
   "cell_type": "code",
   "execution_count": 30,
   "metadata": {},
   "outputs": [
    {
     "name": "stdout",
     "output_type": "stream",
     "text": [
      "All tests passed!\n"
     ]
    }
   ],
   "source": [
    "def nested_dict_from_lists(keys, values):\n",
    "  result = {}\n",
    "  for i in range(len(keys)):\n",
    "    key = keys[i]\n",
    "    value = values[i]\n",
    "    result[key] = {'value': value, 'type': type(value)}\n",
    "  return result\n",
    "\n",
    "\n",
    "# Test calls\n",
    "assert nested_dict_from_lists(['one', 'two', 'three'], [1, 2.0, 'three']) == {\n",
    "    'one': {'value': 1, 'type': int},\n",
    "    'two': {'value': 2.0, 'type': float},\n",
    "    'three': {'value': 'three', 'type': str}\n",
    "}\n",
    "\n",
    "assert nested_dict_from_lists(['a', 'b'], [True, None]) == {\n",
    "    'a': {'value': True, 'type': bool},\n",
    "    'b': {'value': None, 'type': type(None)}\n",
    "}\n",
    "\n",
    "assert nested_dict_from_lists(['name', 'age'], ['vidhatri', 20]) == {\n",
    "    'name': {'value': 'vidhatri', 'type': str},\n",
    "    'age': {'value': 20, 'type': int}\n",
    "}\n",
    "\n",
    "assert nested_dict_from_lists([], []) == {}\n",
    "\n",
    "print(\"All tests passed!\")"
   ]
  },
  {
   "cell_type": "code",
   "execution_count": 31,
   "metadata": {},
   "outputs": [
    {
     "name": "stdout",
     "output_type": "stream",
     "text": [
      "All tests passed!\n"
     ]
    }
   ],
   "source": [
    "def nested_dict_from_lists(keys, values):\n",
    "  result = {}\n",
    "  for key, value in zip(keys, values):\n",
    "    result[key] = {'value': value, 'type': type(value)}\n",
    "  return result\n",
    "\n",
    "\n",
    "# Test calls\n",
    "assert nested_dict_from_lists(['one', 'two', 'three'], [1, 2.0, 'three']) == {\n",
    "    'one': {'value': 1, 'type': int},\n",
    "    'two': {'value': 2.0, 'type': float},\n",
    "    'three': {'value': 'three', 'type': str}\n",
    "}\n",
    "\n",
    "assert nested_dict_from_lists(['a', 'b'], [True, None]) == {\n",
    "    'a': {'value': True, 'type': bool},\n",
    "    'b': {'value': None, 'type': type(None)}\n",
    "}\n",
    "\n",
    "assert nested_dict_from_lists(['name', 'age'], ['vidhatri', 20]) == {\n",
    "    'name': {'value': 'vidhatri', 'type': str},\n",
    "    'age': {'value': 20, 'type': int}\n",
    "}\n",
    "\n",
    "assert nested_dict_from_lists([], []) == {}\n",
    "\n",
    "print(\"All tests passed!\")"
   ]
  },
  {
   "cell_type": "markdown",
   "metadata": {},
   "source": [
    "# Problem 7: Grouping by Length"
   ]
  },
  {
   "cell_type": "code",
   "execution_count": 32,
   "metadata": {},
   "outputs": [
    {
     "name": "stdout",
     "output_type": "stream",
     "text": [
      "All tests passed!\n"
     ]
    }
   ],
   "source": [
    "def group_by_length(words):\n",
    "  result = {}\n",
    "  for word in words:\n",
    "    length = len(word)\n",
    "    if length in result:\n",
    "      result[length].append(word)\n",
    "    else:\n",
    "      result[length] = [word]\n",
    "  return result\n",
    "\n",
    "\n",
    "# Test calls\n",
    "assert group_by_length([\"a\", 'b', 'c', \"at\", \"bat\", 'cat', \"cats\", \"hello\", \"world\", 'vidhatri', 'vaishnvi']) == {\n",
    "    1: ['a', 'b', 'c'], 2: ['at'],\n",
    "    3: ['bat', 'cat'], 4: ['cats'],\n",
    "    5: ['hello', 'world'],\n",
    "    8: ['vidhatri', 'vaishnvi']\n",
    "}\n",
    "\n",
    "assert group_by_length([\"one\", \"two\", \"three\"]) == {3: ['one', 'two'], 5: ['three']}\n",
    "assert group_by_length([\"\"]) == {0: [\"\"]}\n",
    "assert group_by_length([]) == {}\n",
    "\n",
    "print(\"All tests passed!\")"
   ]
  },
  {
   "cell_type": "markdown",
   "metadata": {},
   "source": [
    "# Problem 8: Frequency of Initials"
   ]
  },
  {
   "cell_type": "code",
   "execution_count": 33,
   "metadata": {},
   "outputs": [
    {
     "name": "stdout",
     "output_type": "stream",
     "text": [
      "All tests passed!\n"
     ]
    }
   ],
   "source": [
    "def frequency_of_initials(names):\n",
    "  result = {}\n",
    "  for name in names:\n",
    "    initial = name[0]\n",
    "    if initial in result:\n",
    "      result[initial] += 1\n",
    "    else:\n",
    "      result[initial] = 1\n",
    "  return result\n",
    "\n",
    "\n",
    "# Test calls\n",
    "assert frequency_of_initials([\"Alice\", \"Bob\", \"Charlie\", 'Anna', 'Vidhatri', 'Vaishnvi']) == {\n",
    "    'A': 2, 'B': 1, 'C': 1, 'V': 2\n",
    "}\n",
    "assert frequency_of_initials([\"Anna\", \"Alice\", \"Ben\"]) == {'A': 2, 'B': 1}\n",
    "assert frequency_of_initials([\"Zoe\"]) == {'Z': 1}\n",
    "assert frequency_of_initials([]) == {}\n",
    "\n",
    "print(\"All tests passed!\")"
   ]
  },
  {
   "cell_type": "markdown",
   "metadata": {},
   "source": [
    "# Problem 9: Conditional Transformation"
   ]
  },
  {
   "cell_type": "code",
   "execution_count": 34,
   "metadata": {},
   "outputs": [
    {
     "name": "stdout",
     "output_type": "stream",
     "text": [
      "All tests passed!\n"
     ]
    }
   ],
   "source": [
    "def conditional_transformation(original_dict):\n",
    "  result = {}\n",
    "  for key in original_dict:\n",
    "    value = original_dict[key]\n",
    "    if value % 2 == 0:\n",
    "      result[key] = value ** 2\n",
    "    else:\n",
    "      result[key] = value\n",
    "  return result\n",
    "\n",
    "\n",
    "# Test calls\n",
    "assert conditional_transformation({'a': 1, 'b': 2, 'c': 3, 'd': 4}) == {'a': 1, 'b': 4, 'c': 3, 'd': 16}\n",
    "assert conditional_transformation({'x': 5, 'y': 6, 'z': 7}) == {'x': 5, 'y': 36, 'z': 7}\n",
    "assert conditional_transformation({'vidhatri': 0}) == {'vidhatri': 0}\n",
    "assert conditional_transformation({}) == {}\n",
    "\n",
    "print(\"All tests passed!\")"
   ]
  },
  {
   "cell_type": "code",
   "execution_count": 35,
   "metadata": {},
   "outputs": [
    {
     "name": "stdout",
     "output_type": "stream",
     "text": [
      "All tests passed!\n"
     ]
    }
   ],
   "source": [
    "def conditional_transformation(original_dict):\n",
    "  result = {}\n",
    "  for key, value in original_dict.items():\n",
    "    if value % 2 == 0:\n",
    "      result[key] = value ** 2\n",
    "    else:\n",
    "      result[key] = value\n",
    "  return result\n",
    "\n",
    "\n",
    "# Test calls\n",
    "assert conditional_transformation({'a': 1, 'b': 2, 'c': 3, 'd': 4}) == {'a': 1, 'b': 4, 'c': 3, 'd': 16}\n",
    "assert conditional_transformation({'x': 5, 'y': 6, 'z': 7}) == {'x': 5, 'y': 36, 'z': 7}\n",
    "assert conditional_transformation({'vidhatri': 0}) == {'vidhatri': 0}\n",
    "assert conditional_transformation({}) == {}\n",
    "\n",
    "print(\"All tests passed!\")"
   ]
  },
  {
   "cell_type": "markdown",
   "metadata": {},
   "source": [
    "# Problem 10: Sum of List Indices"
   ]
  },
  {
   "cell_type": "code",
   "execution_count": 36,
   "metadata": {},
   "outputs": [
    {
     "name": "stdout",
     "output_type": "stream",
     "text": [
      "All tests passed!\n"
     ]
    }
   ],
   "source": [
    "def sum_of_list_indices(lists):\n",
    "  result = {}\n",
    "  index = 0\n",
    "  for inner_list in lists:\n",
    "    result[index] = sum(inner_list)\n",
    "    index += 1\n",
    "  return result\n",
    "\n",
    "\n",
    "# Test calls\n",
    "assert sum_of_list_indices([[1, 2, 3], [4, 5], [6, 7, 8, 9]]) == {0: 6, 1: 9, 2: 30}\n",
    "assert sum_of_list_indices([[], [1], [1, 2, 3]]) == {0: 0, 1: 1, 2: 6}\n",
    "assert sum_of_list_indices([[-1, -2, -3], [0], [1, 1, 1]]) == {0: -6, 1: 0, 2: 3}\n",
    "assert sum_of_list_indices([]) == {}\n",
    "\n",
    "print(\"All tests passed!\")"
   ]
  },
  {
   "cell_type": "code",
   "execution_count": 37,
   "metadata": {},
   "outputs": [
    {
     "name": "stdout",
     "output_type": "stream",
     "text": [
      "All tests passed!\n"
     ]
    }
   ],
   "source": [
    "def sum_of_list_indices(lists):\n",
    "  result = {}\n",
    "  for i in range(len(lists)):\n",
    "    result[i] = sum(lists[i])\n",
    "  return result\n",
    "\n",
    "\n",
    "# Test calls\n",
    "assert sum_of_list_indices([[1, 2, 3], [4, 5], [6, 7, 8, 9]]) == {0: 6, 1: 9, 2: 30}\n",
    "assert sum_of_list_indices([[], [1], [1, 2, 3]]) == {0: 0, 1: 1, 2: 6}\n",
    "assert sum_of_list_indices([[-1, -2, -3], [0], [1, 1, 1]]) == {0: -6, 1: 0, 2: 3}\n",
    "assert sum_of_list_indices([]) == {}\n",
    "\n",
    "print(\"All tests passed!\")"
   ]
  },
  {
   "cell_type": "markdown",
   "metadata": {},
   "source": [
    "# Problem 11: Character Position Mapping"
   ]
  },
  {
   "cell_type": "code",
   "execution_count": 38,
   "metadata": {},
   "outputs": [
    {
     "name": "stdout",
     "output_type": "stream",
     "text": [
      "All tests passed!\n"
     ]
    }
   ],
   "source": [
    "def character_position_mapping(text):\n",
    "  result = {}\n",
    "  for i in range(len(text)):\n",
    "    char = text[i]\n",
    "    if char in result:\n",
    "      result[char].append(i)\n",
    "    else:\n",
    "      result[char] = [i]\n",
    "  return result\n",
    "\n",
    "\n",
    "# Test calls\n",
    "assert character_position_mapping(\"abracadabra\") == {\n",
    "    'a': [0, 3, 5, 7, 10],\n",
    "    'b': [1, 8],\n",
    "    'r': [2, 9],\n",
    "    'c': [4],\n",
    "    'd': [6]\n",
    "}\n",
    "\n",
    "assert character_position_mapping(\"hello\") == {\n",
    "    'h': [0],\n",
    "    'e': [1],\n",
    "    'l': [2, 3],\n",
    "    'o': [4]\n",
    "}\n",
    "\n",
    "assert character_position_mapping(\"aaa\") == {'a': [0, 1, 2]}\n",
    "assert character_position_mapping(\"\") == {}\n",
    "\n",
    "print(\"All tests passed!\")"
   ]
  },
  {
   "cell_type": "code",
   "execution_count": 39,
   "metadata": {},
   "outputs": [
    {
     "name": "stdout",
     "output_type": "stream",
     "text": [
      "All tests passed!\n"
     ]
    }
   ],
   "source": [
    "def character_position_mapping(text):\n",
    "  result = {}\n",
    "  for index, char in enumerate(text):\n",
    "    if char in result:\n",
    "      result[char].append(index)\n",
    "    else:\n",
    "      result[char] = [index]\n",
    "  return result\n",
    "\n",
    "\n",
    "# Test calls\n",
    "assert character_position_mapping(\"abracadabra\") == {\n",
    "    'a': [0, 3, 5, 7, 10],\n",
    "    'b': [1, 8],\n",
    "    'r': [2, 9],\n",
    "    'c': [4],\n",
    "    'd': [6]\n",
    "}\n",
    "\n",
    "assert character_position_mapping(\"hello\") == {\n",
    "    'h': [0],\n",
    "    'e': [1],\n",
    "    'l': [2, 3],\n",
    "    'o': [4]\n",
    "}\n",
    "\n",
    "assert character_position_mapping(\"aaa\") == {'a': [0, 1, 2]}\n",
    "assert character_position_mapping(\"\") == {}\n",
    "\n",
    "print(\"All tests passed!\")"
   ]
  },
  {
   "cell_type": "markdown",
   "metadata": {},
   "source": [
    "# Problem 12: Indexed String Transformation"
   ]
  },
  {
   "cell_type": "code",
   "execution_count": 40,
   "metadata": {},
   "outputs": [
    {
     "name": "stdout",
     "output_type": "stream",
     "text": [
      "All tests passed!\n"
     ]
    }
   ],
   "source": [
    "def indexed_string_transformation(words):\n",
    "  result = {}\n",
    "  for i in range(len(words)):\n",
    "    word = words[i]\n",
    "    transformed_word = word[::-1].upper()\n",
    "    result[i] = transformed_word\n",
    "  return result\n",
    "\n",
    "\n",
    "# Test calls\n",
    "assert indexed_string_transformation([\"apple\", \"banana\", \"cherry\"]) == {0: 'ELPPA', 1: 'ANANAB', 2: 'YRREHC'}\n",
    "assert indexed_string_transformation([\"hello\", \"world\"]) == {0: 'OLLEH', 1: 'DLROW'}\n",
    "assert indexed_string_transformation([\"a\", \"bb\", \"ccc\"]) == {0: 'A', 1: 'BB', 2: 'CCC'}\n",
    "assert indexed_string_transformation([]) == {}\n",
    "\n",
    "print(\"All tests passed!\")"
   ]
  },
  {
   "cell_type": "markdown",
   "metadata": {},
   "source": [
    "# Problem 13: Index-Based Conditional Assignment"
   ]
  },
  {
   "cell_type": "code",
   "execution_count": 41,
   "metadata": {},
   "outputs": [
    {
     "name": "stdout",
     "output_type": "stream",
     "text": [
      "All tests passed!\n"
     ]
    }
   ],
   "source": [
    "def index_based_conditional_assignment(numbers):\n",
    "  result = {}\n",
    "  for i in range(len(numbers)):\n",
    "    if numbers[i] % 2 == 0:\n",
    "      result[i] = 'even'\n",
    "    else:\n",
    "      result[i] = 'odd'\n",
    "  return result\n",
    "\n",
    "\n",
    "# Test calls\n",
    "assert index_based_conditional_assignment([10, 21, 32, 43, 54]) == {0: 'even', 1: 'odd', 2: 'even', 3: 'odd', 4: 'even'}\n",
    "assert index_based_conditional_assignment([1, 2, 3, 4, 5]) == {0: 'odd', 1: 'even', 2: 'odd', 3: 'even', 4: 'odd'}\n",
    "assert index_based_conditional_assignment([0, 1, 2, 3]) == {0: 'even', 1: 'odd', 2: 'even', 3: 'odd'}\n",
    "assert index_based_conditional_assignment([]) == {}\n",
    "\n",
    "print(\"All tests passed!\")"
   ]
  },
  {
   "cell_type": "markdown",
   "metadata": {},
   "source": [
    "# Problem 14: Index and Value Pairing"
   ]
  },
  {
   "cell_type": "code",
   "execution_count": 42,
   "metadata": {},
   "outputs": [
    {
     "name": "stdout",
     "output_type": "stream",
     "text": [
      "All tests passed!\n"
     ]
    }
   ],
   "source": [
    "def index_and_value_pairing(numbers):\n",
    "  result = {}\n",
    "  for i in range(len(numbers)):\n",
    "    key = (i, numbers[i])\n",
    "    value = i * numbers[i]\n",
    "    result[key] = value\n",
    "  return result\n",
    "\n",
    "\n",
    "# Test calls\n",
    "assert index_and_value_pairing([2, 4, 6, 8]) == {(0, 2): 0, (1, 4): 4, (2, 6): 12, (3, 8): 24}\n",
    "assert index_and_value_pairing([1, 3, 5]) == {(0, 1): 0, (1, 3): 3, (2, 5): 10}\n",
    "assert index_and_value_pairing([0, 1, 2]) == {(0, 0): 0, (1, 1): 1, (2, 2): 4}\n",
    "assert index_and_value_pairing([]) == {}\n",
    "\n",
    "print(\"All tests passed!\")"
   ]
  }
 ],
 "metadata": {
  "kernelspec": {
   "display_name": "Python 3",
   "language": "python",
   "name": "python3"
  },
  "language_info": {
   "codemirror_mode": {
    "name": "ipython",
    "version": 3
   },
   "file_extension": ".py",
   "mimetype": "text/x-python",
   "name": "python",
   "nbconvert_exporter": "python",
   "pygments_lexer": "ipython3",
   "version": "3.12.0"
  }
 },
 "nbformat": 4,
 "nbformat_minor": 2
}
