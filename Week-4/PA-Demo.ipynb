{
 "cells": [
  {
   "cell_type": "code",
   "execution_count": 28,
   "metadata": {},
   "outputs": [
    {
     "name": "stdout",
     "output_type": "stream",
     "text": [
      "0\n",
      "1\n",
      "2\n",
      "3\n",
      "4\n",
      "0 1\n",
      "0 2\n",
      "1 3\n",
      "1 4\n",
      "2 3\n",
      "2 4\n",
      "3 4\n"
     ]
    }
   ],
   "source": [
    "def print_adj_list(adjacency_list):\n",
    "  edges = []\n",
    "  for node, neighbors in adjacency_list.items():\n",
    "    for neighbor in neighbors:\n",
    "      edges.append((node, neighbor))\n",
    "\n",
    "  # Print nodes\n",
    "  for node in sorted(adjacency_list):\n",
    "    print(node)\n",
    "\n",
    "  # Print edges\n",
    "  for edge in sorted(edges):\n",
    "    print(f\"{edge[0]} {edge[1]}\")\n",
    "\n",
    "\n",
    "adjacency_list = {0: [1, 2], 1: [3, 4], 2: [4, 3], 3: [4], 4: []}\n",
    "print_adj_list(adjacency_list)"
   ]
  },
  {
   "cell_type": "code",
   "execution_count": 29,
   "metadata": {},
   "outputs": [
    {
     "name": "stdout",
     "output_type": "stream",
     "text": [
      "10\n",
      "20\n",
      "30\n"
     ]
    },
    {
     "data": {
      "text/plain": [
       "[40]"
      ]
     },
     "execution_count": 29,
     "metadata": {},
     "output_type": "execute_result"
    }
   ],
   "source": [
    "class Queue:\n",
    "  def __init__(self):\n",
    "    self.data = []\n",
    "\n",
    "  def is_empty(self):\n",
    "    return len(self.data) == 0\n",
    "\n",
    "  def enqueue(self, value):\n",
    "    self.data.append(value)\n",
    "\n",
    "  def dequeue(self):\n",
    "    return self.data.pop(0)\n",
    "\n",
    "\n",
    "queue = Queue()\n",
    "queue.enqueue(10)\n",
    "queue.enqueue(20)\n",
    "queue.enqueue(30)\n",
    "print(queue.dequeue())\n",
    "print(queue.dequeue())\n",
    "\n",
    "queue.enqueue(40)\n",
    "print(queue.dequeue())\n",
    "\n",
    "queue.data"
   ]
  },
  {
   "cell_type": "code",
   "execution_count": 30,
   "metadata": {},
   "outputs": [
    {
     "name": "stdout",
     "output_type": "stream",
     "text": [
      "30\n",
      "20\n",
      "40\n"
     ]
    },
    {
     "data": {
      "text/plain": [
       "[10]"
      ]
     },
     "execution_count": 30,
     "metadata": {},
     "output_type": "execute_result"
    }
   ],
   "source": [
    "class Stack:\n",
    "  def __init__(self):\n",
    "    self.data = []\n",
    "\n",
    "  def is_empty(self):\n",
    "    return len(self.data) == 0\n",
    "\n",
    "  def push(self, value):\n",
    "    self.data.append(value)\n",
    "\n",
    "  def pop(self):\n",
    "    return self.data.pop()\n",
    "\n",
    "\n",
    "stack = Stack()\n",
    "stack.push(10)\n",
    "stack.push(20)\n",
    "stack.push(30)\n",
    "print(stack.pop())\n",
    "print(stack.pop())\n",
    "\n",
    "stack.push(40)\n",
    "print(stack.pop())\n",
    "\n",
    "stack.data"
   ]
  },
  {
   "cell_type": "code",
   "execution_count": 31,
   "metadata": {},
   "outputs": [
    {
     "data": {
      "text/plain": [
       "{0: [1, 2],\n",
       " 1: [0, 2, 3, 4, 5],\n",
       " 2: [0, 1, 3, 4, 5],\n",
       " 3: [1, 2, 4],\n",
       " 4: [1, 2, 3, 5],\n",
       " 5: [1, 2, 4, 6],\n",
       " 6: [5]}"
      ]
     },
     "execution_count": 31,
     "metadata": {},
     "output_type": "execute_result"
    }
   ],
   "source": [
    "def adjacency_matrix_to_list(adjacency_matrix):\n",
    "  n = len(adjacency_matrix)\n",
    "  adjacency_list = {i: [] for i in range(n)}\n",
    "\n",
    "  for i in range(n):\n",
    "    for j in range(n):\n",
    "      if adjacency_matrix[i][j] == 1:\n",
    "        adjacency_list[i].append(j)\n",
    "\n",
    "  return adjacency_list\n",
    "\n",
    "\n",
    "adjacency_matrix = [[0, 1, 1, 0, 0, 0, 0],\n",
    "                    [1, 0, 1, 1, 1, 1, 0],\n",
    "                    [1, 1, 0, 1, 1, 1, 0],\n",
    "                    [0, 1, 1, 0, 1, 0, 0],\n",
    "                    [0, 1, 1, 1, 0, 1, 0],\n",
    "                    [0, 1, 1, 0, 1, 0, 1],\n",
    "                    [0, 0, 0, 0, 0, 1, 0]]\n",
    "\n",
    "adjacency_matrix_to_list(adjacency_matrix)"
   ]
  },
  {
   "cell_type": "markdown",
   "metadata": {},
   "source": [
    "# GrPA 1"
   ]
  },
  {
   "cell_type": "code",
   "execution_count": 32,
   "metadata": {},
   "outputs": [],
   "source": [
    "def parse_my_input(my_input):\n",
    "  data = my_input.strip().split('\\n')\n",
    "\n",
    "  n = int(data[0])\n",
    "  adjacency_matrix = [list(map(int, data[i+1].split())) for i in range(n)]\n",
    "  px = int(data[-2])\n",
    "  py = int(data[-1])\n",
    "\n",
    "  return n, adjacency_matrix, px, py"
   ]
  },
  {
   "cell_type": "code",
   "execution_count": 33,
   "metadata": {},
   "outputs": [
    {
     "data": {
      "text/plain": [
       "3"
      ]
     },
     "execution_count": 33,
     "metadata": {},
     "output_type": "execute_result"
    }
   ],
   "source": [
    "def bfs(adjacency_list, start_vertex):\n",
    "  visited = {vertex: False for vertex in adjacency_list}\n",
    "  parent = {vertex: None for vertex in adjacency_list}\n",
    "  level = {vertex: 0 for vertex in adjacency_list}\n",
    "\n",
    "  queue = Queue()\n",
    "  queue.enqueue(start_vertex)\n",
    "\n",
    "  while not queue.is_empty():\n",
    "    curr_vertex = queue.dequeue()\n",
    "    if not visited[curr_vertex]:\n",
    "      visited[curr_vertex] = True\n",
    "\n",
    "      for adj_vertex in adjacency_list[curr_vertex]:\n",
    "        if not visited[adj_vertex]:\n",
    "          queue.enqueue(adj_vertex)\n",
    "\n",
    "          if parent[adj_vertex] is None:\n",
    "            parent[adj_vertex] = curr_vertex\n",
    "            level[adj_vertex] = level[curr_vertex]+1\n",
    "  return level\n",
    "\n",
    "\n",
    "def find_connection_level(n, adjacency_matrix, px, py):\n",
    "  adjacency_list = adjacency_matrix_to_list(adjacency_matrix)  # helper function\n",
    "  level = bfs(adjacency_list, px)  # helper function\n",
    "  return level[py]\n",
    "\n",
    "\n",
    "find_connection_level(*parse_my_input(\"\"\"\n",
    "7\n",
    "0 1 1 0 0 0 0\n",
    "1 0 1 1 1 1 0\n",
    "1 1 0 1 1 1 0\n",
    "0 1 1 0 1 0 0\n",
    "0 1 1 1 0 1 0\n",
    "0 1 1 0 1 0 1\n",
    "0 0 0 0 0 1 0\n",
    "6\n",
    "0\n",
    "\"\"\"))"
   ]
  },
  {
   "cell_type": "markdown",
   "metadata": {},
   "source": [
    "# GrPA 2"
   ]
  },
  {
   "cell_type": "code",
   "execution_count": 34,
   "metadata": {},
   "outputs": [],
   "source": [
    "def parse_my_input(my_input):\n",
    "  data = my_input.strip().split('\\n')\n",
    "\n",
    "  V = list(map(int, data[0].split()))  # list of vertices\n",
    "  E = []  # list of edges (edge: u -> v)\n",
    "  for edge in data[2:]:\n",
    "    edge = list(map(int, edge.split()))\n",
    "    E.append(edge)\n",
    "\n",
    "  return V, E"
   ]
  },
  {
   "cell_type": "code",
   "execution_count": 35,
   "metadata": {},
   "outputs": [
    {
     "data": {
      "text/plain": [
       "1"
      ]
     },
     "execution_count": 35,
     "metadata": {},
     "output_type": "execute_result"
    }
   ],
   "source": [
    "def bfs(adjacency_list, start_vertex):\n",
    "  visited = {vertex: False for vertex in adjacency_list}\n",
    "  order = []\n",
    "\n",
    "  queue = Queue()\n",
    "  queue.enqueue(start_vertex)\n",
    "\n",
    "  while not queue.is_empty():\n",
    "    curr_vertex = queue.dequeue()\n",
    "    if not visited[curr_vertex]:\n",
    "      visited[curr_vertex] = True\n",
    "      order.append(curr_vertex)\n",
    "\n",
    "      for adj_vertex in adjacency_list[curr_vertex]:\n",
    "        if not visited[adj_vertex]:\n",
    "          queue.enqueue(adj_vertex)\n",
    "  return visited\n",
    "\n",
    "\n",
    "def find_master_tank(tanks, pipes):\n",
    "  adjacency_list = {u: [] for u in tanks}\n",
    "  for u, v in pipes:\n",
    "    adjacency_list[u].append(v)\n",
    "\n",
    "  for vertex in adjacency_list:\n",
    "    visited = bfs(adjacency_list, vertex)  # helper function\n",
    "    if all(visited.values()):\n",
    "      return vertex\n",
    "  return 0\n",
    "\n",
    "\n",
    "find_master_tank(*parse_my_input(\"\"\"\n",
    "1 2 3 4\n",
    "3\n",
    "1 2\n",
    "2 3\n",
    "2 4\n",
    "\"\"\"))"
   ]
  },
  {
   "cell_type": "markdown",
   "metadata": {},
   "source": [
    "# GrPA 3"
   ]
  },
  {
   "cell_type": "code",
   "execution_count": 36,
   "metadata": {},
   "outputs": [],
   "source": [
    "adjacency_list = {'Madurai': ['Cochin', 'Kanyakumari'],\n",
    "                  'Vaishali': [],\n",
    "                  'Varanasi': ['Khajuraho', 'Bodhgaya'],\n",
    "                  'Thiruvanandhapuram': ['Kanyakumari'],\n",
    "                  'Udaipur': ['Gir'],\n",
    "                  'Rishikesh': ['Delhi'],\n",
    "                  'Shimla': ['Rishikesh'],\n",
    "                  'Bangalore': ['Chennai', 'Madurai'],\n",
    "                  'Agra': ['Ranthambore'],\n",
    "                  'Bodhgaya': ['Kolkatta'],\n",
    "                  'Cochin': ['Thiruvanandhapuram'],\n",
    "                  'Pushkar': ['Udaipur', 'Ranthambore'],\n",
    "                  'Ranthambore': ['Khajuraho'],\n",
    "                  'Gir': [],\n",
    "                  'Kolkatta': ['Bangalore', 'Chennai'],\n",
    "                  'Chennai': ['Madurai'],\n",
    "                  'Sravasti': ['Kushinagar'],\n",
    "                  'Leh': ['Shimla'],\n",
    "                  'Sarnath': ['Varanasi'],\n",
    "                  'Delhi': ['Jaipur', 'Agra', 'Sravasti'],\n",
    "                  'Kanyakumari': [],\n",
    "                  'Kushinagar': ['Sarnath', 'Vaishali'],\n",
    "                  'Khajuraho': [],\n",
    "                  'Jaipur': ['Pushkar']}\n",
    "\n",
    "excepted_output = ['Leh', 'Shimla', 'Rishikesh', 'Delhi', 'Sravasti', 'Kushinagar', 'Sarnath', 'Varanasi',\n",
    "                   'Bodhgaya', 'Kolkatta', 'Bangalore', 'Chennai', 'Madurai', 'Cochin', 'Thiruvanandhapuram', 'Kanyakumari']"
   ]
  },
  {
   "cell_type": "code",
   "execution_count": 37,
   "metadata": {},
   "outputs": [],
   "source": [
    "def dfs(adjacency_list, curr_vertex, visited, stack):  # 2\n",
    "  visited[curr_vertex] = True\n",
    "\n",
    "  for adj_vertex in adjacency_list[curr_vertex]:\n",
    "    if not visited[adj_vertex]:\n",
    "      dfs(adjacency_list, adj_vertex, visited, stack)\n",
    "\n",
    "  stack.push(curr_vertex)\n",
    "\n",
    "\n",
    "def topological_sort(adjacency_list):  # 1\n",
    "  visited = {vertex: False for vertex in adjacency_list}\n",
    "  stack = Stack()\n",
    "\n",
    "  for vertex in adjacency_list:\n",
    "    if not visited[vertex]:\n",
    "      dfs(adjacency_list, vertex, visited, stack)\n",
    "\n",
    "  stack.data.reverse()\n",
    "  return stack.data"
   ]
  },
  {
   "cell_type": "code",
   "execution_count": 38,
   "metadata": {},
   "outputs": [
    {
     "data": {
      "text/plain": [
       "True"
      ]
     },
     "execution_count": 38,
     "metadata": {},
     "output_type": "execute_result"
    }
   ],
   "source": [
    "def longest_path(adjacency_list):  # 3\n",
    "  topological_order = topological_sort(adjacency_list)\n",
    "\n",
    "  distance = {vertex: -1 for vertex in adjacency_list}\n",
    "  predecessor = {vertex: None for vertex in adjacency_list}  # NEW 😱\n",
    "\n",
    "  start_vertex = topological_order[0]\n",
    "  distance[start_vertex] = 0\n",
    "\n",
    "  # compute distance, predecessor\n",
    "  for parent in topological_order:\n",
    "    if distance[parent] != -1:  # if parent has a distance assigned\n",
    "      for child in adjacency_list[parent]:\n",
    "        new_distance = distance[parent] + 1\n",
    "        if new_distance > distance[child]:\n",
    "          distance[child] = new_distance\n",
    "          predecessor[child] = parent  # NEW 😱\n",
    "\n",
    "  return distance, predecessor\n",
    "\n",
    "\n",
    "def long_journey(adjacency_list):  # 4\n",
    "  distance, predecessor = longest_path(adjacency_list)\n",
    "\n",
    "  # reconstruct the path\n",
    "  best_path = []\n",
    "  last_city = max(distance, key=distance.get)\n",
    "  while last_city is not None:\n",
    "    best_path.append(last_city)\n",
    "    last_city = predecessor[last_city]\n",
    "\n",
    "  best_path.reverse()\n",
    "  return best_path\n",
    "\n",
    "\n",
    "long_journey(adjacency_list) == excepted_output"
   ]
  }
 ],
 "metadata": {
  "kernelspec": {
   "display_name": "Python 3",
   "language": "python",
   "name": "python3"
  },
  "language_info": {
   "codemirror_mode": {
    "name": "ipython",
    "version": 3
   },
   "file_extension": ".py",
   "mimetype": "text/x-python",
   "name": "python",
   "nbconvert_exporter": "python",
   "pygments_lexer": "ipython3",
   "version": "3.12.0"
  }
 },
 "nbformat": 4,
 "nbformat_minor": 2
}
