{
 "cells": [
  {
   "cell_type": "markdown",
   "metadata": {},
   "source": [
    "# GrPA 1"
   ]
  },
  {
   "cell_type": "code",
   "execution_count": 13,
   "metadata": {},
   "outputs": [],
   "source": [
    "def parse_my_input(my_input):\n",
    "  data = my_input.strip().split('\\n')\n",
    "\n",
    "  n = int(data[0])\n",
    "  adjacency_matrix = [list(map(int, data[i+1].split())) for i in range(n)]\n",
    "  px = int(data[-2])\n",
    "  py = int(data[-1])\n",
    "\n",
    "  return n, adjacency_matrix, px, py"
   ]
  },
  {
   "cell_type": "code",
   "execution_count": 14,
   "metadata": {},
   "outputs": [
    {
     "data": {
      "text/plain": [
       "{0: [1, 2],\n",
       " 1: [0, 2, 3, 4, 5],\n",
       " 2: [0, 1, 3, 4, 5],\n",
       " 3: [1, 2, 4],\n",
       " 4: [1, 2, 3, 5],\n",
       " 5: [1, 2, 4, 6],\n",
       " 6: [5]}"
      ]
     },
     "execution_count": 14,
     "metadata": {},
     "output_type": "execute_result"
    }
   ],
   "source": [
    "def adjacency_matrix_to_list(adjacency_matrix):\n",
    "  n = len(adjacency_matrix)\n",
    "  adjacency_list = {i: [] for i in range(n)}\n",
    "\n",
    "  for i in range(n):\n",
    "    for j in range(n):\n",
    "      if adjacency_matrix[i][j] == 1:\n",
    "        adjacency_list[i].append(j)\n",
    "\n",
    "  return adjacency_list\n",
    "\n",
    "\n",
    "adjacency_matrix = [[0, 1, 1, 0, 0, 0, 0],\n",
    "                    [1, 0, 1, 1, 1, 1, 0],\n",
    "                    [1, 1, 0, 1, 1, 1, 0],\n",
    "                    [0, 1, 1, 0, 1, 0, 0],\n",
    "                    [0, 1, 1, 1, 0, 1, 0],\n",
    "                    [0, 1, 1, 0, 1, 0, 1],\n",
    "                    [0, 0, 0, 0, 0, 1, 0]]\n",
    "\n",
    "adjacency_matrix_to_list(adjacency_matrix)"
   ]
  },
  {
   "cell_type": "code",
   "execution_count": 15,
   "metadata": {},
   "outputs": [
    {
     "name": "stdout",
     "output_type": "stream",
     "text": [
      "10\n",
      "20\n",
      "30\n"
     ]
    },
    {
     "data": {
      "text/plain": [
       "[40]"
      ]
     },
     "execution_count": 15,
     "metadata": {},
     "output_type": "execute_result"
    }
   ],
   "source": [
    "class Queue:\n",
    "  def __init__(self):\n",
    "    self.data = []\n",
    "\n",
    "  def is_empty(self):\n",
    "    return len(self.data) == 0\n",
    "\n",
    "  def enqueue(self, value):\n",
    "    self.data.append(value)\n",
    "\n",
    "  def dequeue(self):\n",
    "    return self.data.pop(0)\n",
    "\n",
    "\n",
    "queue = Queue()\n",
    "queue.enqueue(10)\n",
    "queue.enqueue(20)\n",
    "queue.enqueue(30)\n",
    "print(queue.dequeue())\n",
    "print(queue.dequeue())\n",
    "\n",
    "queue.enqueue(40)\n",
    "print(queue.dequeue())\n",
    "\n",
    "queue.data"
   ]
  },
  {
   "cell_type": "code",
   "execution_count": 16,
   "metadata": {},
   "outputs": [],
   "source": [
    "def bfs(adjacency_list, start_vertex):\n",
    "  visited = {u: False for u in adjacency_list}\n",
    "  level = {u: 0 for u in adjacency_list}  # NEW\n",
    "\n",
    "  queue = Queue()  # helper class\n",
    "  queue.enqueue(start_vertex)\n",
    "  visited[start_vertex] = True\n",
    "\n",
    "  while not queue.is_empty():\n",
    "    curr_vertex = queue.dequeue()\n",
    "    for adj_vertex in adjacency_list[curr_vertex]:\n",
    "      if not visited[adj_vertex]:\n",
    "        queue.enqueue(adj_vertex)\n",
    "        visited[adj_vertex] = True\n",
    "        level[adj_vertex] = level[curr_vertex]+1  # NEW\n",
    "  return level"
   ]
  },
  {
   "cell_type": "code",
   "execution_count": 17,
   "metadata": {},
   "outputs": [
    {
     "data": {
      "text/plain": [
       "3"
      ]
     },
     "execution_count": 17,
     "metadata": {},
     "output_type": "execute_result"
    }
   ],
   "source": [
    "def find_connection_level(n, adjacency_matrix, px, py):\n",
    "  adjacency_list = adjacency_matrix_to_list(adjacency_matrix)  # helper function\n",
    "  level = bfs(adjacency_list, px)  # helper function\n",
    "  return level[py]\n",
    "\n",
    "\n",
    "find_connection_level(*parse_my_input(\"\"\"\n",
    "7\n",
    "0 1 1 0 0 0 0\n",
    "1 0 1 1 1 1 0\n",
    "1 1 0 1 1 1 0\n",
    "0 1 1 0 1 0 0\n",
    "0 1 1 1 0 1 0\n",
    "0 1 1 0 1 0 1\n",
    "0 0 0 0 0 1 0\n",
    "6\n",
    "0\n",
    "\"\"\"))"
   ]
  },
  {
   "cell_type": "markdown",
   "metadata": {},
   "source": [
    "# GrPA 2"
   ]
  },
  {
   "cell_type": "code",
   "execution_count": 18,
   "metadata": {},
   "outputs": [
    {
     "name": "stdout",
     "output_type": "stream",
     "text": [
      "['1 2', '2 3', '2 4']\n"
     ]
    },
    {
     "data": {
      "text/plain": [
       "[1, 2, 3, 4]"
      ]
     },
     "execution_count": 18,
     "metadata": {},
     "output_type": "execute_result"
    }
   ],
   "source": [
    "def parse_my_input(my_input):\n",
    "  data = my_input.strip().split('\\n')\n",
    "\n",
    "  V = list(map(int, data[0].split()))  # list of vertices\n",
    "  E = []  # list of edges (edge: u -> v)\n",
    "\n",
    "  print(data[2:])\n",
    "\n",
    "  return V\n",
    "\n",
    "\n",
    "parse_my_input(\"\"\"\n",
    "1 2 3 4\n",
    "3\n",
    "1 2\n",
    "2 3\n",
    "2 4\n",
    "\"\"\")"
   ]
  },
  {
   "cell_type": "code",
   "execution_count": 19,
   "metadata": {},
   "outputs": [
    {
     "name": "stdout",
     "output_type": "stream",
     "text": [
      "['1 2', '2 3', '2 4']\n"
     ]
    },
    {
     "ename": "TypeError",
     "evalue": "find_master_tank() takes 2 positional arguments but 4 were given",
     "output_type": "error",
     "traceback": [
      "\u001b[1;31m---------------------------------------------------------------------------\u001b[0m",
      "\u001b[1;31mTypeError\u001b[0m                                 Traceback (most recent call last)",
      "Cell \u001b[1;32mIn[19], line 5\u001b[0m\n\u001b[0;32m      1\u001b[0m \u001b[38;5;28;01mdef\u001b[39;00m \u001b[38;5;21mfind_master_tank\u001b[39m(tanks, pipes):\n\u001b[0;32m      2\u001b[0m   \u001b[38;5;28mprint\u001b[39m(\u001b[38;5;124mf\u001b[39m\u001b[38;5;124m'\u001b[39m\u001b[38;5;132;01m{\u001b[39;00mtanks\u001b[38;5;132;01m=}\u001b[39;00m\u001b[38;5;124m, \u001b[39m\u001b[38;5;132;01m{\u001b[39;00mpipes\u001b[38;5;132;01m=}\u001b[39;00m\u001b[38;5;124m'\u001b[39m)\n\u001b[1;32m----> 5\u001b[0m \u001b[43mfind_master_tank\u001b[49m\u001b[43m(\u001b[49m\u001b[38;5;241;43m*\u001b[39;49m\u001b[43mparse_my_input\u001b[49m\u001b[43m(\u001b[49m\u001b[38;5;124;43m\"\"\"\u001b[39;49m\n\u001b[0;32m      6\u001b[0m \u001b[38;5;124;43m1 2 3 4\u001b[39;49m\n\u001b[0;32m      7\u001b[0m \u001b[38;5;124;43m3\u001b[39;49m\n\u001b[0;32m      8\u001b[0m \u001b[38;5;124;43m1 2\u001b[39;49m\n\u001b[0;32m      9\u001b[0m \u001b[38;5;124;43m2 3\u001b[39;49m\n\u001b[0;32m     10\u001b[0m \u001b[38;5;124;43m2 4\u001b[39;49m\n\u001b[0;32m     11\u001b[0m \u001b[38;5;124;43m\"\"\"\u001b[39;49m\u001b[43m)\u001b[49m\u001b[43m)\u001b[49m\n",
      "\u001b[1;31mTypeError\u001b[0m: find_master_tank() takes 2 positional arguments but 4 were given"
     ]
    }
   ],
   "source": [
    "def find_master_tank(tanks, pipes):\n",
    "  print(f'{tanks=}, {pipes=}')\n",
    "\n",
    "\n",
    "find_master_tank(*parse_my_input(\"\"\"\n",
    "1 2 3 4\n",
    "3\n",
    "1 2\n",
    "2 3\n",
    "2 4\n",
    "\"\"\"))"
   ]
  }
 ],
 "metadata": {
  "kernelspec": {
   "display_name": "Python 3",
   "language": "python",
   "name": "python3"
  },
  "language_info": {
   "codemirror_mode": {
    "name": "ipython",
    "version": 3
   },
   "file_extension": ".py",
   "mimetype": "text/x-python",
   "name": "python",
   "nbconvert_exporter": "python",
   "pygments_lexer": "ipython3",
   "version": "3.12.0"
  }
 },
 "nbformat": 4,
 "nbformat_minor": 2
}
