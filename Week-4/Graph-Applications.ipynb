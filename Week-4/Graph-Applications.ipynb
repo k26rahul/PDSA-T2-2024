{
 "cells": [
  {
   "cell_type": "code",
   "execution_count": 1,
   "metadata": {},
   "outputs": [
    {
     "name": "stdout",
     "output_type": "stream",
     "text": [
      "10\n",
      "20\n",
      "30\n",
      "deque([40])\n"
     ]
    }
   ],
   "source": [
    "from collections import deque\n",
    "\n",
    "\n",
    "class Queue:\n",
    "  def __init__(self):\n",
    "    self.data = deque()\n",
    "\n",
    "  def is_empty(self):\n",
    "    return len(self.data) == 0\n",
    "\n",
    "  def enqueue(self, value):\n",
    "    self.data.append(value)\n",
    "\n",
    "  def dequeue(self):\n",
    "    if self.is_empty():\n",
    "      raise Exception('queue is empty')\n",
    "    return self.data.popleft()\n",
    "\n",
    "  def __str__(self):\n",
    "    return str(self.data)\n",
    "\n",
    "\n",
    "queue = Queue()\n",
    "queue.enqueue(10)\n",
    "queue.enqueue(20)\n",
    "queue.enqueue(30)\n",
    "\n",
    "print(queue.dequeue())\n",
    "print(queue.dequeue())\n",
    "queue.enqueue(40)\n",
    "print(queue.dequeue())\n",
    "print(queue)"
   ]
  },
  {
   "cell_type": "code",
   "execution_count": 2,
   "metadata": {},
   "outputs": [
    {
     "name": "stdout",
     "output_type": "stream",
     "text": [
      "30\n",
      "20\n",
      "40\n",
      "deque([10])\n"
     ]
    }
   ],
   "source": [
    "class Stack:\n",
    "  def __init__(self):\n",
    "    self.data = deque()\n",
    "\n",
    "  def is_empty(self):\n",
    "    return len(self.data) == 0\n",
    "\n",
    "  def push(self, value):\n",
    "    self.data.append(value)\n",
    "\n",
    "  def pop(self):\n",
    "    if self.is_empty():\n",
    "      raise Exception('stack is empty')\n",
    "    return self.data.pop()\n",
    "\n",
    "  def __str__(self):\n",
    "    return str(self.data)\n",
    "\n",
    "\n",
    "stack = Stack()\n",
    "stack.push(10)\n",
    "stack.push(20)\n",
    "stack.push(30)\n",
    "\n",
    "print(stack.pop())\n",
    "print(stack.pop())\n",
    "stack.push(40)\n",
    "print(stack.pop())\n",
    "print(stack)"
   ]
  },
  {
   "cell_type": "markdown",
   "metadata": {},
   "source": [
    "# Find Connected Components in graph using BFS"
   ]
  },
  {
   "cell_type": "code",
   "execution_count": 3,
   "metadata": {},
   "outputs": [
    {
     "data": {
      "text/plain": [
       "[[0, 1, 2, 3, 4], [5, 6]]"
      ]
     },
     "execution_count": 3,
     "metadata": {},
     "output_type": "execute_result"
    }
   ],
   "source": [
    "def bfs(adjacency_list, start_vertex, visited):\n",
    "  queue = Queue()\n",
    "  queue.enqueue(start_vertex)\n",
    "  visited[start_vertex] = True\n",
    "\n",
    "  component = []\n",
    "\n",
    "  while not queue.is_empty():\n",
    "    curr_vertex = queue.dequeue()\n",
    "    component.append(curr_vertex)\n",
    "    for adj_vertex in adjacency_list[curr_vertex]:\n",
    "      if not visited[adj_vertex]:\n",
    "        queue.enqueue(adj_vertex)\n",
    "        visited[adj_vertex] = True\n",
    "  return component\n",
    "\n",
    "\n",
    "def find_connected_components(adjacency_list):\n",
    "  visited = {vertex: False for vertex in adjacency_list}\n",
    "  components = []\n",
    "\n",
    "  for vertex in adjacency_list:\n",
    "    if not visited[vertex]:\n",
    "      component = bfs(adjacency_list, vertex, visited)\n",
    "      components.append(component)\n",
    "  return components\n",
    "\n",
    "\n",
    "adjacency_list = {\n",
    "    0: [1, 2],\n",
    "    1: [0, 3],\n",
    "    2: [0],\n",
    "    3: [1, 4],\n",
    "    4: [3],\n",
    "    5: [6],\n",
    "    6: [5]\n",
    "}\n",
    "\n",
    "find_connected_components(adjacency_list)"
   ]
  },
  {
   "cell_type": "code",
   "execution_count": 4,
   "metadata": {},
   "outputs": [
    {
     "data": {
      "text/plain": [
       "[[0, 1, 2, 3, 4], [5, 6]]"
      ]
     },
     "execution_count": 4,
     "metadata": {},
     "output_type": "execute_result"
    }
   ],
   "source": [
    "def bfs(adjacency_list, start_vertex, visited):\n",
    "  queue = deque([start_vertex])\n",
    "  visited[start_vertex] = True\n",
    "  component = []\n",
    "\n",
    "  while queue:\n",
    "    curr_vertex = queue.popleft()\n",
    "    component.append(curr_vertex)\n",
    "    for adj_vertex in adjacency_list[curr_vertex]:\n",
    "      if not visited[adj_vertex]:\n",
    "        queue.append(adj_vertex)\n",
    "        visited[adj_vertex] = True\n",
    "  return component\n",
    "\n",
    "\n",
    "def find_connected_components(adjacency_list):\n",
    "  visited = {vertex: False for vertex in adjacency_list}\n",
    "  components = []\n",
    "\n",
    "  for vertex in adjacency_list:\n",
    "    if not visited[vertex]:\n",
    "      component = bfs(adjacency_list, vertex, visited)\n",
    "      components.append(component)\n",
    "  return components\n",
    "\n",
    "\n",
    "adjacency_list = {\n",
    "    0: [1, 2],\n",
    "    1: [0, 3],\n",
    "    2: [0],\n",
    "    3: [1, 4],\n",
    "    4: [3],\n",
    "    5: [6],\n",
    "    6: [5]\n",
    "}\n",
    "\n",
    "find_connected_components(adjacency_list)"
   ]
  },
  {
   "cell_type": "markdown",
   "metadata": {},
   "source": [
    "# Pre and Post Numbering Using DFS"
   ]
  },
  {
   "cell_type": "code",
   "execution_count": 16,
   "metadata": {},
   "outputs": [
    {
     "ename": "NameError",
     "evalue": "name 'dfs' is not defined",
     "output_type": "error",
     "traceback": [
      "\u001b[1;31m---------------------------------------------------------------------------\u001b[0m",
      "\u001b[1;31mNameError\u001b[0m                                 Traceback (most recent call last)",
      "Cell \u001b[1;32mIn[16], line 28\u001b[0m\n\u001b[0;32m     14\u001b[0m adjacency_list \u001b[38;5;241m=\u001b[39m {\n\u001b[0;32m     15\u001b[0m     \u001b[38;5;241m0\u001b[39m: [\u001b[38;5;241m1\u001b[39m, \u001b[38;5;241m2\u001b[39m],\n\u001b[0;32m     16\u001b[0m     \u001b[38;5;241m1\u001b[39m: [\u001b[38;5;241m0\u001b[39m, \u001b[38;5;241m3\u001b[39m, \u001b[38;5;241m4\u001b[39m],\n\u001b[1;32m   (...)\u001b[0m\n\u001b[0;32m     19\u001b[0m     \u001b[38;5;241m4\u001b[39m: [\u001b[38;5;241m1\u001b[39m]\n\u001b[0;32m     20\u001b[0m }\n\u001b[0;32m     22\u001b[0m \u001b[38;5;66;03m#     0\u001b[39;00m\n\u001b[0;32m     23\u001b[0m \u001b[38;5;66;03m#    / \\\u001b[39;00m\n\u001b[0;32m     24\u001b[0m \u001b[38;5;66;03m#   1   2\u001b[39;00m\n\u001b[0;32m     25\u001b[0m \u001b[38;5;66;03m#  / \\\u001b[39;00m\n\u001b[0;32m     26\u001b[0m \u001b[38;5;66;03m# 3   4\u001b[39;00m\n\u001b[1;32m---> 28\u001b[0m \u001b[43mpre_post_numbering\u001b[49m\u001b[43m(\u001b[49m\u001b[43madjacency_list\u001b[49m\u001b[43m)\u001b[49m\n",
      "Cell \u001b[1;32mIn[16], line 9\u001b[0m, in \u001b[0;36mpre_post_numbering\u001b[1;34m(adjacency_list)\u001b[0m\n\u001b[0;32m      7\u001b[0m \u001b[38;5;28;01mfor\u001b[39;00m vertex \u001b[38;5;129;01min\u001b[39;00m adjacency_list:\n\u001b[0;32m      8\u001b[0m   \u001b[38;5;28;01mif\u001b[39;00m \u001b[38;5;129;01mnot\u001b[39;00m visited[vertex]:\n\u001b[1;32m----> 9\u001b[0m     \u001b[43mdfs\u001b[49m(vertex)\n\u001b[0;32m     11\u001b[0m \u001b[38;5;28;01mreturn\u001b[39;00m pre, post\n",
      "\u001b[1;31mNameError\u001b[0m: name 'dfs' is not defined"
     ]
    }
   ],
   "source": [
    "def pre_post_numbering(adjacency_list):\n",
    "  visited = {vertex: False for vertex in adjacency_list}\n",
    "  pre = {vertex: -1 for vertex in adjacency_list}\n",
    "  post = {vertex: -1 for vertex in adjacency_list}\n",
    "  counter = 0\n",
    "\n",
    "  def dfs()\n",
    "\n",
    "  for vertex in adjacency_list:\n",
    "    if not visited[vertex]:\n",
    "      dfs(vertex)\n",
    "\n",
    "  return pre, post\n",
    "\n",
    "\n",
    "adjacency_list = {\n",
    "    0: [1, 2],\n",
    "    1: [0, 3, 4],\n",
    "    2: [0],\n",
    "    3: [1],\n",
    "    4: [1]\n",
    "}\n",
    "\n",
    "#     0\n",
    "#    / \\\n",
    "#   1   2\n",
    "#  / \\\n",
    "# 3   4\n",
    "\n",
    "pre_post_numbering(adjacency_list)"
   ]
  }
 ],
 "metadata": {
  "kernelspec": {
   "display_name": "Python 3",
   "language": "python",
   "name": "python3"
  },
  "language_info": {
   "codemirror_mode": {
    "name": "ipython",
    "version": 3
   },
   "file_extension": ".py",
   "mimetype": "text/x-python",
   "name": "python",
   "nbconvert_exporter": "python",
   "pygments_lexer": "ipython3",
   "version": "3.12.0"
  }
 },
 "nbformat": 4,
 "nbformat_minor": 2
}
