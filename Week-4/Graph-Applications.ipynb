{
 "cells": [
  {
   "cell_type": "code",
   "execution_count": 1,
   "metadata": {},
   "outputs": [
    {
     "name": "stdout",
     "output_type": "stream",
     "text": [
      "10\n",
      "20\n",
      "30\n",
      "deque([40])\n"
     ]
    }
   ],
   "source": [
    "from collections import deque\n",
    "\n",
    "\n",
    "class Queue:\n",
    "  def __init__(self):\n",
    "    self.data = deque()\n",
    "\n",
    "  def is_empty(self):\n",
    "    return len(self.data) == 0\n",
    "\n",
    "  def enqueue(self, value):\n",
    "    self.data.append(value)\n",
    "\n",
    "  def dequeue(self):\n",
    "    if self.is_empty():\n",
    "      raise Exception('queue is empty')\n",
    "    return self.data.popleft()\n",
    "\n",
    "  def __str__(self):\n",
    "    return str(self.data)\n",
    "\n",
    "\n",
    "queue = Queue()\n",
    "queue.enqueue(10)\n",
    "queue.enqueue(20)\n",
    "queue.enqueue(30)\n",
    "\n",
    "print(queue.dequeue())\n",
    "print(queue.dequeue())\n",
    "queue.enqueue(40)\n",
    "print(queue.dequeue())\n",
    "print(queue)"
   ]
  },
  {
   "cell_type": "code",
   "execution_count": 2,
   "metadata": {},
   "outputs": [
    {
     "name": "stdout",
     "output_type": "stream",
     "text": [
      "30\n",
      "20\n",
      "40\n",
      "deque([10])\n"
     ]
    }
   ],
   "source": [
    "class Stack:\n",
    "  def __init__(self):\n",
    "    self.data = deque()\n",
    "\n",
    "  def is_empty(self):\n",
    "    return len(self.data) == 0\n",
    "\n",
    "  def push(self, value):\n",
    "    self.data.append(value)\n",
    "\n",
    "  def pop(self):\n",
    "    if self.is_empty():\n",
    "      raise Exception('stack is empty')\n",
    "    return self.data.pop()\n",
    "\n",
    "  def __str__(self):\n",
    "    return str(self.data)\n",
    "\n",
    "\n",
    "stack = Stack()\n",
    "stack.push(10)\n",
    "stack.push(20)\n",
    "stack.push(30)\n",
    "\n",
    "print(stack.pop())\n",
    "print(stack.pop())\n",
    "stack.push(40)\n",
    "print(stack.pop())\n",
    "print(stack)"
   ]
  },
  {
   "cell_type": "markdown",
   "metadata": {},
   "source": [
    "# Find Connected Components in graph using BFS"
   ]
  },
  {
   "cell_type": "code",
   "execution_count": 3,
   "metadata": {},
   "outputs": [
    {
     "data": {
      "text/plain": [
       "[[0, 1, 2, 3, 4], [5, 6]]"
      ]
     },
     "execution_count": 3,
     "metadata": {},
     "output_type": "execute_result"
    }
   ],
   "source": [
    "def bfs(adjacency_list, start_vertex, visited):\n",
    "  queue = Queue()\n",
    "  queue.enqueue(start_vertex)\n",
    "  visited[start_vertex] = True\n",
    "\n",
    "  component = []\n",
    "\n",
    "  while not queue.is_empty():\n",
    "    curr_vertex = queue.dequeue()\n",
    "    component.append(curr_vertex)\n",
    "    for adj_vertex in adjacency_list[curr_vertex]:\n",
    "      if not visited[adj_vertex]:\n",
    "        queue.enqueue(adj_vertex)\n",
    "        visited[adj_vertex] = True\n",
    "  return component\n",
    "\n",
    "\n",
    "def find_connected_components(adjacency_list):\n",
    "  visited = {vertex: False for vertex in adjacency_list}\n",
    "  components = []\n",
    "\n",
    "  for vertex in adjacency_list:\n",
    "    if not visited[vertex]:\n",
    "      component = bfs(adjacency_list, vertex, visited)\n",
    "      components.append(component)\n",
    "  return components\n",
    "\n",
    "\n",
    "adjacency_list = {\n",
    "    0: [1, 2],\n",
    "    1: [0, 3],\n",
    "    2: [0],\n",
    "    3: [1, 4],\n",
    "    4: [3],\n",
    "    5: [6],\n",
    "    6: [5]\n",
    "}\n",
    "\n",
    "find_connected_components(adjacency_list)"
   ]
  },
  {
   "cell_type": "code",
   "execution_count": 4,
   "metadata": {},
   "outputs": [
    {
     "data": {
      "text/plain": [
       "[[0, 1, 2, 3, 4], [5, 6]]"
      ]
     },
     "execution_count": 4,
     "metadata": {},
     "output_type": "execute_result"
    }
   ],
   "source": [
    "def bfs(adjacency_list, start_vertex, visited):\n",
    "  queue = deque([start_vertex])\n",
    "  visited[start_vertex] = True\n",
    "  component = []\n",
    "\n",
    "  while queue:\n",
    "    curr_vertex = queue.popleft()\n",
    "    component.append(curr_vertex)\n",
    "    for adj_vertex in adjacency_list[curr_vertex]:\n",
    "      if not visited[adj_vertex]:\n",
    "        queue.append(adj_vertex)\n",
    "        visited[adj_vertex] = True\n",
    "  return component\n",
    "\n",
    "\n",
    "def find_connected_components(adjacency_list):\n",
    "  visited = {vertex: False for vertex in adjacency_list}\n",
    "  components = []\n",
    "\n",
    "  for vertex in adjacency_list:\n",
    "    if not visited[vertex]:\n",
    "      component = bfs(adjacency_list, vertex, visited)\n",
    "      components.append(component)\n",
    "  return components\n",
    "\n",
    "\n",
    "adjacency_list = {\n",
    "    0: [1, 2],\n",
    "    1: [0, 3],\n",
    "    2: [0],\n",
    "    3: [1, 4],\n",
    "    4: [3],\n",
    "    5: [6],\n",
    "    6: [5]\n",
    "}\n",
    "\n",
    "find_connected_components(adjacency_list)"
   ]
  },
  {
   "cell_type": "markdown",
   "metadata": {},
   "source": [
    "# Pre and Post Numbering Using DFS"
   ]
  },
  {
   "cell_type": "code",
   "execution_count": 17,
   "metadata": {},
   "outputs": [
    {
     "data": {
      "text/plain": [
       "({0: -1, 1: -1, 2: -1, 3: -1, 4: -1}, {0: -1, 1: -1, 2: -1, 3: -1, 4: -1})"
      ]
     },
     "execution_count": 17,
     "metadata": {},
     "output_type": "execute_result"
    }
   ],
   "source": [
    "def pre_post_numbering(adjacency_list):\n",
    "  visited = {vertex: False for vertex in adjacency_list}\n",
    "  pre = {vertex: -1 for vertex in adjacency_list}\n",
    "  post = {vertex: -1 for vertex in adjacency_list}\n",
    "  counter = 0\n",
    "\n",
    "  def dfs(curr_vertex):\n",
    "    visited[curr_vertex] = True\n",
    "    for adj_vertex in adjacency_list[curr_vertex]:\n",
    "      if not visited[adj_vertex]:\n",
    "        dfs(adj_vertex)\n",
    "\n",
    "  for vertex in adjacency_list:\n",
    "    if not visited[vertex]:\n",
    "      dfs(vertex)\n",
    "\n",
    "  return pre, post\n",
    "\n",
    "\n",
    "adjacency_list = {\n",
    "    0: [1, 2],\n",
    "    1: [0, 3, 4],\n",
    "    2: [0],\n",
    "    3: [1],\n",
    "    4: [1]\n",
    "}\n",
    "\n",
    "#     0\n",
    "#    / \\\n",
    "#   1   2\n",
    "#  / \\\n",
    "# 3   4\n",
    "\n",
    "pre_post_numbering(adjacency_list)"
   ]
  }
 ],
 "metadata": {
  "kernelspec": {
   "display_name": "Python 3",
   "language": "python",
   "name": "python3"
  },
  "language_info": {
   "codemirror_mode": {
    "name": "ipython",
    "version": 3
   },
   "file_extension": ".py",
   "mimetype": "text/x-python",
   "name": "python",
   "nbconvert_exporter": "python",
   "pygments_lexer": "ipython3",
   "version": "3.12.0"
  }
 },
 "nbformat": 4,
 "nbformat_minor": 2
}
