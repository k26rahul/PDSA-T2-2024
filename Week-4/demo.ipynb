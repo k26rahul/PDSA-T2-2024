{
 "cells": [
  {
   "cell_type": "markdown",
   "metadata": {},
   "source": [
    "# Graph Representation in data structure"
   ]
  },
  {
   "cell_type": "markdown",
   "metadata": {},
   "source": [
    "# For unweighted directed graph"
   ]
  },
  {
   "cell_type": "markdown",
   "metadata": {},
   "source": [
    "## Adjacency matrix representation:"
   ]
  },
  {
   "cell_type": "code",
   "execution_count": 40,
   "metadata": {},
   "outputs": [],
   "source": [
    "import numpy as np"
   ]
  },
  {
   "cell_type": "code",
   "execution_count": 41,
   "metadata": {},
   "outputs": [
    {
     "data": {
      "text/plain": [
       "0"
      ]
     },
     "execution_count": 41,
     "metadata": {},
     "output_type": "execute_result"
    },
    {
     "data": {
      "text/plain": [
       "0.0"
      ]
     },
     "execution_count": 41,
     "metadata": {},
     "output_type": "execute_result"
    },
    {
     "data": {
      "text/plain": [
       "True"
      ]
     },
     "execution_count": 41,
     "metadata": {},
     "output_type": "execute_result"
    }
   ],
   "source": [
    "0  # int\n",
    "0.  # float\n",
    "0 == 0."
   ]
  },
  {
   "cell_type": "code",
   "execution_count": 42,
   "metadata": {},
   "outputs": [
    {
     "data": {
      "text/plain": [
       "[[0.0]]"
      ]
     },
     "execution_count": 42,
     "metadata": {},
     "output_type": "execute_result"
    }
   ],
   "source": [
    "[[0.]]"
   ]
  },
  {
   "cell_type": "code",
   "execution_count": 43,
   "metadata": {},
   "outputs": [
    {
     "data": {
      "text/plain": [
       "array([[0., 0., 0., 0., 0.],\n",
       "       [0., 0., 0., 0., 0.],\n",
       "       [0., 0., 0., 0., 0.],\n",
       "       [0., 0., 0., 0., 0.],\n",
       "       [0., 0., 0., 0., 0.]])"
      ]
     },
     "execution_count": 43,
     "metadata": {},
     "output_type": "execute_result"
    }
   ],
   "source": [
    "np.zeros(shape=(5, 5))  # shape=(rows, cols)"
   ]
  },
  {
   "cell_type": "code",
   "execution_count": 44,
   "metadata": {},
   "outputs": [],
   "source": [
    "V = [0, 1, 2, 3, 4]\n",
    "E = [(0, 1), (0, 2), (1, 3), (1, 4), (2, 4), (2, 3), (3, 4)]"
   ]
  },
  {
   "cell_type": "markdown",
   "metadata": {},
   "source": [
    "### Using NumPy 2d array"
   ]
  },
  {
   "cell_type": "code",
   "execution_count": 45,
   "metadata": {},
   "outputs": [
    {
     "data": {
      "text/plain": [
       "array([[0., 1., 1., 0., 0.],\n",
       "       [0., 0., 0., 1., 1.],\n",
       "       [0., 0., 0., 1., 1.],\n",
       "       [0., 0., 0., 0., 1.],\n",
       "       [0., 0., 0., 0., 0.]])"
      ]
     },
     "execution_count": 45,
     "metadata": {},
     "output_type": "execute_result"
    }
   ],
   "source": [
    "size = len(V)\n",
    "adjacency_matrix = np.zeros(shape=(size, size))  # skeleton [using numpy array]\n",
    "\n",
    "for (i, j) in E:\n",
    "  adjacency_matrix[i, j] = 1\n",
    "\n",
    "adjacency_matrix"
   ]
  },
  {
   "cell_type": "markdown",
   "metadata": {},
   "source": [
    "### Using Python nested list"
   ]
  },
  {
   "cell_type": "code",
   "execution_count": 46,
   "metadata": {},
   "outputs": [
    {
     "data": {
      "text/plain": [
       "[[0, 1, 1, 0, 0],\n",
       " [0, 0, 0, 1, 1],\n",
       " [0, 0, 0, 1, 1],\n",
       " [0, 0, 0, 0, 1],\n",
       " [0, 0, 0, 0, 0]]"
      ]
     },
     "execution_count": 46,
     "metadata": {},
     "output_type": "execute_result"
    }
   ],
   "source": [
    "size = len(V)\n",
    "adjacency_matrix = [[0 for j in range(size)] for i in range(size)]  # skeleton [using py 2d list]\n",
    "\n",
    "for (i, j) in E:\n",
    "  adjacency_matrix[i][j] = 1\n",
    "\n",
    "adjacency_matrix"
   ]
  },
  {
   "cell_type": "markdown",
   "metadata": {},
   "source": [
    "## Adjacency list representation:"
   ]
  },
  {
   "cell_type": "code",
   "execution_count": 47,
   "metadata": {},
   "outputs": [],
   "source": [
    "V = [0, 1, 2, 3, 4]\n",
    "E = [(0, 1), (0, 2), (1, 3), (1, 4), (2, 4), (2, 3), (3, 4)]"
   ]
  },
  {
   "cell_type": "code",
   "execution_count": 48,
   "metadata": {},
   "outputs": [
    {
     "data": {
      "text/plain": [
       "{0: [1, 2], 1: [3, 4], 2: [4, 3], 3: [4], 4: []}"
      ]
     },
     "execution_count": 48,
     "metadata": {},
     "output_type": "execute_result"
    }
   ],
   "source": [
    "adjacency_list = {}\n",
    "size = len(V)\n",
    "\n",
    "for i in range(size):\n",
    "  adjacency_list[i] = []\n",
    "\n",
    "for (i, j) in E:\n",
    "  adjacency_list[i].append(j)\n",
    "\n",
    "adjacency_list"
   ]
  },
  {
   "cell_type": "markdown",
   "metadata": {},
   "source": [
    "# For unweighted undirected graph"
   ]
  },
  {
   "cell_type": "code",
   "execution_count": 49,
   "metadata": {},
   "outputs": [],
   "source": [
    "V = [0, 1, 2, 3, 4]\n",
    "E = [(0, 1), (0, 2), (1, 3), (1, 4), (2, 4), (2, 3), (3, 4)]  # original edges\n",
    "UE = E + [(j, i) for (i, j) in E]  # original + reversed (UE: undirected edges)"
   ]
  },
  {
   "cell_type": "code",
   "execution_count": 50,
   "metadata": {},
   "outputs": [
    {
     "data": {
      "text/plain": [
       "[(0, 1), (0, 2), (1, 3), (1, 4), (2, 4), (2, 3), (3, 4)]"
      ]
     },
     "execution_count": 50,
     "metadata": {},
     "output_type": "execute_result"
    },
    {
     "data": {
      "text/plain": [
       "[(1, 0), (2, 0), (3, 1), (4, 1), (4, 2), (3, 2), (4, 3)]"
      ]
     },
     "execution_count": 50,
     "metadata": {},
     "output_type": "execute_result"
    },
    {
     "name": "stdout",
     "output_type": "stream",
     "text": [
      "[(0, 1), (0, 2), (1, 3), (1, 4), (2, 4), (2, 3), (3, 4), (1, 0), (2, 0), (3, 1), (4, 1), (4, 2), (3, 2), (4, 3)]\n"
     ]
    }
   ],
   "source": [
    "E  # original edges\n",
    "[(j, i) for (i, j) in E]  # reversed edges\n",
    "\n",
    "print(E + [(j, i) for (i, j) in E])  # original + reversed"
   ]
  },
  {
   "cell_type": "code",
   "execution_count": 51,
   "metadata": {},
   "outputs": [
    {
     "data": {
      "text/plain": [
       "{0: [1, 2], 1: [3, 4, 0], 2: [4, 3, 0], 3: [4, 1, 2], 4: [1, 2, 3]}"
      ]
     },
     "execution_count": 51,
     "metadata": {},
     "output_type": "execute_result"
    }
   ],
   "source": [
    "adjacency_list = {}\n",
    "size = len(V)\n",
    "\n",
    "for i in range(size):\n",
    "  adjacency_list[i] = []\n",
    "for (i, j) in UE:\n",
    "  adjacency_list[i].append(j)\n",
    "\n",
    "adjacency_list"
   ]
  },
  {
   "cell_type": "code",
   "execution_count": 52,
   "metadata": {},
   "outputs": [
    {
     "data": {
      "text/plain": [
       "array([[0., 1., 1., 0., 0.],\n",
       "       [1., 0., 0., 1., 1.],\n",
       "       [1., 0., 0., 1., 1.],\n",
       "       [0., 1., 1., 0., 1.],\n",
       "       [0., 1., 1., 1., 0.]])"
      ]
     },
     "execution_count": 52,
     "metadata": {},
     "output_type": "execute_result"
    }
   ],
   "source": [
    "size = len(V)\n",
    "adjacency_matrix = np.zeros(shape=(size, size))\n",
    "\n",
    "for (i, j) in UE:\n",
    "  adjacency_matrix[i, j] = 1\n",
    "\n",
    "adjacency_matrix"
   ]
  },
  {
   "cell_type": "code",
   "execution_count": 53,
   "metadata": {},
   "outputs": [
    {
     "data": {
      "text/plain": [
       "[[0, 1, 1, 0, 0],\n",
       " [1, 0, 0, 1, 1],\n",
       " [1, 0, 0, 1, 1],\n",
       " [0, 1, 1, 0, 1],\n",
       " [0, 1, 1, 1, 0]]"
      ]
     },
     "execution_count": 53,
     "metadata": {},
     "output_type": "execute_result"
    }
   ],
   "source": [
    "size = len(V)\n",
    "adjacency_matrix = [[0 for j in range(size)] for i in range(size)]  # skeleton\n",
    "\n",
    "for (i, j) in UE:\n",
    "  adjacency_matrix[i][j] = 1\n",
    "\n",
    "adjacency_matrix"
   ]
  },
  {
   "cell_type": "markdown",
   "metadata": {},
   "source": [
    "# Breadth First Search(BFS) "
   ]
  },
  {
   "cell_type": "code",
   "execution_count": 54,
   "metadata": {},
   "outputs": [
    {
     "name": "stdout",
     "output_type": "stream",
     "text": [
      "10\n",
      "20\n",
      "30\n",
      "40\n",
      "[]\n"
     ]
    }
   ],
   "source": [
    "class Queue:\n",
    "  def __init__(self):\n",
    "    self.data = []\n",
    "\n",
    "  def is_empty(self):\n",
    "    return len(self.data) == 0\n",
    "\n",
    "  def enqueue(self, value):\n",
    "    self.data.append(value)\n",
    "\n",
    "  def dequeue(self):\n",
    "    if self.is_empty():\n",
    "      raise Exception('queue is empty')\n",
    "    return self.data.pop(0)\n",
    "\n",
    "  def __str__(self):\n",
    "    return str(self.data)\n",
    "\n",
    "\n",
    "queue = Queue()\n",
    "queue.enqueue(10)\n",
    "queue.enqueue(20)\n",
    "queue.enqueue(30)\n",
    "\n",
    "print(queue.dequeue())\n",
    "print(queue.dequeue())\n",
    "queue.enqueue(40)\n",
    "print(queue.dequeue())\n",
    "print(queue.dequeue())\n",
    "print(queue)"
   ]
  },
  {
   "cell_type": "markdown",
   "metadata": {},
   "source": [
    "## Implementation BFS for adjacency list"
   ]
  },
  {
   "cell_type": "code",
   "execution_count": 55,
   "metadata": {},
   "outputs": [
    {
     "data": {
      "text/plain": [
       "{0: True, 1: True, 2: True, 3: True, 4: True}"
      ]
     },
     "execution_count": 55,
     "metadata": {},
     "output_type": "execute_result"
    }
   ],
   "source": [
    "def bfs_adjacency_list(adjacency_list, start_vertex):\n",
    "  visited = {}\n",
    "  for vertex in adjacency_list:\n",
    "    visited[vertex] = False\n",
    "  # print(f'{visited=}')\n",
    "\n",
    "  queue = Queue()\n",
    "  queue.enqueue(start_vertex)\n",
    "  visited[start_vertex] = True\n",
    "\n",
    "  while not queue.is_empty():\n",
    "    curr_vertex = queue.dequeue()\n",
    "    neighbors = adjacency_list[curr_vertex]\n",
    "    for adj_vertex in neighbors:\n",
    "      if visited[adj_vertex]:\n",
    "        continue\n",
    "      queue.enqueue(adj_vertex)\n",
    "      visited[adj_vertex] = True\n",
    "\n",
    "  return visited\n",
    "\n",
    "\n",
    "adjacency_list = {0: [1, 2], 1: [3, 4], 2: [4, 3], 3: [4], 4: []}\n",
    "bfs_adjacency_list(adjacency_list, 0)"
   ]
  },
  {
   "cell_type": "markdown",
   "metadata": {},
   "source": [
    "## Implementation BFS for adjacency matrix"
   ]
  },
  {
   "cell_type": "code",
   "execution_count": 56,
   "metadata": {},
   "outputs": [
    {
     "data": {
      "text/plain": [
       "array([[0., 1., 1., 0., 0.],\n",
       "       [0., 0., 0., 1., 1.],\n",
       "       [0., 0., 0., 1., 1.],\n",
       "       [0., 0., 0., 0., 1.],\n",
       "       [0., 0., 0., 0., 0.]])"
      ]
     },
     "execution_count": 56,
     "metadata": {},
     "output_type": "execute_result"
    }
   ],
   "source": [
    "V = [0, 1, 2, 3, 4]\n",
    "E = [(0, 1), (0, 2), (1, 3), (1, 4), (2, 4), (2, 3), (3, 4)]\n",
    "size = len(V)\n",
    "adjacency_matrix = np.zeros(shape=(size, size))\n",
    "\n",
    "for (i, j) in E:\n",
    "  adjacency_matrix[i, j] = 1\n",
    "\n",
    "# rows, cols = adjacency_matrix.shape\n",
    "# print(rows, cols)\n",
    "adjacency_matrix"
   ]
  },
  {
   "cell_type": "code",
   "execution_count": 57,
   "metadata": {},
   "outputs": [
    {
     "data": {
      "text/plain": [
       "[1, 2]"
      ]
     },
     "execution_count": 57,
     "metadata": {},
     "output_type": "execute_result"
    }
   ],
   "source": [
    "def get_neighbors(adjacency_matrix, vertex):\n",
    "  neighbors = []\n",
    "  rows, cols = adjacency_matrix.shape\n",
    "  for j in range(cols):\n",
    "    if adjacency_matrix[vertex, j] == 1:\n",
    "      neighbors.append(j)\n",
    "  return neighbors\n",
    "\n",
    "\n",
    "get_neighbors(adjacency_matrix, 0)"
   ]
  },
  {
   "cell_type": "code",
   "execution_count": 58,
   "metadata": {},
   "outputs": [
    {
     "data": {
      "text/plain": [
       "{0: True, 1: True, 2: True, 3: True, 4: True}"
      ]
     },
     "execution_count": 58,
     "metadata": {},
     "output_type": "execute_result"
    }
   ],
   "source": [
    "def bfs_adjacency_matrix(adjacency_matrix, start_vertex):\n",
    "  visited = {}\n",
    "  rows, cols = adjacency_matrix.shape\n",
    "  for i in range(rows):\n",
    "    visited[i] = False\n",
    "  # print(f'{visited=}')\n",
    "\n",
    "  queue = Queue()\n",
    "  queue.enqueue(start_vertex)\n",
    "  visited[start_vertex] = True\n",
    "\n",
    "  while not queue.is_empty():\n",
    "    curr_vertex = queue.dequeue()\n",
    "    neighbors = get_neighbors(adjacency_matrix, curr_vertex)\n",
    "    for adj_vertex in neighbors:\n",
    "      if visited[adj_vertex]:\n",
    "        continue\n",
    "      queue.enqueue(adj_vertex)\n",
    "      visited[adj_vertex] = True\n",
    "\n",
    "  return visited\n",
    "\n",
    "\n",
    "bfs_adjacency_matrix(adjacency_matrix, 0)"
   ]
  },
  {
   "cell_type": "markdown",
   "metadata": {},
   "source": [
    "## Find [traversal order] using BFS"
   ]
  },
  {
   "cell_type": "code",
   "execution_count": 59,
   "metadata": {},
   "outputs": [
    {
     "data": {
      "text/plain": [
       "({0: True, 1: True, 2: True, 3: True, 4: True}, [0, 1, 2, 3, 4])"
      ]
     },
     "execution_count": 59,
     "metadata": {},
     "output_type": "execute_result"
    }
   ],
   "source": [
    "def bfs_traversal_order(adjacency_list, start_vertex):\n",
    "  visited = {}\n",
    "  for vertex in adjacency_list:\n",
    "    visited[vertex] = False\n",
    "\n",
    "  queue = Queue()\n",
    "  queue.enqueue(start_vertex)\n",
    "  visited[start_vertex] = True\n",
    "  traversal_order = [start_vertex]\n",
    "\n",
    "  while not queue.is_empty():\n",
    "    curr_vertex = queue.dequeue()\n",
    "    neighbors = adjacency_list[curr_vertex]\n",
    "    for adj_vertex in neighbors:\n",
    "      if visited[adj_vertex]:\n",
    "        continue\n",
    "      queue.enqueue(adj_vertex)\n",
    "      visited[adj_vertex] = True\n",
    "      traversal_order.append(adj_vertex)\n",
    "      # print(f'{adj_vertex=}')\n",
    "\n",
    "  return (visited, traversal_order)\n",
    "\n",
    "\n",
    "adjacency_list = {0: [1, 2], 1: [3, 4], 2: [4, 3], 3: [4], 4: []}\n",
    "bfs_traversal_order(adjacency_list, 0)"
   ]
  },
  {
   "cell_type": "markdown",
   "metadata": {},
   "source": [
    "## Find parent of each vertex using BFS"
   ]
  },
  {
   "cell_type": "code",
   "execution_count": 60,
   "metadata": {},
   "outputs": [
    {
     "data": {
      "text/plain": [
       "({0: True, 1: True, 2: True, 3: True, 4: True},\n",
       " {0: -1, 1: 0, 2: 0, 3: 1, 4: 1})"
      ]
     },
     "execution_count": 60,
     "metadata": {},
     "output_type": "execute_result"
    }
   ],
   "source": [
    "def bfs_parent(adjacency_list, start_vertex):\n",
    "  visited = {}\n",
    "  parent = {}\n",
    "  for vertex in adjacency_list:\n",
    "    visited[vertex] = False\n",
    "    parent[vertex] = -1\n",
    "  # print(f'{visited=}, {parent=}')\n",
    "\n",
    "  queue = Queue()\n",
    "  queue.enqueue(start_vertex)\n",
    "  visited[start_vertex] = True\n",
    "\n",
    "  while not queue.is_empty():\n",
    "    curr_vertex = queue.dequeue()\n",
    "    neighbors = adjacency_list[curr_vertex]\n",
    "    for adj_vertex in neighbors:\n",
    "      if visited[adj_vertex]:\n",
    "        continue\n",
    "      queue.enqueue(adj_vertex)\n",
    "      visited[adj_vertex] = True\n",
    "      parent[adj_vertex] = curr_vertex\n",
    "      # print(f'{adj_vertex=}, {curr_vertex=}')\n",
    "\n",
    "  return (visited, parent)\n",
    "\n",
    "\n",
    "adjacency_list = {0: [1, 2], 1: [3, 4], 2: [4, 3], 3: [4], 4: []}\n",
    "bfs_parent(adjacency_list, 0)"
   ]
  },
  {
   "cell_type": "markdown",
   "metadata": {},
   "source": [
    "## Find level number of vertices using BFS"
   ]
  },
  {
   "cell_type": "code",
   "execution_count": 61,
   "metadata": {},
   "outputs": [
    {
     "data": {
      "text/plain": [
       "({0: -1, 1: 0, 2: 0, 3: 1, 4: 1}, {0: 0, 1: 1, 2: 1, 3: 2, 4: 2})"
      ]
     },
     "execution_count": 61,
     "metadata": {},
     "output_type": "execute_result"
    }
   ],
   "source": [
    "def bfs_level(adjacency_list, start_vertex):\n",
    "  parent = {}\n",
    "  level = {}\n",
    "  for vertex in adjacency_list:\n",
    "    parent[vertex] = -1\n",
    "    level[vertex] = -1\n",
    "\n",
    "  queue = Queue()\n",
    "  queue.enqueue(start_vertex)\n",
    "  level[start_vertex] = 0\n",
    "\n",
    "  while not queue.is_empty():\n",
    "    curr_vertex = queue.dequeue()\n",
    "    neighbors = adjacency_list[curr_vertex]\n",
    "    for adj_vertex in neighbors:\n",
    "      if level[adj_vertex] == -1:\n",
    "        queue.enqueue(adj_vertex)\n",
    "        parent[adj_vertex] = curr_vertex\n",
    "        level[adj_vertex] = level[curr_vertex]+1\n",
    "\n",
    "  return (parent, level)\n",
    "\n",
    "\n",
    "adjacency_list = {0: [1, 2], 1: [3, 4], 2: [4, 3], 3: [4], 4: []}\n",
    "bfs_level(adjacency_list, 0)"
   ]
  },
  {
   "cell_type": "markdown",
   "metadata": {},
   "source": [
    "# Depth First Search(DFS)"
   ]
  },
  {
   "cell_type": "markdown",
   "metadata": {},
   "source": [
    "## Implementation of DFS for adjacency list"
   ]
  },
  {
   "cell_type": "markdown",
   "metadata": {},
   "source": [
    "### DFS for adjacency list [using Stack]"
   ]
  },
  {
   "cell_type": "code",
   "execution_count": 62,
   "metadata": {},
   "outputs": [
    {
     "name": "stdout",
     "output_type": "stream",
     "text": [
      "30\n",
      "20\n",
      "40\n",
      "[10]\n"
     ]
    }
   ],
   "source": [
    "class Stack:\n",
    "  def __init__(self):\n",
    "    self.data = []\n",
    "\n",
    "  def is_empty(self):\n",
    "    return len(self.data) == 0\n",
    "\n",
    "  def push(self, value):\n",
    "    self.data.append(value)\n",
    "\n",
    "  def pop(self):\n",
    "    if self.is_empty():\n",
    "      raise Exception('stack is empty')\n",
    "    return self.data.pop()\n",
    "\n",
    "  def __str__(self):\n",
    "    return str(self.data)\n",
    "\n",
    "\n",
    "stack = Stack()\n",
    "stack.push(10)\n",
    "stack.push(20)\n",
    "stack.push(30)\n",
    "\n",
    "print(stack.pop())\n",
    "print(stack.pop())\n",
    "stack.push(40)\n",
    "print(stack.pop())\n",
    "print(stack)"
   ]
  },
  {
   "cell_type": "code",
   "execution_count": 63,
   "metadata": {},
   "outputs": [],
   "source": [
    "# if num is even -> print its square, if odd then do nothing\n",
    "def print_even_squares(num):\n",
    "  if num % 2 == 1:  # check stop condition [early return]\n",
    "    return\n",
    "  print(num ** 2)\n",
    "\n",
    "  # if num % 2 == 0:  # check ok condition\n",
    "  #   print(num ** 2)\n",
    "\n",
    "\n",
    "print_even_squares(11)"
   ]
  },
  {
   "cell_type": "code",
   "execution_count": 115,
   "metadata": {},
   "outputs": [],
   "source": [
    "# if not visited[curr_vertex]: # check ok condition ✅\n",
    "#     all safe here (inside `if`) ✌️\n",
    "#     visited[curr_vertex] = True\n",
    "#     do step 1\n",
    "#     do step 2\n",
    "\n",
    "# if visited[curr_vertex]: # check stop condition ⚠️\n",
    "#     continue # early return, avoid danger 🤗\n",
    "# all safe here (outside `if`) ✌️\n",
    "# visited[curr_vertex] = True\n",
    "# do step 1\n",
    "# do step 2"
   ]
  },
  {
   "cell_type": "code",
   "execution_count": 65,
   "metadata": {},
   "outputs": [
    {
     "data": {
      "text/plain": [
       "{0: True, 1: True, 2: True, 3: True, 4: True}"
      ]
     },
     "execution_count": 65,
     "metadata": {},
     "output_type": "execute_result"
    }
   ],
   "source": [
    "def dfs_adjacency_list(adjacency_list, start_vertex):\n",
    "  visited = {}\n",
    "  for vertex in adjacency_list:\n",
    "    visited[vertex] = False\n",
    "  # print(f'{visited=}')\n",
    "\n",
    "  stack = Stack()\n",
    "  stack.push(start_vertex)\n",
    "\n",
    "  while not stack.is_empty():\n",
    "    curr_vertex = stack.pop()  # u\n",
    "    if visited[curr_vertex]:\n",
    "      continue  # avoid danger 🤗\n",
    "    visited[curr_vertex] = True\n",
    "\n",
    "    neighbors = adjacency_list[curr_vertex]\n",
    "    for adj_vertex in neighbors:  # v\n",
    "      if not visited[adj_vertex]:\n",
    "        stack.push(adj_vertex)\n",
    "\n",
    "  return visited\n",
    "\n",
    "\n",
    "adjacency_list = {0: [1, 2], 1: [3, 4], 2: [4, 3], 3: [4], 4: []}\n",
    "dfs_adjacency_list(adjacency_list, 0)"
   ]
  },
  {
   "cell_type": "markdown",
   "metadata": {},
   "source": [
    "### DFS for adjacency list [recursive, without stack]"
   ]
  },
  {
   "cell_type": "code",
   "execution_count": 92,
   "metadata": {},
   "outputs": [],
   "source": [
    "def init_dfs_recursive(adjacency_list):\n",
    "  visited = {}\n",
    "  for vertex in adjacency_list:\n",
    "    visited[vertex] = False\n",
    "  return visited"
   ]
  },
  {
   "cell_type": "code",
   "execution_count": 110,
   "metadata": {},
   "outputs": [
    {
     "name": "stdout",
     "output_type": "stream",
     "text": [
      "{0: True, 1: True, 2: True, 3: True, 4: True}\n"
     ]
    }
   ],
   "source": [
    "# using global variable `visited`\n",
    "\n",
    "def dfs_adjacency_list_recursive(adjacency_list, curr_vertex):\n",
    "  visited[curr_vertex] = True  # `visited` is defined outside this function\n",
    "\n",
    "  neighbors = adjacency_list[curr_vertex]\n",
    "  for adj_vertex in neighbors:\n",
    "    if not visited[adj_vertex]:\n",
    "      dfs_adjacency_list_recursive(adjacency_list, adj_vertex)\n",
    "\n",
    "\n",
    "# test code\n",
    "adjacency_list = {0: [1, 2], 1: [3, 4], 2: [4, 3], 3: [4], 4: []}\n",
    "visited = init_dfs_recursive(adjacency_list)  # `visited` is defined here\n",
    "dfs_adjacency_list_recursive(adjacency_list, 0)  # no `visited` parameter\n",
    "print(visited)  # we print `visited` after recursion finishes"
   ]
  },
  {
   "cell_type": "code",
   "execution_count": 112,
   "metadata": {},
   "outputs": [
    {
     "data": {
      "text/plain": [
       "{0: True, 1: True, 2: True, 3: True, 4: True}"
      ]
     },
     "execution_count": 112,
     "metadata": {},
     "output_type": "execute_result"
    }
   ],
   "source": [
    "# using `visited` parameter, NOT using global variable\n",
    "\n",
    "def dfs_adjacency_list_recursive(adjacency_list, curr_vertex, visited):\n",
    "  visited[curr_vertex] = True  # `visited` is taken as a parameter\n",
    "\n",
    "  neighbors = adjacency_list[curr_vertex]\n",
    "  for adj_vertex in neighbors:\n",
    "    if not visited[adj_vertex]:\n",
    "      visited = dfs_adjacency_list_recursive(adjacency_list, adj_vertex, visited)\n",
    "  return visited\n",
    "\n",
    "\n",
    "# test code\n",
    "adjacency_list = {0: [1, 2], 1: [3, 4], 2: [4, 3], 3: [4], 4: []}\n",
    "visited = init_dfs_recursive(adjacency_list)  # `visited` is defined here\n",
    "dfs_adjacency_list_recursive(adjacency_list, 0, visited)  # we give `visited` parameter"
   ]
  },
  {
   "cell_type": "markdown",
   "metadata": {},
   "source": [
    "## Implementation of DFS for adjacency matrix"
   ]
  },
  {
   "cell_type": "markdown",
   "metadata": {},
   "source": [
    "### DFS for adjacency matrix [using Stack]"
   ]
  },
  {
   "cell_type": "code",
   "execution_count": 68,
   "metadata": {},
   "outputs": [],
   "source": [
    "def dfs_adjacency_matrix(adjacency_matrix, start_vertex):\n",
    "  pass\n",
    "\n",
    "\n",
    "dfs_adjacency_matrix(adjacency_matrix, 0)"
   ]
  }
 ],
 "metadata": {
  "kernelspec": {
   "display_name": "Python 3",
   "language": "python",
   "name": "python3"
  },
  "language_info": {
   "codemirror_mode": {
    "name": "ipython",
    "version": 3
   },
   "file_extension": ".py",
   "mimetype": "text/x-python",
   "name": "python",
   "nbconvert_exporter": "python",
   "pygments_lexer": "ipython3",
   "version": "3.12.0"
  }
 },
 "nbformat": 4,
 "nbformat_minor": 2
}
