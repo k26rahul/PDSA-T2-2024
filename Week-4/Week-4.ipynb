{
 "cells": [
  {
   "cell_type": "markdown",
   "metadata": {},
   "source": [
    "# Graph Representation in data structure"
   ]
  },
  {
   "cell_type": "markdown",
   "metadata": {},
   "source": [
    "## For unweighted directed graph"
   ]
  },
  {
   "cell_type": "code",
   "execution_count": 1,
   "metadata": {},
   "outputs": [],
   "source": [
    "import numpy as np"
   ]
  },
  {
   "cell_type": "code",
   "execution_count": 2,
   "metadata": {},
   "outputs": [],
   "source": [
    "V = [0, 1, 2, 3, 4]\n",
    "E = [(0, 1), (0, 2), (1, 3), (1, 4), (2, 4), (2, 3), (3, 4)]"
   ]
  },
  {
   "cell_type": "code",
   "execution_count": 20,
   "metadata": {},
   "outputs": [
    {
     "data": {
      "text/plain": [
       "array([[0., 0., 0., 0., 0.],\n",
       "       [0., 0., 0., 0., 0.],\n",
       "       [0., 0., 0., 0., 0.],\n",
       "       [0., 0., 0., 0., 0.],\n",
       "       [0., 0., 0., 0., 0.]])"
      ]
     },
     "execution_count": 20,
     "metadata": {},
     "output_type": "execute_result"
    }
   ],
   "source": [
    "size = len(V)\n",
    "adjacency_matrix = np.zeros(shape=(size, size))\n",
    "\n",
    "adjacency_matrix  # skeleton matrix"
   ]
  },
  {
   "cell_type": "code",
   "execution_count": 21,
   "metadata": {},
   "outputs": [
    {
     "data": {
      "text/plain": [
       "[[0, 0, 0, 0, 0],\n",
       " [0, 0, 0, 0, 0],\n",
       " [0, 0, 0, 0, 0],\n",
       " [0, 0, 0, 0, 0],\n",
       " [0, 0, 0, 0, 0]]"
      ]
     },
     "execution_count": 21,
     "metadata": {},
     "output_type": "execute_result"
    }
   ],
   "source": [
    "size = len(V)\n",
    "adjacency_matrix = [[0 for _ in range(size)] for _ in range(size)]\n",
    "\n",
    "adjacency_matrix  # skeleton matrix"
   ]
  },
  {
   "cell_type": "markdown",
   "metadata": {},
   "source": [
    "### adjacency_matrix: np array"
   ]
  },
  {
   "cell_type": "code",
   "execution_count": 14,
   "metadata": {},
   "outputs": [
    {
     "data": {
      "text/plain": [
       "array([[0., 1., 1., 0., 0.],\n",
       "       [0., 0., 0., 1., 1.],\n",
       "       [0., 0., 0., 1., 1.],\n",
       "       [0., 0., 0., 0., 1.],\n",
       "       [0., 0., 0., 0., 0.]])"
      ]
     },
     "execution_count": 14,
     "metadata": {},
     "output_type": "execute_result"
    }
   ],
   "source": [
    "size = len(V)\n",
    "adjacency_matrix = np.zeros(shape=(size, size))\n",
    "\n",
    "for (i, j) in E:\n",
    "  adjacency_matrix[i, j] = 1\n",
    "\n",
    "adjacency_matrix"
   ]
  },
  {
   "cell_type": "markdown",
   "metadata": {},
   "source": [
    "### adjacency_matrix: python nested list"
   ]
  },
  {
   "cell_type": "code",
   "execution_count": 19,
   "metadata": {},
   "outputs": [
    {
     "data": {
      "text/plain": [
       "[[0, 1, 1, 0, 0],\n",
       " [0, 0, 0, 1, 1],\n",
       " [0, 0, 0, 1, 1],\n",
       " [0, 0, 0, 0, 1],\n",
       " [0, 0, 0, 0, 0]]"
      ]
     },
     "execution_count": 19,
     "metadata": {},
     "output_type": "execute_result"
    }
   ],
   "source": [
    "size = len(V)\n",
    "adjacency_matrix = [[0 for _ in range(size)] for _ in range(size)]\n",
    "\n",
    "for (i, j) in E:\n",
    "  adjacency_matrix[i][j] = 1\n",
    "\n",
    "adjacency_matrix"
   ]
  },
  {
   "cell_type": "markdown",
   "metadata": {},
   "source": [
    "### adjacency_list: python dictionary"
   ]
  },
  {
   "cell_type": "code",
   "execution_count": 22,
   "metadata": {},
   "outputs": [
    {
     "data": {
      "text/plain": [
       "{0: [], 1: [], 2: [], 3: [], 4: []}"
      ]
     },
     "execution_count": 22,
     "metadata": {},
     "output_type": "execute_result"
    }
   ],
   "source": [
    "size = len(V)\n",
    "adjacency_list = {}\n",
    "\n",
    "for i in range(size):\n",
    "  adjacency_list[i] = []\n",
    "\n",
    "adjacency_list"
   ]
  },
  {
   "cell_type": "code",
   "execution_count": 23,
   "metadata": {},
   "outputs": [
    {
     "data": {
      "text/plain": [
       "{0: [1, 2], 1: [3, 4], 2: [4, 3], 3: [4], 4: []}"
      ]
     },
     "execution_count": 23,
     "metadata": {},
     "output_type": "execute_result"
    }
   ],
   "source": [
    "size = len(V)\n",
    "adjacency_list = {}\n",
    "\n",
    "for i in range(size):\n",
    "  adjacency_list[i] = []\n",
    "for (i, j) in E:\n",
    "  adjacency_list[i].append(j)\n",
    "\n",
    "adjacency_list"
   ]
  },
  {
   "cell_type": "code",
   "execution_count": 28,
   "metadata": {},
   "outputs": [
    {
     "data": {
      "text/plain": [
       "{0: [1, 2], 1: [3, 4], 2: [4, 3], 3: [4]}"
      ]
     },
     "execution_count": 28,
     "metadata": {},
     "output_type": "execute_result"
    }
   ],
   "source": [
    "size = len(V)\n",
    "adjacency_list = {}\n",
    "\n",
    "for (i, j) in E:\n",
    "  if i not in adjacency_list:\n",
    "    adjacency_list[i] = []\n",
    "  adjacency_list[i].append(j)\n",
    "\n",
    "adjacency_list"
   ]
  },
  {
   "cell_type": "markdown",
   "metadata": {},
   "source": [
    "## For unweighted undirected graph"
   ]
  },
  {
   "cell_type": "code",
   "execution_count": 35,
   "metadata": {},
   "outputs": [
    {
     "name": "stdout",
     "output_type": "stream",
     "text": [
      "[(0, 1), (0, 2), (1, 3), (1, 4), (2, 4), (2, 3), (3, 4)]\n",
      "[(1, 0), (2, 0), (3, 1), (4, 1), (4, 2), (3, 2), (4, 3)]\n"
     ]
    }
   ],
   "source": [
    "V = [0, 1, 2, 3, 4]\n",
    "E = [(0, 1), (0, 2), (1, 3), (1, 4), (2, 4), (2, 3), (3, 4)]\n",
    "\n",
    "print(E)  # original edges\n",
    "print([(j, i) for (i, j) in E])  # reversed edges"
   ]
  },
  {
   "cell_type": "code",
   "execution_count": 38,
   "metadata": {},
   "outputs": [
    {
     "name": "stdout",
     "output_type": "stream",
     "text": [
      "[(0, 1), (0, 2), (1, 3), (1, 4), (2, 4), (2, 3), (3, 4), (1, 0), (2, 0), (3, 1), (4, 1), (4, 2), (3, 2), (4, 3)]\n"
     ]
    }
   ],
   "source": [
    "UE = E + [(j, i) for (i, j) in E]  # original + reversed\n",
    "print(UE)"
   ]
  },
  {
   "cell_type": "markdown",
   "metadata": {},
   "source": [
    "# Breadth First Search(BFS) "
   ]
  },
  {
   "cell_type": "code",
   "execution_count": 51,
   "metadata": {},
   "outputs": [
    {
     "name": "stdout",
     "output_type": "stream",
     "text": [
      "10\n",
      "20\n",
      "30\n",
      "[40]\n"
     ]
    }
   ],
   "source": [
    "class Queue:\n",
    "  def __init__(self):\n",
    "    self.data = []\n",
    "\n",
    "  def is_empty(self):\n",
    "    return len(self.data) == 0\n",
    "\n",
    "  def enqueue(self, value):\n",
    "    self.data.append(value)\n",
    "\n",
    "  def dequeue(self):\n",
    "    if self.is_empty():\n",
    "      return\n",
    "    return self.data.pop(0)\n",
    "\n",
    "  def __str__(self):\n",
    "    return str(self.data)\n",
    "\n",
    "\n",
    "queue = Queue()\n",
    "queue.enqueue(10)\n",
    "queue.enqueue(20)\n",
    "queue.enqueue(30)\n",
    "print(queue.dequeue())\n",
    "print(queue.dequeue())\n",
    "queue.enqueue(40)\n",
    "print(queue.dequeue())\n",
    "\n",
    "print(queue)"
   ]
  },
  {
   "cell_type": "markdown",
   "metadata": {},
   "source": [
    "## Implementation BFS for adjacency list"
   ]
  },
  {
   "cell_type": "code",
   "execution_count": 63,
   "metadata": {},
   "outputs": [
    {
     "data": {
      "text/plain": [
       "{0: True, 1: True, 2: True, 3: True, 4: True}"
      ]
     },
     "execution_count": 63,
     "metadata": {},
     "output_type": "execute_result"
    }
   ],
   "source": [
    "def bfs_adjacency_list(adjacency_list, start_vertex):\n",
    "  visited = {}\n",
    "  for vertex in adjacency_list:\n",
    "    visited[vertex] = False\n",
    "  # print(f'{visited=}')\n",
    "\n",
    "  queue = Queue()\n",
    "  queue.enqueue(start_vertex)\n",
    "  visited[start_vertex] = True\n",
    "\n",
    "  while not queue.is_empty():\n",
    "    curr_vertex = queue.dequeue()\n",
    "    neighbors = adjacency_list[curr_vertex]\n",
    "    for adj_vertex in neighbors:\n",
    "      if visited[adj_vertex]:\n",
    "        continue\n",
    "      queue.enqueue(adj_vertex)\n",
    "      visited[adj_vertex] = True\n",
    "\n",
    "  return visited\n",
    "\n",
    "\n",
    "adjacency_list = {0: [1, 2], 1: [3, 4], 2: [4, 3], 3: [4], 4: []}\n",
    "bfs_adjacency_list(adjacency_list, 0)"
   ]
  },
  {
   "cell_type": "markdown",
   "metadata": {},
   "source": [
    "## Implementation BFS for adjacency matrix"
   ]
  },
  {
   "cell_type": "code",
   "execution_count": 77,
   "metadata": {},
   "outputs": [
    {
     "data": {
      "text/plain": [
       "array([[0., 1., 1., 0., 0.],\n",
       "       [0., 0., 0., 1., 1.],\n",
       "       [0., 0., 0., 1., 1.],\n",
       "       [0., 0., 0., 0., 1.],\n",
       "       [0., 0., 0., 0., 0.]])"
      ]
     },
     "execution_count": 77,
     "metadata": {},
     "output_type": "execute_result"
    }
   ],
   "source": [
    "V = [0, 1, 2, 3, 4]\n",
    "E = [(0, 1), (0, 2), (1, 3), (1, 4), (2, 4), (2, 3), (3, 4)]\n",
    "\n",
    "size = len(V)\n",
    "adjacency_matrix = np.zeros(shape=(size, size))\n",
    "for (i, j) in E:\n",
    "  adjacency_matrix[i, j] = 1\n",
    "\n",
    "adjacency_matrix"
   ]
  },
  {
   "cell_type": "code",
   "execution_count": 87,
   "metadata": {},
   "outputs": [
    {
     "data": {
      "text/plain": [
       "[1, 2]"
      ]
     },
     "execution_count": 87,
     "metadata": {},
     "output_type": "execute_result"
    }
   ],
   "source": [
    "def get_neighbors(adjacency_matrix, vertex):\n",
    "  rows, cols = adjacency_matrix.shape\n",
    "  neighbors = []\n",
    "  for j in range(cols):\n",
    "    if adjacency_matrix[vertex, j] == 1:\n",
    "      neighbors.append(j)\n",
    "  return neighbors\n",
    "\n",
    "\n",
    "get_neighbors(adjacency_matrix, 0)"
   ]
  },
  {
   "cell_type": "code",
   "execution_count": 92,
   "metadata": {},
   "outputs": [
    {
     "data": {
      "text/plain": [
       "{0: True, 1: True, 2: True, 3: True, 4: True}"
      ]
     },
     "execution_count": 92,
     "metadata": {},
     "output_type": "execute_result"
    }
   ],
   "source": [
    "def bfs_adjacency_matrix(adjacency_matrix, start_vertex):\n",
    "  rows, cols = adjacency_matrix.shape\n",
    "  visited = {}\n",
    "  for i in range(rows):\n",
    "    visited[i] = False\n",
    "  # print(f'{visited=}')\n",
    "\n",
    "  queue = Queue()\n",
    "  queue.enqueue(start_vertex)\n",
    "  visited[start_vertex] = True\n",
    "\n",
    "  while not queue.is_empty():\n",
    "    curr_vertex = queue.dequeue()\n",
    "    neighbors = get_neighbors(adjacency_matrix, curr_vertex)\n",
    "    for adj_vertex in neighbors:\n",
    "      if visited[adj_vertex]:\n",
    "        continue\n",
    "      queue.enqueue(adj_vertex)\n",
    "      visited[adj_vertex] = True\n",
    "\n",
    "  return visited\n",
    "\n",
    "\n",
    "bfs_adjacency_matrix(adjacency_matrix, 0)"
   ]
  },
  {
   "cell_type": "markdown",
   "metadata": {},
   "source": [
    "## Find parent of each vertex using BFS"
   ]
  },
  {
   "cell_type": "code",
   "execution_count": 117,
   "metadata": {},
   "outputs": [
    {
     "data": {
      "text/plain": [
       "({0: True, 1: True, 2: True, 3: True, 4: True},\n",
       " {0: -1, 1: 0, 2: 0, 3: 1, 4: 1})"
      ]
     },
     "execution_count": 117,
     "metadata": {},
     "output_type": "execute_result"
    }
   ],
   "source": [
    "def bfs_parent(adjacency_list, start_vertex):\n",
    "  visited, parent = {}, {}\n",
    "  for vertex in adjacency_list:\n",
    "    visited[vertex] = False\n",
    "    parent[vertex] = -1\n",
    "  # print(f'{visited=}, {parent=}')\n",
    "\n",
    "  queue = Queue()\n",
    "  queue.enqueue(start_vertex)\n",
    "  visited[start_vertex] = True\n",
    "\n",
    "  while not queue.is_empty():\n",
    "    curr_vertex = queue.dequeue()\n",
    "    neighbors = adjacency_list[curr_vertex]\n",
    "    for adj_vertex in neighbors:\n",
    "      if visited[adj_vertex]:\n",
    "        continue\n",
    "      queue.enqueue(adj_vertex)\n",
    "      visited[adj_vertex] = True\n",
    "      parent[adj_vertex] = curr_vertex\n",
    "\n",
    "  return (visited, parent)\n",
    "\n",
    "\n",
    "adjacency_list = {0: [1, 2], 1: [3, 4], 2: [4, 3], 3: [4], 4: []}\n",
    "bfs_parent(adjacency_list, 0)"
   ]
  },
  {
   "cell_type": "markdown",
   "metadata": {},
   "source": [
    "## Find level number of vertices using BFS"
   ]
  },
  {
   "cell_type": "code",
   "execution_count": 126,
   "metadata": {},
   "outputs": [
    {
     "data": {
      "text/plain": [
       "({0: 0, 1: 1, 2: 1, 3: 2, 4: 2}, {0: -1, 1: 0, 2: 0, 3: 1, 4: 1})"
      ]
     },
     "execution_count": 126,
     "metadata": {},
     "output_type": "execute_result"
    }
   ],
   "source": [
    "def bfs_level(adjacency_list, start_vertex):\n",
    "  level, parent = {}, {}\n",
    "  for vertex in adjacency_list:\n",
    "    level[vertex] = -1  # -1 means NOT visited\n",
    "    parent[vertex] = -1\n",
    "\n",
    "  queue = Queue()\n",
    "  queue.enqueue(start_vertex)\n",
    "  level[start_vertex] = 0\n",
    "\n",
    "  while not queue.is_empty():\n",
    "    curr_vertex = queue.dequeue()\n",
    "    neighbors = adjacency_list[curr_vertex]\n",
    "    for adj_vertex in neighbors:\n",
    "      if level[adj_vertex] != -1:  # skip if already visited\n",
    "        continue\n",
    "      queue.enqueue(adj_vertex)\n",
    "      level[adj_vertex] = level[curr_vertex] + 1\n",
    "      parent[adj_vertex] = curr_vertex\n",
    "\n",
    "  return (level, parent)\n",
    "\n",
    "\n",
    "adjacency_list = {0: [1, 2], 1: [3, 4], 2: [4, 3], 3: [4], 4: []}\n",
    "\n",
    "# ({0: 0, 1: 1, 2: 1, 3: 2, 4: 2}, {0: -1, 1: 0, 2: 0, 3: 1, 4: 1})\n",
    "bfs_level(adjacency_list, 0)"
   ]
  },
  {
   "cell_type": "markdown",
   "metadata": {},
   "source": [
    "# Depth First Search(DFS)"
   ]
  }
 ],
 "metadata": {
  "kernelspec": {
   "display_name": "Python 3",
   "language": "python",
   "name": "python3"
  },
  "language_info": {
   "codemirror_mode": {
    "name": "ipython",
    "version": 3
   },
   "file_extension": ".py",
   "mimetype": "text/x-python",
   "name": "python",
   "nbconvert_exporter": "python",
   "pygments_lexer": "ipython3",
   "version": "3.12.0"
  }
 },
 "nbformat": 4,
 "nbformat_minor": 2
}
