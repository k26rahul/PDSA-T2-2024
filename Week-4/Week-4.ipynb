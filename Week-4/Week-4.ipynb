{
 "cells": [
  {
   "cell_type": "markdown",
   "metadata": {},
   "source": [
    "# Graph Representation in data structure"
   ]
  },
  {
   "cell_type": "markdown",
   "metadata": {},
   "source": [
    "## For unweighted directed graph"
   ]
  },
  {
   "cell_type": "code",
   "execution_count": 1,
   "metadata": {},
   "outputs": [],
   "source": [
    "import numpy as np"
   ]
  },
  {
   "cell_type": "code",
   "execution_count": 2,
   "metadata": {},
   "outputs": [],
   "source": [
    "V = [0, 1, 2, 3, 4]\n",
    "E = [(0, 1), (0, 2), (1, 3), (1, 4), (2, 4), (2, 3), (3, 4)]"
   ]
  },
  {
   "cell_type": "code",
   "execution_count": 3,
   "metadata": {},
   "outputs": [
    {
     "data": {
      "text/plain": [
       "array([[0., 0., 0., 0., 0.],\n",
       "       [0., 0., 0., 0., 0.],\n",
       "       [0., 0., 0., 0., 0.],\n",
       "       [0., 0., 0., 0., 0.],\n",
       "       [0., 0., 0., 0., 0.]])"
      ]
     },
     "execution_count": 3,
     "metadata": {},
     "output_type": "execute_result"
    }
   ],
   "source": [
    "size = len(V)\n",
    "adjacency_matrix = np.zeros(shape=(size, size))\n",
    "\n",
    "adjacency_matrix  # skeleton matrix"
   ]
  },
  {
   "cell_type": "code",
   "execution_count": 4,
   "metadata": {},
   "outputs": [
    {
     "data": {
      "text/plain": [
       "[[0, 0, 0, 0, 0],\n",
       " [0, 0, 0, 0, 0],\n",
       " [0, 0, 0, 0, 0],\n",
       " [0, 0, 0, 0, 0],\n",
       " [0, 0, 0, 0, 0]]"
      ]
     },
     "execution_count": 4,
     "metadata": {},
     "output_type": "execute_result"
    }
   ],
   "source": [
    "size = len(V)\n",
    "adjacency_matrix = [[0 for _ in range(size)] for _ in range(size)]\n",
    "\n",
    "adjacency_matrix  # skeleton matrix"
   ]
  },
  {
   "cell_type": "markdown",
   "metadata": {},
   "source": [
    "### adjacency_matrix: np array"
   ]
  },
  {
   "cell_type": "code",
   "execution_count": 5,
   "metadata": {},
   "outputs": [
    {
     "data": {
      "text/plain": [
       "array([[0., 1., 1., 0., 0.],\n",
       "       [0., 0., 0., 1., 1.],\n",
       "       [0., 0., 0., 1., 1.],\n",
       "       [0., 0., 0., 0., 1.],\n",
       "       [0., 0., 0., 0., 0.]])"
      ]
     },
     "execution_count": 5,
     "metadata": {},
     "output_type": "execute_result"
    }
   ],
   "source": [
    "size = len(V)\n",
    "adjacency_matrix = np.zeros(shape=(size, size))\n",
    "\n",
    "for (i, j) in E:\n",
    "  adjacency_matrix[i, j] = 1\n",
    "\n",
    "adjacency_matrix"
   ]
  },
  {
   "cell_type": "markdown",
   "metadata": {},
   "source": [
    "### adjacency_matrix: python nested list"
   ]
  },
  {
   "cell_type": "code",
   "execution_count": 6,
   "metadata": {},
   "outputs": [
    {
     "data": {
      "text/plain": [
       "[[0, 1, 1, 0, 0],\n",
       " [0, 0, 0, 1, 1],\n",
       " [0, 0, 0, 1, 1],\n",
       " [0, 0, 0, 0, 1],\n",
       " [0, 0, 0, 0, 0]]"
      ]
     },
     "execution_count": 6,
     "metadata": {},
     "output_type": "execute_result"
    }
   ],
   "source": [
    "size = len(V)\n",
    "adjacency_matrix = [[0 for _ in range(size)] for _ in range(size)]\n",
    "\n",
    "for (i, j) in E:\n",
    "  adjacency_matrix[i][j] = 1\n",
    "\n",
    "adjacency_matrix"
   ]
  },
  {
   "cell_type": "markdown",
   "metadata": {},
   "source": [
    "### adjacency_list: python dictionary"
   ]
  },
  {
   "cell_type": "code",
   "execution_count": 7,
   "metadata": {},
   "outputs": [
    {
     "data": {
      "text/plain": [
       "{0: [], 1: [], 2: [], 3: [], 4: []}"
      ]
     },
     "execution_count": 7,
     "metadata": {},
     "output_type": "execute_result"
    }
   ],
   "source": [
    "size = len(V)\n",
    "adjacency_list = {}\n",
    "\n",
    "for i in range(size):\n",
    "  adjacency_list[i] = []\n",
    "\n",
    "adjacency_list"
   ]
  },
  {
   "cell_type": "code",
   "execution_count": 8,
   "metadata": {},
   "outputs": [
    {
     "data": {
      "text/plain": [
       "{0: [1, 2], 1: [3, 4], 2: [4, 3], 3: [4], 4: []}"
      ]
     },
     "execution_count": 8,
     "metadata": {},
     "output_type": "execute_result"
    }
   ],
   "source": [
    "size = len(V)\n",
    "adjacency_list = {}\n",
    "\n",
    "for i in range(size):\n",
    "  adjacency_list[i] = []\n",
    "for (i, j) in E:\n",
    "  adjacency_list[i].append(j)\n",
    "\n",
    "adjacency_list"
   ]
  },
  {
   "cell_type": "code",
   "execution_count": 9,
   "metadata": {},
   "outputs": [
    {
     "data": {
      "text/plain": [
       "{0: [1, 2], 1: [3, 4], 2: [4, 3], 3: [4]}"
      ]
     },
     "execution_count": 9,
     "metadata": {},
     "output_type": "execute_result"
    }
   ],
   "source": [
    "size = len(V)\n",
    "adjacency_list = {}\n",
    "\n",
    "for (i, j) in E:\n",
    "  if i not in adjacency_list:\n",
    "    adjacency_list[i] = []\n",
    "  adjacency_list[i].append(j)\n",
    "\n",
    "adjacency_list"
   ]
  },
  {
   "cell_type": "markdown",
   "metadata": {},
   "source": [
    "## For unweighted undirected graph"
   ]
  },
  {
   "cell_type": "code",
   "execution_count": 10,
   "metadata": {},
   "outputs": [
    {
     "name": "stdout",
     "output_type": "stream",
     "text": [
      "[(0, 1), (0, 2), (1, 3), (1, 4), (2, 4), (2, 3), (3, 4)]\n",
      "[(1, 0), (2, 0), (3, 1), (4, 1), (4, 2), (3, 2), (4, 3)]\n"
     ]
    }
   ],
   "source": [
    "V = [0, 1, 2, 3, 4]\n",
    "E = [(0, 1), (0, 2), (1, 3), (1, 4), (2, 4), (2, 3), (3, 4)]\n",
    "\n",
    "print(E)  # original edges\n",
    "print([(j, i) for (i, j) in E])  # reversed edges"
   ]
  },
  {
   "cell_type": "code",
   "execution_count": 11,
   "metadata": {},
   "outputs": [
    {
     "name": "stdout",
     "output_type": "stream",
     "text": [
      "[(0, 1), (0, 2), (1, 3), (1, 4), (2, 4), (2, 3), (3, 4), (1, 0), (2, 0), (3, 1), (4, 1), (4, 2), (3, 2), (4, 3)]\n"
     ]
    }
   ],
   "source": [
    "UE = E + [(j, i) for (i, j) in E]  # original + reversed\n",
    "print(UE)"
   ]
  },
  {
   "cell_type": "markdown",
   "metadata": {},
   "source": [
    "# Breadth First Search(BFS) "
   ]
  },
  {
   "cell_type": "code",
   "execution_count": 12,
   "metadata": {},
   "outputs": [
    {
     "name": "stdout",
     "output_type": "stream",
     "text": [
      "10\n",
      "20\n",
      "30\n",
      "[40]\n"
     ]
    }
   ],
   "source": [
    "class Queue:\n",
    "  def __init__(self):\n",
    "    self.data = []\n",
    "\n",
    "  def is_empty(self):\n",
    "    return len(self.data) == 0\n",
    "\n",
    "  def enqueue(self, value):\n",
    "    self.data.append(value)\n",
    "\n",
    "  def dequeue(self):\n",
    "    if self.is_empty():\n",
    "      return\n",
    "    return self.data.pop(0)\n",
    "\n",
    "  def __str__(self):\n",
    "    return str(self.data)\n",
    "\n",
    "\n",
    "queue = Queue()\n",
    "queue.enqueue(10)\n",
    "queue.enqueue(20)\n",
    "queue.enqueue(30)\n",
    "print(queue.dequeue())\n",
    "print(queue.dequeue())\n",
    "queue.enqueue(40)\n",
    "print(queue.dequeue())\n",
    "\n",
    "print(queue)"
   ]
  },
  {
   "cell_type": "markdown",
   "metadata": {},
   "source": [
    "## Implementation BFS for adjacency list"
   ]
  },
  {
   "cell_type": "code",
   "execution_count": 13,
   "metadata": {},
   "outputs": [
    {
     "data": {
      "text/plain": [
       "{0: True, 1: True, 2: True, 3: True, 4: True}"
      ]
     },
     "execution_count": 13,
     "metadata": {},
     "output_type": "execute_result"
    }
   ],
   "source": [
    "def bfs_adjacency_list(adjacency_list, start_vertex):\n",
    "  visited = {}\n",
    "  for vertex in adjacency_list:\n",
    "    visited[vertex] = False\n",
    "  # print(f'{visited=}')\n",
    "\n",
    "  queue = Queue()\n",
    "  queue.enqueue(start_vertex)\n",
    "  visited[start_vertex] = True\n",
    "\n",
    "  while not queue.is_empty():\n",
    "    curr_vertex = queue.dequeue()\n",
    "    neighbors = adjacency_list[curr_vertex]\n",
    "    for adj_vertex in neighbors:\n",
    "      if visited[adj_vertex]:\n",
    "        continue\n",
    "      queue.enqueue(adj_vertex)\n",
    "      visited[adj_vertex] = True\n",
    "\n",
    "  return visited\n",
    "\n",
    "\n",
    "adjacency_list = {0: [1, 2], 1: [3, 4], 2: [4, 3], 3: [4], 4: []}\n",
    "bfs_adjacency_list(adjacency_list, 0)"
   ]
  },
  {
   "cell_type": "markdown",
   "metadata": {},
   "source": [
    "## Implementation BFS for adjacency matrix"
   ]
  },
  {
   "cell_type": "code",
   "execution_count": 14,
   "metadata": {},
   "outputs": [
    {
     "data": {
      "text/plain": [
       "array([[0., 1., 1., 0., 0.],\n",
       "       [0., 0., 0., 1., 1.],\n",
       "       [0., 0., 0., 1., 1.],\n",
       "       [0., 0., 0., 0., 1.],\n",
       "       [0., 0., 0., 0., 0.]])"
      ]
     },
     "execution_count": 14,
     "metadata": {},
     "output_type": "execute_result"
    }
   ],
   "source": [
    "V = [0, 1, 2, 3, 4]\n",
    "E = [(0, 1), (0, 2), (1, 3), (1, 4), (2, 4), (2, 3), (3, 4)]\n",
    "\n",
    "size = len(V)\n",
    "adjacency_matrix = np.zeros(shape=(size, size))\n",
    "for (i, j) in E:\n",
    "  adjacency_matrix[i, j] = 1\n",
    "\n",
    "adjacency_matrix"
   ]
  },
  {
   "cell_type": "code",
   "execution_count": 15,
   "metadata": {},
   "outputs": [
    {
     "data": {
      "text/plain": [
       "[1, 2]"
      ]
     },
     "execution_count": 15,
     "metadata": {},
     "output_type": "execute_result"
    }
   ],
   "source": [
    "def get_neighbors(adjacency_matrix, vertex):\n",
    "  rows, cols = adjacency_matrix.shape\n",
    "  neighbors = []\n",
    "  for j in range(cols):\n",
    "    if adjacency_matrix[vertex, j] == 1:\n",
    "      neighbors.append(j)\n",
    "  return neighbors\n",
    "\n",
    "\n",
    "get_neighbors(adjacency_matrix, 0)"
   ]
  },
  {
   "cell_type": "code",
   "execution_count": 16,
   "metadata": {},
   "outputs": [
    {
     "data": {
      "text/plain": [
       "{0: True, 1: True, 2: True, 3: True, 4: True}"
      ]
     },
     "execution_count": 16,
     "metadata": {},
     "output_type": "execute_result"
    }
   ],
   "source": [
    "def bfs_adjacency_matrix(adjacency_matrix, start_vertex):\n",
    "  rows, cols = adjacency_matrix.shape\n",
    "  visited = {}\n",
    "  for i in range(rows):\n",
    "    visited[i] = False\n",
    "  # print(f'{visited=}')\n",
    "\n",
    "  queue = Queue()\n",
    "  queue.enqueue(start_vertex)\n",
    "  visited[start_vertex] = True\n",
    "\n",
    "  while not queue.is_empty():\n",
    "    curr_vertex = queue.dequeue()\n",
    "    neighbors = get_neighbors(adjacency_matrix, curr_vertex)\n",
    "    for adj_vertex in neighbors:\n",
    "      if visited[adj_vertex]:\n",
    "        continue\n",
    "      queue.enqueue(adj_vertex)\n",
    "      visited[adj_vertex] = True\n",
    "\n",
    "  return visited\n",
    "\n",
    "\n",
    "bfs_adjacency_matrix(adjacency_matrix, 0)"
   ]
  },
  {
   "cell_type": "markdown",
   "metadata": {},
   "source": [
    "## Find parent of each vertex using BFS"
   ]
  },
  {
   "cell_type": "code",
   "execution_count": 17,
   "metadata": {},
   "outputs": [
    {
     "data": {
      "text/plain": [
       "({0: True, 1: True, 2: True, 3: True, 4: True},\n",
       " {0: -1, 1: 0, 2: 0, 3: 1, 4: 1})"
      ]
     },
     "execution_count": 17,
     "metadata": {},
     "output_type": "execute_result"
    }
   ],
   "source": [
    "def bfs_parent(adjacency_list, start_vertex):\n",
    "  visited, parent = {}, {}\n",
    "  for vertex in adjacency_list:\n",
    "    visited[vertex] = False\n",
    "    parent[vertex] = -1\n",
    "  # print(f'{visited=}, {parent=}')\n",
    "\n",
    "  queue = Queue()\n",
    "  queue.enqueue(start_vertex)\n",
    "  visited[start_vertex] = True\n",
    "\n",
    "  while not queue.is_empty():\n",
    "    curr_vertex = queue.dequeue()\n",
    "    neighbors = adjacency_list[curr_vertex]\n",
    "    for adj_vertex in neighbors:\n",
    "      if visited[adj_vertex]:\n",
    "        continue\n",
    "      queue.enqueue(adj_vertex)\n",
    "      visited[adj_vertex] = True\n",
    "      parent[adj_vertex] = curr_vertex\n",
    "\n",
    "  return (visited, parent)\n",
    "\n",
    "\n",
    "adjacency_list = {0: [1, 2], 1: [3, 4], 2: [4, 3], 3: [4], 4: []}\n",
    "bfs_parent(adjacency_list, 0)"
   ]
  },
  {
   "cell_type": "markdown",
   "metadata": {},
   "source": [
    "## Find level number of vertices using BFS"
   ]
  },
  {
   "cell_type": "code",
   "execution_count": 18,
   "metadata": {},
   "outputs": [
    {
     "data": {
      "text/plain": [
       "({0: 0, 1: 1, 2: 1, 3: 2, 4: 2}, {0: -1, 1: 0, 2: 0, 3: 1, 4: 1})"
      ]
     },
     "execution_count": 18,
     "metadata": {},
     "output_type": "execute_result"
    }
   ],
   "source": [
    "def bfs_level(adjacency_list, start_vertex):\n",
    "  level, parent = {}, {}\n",
    "  for vertex in adjacency_list:\n",
    "    level[vertex] = -1  # -1 means NOT visited\n",
    "    parent[vertex] = -1\n",
    "\n",
    "  queue = Queue()\n",
    "  queue.enqueue(start_vertex)\n",
    "  level[start_vertex] = 0\n",
    "\n",
    "  while not queue.is_empty():\n",
    "    curr_vertex = queue.dequeue()\n",
    "    neighbors = adjacency_list[curr_vertex]\n",
    "    for adj_vertex in neighbors:\n",
    "      if level[adj_vertex] != -1:  # skip if already visited\n",
    "        continue\n",
    "      queue.enqueue(adj_vertex)\n",
    "      level[adj_vertex] = level[curr_vertex] + 1\n",
    "      parent[adj_vertex] = curr_vertex\n",
    "\n",
    "  return (level, parent)\n",
    "\n",
    "\n",
    "adjacency_list = {0: [1, 2], 1: [3, 4], 2: [4, 3], 3: [4], 4: []}\n",
    "\n",
    "# ({0: 0, 1: 1, 2: 1, 3: 2, 4: 2}, {0: -1, 1: 0, 2: 0, 3: 1, 4: 1})\n",
    "bfs_level(adjacency_list, 0)"
   ]
  },
  {
   "cell_type": "markdown",
   "metadata": {},
   "source": [
    "# Depth First Search(DFS)"
   ]
  },
  {
   "cell_type": "code",
   "execution_count": 19,
   "metadata": {},
   "outputs": [
    {
     "name": "stdout",
     "output_type": "stream",
     "text": [
      "30\n",
      "20\n",
      "40\n",
      "[10]\n"
     ]
    }
   ],
   "source": [
    "class Stack:\n",
    "  def __init__(self):\n",
    "    self.data = []\n",
    "\n",
    "  def is_empty(self):\n",
    "    return len(self.data) == 0\n",
    "\n",
    "  def push(self, value):\n",
    "    self.data.append(value)\n",
    "\n",
    "  def pop(self):\n",
    "    if self.is_empty():\n",
    "      raise Exception('stack is empty')\n",
    "    return self.data.pop()\n",
    "\n",
    "  def __str__(self):\n",
    "    return str(self.data)\n",
    "\n",
    "\n",
    "stack = Stack()\n",
    "stack.push(10)\n",
    "stack.push(20)\n",
    "stack.push(30)\n",
    "\n",
    "print(stack.pop())\n",
    "print(stack.pop())\n",
    "stack.push(40)\n",
    "print(stack.pop())\n",
    "print(stack)"
   ]
  },
  {
   "cell_type": "markdown",
   "metadata": {},
   "source": [
    "## DFS for adjacency list [using Stack]"
   ]
  },
  {
   "cell_type": "code",
   "execution_count": 20,
   "metadata": {},
   "outputs": [
    {
     "data": {
      "text/plain": [
       "{0: True, 1: True, 2: True, 3: True, 4: True}"
      ]
     },
     "execution_count": 20,
     "metadata": {},
     "output_type": "execute_result"
    }
   ],
   "source": [
    "def dfs_adjacency_list(adjacency_list, start_vertex):\n",
    "  visited = {}\n",
    "  for vertex in adjacency_list:\n",
    "    visited[vertex] = False\n",
    "\n",
    "  stack = Stack()\n",
    "  stack.push(start_vertex)\n",
    "\n",
    "  while not stack.is_empty():\n",
    "    curr_vertex = stack.pop()\n",
    "    if visited[curr_vertex]:\n",
    "      continue\n",
    "    visited[curr_vertex] = True\n",
    "    neighbors = adjacency_list[curr_vertex]\n",
    "    for adj_vertex in neighbors:\n",
    "      if not visited[adj_vertex]:\n",
    "        stack.push(adj_vertex)\n",
    "\n",
    "  return visited\n",
    "\n",
    "\n",
    "adjacency_list = {0: [1, 2], 1: [3, 4], 2: [4, 3], 3: [4], 4: []}\n",
    "dfs_adjacency_list(adjacency_list, 0)"
   ]
  },
  {
   "cell_type": "markdown",
   "metadata": {},
   "source": [
    "### With parent information"
   ]
  },
  {
   "cell_type": "code",
   "execution_count": 21,
   "metadata": {},
   "outputs": [
    {
     "name": "stdout",
     "output_type": "stream",
     "text": [
      "stack=[0], parent={0: -1, 1: -1, 2: -1, 3: -1, 4: -1}\n",
      "curr_vertex=0\n",
      "\n",
      "stack=[1, 2], parent={0: -1, 1: 0, 2: 0, 3: -1, 4: -1}\n",
      "curr_vertex=2\n",
      "\n",
      "stack=[1, 4, 3], parent={0: -1, 1: 0, 2: 0, 3: 2, 4: 2}\n",
      "curr_vertex=3\n",
      "\n",
      "stack=[1, 4, 4], parent={0: -1, 1: 0, 2: 0, 3: 2, 4: 3}\n",
      "curr_vertex=4\n",
      "\n",
      "stack=[1, 4], parent={0: -1, 1: 0, 2: 0, 3: 2, 4: 3}\n",
      "curr_vertex=4\n",
      "\n",
      "stack=[1], parent={0: -1, 1: 0, 2: 0, 3: 2, 4: 3}\n",
      "curr_vertex=1\n",
      "\n"
     ]
    },
    {
     "data": {
      "text/plain": [
       "({0: True, 1: True, 2: True, 3: True, 4: True},\n",
       " {0: -1, 1: 0, 2: 0, 3: 2, 4: 3})"
      ]
     },
     "execution_count": 21,
     "metadata": {},
     "output_type": "execute_result"
    }
   ],
   "source": [
    "def dfs_adjacency_list(adjacency_list, start_vertex):\n",
    "  visited = {}\n",
    "  parent = {}\n",
    "  for vertex in adjacency_list:\n",
    "    visited[vertex] = False\n",
    "    parent[vertex] = -1\n",
    "\n",
    "  stack = Stack()\n",
    "  stack.push(start_vertex)\n",
    "\n",
    "  while not stack.is_empty():\n",
    "    print(f'stack={stack}, {parent=}')\n",
    "    curr_vertex = stack.pop()\n",
    "    print(f'{curr_vertex=}\\n')\n",
    "    if visited[curr_vertex]:\n",
    "      continue\n",
    "    visited[curr_vertex] = True\n",
    "    neighbors = adjacency_list[curr_vertex]\n",
    "    for adj_vertex in neighbors:\n",
    "      if not visited[adj_vertex]:\n",
    "        stack.push(adj_vertex)\n",
    "        parent[adj_vertex] = curr_vertex\n",
    "        # if parent[adj_vertex] == -1:\n",
    "        #   parent[adj_vertex] = curr_vertex\n",
    "\n",
    "  return (visited, parent)\n",
    "\n",
    "\n",
    "adjacency_list = {0: [1, 2], 1: [3, 4], 2: [4, 3], 3: [4], 4: []}\n",
    "dfs_adjacency_list(adjacency_list, 0)"
   ]
  },
  {
   "cell_type": "markdown",
   "metadata": {},
   "source": [
    "## DFS for adjacency list [recursive]"
   ]
  },
  {
   "cell_type": "code",
   "execution_count": 22,
   "metadata": {},
   "outputs": [],
   "source": [
    "def init_dfs_recursive(adjacency_list):\n",
    "  visited, parent = {}, {}\n",
    "  for vertex in adjacency_list:\n",
    "    visited[vertex] = False\n",
    "    parent[vertex] = -1\n",
    "  return (visited, parent)"
   ]
  },
  {
   "cell_type": "code",
   "execution_count": 23,
   "metadata": {},
   "outputs": [
    {
     "data": {
      "text/plain": [
       "({0: True, 1: True, 2: True, 3: True, 4: True},\n",
       " {0: -1, 1: 0, 2: 0, 3: 1, 4: 3})"
      ]
     },
     "execution_count": 23,
     "metadata": {},
     "output_type": "execute_result"
    }
   ],
   "source": [
    "def dfs_adjacency_list_recursive(adjacency_list, curr_vertex, visited, parent):\n",
    "  visited[curr_vertex] = True\n",
    "\n",
    "  neighbors = adjacency_list[curr_vertex]\n",
    "  for adj_vertex in neighbors:\n",
    "    if not visited[adj_vertex]:\n",
    "      parent[adj_vertex] = curr_vertex\n",
    "      visited, parent = dfs_adjacency_list_recursive(adjacency_list, adj_vertex, visited, parent)\n",
    "\n",
    "  return (visited, parent)\n",
    "\n",
    "\n",
    "adjacency_list = {0: [1, 2], 1: [3, 4], 2: [4, 3], 3: [4], 4: []}\n",
    "visited, parent = init_dfs_recursive(adjacency_list)\n",
    "dfs_adjacency_list_recursive(adjacency_list, 0, visited, parent)"
   ]
  },
  {
   "cell_type": "markdown",
   "metadata": {},
   "source": [
    "### With global variables `visited`, `parent`"
   ]
  },
  {
   "cell_type": "code",
   "execution_count": 24,
   "metadata": {},
   "outputs": [],
   "source": [
    "visited, parent = {}, {}\n",
    "\n",
    "\n",
    "def init_dfs_recursive(adjacency_list):\n",
    "  for vertex in adjacency_list:\n",
    "    visited[vertex] = False\n",
    "    parent[vertex] = -1\n",
    "  return"
   ]
  },
  {
   "cell_type": "code",
   "execution_count": 25,
   "metadata": {},
   "outputs": [
    {
     "name": "stdout",
     "output_type": "stream",
     "text": [
      "{0: True, 1: True, 2: True, 3: True, 4: True} {0: -1, 1: 0, 2: 0, 3: 1, 4: 3}\n"
     ]
    }
   ],
   "source": [
    "def dfs_adjacency_list_recursive(adjacency_list, curr_vertex):\n",
    "  visited[curr_vertex] = True\n",
    "\n",
    "  neighbors = adjacency_list[curr_vertex]\n",
    "  for adj_vertex in neighbors:\n",
    "    if not visited[adj_vertex]:\n",
    "      parent[adj_vertex] = curr_vertex\n",
    "      dfs_adjacency_list_recursive(adjacency_list, adj_vertex)\n",
    "\n",
    "  return\n",
    "\n",
    "\n",
    "adjacency_list = {0: [1, 2], 1: [3, 4], 2: [4, 3], 3: [4], 4: []}\n",
    "init_dfs_recursive(adjacency_list)\n",
    "dfs_adjacency_list_recursive(adjacency_list, 0)\n",
    "print(visited, parent)"
   ]
  },
  {
   "cell_type": "markdown",
   "metadata": {},
   "source": [
    "## DFS for adjacency matrix [using Stack]"
   ]
  },
  {
   "cell_type": "code",
   "execution_count": 26,
   "metadata": {},
   "outputs": [
    {
     "data": {
      "text/plain": [
       "array([[0., 1., 1., 0., 0.],\n",
       "       [0., 0., 0., 1., 1.],\n",
       "       [0., 0., 0., 1., 1.],\n",
       "       [0., 0., 0., 0., 1.],\n",
       "       [0., 0., 0., 0., 0.]])"
      ]
     },
     "execution_count": 26,
     "metadata": {},
     "output_type": "execute_result"
    }
   ],
   "source": [
    "V = [0, 1, 2, 3, 4]\n",
    "E = [(0, 1), (0, 2), (1, 3), (1, 4), (2, 4), (2, 3), (3, 4)]\n",
    "size = len(V)\n",
    "\n",
    "adjacency_matrix = np.zeros(shape=(size, size))\n",
    "for (i, j) in E:\n",
    "  adjacency_matrix[i, j] = 1\n",
    "\n",
    "adjacency_matrix"
   ]
  },
  {
   "cell_type": "code",
   "execution_count": 27,
   "metadata": {},
   "outputs": [
    {
     "data": {
      "text/plain": [
       "{0: True, 1: True, 2: True, 3: True, 4: True}"
      ]
     },
     "execution_count": 27,
     "metadata": {},
     "output_type": "execute_result"
    }
   ],
   "source": [
    "def dfs_adjacency_matrix(adjacency_matrix, start_vertex):\n",
    "  visited = {}\n",
    "  rows, cols = adjacency_matrix.shape\n",
    "  for i in range(rows):\n",
    "    visited[i] = False\n",
    "\n",
    "  stack = Stack()\n",
    "  stack.push(start_vertex)\n",
    "\n",
    "  while not stack.is_empty():\n",
    "    curr_vertex = stack.pop()\n",
    "    if visited[curr_vertex]:\n",
    "      continue\n",
    "    visited[curr_vertex] = True\n",
    "    neighbors = get_neighbors(adjacency_matrix, curr_vertex)\n",
    "    for adj_vertex in neighbors:\n",
    "      if not visited[adj_vertex]:\n",
    "        stack.push(adj_vertex)\n",
    "\n",
    "  return visited\n",
    "\n",
    "\n",
    "dfs_adjacency_matrix(adjacency_matrix, 0)"
   ]
  },
  {
   "cell_type": "markdown",
   "metadata": {},
   "source": [
    "### With parent information"
   ]
  },
  {
   "cell_type": "code",
   "execution_count": 28,
   "metadata": {},
   "outputs": [
    {
     "name": "stdout",
     "output_type": "stream",
     "text": [
      "stack=[0], {0: -1, 1: -1, 2: -1, 3: -1, 4: -1}\n",
      "curr_vertex=0\n",
      "\n",
      "stack=[1, 2], {0: -1, 1: 0, 2: 0, 3: -1, 4: -1}\n",
      "curr_vertex=2\n",
      "\n",
      "stack=[1, 3, 4], {0: -1, 1: 0, 2: 0, 3: 2, 4: 2}\n",
      "curr_vertex=4\n",
      "\n",
      "stack=[1, 3], {0: -1, 1: 0, 2: 0, 3: 2, 4: 2}\n",
      "curr_vertex=3\n",
      "\n",
      "stack=[1], {0: -1, 1: 0, 2: 0, 3: 2, 4: 2}\n",
      "curr_vertex=1\n",
      "\n"
     ]
    },
    {
     "data": {
      "text/plain": [
       "({0: True, 1: True, 2: True, 3: True, 4: True},\n",
       " {0: -1, 1: 0, 2: 0, 3: 2, 4: 2})"
      ]
     },
     "execution_count": 28,
     "metadata": {},
     "output_type": "execute_result"
    }
   ],
   "source": [
    "def dfs_adjacency_matrix(adjacency_matrix, start_vertex):\n",
    "  visited = {}\n",
    "  parent = {}\n",
    "  rows, cols = adjacency_matrix.shape\n",
    "  for i in range(rows):\n",
    "    visited[i] = False\n",
    "    parent[i] = -1\n",
    "\n",
    "  stack = Stack()\n",
    "  stack.push(start_vertex)\n",
    "\n",
    "  while not stack.is_empty():\n",
    "    print(f'stack={stack}, {parent}')\n",
    "    curr_vertex = stack.pop()\n",
    "    print(f'{curr_vertex=}\\n')\n",
    "    if visited[curr_vertex]:\n",
    "      continue\n",
    "    visited[curr_vertex] = True\n",
    "    neighbors = get_neighbors(adjacency_matrix, curr_vertex)\n",
    "    for adj_vertex in neighbors:\n",
    "      if not visited[adj_vertex]:\n",
    "        stack.push(adj_vertex)\n",
    "        parent[adj_vertex] = curr_vertex\n",
    "        # if parent[adj_vertex] == -1:\n",
    "        #   parent[adj_vertex] = curr_vertex\n",
    "\n",
    "  return (visited, parent)\n",
    "\n",
    "\n",
    "dfs_adjacency_matrix(adjacency_matrix, 0)"
   ]
  },
  {
   "cell_type": "markdown",
   "metadata": {},
   "source": [
    "# Find connected components using BFS"
   ]
  },
  {
   "cell_type": "code",
   "execution_count": 29,
   "metadata": {},
   "outputs": [
    {
     "data": {
      "text/plain": [
       "{0: True, 1: True, 2: True, 3: True, 4: True}"
      ]
     },
     "execution_count": 29,
     "metadata": {},
     "output_type": "execute_result"
    }
   ],
   "source": [
    "def bfs_adjacency_list(adjacency_list, start_vertex):\n",
    "  visited = {}\n",
    "  for vertex in adjacency_list:\n",
    "    visited[vertex] = False\n",
    "  # print(f'{visited=}')\n",
    "\n",
    "  queue = Queue()\n",
    "  queue.enqueue(start_vertex)\n",
    "  visited[start_vertex] = True\n",
    "\n",
    "  while not queue.is_empty():\n",
    "    curr_vertex = queue.dequeue()\n",
    "    neighbors = adjacency_list[curr_vertex]\n",
    "    for adj_vertex in neighbors:\n",
    "      if visited[adj_vertex]:\n",
    "        continue\n",
    "      queue.enqueue(adj_vertex)\n",
    "      visited[adj_vertex] = True\n",
    "\n",
    "  return visited\n",
    "\n",
    "\n",
    "adjacency_list = {0: [1, 2], 1: [3, 4], 2: [4, 3], 3: [4], 4: []}\n",
    "bfs_adjacency_list(adjacency_list, 0)"
   ]
  },
  {
   "cell_type": "code",
   "execution_count": 30,
   "metadata": {},
   "outputs": [
    {
     "data": {
      "text/plain": [
       "{0: 0, 1: 0, 2: 0, 3: 1, 4: 1, 5: 1, 6: 1, 7: 1, 8: 1, 9: 1}"
      ]
     },
     "execution_count": 30,
     "metadata": {},
     "output_type": "execute_result"
    }
   ],
   "source": [
    "# iitm code (i made it better): this is best way?? 😐\n",
    "\n",
    "def find_connected_components(adjacency_list):\n",
    "  component = {}\n",
    "  for vertex in adjacency_list:\n",
    "    component[vertex] = -1\n",
    "\n",
    "  component_id, seen = 0, 0\n",
    "\n",
    "  while seen < len(adjacency_list):\n",
    "    unseen_vertices = [vertex for vertex in adjacency_list if component[vertex] == -1]\n",
    "    start_vertex = unseen_vertices[0]\n",
    "    visited = bfs_adjacency_list(adjacency_list, start_vertex)\n",
    "    # print(f'{start_vertex=}, {visited=}, {component_id=}')\n",
    "    for vertex in visited:\n",
    "      if visited[vertex]:\n",
    "        seen += 1\n",
    "        component[vertex] = component_id\n",
    "    component_id += 1\n",
    "\n",
    "  return component\n",
    "\n",
    "\n",
    "adjacency_list = {0: [1], 1: [2], 2: [0], 3: [4, 6], 4: [3, 7], 5: [3, 7], 6: [5], 7: [4, 8], 8: [5, 9], 9: [8]}\n",
    "find_connected_components(adjacency_list)"
   ]
  },
  {
   "cell_type": "code",
   "execution_count": 31,
   "metadata": {},
   "outputs": [
    {
     "data": {
      "text/plain": [
       "{0: 0, 1: 0, 2: 0, 3: 1, 4: 1, 5: 1, 6: 1, 7: 1, 8: 1, 9: 1}"
      ]
     },
     "execution_count": 31,
     "metadata": {},
     "output_type": "execute_result"
    }
   ],
   "source": [
    "# my code: how sweet 😍\n",
    "\n",
    "def find_connected_components(adjacency_list):\n",
    "  component = {}\n",
    "  for vertex in adjacency_list:\n",
    "    component[vertex] = -1\n",
    "\n",
    "  component_id = 0\n",
    "\n",
    "  for start_vertex in adjacency_list:\n",
    "    if component[start_vertex] == -1:\n",
    "      visited = bfs_adjacency_list(adjacency_list, start_vertex)\n",
    "      # print(f'{start_vertex=}, {visited=}, {component_id=}')\n",
    "      for vertex in visited:\n",
    "        if visited[vertex]:\n",
    "          component[vertex] = component_id\n",
    "      component_id += 1\n",
    "\n",
    "  return component\n",
    "\n",
    "\n",
    "adjacency_list = {0: [1], 1: [2], 2: [0], 3: [4, 6], 4: [3, 7], 5: [3, 7], 6: [5], 7: [4, 8], 8: [5, 9], 9: [8]}\n",
    "find_connected_components(adjacency_list)"
   ]
  },
  {
   "cell_type": "markdown",
   "metadata": {},
   "source": [
    "# Pre and Post numbering using DFS"
   ]
  },
  {
   "cell_type": "code",
   "execution_count": 37,
   "metadata": {},
   "outputs": [],
   "source": [
    "# 0\n",
    "# 1\n",
    "# 2\n",
    "# 3\n",
    "# 4\n",
    "# 5\n",
    "# 6\n",
    "# 7\n",
    "# 8\n",
    "# 9\n",
    "# 0 1\n",
    "# 0 4\n",
    "# 1 0\n",
    "# 4 0\n",
    "# 4 8\n",
    "# 4 9\n",
    "# 8 4\n",
    "# 8 9\n",
    "# 9 8\n",
    "# 9 4\n",
    "\n",
    "# 0: [1, 4], 1: [0], 2: [], 3: [], 4: [0, 8, 9], 5: [], 6: [], 7: [], 8: [4, 9], 9: [8, 4]"
   ]
  },
  {
   "attachments": {
    "image.png": {
     "image/png": "[encoded data removed]"
    }
   },
   "cell_type": "markdown",
   "metadata": {},
   "source": [
    "![image.png](attachment:image.png)"
   ]
  },
  {
   "cell_type": "code",
   "execution_count": 35,
   "metadata": {},
   "outputs": [],
   "source": [
    "adjacency_list = {\n",
    "    0: [1, 4], 1: [0], 2: [], 3: [], 4: [0, 8, 9], 5: [], 6: [], 7: [], 8: [4, 9], 9: [8, 4]\n",
    "}"
   ]
  },
  {
   "cell_type": "code",
   "execution_count": 38,
   "metadata": {},
   "outputs": [],
   "source": [
    "def init_dfs_recursive(adjacency_list):\n",
    "  visited, pre, post = {}, {}, {}\n",
    "  for vertex in adjacency_list:\n",
    "    visited[vertex] = False\n",
    "    pre[vertex], post[vertex] = -1, -1\n",
    "  return (visited, pre, post)"
   ]
  },
  {
   "cell_type": "code",
   "execution_count": 59,
   "metadata": {},
   "outputs": [
    {
     "name": "stdout",
     "output_type": "stream",
     "text": [
      "True\n",
      "True\n",
      "True\n",
      "True\n"
     ]
    }
   ],
   "source": [
    "def pre_post_numbering(adjacency_list, curr_vertex, count):\n",
    "  visited[curr_vertex] = True\n",
    "\n",
    "  pre[curr_vertex] = count  # entering the vertex\n",
    "  count += 1\n",
    "\n",
    "  neighbors = adjacency_list[curr_vertex]\n",
    "  for adj_vertex in neighbors:\n",
    "    if not visited[adj_vertex]:\n",
    "      count = pre_post_numbering(adjacency_list, adj_vertex, count)\n",
    "\n",
    "  post[curr_vertex] = count  # leaving the vertex\n",
    "  count += 1\n",
    "\n",
    "  return count\n",
    "\n",
    "\n",
    "visited, pre, post = init_dfs_recursive(adjacency_list)\n",
    "\n",
    "print(pre_post_numbering(adjacency_list, 0, 0) == 10)\n",
    "print(visited == {0: True, 1: True, 2: False, 3: False, 4: True, 5: False, 6: False, 7: False, 8: True, 9: True})\n",
    "print(pre == {0: 0, 1: 1, 2: -1, 3: -1, 4: 3, 5: -1, 6: -1, 7: -1, 8: 4, 9: 5})\n",
    "print(post == {0: 9, 1: 2, 2: -1, 3: -1, 4: 8, 5: -1, 6: -1, 7: -1, 8: 7, 9: 6})"
   ]
  },
  {
   "cell_type": "code",
   "execution_count": 60,
   "metadata": {},
   "outputs": [
    {
     "name": "stdout",
     "output_type": "stream",
     "text": [
      "0: (0, 9)\n",
      "1: (1, 2)\n",
      "2: (-1, -1)\n",
      "3: (-1, -1)\n",
      "4: (3, 8)\n",
      "5: (-1, -1)\n",
      "6: (-1, -1)\n",
      "7: (-1, -1)\n",
      "8: (4, 7)\n",
      "9: (5, 6)\n"
     ]
    }
   ],
   "source": [
    "for vertex in adjacency_list:\n",
    "  print(f'{vertex}: ({pre[vertex]}, {post[vertex]})')"
   ]
  },
  {
   "cell_type": "code",
   "execution_count": 90,
   "metadata": {},
   "outputs": [
    {
     "name": "stdout",
     "output_type": "stream",
     "text": [
      "cross edge\n"
     ]
    }
   ],
   "source": [
    "def check_edge(u, v):\n",
    "  # forward edge, if interval [pre(u), post(u)] contains [pre(v), post(v)]\n",
    "  # e.g., u=[1, 10], v=[3, 5]\n",
    "  if pre[u] <= pre[v] and post[u] >= post[v]:\n",
    "    return 'forward edge'\n",
    "\n",
    "  # back edge, if interval [pre(v), post(v)] contains [pre(u), post(u)]\n",
    "  # e.g., u=[3, 5], v=[1, 10]\n",
    "  if pre[v] <= pre[u] and post[v] >= post[u]:\n",
    "    return 'back edge'\n",
    "\n",
    "  # cross edge, if intervals [pre(u), post(u)] and [pre(v), post(v)] are disjoint\n",
    "  # e.g., u=[1, 2], v=[3, 4]\n",
    "  # e.g., u=[7, 9], v=[2, 5]\n",
    "  if post[u] < pre[v] or post[v] < pre[u]:\n",
    "    return 'cross edge'\n",
    "\n",
    "\n",
    "print(check_edge(9, 1))"
   ]
  },
  {
   "cell_type": "markdown",
   "metadata": {},
   "source": [
    "# DAG Topological Sort"
   ]
  },
  {
   "cell_type": "code",
   "execution_count": 112,
   "metadata": {},
   "outputs": [
    {
     "name": "stdout",
     "output_type": "stream",
     "text": [
      "in_degree={0: 0, 1: 0, 2: 2, 3: 1, 4: 1, 5: 2, 6: 1, 7: 4}\n"
     ]
    },
    {
     "data": {
      "text/plain": [
       "True"
      ]
     },
     "execution_count": 112,
     "metadata": {},
     "output_type": "execute_result"
    }
   ],
   "source": [
    "def dag_topological_sort(adjacency_list):\n",
    "  # initialize in-degree dictionary with all vertices at 0\n",
    "  in_degree = {vertex: 0 for vertex in adjacency_list}\n",
    "\n",
    "  # calculate in-degrees\n",
    "  for neighbors in adjacency_list.values():\n",
    "    for adj_vertex in neighbors:\n",
    "      in_degree[adj_vertex] += 1\n",
    "  print(f'{in_degree=}')\n",
    "\n",
    "  # initialize queue with vertices having in-degree 0\n",
    "  queue = Queue()\n",
    "  for vertex, degree in in_degree.items():\n",
    "    if degree == 0:\n",
    "      queue.enqueue(vertex)\n",
    "\n",
    "  # list to store sorted order\n",
    "  sorted_list = []\n",
    "\n",
    "  while not queue.is_empty():\n",
    "    # dequeue a vertex with in-degree 0\n",
    "    curr_vertex = queue.dequeue()\n",
    "    sorted_list.append(curr_vertex)\n",
    "\n",
    "    # reduce in-degree of current vertex's neighbors\n",
    "    for adj_vertex in adjacency_list[curr_vertex]:\n",
    "      in_degree[adj_vertex] -= 1\n",
    "\n",
    "      # enqueue neighbors with in-degree 0\n",
    "      if in_degree[adj_vertex] == 0:\n",
    "        queue.enqueue(adj_vertex)\n",
    "\n",
    "  return sorted_list\n",
    "\n",
    "\n",
    "adjacency_list = {0: [2, 3, 4], 1: [2, 7], 2: [5], 3: [5, 7], 4: [7], 5: [6], 6: [7], 7: []}\n",
    "dag_topological_sort(adjacency_list) == [0, 1, 3, 4, 2, 5, 6, 7]"
   ]
  },
  {
   "cell_type": "markdown",
   "metadata": {},
   "source": [
    "# DAG Longest path"
   ]
  },
  {
   "cell_type": "code",
   "execution_count": 129,
   "metadata": {},
   "outputs": [
    {
     "name": "stdout",
     "output_type": "stream",
     "text": [
      "in_degree={0: 0, 1: 0, 2: 2, 3: 1, 4: 1, 5: 2, 6: 1, 7: 4}, longest_path={0: 0, 1: 0, 2: 0, 3: 0, 4: 0, 5: 0, 6: 0, 7: 0}\n"
     ]
    },
    {
     "data": {
      "text/plain": [
       "True"
      ]
     },
     "execution_count": 129,
     "metadata": {},
     "output_type": "execute_result"
    }
   ],
   "source": [
    "def dag_longest_path(adjacency_list):\n",
    "  # initialize in-degree and longest path dictionaries\n",
    "  in_degree, longest_path = {}, {}\n",
    "  for vertex in adjacency_list:\n",
    "    in_degree[vertex], longest_path[vertex] = 0, 0\n",
    "\n",
    "  # calculate in-degrees\n",
    "  for neighbors in adjacency_list.values():\n",
    "    for adj_vertex in neighbors:\n",
    "      in_degree[adj_vertex] += 1\n",
    "  print(f'{in_degree=}, {longest_path=}')\n",
    "\n",
    "  # initialize queue with vertices having in-degree 0\n",
    "  queue = Queue()\n",
    "  for vertex, degree in in_degree.items():\n",
    "    if degree == 0:\n",
    "      queue.enqueue(vertex)\n",
    "\n",
    "  while not queue.is_empty():\n",
    "    # dequeue a vertex with in-degree 0\n",
    "    curr_vertex = queue.dequeue()\n",
    "    in_degree[curr_vertex] -= 1\n",
    "\n",
    "    # update longest path and reduce in-degree of neighbors\n",
    "    for adj_vertex in adjacency_list[curr_vertex]:\n",
    "      in_degree[adj_vertex] -= 1\n",
    "      longest_path[adj_vertex] = max(longest_path[adj_vertex], longest_path[curr_vertex] + 1)\n",
    "      # enqueue neighbors with in-degree 0\n",
    "      if in_degree[adj_vertex] == 0:\n",
    "        queue.enqueue(adj_vertex)\n",
    "\n",
    "  return longest_path\n",
    "\n",
    "\n",
    "adjacency_list = {0: [2, 3, 4], 1: [2, 7], 2: [5], 3: [5, 7], 4: [7], 5: [6], 6: [7], 7: []}\n",
    "dag_longest_path(adjacency_list) == {0: 0, 1: 0, 2: 1, 3: 1, 4: 1, 5: 2, 6: 3, 7: 4}"
   ]
  }
 ],
 "metadata": {
  "kernelspec": {
   "display_name": "Python 3 (ipykernel)",
   "language": "python",
   "name": "python3"
  },
  "language_info": {
   "codemirror_mode": {
    "name": "ipython",
    "version": 3
   },
   "file_extension": ".py",
   "mimetype": "text/x-python",
   "name": "python",
   "nbconvert_exporter": "python",
   "pygments_lexer": "ipython3",
   "version": "3.12.0"
  }
 },
 "nbformat": 4,
 "nbformat_minor": 4
}
