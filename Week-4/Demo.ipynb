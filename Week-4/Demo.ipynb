{
 "cells": [
  {
   "cell_type": "markdown",
   "metadata": {},
   "source": [
    "# 🚨🚨 Topological sorting and longest path algorithm is badly implemented.\n",
    "\n",
    "👉 **See `July 9 Notebook`.**"
   ]
  },
  {
   "cell_type": "markdown",
   "metadata": {},
   "source": [
    "# Graph Representation in data structure"
   ]
  },
  {
   "cell_type": "markdown",
   "metadata": {},
   "source": [
    "# For unweighted directed graph"
   ]
  },
  {
   "cell_type": "markdown",
   "metadata": {},
   "source": [
    "## Adjacency matrix representation:"
   ]
  },
  {
   "cell_type": "code",
   "execution_count": 1,
   "metadata": {},
   "outputs": [],
   "source": [
    "import numpy as np"
   ]
  },
  {
   "cell_type": "code",
   "execution_count": 2,
   "metadata": {},
   "outputs": [
    {
     "data": {
      "text/plain": [
       "0"
      ]
     },
     "execution_count": 2,
     "metadata": {},
     "output_type": "execute_result"
    },
    {
     "data": {
      "text/plain": [
       "0.0"
      ]
     },
     "execution_count": 2,
     "metadata": {},
     "output_type": "execute_result"
    },
    {
     "data": {
      "text/plain": [
       "True"
      ]
     },
     "execution_count": 2,
     "metadata": {},
     "output_type": "execute_result"
    }
   ],
   "source": [
    "0  # int\n",
    "0.  # float\n",
    "0 == 0."
   ]
  },
  {
   "cell_type": "code",
   "execution_count": 3,
   "metadata": {},
   "outputs": [
    {
     "data": {
      "text/plain": [
       "[[0.0]]"
      ]
     },
     "execution_count": 3,
     "metadata": {},
     "output_type": "execute_result"
    }
   ],
   "source": [
    "[[0.]]"
   ]
  },
  {
   "cell_type": "code",
   "execution_count": 4,
   "metadata": {},
   "outputs": [
    {
     "data": {
      "text/plain": [
       "array([[0., 0., 0., 0., 0.],\n",
       "       [0., 0., 0., 0., 0.],\n",
       "       [0., 0., 0., 0., 0.],\n",
       "       [0., 0., 0., 0., 0.],\n",
       "       [0., 0., 0., 0., 0.]])"
      ]
     },
     "execution_count": 4,
     "metadata": {},
     "output_type": "execute_result"
    }
   ],
   "source": [
    "np.zeros(shape=(5, 5))  # shape=(rows, cols)"
   ]
  },
  {
   "cell_type": "code",
   "execution_count": 5,
   "metadata": {},
   "outputs": [],
   "source": [
    "V = [0, 1, 2, 3, 4]\n",
    "E = [(0, 1), (0, 2), (1, 3), (1, 4), (2, 4), (2, 3), (3, 4)]"
   ]
  },
  {
   "cell_type": "markdown",
   "metadata": {},
   "source": [
    "### Using NumPy 2d array"
   ]
  },
  {
   "cell_type": "code",
   "execution_count": 6,
   "metadata": {},
   "outputs": [
    {
     "data": {
      "text/plain": [
       "array([[0., 1., 1., 0., 0.],\n",
       "       [0., 0., 0., 1., 1.],\n",
       "       [0., 0., 0., 1., 1.],\n",
       "       [0., 0., 0., 0., 1.],\n",
       "       [0., 0., 0., 0., 0.]])"
      ]
     },
     "execution_count": 6,
     "metadata": {},
     "output_type": "execute_result"
    }
   ],
   "source": [
    "size = len(V)\n",
    "adjacency_matrix = np.zeros(shape=(size, size))  # skeleton [using numpy array]\n",
    "\n",
    "for (i, j) in E:\n",
    "  adjacency_matrix[i, j] = 1\n",
    "\n",
    "adjacency_matrix"
   ]
  },
  {
   "cell_type": "markdown",
   "metadata": {},
   "source": [
    "### Using Python nested list"
   ]
  },
  {
   "cell_type": "code",
   "execution_count": 7,
   "metadata": {},
   "outputs": [
    {
     "data": {
      "text/plain": [
       "[[0, 1, 1, 0, 0],\n",
       " [0, 0, 0, 1, 1],\n",
       " [0, 0, 0, 1, 1],\n",
       " [0, 0, 0, 0, 1],\n",
       " [0, 0, 0, 0, 0]]"
      ]
     },
     "execution_count": 7,
     "metadata": {},
     "output_type": "execute_result"
    }
   ],
   "source": [
    "size = len(V)\n",
    "adjacency_matrix = [[0 for j in range(size)] for i in range(size)]  # skeleton [using py 2d list]\n",
    "\n",
    "for (i, j) in E:\n",
    "  adjacency_matrix[i][j] = 1\n",
    "\n",
    "adjacency_matrix"
   ]
  },
  {
   "cell_type": "markdown",
   "metadata": {},
   "source": [
    "## Adjacency list representation:"
   ]
  },
  {
   "cell_type": "code",
   "execution_count": 8,
   "metadata": {},
   "outputs": [],
   "source": [
    "V = [0, 1, 2, 3, 4]\n",
    "E = [(0, 1), (0, 2), (1, 3), (1, 4), (2, 4), (2, 3), (3, 4)]"
   ]
  },
  {
   "cell_type": "code",
   "execution_count": 9,
   "metadata": {},
   "outputs": [
    {
     "data": {
      "text/plain": [
       "{0: [1, 2], 1: [3, 4], 2: [4, 3], 3: [4], 4: []}"
      ]
     },
     "execution_count": 9,
     "metadata": {},
     "output_type": "execute_result"
    }
   ],
   "source": [
    "adjacency_list = {}\n",
    "size = len(V)\n",
    "\n",
    "for i in range(size):\n",
    "  adjacency_list[i] = []\n",
    "\n",
    "for (i, j) in E:\n",
    "  adjacency_list[i].append(j)\n",
    "\n",
    "adjacency_list"
   ]
  },
  {
   "cell_type": "markdown",
   "metadata": {},
   "source": [
    "# For unweighted undirected graph"
   ]
  },
  {
   "cell_type": "code",
   "execution_count": 10,
   "metadata": {},
   "outputs": [],
   "source": [
    "V = [0, 1, 2, 3, 4]\n",
    "E = [(0, 1), (0, 2), (1, 3), (1, 4), (2, 4), (2, 3), (3, 4)]  # original edges\n",
    "UE = E + [(j, i) for (i, j) in E]  # original + reversed (UE: undirected edges)"
   ]
  },
  {
   "cell_type": "code",
   "execution_count": 11,
   "metadata": {},
   "outputs": [
    {
     "data": {
      "text/plain": [
       "[(0, 1), (0, 2), (1, 3), (1, 4), (2, 4), (2, 3), (3, 4)]"
      ]
     },
     "execution_count": 11,
     "metadata": {},
     "output_type": "execute_result"
    },
    {
     "data": {
      "text/plain": [
       "[(1, 0), (2, 0), (3, 1), (4, 1), (4, 2), (3, 2), (4, 3)]"
      ]
     },
     "execution_count": 11,
     "metadata": {},
     "output_type": "execute_result"
    },
    {
     "name": "stdout",
     "output_type": "stream",
     "text": [
      "[(0, 1), (0, 2), (1, 3), (1, 4), (2, 4), (2, 3), (3, 4), (1, 0), (2, 0), (3, 1), (4, 1), (4, 2), (3, 2), (4, 3)]\n"
     ]
    }
   ],
   "source": [
    "E  # original edges\n",
    "[(j, i) for (i, j) in E]  # reversed edges\n",
    "\n",
    "print(E + [(j, i) for (i, j) in E])  # original + reversed"
   ]
  },
  {
   "cell_type": "code",
   "execution_count": 12,
   "metadata": {},
   "outputs": [
    {
     "data": {
      "text/plain": [
       "{0: [1, 2], 1: [3, 4, 0], 2: [4, 3, 0], 3: [4, 1, 2], 4: [1, 2, 3]}"
      ]
     },
     "execution_count": 12,
     "metadata": {},
     "output_type": "execute_result"
    }
   ],
   "source": [
    "adjacency_list = {}\n",
    "size = len(V)\n",
    "\n",
    "for i in range(size):\n",
    "  adjacency_list[i] = []\n",
    "for (i, j) in UE:\n",
    "  adjacency_list[i].append(j)\n",
    "\n",
    "adjacency_list"
   ]
  },
  {
   "cell_type": "code",
   "execution_count": 13,
   "metadata": {},
   "outputs": [
    {
     "data": {
      "text/plain": [
       "array([[0., 1., 1., 0., 0.],\n",
       "       [1., 0., 0., 1., 1.],\n",
       "       [1., 0., 0., 1., 1.],\n",
       "       [0., 1., 1., 0., 1.],\n",
       "       [0., 1., 1., 1., 0.]])"
      ]
     },
     "execution_count": 13,
     "metadata": {},
     "output_type": "execute_result"
    }
   ],
   "source": [
    "size = len(V)\n",
    "adjacency_matrix = np.zeros(shape=(size, size))\n",
    "\n",
    "for (i, j) in UE:\n",
    "  adjacency_matrix[i, j] = 1\n",
    "\n",
    "adjacency_matrix"
   ]
  },
  {
   "cell_type": "code",
   "execution_count": 14,
   "metadata": {},
   "outputs": [
    {
     "data": {
      "text/plain": [
       "[[0, 1, 1, 0, 0],\n",
       " [1, 0, 0, 1, 1],\n",
       " [1, 0, 0, 1, 1],\n",
       " [0, 1, 1, 0, 1],\n",
       " [0, 1, 1, 1, 0]]"
      ]
     },
     "execution_count": 14,
     "metadata": {},
     "output_type": "execute_result"
    }
   ],
   "source": [
    "size = len(V)\n",
    "adjacency_matrix = [[0 for j in range(size)] for i in range(size)]  # skeleton\n",
    "\n",
    "for (i, j) in UE:\n",
    "  adjacency_matrix[i][j] = 1\n",
    "\n",
    "adjacency_matrix"
   ]
  },
  {
   "cell_type": "markdown",
   "metadata": {},
   "source": [
    "# Breadth First Search(BFS) "
   ]
  },
  {
   "cell_type": "code",
   "execution_count": 15,
   "metadata": {},
   "outputs": [
    {
     "name": "stdout",
     "output_type": "stream",
     "text": [
      "10\n",
      "20\n",
      "30\n",
      "40\n",
      "[]\n"
     ]
    }
   ],
   "source": [
    "class Queue:\n",
    "  def __init__(self):\n",
    "    self.data = []\n",
    "\n",
    "  def is_empty(self):\n",
    "    return len(self.data) == 0\n",
    "\n",
    "  def enqueue(self, value):\n",
    "    self.data.append(value)\n",
    "\n",
    "  def dequeue(self):\n",
    "    if self.is_empty():\n",
    "      raise Exception('queue is empty')\n",
    "    return self.data.pop(0)\n",
    "\n",
    "  def __str__(self):\n",
    "    return str(self.data)\n",
    "\n",
    "\n",
    "queue = Queue()\n",
    "queue.enqueue(10)\n",
    "queue.enqueue(20)\n",
    "queue.enqueue(30)\n",
    "\n",
    "print(queue.dequeue())\n",
    "print(queue.dequeue())\n",
    "queue.enqueue(40)\n",
    "print(queue.dequeue())\n",
    "print(queue.dequeue())\n",
    "print(queue)"
   ]
  },
  {
   "cell_type": "markdown",
   "metadata": {},
   "source": [
    "## Implementation BFS for adjacency list"
   ]
  },
  {
   "cell_type": "code",
   "execution_count": 16,
   "metadata": {},
   "outputs": [
    {
     "data": {
      "text/plain": [
       "{0: True, 1: True, 2: True, 3: True, 4: True}"
      ]
     },
     "execution_count": 16,
     "metadata": {},
     "output_type": "execute_result"
    }
   ],
   "source": [
    "def bfs_adjacency_list(adjacency_list, start_vertex):\n",
    "  visited = {}\n",
    "  for vertex in adjacency_list:\n",
    "    visited[vertex] = False\n",
    "  # print(f'{visited=}')\n",
    "\n",
    "  queue = Queue()\n",
    "  queue.enqueue(start_vertex)\n",
    "  visited[start_vertex] = True\n",
    "\n",
    "  while not queue.is_empty():\n",
    "    curr_vertex = queue.dequeue()\n",
    "    neighbors = adjacency_list[curr_vertex]\n",
    "    for adj_vertex in neighbors:\n",
    "      if visited[adj_vertex]:\n",
    "        continue\n",
    "      queue.enqueue(adj_vertex)\n",
    "      visited[adj_vertex] = True\n",
    "\n",
    "  return visited\n",
    "\n",
    "\n",
    "adjacency_list = {0: [1, 2], 1: [3, 4], 2: [4, 3], 3: [4], 4: []}\n",
    "bfs_adjacency_list(adjacency_list, 0)"
   ]
  },
  {
   "cell_type": "markdown",
   "metadata": {},
   "source": [
    "## Implementation BFS for adjacency matrix"
   ]
  },
  {
   "cell_type": "code",
   "execution_count": 17,
   "metadata": {},
   "outputs": [
    {
     "data": {
      "text/plain": [
       "array([[0., 1., 1., 0., 0.],\n",
       "       [0., 0., 0., 1., 1.],\n",
       "       [0., 0., 0., 1., 1.],\n",
       "       [0., 0., 0., 0., 1.],\n",
       "       [0., 0., 0., 0., 0.]])"
      ]
     },
     "execution_count": 17,
     "metadata": {},
     "output_type": "execute_result"
    }
   ],
   "source": [
    "V = [0, 1, 2, 3, 4]\n",
    "E = [(0, 1), (0, 2), (1, 3), (1, 4), (2, 4), (2, 3), (3, 4)]\n",
    "size = len(V)\n",
    "adjacency_matrix = np.zeros(shape=(size, size))\n",
    "\n",
    "for (i, j) in E:\n",
    "  adjacency_matrix[i, j] = 1\n",
    "\n",
    "# rows, cols = adjacency_matrix.shape\n",
    "# print(rows, cols)\n",
    "adjacency_matrix"
   ]
  },
  {
   "cell_type": "code",
   "execution_count": 18,
   "metadata": {},
   "outputs": [
    {
     "data": {
      "text/plain": [
       "[1, 2]"
      ]
     },
     "execution_count": 18,
     "metadata": {},
     "output_type": "execute_result"
    }
   ],
   "source": [
    "def get_neighbors(adjacency_matrix, vertex):\n",
    "  neighbors = []\n",
    "  rows, cols = adjacency_matrix.shape\n",
    "  for j in range(cols):\n",
    "    if adjacency_matrix[vertex, j] == 1:\n",
    "      neighbors.append(j)\n",
    "  return neighbors\n",
    "\n",
    "\n",
    "get_neighbors(adjacency_matrix, 0)"
   ]
  },
  {
   "cell_type": "code",
   "execution_count": 19,
   "metadata": {},
   "outputs": [
    {
     "data": {
      "text/plain": [
       "{0: True, 1: True, 2: True, 3: True, 4: True}"
      ]
     },
     "execution_count": 19,
     "metadata": {},
     "output_type": "execute_result"
    }
   ],
   "source": [
    "def bfs_adjacency_matrix(adjacency_matrix, start_vertex):\n",
    "  visited = {}\n",
    "  rows, cols = adjacency_matrix.shape\n",
    "  for i in range(rows):\n",
    "    visited[i] = False\n",
    "  # print(f'{visited=}')\n",
    "\n",
    "  queue = Queue()\n",
    "  queue.enqueue(start_vertex)\n",
    "  visited[start_vertex] = True\n",
    "\n",
    "  while not queue.is_empty():\n",
    "    curr_vertex = queue.dequeue()\n",
    "    neighbors = get_neighbors(adjacency_matrix, curr_vertex)\n",
    "    for adj_vertex in neighbors:\n",
    "      if visited[adj_vertex]:\n",
    "        continue\n",
    "      queue.enqueue(adj_vertex)\n",
    "      visited[adj_vertex] = True\n",
    "\n",
    "  return visited\n",
    "\n",
    "\n",
    "bfs_adjacency_matrix(adjacency_matrix, 0)"
   ]
  },
  {
   "cell_type": "markdown",
   "metadata": {},
   "source": [
    "## Find [traversal order] using BFS"
   ]
  },
  {
   "cell_type": "code",
   "execution_count": 20,
   "metadata": {},
   "outputs": [
    {
     "data": {
      "text/plain": [
       "({0: True, 1: True, 2: True, 3: True, 4: True}, [0, 1, 2, 3, 4])"
      ]
     },
     "execution_count": 20,
     "metadata": {},
     "output_type": "execute_result"
    }
   ],
   "source": [
    "def bfs_traversal_order(adjacency_list, start_vertex):\n",
    "  visited = {}\n",
    "  for vertex in adjacency_list:\n",
    "    visited[vertex] = False\n",
    "\n",
    "  queue = Queue()\n",
    "  queue.enqueue(start_vertex)\n",
    "  visited[start_vertex] = True\n",
    "  traversal_order = [start_vertex]\n",
    "\n",
    "  while not queue.is_empty():\n",
    "    curr_vertex = queue.dequeue()\n",
    "    neighbors = adjacency_list[curr_vertex]\n",
    "    for adj_vertex in neighbors:\n",
    "      if visited[adj_vertex]:\n",
    "        continue\n",
    "      queue.enqueue(adj_vertex)\n",
    "      visited[adj_vertex] = True\n",
    "      traversal_order.append(adj_vertex)\n",
    "      # print(f'{adj_vertex=}')\n",
    "\n",
    "  return (visited, traversal_order)\n",
    "\n",
    "\n",
    "adjacency_list = {0: [1, 2], 1: [3, 4], 2: [4, 3], 3: [4], 4: []}\n",
    "bfs_traversal_order(adjacency_list, 0)"
   ]
  },
  {
   "cell_type": "markdown",
   "metadata": {},
   "source": [
    "## Find parent of each vertex using BFS"
   ]
  },
  {
   "cell_type": "code",
   "execution_count": 21,
   "metadata": {},
   "outputs": [
    {
     "data": {
      "text/plain": [
       "({0: True, 1: True, 2: True, 3: True, 4: True},\n",
       " {0: -1, 1: 0, 2: 0, 3: 1, 4: 1})"
      ]
     },
     "execution_count": 21,
     "metadata": {},
     "output_type": "execute_result"
    }
   ],
   "source": [
    "def bfs_parent(adjacency_list, start_vertex):\n",
    "  visited = {}\n",
    "  parent = {}\n",
    "  for vertex in adjacency_list:\n",
    "    visited[vertex] = False\n",
    "    parent[vertex] = -1\n",
    "  # print(f'{visited=}, {parent=}')\n",
    "\n",
    "  queue = Queue()\n",
    "  queue.enqueue(start_vertex)\n",
    "  visited[start_vertex] = True\n",
    "\n",
    "  while not queue.is_empty():\n",
    "    curr_vertex = queue.dequeue()\n",
    "    neighbors = adjacency_list[curr_vertex]\n",
    "    for adj_vertex in neighbors:\n",
    "      if visited[adj_vertex]:\n",
    "        continue\n",
    "      queue.enqueue(adj_vertex)\n",
    "      visited[adj_vertex] = True\n",
    "      parent[adj_vertex] = curr_vertex\n",
    "      # print(f'{adj_vertex=}, {curr_vertex=}')\n",
    "\n",
    "  return (visited, parent)\n",
    "\n",
    "\n",
    "adjacency_list = {0: [1, 2], 1: [3, 4], 2: [4, 3], 3: [4], 4: []}\n",
    "bfs_parent(adjacency_list, 0)"
   ]
  },
  {
   "cell_type": "markdown",
   "metadata": {},
   "source": [
    "## Find level number of vertices using BFS"
   ]
  },
  {
   "cell_type": "code",
   "execution_count": 22,
   "metadata": {},
   "outputs": [
    {
     "data": {
      "text/plain": [
       "({0: -1, 1: 0, 2: 0, 3: 1, 4: 1}, {0: 0, 1: 1, 2: 1, 3: 2, 4: 2})"
      ]
     },
     "execution_count": 22,
     "metadata": {},
     "output_type": "execute_result"
    }
   ],
   "source": [
    "def bfs_level(adjacency_list, start_vertex):\n",
    "  parent = {}\n",
    "  level = {}\n",
    "  for vertex in adjacency_list:\n",
    "    parent[vertex] = -1\n",
    "    level[vertex] = -1\n",
    "\n",
    "  queue = Queue()\n",
    "  queue.enqueue(start_vertex)\n",
    "  level[start_vertex] = 0\n",
    "\n",
    "  while not queue.is_empty():\n",
    "    curr_vertex = queue.dequeue()\n",
    "    neighbors = adjacency_list[curr_vertex]\n",
    "    for adj_vertex in neighbors:\n",
    "      if level[adj_vertex] == -1:\n",
    "        queue.enqueue(adj_vertex)\n",
    "        parent[adj_vertex] = curr_vertex\n",
    "        level[adj_vertex] = level[curr_vertex]+1\n",
    "\n",
    "  return (parent, level)\n",
    "\n",
    "\n",
    "adjacency_list = {0: [1, 2], 1: [3, 4], 2: [4, 3], 3: [4], 4: []}\n",
    "bfs_level(adjacency_list, 0)"
   ]
  },
  {
   "cell_type": "markdown",
   "metadata": {},
   "source": [
    "# Depth First Search(DFS)"
   ]
  },
  {
   "cell_type": "markdown",
   "metadata": {},
   "source": [
    "## Implementation of DFS for adjacency list"
   ]
  },
  {
   "cell_type": "markdown",
   "metadata": {},
   "source": [
    "### DFS for adjacency list [using Stack]"
   ]
  },
  {
   "cell_type": "code",
   "execution_count": 23,
   "metadata": {},
   "outputs": [
    {
     "name": "stdout",
     "output_type": "stream",
     "text": [
      "30\n",
      "20\n",
      "40\n",
      "[10]\n"
     ]
    }
   ],
   "source": [
    "class Stack:\n",
    "  def __init__(self):\n",
    "    self.data = []\n",
    "\n",
    "  def is_empty(self):\n",
    "    return len(self.data) == 0\n",
    "\n",
    "  def push(self, value):\n",
    "    self.data.append(value)\n",
    "\n",
    "  def pop(self):\n",
    "    if self.is_empty():\n",
    "      raise Exception('stack is empty')\n",
    "    return self.data.pop()\n",
    "\n",
    "  def __str__(self):\n",
    "    return str(self.data)\n",
    "\n",
    "\n",
    "stack = Stack()\n",
    "stack.push(10)\n",
    "stack.push(20)\n",
    "stack.push(30)\n",
    "\n",
    "print(stack.pop())\n",
    "print(stack.pop())\n",
    "stack.push(40)\n",
    "print(stack.pop())\n",
    "print(stack)"
   ]
  },
  {
   "cell_type": "code",
   "execution_count": 24,
   "metadata": {},
   "outputs": [],
   "source": [
    "# if num is even -> print its square, if odd then do nothing\n",
    "def print_even_squares(num):\n",
    "  if num % 2 == 1:  # check stop condition [early return]\n",
    "    return\n",
    "  print(num ** 2)\n",
    "\n",
    "  # if num % 2 == 0:  # check ok condition\n",
    "  #   print(num ** 2)\n",
    "\n",
    "\n",
    "print_even_squares(11)"
   ]
  },
  {
   "cell_type": "code",
   "execution_count": 25,
   "metadata": {},
   "outputs": [],
   "source": [
    "# if not visited[curr_vertex]: # check ok condition ✅\n",
    "#     all safe here (inside `if`) ✌️\n",
    "#     visited[curr_vertex] = True\n",
    "#     do step 1\n",
    "#     do step 2\n",
    "\n",
    "# if visited[curr_vertex]: # check stop condition ⚠️\n",
    "#     continue # early return, avoid danger 🤗\n",
    "# all safe here (outside `if`) ✌️\n",
    "# visited[curr_vertex] = True\n",
    "# do step 1\n",
    "# do step 2"
   ]
  },
  {
   "cell_type": "code",
   "execution_count": 26,
   "metadata": {},
   "outputs": [
    {
     "data": {
      "text/plain": [
       "{0: True, 1: True, 2: True, 3: True, 4: True}"
      ]
     },
     "execution_count": 26,
     "metadata": {},
     "output_type": "execute_result"
    }
   ],
   "source": [
    "def dfs_adjacency_list(adjacency_list, start_vertex):\n",
    "  visited = {}\n",
    "  for vertex in adjacency_list:\n",
    "    visited[vertex] = False\n",
    "  # print(f'{visited=}')\n",
    "\n",
    "  stack = Stack()\n",
    "  stack.push(start_vertex)\n",
    "\n",
    "  while not stack.is_empty():\n",
    "    curr_vertex = stack.pop()  # u\n",
    "    if visited[curr_vertex]:  # check stop condition ⚠️\n",
    "      continue  # early return, avoid danger 🤗\n",
    "    visited[curr_vertex] = True\n",
    "\n",
    "    neighbors = adjacency_list[curr_vertex]\n",
    "    for adj_vertex in neighbors:  # v\n",
    "      if not visited[adj_vertex]:\n",
    "        stack.push(adj_vertex)\n",
    "\n",
    "  return visited\n",
    "\n",
    "\n",
    "adjacency_list = {0: [1, 2], 1: [3, 4], 2: [4, 3], 3: [4], 4: []}\n",
    "dfs_adjacency_list(adjacency_list, 0)"
   ]
  },
  {
   "cell_type": "markdown",
   "metadata": {},
   "source": [
    "### DFS for adjacency list [recursive, without stack]"
   ]
  },
  {
   "cell_type": "code",
   "execution_count": 27,
   "metadata": {},
   "outputs": [],
   "source": [
    "def init_dfs_recursive(adjacency_list):\n",
    "  visited = {}\n",
    "  for vertex in adjacency_list:\n",
    "    visited[vertex] = False\n",
    "  return visited"
   ]
  },
  {
   "cell_type": "code",
   "execution_count": 28,
   "metadata": {},
   "outputs": [
    {
     "name": "stdout",
     "output_type": "stream",
     "text": [
      "{0: True, 1: True, 2: True, 3: True, 4: True}\n"
     ]
    }
   ],
   "source": [
    "# using global variable `visited`\n",
    "\n",
    "def dfs_adjacency_list_recursive(adjacency_list, curr_vertex):\n",
    "  visited[curr_vertex] = True  # `visited` is defined outside this function\n",
    "\n",
    "  neighbors = adjacency_list[curr_vertex]\n",
    "  for adj_vertex in neighbors:\n",
    "    if not visited[adj_vertex]:\n",
    "      dfs_adjacency_list_recursive(adjacency_list, adj_vertex)\n",
    "\n",
    "\n",
    "# test code\n",
    "adjacency_list = {0: [1, 2], 1: [3, 4], 2: [4, 3], 3: [4], 4: []}\n",
    "visited = init_dfs_recursive(adjacency_list)  # `visited` is defined here\n",
    "dfs_adjacency_list_recursive(adjacency_list, 0)  # no `visited` parameter\n",
    "print(visited)  # we print `visited` after recursion finishes"
   ]
  },
  {
   "cell_type": "code",
   "execution_count": 29,
   "metadata": {},
   "outputs": [
    {
     "data": {
      "text/plain": [
       "{0: True, 1: True, 2: True, 3: True, 4: True}"
      ]
     },
     "execution_count": 29,
     "metadata": {},
     "output_type": "execute_result"
    }
   ],
   "source": [
    "# using `visited` parameter, NOT using global variable\n",
    "\n",
    "def dfs_adjacency_list_recursive(adjacency_list, curr_vertex, visited):\n",
    "  visited[curr_vertex] = True  # `visited` is taken as a parameter\n",
    "\n",
    "  neighbors = adjacency_list[curr_vertex]\n",
    "  for adj_vertex in neighbors:\n",
    "    if not visited[adj_vertex]:\n",
    "      visited = dfs_adjacency_list_recursive(adjacency_list, adj_vertex, visited)\n",
    "  return visited\n",
    "\n",
    "\n",
    "# test code\n",
    "adjacency_list = {0: [1, 2], 1: [3, 4], 2: [4, 3], 3: [4], 4: []}\n",
    "visited = init_dfs_recursive(adjacency_list)  # `visited` is defined here\n",
    "dfs_adjacency_list_recursive(adjacency_list, 0, visited)  # we give `visited` parameter"
   ]
  },
  {
   "cell_type": "markdown",
   "metadata": {},
   "source": [
    "## Implementation of DFS for adjacency matrix"
   ]
  },
  {
   "cell_type": "markdown",
   "metadata": {},
   "source": [
    "### DFS for adjacency matrix [using Stack]"
   ]
  },
  {
   "cell_type": "code",
   "execution_count": 30,
   "metadata": {},
   "outputs": [],
   "source": [
    "def dfs_adjacency_matrix(adjacency_matrix, start_vertex):\n",
    "  pass\n",
    "\n",
    "\n",
    "dfs_adjacency_matrix(adjacency_matrix, 0)"
   ]
  },
  {
   "cell_type": "markdown",
   "metadata": {},
   "source": [
    "# Find Connected Components in graph using BFS"
   ]
  },
  {
   "cell_type": "code",
   "execution_count": 31,
   "metadata": {},
   "outputs": [
    {
     "data": {
      "text/plain": [
       "{0: True, 1: True, 2: True, 3: True, 4: True}"
      ]
     },
     "execution_count": 31,
     "metadata": {},
     "output_type": "execute_result"
    }
   ],
   "source": [
    "def bfs_adjacency_list(adjacency_list, start_vertex):\n",
    "  visited = {}\n",
    "  for vertex in adjacency_list:\n",
    "    visited[vertex] = False\n",
    "\n",
    "  queue = Queue()\n",
    "  queue.enqueue(start_vertex)\n",
    "  visited[start_vertex] = True\n",
    "\n",
    "  while not queue.is_empty():\n",
    "    curr_vertex = queue.dequeue()\n",
    "    neighbors = adjacency_list[curr_vertex]\n",
    "    for adj_vertex in neighbors:\n",
    "      if not visited[adj_vertex]:\n",
    "        queue.enqueue(adj_vertex)\n",
    "        visited[adj_vertex] = True\n",
    "  return visited\n",
    "\n",
    "\n",
    "adjacency_list = {0: [1, 2], 1: [3, 4], 2: [4, 3], 3: [4], 4: []}\n",
    "bfs_adjacency_list(adjacency_list, 0)"
   ]
  },
  {
   "cell_type": "code",
   "execution_count": 32,
   "metadata": {},
   "outputs": [
    {
     "data": {
      "text/plain": [
       "{0: 0, 1: 0, 2: 0, 3: 1, 4: 1, 5: 1, 6: 1, 7: 1, 8: 1, 9: 1}"
      ]
     },
     "execution_count": 32,
     "metadata": {},
     "output_type": "execute_result"
    }
   ],
   "source": [
    "def find_connected_components(adjacency_list):\n",
    "  component = {}\n",
    "  for vertex in adjacency_list:\n",
    "    component[vertex] = -1\n",
    "\n",
    "  component_id = 0\n",
    "\n",
    "  for start_vertex in adjacency_list:\n",
    "    if component[start_vertex] == -1:\n",
    "      visited = bfs_adjacency_list(adjacency_list, start_vertex)\n",
    "      # print(f'{start_vertex=}, {visited=}')\n",
    "      for vertex in visited:\n",
    "        if visited[vertex]:\n",
    "          component[vertex] = component_id\n",
    "      component_id += 1\n",
    "\n",
    "  return component\n",
    "\n",
    "\n",
    "adjacency_list = {0: [1], 1: [2], 2: [0], 3: [4, 6], 4: [3, 7], 5: [3, 7], 6: [5], 7: [4, 8], 8: [5, 9], 9: [8]}\n",
    "find_connected_components(adjacency_list)"
   ]
  },
  {
   "cell_type": "markdown",
   "metadata": {},
   "source": [
    "# Pre and Post numbering using DFS"
   ]
  },
  {
   "cell_type": "code",
   "execution_count": 33,
   "metadata": {},
   "outputs": [],
   "source": [
    "adjacency_list = {\n",
    "    0: [1, 4], 1: [0], 2: [], 3: [], 4: [0, 8, 9], 5: [], 6: [], 7: [], 8: [4, 9], 9: [8, 4]\n",
    "}"
   ]
  },
  {
   "cell_type": "code",
   "execution_count": 34,
   "metadata": {},
   "outputs": [],
   "source": [
    "def init_dfs_recursive(adjacency_list):\n",
    "  visited, pre, post = {}, {}, {}\n",
    "  for vertex in adjacency_list:\n",
    "    visited[vertex] = False\n",
    "    pre[vertex], post[vertex] = -1, -1\n",
    "  return (visited, pre, post)"
   ]
  },
  {
   "cell_type": "code",
   "execution_count": 35,
   "metadata": {},
   "outputs": [
    {
     "data": {
      "text/plain": [
       "10"
      ]
     },
     "execution_count": 35,
     "metadata": {},
     "output_type": "execute_result"
    },
    {
     "name": "stdout",
     "output_type": "stream",
     "text": [
      "{0: True, 1: True, 2: False, 3: False, 4: True, 5: False, 6: False, 7: False, 8: True, 9: True}\n",
      "{0: 0, 1: 1, 2: -1, 3: -1, 4: 3, 5: -1, 6: -1, 7: -1, 8: 4, 9: 5}\n",
      "{0: 9, 1: 2, 2: -1, 3: -1, 4: 8, 5: -1, 6: -1, 7: -1, 8: 7, 9: 6}\n"
     ]
    }
   ],
   "source": [
    "def pre_post_numbering(adjacency_list, curr_vertex, count):\n",
    "  visited[curr_vertex] = True\n",
    "\n",
    "  pre[curr_vertex] = count  # entering the vertex\n",
    "  count += 1\n",
    "\n",
    "  neighbors = adjacency_list[curr_vertex]\n",
    "  for adj_vertex in neighbors:\n",
    "    if not visited[adj_vertex]:\n",
    "      count = pre_post_numbering(adjacency_list, adj_vertex, count)\n",
    "\n",
    "  post[curr_vertex] = count  # leaving the vertex\n",
    "  count += 1\n",
    "\n",
    "  return count\n",
    "\n",
    "\n",
    "visited, pre, post = init_dfs_recursive(adjacency_list)\n",
    "pre_post_numbering(adjacency_list, 0, 0)\n",
    "print(visited)\n",
    "print(pre)\n",
    "print(post)"
   ]
  },
  {
   "cell_type": "code",
   "execution_count": 36,
   "metadata": {},
   "outputs": [
    {
     "name": "stdout",
     "output_type": "stream",
     "text": [
      "0: (0, 9)\n",
      "1: (1, 2)\n",
      "2: (-1, -1)\n",
      "3: (-1, -1)\n",
      "4: (3, 8)\n",
      "5: (-1, -1)\n",
      "6: (-1, -1)\n",
      "7: (-1, -1)\n",
      "8: (4, 7)\n",
      "9: (5, 6)\n"
     ]
    }
   ],
   "source": [
    "for vertex in adjacency_list:\n",
    "  print(f'{vertex}: ({pre[vertex]}, {post[vertex]})')"
   ]
  },
  {
   "cell_type": "code",
   "execution_count": 37,
   "metadata": {},
   "outputs": [
    {
     "name": "stdout",
     "output_type": "stream",
     "text": [
      "forward edge\n"
     ]
    }
   ],
   "source": [
    "def check_edge(u, v):\n",
    "  # forward edge, if interval [pre(u), post(u)] contains [pre(v), post(v)]\n",
    "  # e.g., u=[1, 10], v=[3, 5]\n",
    "  if pre[u] <= pre[v] and post[u] >= post[v]:\n",
    "    return 'forward edge'\n",
    "\n",
    "  # back edge, if interval [pre(v), post(v)] contains [pre(u), post(u)]\n",
    "  # e.g., u=[3, 5], v=[1, 10]\n",
    "  if pre[v] <= pre[u] and post[v] >= post[u]:\n",
    "    return 'back edge'\n",
    "\n",
    "  # cross edge, if intervals [pre(u), post(u)] and [pre(v), post(v)] are disjoint\n",
    "  # e.g., u=[1, 2], v=[3, 4]\n",
    "  # e.g., u=[7, 9], v=[2, 5]\n",
    "  if post[u] < pre[v] or post[v] < pre[u]:\n",
    "    return 'cross edge'\n",
    "\n",
    "\n",
    "print(check_edge(4, 8))"
   ]
  },
  {
   "cell_type": "markdown",
   "metadata": {},
   "source": [
    "# DAG Topological Sort"
   ]
  },
  {
   "cell_type": "code",
   "execution_count": 38,
   "metadata": {},
   "outputs": [
    {
     "data": {
      "text/plain": [
       "True"
      ]
     },
     "execution_count": 38,
     "metadata": {},
     "output_type": "execute_result"
    }
   ],
   "source": [
    "def dag_topological_sort(adjacency_list):\n",
    "  # initialize in-degree dictionary with all vertices at 0\n",
    "  in_degree = {}\n",
    "  for vertex in adjacency_list:\n",
    "    in_degree[vertex] = 0\n",
    "\n",
    "  # calculate in-degrees\n",
    "  for neighbors in adjacency_list.values():\n",
    "    for adj_vertex in neighbors:\n",
    "      in_degree[adj_vertex] += 1\n",
    "\n",
    "  # initialize queue with vertices having in-degree 0\n",
    "  queue = Queue()\n",
    "  for vertex in adjacency_list:\n",
    "    if in_degree[vertex] == 0:\n",
    "      queue.enqueue(vertex)\n",
    "\n",
    "  # list to store sorted order\n",
    "  sorted_list = []\n",
    "\n",
    "  while not queue.is_empty():\n",
    "    # dequeue a vertex with in-degree 0\n",
    "    curr_vertex = queue.dequeue()\n",
    "    sorted_list.append(curr_vertex)\n",
    "\n",
    "    # reduce in-degree of current vertex's neighbors\n",
    "    neighbors = adjacency_list[curr_vertex]\n",
    "    for adj_vertex in neighbors:\n",
    "      in_degree[adj_vertex] -= 1\n",
    "\n",
    "      # enqueue neighbors with in-degree 0\n",
    "      if in_degree[adj_vertex] == 0:\n",
    "        queue.enqueue(adj_vertex)\n",
    "\n",
    "  return sorted_list\n",
    "\n",
    "\n",
    "adjacency_list = {0: [2, 3, 4], 1: [2, 7], 2: [5], 3: [5, 7], 4: [7], 5: [6], 6: [7], 7: []}\n",
    "dag_topological_sort(adjacency_list) == [0, 1, 3, 4, 2, 5, 6, 7]"
   ]
  },
  {
   "cell_type": "markdown",
   "metadata": {},
   "source": [
    "# DAG Longest path"
   ]
  },
  {
   "cell_type": "code",
   "execution_count": 39,
   "metadata": {},
   "outputs": [
    {
     "data": {
      "text/plain": [
       "{0: 0, 1: 0, 2: 1, 3: 1, 4: 1, 5: 2, 6: 3, 7: 4}"
      ]
     },
     "execution_count": 39,
     "metadata": {},
     "output_type": "execute_result"
    }
   ],
   "source": [
    "def dag_longest_path(adjacency_list):\n",
    "  # initialize in-degree and longest path dictionaries\n",
    "  in_degree, longest_path = {}, {}\n",
    "  for vertex in adjacency_list:\n",
    "    in_degree[vertex], longest_path[vertex] = 0, 0\n",
    "\n",
    "  # calculate in-degrees\n",
    "  for neighbors in adjacency_list.values():\n",
    "    for adj_vertex in neighbors:\n",
    "      in_degree[adj_vertex] += 1\n",
    "  # print(f'{in_degree=}, {longest_path=}')\n",
    "\n",
    "  # initialize queue with vertices having in-degree 0\n",
    "  queue = Queue()\n",
    "  for vertex in adjacency_list:\n",
    "    if in_degree[vertex] == 0:\n",
    "      queue.enqueue(vertex)\n",
    "\n",
    "  while not queue.is_empty():\n",
    "    # dequeue a vertex with in-degree 0\n",
    "    curr_vertex = queue.dequeue()\n",
    "    in_degree[curr_vertex] -= 1\n",
    "\n",
    "    # update longest path and reduce in-degree of neighbors\n",
    "    neighbors = adjacency_list[curr_vertex]\n",
    "    for adj_vertex in neighbors:\n",
    "      in_degree[adj_vertex] -= 1\n",
    "      longest_path[adj_vertex] = max(longest_path[adj_vertex], longest_path[curr_vertex]+1)\n",
    "      # enqueue neighbors with in-degree 0\n",
    "      if in_degree[adj_vertex] == 0:\n",
    "        queue.enqueue(adj_vertex)\n",
    "\n",
    "  return longest_path\n",
    "\n",
    "\n",
    "adjacency_list = {0: [2, 3, 4], 1: [2, 7], 2: [5], 3: [5, 7], 4: [7], 5: [6], 6: [7], 7: []}\n",
    "dag_longest_path(adjacency_list)  # == {0: 0, 1: 0, 2: 1, 3: 1, 4: 1, 5: 2, 6: 3, 7: 4}"
   ]
  },
  {
   "cell_type": "markdown",
   "metadata": {},
   "source": [
    "# Not so optimal code above 👆⚠️⚠️"
   ]
  },
  {
   "cell_type": "markdown",
   "metadata": {},
   "source": [
    "# July 9 🍃🌿🤗👇\n",
    "\n",
    "**All the stuff down here is moved [on July 26] from `July 9 notebook` for cleanup purpose**"
   ]
  },
  {
   "cell_type": "markdown",
   "metadata": {},
   "source": [
    "# printing all the names"
   ]
  },
  {
   "cell_type": "code",
   "execution_count": 40,
   "metadata": {},
   "outputs": [],
   "source": [
    "names = ['vidhatri', 'rahul', 'muskan', 'vaishnvi', 'harikesh']"
   ]
  },
  {
   "cell_type": "code",
   "execution_count": 41,
   "metadata": {},
   "outputs": [
    {
     "name": "stdout",
     "output_type": "stream",
     "text": [
      "vidhatri\n",
      "rahul\n",
      "muskan\n",
      "vaishnvi\n",
      "harikesh\n"
     ]
    }
   ],
   "source": [
    "# printing all the names (just print the values at indices 0-4)\n",
    "print(names[0])\n",
    "print(names[1])\n",
    "print(names[2])\n",
    "print(names[3])\n",
    "print(names[4])"
   ]
  },
  {
   "cell_type": "code",
   "execution_count": 42,
   "metadata": {},
   "outputs": [
    {
     "name": "stdout",
     "output_type": "stream",
     "text": [
      "0 vidhatri\n",
      "0 vidhatri\n",
      "0 vidhatri\n",
      "0 vidhatri\n",
      "0 vidhatri\n"
     ]
    }
   ],
   "source": [
    "# printing all the names (this wont work, why?)\n",
    "i = 0\n",
    "print(i, names[i])\n",
    "\n",
    "print(i, names[i])\n",
    "\n",
    "print(i, names[i])\n",
    "\n",
    "print(i, names[i])\n",
    "\n",
    "print(i, names[i])"
   ]
  },
  {
   "cell_type": "code",
   "execution_count": 43,
   "metadata": {},
   "outputs": [
    {
     "name": "stdout",
     "output_type": "stream",
     "text": [
      "0 vidhatri\n",
      "1 rahul\n",
      "2 muskan\n",
      "3 vaishnvi\n",
      "4 harikesh\n"
     ]
    }
   ],
   "source": [
    "# printing all the names (this works perfectly)\n",
    "i = 0\n",
    "print(i, names[i])\n",
    "\n",
    "i = 1\n",
    "print(i, names[i])\n",
    "\n",
    "i = 2\n",
    "print(i, names[i])\n",
    "\n",
    "i = 3\n",
    "print(i, names[i])\n",
    "\n",
    "i = 4\n",
    "print(i, names[i])"
   ]
  },
  {
   "cell_type": "code",
   "execution_count": 44,
   "metadata": {},
   "outputs": [
    {
     "name": "stdout",
     "output_type": "stream",
     "text": [
      "0\n",
      "vidhatri\n",
      "1\n",
      "rahul\n",
      "2\n",
      "muskan\n",
      "3\n",
      "vaishnvi\n",
      "4\n",
      "harikesh\n"
     ]
    }
   ],
   "source": [
    "# printing all the names (doing the same thing in a loop)\n",
    "for i in range(5):\n",
    "  print(i)  # index\n",
    "  print(names[i])  # value at index"
   ]
  },
  {
   "cell_type": "markdown",
   "metadata": {},
   "source": [
    "# range function"
   ]
  },
  {
   "cell_type": "code",
   "execution_count": 45,
   "metadata": {},
   "outputs": [
    {
     "data": {
      "text/plain": [
       "range(0, 5)"
      ]
     },
     "execution_count": 45,
     "metadata": {},
     "output_type": "execute_result"
    },
    {
     "data": {
      "text/plain": [
       "[0, 1, 2, 3, 4]"
      ]
     },
     "execution_count": 45,
     "metadata": {},
     "output_type": "execute_result"
    }
   ],
   "source": [
    "# range function is used to create an an integer range\n",
    "range(5)\n",
    "list(range(5))"
   ]
  },
  {
   "cell_type": "code",
   "execution_count": 46,
   "metadata": {},
   "outputs": [
    {
     "data": {
      "text/plain": [
       "range(0, 5)"
      ]
     },
     "execution_count": 46,
     "metadata": {},
     "output_type": "execute_result"
    },
    {
     "data": {
      "text/plain": [
       "range(0, 5)"
      ]
     },
     "execution_count": 46,
     "metadata": {},
     "output_type": "execute_result"
    }
   ],
   "source": [
    "# using range function to loop over indices of a list\n",
    "# do you know the exact length?\n",
    "\n",
    "range(5)  # length is hard coded\n",
    "range(len(names))  # length is calculated on the spot"
   ]
  },
  {
   "cell_type": "code",
   "execution_count": 47,
   "metadata": {},
   "outputs": [
    {
     "name": "stdout",
     "output_type": "stream",
     "text": [
      "0 vidhatri\n",
      "1 rahul\n",
      "2 muskan\n",
      "3 vaishnvi\n",
      "4 harikesh\n"
     ]
    }
   ],
   "source": [
    "# looping over indices\n",
    "# when you know the exact length of list (length is hard coded)\n",
    "\n",
    "for i in range(5):\n",
    "  print(i, names[i])"
   ]
  },
  {
   "cell_type": "code",
   "execution_count": 48,
   "metadata": {},
   "outputs": [
    {
     "name": "stdout",
     "output_type": "stream",
     "text": [
      "0 vidhatri\n",
      "1 rahul\n",
      "2 muskan\n",
      "3 vaishnvi\n",
      "4 harikesh\n"
     ]
    }
   ],
   "source": [
    "# looping over indices\n",
    "# you don't know the exact length of list (length is calculated on the spot)\n",
    "\n",
    "for i in range(len(names)):\n",
    "  print(i, names[i])"
   ]
  },
  {
   "cell_type": "markdown",
   "metadata": {},
   "source": [
    "# general syntax of `for`"
   ]
  },
  {
   "cell_type": "code",
   "execution_count": 49,
   "metadata": {},
   "outputs": [],
   "source": [
    "# general syntax of `for` loop on a list\n",
    "# for <i/name> in <range/names>"
   ]
  },
  {
   "cell_type": "code",
   "execution_count": 50,
   "metadata": {},
   "outputs": [
    {
     "name": "stdout",
     "output_type": "stream",
     "text": [
      "0 vidhatri\n",
      "1 rahul\n",
      "2 muskan\n",
      "3 vaishnvi\n",
      "4 harikesh\n"
     ]
    }
   ],
   "source": [
    "# looping over indices\n",
    "for i in range(len(names)):\n",
    "  print(i, names[i])"
   ]
  },
  {
   "cell_type": "code",
   "execution_count": 51,
   "metadata": {},
   "outputs": [
    {
     "name": "stdout",
     "output_type": "stream",
     "text": [
      "vidhatri\n",
      "rahul\n",
      "muskan\n",
      "vaishnvi\n",
      "harikesh\n"
     ]
    }
   ],
   "source": [
    "# looping over values\n",
    "for name in names:\n",
    "  print(name)"
   ]
  },
  {
   "cell_type": "markdown",
   "metadata": {},
   "source": [
    "## demo: name, marks\n",
    "\n",
    "looping over indices/values, when to do what?"
   ]
  },
  {
   "cell_type": "code",
   "execution_count": 52,
   "metadata": {},
   "outputs": [],
   "source": [
    "names = ['vidhatri', 'rahul', 'muskan', 'vaishnvi', 'harikesh']\n",
    "marks = [100, 90, 95, 70, 80]"
   ]
  },
  {
   "cell_type": "code",
   "execution_count": 53,
   "metadata": {},
   "outputs": [
    {
     "name": "stdout",
     "output_type": "stream",
     "text": [
      "0 vidhatri 100\n",
      "1 rahul 90\n",
      "2 muskan 95\n",
      "3 vaishnvi 70\n",
      "4 harikesh 80\n"
     ]
    }
   ],
   "source": [
    "# looping over indices\n",
    "for i in range(len(names)):\n",
    "  print(i, names[i], marks[i])  # using the index you can get the name and marks both"
   ]
  },
  {
   "cell_type": "code",
   "execution_count": 54,
   "metadata": {},
   "outputs": [
    {
     "name": "stdout",
     "output_type": "stream",
     "text": [
      "vidhatri\n",
      "rahul\n",
      "muskan\n",
      "vaishnvi\n",
      "harikesh\n"
     ]
    }
   ],
   "source": [
    "# looping over values\n",
    "for name in names:\n",
    "  print(name)  # there is no way to get the marks of a `name`"
   ]
  },
  {
   "cell_type": "markdown",
   "metadata": {},
   "source": [
    "## demo: numbers\n",
    "\n",
    "looping over indices/values\n",
    "\n",
    "i/x semantics"
   ]
  },
  {
   "cell_type": "code",
   "execution_count": 55,
   "metadata": {},
   "outputs": [
    {
     "name": "stdout",
     "output_type": "stream",
     "text": [
      "0 17\n",
      "1 18\n",
      "2 19\n",
      "3 20\n",
      "4 21\n"
     ]
    }
   ],
   "source": [
    "# using i loop (i: indices)\n",
    "numbers = [17, 18, 19, 20, 21]\n",
    "for i in range(len(numbers)):\n",
    "  print(i, numbers[i])"
   ]
  },
  {
   "cell_type": "code",
   "execution_count": 56,
   "metadata": {},
   "outputs": [
    {
     "name": "stdout",
     "output_type": "stream",
     "text": [
      "17\n",
      "18\n",
      "19\n",
      "20\n",
      "21\n"
     ]
    }
   ],
   "source": [
    "# using x loop (x: values)\n",
    "numbers = [17, 18, 19, 20, 21]\n",
    "for x in numbers:\n",
    "  print(x)"
   ]
  },
  {
   "cell_type": "markdown",
   "metadata": {},
   "source": [
    "## demo: exam_result\n",
    "\n",
    "list comprehension\n",
    "\n",
    "dict comprehension"
   ]
  },
  {
   "cell_type": "code",
   "execution_count": 57,
   "metadata": {},
   "outputs": [],
   "source": [
    "# list comprehension syntax\n",
    "# my_list = [value for value in <>]\n",
    "\n",
    "# dict comprehension syntax\n",
    "# my_dict = [key: ? for key in <>]"
   ]
  },
  {
   "cell_type": "markdown",
   "metadata": {},
   "source": [
    "### make `exam_result`: a list of (name, marks)"
   ]
  },
  {
   "cell_type": "code",
   "execution_count": 58,
   "metadata": {},
   "outputs": [
    {
     "name": "stdout",
     "output_type": "stream",
     "text": [
      "[('vidhatri', 100), ('rahul', 90), ('muskan', 95), ('vaishnvi', 70), ('harikesh', 80)]\n"
     ]
    }
   ],
   "source": [
    "# loop & append\n",
    "exam_result = []\n",
    "for i in range(len(names)):\n",
    "  exam_result.append((names[i], marks[i]))\n",
    "\n",
    "print(exam_result)"
   ]
  },
  {
   "cell_type": "code",
   "execution_count": 59,
   "metadata": {},
   "outputs": [
    {
     "name": "stdout",
     "output_type": "stream",
     "text": [
      "[('vidhatri', 100), ('rahul', 90), ('muskan', 95), ('vaishnvi', 70), ('harikesh', 80)]\n"
     ]
    }
   ],
   "source": [
    "# list comprehension\n",
    "exam_result = [(names[i], marks[i]) for i in range(len(names))]\n",
    "\n",
    "print(exam_result)"
   ]
  },
  {
   "cell_type": "markdown",
   "metadata": {},
   "source": [
    "### make `exam_result`: a dict of (name : marks)"
   ]
  },
  {
   "cell_type": "code",
   "execution_count": 60,
   "metadata": {},
   "outputs": [
    {
     "name": "stdout",
     "output_type": "stream",
     "text": [
      "{'vidhatri': 100, 'rahul': 90, 'muskan': 95, 'vaishnvi': 70, 'harikesh': 80}\n"
     ]
    }
   ],
   "source": [
    "# loop & set key-value pairs\n",
    "exam_result = {}\n",
    "for i in range(len(names)):\n",
    "  key = names[i]\n",
    "  value = marks[i]\n",
    "  exam_result[key] = value\n",
    "\n",
    "print(exam_result)"
   ]
  },
  {
   "cell_type": "code",
   "execution_count": 61,
   "metadata": {},
   "outputs": [
    {
     "name": "stdout",
     "output_type": "stream",
     "text": [
      "{'vidhatri': 100, 'rahul': 90, 'muskan': 95, 'vaishnvi': 70, 'harikesh': 80}\n"
     ]
    }
   ],
   "source": [
    "# dict comprehension\n",
    "exam_result = {names[i]: marks[i] for i in range(len(names))}\n",
    "\n",
    "print(exam_result)"
   ]
  },
  {
   "cell_type": "markdown",
   "metadata": {},
   "source": [
    "# Adjacency list"
   ]
  },
  {
   "cell_type": "code",
   "execution_count": 62,
   "metadata": {},
   "outputs": [],
   "source": [
    "# vertex: neighbors of vertex\n",
    "# u: [v1, v2, ...]\n",
    "# u -> v1\n",
    "# u -> v2\n",
    "# ...\n",
    "adjacency_list = {0: [1, 2], 1: [3, 4], 2: [4, 3], 3: [4], 4: []}"
   ]
  },
  {
   "cell_type": "code",
   "execution_count": 63,
   "metadata": {},
   "outputs": [
    {
     "name": "stdout",
     "output_type": "stream",
     "text": [
      "0\n",
      "[1, 2]\n",
      "1\n",
      "[3, 4]\n",
      "2\n",
      "[4, 3]\n",
      "3\n",
      "[4]\n",
      "4\n",
      "[]\n"
     ]
    }
   ],
   "source": [
    "# for key in dict\n",
    "for vertex in adjacency_list:\n",
    "  print(vertex)  # vertex (key)\n",
    "  print(adjacency_list[vertex])  # neighbors of vertex (value)"
   ]
  },
  {
   "cell_type": "markdown",
   "metadata": {},
   "source": [
    "# Visited dict\n",
    "\n",
    "to track visited vertices in bfs/dfs"
   ]
  },
  {
   "cell_type": "code",
   "execution_count": 64,
   "metadata": {},
   "outputs": [],
   "source": [
    "# vertex: False for all the vertices\n",
    "\n",
    "# visited = {\n",
    "#   0: False,\n",
    "#   1: False,\n",
    "#   ...\n",
    "# }"
   ]
  },
  {
   "cell_type": "code",
   "execution_count": 65,
   "metadata": {},
   "outputs": [
    {
     "name": "stdout",
     "output_type": "stream",
     "text": [
      "{0: False, 1: False, 2: False, 3: False, 4: False}\n"
     ]
    }
   ],
   "source": [
    "# loop method\n",
    "visited = {}\n",
    "\n",
    "for vertex in adjacency_list:  # syntax: for key in dict\n",
    "  visited[vertex] = False\n",
    "\n",
    "print(visited)"
   ]
  },
  {
   "cell_type": "code",
   "execution_count": 66,
   "metadata": {},
   "outputs": [
    {
     "name": "stdout",
     "output_type": "stream",
     "text": [
      "{0: False, 1: False, 2: False, 3: False, 4: False}\n"
     ]
    }
   ],
   "source": [
    "# dict comprehension method\n",
    "visited = {vertex: False for vertex in adjacency_list}\n",
    "\n",
    "print(visited)"
   ]
  },
  {
   "cell_type": "markdown",
   "metadata": {},
   "source": [
    "### initializing `visited`, `parent`, `level` for bfs/dfs"
   ]
  },
  {
   "cell_type": "code",
   "execution_count": 67,
   "metadata": {},
   "outputs": [
    {
     "name": "stdout",
     "output_type": "stream",
     "text": [
      "{0: False, 1: False, 2: False, 3: False, 4: False}\n",
      "{0: -1, 1: -1, 2: -1, 3: -1, 4: -1}\n",
      "{0: 0, 1: 0, 2: 0, 3: 0, 4: 0}\n"
     ]
    }
   ],
   "source": [
    "# loop method\n",
    "\n",
    "visited, parent, level = {}, {}, {}\n",
    "\n",
    "for vertex in adjacency_list:\n",
    "  visited[vertex] = False\n",
    "  parent[vertex] = -1\n",
    "  level[vertex] = 0\n",
    "\n",
    "print(visited)\n",
    "print(parent)\n",
    "print(level)"
   ]
  },
  {
   "cell_type": "code",
   "execution_count": 68,
   "metadata": {},
   "outputs": [
    {
     "name": "stdout",
     "output_type": "stream",
     "text": [
      "{0: False, 1: False, 2: False, 3: False, 4: False}\n",
      "{0: -1, 1: -1, 2: -1, 3: -1, 4: -1}\n",
      "{0: 0, 1: 0, 2: 0, 3: 0, 4: 0}\n"
     ]
    }
   ],
   "source": [
    "# dict comprehension method (preferred method)\n",
    "\n",
    "visited = {vertex: False for vertex in adjacency_list}\n",
    "parent = {vertex: -1 for vertex in adjacency_list}\n",
    "level = {vertex: 0 for vertex in adjacency_list}\n",
    "\n",
    "print(visited)\n",
    "print(parent)\n",
    "print(level)"
   ]
  },
  {
   "cell_type": "code",
   "execution_count": 1,
   "metadata": {},
   "outputs": [
    {
     "name": "stdout",
     "output_type": "stream",
     "text": [
      "10\n",
      "20\n",
      "30\n",
      "[40]\n"
     ]
    }
   ],
   "source": [
    "class Queue:\n",
    "  def __init__(self):\n",
    "    self.data = []\n",
    "\n",
    "  def is_empty(self):\n",
    "    return len(self.data) == 0\n",
    "\n",
    "  def enqueue(self, value):\n",
    "    self.data.append(value)\n",
    "\n",
    "  def dequeue(self):\n",
    "    if self.is_empty():\n",
    "      raise Exception('queue is empty')\n",
    "    return self.data.pop(0)\n",
    "\n",
    "  def __str__(self):\n",
    "    return str(self.data)\n",
    "\n",
    "\n",
    "queue = Queue()\n",
    "queue.enqueue(10)\n",
    "queue.enqueue(20)\n",
    "queue.enqueue(30)\n",
    "\n",
    "print(queue.dequeue())\n",
    "print(queue.dequeue())\n",
    "queue.enqueue(40)\n",
    "print(queue.dequeue())\n",
    "print(queue)"
   ]
  },
  {
   "cell_type": "code",
   "execution_count": 2,
   "metadata": {},
   "outputs": [
    {
     "name": "stdout",
     "output_type": "stream",
     "text": [
      "30\n",
      "20\n",
      "40\n",
      "[10]\n"
     ]
    }
   ],
   "source": [
    "class Stack:\n",
    "  def __init__(self):\n",
    "    self.data = []\n",
    "\n",
    "  def is_empty(self):\n",
    "    return len(self.data) == 0\n",
    "\n",
    "  def push(self, value):\n",
    "    self.data.append(value)\n",
    "\n",
    "  def pop(self):\n",
    "    if self.is_empty():\n",
    "      raise Exception('stack is empty')\n",
    "    return self.data.pop()\n",
    "\n",
    "  def __str__(self):\n",
    "    return str(self.data)\n",
    "\n",
    "\n",
    "stack = Stack()\n",
    "stack.push(10)\n",
    "stack.push(20)\n",
    "stack.push(30)\n",
    "\n",
    "print(stack.pop())\n",
    "print(stack.pop())\n",
    "stack.push(40)\n",
    "print(stack.pop())\n",
    "print(stack)"
   ]
  },
  {
   "attachments": {
    "image.png": {
     "image/png": "[encoded data removed]"
    }
   },
   "cell_type": "markdown",
   "metadata": {},
   "source": [
    "# BFS & DFS [☠️ Incorrect implementation warning ☠️]\n",
    "\n",
    "**Old incorrect implementation copied from `July 9 notebook` before updating for corrections**\n",
    "\n",
    "**For correct implementations read `July 9 notebook`**\n",
    "\n",
    "![image.png](attachment:image.png)"
   ]
  },
  {
   "cell_type": "code",
   "execution_count": 3,
   "metadata": {},
   "outputs": [],
   "source": [
    "def bfs(adjacency_list, start_vertex):\n",
    "  pass\n",
    "  # initialize visited dict = {vertex: False for all vertices}\n",
    "\n",
    "  # initialize the queue, enqueue the `start_vertex`\n",
    "  # mark the `start_vertex` as visited\n",
    "\n",
    "  # while queue is not empty:\n",
    "  # a. `curr_vertex` <- queue.dequeue()\n",
    "  # b. for all neighbors of `curr_vertex`:\n",
    "  #    if neighbor is not visited, enqueue it to queue, mark it visited\n",
    "\n",
    "  # return visited"
   ]
  },
  {
   "cell_type": "code",
   "execution_count": 4,
   "metadata": {},
   "outputs": [
    {
     "data": {
      "text/plain": [
       "({0: True, 1: True, 2: True, 3: True, 4: True}, [0, 1, 2, 3, 4])"
      ]
     },
     "execution_count": 4,
     "metadata": {},
     "output_type": "execute_result"
    }
   ],
   "source": [
    "def bfs(adjacency_list, start_vertex):\n",
    "  visited = {vertex: False for vertex in adjacency_list}\n",
    "  order = []\n",
    "\n",
    "  queue = Queue()\n",
    "  queue.enqueue(start_vertex)\n",
    "  visited[start_vertex] = True\n",
    "\n",
    "  while not queue.is_empty():\n",
    "    curr_vertex = queue.dequeue()\n",
    "    order.append(curr_vertex)  # traversal order\n",
    "\n",
    "    for adj_vertex in adjacency_list[curr_vertex]:\n",
    "      if not visited[adj_vertex]:\n",
    "        queue.enqueue(adj_vertex)\n",
    "        visited[adj_vertex] = True\n",
    "\n",
    "  return visited, order\n",
    "\n",
    "\n",
    "adjacency_list = {0: [1, 2], 1: [3, 4], 2: [4, 3], 3: [4], 4: []}\n",
    "bfs(adjacency_list, 0)"
   ]
  },
  {
   "attachments": {
    "image.png": {
     "image/png": "[encoded data removed]"
    }
   },
   "cell_type": "markdown",
   "metadata": {},
   "source": [
    "![image.png](attachment:image.png)"
   ]
  },
  {
   "cell_type": "code",
   "execution_count": 5,
   "metadata": {},
   "outputs": [
    {
     "data": {
      "text/plain": [
       "({0: True, 1: True, 2: True, 3: True, 4: True}, [0, 1, 2, 3, 4])"
      ]
     },
     "execution_count": 5,
     "metadata": {},
     "output_type": "execute_result"
    }
   ],
   "source": [
    "adjacency_list = {0: [1, 2], 1: [3, 4], 2: [4, 3], 3: [4], 4: []}\n",
    "bfs(adjacency_list, 0)\n",
    "\n",
    "# [0] <- queue (before while loop)\n",
    "# [] <- traversal (before while loop)\n",
    "\n",
    "# [1, 2] <- queue\n",
    "# [0] <- traversal (0)\n",
    "\n",
    "# [2, 3, 4] <- queue\n",
    "# [0, 1] <- traversal (1)\n",
    "\n",
    "# [3, 4] <- queue\n",
    "# [0, 1, 2] <- traversal (2)\n",
    "\n",
    "# [4] <- queue\n",
    "# [0, 1, 2, 3] <- traversal (3)\n",
    "\n",
    "# [] <- queue\n",
    "# [0, 1, 2, 3, 4] <- traversal (4)"
   ]
  },
  {
   "cell_type": "code",
   "execution_count": 6,
   "metadata": {},
   "outputs": [],
   "source": [
    "def dfs(adjacency_list, start_vertex):\n",
    "  pass\n",
    "  # initialize visited dict = {vertex: False for all vertices}\n",
    "\n",
    "  # initialize the stack, push the `start_vertex`\n",
    "  # mark the `start_vertex` as visited\n",
    "\n",
    "  # while stack is not empty:\n",
    "  # a. `curr_vertex` <- stack.pop()\n",
    "  # b. for all neighbors of `curr_vertex`:\n",
    "  #    if neighbor is not visited, push it to stack, mark it visited\n",
    "\n",
    "  # return visited"
   ]
  },
  {
   "cell_type": "code",
   "execution_count": 7,
   "metadata": {},
   "outputs": [
    {
     "data": {
      "text/plain": [
       "({0: True, 1: True, 2: True, 3: True, 4: True}, [0, 2, 3, 4, 1])"
      ]
     },
     "execution_count": 7,
     "metadata": {},
     "output_type": "execute_result"
    }
   ],
   "source": [
    "def dfs(adjacency_list, start_vertex):\n",
    "  visited = {vertex: False for vertex in adjacency_list}\n",
    "  order = []\n",
    "\n",
    "  stack = Stack()\n",
    "  stack.push(start_vertex)\n",
    "  visited[start_vertex] = True\n",
    "\n",
    "  while not stack.is_empty():\n",
    "    curr_vertex = stack.pop()\n",
    "    order.append(curr_vertex)  # traversal order\n",
    "\n",
    "    for adj_vertex in adjacency_list[curr_vertex]:\n",
    "      if not visited[adj_vertex]:\n",
    "        stack.push(adj_vertex)\n",
    "        visited[adj_vertex] = True\n",
    "\n",
    "  return visited, order\n",
    "\n",
    "\n",
    "adjacency_list = {0: [1, 2], 1: [3, 4], 2: [4, 3], 3: [4], 4: []}\n",
    "dfs(adjacency_list, 0)"
   ]
  },
  {
   "attachments": {
    "image.png": {
     "image/png": "[encoded data removed]"
    }
   },
   "cell_type": "markdown",
   "metadata": {},
   "source": [
    "![image.png](attachment:image.png)"
   ]
  },
  {
   "cell_type": "code",
   "execution_count": 8,
   "metadata": {},
   "outputs": [
    {
     "data": {
      "text/plain": [
       "({0: True, 1: True, 2: True, 3: True, 4: True}, [0, 2, 3, 4, 1])"
      ]
     },
     "execution_count": 8,
     "metadata": {},
     "output_type": "execute_result"
    }
   ],
   "source": [
    "adjacency_list = {0: [1, 2], 1: [3, 4], 2: [4, 3], 3: [4], 4: []}\n",
    "dfs(adjacency_list, 0)\n",
    "\n",
    "# [0] <- stack (before while loop)\n",
    "# [] <- traversal (before while loop)\n",
    "\n",
    "# [1, 2] <- stack\n",
    "# [0] <- traversal (0)\n",
    "\n",
    "# [1, 4, 3] <- stack\n",
    "# [0, 2] <- traversal (2)\n",
    "\n",
    "# [1, 4] <- stack\n",
    "# [0, 2, 3] <- traversal (3)\n",
    "\n",
    "# [1] <- stack\n",
    "# [0, 2, 3, 4] <- traversal (4)\n",
    "\n",
    "# [] <- stack\n",
    "# [0, 2, 3, 4, 1] <- traversal (1)"
   ]
  }
 ],
 "metadata": {
  "kernelspec": {
   "display_name": "Python 3",
   "language": "python",
   "name": "python3"
  },
  "language_info": {
   "codemirror_mode": {
    "name": "ipython",
    "version": 3
   },
   "file_extension": ".py",
   "mimetype": "text/x-python",
   "name": "python",
   "nbconvert_exporter": "python",
   "pygments_lexer": "ipython3",
   "version": "3.12.0"
  }
 },
 "nbformat": 4,
 "nbformat_minor": 2
}
