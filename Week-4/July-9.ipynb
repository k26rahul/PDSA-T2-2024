{
 "cells": [
  {
   "cell_type": "markdown",
   "metadata": {},
   "source": [
    "# printing all the names"
   ]
  },
  {
   "cell_type": "code",
   "execution_count": 8,
   "metadata": {},
   "outputs": [],
   "source": [
    "names = ['vidhatri', 'rahul', 'muskan', 'vaishnvi', 'harikesh']"
   ]
  },
  {
   "cell_type": "code",
   "execution_count": 9,
   "metadata": {},
   "outputs": [
    {
     "name": "stdout",
     "output_type": "stream",
     "text": [
      "vidhatri\n",
      "rahul\n",
      "muskan\n",
      "vaishnvi\n",
      "harikesh\n"
     ]
    }
   ],
   "source": [
    "# printing all the names (just print the values at indices 0-4)\n",
    "print(names[0])\n",
    "print(names[1])\n",
    "print(names[2])\n",
    "print(names[3])\n",
    "print(names[4])"
   ]
  },
  {
   "cell_type": "code",
   "execution_count": 10,
   "metadata": {},
   "outputs": [
    {
     "name": "stdout",
     "output_type": "stream",
     "text": [
      "0 vidhatri\n",
      "0 vidhatri\n",
      "0 vidhatri\n",
      "0 vidhatri\n",
      "0 vidhatri\n"
     ]
    }
   ],
   "source": [
    "# printing all the names (this wont work, why?)\n",
    "i = 0\n",
    "print(i, names[i])\n",
    "\n",
    "print(i, names[i])\n",
    "\n",
    "print(i, names[i])\n",
    "\n",
    "print(i, names[i])\n",
    "\n",
    "print(i, names[i])"
   ]
  },
  {
   "cell_type": "code",
   "execution_count": 11,
   "metadata": {},
   "outputs": [
    {
     "name": "stdout",
     "output_type": "stream",
     "text": [
      "0 vidhatri\n",
      "1 rahul\n",
      "2 muskan\n",
      "3 vaishnvi\n",
      "4 harikesh\n"
     ]
    }
   ],
   "source": [
    "# printing all the names (this works perfectly)\n",
    "i = 0\n",
    "print(i, names[i])\n",
    "\n",
    "i = 1\n",
    "print(i, names[i])\n",
    "\n",
    "i = 2\n",
    "print(i, names[i])\n",
    "\n",
    "i = 3\n",
    "print(i, names[i])\n",
    "\n",
    "i = 4\n",
    "print(i, names[i])"
   ]
  },
  {
   "cell_type": "code",
   "execution_count": 12,
   "metadata": {},
   "outputs": [
    {
     "name": "stdout",
     "output_type": "stream",
     "text": [
      "0\n",
      "vidhatri\n",
      "1\n",
      "rahul\n",
      "2\n",
      "muskan\n",
      "3\n",
      "vaishnvi\n",
      "4\n",
      "harikesh\n"
     ]
    }
   ],
   "source": [
    "# printing all the names (doing the same thing in a loop)\n",
    "for i in range(5):\n",
    "  print(i)  # index\n",
    "  print(names[i])  # value at index"
   ]
  },
  {
   "cell_type": "markdown",
   "metadata": {},
   "source": [
    "# range function"
   ]
  },
  {
   "cell_type": "code",
   "execution_count": 13,
   "metadata": {},
   "outputs": [
    {
     "data": {
      "text/plain": [
       "range(0, 5)"
      ]
     },
     "execution_count": 13,
     "metadata": {},
     "output_type": "execute_result"
    },
    {
     "data": {
      "text/plain": [
       "[0, 1, 2, 3, 4]"
      ]
     },
     "execution_count": 13,
     "metadata": {},
     "output_type": "execute_result"
    }
   ],
   "source": [
    "# range function is used to create an an integer range\n",
    "range(5)\n",
    "list(range(5))"
   ]
  },
  {
   "cell_type": "code",
   "execution_count": 14,
   "metadata": {},
   "outputs": [
    {
     "data": {
      "text/plain": [
       "range(0, 5)"
      ]
     },
     "execution_count": 14,
     "metadata": {},
     "output_type": "execute_result"
    },
    {
     "data": {
      "text/plain": [
       "range(0, 5)"
      ]
     },
     "execution_count": 14,
     "metadata": {},
     "output_type": "execute_result"
    }
   ],
   "source": [
    "# using range function to loop over indices of a list\n",
    "# do you know the exact length?\n",
    "\n",
    "range(5)  # length is hard coded\n",
    "range(len(names))  # length is calculated on the spot"
   ]
  },
  {
   "cell_type": "code",
   "execution_count": 15,
   "metadata": {},
   "outputs": [
    {
     "name": "stdout",
     "output_type": "stream",
     "text": [
      "0 vidhatri\n",
      "1 rahul\n",
      "2 muskan\n",
      "3 vaishnvi\n",
      "4 harikesh\n"
     ]
    }
   ],
   "source": [
    "# looping over indices\n",
    "# when you know the exact length of list (length is hard coded)\n",
    "\n",
    "for i in range(5):\n",
    "  print(i, names[i])"
   ]
  },
  {
   "cell_type": "code",
   "execution_count": 16,
   "metadata": {},
   "outputs": [
    {
     "name": "stdout",
     "output_type": "stream",
     "text": [
      "0 vidhatri\n",
      "1 rahul\n",
      "2 muskan\n",
      "3 vaishnvi\n",
      "4 harikesh\n"
     ]
    }
   ],
   "source": [
    "# looping over indices\n",
    "# you don't know the exact length of list (length is calculated on the spot)\n",
    "\n",
    "for i in range(len(names)):\n",
    "  print(i, names[i])"
   ]
  },
  {
   "cell_type": "markdown",
   "metadata": {},
   "source": [
    "# general syntax of `for`"
   ]
  },
  {
   "cell_type": "code",
   "execution_count": 17,
   "metadata": {},
   "outputs": [],
   "source": [
    "# general syntax of `for` loop on a list\n",
    "# for <i/name> in <range/names>"
   ]
  },
  {
   "cell_type": "code",
   "execution_count": 18,
   "metadata": {},
   "outputs": [
    {
     "name": "stdout",
     "output_type": "stream",
     "text": [
      "0 vidhatri\n",
      "1 rahul\n",
      "2 muskan\n",
      "3 vaishnvi\n",
      "4 harikesh\n"
     ]
    }
   ],
   "source": [
    "# looping over indices\n",
    "for i in range(len(names)):\n",
    "  print(i, names[i])"
   ]
  },
  {
   "cell_type": "code",
   "execution_count": 19,
   "metadata": {},
   "outputs": [
    {
     "name": "stdout",
     "output_type": "stream",
     "text": [
      "vidhatri\n",
      "rahul\n",
      "muskan\n",
      "vaishnvi\n",
      "harikesh\n"
     ]
    }
   ],
   "source": [
    "# looping over values\n",
    "for name in names:\n",
    "  print(name)"
   ]
  },
  {
   "cell_type": "markdown",
   "metadata": {},
   "source": [
    "## demo: name, marks\n",
    "\n",
    "looping over indices/values, when to do what?"
   ]
  },
  {
   "cell_type": "code",
   "execution_count": 20,
   "metadata": {},
   "outputs": [],
   "source": [
    "names = ['vidhatri', 'rahul', 'muskan', 'vaishnvi', 'harikesh']\n",
    "marks = [100, 90, 95, 70, 80]"
   ]
  },
  {
   "cell_type": "code",
   "execution_count": 21,
   "metadata": {},
   "outputs": [
    {
     "name": "stdout",
     "output_type": "stream",
     "text": [
      "0 vidhatri 100\n",
      "1 rahul 90\n",
      "2 muskan 95\n",
      "3 vaishnvi 70\n",
      "4 harikesh 80\n"
     ]
    }
   ],
   "source": [
    "# looping over indices\n",
    "for i in range(len(names)):\n",
    "  print(i, names[i], marks[i])  # using the index you can get the name and marks both"
   ]
  },
  {
   "cell_type": "code",
   "execution_count": 22,
   "metadata": {},
   "outputs": [
    {
     "name": "stdout",
     "output_type": "stream",
     "text": [
      "vidhatri\n",
      "rahul\n",
      "muskan\n",
      "vaishnvi\n",
      "harikesh\n"
     ]
    }
   ],
   "source": [
    "# looping over values\n",
    "for name in names:\n",
    "  print(name)  # there is no way to get the marks of a `name`"
   ]
  },
  {
   "cell_type": "markdown",
   "metadata": {},
   "source": [
    "## demo: numbers\n",
    "\n",
    "looping over indices/values\n",
    "\n",
    "i/x semantics"
   ]
  },
  {
   "cell_type": "code",
   "execution_count": 23,
   "metadata": {},
   "outputs": [
    {
     "name": "stdout",
     "output_type": "stream",
     "text": [
      "0 17\n",
      "1 18\n",
      "2 19\n",
      "3 20\n",
      "4 21\n"
     ]
    }
   ],
   "source": [
    "# using i loop (i: indices)\n",
    "numbers = [17, 18, 19, 20, 21]\n",
    "for i in range(len(numbers)):\n",
    "  print(i, numbers[i])"
   ]
  },
  {
   "cell_type": "code",
   "execution_count": 24,
   "metadata": {},
   "outputs": [
    {
     "name": "stdout",
     "output_type": "stream",
     "text": [
      "17\n",
      "18\n",
      "19\n",
      "20\n",
      "21\n"
     ]
    }
   ],
   "source": [
    "# using x loop (x: values)\n",
    "numbers = [17, 18, 19, 20, 21]\n",
    "for x in numbers:\n",
    "  print(x)"
   ]
  },
  {
   "cell_type": "markdown",
   "metadata": {},
   "source": [
    "## demo: exam_result\n",
    "\n",
    "list comprehension\n",
    "\n",
    "dict comprehension"
   ]
  },
  {
   "cell_type": "code",
   "execution_count": 25,
   "metadata": {},
   "outputs": [],
   "source": [
    "# list comprehension syntax\n",
    "# my_list = [value for value in <>]\n",
    "\n",
    "# dict comprehension syntax\n",
    "# my_dict = [key: ? for key in <>]"
   ]
  },
  {
   "cell_type": "markdown",
   "metadata": {},
   "source": [
    "### make `exam_result`: a list of (name, marks)"
   ]
  },
  {
   "cell_type": "code",
   "execution_count": 89,
   "metadata": {},
   "outputs": [
    {
     "name": "stdout",
     "output_type": "stream",
     "text": [
      "[('vidhatri', 100), ('rahul', 90), ('muskan', 95), ('vaishnvi', 70), ('harikesh', 80)]\n"
     ]
    }
   ],
   "source": [
    "# loop & append\n",
    "exam_result = []\n",
    "for i in range(len(names)):\n",
    "  exam_result.append((names[i], marks[i]))\n",
    "\n",
    "print(exam_result)"
   ]
  },
  {
   "cell_type": "code",
   "execution_count": 90,
   "metadata": {},
   "outputs": [
    {
     "name": "stdout",
     "output_type": "stream",
     "text": [
      "[('vidhatri', 100), ('rahul', 90), ('muskan', 95), ('vaishnvi', 70), ('harikesh', 80)]\n"
     ]
    }
   ],
   "source": [
    "# list comprehension\n",
    "exam_result = [(names[i], marks[i]) for i in range(len(names))]\n",
    "\n",
    "print(exam_result)"
   ]
  },
  {
   "cell_type": "markdown",
   "metadata": {},
   "source": [
    "### make `exam_result`: a dict of (name : marks)"
   ]
  },
  {
   "cell_type": "code",
   "execution_count": 91,
   "metadata": {},
   "outputs": [
    {
     "name": "stdout",
     "output_type": "stream",
     "text": [
      "{'vidhatri': 100, 'rahul': 90, 'muskan': 95, 'vaishnvi': 70, 'harikesh': 80}\n"
     ]
    }
   ],
   "source": [
    "# loop & set key-value pairs\n",
    "exam_result = {}\n",
    "for i in range(len(names)):\n",
    "  key = names[i]\n",
    "  value = marks[i]\n",
    "  exam_result[key] = value\n",
    "\n",
    "print(exam_result)"
   ]
  },
  {
   "cell_type": "code",
   "execution_count": 92,
   "metadata": {},
   "outputs": [
    {
     "name": "stdout",
     "output_type": "stream",
     "text": [
      "{'vidhatri': 100, 'rahul': 90, 'muskan': 95, 'vaishnvi': 70, 'harikesh': 80}\n"
     ]
    }
   ],
   "source": [
    "# dict comprehension\n",
    "exam_result = {names[i]: marks[i] for i in range(len(names))}\n",
    "\n",
    "print(exam_result)"
   ]
  },
  {
   "cell_type": "markdown",
   "metadata": {},
   "source": [
    "# Adjacency list"
   ]
  },
  {
   "cell_type": "code",
   "execution_count": 30,
   "metadata": {},
   "outputs": [],
   "source": [
    "# vertex: neighbors of vertex\n",
    "# u: [v1, v2, ...]\n",
    "# u -> v1\n",
    "# u -> v2\n",
    "# ...\n",
    "adjacency_list = {0: [1, 2], 1: [3, 4], 2: [4, 3], 3: [4], 4: []}"
   ]
  },
  {
   "cell_type": "code",
   "execution_count": 31,
   "metadata": {},
   "outputs": [
    {
     "name": "stdout",
     "output_type": "stream",
     "text": [
      "0\n",
      "[1, 2]\n",
      "1\n",
      "[3, 4]\n",
      "2\n",
      "[4, 3]\n",
      "3\n",
      "[4]\n",
      "4\n",
      "[]\n"
     ]
    }
   ],
   "source": [
    "# for key in dict\n",
    "for vertex in adjacency_list:\n",
    "  print(vertex)  # vertex (key)\n",
    "  print(adjacency_list[vertex])  # neighbors of vertex (value)"
   ]
  },
  {
   "cell_type": "markdown",
   "metadata": {},
   "source": [
    "# Visited dict\n",
    "\n",
    "to track visited vertices in bfs/dfs"
   ]
  },
  {
   "cell_type": "code",
   "execution_count": 33,
   "metadata": {},
   "outputs": [],
   "source": [
    "# vertex: False for all the vertices\n",
    "\n",
    "# visited = {\n",
    "#   0: False,\n",
    "#   1: False,\n",
    "#   ...\n",
    "# }"
   ]
  },
  {
   "cell_type": "code",
   "execution_count": 64,
   "metadata": {},
   "outputs": [
    {
     "name": "stdout",
     "output_type": "stream",
     "text": [
      "{1: False, 2: False, 3: False, 4: False, 5: False, 7: False, 6: False}\n"
     ]
    }
   ],
   "source": [
    "# loop method\n",
    "visited = {}\n",
    "\n",
    "for vertex in adjacency_list:  # syntax: for key in dict\n",
    "  visited[vertex] = False\n",
    "\n",
    "print(visited)"
   ]
  },
  {
   "cell_type": "code",
   "execution_count": 66,
   "metadata": {},
   "outputs": [
    {
     "name": "stdout",
     "output_type": "stream",
     "text": [
      "{1: False, 2: False, 3: False, 4: False, 5: False, 7: False, 6: False}\n"
     ]
    }
   ],
   "source": [
    "# dict comprehension method\n",
    "visited = {vertex: False for vertex in adjacency_list}\n",
    "\n",
    "print(visited)"
   ]
  },
  {
   "cell_type": "markdown",
   "metadata": {},
   "source": [
    "### initializing `visited`, `parent`, `level` for bfs/dfs"
   ]
  },
  {
   "cell_type": "code",
   "execution_count": 71,
   "metadata": {},
   "outputs": [
    {
     "name": "stdout",
     "output_type": "stream",
     "text": [
      "{1: False, 2: False, 3: False, 4: False, 5: False, 7: False, 6: False}\n",
      "{1: -1, 2: -1, 3: -1, 4: -1, 5: -1, 7: -1, 6: -1}\n",
      "{1: 0, 2: 0, 3: 0, 4: 0, 5: 0, 7: 0, 6: 0}\n"
     ]
    }
   ],
   "source": [
    "# loop method\n",
    "\n",
    "visited, parent, level = {}, {}, {}\n",
    "\n",
    "for vertex in adjacency_list:\n",
    "  visited[vertex] = False\n",
    "  parent[vertex] = -1\n",
    "  level[vertex] = 0\n",
    "\n",
    "print(visited)\n",
    "print(parent)\n",
    "print(level)"
   ]
  },
  {
   "cell_type": "code",
   "execution_count": 127,
   "metadata": {},
   "outputs": [
    {
     "name": "stdout",
     "output_type": "stream",
     "text": [
      "{1: False, 2: False, 3: False, 4: False, 5: False, 7: False, 6: False}\n",
      "{1: -1, 2: -1, 3: -1, 4: -1, 5: -1, 7: -1, 6: -1}\n",
      "{1: 0, 2: 0, 3: 0, 4: 0, 5: 0, 7: 0, 6: 0}\n"
     ]
    }
   ],
   "source": [
    "# dict comprehension method (preferred method)\n",
    "\n",
    "visited = {vertex: False for vertex in adjacency_list}\n",
    "parent = {vertex: -1 for vertex in adjacency_list}\n",
    "level = {vertex: 0 for vertex in adjacency_list}\n",
    "\n",
    "print(visited)\n",
    "print(parent)\n",
    "print(level)"
   ]
  },
  {
   "cell_type": "markdown",
   "metadata": {},
   "source": [
    "# Queue & Stack"
   ]
  },
  {
   "cell_type": "code",
   "execution_count": 38,
   "metadata": {},
   "outputs": [
    {
     "name": "stdout",
     "output_type": "stream",
     "text": [
      "10\n",
      "20\n",
      "30\n",
      "[40]\n"
     ]
    }
   ],
   "source": [
    "class Queue:\n",
    "  def __init__(self):\n",
    "    self.data = []\n",
    "\n",
    "  def is_empty(self):\n",
    "    return len(self.data) == 0\n",
    "\n",
    "  def enqueue(self, value):\n",
    "    self.data.append(value)\n",
    "\n",
    "  def dequeue(self):\n",
    "    if self.is_empty():\n",
    "      raise Exception('queue is empty')\n",
    "    return self.data.pop(0)\n",
    "\n",
    "  def __str__(self):\n",
    "    return str(self.data)\n",
    "\n",
    "\n",
    "queue = Queue()\n",
    "queue.enqueue(10)\n",
    "queue.enqueue(20)\n",
    "queue.enqueue(30)\n",
    "\n",
    "print(queue.dequeue())\n",
    "print(queue.dequeue())\n",
    "queue.enqueue(40)\n",
    "print(queue.dequeue())\n",
    "print(queue)"
   ]
  },
  {
   "cell_type": "code",
   "execution_count": 39,
   "metadata": {},
   "outputs": [
    {
     "name": "stdout",
     "output_type": "stream",
     "text": [
      "30\n",
      "20\n",
      "40\n",
      "[10]\n"
     ]
    }
   ],
   "source": [
    "class Stack:\n",
    "  def __init__(self):\n",
    "    self.data = []\n",
    "\n",
    "  def is_empty(self):\n",
    "    return len(self.data) == 0\n",
    "\n",
    "  def push(self, value):\n",
    "    self.data.append(value)\n",
    "\n",
    "  def pop(self):\n",
    "    if self.is_empty():\n",
    "      raise Exception('stack is empty')\n",
    "    return self.data.pop()\n",
    "\n",
    "  def __str__(self):\n",
    "    return str(self.data)\n",
    "\n",
    "\n",
    "stack = Stack()\n",
    "stack.push(10)\n",
    "stack.push(20)\n",
    "stack.push(30)\n",
    "\n",
    "print(stack.pop())\n",
    "print(stack.pop())\n",
    "stack.push(40)\n",
    "print(stack.pop())\n",
    "print(stack)"
   ]
  },
  {
   "cell_type": "markdown",
   "metadata": {},
   "source": [
    "# BFS"
   ]
  },
  {
   "cell_type": "code",
   "execution_count": 94,
   "metadata": {},
   "outputs": [],
   "source": [
    "def bfs(adjacency_list, start_vertex):\n",
    "  pass\n",
    "  # initialize visited dict = {vertex: False for all vertices}\n",
    "\n",
    "  # initialize the queue, enqueue the `start_vertex`\n",
    "  # mark the `start_vertex` as visited\n",
    "\n",
    "  # while queue is not empty:\n",
    "  # a. `curr_vertex` <- queue.dequeue()\n",
    "  # b. for all neighbors of `curr_vertex`:\n",
    "  #    if neighbor is not visited, enqueue it to queue, mark it visited\n",
    "\n",
    "  # return visited"
   ]
  },
  {
   "cell_type": "code",
   "execution_count": 95,
   "metadata": {},
   "outputs": [
    {
     "data": {
      "text/plain": [
       "({0: True, 1: True, 2: True, 3: True, 4: True}, [0, 1, 2, 3, 4])"
      ]
     },
     "execution_count": 95,
     "metadata": {},
     "output_type": "execute_result"
    }
   ],
   "source": [
    "def bfs(adjacency_list, start_vertex):\n",
    "  visited = {vertex: False for vertex in adjacency_list}\n",
    "  order = []\n",
    "\n",
    "  queue = Queue()\n",
    "  queue.enqueue(start_vertex)\n",
    "  visited[start_vertex] = True\n",
    "\n",
    "  while not queue.is_empty():\n",
    "    curr_vertex = queue.dequeue()\n",
    "    order.append(curr_vertex)  # traversal order\n",
    "\n",
    "    for adj_vertex in adjacency_list[curr_vertex]:\n",
    "      if not visited[adj_vertex]:\n",
    "        queue.enqueue(adj_vertex)\n",
    "        visited[adj_vertex] = True\n",
    "\n",
    "  return visited, order\n",
    "\n",
    "\n",
    "adjacency_list = {0: [1, 2], 1: [3, 4], 2: [4, 3], 3: [4], 4: []}\n",
    "bfs(adjacency_list, 0)"
   ]
  },
  {
   "cell_type": "code",
   "execution_count": 109,
   "metadata": {},
   "outputs": [
    {
     "data": {
      "text/plain": [
       "({0: True, 1: True, 2: True, 3: True, 4: True}, [0, 1, 2, 3, 4])"
      ]
     },
     "execution_count": 109,
     "metadata": {},
     "output_type": "execute_result"
    }
   ],
   "source": [
    "adjacency_list = {0: [1, 2], 1: [3, 4], 2: [4, 3], 3: [4], 4: []}\n",
    "bfs(adjacency_list, 0)\n",
    "\n",
    "# [0] <- queue (before while loop)\n",
    "# [] <- traversal (before while loop)\n",
    "\n",
    "# [1, 2] <- queue\n",
    "# [0] <- traversal (0)\n",
    "\n",
    "# [2, 3, 4] <- queue\n",
    "# [0, 1] <- traversal (1)\n",
    "\n",
    "# [3, 4] <- queue\n",
    "# [0, 1, 2] <- traversal (2)\n",
    "\n",
    "# [4] <- queue\n",
    "# [0, 1, 2, 3] <- traversal (3)\n",
    "\n",
    "# [] <- queue\n",
    "# [0, 1, 2, 3, 4] <- traversal (4)"
   ]
  },
  {
   "attachments": {
    "image.png": {
     "image/png": "[encoded data removed]"
    }
   },
   "cell_type": "markdown",
   "metadata": {},
   "source": [
    "![image.png](attachment:image.png)"
   ]
  },
  {
   "cell_type": "markdown",
   "metadata": {},
   "source": [
    "# DFS"
   ]
  },
  {
   "cell_type": "code",
   "execution_count": 98,
   "metadata": {},
   "outputs": [],
   "source": [
    "def dfs(adjacency_list, start_vertex):\n",
    "  pass\n",
    "  # initialize visited dict = {vertex: False for all vertices}\n",
    "\n",
    "  # initialize the stack, push the `start_vertex`\n",
    "  # mark the `start_vertex` as visited\n",
    "\n",
    "  # while stack is not empty:\n",
    "  # a. `curr_vertex` <- stack.pop()\n",
    "  # b. for all neighbors of `curr_vertex`:\n",
    "  #    if neighbor is not visited, push it to stack, mark it visited\n",
    "\n",
    "  # return visited"
   ]
  },
  {
   "cell_type": "code",
   "execution_count": 79,
   "metadata": {},
   "outputs": [
    {
     "data": {
      "text/plain": [
       "({0: True, 1: True, 2: True, 3: True, 4: True}, [0, 2, 3, 4, 1])"
      ]
     },
     "execution_count": 79,
     "metadata": {},
     "output_type": "execute_result"
    }
   ],
   "source": [
    "def dfs(adjacency_list, start_vertex):\n",
    "  visited = {vertex: False for vertex in adjacency_list}\n",
    "  order = []\n",
    "\n",
    "  stack = Stack()\n",
    "  stack.push(start_vertex)\n",
    "  visited[start_vertex] = True\n",
    "\n",
    "  while not stack.is_empty():\n",
    "    curr_vertex = stack.pop()\n",
    "    order.append(curr_vertex)  # traversal order\n",
    "\n",
    "    for adj_vertex in adjacency_list[curr_vertex]:\n",
    "      if not visited[adj_vertex]:\n",
    "        stack.push(adj_vertex)\n",
    "        visited[adj_vertex] = True\n",
    "\n",
    "  return visited, order\n",
    "\n",
    "\n",
    "adjacency_list = {0: [1, 2], 1: [3, 4], 2: [4, 3], 3: [4], 4: []}\n",
    "dfs(adjacency_list, 0)"
   ]
  },
  {
   "cell_type": "code",
   "execution_count": 99,
   "metadata": {},
   "outputs": [],
   "source": [
    "adjacency_list = {0: [1, 2], 1: [3, 4], 2: [4, 3], 3: [4], 4: []}\n",
    "dfs(adjacency_list, 0)\n",
    "\n",
    "# [0] <- stack (before while loop)\n",
    "# [] <- traversal (before while loop)\n",
    "\n",
    "# [1, 2] <- stack\n",
    "# [0] <- traversal (0)\n",
    "\n",
    "# [1, 4, 3] <- stack\n",
    "# [0, 2] <- traversal (2)\n",
    "\n",
    "# [1, 4] <- stack\n",
    "# [0, 2, 3] <- traversal (3)\n",
    "\n",
    "# [1] <- stack\n",
    "# [0, 2, 3, 4] <- traversal (4)\n",
    "\n",
    "# [] <- stack\n",
    "# [0, 2, 3, 4, 1] <- traversal (1)"
   ]
  },
  {
   "attachments": {
    "image.png": {
     "image/png": "[encoded data removed]"
    }
   },
   "cell_type": "markdown",
   "metadata": {},
   "source": [
    "![image.png](attachment:image.png)"
   ]
  },
  {
   "cell_type": "markdown",
   "metadata": {},
   "source": [
    "# DFS recursive"
   ]
  },
  {
   "cell_type": "code",
   "execution_count": 100,
   "metadata": {},
   "outputs": [],
   "source": [
    "def dfs_recursive(adjacency_list, curr_vertex, visited=None, order=None):\n",
    "  pass\n",
    "  # if visited is none, initialize visited and order\n",
    "  # mark `curr_vertex` as visited\n",
    "  # append `curr_vertex` to order\n",
    "\n",
    "  # for all neighbors of `curr_vertex`:\n",
    "  #   if neighbor is not visited, call dfs_recursive on neighbor\n",
    "\n",
    "  # return visited and order"
   ]
  },
  {
   "cell_type": "code",
   "execution_count": 111,
   "metadata": {},
   "outputs": [
    {
     "data": {
      "text/plain": [
       "({0: True, 1: True, 2: True, 3: True, 4: True}, [0, 1, 3, 4, 2])"
      ]
     },
     "execution_count": 111,
     "metadata": {},
     "output_type": "execute_result"
    }
   ],
   "source": [
    "def dfs_recursive(adjacency_list, curr_vertex, visited=None, order=None):\n",
    "  if visited is None:\n",
    "    visited = {vertex: False for vertex in adjacency_list}\n",
    "    order = []\n",
    "\n",
    "  visited[curr_vertex] = True\n",
    "  order.append(curr_vertex)  # traversal order\n",
    "\n",
    "  for adj_vertex in adjacency_list[curr_vertex]:\n",
    "    if not visited[adj_vertex]:\n",
    "      dfs_recursive(adjacency_list, adj_vertex, visited, order)\n",
    "\n",
    "  return visited, order\n",
    "\n",
    "\n",
    "adjacency_list = {0: [1, 2], 1: [3, 4], 2: [4, 3], 3: [4], 4: []}\n",
    "dfs_recursive(adjacency_list, 0)"
   ]
  },
  {
   "cell_type": "code",
   "execution_count": 112,
   "metadata": {},
   "outputs": [
    {
     "data": {
      "text/plain": [
       "({0: True, 1: True, 2: True, 3: True, 4: True}, [0, 1, 3, 4, 2])"
      ]
     },
     "execution_count": 112,
     "metadata": {},
     "output_type": "execute_result"
    }
   ],
   "source": [
    "adjacency_list = {0: [1, 2], 1: [3, 4], 2: [4, 3], 3: [4], 4: []}\n",
    "dfs_recursive(adjacency_list, 0)\n",
    "\n",
    "# call dfs_recursive(adjacency_list, 0)\n",
    "# 0 -> visited\n",
    "#\n",
    "#         call dfs_recursive(adjacency_list, 1)\n",
    "#         1 -> visited\n",
    "#\n",
    "#                 call dfs_recursive(adjacency_list, 3)\n",
    "#                 3 -> visited\n",
    "#\n",
    "#                         call dfs_recursive(adjacency_list, 4)\n",
    "#                         4 -> visited\n",
    "#\n",
    "#         return to call dfs_recursive(adjacency_list, 1)\n",
    "#\n",
    "#                 call dfs_recursive(adjacency_list, 4)\n",
    "#                 skipped (already visited)\n",
    "#\n",
    "# return to call dfs_recursive(adjacency_list, 0)\n",
    "#\n",
    "#         call dfs_recursive(adjacency_list, 2)\n",
    "#         2 -> visited\n",
    "#\n",
    "#                 call dfs_recursive(adjacency_list, 4)\n",
    "#                 skipped (already visited)\n",
    "#\n",
    "#                 call dfs_recursive(adjacency_list, 3)\n",
    "#                 skipped (already visited)\n",
    "#\n",
    "# return to call dfs_recursive(adjacency_list, 0)\n",
    "#\n",
    "# 🏁 finish\n",
    "# 👉 dfs traversal order = [0, 1, 3, 4, 2]"
   ]
  },
  {
   "attachments": {
    "image.png": {
     "image/png": "[encoded data removed]"
    }
   },
   "cell_type": "markdown",
   "metadata": {},
   "source": [
    "![image.png](attachment:image.png)"
   ]
  },
  {
   "cell_type": "code",
   "execution_count": 113,
   "metadata": {},
   "outputs": [
    {
     "data": {
      "text/plain": [
       "({1: True, 2: True, 3: True, 4: True, 5: True, 7: True, 6: True},\n",
       " [1, 2, 4, 6, 7, 3, 5])"
      ]
     },
     "execution_count": 113,
     "metadata": {},
     "output_type": "execute_result"
    }
   ],
   "source": [
    "adjacency_list = {\n",
    "    1: [2, 3, 7],\n",
    "    2: [4, 7],\n",
    "    3: [5, 7],\n",
    "    4: [6],\n",
    "    5: [6],\n",
    "    7: [6],\n",
    "    6: []\n",
    "}\n",
    "dfs_recursive(adjacency_list, 1)"
   ]
  },
  {
   "attachments": {
    "image.png": {
     "image/png": "[encoded data removed]"
    }
   },
   "cell_type": "markdown",
   "metadata": {},
   "source": [
    "![image.png](attachment:image.png)"
   ]
  },
  {
   "cell_type": "markdown",
   "metadata": {},
   "source": [
    "# DFS vs DFS recursive vs BFS"
   ]
  },
  {
   "cell_type": "code",
   "execution_count": 115,
   "metadata": {},
   "outputs": [
    {
     "data": {
      "text/plain": [
       "({0: True, 1: True, 2: True, 3: True, 4: True}, [0, 1, 3, 4, 2])"
      ]
     },
     "execution_count": 115,
     "metadata": {},
     "output_type": "execute_result"
    },
    {
     "data": {
      "text/plain": [
       "({0: True, 1: True, 2: True, 3: True, 4: True}, [0, 1, 2, 3, 4])"
      ]
     },
     "execution_count": 115,
     "metadata": {},
     "output_type": "execute_result"
    }
   ],
   "source": [
    "adjacency_list = {0: [1, 2], 1: [3, 4], 2: [4, 3], 3: [4], 4: []}\n",
    "dfs(adjacency_list, 0)\n",
    "dfs_recursive(adjacency_list, 0)\n",
    "bfs(adjacency_list, 0)"
   ]
  },
  {
   "cell_type": "markdown",
   "metadata": {},
   "source": [
    "# Find Connected Components in graph using BFS"
   ]
  },
  {
   "cell_type": "code",
   "execution_count": 86,
   "metadata": {},
   "outputs": [],
   "source": [
    "def bfs(adjacency_list, start_vertex, visited):\n",
    "  pass\n",
    "  # initialize queue and enqueue `start_vertex`\n",
    "  # mark `start_vertex` as visited\n",
    "  # initialize component list\n",
    "\n",
    "  # while queue is not empty:\n",
    "  #   `curr_vertex` <- queue.dequeue()\n",
    "  #   add `curr_vertex` to component\n",
    "  #   for all neighbors of `curr_vertex`:\n",
    "  #     if neighbor is not visited, enqueue it and mark it visited\n",
    "\n",
    "  # return component\n",
    "\n",
    "\n",
    "def find_connected_components(adjacency_list):\n",
    "  pass\n",
    "  # initialize visited dict = {vertex: false for all vertices}\n",
    "  # initialize components list\n",
    "\n",
    "  # for each vertex in adjacency_list:\n",
    "  #   if vertex is not visited, call bfs and append result to components\n",
    "\n",
    "  # return components"
   ]
  },
  {
   "cell_type": "code",
   "execution_count": 128,
   "metadata": {},
   "outputs": [
    {
     "data": {
      "text/plain": [
       "[['A', 'B', 'C', 'D'], ['E', 'F']]"
      ]
     },
     "execution_count": 128,
     "metadata": {},
     "output_type": "execute_result"
    }
   ],
   "source": [
    "def bfs(adjacency_list, start_vertex, visited):\n",
    "  queue = Queue()\n",
    "  queue.enqueue(start_vertex)\n",
    "  visited[start_vertex] = True\n",
    "\n",
    "  component = []\n",
    "\n",
    "  while not queue.is_empty():\n",
    "    curr_vertex = queue.dequeue()\n",
    "    component.append(curr_vertex)\n",
    "    for adj_vertex in adjacency_list[curr_vertex]:\n",
    "      if not visited[adj_vertex]:\n",
    "        queue.enqueue(adj_vertex)\n",
    "        visited[adj_vertex] = True\n",
    "  return component\n",
    "\n",
    "\n",
    "def find_connected_components(adjacency_list):\n",
    "  visited = {vertex: False for vertex in adjacency_list}\n",
    "  components = []\n",
    "\n",
    "  for vertex in adjacency_list:\n",
    "    if not visited[vertex]:\n",
    "      component = bfs(adjacency_list, vertex, visited)\n",
    "      components.append(component)\n",
    "  return components\n",
    "\n",
    "\n",
    "adjacency_list = {\n",
    "    'A': ['B'],\n",
    "    'B': ['C', 'D'],\n",
    "    'C': ['A'],\n",
    "    'D': [],\n",
    "    'E': ['F'],\n",
    "    'F': [],\n",
    "}\n",
    "\n",
    "find_connected_components(adjacency_list)"
   ]
  },
  {
   "cell_type": "markdown",
   "metadata": {},
   "source": [
    "# Pre and Post Numbering Using DFS"
   ]
  },
  {
   "cell_type": "code",
   "execution_count": 116,
   "metadata": {},
   "outputs": [],
   "source": [
    "def dfs(adjacency_list, curr_vertex, visited, pre, post, counter):\n",
    "  pass\n",
    "  # mark curr_vertex as visited\n",
    "\n",
    "  # set pre[curr_vertex] to counter value, increment counter\n",
    "\n",
    "  # for each neighbor of curr_vertex:\n",
    "  #   if neighbor is not visited, call dfs on neighbor\n",
    "\n",
    "  # set post[curr_vertex] to counter value, increment counter\n",
    "\n",
    "\n",
    "def pre_post_numbering(adjacency_list):\n",
    "  pass\n",
    "  # initialize visited, pre, post dictionaries, and counter\n",
    "\n",
    "  # for each vertex in adjacency_list:\n",
    "  #   if vertex is not visited, call dfs\n",
    "\n",
    "  # return pre and post dictionaries"
   ]
  },
  {
   "cell_type": "code",
   "execution_count": 122,
   "metadata": {},
   "outputs": [
    {
     "name": "stdout",
     "output_type": "stream",
     "text": [
      "0: (0, 9)\n",
      "1: (1, 6)\n",
      "2: (7, 8)\n",
      "3: (2, 3)\n",
      "4: (4, 5)\n",
      "5: (10, 11)\n"
     ]
    }
   ],
   "source": [
    "def dfs(adjacency_list, curr_vertex, visited, pre, post, counter):\n",
    "  visited[curr_vertex] = True\n",
    "\n",
    "  pre[curr_vertex] = counter[0]  # dfs visits the `curr_vertex`\n",
    "  counter[0] += 1\n",
    "\n",
    "  # dfs visits the neighbors of `curr_vertex`\n",
    "  for adj_vertex in adjacency_list[curr_vertex]:\n",
    "    if not visited[adj_vertex]:\n",
    "      dfs(adjacency_list, adj_vertex, visited, pre, post, counter)\n",
    "\n",
    "  post[curr_vertex] = counter[0]  # dfs leaves the `curr_vertex`\n",
    "  counter[0] += 1\n",
    "\n",
    "\n",
    "def pre_post_numbering(adjacency_list):\n",
    "  visited = {vertex: False for vertex in adjacency_list}\n",
    "  pre = {vertex: -1 for vertex in adjacency_list}\n",
    "  post = {vertex: -1 for vertex in adjacency_list}\n",
    "  counter = [0]\n",
    "\n",
    "  for vertex in adjacency_list:\n",
    "    if not visited[vertex]:\n",
    "      dfs(adjacency_list, vertex, visited, pre, post, counter)\n",
    "\n",
    "  return pre, post\n",
    "\n",
    "\n",
    "adjacency_list = {\n",
    "    0: [1, 2],\n",
    "    1: [3, 4],\n",
    "    2: [],\n",
    "    3: [],\n",
    "    4: [],\n",
    "    5: []\n",
    "}\n",
    "\n",
    "#     0\n",
    "#    / \\\n",
    "#   1   2   5\n",
    "#  / \\\n",
    "# 3   4\n",
    "\n",
    "# visit 0 (0, -1)\n",
    "#         visit 1 (1, -1)\n",
    "#                 visit 3 (2, -1)\n",
    "#                 leave 3 (2, 3)\n",
    "#\n",
    "#                 visit 4 (4, -1)\n",
    "#                 leave 4 (4, 5)\n",
    "#         leave 1 (1, 6)\n",
    "#\n",
    "#         visit 2 (7, -1)\n",
    "#         leave 2 (7, 8)\n",
    "# leave 0 (0, 9)\n",
    "#\n",
    "# visit 5 (10, -1)\n",
    "# leave 5 (10, 11)\n",
    "\n",
    "pre, post = pre_post_numbering(adjacency_list)\n",
    "for vertex in adjacency_list:\n",
    "  print(f'{vertex}: ({pre[vertex]}, {post[vertex]})')"
   ]
  },
  {
   "cell_type": "markdown",
   "metadata": {},
   "source": [
    "# DAG Topological Sort"
   ]
  },
  {
   "cell_type": "code",
   "execution_count": 54,
   "metadata": {},
   "outputs": [],
   "source": [
    "def dfs(adjacency_list, curr_vertex, visited, stack):\n",
    "  pass\n",
    "  # mark curr_vertex as visited\n",
    "\n",
    "  # for each neighbor of curr_vertex:\n",
    "  #   if neighbor is not visited, call dfs on neighbor\n",
    "\n",
    "  # append curr_vertex to stack\n",
    "\n",
    "\n",
    "def topological_sort(adjacency_list):\n",
    "  pass\n",
    "  # initialize visited dictionary and stack\n",
    "\n",
    "  # for each vertex in adjacency_list:\n",
    "  #   if vertex is not visited, call dfs\n",
    "\n",
    "  # return stack in reverse order"
   ]
  },
  {
   "cell_type": "code",
   "execution_count": 123,
   "metadata": {},
   "outputs": [
    {
     "data": {
      "text/plain": [
       "[5, 0, 2, 1, 4, 3]"
      ]
     },
     "execution_count": 123,
     "metadata": {},
     "output_type": "execute_result"
    }
   ],
   "source": [
    "def dfs(adjacency_list, curr_vertex, visited, stack):\n",
    "  visited[curr_vertex] = True\n",
    "\n",
    "  for neighbor in adjacency_list[curr_vertex]:\n",
    "    if not visited[neighbor]:\n",
    "      dfs(adjacency_list, neighbor, visited, stack)\n",
    "\n",
    "  stack.append(curr_vertex)\n",
    "\n",
    "\n",
    "def topological_sort(adjacency_list):\n",
    "  visited = {vertex: False for vertex in adjacency_list}\n",
    "  stack = []\n",
    "\n",
    "  for vertex in adjacency_list:\n",
    "    if not visited[vertex]:\n",
    "      dfs(adjacency_list, vertex, visited, stack)\n",
    "\n",
    "  # the stack contains the topologically sorted order in reverse\n",
    "  return stack[::-1]\n",
    "\n",
    "\n",
    "adjacency_list = {\n",
    "    0: [1, 2],\n",
    "    1: [3, 4],\n",
    "    2: [],\n",
    "    3: [],\n",
    "    4: [],\n",
    "    5: []\n",
    "}\n",
    "\n",
    "#     0\n",
    "#    / \\\n",
    "#   1   2   5\n",
    "#  / \\\n",
    "# 3   4\n",
    "\n",
    "topological_sort(adjacency_list)"
   ]
  },
  {
   "cell_type": "code",
   "execution_count": 124,
   "metadata": {},
   "outputs": [
    {
     "data": {
      "text/plain": [
       "[1, 3, 5, 2, 7, 4, 6]"
      ]
     },
     "execution_count": 124,
     "metadata": {},
     "output_type": "execute_result"
    }
   ],
   "source": [
    "adjacency_list = {\n",
    "    1: [2, 3, 7],\n",
    "    2: [4, 7],\n",
    "    3: [5, 7],\n",
    "    4: [6],\n",
    "    5: [6],\n",
    "    7: [6],\n",
    "    6: []\n",
    "}\n",
    "topological_sort(adjacency_list)"
   ]
  },
  {
   "attachments": {
    "image.png": {
     "image/png": "[encoded data removed]"
    }
   },
   "cell_type": "markdown",
   "metadata": {},
   "source": [
    "![image.png](attachment:image.png)"
   ]
  },
  {
   "cell_type": "markdown",
   "metadata": {},
   "source": [
    "# DAG Longest path"
   ]
  },
  {
   "cell_type": "code",
   "execution_count": 57,
   "metadata": {},
   "outputs": [],
   "source": [
    "def longest_path(adjacency_list, start_vertex):\n",
    "  pass\n",
    "  # get topological order of vertices\n",
    "\n",
    "  # initialize longest_paths dictionary with -inf for all vertices, set longest_paths[start_vertex] to 0\n",
    "\n",
    "  # for each vertex in topological_order:\n",
    "  #   if vertex is reachable (longest_paths[vertex] != -inf):\n",
    "  #     for each neighbor of vertex:\n",
    "  #       update longest_paths[neighbor] with max of current value or longest_paths[vertex] + 1\n",
    "\n",
    "  # return the maximum value in longest_paths"
   ]
  },
  {
   "cell_type": "code",
   "execution_count": 125,
   "metadata": {},
   "outputs": [
    {
     "data": {
      "text/plain": [
       "2"
      ]
     },
     "execution_count": 125,
     "metadata": {},
     "output_type": "execute_result"
    }
   ],
   "source": [
    "def longest_path(adjacency_list, start_vertex):\n",
    "  topological_order = topological_sort(adjacency_list)\n",
    "  longest_paths = {vertex: float('-inf') for vertex in adjacency_list}\n",
    "  longest_paths[start_vertex] = 0  # start at `start_vertex`\n",
    "\n",
    "  for vertex in topological_order:\n",
    "    if longest_paths[vertex] != float('-inf'):  # if vertex is reachable\n",
    "      for neighbor in adjacency_list[vertex]:\n",
    "        longest_paths[neighbor] = max(longest_paths[neighbor], longest_paths[vertex] + 1)\n",
    "\n",
    "  return max(longest_paths.values())\n",
    "\n",
    "\n",
    "adjacency_list = {\n",
    "    0: [1, 2],\n",
    "    1: [3, 4],\n",
    "    2: [],\n",
    "    3: [],\n",
    "    4: [],\n",
    "    5: []\n",
    "}\n",
    "\n",
    "#     0\n",
    "#    / \\\n",
    "#   1   2   5\n",
    "#  / \\\n",
    "# 3   4\n",
    "\n",
    "longest_path(adjacency_list, 0)"
   ]
  },
  {
   "cell_type": "code",
   "execution_count": 126,
   "metadata": {},
   "outputs": [
    {
     "data": {
      "text/plain": [
       "3"
      ]
     },
     "execution_count": 126,
     "metadata": {},
     "output_type": "execute_result"
    }
   ],
   "source": [
    "adjacency_list = {\n",
    "    1: [2, 3, 7],\n",
    "    2: [4, 7],\n",
    "    3: [5, 7],\n",
    "    4: [6],\n",
    "    5: [6],\n",
    "    7: [6],\n",
    "    6: []\n",
    "}\n",
    "longest_path(adjacency_list, 1)"
   ]
  },
  {
   "attachments": {
    "image.png": {
     "image/png": "[encoded data removed]"
    }
   },
   "cell_type": "markdown",
   "metadata": {},
   "source": [
    "![image.png](attachment:image.png)"
   ]
  }
 ],
 "metadata": {
  "kernelspec": {
   "display_name": "Python 3",
   "language": "python",
   "name": "python3"
  },
  "language_info": {
   "codemirror_mode": {
    "name": "ipython",
    "version": 3
   },
   "file_extension": ".py",
   "mimetype": "text/x-python",
   "name": "python",
   "nbconvert_exporter": "python",
   "pygments_lexer": "ipython3",
   "version": "3.12.0"
  }
 },
 "nbformat": 4,
 "nbformat_minor": 2
}
