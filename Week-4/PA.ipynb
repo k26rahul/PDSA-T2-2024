{
 "cells": [
  {
   "cell_type": "markdown",
   "metadata": {},
   "source": [
    "# Patching `input()` for notebook"
   ]
  },
  {
   "cell_type": "code",
   "execution_count": 269,
   "metadata": {},
   "outputs": [],
   "source": [
    "input_buffer = []\n",
    "\n",
    "\n",
    "def set_input_buffer(input_string):\n",
    "  global input_buffer\n",
    "  input_buffer = input_string.strip().split('\\n')\n",
    "\n",
    "\n",
    "def input():\n",
    "  if input_buffer:\n",
    "    return input_buffer.pop(0)\n",
    "  else:\n",
    "    raise Exception(\"input buffer is empty\")"
   ]
  },
  {
   "cell_type": "markdown",
   "metadata": {},
   "source": [
    "# Some algorithms"
   ]
  },
  {
   "cell_type": "code",
   "execution_count": 270,
   "metadata": {},
   "outputs": [],
   "source": [
    "import heapq\n",
    "\n",
    "\n",
    "class PriorityQueue:\n",
    "  def __init__(self):\n",
    "    self.heap = []\n",
    "\n",
    "  def is_empty(self):\n",
    "    return len(self.heap) == 0\n",
    "\n",
    "  def enqueue(self, priority, item):\n",
    "    heapq.heappush(self.heap, (priority, item))\n",
    "\n",
    "  def dequeue(self):\n",
    "    return heapq.heappop(self.heap)[1]  # [0] is priority, [1] is item\n",
    "\n",
    "\n",
    "def dijkstra(adjacency_list, start_vertex):\n",
    "  visited = {vertex: False for vertex in adjacency_list}\n",
    "  distance = {vertex: float('inf') for vertex in adjacency_list}\n",
    "  distance[start_vertex] = 0\n",
    "\n",
    "  pq = PriorityQueue()\n",
    "  pq.enqueue(0, start_vertex)\n",
    "\n",
    "  # process the queue until it's empty\n",
    "  while not pq.is_empty():\n",
    "    current_vertex = pq.dequeue()\n",
    "    visited[current_vertex] = True\n",
    "\n",
    "    # update distances to neighbors\n",
    "    for neighbor in adjacency_list[current_vertex]:\n",
    "      if not visited[neighbor]:\n",
    "        new_distance = distance[current_vertex] + 1\n",
    "        if new_distance < distance[neighbor]:\n",
    "          distance[neighbor] = new_distance\n",
    "          pq.enqueue(new_distance, neighbor)\n",
    "\n",
    "  return distance"
   ]
  },
  {
   "cell_type": "markdown",
   "metadata": {},
   "source": [
    "# Queue & Stack"
   ]
  },
  {
   "cell_type": "code",
   "execution_count": 271,
   "metadata": {},
   "outputs": [
    {
     "name": "stdout",
     "output_type": "stream",
     "text": [
      "10\n",
      "20\n",
      "30\n",
      "[40]\n"
     ]
    }
   ],
   "source": [
    "class Queue:\n",
    "  def __init__(self):\n",
    "    self.data = []\n",
    "\n",
    "  def is_empty(self):\n",
    "    return len(self.data) == 0\n",
    "\n",
    "  def enqueue(self, value):\n",
    "    self.data.append(value)\n",
    "\n",
    "  def dequeue(self):\n",
    "    return self.data.pop(0)\n",
    "\n",
    "  def __str__(self):\n",
    "    return str(self.data)\n",
    "\n",
    "\n",
    "queue = Queue()\n",
    "queue.enqueue(10)\n",
    "queue.enqueue(20)\n",
    "queue.enqueue(30)\n",
    "\n",
    "print(queue.dequeue())\n",
    "print(queue.dequeue())\n",
    "queue.enqueue(40)\n",
    "print(queue.dequeue())\n",
    "print(queue)"
   ]
  },
  {
   "cell_type": "code",
   "execution_count": 272,
   "metadata": {},
   "outputs": [
    {
     "name": "stdout",
     "output_type": "stream",
     "text": [
      "30\n",
      "20\n",
      "40\n",
      "[10]\n"
     ]
    }
   ],
   "source": [
    "class Stack:\n",
    "  def __init__(self):\n",
    "    self.data = []\n",
    "\n",
    "  def is_empty(self):\n",
    "    return len(self.data) == 0\n",
    "\n",
    "  def push(self, value):\n",
    "    self.data.append(value)\n",
    "\n",
    "  def pop(self):\n",
    "    return self.data.pop()\n",
    "\n",
    "  def __str__(self):\n",
    "    return str(self.data)\n",
    "\n",
    "\n",
    "stack = Stack()\n",
    "stack.push(10)\n",
    "stack.push(20)\n",
    "stack.push(30)\n",
    "\n",
    "print(stack.pop())\n",
    "print(stack.pop())\n",
    "stack.push(40)\n",
    "print(stack.pop())\n",
    "print(stack)"
   ]
  },
  {
   "cell_type": "markdown",
   "metadata": {},
   "source": [
    "# Convert adjacency matrix to adjacency list"
   ]
  },
  {
   "cell_type": "code",
   "execution_count": 273,
   "metadata": {},
   "outputs": [
    {
     "data": {
      "text/plain": [
       "{0: [1, 2],\n",
       " 1: [0, 2, 3, 4, 5],\n",
       " 2: [0, 1, 3, 4, 5],\n",
       " 3: [1, 2, 4],\n",
       " 4: [1, 2, 3, 5],\n",
       " 5: [1, 2, 4, 6],\n",
       " 6: [5]}"
      ]
     },
     "execution_count": 273,
     "metadata": {},
     "output_type": "execute_result"
    }
   ],
   "source": [
    "def adjacency_matrix_to_list(adjacency_matrix):\n",
    "  n = len(adjacency_matrix)\n",
    "  adjacency_list = {i: [] for i in range(n)}\n",
    "\n",
    "  for i in range(n):\n",
    "    for j in range(n):\n",
    "      if adjacency_matrix[i][j] == 1:\n",
    "        adjacency_list[i].append(j)\n",
    "  return adjacency_list\n",
    "\n",
    "\n",
    "adjacency_matrix = [[0, 1, 1, 0, 0, 0, 0],\n",
    "                    [1, 0, 1, 1, 1, 1, 0],\n",
    "                    [1, 1, 0, 1, 1, 1, 0],\n",
    "                    [0, 1, 1, 0, 1, 0, 0],\n",
    "                    [0, 1, 1, 1, 0, 1, 0],\n",
    "                    [0, 1, 1, 0, 1, 0, 1],\n",
    "                    [0, 0, 0, 0, 0, 1, 0]]\n",
    "\n",
    "adjacency_matrix_to_list(adjacency_matrix)"
   ]
  },
  {
   "cell_type": "markdown",
   "metadata": {},
   "source": [
    "# GrPA 1\n",
    "\n",
    "### Walkthrough\n",
    "\n",
    "1. **Convert the matrix**\n",
    "   - Change the adjacency matrix into an adjacency list for easier traversal.\n",
    "\n",
    "2. **BFS**\n",
    "   - Use BFS to explore each person level by level, starting from Px.\n",
    "\n",
    "3. **Track levels**\n",
    "   - Track the number of steps (levels) it takes to reach each person from Px.\n",
    "\n",
    "4. **Return connectivity level**\n",
    "   - Return the connection level between Px and Py."
   ]
  },
  {
   "cell_type": "code",
   "execution_count": 274,
   "metadata": {},
   "outputs": [],
   "source": [
    "def parse_my_input(my_input):\n",
    "  data = my_input.strip().split('\\n')\n",
    "\n",
    "  n = int(data[0])\n",
    "  adjacency_matrix = [list(map(int, data[i+1].split())) for i in range(n)]\n",
    "  px = int(data[-2])\n",
    "  py = int(data[-1])\n",
    "\n",
    "  return n, adjacency_matrix, px, py"
   ]
  },
  {
   "cell_type": "code",
   "execution_count": 275,
   "metadata": {},
   "outputs": [
    {
     "data": {
      "text/plain": [
       "3"
      ]
     },
     "execution_count": 275,
     "metadata": {},
     "output_type": "execute_result"
    }
   ],
   "source": [
    "def bfs(adjacency_list, start_vertex):\n",
    "  visited = {vertex: False for vertex in adjacency_list}\n",
    "  parent = {vertex: None for vertex in adjacency_list}\n",
    "  level = {vertex: 0 for vertex in adjacency_list}\n",
    "\n",
    "  queue = Queue()\n",
    "  queue.enqueue(start_vertex)\n",
    "\n",
    "  while not queue.is_empty():\n",
    "    curr_vertex = queue.dequeue()\n",
    "    if not visited[curr_vertex]:\n",
    "      visited[curr_vertex] = True\n",
    "\n",
    "      for adj_vertex in adjacency_list[curr_vertex]:\n",
    "        if not visited[adj_vertex]:\n",
    "          queue.enqueue(adj_vertex)\n",
    "\n",
    "          if parent[adj_vertex] is None:\n",
    "            parent[adj_vertex] = curr_vertex\n",
    "            level[adj_vertex] = level[curr_vertex]+1\n",
    "  return level\n",
    "\n",
    "\n",
    "def find_connection_level(n, adjacency_matrix, px, py):\n",
    "  adjacency_list = adjacency_matrix_to_list(adjacency_matrix)  # helper function\n",
    "  level = bfs(adjacency_list, px)  # helper function\n",
    "  return level[py]\n",
    "\n",
    "\n",
    "find_connection_level(*parse_my_input(\"\"\"\n",
    "7\n",
    "0 1 1 0 0 0 0\n",
    "1 0 1 1 1 1 0\n",
    "1 1 0 1 1 1 0\n",
    "0 1 1 0 1 0 0\n",
    "0 1 1 1 0 1 0\n",
    "0 1 1 0 1 0 1\n",
    "0 0 0 0 0 1 0\n",
    "6\n",
    "0\n",
    "\"\"\"))"
   ]
  },
  {
   "cell_type": "markdown",
   "metadata": {},
   "source": [
    "# GrPA 2\n",
    "\n",
    "### Walkthrough\n",
    "\n",
    "1. **BFS**\n",
    "   - Implement BFS to explore the network starting from a given tank and mark all reachable tanks as visited.\n",
    "\n",
    "2. **Make adjacency list**\n",
    "   - Convert the list of pipes into an adjacency list for easier traversal.\n",
    "\n",
    "3. **Check each tank**\n",
    "   - For each tank, run BFS to see if all other tanks are reachable from it.\n",
    "\n",
    "4. **Return master tank**\n",
    "   - If a tank can reach all other tanks, return that tank as the master tank. If no such tank exists, return 0."
   ]
  },
  {
   "cell_type": "code",
   "execution_count": 276,
   "metadata": {},
   "outputs": [],
   "source": [
    "def parse_my_input(my_input):\n",
    "  data = my_input.strip().split('\\n')\n",
    "\n",
    "  V = list(map(int, data[0].split()))\n",
    "  E = [list(map(int, edge.split())) for edge in data[2:]]\n",
    "\n",
    "  return V, E"
   ]
  },
  {
   "cell_type": "code",
   "execution_count": 277,
   "metadata": {},
   "outputs": [
    {
     "data": {
      "text/plain": [
       "1"
      ]
     },
     "execution_count": 277,
     "metadata": {},
     "output_type": "execute_result"
    }
   ],
   "source": [
    "def bfs(adjacency_list, start_vertex):\n",
    "  visited = {vertex: False for vertex in adjacency_list}\n",
    "  order = []\n",
    "\n",
    "  queue = Queue()\n",
    "  queue.enqueue(start_vertex)\n",
    "\n",
    "  while not queue.is_empty():\n",
    "    curr_vertex = queue.dequeue()\n",
    "    if not visited[curr_vertex]:\n",
    "      visited[curr_vertex] = True\n",
    "      order.append(curr_vertex)\n",
    "\n",
    "      for adj_vertex in adjacency_list[curr_vertex]:\n",
    "        if not visited[adj_vertex]:\n",
    "          queue.enqueue(adj_vertex)\n",
    "  return visited\n",
    "\n",
    "\n",
    "def find_master_tank(tanks, pipes):\n",
    "  adjacency_list = {u: [] for u in tanks}\n",
    "  for u, v in pipes:\n",
    "    adjacency_list[u].append(v)\n",
    "\n",
    "  for vertex in adjacency_list:\n",
    "    visited = bfs(adjacency_list, vertex)  # helper function\n",
    "    if all(visited.values()):\n",
    "      return vertex\n",
    "  return 0\n",
    "\n",
    "\n",
    "find_master_tank(*parse_my_input(\"\"\"\n",
    "1 2 3 4\n",
    "3\n",
    "1 2\n",
    "2 3\n",
    "2 4\n",
    "\"\"\"))"
   ]
  },
  {
   "cell_type": "markdown",
   "metadata": {},
   "source": [
    "# GrPA 3\n",
    "\n",
    "### Walkthrough\n",
    "\n",
    "1. **DFS and Topological Sort**\n",
    "   - Perform DFS to generate a topological order of the graph using the `topological_sort` function.\n",
    "\n",
    "2. **Longest path calculation**\n",
    "   - Initialize longest path lengths to -1 and set the start node's length to 0.\n",
    "   - Maintain a predecessor dictionary to trace paths.\n",
    "\n",
    "3. **Path reconstruction**\n",
    "   - Identify the node with the maximum path length.\n",
    "   - Reconstruct the path from this node back to the start using the predecessor dictionary."
   ]
  },
  {
   "cell_type": "code",
   "execution_count": 278,
   "metadata": {},
   "outputs": [],
   "source": [
    "def dfs(adjacency_list, curr_vertex, visited, stack):\n",
    "  visited[curr_vertex] = True\n",
    "\n",
    "  for neighbor in adjacency_list[curr_vertex]:\n",
    "    if not visited[neighbor]:\n",
    "      dfs(adjacency_list, neighbor, visited, stack)\n",
    "\n",
    "  stack.append(curr_vertex)\n",
    "\n",
    "\n",
    "def topological_sort(adjacency_list):\n",
    "  visited = {vertex: False for vertex in adjacency_list}\n",
    "  stack = []\n",
    "\n",
    "  for vertex in adjacency_list:\n",
    "    if not visited[vertex]:\n",
    "      dfs(adjacency_list, vertex, visited, stack)\n",
    "\n",
    "  # the stack contains the topologically sorted order in reverse\n",
    "  return stack[::-1]"
   ]
  },
  {
   "cell_type": "code",
   "execution_count": 279,
   "metadata": {},
   "outputs": [],
   "source": [
    "def longest_path(adjacency_list):\n",
    "  # compute topological order\n",
    "  topological_order = topological_sort(adjacency_list)\n",
    "\n",
    "  # initialize distance and predecessor\n",
    "  distance = {vertex: -1 for vertex in adjacency_list}\n",
    "  predecessor = {vertex: None for vertex in adjacency_list}  # NEW\n",
    "\n",
    "  # start from the first node in topological order\n",
    "  start_vertex = topological_order[0]\n",
    "  distance[start_vertex] = 0\n",
    "\n",
    "  # compute distance, predecessor\n",
    "  for parent in topological_order:\n",
    "    if distance[parent] != -1:  # if parent has a distance assigned\n",
    "      for child in adjacency_list[parent]:\n",
    "        new_distance = distance[parent] + 1\n",
    "        if new_distance > distance[child]:\n",
    "          distance[child] = new_distance\n",
    "          predecessor[child] = parent  # NEW\n",
    "\n",
    "  return distance, predecessor\n",
    "\n",
    "\n",
    "def display_path_info(distance, predecessor):\n",
    "  # display information for visualization\n",
    "  sorted_vertices = sorted(distance, key=distance.get)\n",
    "  display([(vertex, distance[vertex], predecessor[vertex]) for vertex in sorted_vertices])\n",
    "\n",
    "\n",
    "def reconstruct_path(last_vertex, predecessor):\n",
    "  # reconstruct the path from last_vertex back to start_vertex\n",
    "  path = []\n",
    "  while last_vertex is not None:\n",
    "    path.append(last_vertex)\n",
    "    last_vertex = predecessor[last_vertex]\n",
    "  path.reverse()\n",
    "  return path\n",
    "\n",
    "\n",
    "def long_journey(adjacency_list):\n",
    "  distance, predecessor = longest_path(adjacency_list)\n",
    "\n",
    "  # visualize distance and predecessor\n",
    "  display_path_info(distance, predecessor)\n",
    "\n",
    "  # reconstruct the path\n",
    "  last_vertex = max(distance, key=distance.get)\n",
    "  return reconstruct_path(last_vertex, predecessor)"
   ]
  },
  {
   "cell_type": "code",
   "execution_count": 280,
   "metadata": {},
   "outputs": [
    {
     "data": {
      "text/plain": [
       "[('Leh', 0, None),\n",
       " ('Shimla', 1, 'Leh'),\n",
       " ('Rishikesh', 2, 'Shimla'),\n",
       " ('Delhi', 3, 'Rishikesh'),\n",
       " ('Agra', 4, 'Delhi'),\n",
       " ('Sravasti', 4, 'Delhi'),\n",
       " ('Jaipur', 4, 'Delhi'),\n",
       " ('Pushkar', 5, 'Jaipur'),\n",
       " ('Kushinagar', 5, 'Sravasti'),\n",
       " ('Vaishali', 6, 'Kushinagar'),\n",
       " ('Udaipur', 6, 'Pushkar'),\n",
       " ('Ranthambore', 6, 'Pushkar'),\n",
       " ('Sarnath', 6, 'Kushinagar'),\n",
       " ('Varanasi', 7, 'Sarnath'),\n",
       " ('Gir', 7, 'Udaipur'),\n",
       " ('Bodhgaya', 8, 'Varanasi'),\n",
       " ('Khajuraho', 8, 'Varanasi'),\n",
       " ('Kolkatta', 9, 'Bodhgaya'),\n",
       " ('Ajanta', 10, 'Kolkatta'),\n",
       " ('Ellora', 11, 'Ajanta'),\n",
       " ('Aurangabad', 12, 'Ellora'),\n",
       " ('Mumbai', 13, 'Aurangabad'),\n",
       " ('Goa', 14, 'Mumbai'),\n",
       " ('Bangalore', 15, 'Goa'),\n",
       " ('Chennai', 16, 'Bangalore'),\n",
       " ('Madurai', 17, 'Chennai'),\n",
       " ('Cochin', 18, 'Madurai'),\n",
       " ('Thiruvanandhapuram', 19, 'Cochin'),\n",
       " ('Kanyakumari', 20, 'Thiruvanandhapuram')]"
      ]
     },
     "metadata": {},
     "output_type": "display_data"
    },
    {
     "data": {
      "text/plain": [
       "True"
      ]
     },
     "execution_count": 280,
     "metadata": {},
     "output_type": "execute_result"
    }
   ],
   "source": [
    "adjacency_list = {\n",
    "    'Madurai': ['Cochin', 'Kanyakumari'],\n",
    "    'Vaishali': [],\n",
    "    'Varanasi': ['Khajuraho', 'Bodhgaya'],\n",
    "    'Thiruvanandhapuram': ['Kanyakumari'],\n",
    "    'Udaipur': ['Gir', 'Ajanta'],\n",
    "    'Rishikesh': ['Delhi'],\n",
    "    'Shimla': ['Rishikesh'],\n",
    "    'Bangalore': ['Chennai', 'Madurai'],\n",
    "    'Agra': ['Ranthambore'],\n",
    "    'Ellora': ['Aurangabad'],\n",
    "    'Bodhgaya': ['Kolkatta'],\n",
    "    'Cochin': ['Thiruvanandhapuram'],\n",
    "    'Pushkar': ['Udaipur', 'Ranthambore'],\n",
    "    'Ranthambore': ['Khajuraho'],\n",
    "    'Gir': [],\n",
    "    'Aurangabad': ['Mumbai'],\n",
    "    'Kolkatta': ['Ajanta', 'Bangalore', 'Chennai'],\n",
    "    'Chennai': ['Madurai'],\n",
    "    'Sravasti': ['Kushinagar'],\n",
    "    'Leh': ['Shimla'],\n",
    "    'Sarnath': ['Varanasi'],\n",
    "    'Delhi': ['Jaipur', 'Agra', 'Sravasti'],\n",
    "    'Goa': ['Cochin', 'Bangalore'],\n",
    "    'Kanyakumari': [],\n",
    "    'Kushinagar': ['Sarnath', 'Vaishali'],\n",
    "    'Khajuraho': ['Ajanta'],\n",
    "    'Jaipur': ['Pushkar'],\n",
    "    'Mumbai': ['Goa'],\n",
    "    'Ajanta': ['Ellora', 'Aurangabad']\n",
    "}\n",
    "\n",
    "expected_output = ['Leh', 'Shimla', 'Rishikesh', 'Delhi', 'Sravasti', 'Kushinagar', 'Sarnath', 'Varanasi', 'Bodhgaya', 'Kolkatta',\n",
    "                   'Ajanta', 'Ellora', 'Aurangabad', 'Mumbai', 'Goa', 'Bangalore', 'Chennai', 'Madurai', 'Cochin', 'Thiruvanandhapuram', 'Kanyakumari']\n",
    "\n",
    "long_journey(adjacency_list) == expected_output"
   ]
  },
  {
   "cell_type": "markdown",
   "metadata": {},
   "source": [
    "### Alternate solution, do not prefer 💀\n",
    "\n",
    "1. **DFS for Path Exploration**:\n",
    "    - The `dfs` function uses depth-first search to explore paths starting from a city.\n",
    "    - It marks cities as visited and tracks the longest path found recursively.\n",
    "\n",
    "   1. **Path Exploration**:\n",
    "       - For each unvisited neighboring city, it recursively explores and updates the longest path if a longer path is found.\n",
    "\n",
    "   2. **Backtracking**:\n",
    "       - After exploring all neighbors, it backtracks by removing the city from the path and visited set to explore other paths.\n",
    "\n",
    "2. **Longest Path Calculation**:\n",
    "    - The `long_journey` function iterates through cities, initiating `dfs` from each to find the longest path.\n",
    "    - It records and returns the longest path found across all starting cities."
   ]
  },
  {
   "cell_type": "code",
   "execution_count": 281,
   "metadata": {},
   "outputs": [],
   "source": [
    "def dfs(adjacency_list, city, visited, path):\n",
    "  # mark the current city as visited and add to path\n",
    "  visited[city] = True\n",
    "  path.append(city)\n",
    "  longest_path = list(path)  # track the longest path found\n",
    "\n",
    "  # explore neighbors\n",
    "  for neighbor in adjacency_list[city]:\n",
    "    if not visited[neighbor]:  # if neighbor not visited\n",
    "      current_path = dfs(adjacency_list, neighbor, visited, path)\n",
    "      # update longest_path if current path is longer\n",
    "      if len(current_path) > len(longest_path):\n",
    "        longest_path = current_path\n",
    "\n",
    "  path.pop()  # backtrack: remove current city from path\n",
    "  visited[city] = False  # mark current city as not visited\n",
    "  return longest_path\n",
    "\n",
    "\n",
    "def longest_path(adjacency_list):\n",
    "  longest_path_overall = []  # initialize overall longest path\n",
    "\n",
    "  # find longest path starting from each city\n",
    "  for city in adjacency_list:\n",
    "    visited = {vertex: False for vertex in adjacency_list}  # mark all cities as not visited\n",
    "    current_longest_path = dfs(adjacency_list, city, visited, [])\n",
    "    # update overall longest path if current one is longer\n",
    "    if len(current_longest_path) > len(longest_path_overall):\n",
    "      longest_path_overall = current_longest_path\n",
    "\n",
    "  return longest_path_overall\n",
    "\n",
    "\n",
    "def long_journey(adjacency_list):\n",
    "  # return longest path found\n",
    "  return longest_path(adjacency_list)"
   ]
  },
  {
   "cell_type": "code",
   "execution_count": 282,
   "metadata": {},
   "outputs": [
    {
     "data": {
      "text/plain": [
       "True"
      ]
     },
     "execution_count": 282,
     "metadata": {},
     "output_type": "execute_result"
    }
   ],
   "source": [
    "adjacency_list = {\n",
    "    'Madurai': ['Cochin', 'Kanyakumari'],\n",
    "    'Vaishali': [],\n",
    "    'Varanasi': ['Khajuraho', 'Bodhgaya'],\n",
    "    'Thiruvanandhapuram': ['Kanyakumari'],\n",
    "    'Udaipur': ['Gir', 'Ajanta'],\n",
    "    'Rishikesh': ['Delhi'],\n",
    "    'Shimla': ['Rishikesh'],\n",
    "    'Bangalore': ['Chennai', 'Madurai'],\n",
    "    'Agra': ['Ranthambore'],\n",
    "    'Ellora': ['Aurangabad'],\n",
    "    'Bodhgaya': ['Kolkatta'],\n",
    "    'Cochin': ['Thiruvanandhapuram'],\n",
    "    'Pushkar': ['Udaipur', 'Ranthambore'],\n",
    "    'Ranthambore': ['Khajuraho'],\n",
    "    'Gir': [],\n",
    "    'Aurangabad': ['Mumbai'],\n",
    "    'Kolkatta': ['Ajanta', 'Bangalore', 'Chennai'],\n",
    "    'Chennai': ['Madurai'],\n",
    "    'Sravasti': ['Kushinagar'],\n",
    "    'Leh': ['Shimla'],\n",
    "    'Sarnath': ['Varanasi'],\n",
    "    'Delhi': ['Jaipur', 'Agra', 'Sravasti'],\n",
    "    'Goa': ['Cochin', 'Bangalore'],\n",
    "    'Kanyakumari': [],\n",
    "    'Kushinagar': ['Sarnath', 'Vaishali'],\n",
    "    'Khajuraho': ['Ajanta'],\n",
    "    'Jaipur': ['Pushkar'],\n",
    "    'Mumbai': ['Goa'],\n",
    "    'Ajanta': ['Ellora', 'Aurangabad']\n",
    "}\n",
    "\n",
    "expected_output = ['Leh', 'Shimla', 'Rishikesh', 'Delhi', 'Sravasti', 'Kushinagar', 'Sarnath', 'Varanasi', 'Bodhgaya', 'Kolkatta',\n",
    "                   'Ajanta', 'Ellora', 'Aurangabad', 'Mumbai', 'Goa', 'Bangalore', 'Chennai', 'Madurai', 'Cochin', 'Thiruvanandhapuram', 'Kanyakumari']\n",
    "\n",
    "long_journey(adjacency_list) == expected_output"
   ]
  },
  {
   "cell_type": "markdown",
   "metadata": {},
   "source": [
    "# PPA 1"
   ]
  },
  {
   "cell_type": "code",
   "execution_count": 283,
   "metadata": {},
   "outputs": [],
   "source": [
    "def parse_ppa1(my_input: str):\n",
    "  data = my_input.strip().split('\\n')\n",
    "  vertices = data[0].split()\n",
    "  edges = [tuple(edge.split()) for edge in data[2:]]\n",
    "  return vertices, edges"
   ]
  },
  {
   "cell_type": "code",
   "execution_count": 284,
   "metadata": {},
   "outputs": [
    {
     "data": {
      "text/plain": [
       "4"
      ]
     },
     "execution_count": 284,
     "metadata": {},
     "output_type": "execute_result"
    }
   ],
   "source": [
    "def make_adj_list(vertices, edges):\n",
    "  adj_list = {u: [] for u in vertices}\n",
    "  for u, v in edges:\n",
    "    adj_list[u].append(v)\n",
    "    adj_list[v].append(u)\n",
    "  return adj_list\n",
    "\n",
    "\n",
    "def bfs(adj_list, start, visited):\n",
    "  component = []\n",
    "  queue = [start]\n",
    "\n",
    "  while queue:\n",
    "    u = queue.pop(0)\n",
    "    if not visited[u]:\n",
    "      visited[u] = True\n",
    "      component.append(u)\n",
    "\n",
    "      for v in adj_list[u]:\n",
    "        if not visited[v]:\n",
    "          queue.append(v)\n",
    "  return component\n",
    "\n",
    "\n",
    "def findComponents_undirectedGraph(vertices, edges):\n",
    "  adj_list = make_adj_list(vertices, edges)  # helper\n",
    "  visited = {u: False for u in adj_list}\n",
    "  components = []\n",
    "\n",
    "  for u in adj_list:\n",
    "    if not visited[u]:\n",
    "      component = bfs(adj_list, u, visited)  # helper\n",
    "      components.append(component)\n",
    "  return len(components)\n",
    "\n",
    "\n",
    "findComponents_undirectedGraph(*parse_ppa1(\"\"\" \n",
    "a b c d e f g h i j\n",
    "7\n",
    "a c\n",
    "c d\n",
    "c g\n",
    "e f\n",
    "e h\n",
    "f h\n",
    "b i\n",
    "                                                \"\"\"))"
   ]
  },
  {
   "cell_type": "markdown",
   "metadata": {},
   "source": [
    "# PPA 2"
   ]
  },
  {
   "cell_type": "markdown",
   "metadata": {},
   "source": [
    "### Find All Paths Walkthrough\n",
    "\n",
    "1. **Breadth-First Search (BFS) Function**\n",
    "   - Initialize `visited` and `predecessor` dictionaries for all nodes.\n",
    "   - Initialize `queue` with `start`.\n",
    "   - While `queue` is not empty:\n",
    "     - Pop first element `u` from `queue`.\n",
    "     - If `u` is not visited:\n",
    "       - Mark `u` as visited.\n",
    "       - For each neighbor `v` of `u`:\n",
    "         - Append `u` to `predecessor[v]`.\n",
    "         - If `v` is not visited:\n",
    "           - Append `v` to `queue`.\n",
    "   - Return `predecessor` dictionary.\n",
    "\n",
    "2. **Reconstruct All Paths Function**\n",
    "   - Append `destination` to `path`.\n",
    "   - If `destination` equals `source`:\n",
    "     - Append reversed `path` to `all_paths`.\n",
    "     - Return.\n",
    "   - For each predecessor `prev` of `destination`:\n",
    "     - If `prev` not in `path`:\n",
    "       - Copy `path`.\n",
    "       - Recursively call `reconstruct_all_paths` with `prev`.\n",
    "   - Return `all_paths`.\n",
    "\n",
    "3. **Find All Paths Function**\n",
    "   - Call `bfs` to get `predecessor` from `source`.\n",
    "   - Call `reconstruct_all_paths` to get `all_paths` from `source` to `destination`.\n",
    "   - Return `all_paths`."
   ]
  },
  {
   "cell_type": "code",
   "execution_count": 285,
   "metadata": {},
   "outputs": [],
   "source": [
    "def parse_ppa2(my_input: str):\n",
    "  data = my_input.strip().split('\\n')\n",
    "  vertices = data[0].split()\n",
    "  adj_list = {u: [] for u in vertices}\n",
    "  for index, u in enumerate(vertices):\n",
    "    for v in data[index+1].split():\n",
    "      if v:\n",
    "        adj_list[u].append(v)\n",
    "  source = data[-2]\n",
    "  destination = data[-1]\n",
    "  return vertices, adj_list, source, destination"
   ]
  },
  {
   "cell_type": "code",
   "execution_count": 286,
   "metadata": {},
   "outputs": [
    {
     "data": {
      "text/plain": [
       "['1362', '1462', '147562']"
      ]
     },
     "execution_count": 286,
     "metadata": {},
     "output_type": "execute_result"
    }
   ],
   "source": [
    "def bfs(adj_list, start):\n",
    "  visited = {u: False for u in adj_list}\n",
    "  predecessor = {u: [] for u in adj_list}\n",
    "  queue = [start]\n",
    "\n",
    "  while queue:\n",
    "    u = queue.pop(0)\n",
    "    if not visited[u]:\n",
    "      visited[u] = True\n",
    "\n",
    "      for v in adj_list[u]:\n",
    "        predecessor[v].append(u)\n",
    "        if not visited[v]:\n",
    "          queue.append(v)\n",
    "  return predecessor\n",
    "\n",
    "\n",
    "def reconstruct_all_paths(source, destination, predecessor, path=[], all_paths=[]):\n",
    "  path.append(destination)\n",
    "  if destination == source:\n",
    "    all_paths.append(''.join(path)[::-1])\n",
    "    return\n",
    "\n",
    "  for prev in predecessor[destination]:\n",
    "    if prev not in path:\n",
    "      path_copy = path.copy()\n",
    "      reconstruct_all_paths(source, prev, predecessor, path_copy, all_paths)\n",
    "  return all_paths\n",
    "\n",
    "\n",
    "def findAllPaths(vertices, adj_list, source, destination):\n",
    "  predecessor = bfs(adj_list, source)  # helper\n",
    "  all_paths = reconstruct_all_paths(source, destination, predecessor)  # helper\n",
    "  return all_paths\n",
    "\n",
    "\n",
    "findAllPaths(*parse_ppa2(\"\"\" \n",
    "1 2 3 4 5 6 7\n",
    "3 4\n",
    "3\n",
    "6\n",
    "6 7\n",
    "4 6\n",
    "2\n",
    "5\n",
    "1\n",
    "2\n",
    "                              \"\"\"))"
   ]
  },
  {
   "cell_type": "markdown",
   "metadata": {},
   "source": [
    "# PPA 3"
   ]
  },
  {
   "cell_type": "markdown",
   "metadata": {},
   "source": [
    "### Maze Solver Walkthrough\n",
    "\n",
    "1. **Breadth-First Search (BFS) Function**\n",
    "   - Initialize `visited` and `level` dictionaries for all nodes.\n",
    "   - Set `level[start]` to 0.\n",
    "   - Initialize `queue` with `start`.\n",
    "   - While `queue` is not empty:\n",
    "     - Pop first element `u` from `queue`.\n",
    "     - If `u` is not visited:\n",
    "       - Mark `u` as visited.\n",
    "       - For each neighbor `v` of `u`:\n",
    "         - If `v` is not visited:\n",
    "           - Append `v` to `queue`.\n",
    "           - Set `level[v]` to `level[u] + 1` if `level[v]` is None.\n",
    "   - Return `level` dictionary.\n",
    "\n",
    "2. **Make Adjacency List Function**\n",
    "   - Read maze input line-by-line until the first line repeats to get complete maze.\n",
    "   - Initialize `entry`, `key`, `exit` as `None`.\n",
    "   - Get maze dimensions (`num_rows` and `num_cols`).\n",
    "   - Create an empty adjacency list `adj_list` for each cell.\n",
    "   - Iterate through each cell in the maze:\n",
    "     - Identify positions for `entry`, `key`, and `exit`:\n",
    "       - `entry`: First non-wall ('X') cell in the first column.\n",
    "       - `exit`: First non-wall cell in the last column.\n",
    "       - `key`: Cell containing '*'.\n",
    "     - For each cell, add its valid neighboring cells to the adjacency list:\n",
    "       - Define neighbors as the cells up, down, left, and right.\n",
    "       - Check if each neighbor is within maze boundaries and not a wall ('X').\n",
    "       - If valid, add the neighbor to the current cell's adjacency list.\n",
    "   - Return adjacency list, `entry`, `exit`, `key`.\n",
    "\n",
    "3. **Solve Maze Function**\n",
    "   - Get adjacency list, `entry`, `exit`, `key` from `make_adj_list`.\n",
    "   - Compute `level_from_entry` using BFS from `entry`.\n",
    "   - Compute `level_from_key` using BFS from `key`.\n",
    "   - If `key` is unreachable from `entry`, return `-1`.\n",
    "   - If `exit` is unreachable from `key`, return `-2`.\n",
    "   - Return sum of distances from `entry` to `key` and `key` to `exit`.\n",
    "\n",
    "4. **Set Input Buffer and Print Result**\n",
    "   - Set input buffer to given maze.\n",
    "   - Print result of `solve_maze`."
   ]
  },
  {
   "cell_type": "code",
   "execution_count": 287,
   "metadata": {},
   "outputs": [
    {
     "name": "stdout",
     "output_type": "stream",
     "text": [
      "31\n"
     ]
    }
   ],
   "source": [
    "def bfs(adj_list, start):\n",
    "  visited = {u: False for u in adj_list}\n",
    "  level = {u: None for u in adj_list}\n",
    "  level[start] = 0\n",
    "\n",
    "  queue = [start]\n",
    "\n",
    "  while queue:\n",
    "    u = queue.pop(0)\n",
    "    if not visited[u]:\n",
    "      visited[u] = True\n",
    "\n",
    "      for v in adj_list[u]:\n",
    "        if not visited[v]:\n",
    "          queue.append(v)\n",
    "          if level[v] is None:\n",
    "            level[v] = level[u]+1\n",
    "  return level\n",
    "\n",
    "\n",
    "def make_adj_list():\n",
    "  maze = [input()]\n",
    "  while True:\n",
    "    row = input()\n",
    "    maze.append(row)\n",
    "    if row == maze[0]:\n",
    "      break\n",
    "\n",
    "  entry = None\n",
    "  key = None\n",
    "  exit = None\n",
    "\n",
    "  num_rows = len(maze)\n",
    "  num_cols = len(maze[0])\n",
    "  adj_list = {}\n",
    "  for row_index in range(num_rows):\n",
    "    for col_index in range(num_cols):\n",
    "      u = f'{row_index}~{col_index}'\n",
    "      adj_list[u] = []\n",
    "\n",
    "      if col_index == 0 and maze[row_index][col_index] != 'X':\n",
    "        entry = u\n",
    "      if col_index == num_cols-1 and maze[row_index][col_index] != 'X':\n",
    "        exit = u\n",
    "      if maze[row_index][col_index] == '*':\n",
    "        key = u\n",
    "\n",
    "      neighbors = [(row_index+1, col_index),\n",
    "                   (row_index-1, col_index),\n",
    "                   (row_index, col_index+1),\n",
    "                   (row_index, col_index-1),]\n",
    "      for i, j in neighbors:\n",
    "        if 0 <= i < num_rows and 0 <= j < num_cols:\n",
    "          if maze[i][j] != 'X':\n",
    "            v = f'{i}~{j}'\n",
    "            adj_list[u].append(v)\n",
    "  return adj_list, entry, exit, key\n",
    "\n",
    "\n",
    "def solve_maze():\n",
    "  adj_list, entry, exit, key = make_adj_list()\n",
    "  level_from_entry = bfs(adj_list, entry)\n",
    "  level_from_key = bfs(adj_list, key)\n",
    "\n",
    "  if level_from_entry[key] == None:\n",
    "    return -1\n",
    "  if level_from_key[exit] == None:\n",
    "    return -2\n",
    "  return level_from_entry[key] + level_from_key[exit]\n",
    "\n",
    "\n",
    "set_input_buffer(\"\"\" \n",
    "XXXXXXXXXXXXXX\n",
    "   X    XXX  X\n",
    "X  X    X X  X\n",
    "X  X         X\n",
    "X  XX  X XX  X\n",
    "X  X  XX  X   \n",
    "X     XX XXXXX\n",
    "X  X         X\n",
    "X  X      *  X\n",
    "XXXXXXXXXXXXXX\n",
    "                  \"\"\")\n",
    "\n",
    "print(solve_maze())"
   ]
  },
  {
   "cell_type": "code",
   "execution_count": 288,
   "metadata": {},
   "outputs": [
    {
     "data": {
      "text/plain": [
       "-2"
      ]
     },
     "execution_count": 288,
     "metadata": {},
     "output_type": "execute_result"
    },
    {
     "data": {
      "text/plain": [
       "-1"
      ]
     },
     "execution_count": 288,
     "metadata": {},
     "output_type": "execute_result"
    },
    {
     "data": {
      "text/plain": [
       "24"
      ]
     },
     "execution_count": 288,
     "metadata": {},
     "output_type": "execute_result"
    },
    {
     "data": {
      "text/plain": [
       "105"
      ]
     },
     "execution_count": 288,
     "metadata": {},
     "output_type": "execute_result"
    }
   ],
   "source": [
    "# XXXXXXXXXXXXXXXXX\n",
    "# X  X      X  X\n",
    "# X  X    X X  X  X\n",
    "# X  X         X  X\n",
    "#    XX  X X   X  X\n",
    "# X  X  XX *X X   X\n",
    "# X     XX  XX X  X\n",
    "# X  X    XX   X  X\n",
    "# X  X         X  X\n",
    "# XXXXXXXXXXXXXXXXX\n",
    "-2\n",
    "\n",
    "# XXXXXXXXXXXXXXXXX\n",
    "# X  X      X  X\n",
    "# X  X    X X  X  X\n",
    "# X  X    X    X  X\n",
    "#    XX  X X   X  X\n",
    "# X  X  XX *X     X\n",
    "# X     XX  XX X  X\n",
    "# X  X    XX   X  X\n",
    "# X  X         X  X\n",
    "# XXXXXXXXXXXXXXXXX\n",
    "-1\n",
    "\n",
    "# XXXXXXXXXXXXXX\n",
    "# X  X      X  X\n",
    "# X  X    X X  X\n",
    "# X  X    X    X\n",
    "#    XX  X XX  X\n",
    "# X  X  XX  X  *\n",
    "# X     XX XXXXX\n",
    "# X  X         X\n",
    "# X  X         X\n",
    "# XXXXXXXXXXXXXX\n",
    "24\n",
    "\n",
    "# XXXXXXXXXXXXXXXXXXXXXXXXXXXXXXXXXXXXXXXXXXXXXXXXXXXXXX\n",
    "# X             XXXXXXXXXXXX       *      XXXXXXXXXXXXXX\n",
    "# X XXXXXXXXXXX XXXXXXXXXXXX XXXXXXXXXXXX XXXXXXXXXXXXXX\n",
    "# X XX      XXX X       XXXX XX        XX XX        XXXX\n",
    "# X XX XXXXX XX XX XXXXXX XX XX XXXXXXXXX XX XXXXXX XXXX\n",
    "# X XX XXXXX XX XX XXXXXX XX XX XXXXXXXXX XX XXXXXX XXXX\n",
    "# X XX XXXXX XX XX XXXXXX XX XX XXXXXXXXX XX XXXXXX XXXX\n",
    "#      XXXXX XX XX XXXXXX XX XX XXXXXXXXX XX XXXXXX XX\n",
    "# XXXX       XX XX XXXXXX XX XX        XX XX        XX X\n",
    "# XXXX XXXXXXXX XX XXXXXX XX XXXXXXXXX XX XX XXXXXX XX X\n",
    "# XXXX XXXXXXXX XX XXXXXX XX XXXXXXXXX XX XX XXXXXX XX X\n",
    "# XXXX XXXXXXXX XX XXXXXX XX XXXXXXXXX XX XX XXXXXX XX X\n",
    "# XXXX XXXXXXXX X       XXXX XX        XX XX XXXXXX XX X\n",
    "# XXXXXXXXXXXXX XXXXXXXXXXXX XXXXXXXXXXXX XXXXXXXXXXXX X\n",
    "# XXXXXXXXXXXXX              XXXXXXXXXXXX              X\n",
    "# XXXXXXXXXXXXXXXXXXXXXXXXXXXXXXXXXXXXXXXXXXXXXXXXXXXXXX\n",
    "105"
   ]
  },
  {
   "attachments": {
    "image.png": {
     "image/png": "[encoded data removed]"
    }
   },
   "cell_type": "markdown",
   "metadata": {},
   "source": [
    "https://www.programmingfonts.org/#press-start-2p\n",
    "\n",
    "https://www.redblobgames.com/pathfinding/grids/graphs.html\n",
    "\n",
    "![image.png](attachment:image.png)"
   ]
  }
 ],
 "metadata": {
  "kernelspec": {
   "display_name": "Python 3",
   "language": "python",
   "name": "python3"
  },
  "language_info": {
   "codemirror_mode": {
    "name": "ipython",
    "version": 3
   },
   "file_extension": ".py",
   "mimetype": "text/x-python",
   "name": "python",
   "nbconvert_exporter": "python",
   "pygments_lexer": "ipython3",
   "version": "3.12.0"
  }
 },
 "nbformat": 4,
 "nbformat_minor": 2
}
