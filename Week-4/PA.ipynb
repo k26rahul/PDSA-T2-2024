{
 "cells": [
  {
   "cell_type": "markdown",
   "metadata": {},
   "source": [
    "# Queue & Stack"
   ]
  },
  {
   "cell_type": "code",
   "execution_count": 139,
   "metadata": {},
   "outputs": [
    {
     "name": "stdout",
     "output_type": "stream",
     "text": [
      "10\n",
      "20\n",
      "30\n",
      "[40]\n"
     ]
    }
   ],
   "source": [
    "class Queue:\n",
    "  def __init__(self):\n",
    "    self.data = []\n",
    "\n",
    "  def is_empty(self):\n",
    "    return len(self.data) == 0\n",
    "\n",
    "  def enqueue(self, value):\n",
    "    self.data.append(value)\n",
    "\n",
    "  def dequeue(self):\n",
    "    return self.data.pop(0)\n",
    "\n",
    "  def __str__(self):\n",
    "    return str(self.data)\n",
    "\n",
    "\n",
    "queue = Queue()\n",
    "queue.enqueue(10)\n",
    "queue.enqueue(20)\n",
    "queue.enqueue(30)\n",
    "\n",
    "print(queue.dequeue())\n",
    "print(queue.dequeue())\n",
    "queue.enqueue(40)\n",
    "print(queue.dequeue())\n",
    "print(queue)"
   ]
  },
  {
   "cell_type": "code",
   "execution_count": 140,
   "metadata": {},
   "outputs": [
    {
     "name": "stdout",
     "output_type": "stream",
     "text": [
      "30\n",
      "20\n",
      "40\n",
      "[10]\n"
     ]
    }
   ],
   "source": [
    "class Stack:\n",
    "  def __init__(self):\n",
    "    self.data = []\n",
    "\n",
    "  def is_empty(self):\n",
    "    return len(self.data) == 0\n",
    "\n",
    "  def push(self, value):\n",
    "    self.data.append(value)\n",
    "\n",
    "  def pop(self):\n",
    "    return self.data.pop()\n",
    "\n",
    "  def __str__(self):\n",
    "    return str(self.data)\n",
    "\n",
    "\n",
    "stack = Stack()\n",
    "stack.push(10)\n",
    "stack.push(20)\n",
    "stack.push(30)\n",
    "\n",
    "print(stack.pop())\n",
    "print(stack.pop())\n",
    "stack.push(40)\n",
    "print(stack.pop())\n",
    "print(stack)"
   ]
  },
  {
   "cell_type": "markdown",
   "metadata": {},
   "source": [
    "# Convert adjacency matrix to adjacency list"
   ]
  },
  {
   "cell_type": "code",
   "execution_count": 141,
   "metadata": {},
   "outputs": [
    {
     "data": {
      "text/plain": [
       "{0: [1, 2],\n",
       " 1: [0, 2, 3, 4, 5],\n",
       " 2: [0, 1, 3, 4, 5],\n",
       " 3: [1, 2, 4],\n",
       " 4: [1, 2, 3, 5],\n",
       " 5: [1, 2, 4, 6],\n",
       " 6: [5]}"
      ]
     },
     "execution_count": 141,
     "metadata": {},
     "output_type": "execute_result"
    }
   ],
   "source": [
    "def adjacency_matrix_to_list(adjacency_matrix):\n",
    "  n = len(adjacency_matrix)\n",
    "  adjacency_list = {i: [] for i in range(n)}\n",
    "\n",
    "  for i in range(n):\n",
    "    for j in range(n):\n",
    "      if adjacency_matrix[i][j] == 1:\n",
    "        adjacency_list[i].append(j)\n",
    "  return adjacency_list\n",
    "\n",
    "\n",
    "adjacency_matrix = [[0, 1, 1, 0, 0, 0, 0],\n",
    "                    [1, 0, 1, 1, 1, 1, 0],\n",
    "                    [1, 1, 0, 1, 1, 1, 0],\n",
    "                    [0, 1, 1, 0, 1, 0, 0],\n",
    "                    [0, 1, 1, 1, 0, 1, 0],\n",
    "                    [0, 1, 1, 0, 1, 0, 1],\n",
    "                    [0, 0, 0, 0, 0, 1, 0]]\n",
    "\n",
    "adjacency_matrix_to_list(adjacency_matrix)"
   ]
  },
  {
   "cell_type": "markdown",
   "metadata": {},
   "source": [
    "# GrPA 1"
   ]
  },
  {
   "cell_type": "code",
   "execution_count": 142,
   "metadata": {},
   "outputs": [],
   "source": [
    "def parse_my_input(my_input):\n",
    "  data = my_input.strip().split('\\n')\n",
    "\n",
    "  n = int(data[0])\n",
    "  adjacency_matrix = [list(map(int, data[i+1].split())) for i in range(n)]\n",
    "  px = int(data[-2])\n",
    "  py = int(data[-1])\n",
    "\n",
    "  return n, adjacency_matrix, px, py"
   ]
  },
  {
   "cell_type": "code",
   "execution_count": 143,
   "metadata": {},
   "outputs": [
    {
     "data": {
      "text/plain": [
       "3"
      ]
     },
     "execution_count": 143,
     "metadata": {},
     "output_type": "execute_result"
    }
   ],
   "source": [
    "def bfs(adjacency_list, start_vertex):\n",
    "  visited = {vertex: False for vertex in adjacency_list}\n",
    "  level = {vertex: 0 for vertex in adjacency_list}\n",
    "\n",
    "  queue = Queue()\n",
    "  queue.enqueue(start_vertex)\n",
    "  visited[start_vertex] = True\n",
    "\n",
    "  while not queue.is_empty():\n",
    "    curr_vertex = queue.dequeue()\n",
    "\n",
    "    for adj_vertex in adjacency_list[curr_vertex]:\n",
    "      if not visited[adj_vertex]:\n",
    "        queue.enqueue(adj_vertex)\n",
    "        visited[adj_vertex] = True\n",
    "        level[adj_vertex] = level[curr_vertex]+1\n",
    "  return level\n",
    "\n",
    "\n",
    "def find_connection_level(n, adjacency_matrix, px, py):\n",
    "  adjacency_list = adjacency_matrix_to_list(adjacency_matrix)  # helper function\n",
    "  level = bfs(adjacency_list, px)  # helper function\n",
    "  return level[py]\n",
    "\n",
    "\n",
    "find_connection_level(*parse_my_input(\"\"\"\n",
    "7\n",
    "0 1 1 0 0 0 0\n",
    "1 0 1 1 1 1 0\n",
    "1 1 0 1 1 1 0\n",
    "0 1 1 0 1 0 0\n",
    "0 1 1 1 0 1 0\n",
    "0 1 1 0 1 0 1\n",
    "0 0 0 0 0 1 0\n",
    "6\n",
    "0\n",
    "\"\"\"))"
   ]
  },
  {
   "cell_type": "markdown",
   "metadata": {},
   "source": [
    "# GrPA 2"
   ]
  },
  {
   "cell_type": "code",
   "execution_count": 144,
   "metadata": {},
   "outputs": [],
   "source": [
    "def parse_my_input(my_input):\n",
    "  data = my_input.strip().split('\\n')\n",
    "\n",
    "  V = list(map(int, data[0].split()))\n",
    "  E = [list(map(int, edge.split())) for edge in data[2:]]\n",
    "\n",
    "  return V, E"
   ]
  },
  {
   "cell_type": "code",
   "execution_count": 146,
   "metadata": {},
   "outputs": [
    {
     "data": {
      "text/plain": [
       "1"
      ]
     },
     "execution_count": 146,
     "metadata": {},
     "output_type": "execute_result"
    }
   ],
   "source": [
    "def bfs(adjacency_list, start_vertex):\n",
    "  visited = {vertex: False for vertex in adjacency_list}\n",
    "\n",
    "  queue = Queue()\n",
    "  queue.enqueue(start_vertex)\n",
    "  visited[start_vertex] = True\n",
    "\n",
    "  while not queue.is_empty():\n",
    "    curr_vertex = queue.dequeue()\n",
    "\n",
    "    for adj_vertex in adjacency_list[curr_vertex]:\n",
    "      if not visited[adj_vertex]:\n",
    "        queue.enqueue(adj_vertex)\n",
    "        visited[adj_vertex] = True\n",
    "  return visited\n",
    "\n",
    "\n",
    "def find_master_tank(tanks, pipes):\n",
    "  adjacency_list = {u: [] for u in tanks}\n",
    "  for u, v in pipes:\n",
    "    adjacency_list[u].append(v)\n",
    "\n",
    "  for vertex in adjacency_list:\n",
    "    visited = bfs(adjacency_list, vertex)  # helper function\n",
    "    if all(visited.values()):\n",
    "      return vertex\n",
    "  return 0\n",
    "\n",
    "\n",
    "find_master_tank(*parse_my_input(\"\"\"\n",
    "1 2 3 4\n",
    "3\n",
    "1 2\n",
    "2 3\n",
    "2 4\n",
    "\"\"\"))"
   ]
  },
  {
   "cell_type": "markdown",
   "metadata": {},
   "source": [
    "# GrPA 3"
   ]
  },
  {
   "cell_type": "code",
   "execution_count": 2,
   "metadata": {},
   "outputs": [
    {
     "data": {
      "text/plain": [
       "[('Leh', 0),\n",
       " ('Shimla', 1),\n",
       " ('Rishikesh', 2),\n",
       " ('Delhi', 3),\n",
       " ('Agra', 4),\n",
       " ('Sravasti', 4),\n",
       " ('Jaipur', 4),\n",
       " ('Pushkar', 5),\n",
       " ('Kushinagar', 5),\n",
       " ('Vaishali', 6),\n",
       " ('Udaipur', 6),\n",
       " ('Ranthambore', 6),\n",
       " ('Sarnath', 6),\n",
       " ('Varanasi', 7),\n",
       " ('Gir', 7),\n",
       " ('Bodhgaya', 8),\n",
       " ('Khajuraho', 8),\n",
       " ('Kolkatta', 9),\n",
       " ('Ajanta', 10),\n",
       " ('Ellora', 11),\n",
       " ('Aurangabad', 12),\n",
       " ('Mumbai', 13),\n",
       " ('Goa', 14),\n",
       " ('Bangalore', 15),\n",
       " ('Chennai', 16),\n",
       " ('Madurai', 17),\n",
       " ('Cochin', 18),\n",
       " ('Thiruvanandhapuram', 19),\n",
       " ('Kanyakumari', 20)]"
      ]
     },
     "execution_count": 2,
     "metadata": {},
     "output_type": "execute_result"
    }
   ],
   "source": [
    "def dfs(adjacency_list, curr_vertex, visited, stack):\n",
    "  visited[curr_vertex] = True\n",
    "\n",
    "  for neighbor in adjacency_list[curr_vertex]:\n",
    "    if not visited[neighbor]:\n",
    "      dfs(adjacency_list, neighbor, visited, stack)\n",
    "\n",
    "  stack.append(curr_vertex)\n",
    "\n",
    "\n",
    "def topological_sort(adjacency_list):\n",
    "  visited = {vertex: False for vertex in adjacency_list}\n",
    "  stack = []\n",
    "\n",
    "  for vertex in adjacency_list:\n",
    "    if not visited[vertex]:\n",
    "      dfs(adjacency_list, vertex, visited, stack)\n",
    "\n",
    "  # the stack contains the topologically sorted order in reverse\n",
    "  return stack[::-1]\n",
    "\n",
    "\n",
    "def longest_path(adjacency_list):\n",
    "  topological_order = topological_sort(adjacency_list)\n",
    "  longest_paths = {vertex: float('-inf') for vertex in adjacency_list}\n",
    "  longest_paths[topological_order[0]] = 0  # start at `topological_order[0]`\n",
    "\n",
    "  for vertex in topological_order:\n",
    "    if longest_paths[vertex] != float('-inf'):  # if vertex is reachable\n",
    "      for neighbor in adjacency_list[vertex]:\n",
    "        longest_paths[neighbor] = max(longest_paths[neighbor], longest_paths[vertex] + 1)\n",
    "\n",
    "  return sorted(longest_paths.items(), key=lambda pair: (pair[1]))\n",
    "\n",
    "\n",
    "def long_journey(adjacency_list):\n",
    "  return longest_path(adjacency_list)\n",
    "\n",
    "\n",
    "long_journey(eval(\"\"\"\n",
    "{'Madurai': ['Cochin', 'Kanyakumari'],\n",
    " 'Vaishali': [],\n",
    " 'Varanasi': ['Khajuraho', 'Bodhgaya'],\n",
    " 'Thiruvanandhapuram': ['Kanyakumari'],\n",
    " 'Udaipur': ['Gir', 'Ajanta'],\n",
    " 'Rishikesh': ['Delhi'],\n",
    " 'Shimla': ['Rishikesh'],\n",
    " 'Bangalore': ['Chennai', 'Madurai'],\n",
    " 'Agra': ['Ranthambore'],\n",
    " 'Ellora': ['Aurangabad'],\n",
    " 'Bodhgaya': ['Kolkatta'],\n",
    " 'Cochin': ['Thiruvanandhapuram'],\n",
    " 'Pushkar': ['Udaipur', 'Ranthambore'],\n",
    " 'Ranthambore': ['Khajuraho'],\n",
    " 'Gir': [],\n",
    " 'Aurangabad': ['Mumbai'],\n",
    " 'Kolkatta': ['Ajanta', 'Bangalore', 'Chennai'],\n",
    " 'Chennai': ['Madurai'],\n",
    " 'Sravasti': ['Kushinagar'],\n",
    " 'Leh': ['Shimla'],\n",
    " 'Sarnath': ['Varanasi'],\n",
    " 'Delhi': ['Jaipur', 'Agra', 'Sravasti'],\n",
    " 'Goa': ['Cochin', 'Bangalore'],\n",
    " 'Kanyakumari': [],\n",
    " 'Kushinagar': ['Sarnath', 'Vaishali'],\n",
    " 'Khajuraho': ['Ajanta'],\n",
    " 'Jaipur': ['Pushkar'],\n",
    " 'Mumbai': ['Goa'],\n",
    " 'Ajanta': ['Ellora', 'Aurangabad']}\n",
    "\"\"\"))"
   ]
  }
 ],
 "metadata": {
  "kernelspec": {
   "display_name": "Python 3",
   "language": "python",
   "name": "python3"
  },
  "language_info": {
   "codemirror_mode": {
    "name": "ipython",
    "version": 3
   },
   "file_extension": ".py",
   "mimetype": "text/x-python",
   "name": "python",
   "nbconvert_exporter": "python",
   "pygments_lexer": "ipython3",
   "version": "3.12.0"
  }
 },
 "nbformat": 4,
 "nbformat_minor": 2
}
