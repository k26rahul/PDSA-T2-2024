{
 "cells": [
  {
   "cell_type": "code",
   "execution_count": 2,
   "metadata": {},
   "outputs": [
    {
     "name": "stdout",
     "output_type": "stream",
     "text": [
      "True\n",
      "True\n",
      "False\n"
     ]
    }
   ],
   "source": [
    "def is_prime(n):\n",
    "  for i in range(2, int(n**0.5)+1):\n",
    "    if n % i == 0:\n",
    "      return False\n",
    "  return True\n",
    "\n",
    "\n",
    "print(is_prime(2))\n",
    "print(is_prime(7))\n",
    "print(is_prime(8))"
   ]
  },
  {
   "cell_type": "code",
   "execution_count": 19,
   "metadata": {},
   "outputs": [
    {
     "name": "stdout",
     "output_type": "stream",
     "text": [
      "[(3, 5), (5, 7), (11, 13)]\n"
     ]
    }
   ],
   "source": [
    "n = 1\n",
    "m = 15\n",
    "n = max(2, n)\n",
    "\n",
    "twins = []\n",
    "\n",
    "for i in range(n, m+1):\n",
    "  if i+2 > m:\n",
    "    break\n",
    "  if is_prime(i) and is_prime(i+2):\n",
    "    twins.append((i, i+2))\n",
    "\n",
    "print(twins)"
   ]
  },
  {
   "cell_type": "markdown",
   "metadata": {},
   "source": [
    "# PPA-2"
   ]
  },
  {
   "cell_type": "markdown",
   "metadata": {},
   "source": [
    "Person [class]\n",
    "\n",
    "object rahul [instance of Person class]\n",
    "object vidhatri [instance of Person class]\n",
    "object cmd [instance of Person class]\n",
    "\n",
    "every object has a class, why? bcz classes are blueprint for objects"
   ]
  },
  {
   "cell_type": "markdown",
   "metadata": {},
   "source": [
    "classes Human\n",
    "classes Animal\n",
    "classes Bird\n",
    "\n",
    "object rahul > Human\n",
    "object Cat > Animal\n",
    "object Dog > Animal\n",
    "object Mini (cat ka name) > Animal\n",
    "object Monty (dog ka name) > Animal\n",
    "object sparrow > Bird"
   ]
  },
  {
   "cell_type": "markdown",
   "metadata": {},
   "source": [
    "classes:\n",
    "1. properties/attributes of objects (color, speed, weight, age, temp)\n",
    "2. actions/methods/operations (fly, bark, meow, accelerate, brake, drink, eat, sleep)\n",
    "\n",
    "Car:\n",
    "attributes: color, engine model, tank capacity, max speed, current speed, seats (noun)\n",
    "actions: start, stop, brake, window up/down, music on, music off (verbs)\n",
    "\n",
    "Car objects:\n",
    "object tata nano: Car (blueprint)\n",
    "(start, stop, brake, window up/down, music on, music off)\n",
    "(color, engine model, tank capacity, max speed, current speed, seats)\n",
    "\n",
    "object scorpio: Car (blueprint)\n",
    "(start, stop, brake, window up/down, music on, music off)\n",
    "(color, engine model, tank capacity, max speed, current speed, seats)\n",
    "\n",
    "object audi: Car (blueprint)\n",
    "(start, stop, brake, window up/down, music on, music off)\n",
    "(color, engine model, tank capacity, max speed, current speed, seats)\n",
    "\n",
    "object green_audi: Car (blueprint)\n",
    "(start, stop, brake, window up/down, music on, music off)\n",
    "(color: green, engine model, tank capacity, max speed, current speed, seats)\n",
    "\n",
    "object red_audi: Car (blueprint)\n",
    "(start, stop, brake, window up/down, music on, music off)\n",
    "(color: red, engine model, tank capacity, max speed, current speed, seats)"
   ]
  },
  {
   "cell_type": "markdown",
   "metadata": {},
   "source": [
    "Triangle class:\n",
    "attributes: a, b, c\n",
    "actions/operations: is_valid, Side_Classification etc.\n",
    "\n",
    "objects:\n",
    "t1 (Triangle): 5, 5, 5\n",
    "t2 (Triangle): 18, 5, 7\n",
    "t3 (Triangle): 4, 5, 3\n",
    "t4 (Triangle): ..."
   ]
  },
  {
   "cell_type": "code",
   "execution_count": 31,
   "metadata": {},
   "outputs": [
    {
     "name": "stdout",
     "output_type": "stream",
     "text": [
      "Owner of the green tata nano is: vidhatri (20)\n",
      "Owner of the red audi g5 is: rahul (21)\n",
      "Owner of the yellow lambo h2 is: cmd (20)\n"
     ]
    }
   ],
   "source": [
    "class Car:\n",
    "  def __init__(self, color_choice, brand, model, max_speed, my_name, my_age):\n",
    "    self.color = color_choice\n",
    "    self.brand = brand\n",
    "    self.model = model\n",
    "    self.max_speed = max_speed\n",
    "    self.owner_info = f'{my_name} ({my_age})'\n",
    "\n",
    "  def start(self):\n",
    "    print(f'now starting {self.color} {self.brand} {self.model}')\n",
    "\n",
    "  def go_max_speed(self):\n",
    "    print(f'{self.color} {self.brand} {self.model} going at speed {self.max_speed} km/h')\n",
    "\n",
    "  def print_owner_info(self):\n",
    "    print(f'Owner of the {self.color} {self.brand} {self.model} is: {self.owner_info}')\n",
    "\n",
    "\n",
    "rahul_ki_car = Car('red', 'audi', 'g5', 200, 'rahul', 21)\n",
    "vidhatri_ki_car = Car('green', 'tata', 'nano', 100, my_name='vidhatri', my_age=20)\n",
    "cmd_ki_car = Car('yellow', 'lambo', 'h2', 350, 'cmd', my_age=20)\n",
    "\n",
    "# rahul_ki_car.start()\n",
    "# vidhatri_ki_car.start()\n",
    "# vidhatri_ki_car.go_max_speed()\n",
    "\n",
    "vidhatri_ki_car.print_owner_info()\n",
    "rahul_ki_car.print_owner_info()\n",
    "cmd_ki_car.print_owner_info()"
   ]
  }
 ],
 "metadata": {
  "kernelspec": {
   "display_name": "Python 3",
   "language": "python",
   "name": "python3"
  },
  "language_info": {
   "codemirror_mode": {
    "name": "ipython",
    "version": 3
   },
   "file_extension": ".py",
   "mimetype": "text/x-python",
   "name": "python",
   "nbconvert_exporter": "python",
   "pygments_lexer": "ipython3",
   "version": "3.12.0"
  }
 },
 "nbformat": 4,
 "nbformat_minor": 2
}
