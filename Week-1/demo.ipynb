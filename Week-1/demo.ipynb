{
 "cells": [
  {
   "cell_type": "markdown",
   "metadata": {},
   "source": [
    "### Computing gcd - Better Way"
   ]
  },
  {
   "cell_type": "code",
   "execution_count": 50,
   "metadata": {},
   "outputs": [
    {
     "data": {
      "text/plain": [
       "'\\ngcd(50, 15): ans=5\\n50/15\\n35/15\\n20/15\\n5/15 > 15/5: ans=5\\n\\n\\ngcd(60, 45): ans=15\\n60/45\\n15/45 > 45/15: ans=15\\n\\n\\ngcd(45, 75): ans=15\\n45/75 > 75/45\\n30/45 > 45/30\\n15/30 > a=30/b=15: ans=b=15\\n\\n\\ngcd(18, 25): ans=1\\n25/18\\n18/7\\n11/7\\n7/4\\n4/3\\n1/3: ans=1\\n'"
      ]
     },
     "execution_count": 50,
     "metadata": {},
     "output_type": "execute_result"
    }
   ],
   "source": [
    "\"\"\"\n",
    "gcd(50, 15): ans=5\n",
    "50/15\n",
    "35/15\n",
    "20/15\n",
    "5/15 > 15/5: ans=5\n",
    "\n",
    "\n",
    "gcd(60, 45): ans=15\n",
    "60/45\n",
    "15/45 > 45/15: ans=15\n",
    "\n",
    "\n",
    "gcd(45, 75): ans=15\n",
    "45/75 > 75/45\n",
    "30/45 > 45/30\n",
    "15/30 > a=30/b=15: ans=b=15\n",
    "\n",
    "\n",
    "gcd(18, 25): ans=1\n",
    "25/18\n",
    "18/7\n",
    "11/7\n",
    "7/4\n",
    "4/3\n",
    "1/3: ans=1\n",
    "\"\"\""
   ]
  },
  {
   "cell_type": "code",
   "execution_count": 51,
   "metadata": {},
   "outputs": [
    {
     "data": {
      "text/plain": [
       "'\\nm=50, n=20, d=10\\nm = 50 = 5*10 (x=5)\\nn = 20 = 2*10 (y=2)\\n\\nm-n = 30 = (x-y)d = (5-2)10 = 30\\n30/d = (5-2)\\nd is a factor of 30\\n\\n👉 d is a factor of m-n\\n'"
      ]
     },
     "execution_count": 51,
     "metadata": {},
     "output_type": "execute_result"
    }
   ],
   "source": [
    "\"\"\"\n",
    "m=50, n=20, d=10\n",
    "m = 50 = 5*10 (x=5)\n",
    "n = 20 = 2*10 (y=2)\n",
    "\n",
    "m-n = 30 = (x-y)d = (5-2)10 = 30\n",
    "30/d = (5-2)\n",
    "d is a factor of 30\n",
    "\n",
    "👉 d is a factor of m-n\n",
    "\"\"\""
   ]
  },
  {
   "cell_type": "code",
   "execution_count": 52,
   "metadata": {},
   "outputs": [
    {
     "name": "stdout",
     "output_type": "stream",
     "text": [
      "10\n"
     ]
    }
   ],
   "source": [
    "def gcd(m, n):\n",
    "  a, b = max(m, n), min(m, n)\n",
    "  # print(f'{a=}, {b=}')\n",
    "  if a % b == 0:\n",
    "    return b\n",
    "  else:\n",
    "    return gcd(b, a-b)\n",
    "\n",
    "\n",
    "# print(gcd(8, 12))\n",
    "# print(gcd(18, 25))\n",
    "# print(gcd(45, 75))\n",
    "print(gcd(90, 1700))"
   ]
  },
  {
   "cell_type": "markdown",
   "metadata": {},
   "source": [
    "# PPA-1"
   ]
  },
  {
   "cell_type": "code",
   "execution_count": 53,
   "metadata": {},
   "outputs": [
    {
     "name": "stdout",
     "output_type": "stream",
     "text": [
      "True\n",
      "True\n",
      "False\n"
     ]
    }
   ],
   "source": [
    "def is_prime(n):\n",
    "  for i in range(2, int(n**0.5)+1):\n",
    "    if n % i == 0:\n",
    "      return False\n",
    "  return True\n",
    "\n",
    "\n",
    "print(is_prime(2))\n",
    "print(is_prime(7))\n",
    "print(is_prime(8))"
   ]
  },
  {
   "cell_type": "code",
   "execution_count": 54,
   "metadata": {},
   "outputs": [
    {
     "name": "stdout",
     "output_type": "stream",
     "text": [
      "[(3, 5), (5, 7), (11, 13)]\n"
     ]
    }
   ],
   "source": [
    "n = 1\n",
    "m = 15\n",
    "n = max(2, n)\n",
    "\n",
    "twins = []\n",
    "\n",
    "for i in range(n, m+1):\n",
    "  if i+2 > m:\n",
    "    break\n",
    "  if is_prime(i) and is_prime(i+2):\n",
    "    twins.append((i, i+2))\n",
    "\n",
    "print(twins)"
   ]
  },
  {
   "cell_type": "markdown",
   "metadata": {},
   "source": [
    "# PPA-2"
   ]
  },
  {
   "cell_type": "markdown",
   "metadata": {},
   "source": [
    "```\n",
    "Person [class]\n",
    "\n",
    "object rahul [instance of Person class]\n",
    "object vidhatri [instance of Person class]\n",
    "object cmd [instance of Person class]\n",
    "\n",
    "every object has a class, why? bcz classes are blueprint for objects\n",
    "```"
   ]
  },
  {
   "cell_type": "markdown",
   "metadata": {},
   "source": [
    "```\n",
    "classes Human\n",
    "classes Animal\n",
    "classes Bird\n",
    "\n",
    "object rahul > Human\n",
    "object Cat > Animal\n",
    "object Dog > Animal\n",
    "object Mini (cat ka name) > Animal\n",
    "object Monty (dog ka name) > Animal\n",
    "object sparrow > Bird\n",
    "```"
   ]
  },
  {
   "cell_type": "markdown",
   "metadata": {},
   "source": [
    "```\n",
    "classes:\n",
    "1. properties/attributes of objects (color, speed, weight, age, temp)\n",
    "2. actions/methods/operations (fly, bark, meow, accelerate, brake, drink, eat, sleep)\n",
    "\n",
    "Car:\n",
    "attributes: color, engine model, tank capacity, max speed, current speed, seats (noun)\n",
    "actions: start, stop, brake, window up/down, music on, music off (verbs)\n",
    "\n",
    "Car objects:\n",
    "object tata nano: Car (blueprint)\n",
    "(start, stop, brake, window up/down, music on, music off)\n",
    "(color, engine model, tank capacity, max speed, current speed, seats)\n",
    "\n",
    "object scorpio: Car (blueprint)\n",
    "(start, stop, brake, window up/down, music on, music off)\n",
    "(color, engine model, tank capacity, max speed, current speed, seats)\n",
    "\n",
    "object audi: Car (blueprint)\n",
    "(start, stop, brake, window up/down, music on, music off)\n",
    "(color, engine model, tank capacity, max speed, current speed, seats)\n",
    "\n",
    "object green_audi: Car (blueprint)\n",
    "(start, stop, brake, window up/down, music on, music off)\n",
    "(color: green, engine model, tank capacity, max speed, current speed, seats)\n",
    "\n",
    "object red_audi: Car (blueprint)\n",
    "(start, stop, brake, window up/down, music on, music off)\n",
    "(color: red, engine model, tank capacity, max speed, current speed, seats)\n",
    "```"
   ]
  },
  {
   "cell_type": "markdown",
   "metadata": {},
   "source": [
    "```\n",
    "Triangle class:\n",
    "attributes: a, b, c\n",
    "actions/operations: is_valid, Side_Classification etc.\n",
    "\n",
    "objects:\n",
    "t1 (Triangle): 5, 5, 5\n",
    "t2 (Triangle): 18, 5, 7\n",
    "t3 (Triangle): 4, 5, 3\n",
    "t4 (Triangle): ...\n",
    "```"
   ]
  },
  {
   "cell_type": "code",
   "execution_count": 55,
   "metadata": {},
   "outputs": [
    {
     "name": "stdout",
     "output_type": "stream",
     "text": [
      "Owner of the green tata nano is: vidhatri (20)\n",
      "Owner of the red audi g5 is: rahul (21)\n",
      "Owner of the yellow lambo h2 is: cmd (20)\n"
     ]
    }
   ],
   "source": [
    "class Car:\n",
    "  def __init__(self, color_choice, brand, model, max_speed, my_name, my_age):\n",
    "    self.color = color_choice\n",
    "    self.brand = brand\n",
    "    self.model = model\n",
    "    self.max_speed = max_speed\n",
    "    self.owner_info = f'{my_name} ({my_age})'\n",
    "\n",
    "  def start(self):\n",
    "    print(f'now starting {self.color} {self.brand} {self.model}')\n",
    "\n",
    "  def go_max_speed(self):\n",
    "    print(f'{self.color} {self.brand} {self.model} going at speed {self.max_speed} km/h')\n",
    "\n",
    "  def print_owner_info(self):\n",
    "    print(f'Owner of the {self.color} {self.brand} {self.model} is: {self.owner_info}')\n",
    "\n",
    "\n",
    "rahul_ki_car = Car('red', 'audi', 'g5', 200, 'rahul', 21)\n",
    "vidhatri_ki_car = Car('green', 'tata', 'nano', 100, my_name='vidhatri', my_age=20)\n",
    "cmd_ki_car = Car('yellow', 'lambo', 'h2', 350, 'cmd', my_age=20)\n",
    "\n",
    "# rahul_ki_car.start()\n",
    "# vidhatri_ki_car.start()\n",
    "# vidhatri_ki_car.go_max_speed()\n",
    "\n",
    "vidhatri_ki_car.print_owner_info()\n",
    "rahul_ki_car.print_owner_info()\n",
    "cmd_ki_car.print_owner_info()"
   ]
  },
  {
   "cell_type": "markdown",
   "metadata": {},
   "source": [
    "# Exception handling"
   ]
  },
  {
   "cell_type": "code",
   "execution_count": 56,
   "metadata": {},
   "outputs": [],
   "source": [
    "x = 5\n",
    "y = 0\n",
    "\n",
    "# x/y"
   ]
  },
  {
   "cell_type": "code",
   "execution_count": 57,
   "metadata": {},
   "outputs": [
    {
     "name": "stdout",
     "output_type": "stream",
     "text": [
      "my ans is: 2.5\n"
     ]
    }
   ],
   "source": [
    "x = 5\n",
    "y = 2\n",
    "\n",
    "try:\n",
    "  ans = x/y\n",
    "  print(f'my ans is: {ans}')\n",
    "except:  # it'll deal with all kind of errors\n",
    "  print('sorry bro i cant divide 😐')"
   ]
  },
  {
   "cell_type": "code",
   "execution_count": 58,
   "metadata": {},
   "outputs": [
    {
     "name": "stdout",
     "output_type": "stream",
     "text": [
      "sorry bro i cant divide 😐\n"
     ]
    }
   ],
   "source": [
    "x = 5\n",
    "y = 0\n",
    "\n",
    "try:\n",
    "  ans = x/y\n",
    "  print(f'my ans is: {ans}')\n",
    "except (ZeroDivisionError):  # it'll deal only with ZeroDivisionError\n",
    "  print('sorry bro i cant divide 😐')"
   ]
  },
  {
   "cell_type": "code",
   "execution_count": 59,
   "metadata": {},
   "outputs": [
    {
     "name": "stdout",
     "output_type": "stream",
     "text": [
      "my ans is: 2.5\n",
      "my logic failed cause u did index error 😐\n"
     ]
    }
   ],
   "source": [
    "x = 5\n",
    "y = 2\n",
    "\n",
    "try:\n",
    "  ans = x/y\n",
    "  print(f'my ans is: {ans}')\n",
    "  my_list = [12, 13, 14]\n",
    "  print(my_list[5])\n",
    "except (ZeroDivisionError):  # it'll deal only with ZeroDivisionError\n",
    "  print('sorry bro i cant divide 😐')\n",
    "except (IndexError):  # it'll deal only with IndexError\n",
    "  print('my logic failed cause u did index error 😐')"
   ]
  },
  {
   "cell_type": "code",
   "execution_count": 60,
   "metadata": {},
   "outputs": [
    {
     "name": "stdout",
     "output_type": "stream",
     "text": [
      "my ans is: 2.5\n",
      "12\n"
     ]
    }
   ],
   "source": [
    "x = 5\n",
    "y = 2\n",
    "\n",
    "try:\n",
    "  ans = x/y\n",
    "  print(f'my ans is: {ans}')\n",
    "  my_list = [12, 13, 14]\n",
    "  print(my_list[0])\n",
    "except:  # it'll deal all errors\n",
    "  print('sorry something went wrong 😐')"
   ]
  },
  {
   "cell_type": "code",
   "execution_count": 61,
   "metadata": {},
   "outputs": [
    {
     "name": "stdout",
     "output_type": "stream",
     "text": [
      "i am under speed limits ✌️✌️\n"
     ]
    }
   ],
   "source": [
    "speed = 90\n",
    "\n",
    "try:\n",
    "  if speed > 100:\n",
    "    raise 'too fast!!!! ⚠️⚠️'  # forcefully break the code by raising [custom] error\n",
    "  print('i am under speed limits ✌️✌️')\n",
    "except:\n",
    "  print('stop! u going high speed 😐😐')"
   ]
  },
  {
   "cell_type": "code",
   "execution_count": 62,
   "metadata": {},
   "outputs": [],
   "source": [
    "# try:\n",
    "#   num = int(input())\n",
    "#   print(f'the sq of your input number is {num**2}')\n",
    "# except:  # deal all errors (avoid this)\n",
    "#   print('bro plz enter only digits (not letters)')"
   ]
  },
  {
   "cell_type": "code",
   "execution_count": 63,
   "metadata": {},
   "outputs": [],
   "source": [
    "# try:\n",
    "#   num = int(input())\n",
    "#   print(f'the sq of your input number is {num**2}')\n",
    "# except (ValueError):  # deal only ValueError (prefer this)\n",
    "#   print('bro plz enter only digits (not letters)')"
   ]
  },
  {
   "cell_type": "markdown",
   "metadata": {},
   "source": [
    "# Classes and objects (expressive syntax)\n",
    "\n",
    "Expressive: their behaviour clearly indicates their feelings or intentions"
   ]
  },
  {
   "cell_type": "code",
   "execution_count": 64,
   "metadata": {},
   "outputs": [
    {
     "name": "stdout",
     "output_type": "stream",
     "text": [
      "ok im a good point (3, 4)😀\n",
      "ok im a good point (5, 8)😥\n",
      "ok im a bad point (7, 9)😥\n"
     ]
    }
   ],
   "source": [
    "class Point:\n",
    "  # defining init method (self is a mandatory parameter for methods)\n",
    "  def __init__(self, my_x, my_y, nature, health):\n",
    "    self.x = my_x\n",
    "    self.y = my_y\n",
    "    self.nature = nature\n",
    "    self.health = health\n",
    "\n",
    "  # get the string representation of this object\n",
    "  def __str__(self):\n",
    "    msg = f'ok im a {self.nature} point ({self.x}, {self.y})'\n",
    "    if self.health == 'good':\n",
    "      msg += '😀'\n",
    "    else:\n",
    "      msg += '😥'\n",
    "    return msg\n",
    "\n",
    "\n",
    "# self -> uniq for each object\n",
    "p = Point(3, 4, 'good', 'good')  # self\n",
    "q = Point(5, 8, 'good', 'bad')  # self\n",
    "r = Point(7, 9, 'bad', 'bad')  # self\n",
    "\n",
    "print(p)\n",
    "print(q)\n",
    "print(r)\n",
    "\n",
    "# by default python print objects like this, if u want better, go define __str__\n",
    "# <__main__.Point object at 0x0000023665FBF1D0>\n",
    "# <__main__.Point object at 0x0000023665FBC0E0>"
   ]
  },
  {
   "cell_type": "markdown",
   "metadata": {},
   "source": [
    "### without using objects:"
   ]
  },
  {
   "cell_type": "code",
   "execution_count": 65,
   "metadata": {},
   "outputs": [
    {
     "name": "stdout",
     "output_type": "stream",
     "text": [
      "ok im a good point (3, 4)😀\n",
      "ok im a good point (5, 8)😥\n",
      "ok im a bad point (7, 9)😥\n"
     ]
    }
   ],
   "source": [
    "def point_to_string(point):\n",
    "  # get the string representation of this object\n",
    "  msg = f'ok im a {point[2]} point {point[0], point[1]}'\n",
    "  if point[3] == 'good':\n",
    "    msg += '😀'\n",
    "  else:\n",
    "    msg += '😥'\n",
    "  return msg\n",
    "\n",
    "\n",
    "p = (3, 4, 'good', 'good')\n",
    "q = (5, 8, 'good', 'bad')\n",
    "r = (7, 9, 'bad', 'bad')\n",
    "\n",
    "print(point_to_string(p))\n",
    "print(point_to_string(q))\n",
    "print(point_to_string(r))"
   ]
  },
  {
   "cell_type": "markdown",
   "metadata": {},
   "source": [
    "### full implementation (using objects, object oriented syntax):\n",
    "\n",
    "Object-oriented programming aims to implement real-world entities having unique attributes and behavior."
   ]
  },
  {
   "cell_type": "code",
   "execution_count": 66,
   "metadata": {},
   "outputs": [],
   "source": [
    "import math"
   ]
  },
  {
   "cell_type": "code",
   "execution_count": 67,
   "metadata": {},
   "outputs": [
    {
     "name": "stdout",
     "output_type": "stream",
     "text": [
      "5.0\n",
      "Point (8, 12)\n",
      "Point (11, 15)\n",
      "Point (12, 16)\n"
     ]
    }
   ],
   "source": [
    "class Point:\n",
    "  def __init__(self, x=0, y=0):  # initializer method (creates object)\n",
    "    self.x = x\n",
    "    self.y = y\n",
    "\n",
    "  def translate(self, delta_x, delta_y):  # new method! 👁️\n",
    "    self.x += delta_x\n",
    "    self.y += delta_y\n",
    "\n",
    "  def origin_distance(self):  # new method! 👁️\n",
    "    distance = math.sqrt(self.x**2 + self.y**2)\n",
    "    return distance\n",
    "\n",
    "  # implements p+q functionality\n",
    "  def __add__(self, other_point):  # new mrhtod! 👁️\n",
    "    new_x = self.x + other_point.x\n",
    "    new_y = self.y + other_point.y\n",
    "    return Point(new_x, new_y)\n",
    "\n",
    "  def __str__(self):\n",
    "    return f'Point ({self.x}, {self.y})'\n",
    "\n",
    "\n",
    "p = Point(3, 4)\n",
    "q = Point(5, 8)\n",
    "print(p.origin_distance())\n",
    "\n",
    "r = p + q\n",
    "print(r)\n",
    "\n",
    "r.translate(3, 3)\n",
    "print(r)\n",
    "\n",
    "print(r + Point(1, 1))"
   ]
  },
  {
   "cell_type": "markdown",
   "metadata": {},
   "source": [
    "### full implementation (without using objects, functional syntax):\n",
    "\n",
    "Functional programming is a programming paradigm in which we try to bind everything in pure mathematical functions style.\n",
    "\n",
    "Functional programming is a programming paradigm in which the primary method of computation is using functions."
   ]
  },
  {
   "cell_type": "code",
   "execution_count": 68,
   "metadata": {},
   "outputs": [
    {
     "name": "stdout",
     "output_type": "stream",
     "text": [
      "5.0\n",
      "Point (8, 12)\n",
      "Point (11, 15)\n",
      "Point (12, 16)\n"
     ]
    }
   ],
   "source": [
    "def point_to_string(point):\n",
    "  return f'Point ({point[0]}, {point[1]})'\n",
    "\n",
    "\n",
    "def translate_point(point, delta_x, delta_y):\n",
    "  return (point[0] + delta_x, point[1] + delta_y)\n",
    "\n",
    "\n",
    "def origin_distance(point):\n",
    "  return math.sqrt(point[0]**2 + point[1]**2)\n",
    "\n",
    "\n",
    "def add_points(point1, point2):\n",
    "  return (point1[0] + point2[0], point1[1] + point2[1])\n",
    "\n",
    "\n",
    "p = (3, 4)\n",
    "q = (5, 8)\n",
    "print(origin_distance(p))\n",
    "\n",
    "r = add_points(p, q)\n",
    "print(point_to_string(r))\n",
    "\n",
    "r = translate_point(r, 3, 3)\n",
    "print(point_to_string(r))\n",
    "\n",
    "r = add_points(r, (1, 1))\n",
    "print(point_to_string(r))"
   ]
  },
  {
   "cell_type": "markdown",
   "metadata": {},
   "source": [
    "# PPA 2"
   ]
  },
  {
   "cell_type": "code",
   "execution_count": 69,
   "metadata": {},
   "outputs": [],
   "source": [
    "a, b, c = 2, 3, 4"
   ]
  },
  {
   "cell_type": "code",
   "execution_count": 70,
   "metadata": {},
   "outputs": [
    {
     "data": {
      "text/plain": [
       "'Valid'"
      ]
     },
     "execution_count": 70,
     "metadata": {},
     "output_type": "execute_result"
    }
   ],
   "source": [
    "def Is_valid():\n",
    "  if a+b > c and a+c > b and b+c > a:\n",
    "    return 'Valid'\n",
    "  return 'Invalid'\n",
    "\n",
    "\n",
    "Is_valid()"
   ]
  },
  {
   "cell_type": "code",
   "execution_count": 71,
   "metadata": {},
   "outputs": [
    {
     "data": {
      "text/plain": [
       "'Scalene'"
      ]
     },
     "execution_count": 71,
     "metadata": {},
     "output_type": "execute_result"
    }
   ],
   "source": [
    "def Side_Classification():\n",
    "  if Is_valid() == 'Invalid':\n",
    "    return 'Invalid'\n",
    "\n",
    "  if a == b == c:\n",
    "    return 'Equilateral'\n",
    "  if a == b or a == c or b == c:\n",
    "    return 'Isosceles'\n",
    "  return 'Scalene'\n",
    "\n",
    "\n",
    "Side_Classification()"
   ]
  },
  {
   "cell_type": "code",
   "execution_count": 72,
   "metadata": {},
   "outputs": [
    {
     "data": {
      "text/plain": [
       "'Obtuse'"
      ]
     },
     "execution_count": 72,
     "metadata": {},
     "output_type": "execute_result"
    }
   ],
   "source": [
    "def Angle_Classification():\n",
    "  if Is_valid() == 'Invalid':\n",
    "    return 'Invalid'\n",
    "\n",
    "  x, y, z = sorted([a, b, c])\n",
    "  if x * 2 + y * 2 > z ** 2:\n",
    "    return 'Acute'\n",
    "  if x * 2 + y * 2 < z ** 2:\n",
    "    return 'Obtuse'\n",
    "  return 'Right'\n",
    "\n",
    "\n",
    "Angle_Classification()"
   ]
  },
  {
   "cell_type": "code",
   "execution_count": 73,
   "metadata": {},
   "outputs": [
    {
     "data": {
      "text/plain": [
       "2.9047375096555625"
      ]
     },
     "execution_count": 73,
     "metadata": {},
     "output_type": "execute_result"
    }
   ],
   "source": [
    "def Area():\n",
    "  if Is_valid() == 'Invalid':\n",
    "    return 'Invalid'\n",
    "\n",
    "  s = (a+b+c)/2\n",
    "\n",
    "  area = (s*(s-a)*(s-b)*(s-c))**0.5\n",
    "  return area\n",
    "\n",
    "\n",
    "Area()"
   ]
  },
  {
   "cell_type": "code",
   "execution_count": 74,
   "metadata": {},
   "outputs": [
    {
     "name": "stdout",
     "output_type": "stream",
     "text": [
      "Valid\n",
      "Scalene\n",
      "Obtuse\n",
      "2.9047375096555625\n",
      "\n",
      "Invalid\n",
      "Invalid\n",
      "Invalid\n",
      "Invalid\n",
      "\n",
      "Valid\n",
      "Equilateral\n",
      "Obtuse\n",
      "10.825317547305483\n"
     ]
    }
   ],
   "source": [
    "class Triangle:\n",
    "  def __init__(self, a, b, c):\n",
    "    self.a = a\n",
    "    self.b = b\n",
    "    self.c = c\n",
    "\n",
    "  def Is_valid(self):\n",
    "    a, b, c = self.a, self.b, self.c\n",
    "    if a+b > c and a+c > b and b+c > a:\n",
    "      return 'Valid'\n",
    "    return 'Invalid'\n",
    "\n",
    "  def Side_Classification(self):\n",
    "    if self.Is_valid() == 'Invalid':\n",
    "      return 'Invalid'\n",
    "\n",
    "    a, b, c = self.a, self.b, self.c\n",
    "    if a == b == c:\n",
    "      return 'Equilateral'\n",
    "    if a == b or a == c or b == c:\n",
    "      return 'Isosceles'\n",
    "    return 'Scalene'\n",
    "\n",
    "  def Angle_Classification(self):\n",
    "    if self.Is_valid() == 'Invalid':\n",
    "      return 'Invalid'\n",
    "\n",
    "    a, b, c = sorted([self.a, self.b, self.c])  # unpacking/de-structuring of variables\n",
    "    if a * 2 + b * 2 > c ** 2:\n",
    "      return 'Acute'\n",
    "    if a * 2 + b * 2 < c ** 2:\n",
    "      return 'Obtuse'\n",
    "    return 'Right'\n",
    "\n",
    "  def Area(self):\n",
    "    if self.Is_valid() == 'Invalid':\n",
    "      return 'Invalid'\n",
    "\n",
    "    a, b, c = self.a, self.b, self.c\n",
    "    s = (a+b+c)/2\n",
    "    return (s*(s-a)*(s-b)*(s-c))**0.5\n",
    "\n",
    "\n",
    "t1 = Triangle(2, 3, 4)\n",
    "print(t1.Is_valid())\n",
    "print(t1.Side_Classification())\n",
    "print(t1.Angle_Classification())\n",
    "print(t1.Area())\n",
    "\n",
    "print()\n",
    "t2 = Triangle(10, 3, 5)\n",
    "print(t2.Is_valid())\n",
    "print(t2.Side_Classification())\n",
    "print(t2.Angle_Classification())\n",
    "print(t2.Area())\n",
    "\n",
    "print()\n",
    "t3 = Triangle(5, 5, 5)\n",
    "print(t3.Is_valid())\n",
    "print(t3.Side_Classification())\n",
    "print(t3.Angle_Classification())\n",
    "print(t3.Area())"
   ]
  },
  {
   "cell_type": "code",
   "execution_count": 75,
   "metadata": {},
   "outputs": [
    {
     "data": {
      "text/plain": [
       "(3, 4, 1, 9, 56, 7, 9, 12, 13)"
      ]
     },
     "execution_count": 75,
     "metadata": {},
     "output_type": "execute_result"
    },
    {
     "data": {
      "text/plain": [
       "(1, 3, 4, 7, 9, 9, 12, 13, 56)"
      ]
     },
     "execution_count": 75,
     "metadata": {},
     "output_type": "execute_result"
    }
   ],
   "source": [
    "3, 4, 1, 9, 56, 7, 9, 12, 13\n",
    "1, 3, 4, 7, 9, 9, 12, 13, 56"
   ]
  },
  {
   "cell_type": "code",
   "execution_count": 76,
   "metadata": {},
   "outputs": [
    {
     "name": "stdout",
     "output_type": "stream",
     "text": [
      "0 5 [1, 3, 4, 7, 9] 8\n",
      "1 6 [3, 4, 7, 9, 9] 6\n",
      "2 7 [4, 7, 9, 9, 12] 8\n",
      "3 8 [7, 9, 9, 12, 13] 6\n",
      "4 9 [9, 9, 12, 13, 56] 47\n",
      "min_diff=6\n"
     ]
    }
   ],
   "source": [
    "L = sorted([3, 4, 1, 9, 56, 7, 9, 12, 13])\n",
    "P = 5\n",
    "\n",
    "min_diff = float('inf')\n",
    "for i in range(len(L)-P+1):\n",
    "  group = L[i:i+P]\n",
    "  diff = max(group) - min(group)\n",
    "  if diff < min_diff:\n",
    "    min_diff = diff\n",
    "  print(i, i+P, group, diff)\n",
    "\n",
    "print(f'{min_diff=}')"
   ]
  },
  {
   "cell_type": "code",
   "execution_count": 77,
   "metadata": {},
   "outputs": [
    {
     "data": {
      "text/plain": [
       "6"
      ]
     },
     "execution_count": 77,
     "metadata": {},
     "output_type": "execute_result"
    }
   ],
   "source": [
    "def find_Min_Difference(L, P):\n",
    "  L = sorted(L)\n",
    "  min_diff = float('inf')\n",
    "\n",
    "  for i in range(len(L)-P+1):\n",
    "    group = L[i:i+5]\n",
    "    diff = max(group)-min(group)\n",
    "    if diff < min_diff:\n",
    "      min_diff = diff\n",
    "\n",
    "    # print(i, i+P, group, diff)\n",
    "  return min_diff\n",
    "\n",
    "\n",
    "find_Min_Difference([3, 4, 1, 9, 56, 7, 9, 12, 13], 5)"
   ]
  },
  {
   "cell_type": "code",
   "execution_count": 78,
   "metadata": {},
   "outputs": [
    {
     "name": "stdout",
     "output_type": "stream",
     "text": [
      "0 5 [1, 3, 4, 7, 9] 8\n",
      "1 6 [3, 4, 7, 9, 9] 6\n",
      "2 7 [4, 7, 9, 9, 12] 8\n",
      "3 8 [7, 9, 9, 12, 13] 6\n",
      "4 9 [9, 9, 12, 13, 56] 47\n"
     ]
    },
    {
     "data": {
      "text/plain": [
       "6"
      ]
     },
     "execution_count": 78,
     "metadata": {},
     "output_type": "execute_result"
    }
   ],
   "source": [
    "def find_Min_Difference(L, P):\n",
    "  L = sorted(L)\n",
    "  min_diff = float('inf')\n",
    "\n",
    "  i = 0\n",
    "  while i+P <= len(L):\n",
    "    group = L[i:i+5]\n",
    "    diff = max(group)-min(group)\n",
    "    if diff < min_diff:\n",
    "      min_diff = diff\n",
    "\n",
    "    print(i, i+P, group, diff)\n",
    "    i += 1\n",
    "\n",
    "  return min_diff\n",
    "\n",
    "\n",
    "find_Min_Difference([3, 4, 1, 9, 56, 7, 9, 12, 13], 5)"
   ]
  },
  {
   "cell_type": "code",
   "execution_count": 79,
   "metadata": {},
   "outputs": [
    {
     "name": "stdout",
     "output_type": "stream",
     "text": [
      "diffs=[8, 6, 8, 6, 47]\n"
     ]
    },
    {
     "data": {
      "text/plain": [
       "6"
      ]
     },
     "execution_count": 79,
     "metadata": {},
     "output_type": "execute_result"
    }
   ],
   "source": [
    "def find_Min_Difference(L, P):\n",
    "  L = sorted(L)\n",
    "\n",
    "  diffs = []\n",
    "  i = 0\n",
    "  while i + P <= len(L):\n",
    "    subset = L[i:i+P]\n",
    "    diff = max(subset) - min(subset)\n",
    "    diffs.append(diff)\n",
    "    i += 1\n",
    "\n",
    "  print(f'{diffs=}')\n",
    "  return min(diffs)\n",
    "\n",
    "\n",
    "find_Min_Difference([3, 4, 1, 9, 56, 7, 9, 12, 13], 5)"
   ]
  },
  {
   "cell_type": "code",
   "execution_count": 80,
   "metadata": {},
   "outputs": [
    {
     "name": "stdout",
     "output_type": "stream",
     "text": [
      "True\n",
      "True\n",
      "False\n"
     ]
    }
   ],
   "source": [
    "def is_prime(n):\n",
    "  for i in range(2, int(n**0.5)+1):\n",
    "    if n % i == 0:\n",
    "      return False\n",
    "  return True\n",
    "\n",
    "\n",
    "print(is_prime(2))\n",
    "print(is_prime(7))\n",
    "print(is_prime(8))"
   ]
  },
  {
   "cell_type": "code",
   "execution_count": 81,
   "metadata": {},
   "outputs": [
    {
     "name": "stdout",
     "output_type": "stream",
     "text": [
      "2 24 True False\n",
      "3 23 True True\n",
      "4 22 False False\n",
      "5 21 True False\n",
      "6 20 False False\n",
      "7 19 True True\n",
      "8 18 False False\n",
      "9 17 False True\n",
      "10 16 False False\n",
      "11 15 True False\n",
      "12 14 False False\n",
      "13 13 True True\n",
      "[(3, 23), (7, 19), (13, 13)]\n"
     ]
    }
   ],
   "source": [
    "n = 26\n",
    "\n",
    "pairs = []\n",
    "\n",
    "for i in range(2, (n//2)+1):\n",
    "  print(i, n-i, is_prime(i), is_prime(n-i))\n",
    "\n",
    "  if is_prime(i) and is_prime(n-i):\n",
    "    pair = (i, n-i)\n",
    "    pairs.append(pair)\n",
    "\n",
    "print(pairs)"
   ]
  },
  {
   "cell_type": "code",
   "execution_count": 82,
   "metadata": {},
   "outputs": [
    {
     "name": "stdout",
     "output_type": "stream",
     "text": [
      "{'int': 6, 'float': 0, 'bool': 0, 'str': 1}\n",
      "str\n"
     ]
    }
   ],
   "source": [
    "L = [2, 3, 4, 5, 6, 7, '1']\n",
    "\n",
    "count = {\n",
    "    'int': 0,\n",
    "    'float': 0,\n",
    "    'bool': 0,\n",
    "    'str': 0,\n",
    "}\n",
    "\n",
    "for el in L:\n",
    "  if isinstance(el, int):\n",
    "    count['int'] += 1\n",
    "  if isinstance(el, float):\n",
    "    count['float'] += 1\n",
    "  if isinstance(el, bool):\n",
    "    count['bool'] += 1\n",
    "  if isinstance(el, str):\n",
    "    count['str'] += 1\n",
    "\n",
    "print(count)\n",
    "\n",
    "for key in count:\n",
    "  if count[key] == 1:\n",
    "    print(key)"
   ]
  },
  {
   "cell_type": "code",
   "execution_count": 83,
   "metadata": {},
   "outputs": [
    {
     "name": "stdout",
     "output_type": "stream",
     "text": [
      "4\n",
      "2\n",
      "0\n",
      "2\n"
     ]
    }
   ],
   "source": [
    "# standard code to loop over digits\n",
    "\n",
    "n = 2024\n",
    "\n",
    "while n != 0:\n",
    "  d = n % 10\n",
    "  print(d)\n",
    "  n = n // 10"
   ]
  },
  {
   "cell_type": "code",
   "execution_count": 84,
   "metadata": {},
   "outputs": [
    {
     "name": "stdout",
     "output_type": "stream",
     "text": [
      "0\n",
      "1\n",
      "2\n",
      "3\n",
      "4\n"
     ]
    }
   ],
   "source": [
    "x = range(5)\n",
    "\n",
    "s = 0\n",
    "for i in x:\n",
    "  print(i)"
   ]
  },
  {
   "cell_type": "code",
   "execution_count": 85,
   "metadata": {},
   "outputs": [],
   "source": [
    "# int([])"
   ]
  },
  {
   "cell_type": "code",
   "execution_count": 86,
   "metadata": {},
   "outputs": [],
   "source": [
    "# int('5.2')"
   ]
  },
  {
   "cell_type": "code",
   "execution_count": 87,
   "metadata": {},
   "outputs": [
    {
     "data": {
      "text/plain": [
       "5"
      ]
     },
     "execution_count": 87,
     "metadata": {},
     "output_type": "execute_result"
    },
    {
     "data": {
      "text/plain": [
       "(5,)"
      ]
     },
     "execution_count": 87,
     "metadata": {},
     "output_type": "execute_result"
    }
   ],
   "source": [
    "(5)\n",
    "(5,)"
   ]
  },
  {
   "cell_type": "code",
   "execution_count": 88,
   "metadata": {},
   "outputs": [
    {
     "data": {
      "text/plain": [
       "8.0"
      ]
     },
     "execution_count": 88,
     "metadata": {},
     "output_type": "execute_result"
    }
   ],
   "source": [
    "(15+1)/2"
   ]
  },
  {
   "cell_type": "code",
   "execution_count": 89,
   "metadata": {},
   "outputs": [
    {
     "data": {
      "text/plain": [
       "True"
      ]
     },
     "execution_count": 89,
     "metadata": {},
     "output_type": "execute_result"
    },
    {
     "data": {
      "text/plain": [
       "False"
      ]
     },
     "execution_count": 89,
     "metadata": {},
     "output_type": "execute_result"
    }
   ],
   "source": [
    "int(25 ** 0.5) == 25 ** 0.5  # cz 25 is per. sq.\n",
    "int(28 ** 0.5) == 28 ** 0.5  # cz 28 is NOT per. sq."
   ]
  },
  {
   "cell_type": "code",
   "execution_count": 90,
   "metadata": {},
   "outputs": [
    {
     "data": {
      "text/plain": [
       "5"
      ]
     },
     "execution_count": 90,
     "metadata": {},
     "output_type": "execute_result"
    },
    {
     "data": {
      "text/plain": [
       "5.291502622129181"
      ]
     },
     "execution_count": 90,
     "metadata": {},
     "output_type": "execute_result"
    },
    {
     "data": {
      "text/plain": [
       "5.291502622129181"
      ]
     },
     "execution_count": 90,
     "metadata": {},
     "output_type": "execute_result"
    }
   ],
   "source": [
    "int(28 ** 0.5)\n",
    "int(28) ** 0.5\n",
    "28 ** 0.5"
   ]
  },
  {
   "cell_type": "code",
   "execution_count": 91,
   "metadata": {},
   "outputs": [
    {
     "name": "stdout",
     "output_type": "stream",
     "text": [
      "4\n"
     ]
    }
   ],
   "source": [
    "s = 'apple'\n",
    "\n",
    "p = 0\n",
    "for i in range(len(s)):\n",
    "  if s[i] not in s[:i]:\n",
    "    p += 1\n",
    "\n",
    "print(p)"
   ]
  },
  {
   "cell_type": "code",
   "execution_count": 92,
   "metadata": {},
   "outputs": [],
   "source": [
    "# print(xo())\n",
    "# def xo(): pass"
   ]
  },
  {
   "cell_type": "code",
   "execution_count": 93,
   "metadata": {},
   "outputs": [],
   "source": [
    "# pint()"
   ]
  },
  {
   "cell_type": "code",
   "execution_count": 94,
   "metadata": {},
   "outputs": [
    {
     "data": {
      "text/plain": [
       "True"
      ]
     },
     "execution_count": 94,
     "metadata": {},
     "output_type": "execute_result"
    }
   ],
   "source": [
    "is_prime(59)"
   ]
  },
  {
   "cell_type": "code",
   "execution_count": 95,
   "metadata": {},
   "outputs": [],
   "source": [
    "# 60\n",
    "# 2, 3, 5, 4, 6, 10, 15, 12, 20, 30, 60 -> 3\n",
    "\n",
    "# 59\n",
    "# 59 -> 1"
   ]
  },
  {
   "cell_type": "code",
   "execution_count": 96,
   "metadata": {},
   "outputs": [
    {
     "data": {
      "text/plain": [
       "3"
      ]
     },
     "execution_count": 96,
     "metadata": {},
     "output_type": "execute_result"
    },
    {
     "data": {
      "text/plain": [
       "0"
      ]
     },
     "execution_count": 96,
     "metadata": {},
     "output_type": "execute_result"
    }
   ],
   "source": [
    "def check(n):\n",
    "  s = 0\n",
    "  for i in range(2, n):\n",
    "    if i % 2 == 1 and n % i == 0:\n",
    "      s += 1\n",
    "\n",
    "  return s\n",
    "\n",
    "\n",
    "check(60)\n",
    "check(59)"
   ]
  },
  {
   "cell_type": "code",
   "execution_count": 97,
   "metadata": {},
   "outputs": [
    {
     "name": "stdout",
     "output_type": "stream",
     "text": [
      "0.5\n",
      "error happened!\n"
     ]
    }
   ],
   "source": [
    "try:\n",
    "  print(1/2)\n",
    "  print('hello' + 2024)\n",
    "except:\n",
    "  print('error happened!')"
   ]
  },
  {
   "cell_type": "code",
   "execution_count": 98,
   "metadata": {},
   "outputs": [
    {
     "name": "stdout",
     "output_type": "stream",
     "text": [
      "my age is 100\n",
      "my age is 100\n",
      "my age is 100\n"
     ]
    }
   ],
   "source": [
    "print('my age is ' + str(10**2))  # 😐\n",
    "print('my age is %d' % 10**2)  # 😥\n",
    "print(f'my age is {10**2}')  # 😀"
   ]
  },
  {
   "cell_type": "code",
   "execution_count": 99,
   "metadata": {},
   "outputs": [
    {
     "data": {
      "text/plain": [
       "'hello2024'"
      ]
     },
     "execution_count": 99,
     "metadata": {},
     "output_type": "execute_result"
    }
   ],
   "source": [
    "'hello' + '2024'"
   ]
  },
  {
   "cell_type": "code",
   "execution_count": 100,
   "metadata": {},
   "outputs": [
    {
     "data": {
      "text/plain": [
       "22"
      ]
     },
     "execution_count": 100,
     "metadata": {},
     "output_type": "execute_result"
    },
    {
     "data": {
      "text/plain": [
       "[20, 21]"
      ]
     },
     "execution_count": 100,
     "metadata": {},
     "output_type": "execute_result"
    }
   ],
   "source": [
    "L = [20, 21, 22]\n",
    "\n",
    "L.pop(-1)\n",
    "L\n",
    "\n",
    "# L.pop(0)  # 20\n",
    "# L.pop(0)  # 21\n",
    "# L.pop(0)  # 22\n",
    "# L.pop(0)  # error\n",
    "# L"
   ]
  },
  {
   "cell_type": "code",
   "execution_count": 101,
   "metadata": {},
   "outputs": [],
   "source": [
    "# L = [8]\n",
    "\n",
    "# if L.pop(0) == L.pop(-1):\n",
    "#   pass"
   ]
  },
  {
   "cell_type": "code",
   "execution_count": 102,
   "metadata": {},
   "outputs": [
    {
     "data": {
      "text/plain": [
       "10"
      ]
     },
     "execution_count": 102,
     "metadata": {},
     "output_type": "execute_result"
    }
   ],
   "source": [
    "130 % 24"
   ]
  },
  {
   "cell_type": "code",
   "execution_count": 103,
   "metadata": {},
   "outputs": [],
   "source": [
    "# 24, 130 -> 130, 24\n",
    "# 24, 10\n",
    "# 10, 4\n",
    "# 4, 2 -> 2 ans."
   ]
  },
  {
   "cell_type": "code",
   "execution_count": 104,
   "metadata": {},
   "outputs": [
    {
     "data": {
      "text/plain": [
       "0"
      ]
     },
     "execution_count": 104,
     "metadata": {},
     "output_type": "execute_result"
    }
   ],
   "source": [
    "def binarysearch(L, v):\n",
    "  if L == []:\n",
    "    return (False)\n",
    "  mid = len(L)//2\n",
    "  if v == L[mid]:\n",
    "    return mid\n",
    "  if v < L[mid]:\n",
    "    return (binarysearch(L[:mid], v))\n",
    "  else:\n",
    "    return (binarysearch(L[mid+1:], v))\n",
    "\n",
    "\n",
    "binarysearch([10, 20, 30], 30)"
   ]
  }
 ],
 "metadata": {
  "kernelspec": {
   "display_name": "Python 3",
   "language": "python",
   "name": "python3"
  },
  "language_info": {
   "codemirror_mode": {
    "name": "ipython",
    "version": 3
   },
   "file_extension": ".py",
   "mimetype": "text/x-python",
   "name": "python",
   "nbconvert_exporter": "python",
   "pygments_lexer": "ipython3",
   "version": "3.12.0"
  }
 },
 "nbformat": 4,
 "nbformat_minor": 2
}
