{
 "cells": [
  {
   "cell_type": "code",
   "execution_count": 1,
   "metadata": {},
   "outputs": [
    {
     "name": "stdout",
     "output_type": "stream",
     "text": [
      "True\n",
      "True\n",
      "False\n"
     ]
    }
   ],
   "source": [
    "def is_prime(n):\n",
    "  for i in range(2, int(n**0.5)+1):\n",
    "    if n % i == 0:\n",
    "      return False\n",
    "  return True\n",
    "\n",
    "\n",
    "print(is_prime(2))\n",
    "print(is_prime(7))\n",
    "print(is_prime(8))"
   ]
  },
  {
   "cell_type": "code",
   "execution_count": 2,
   "metadata": {},
   "outputs": [
    {
     "name": "stdout",
     "output_type": "stream",
     "text": [
      "[(3, 5), (5, 7), (11, 13)]\n"
     ]
    }
   ],
   "source": [
    "n = 1\n",
    "m = 15\n",
    "n = max(2, n)\n",
    "\n",
    "twins = []\n",
    "\n",
    "for i in range(n, m+1):\n",
    "  if i+2 > m:\n",
    "    break\n",
    "  if is_prime(i) and is_prime(i+2):\n",
    "    twins.append((i, i+2))\n",
    "\n",
    "print(twins)"
   ]
  },
  {
   "cell_type": "markdown",
   "metadata": {},
   "source": [
    "# PPA-2"
   ]
  },
  {
   "cell_type": "markdown",
   "metadata": {},
   "source": [
    "```\n",
    "Person [class]\n",
    "\n",
    "object rahul [instance of Person class]\n",
    "object vidhatri [instance of Person class]\n",
    "object cmd [instance of Person class]\n",
    "\n",
    "every object has a class, why? bcz classes are blueprint for objects\n",
    "```"
   ]
  },
  {
   "cell_type": "markdown",
   "metadata": {},
   "source": [
    "```\n",
    "classes Human\n",
    "classes Animal\n",
    "classes Bird\n",
    "\n",
    "object rahul > Human\n",
    "object Cat > Animal\n",
    "object Dog > Animal\n",
    "object Mini (cat ka name) > Animal\n",
    "object Monty (dog ka name) > Animal\n",
    "object sparrow > Bird\n",
    "```"
   ]
  },
  {
   "cell_type": "markdown",
   "metadata": {},
   "source": [
    "```\n",
    "classes:\n",
    "1. properties/attributes of objects (color, speed, weight, age, temp)\n",
    "2. actions/methods/operations (fly, bark, meow, accelerate, brake, drink, eat, sleep)\n",
    "\n",
    "Car:\n",
    "attributes: color, engine model, tank capacity, max speed, current speed, seats (noun)\n",
    "actions: start, stop, brake, window up/down, music on, music off (verbs)\n",
    "\n",
    "Car objects:\n",
    "object tata nano: Car (blueprint)\n",
    "(start, stop, brake, window up/down, music on, music off)\n",
    "(color, engine model, tank capacity, max speed, current speed, seats)\n",
    "\n",
    "object scorpio: Car (blueprint)\n",
    "(start, stop, brake, window up/down, music on, music off)\n",
    "(color, engine model, tank capacity, max speed, current speed, seats)\n",
    "\n",
    "object audi: Car (blueprint)\n",
    "(start, stop, brake, window up/down, music on, music off)\n",
    "(color, engine model, tank capacity, max speed, current speed, seats)\n",
    "\n",
    "object green_audi: Car (blueprint)\n",
    "(start, stop, brake, window up/down, music on, music off)\n",
    "(color: green, engine model, tank capacity, max speed, current speed, seats)\n",
    "\n",
    "object red_audi: Car (blueprint)\n",
    "(start, stop, brake, window up/down, music on, music off)\n",
    "(color: red, engine model, tank capacity, max speed, current speed, seats)\n",
    "```"
   ]
  },
  {
   "cell_type": "markdown",
   "metadata": {},
   "source": [
    "```\n",
    "Triangle class:\n",
    "attributes: a, b, c\n",
    "actions/operations: is_valid, Side_Classification etc.\n",
    "\n",
    "objects:\n",
    "t1 (Triangle): 5, 5, 5\n",
    "t2 (Triangle): 18, 5, 7\n",
    "t3 (Triangle): 4, 5, 3\n",
    "t4 (Triangle): ...\n",
    "```"
   ]
  },
  {
   "cell_type": "code",
   "execution_count": 3,
   "metadata": {},
   "outputs": [
    {
     "name": "stdout",
     "output_type": "stream",
     "text": [
      "Owner of the green tata nano is: vidhatri (20)\n",
      "Owner of the red audi g5 is: rahul (21)\n",
      "Owner of the yellow lambo h2 is: cmd (20)\n"
     ]
    }
   ],
   "source": [
    "class Car:\n",
    "  def __init__(self, color_choice, brand, model, max_speed, my_name, my_age):\n",
    "    self.color = color_choice\n",
    "    self.brand = brand\n",
    "    self.model = model\n",
    "    self.max_speed = max_speed\n",
    "    self.owner_info = f'{my_name} ({my_age})'\n",
    "\n",
    "  def start(self):\n",
    "    print(f'now starting {self.color} {self.brand} {self.model}')\n",
    "\n",
    "  def go_max_speed(self):\n",
    "    print(f'{self.color} {self.brand} {self.model} going at speed {self.max_speed} km/h')\n",
    "\n",
    "  def print_owner_info(self):\n",
    "    print(f'Owner of the {self.color} {self.brand} {self.model} is: {self.owner_info}')\n",
    "\n",
    "\n",
    "rahul_ki_car = Car('red', 'audi', 'g5', 200, 'rahul', 21)\n",
    "vidhatri_ki_car = Car('green', 'tata', 'nano', 100, my_name='vidhatri', my_age=20)\n",
    "cmd_ki_car = Car('yellow', 'lambo', 'h2', 350, 'cmd', my_age=20)\n",
    "\n",
    "# rahul_ki_car.start()\n",
    "# vidhatri_ki_car.start()\n",
    "# vidhatri_ki_car.go_max_speed()\n",
    "\n",
    "vidhatri_ki_car.print_owner_info()\n",
    "rahul_ki_car.print_owner_info()\n",
    "cmd_ki_car.print_owner_info()"
   ]
  },
  {
   "cell_type": "markdown",
   "metadata": {},
   "source": [
    "# Exception handling"
   ]
  },
  {
   "cell_type": "code",
   "execution_count": 4,
   "metadata": {},
   "outputs": [
    {
     "ename": "ZeroDivisionError",
     "evalue": "division by zero",
     "output_type": "error",
     "traceback": [
      "\u001b[1;31m---------------------------------------------------------------------------\u001b[0m",
      "\u001b[1;31mZeroDivisionError\u001b[0m                         Traceback (most recent call last)",
      "Cell \u001b[1;32mIn[4], line 4\u001b[0m\n\u001b[0;32m      1\u001b[0m x \u001b[38;5;241m=\u001b[39m \u001b[38;5;241m5\u001b[39m\n\u001b[0;32m      2\u001b[0m y \u001b[38;5;241m=\u001b[39m \u001b[38;5;241m0\u001b[39m\n\u001b[1;32m----> 4\u001b[0m \u001b[43mx\u001b[49m\u001b[38;5;241;43m/\u001b[39;49m\u001b[43my\u001b[49m\n",
      "\u001b[1;31mZeroDivisionError\u001b[0m: division by zero"
     ]
    }
   ],
   "source": [
    "x = 5\n",
    "y = 0\n",
    "\n",
    "x/y"
   ]
  },
  {
   "cell_type": "code",
   "execution_count": null,
   "metadata": {},
   "outputs": [
    {
     "name": "stdout",
     "output_type": "stream",
     "text": [
      "my ans is: 2.5\n"
     ]
    }
   ],
   "source": [
    "x = 5\n",
    "y = 2\n",
    "\n",
    "try:\n",
    "  ans = x/y\n",
    "  print(f'my ans is: {ans}')\n",
    "except:  # it'll deal with all kind of errors\n",
    "  print('sorry bro i cant divide 😐')"
   ]
  },
  {
   "cell_type": "code",
   "execution_count": null,
   "metadata": {},
   "outputs": [
    {
     "name": "stdout",
     "output_type": "stream",
     "text": [
      "sorry bro i cant divide 😐\n"
     ]
    }
   ],
   "source": [
    "x = 5\n",
    "y = 0\n",
    "\n",
    "try:\n",
    "  ans = x/y\n",
    "  print(f'my ans is: {ans}')\n",
    "except (ZeroDivisionError):  # it'll deal only with ZeroDivisionError\n",
    "  print('sorry bro i cant divide 😐')"
   ]
  },
  {
   "cell_type": "code",
   "execution_count": null,
   "metadata": {},
   "outputs": [
    {
     "name": "stdout",
     "output_type": "stream",
     "text": [
      "my ans is: 2.5\n",
      "my logic failed cause u did index error 😐\n"
     ]
    }
   ],
   "source": [
    "x = 5\n",
    "y = 2\n",
    "\n",
    "try:\n",
    "  ans = x/y\n",
    "  print(f'my ans is: {ans}')\n",
    "  my_list = [12, 13, 14]\n",
    "  print(my_list[5])\n",
    "except (ZeroDivisionError):  # it'll deal only with ZeroDivisionError\n",
    "  print('sorry bro i cant divide 😐')\n",
    "except (IndexError):  # it'll deal only with IndexError\n",
    "  print('my logic failed cause u did index error 😐')"
   ]
  },
  {
   "cell_type": "code",
   "execution_count": null,
   "metadata": {},
   "outputs": [
    {
     "name": "stdout",
     "output_type": "stream",
     "text": [
      "my ans is: 2.5\n",
      "12\n"
     ]
    }
   ],
   "source": [
    "x = 5\n",
    "y = 2\n",
    "\n",
    "try:\n",
    "  ans = x/y\n",
    "  print(f'my ans is: {ans}')\n",
    "  my_list = [12, 13, 14]\n",
    "  print(my_list[0])\n",
    "except:  # it'll deal all errors\n",
    "  print('sorry something went wrong 😐')"
   ]
  },
  {
   "cell_type": "code",
   "execution_count": null,
   "metadata": {},
   "outputs": [
    {
     "name": "stdout",
     "output_type": "stream",
     "text": [
      "i am under speed limits ✌️✌️\n"
     ]
    }
   ],
   "source": [
    "speed = 90\n",
    "\n",
    "try:\n",
    "  if speed > 100:\n",
    "    raise 'too fast!!!! ⚠️⚠️'  # forcefully break the code by raising [custom] error\n",
    "  print('i am under speed limits ✌️✌️')\n",
    "except:\n",
    "  print('stop! u going high speed 😐😐')"
   ]
  },
  {
   "cell_type": "code",
   "execution_count": null,
   "metadata": {},
   "outputs": [
    {
     "name": "stdout",
     "output_type": "stream",
     "text": [
      "bro plz enter only digits (not letters)\n"
     ]
    }
   ],
   "source": [
    "try:\n",
    "  num = int(input())\n",
    "  print(f'the sq of your input number is {num**2}')\n",
    "except:  # deal all errors (avoid this)\n",
    "  print('bro plz enter only digits (not letters)')"
   ]
  },
  {
   "cell_type": "code",
   "execution_count": null,
   "metadata": {},
   "outputs": [
    {
     "name": "stdout",
     "output_type": "stream",
     "text": [
      "bro plz enter only digits (not letters)\n"
     ]
    }
   ],
   "source": [
    "try:\n",
    "  num = int(input())\n",
    "  print(f'the sq of your input number is {num**2}')\n",
    "except (ValueError):  # deal only ValueError (prefer this)\n",
    "  print('bro plz enter only digits (not letters)')"
   ]
  },
  {
   "cell_type": "markdown",
   "metadata": {},
   "source": [
    "# Classes and objects (expressive syntax)\n",
    "\n",
    "expressive: their behaviour clearly indicates their feelings or intentions"
   ]
  },
  {
   "cell_type": "code",
   "execution_count": null,
   "metadata": {},
   "outputs": [
    {
     "name": "stdout",
     "output_type": "stream",
     "text": [
      "ok im a good point (3, 4)😀\n",
      "ok im a good point (5, 8)😥\n",
      "ok im a bad point (7, 9)😥\n"
     ]
    }
   ],
   "source": [
    "class Point:\n",
    "  # defining init method (self is a mandatory parameter for methods)\n",
    "  def __init__(self, my_x, my_y, nature, health):\n",
    "    self.x = my_x\n",
    "    self.y = my_y\n",
    "    self.nature = nature\n",
    "    self.health = health\n",
    "\n",
    "  # get the string representation of this object\n",
    "  def __str__(self):\n",
    "    msg = f'ok im a {self.nature} point ({self.x}, {self.y})'\n",
    "    if self.health == 'good':\n",
    "      msg += '😀'\n",
    "    else:\n",
    "      msg += '😥'\n",
    "    return msg\n",
    "\n",
    "\n",
    "# self -> uniq for each object\n",
    "p = Point(3, 4, 'good', 'good')  # self\n",
    "q = Point(5, 8, 'good', 'bad')  # self\n",
    "r = Point(7, 9, 'bad', 'bad')  # self\n",
    "\n",
    "print(p)\n",
    "print(q)\n",
    "print(r)\n",
    "\n",
    "# by default python print objects like this, if u want better, go define __str__\n",
    "# <__main__.Point object at 0x0000023665FBF1D0>\n",
    "# <__main__.Point object at 0x0000023665FBC0E0>"
   ]
  },
  {
   "cell_type": "markdown",
   "metadata": {},
   "source": [
    "### without using objects:"
   ]
  },
  {
   "cell_type": "code",
   "execution_count": null,
   "metadata": {},
   "outputs": [
    {
     "name": "stdout",
     "output_type": "stream",
     "text": [
      "ok im a good point (3, 4)😀\n",
      "ok im a good point (5, 8)😥\n",
      "ok im a bad point (7, 9)😥\n"
     ]
    }
   ],
   "source": [
    "def point_to_string(point):\n",
    "  # get the string representation of this object\n",
    "  msg = f'ok im a {point[2]} point {point[0], point[1]}'\n",
    "  if point[3] == 'good':\n",
    "    msg += '😀'\n",
    "  else:\n",
    "    msg += '😥'\n",
    "  return msg\n",
    "\n",
    "\n",
    "p = (3, 4, 'good', 'good')\n",
    "q = (5, 8, 'good', 'bad')\n",
    "r = (7, 9, 'bad', 'bad')\n",
    "\n",
    "print(point_to_string(p))\n",
    "print(point_to_string(q))\n",
    "print(point_to_string(r))"
   ]
  },
  {
   "cell_type": "markdown",
   "metadata": {},
   "source": [
    "### full implementation (using objects, object oriented syntax):\n",
    "\n",
    "Object-oriented programming aims to implement real-world entities having unique attributes and behavior."
   ]
  },
  {
   "cell_type": "code",
   "execution_count": null,
   "metadata": {},
   "outputs": [],
   "source": [
    "import math"
   ]
  },
  {
   "cell_type": "code",
   "execution_count": null,
   "metadata": {},
   "outputs": [
    {
     "name": "stdout",
     "output_type": "stream",
     "text": [
      "5.0\n",
      "Point (8, 12)\n",
      "Point (11, 15)\n",
      "Point (12, 16)\n"
     ]
    }
   ],
   "source": [
    "class Point:\n",
    "  def __init__(self, x=0, y=0):  # initializer method (creates object)\n",
    "    self.x = x\n",
    "    self.y = y\n",
    "\n",
    "  def translate(self, delta_x, delta_y):  # new method! 👁️\n",
    "    self.x += delta_x\n",
    "    self.y += delta_y\n",
    "\n",
    "  def origin_distance(self):  # new method! 👁️\n",
    "    distance = math.sqrt(self.x**2 + self.y**2)\n",
    "    return distance\n",
    "\n",
    "  # implements p+q functionality\n",
    "  def __add__(self, other_point):  # new mrhtod! 👁️\n",
    "    new_x = self.x + other_point.x\n",
    "    new_y = self.y + other_point.y\n",
    "    return Point(new_x, new_y)\n",
    "\n",
    "  def __str__(self):\n",
    "    return f'Point ({self.x}, {self.y})'\n",
    "\n",
    "\n",
    "p = Point(3, 4)\n",
    "q = Point(5, 8)\n",
    "print(p.origin_distance())\n",
    "\n",
    "r = p + q\n",
    "print(r)\n",
    "\n",
    "r.translate(3, 3)\n",
    "print(r)\n",
    "\n",
    "print(r + Point(1, 1))"
   ]
  },
  {
   "cell_type": "markdown",
   "metadata": {},
   "source": [
    "### full implementation (without using objects, functional syntax):\n",
    "\n",
    "Functional programming is a programming paradigm in which we try to bind everything in pure mathematical functions style.\n",
    "\n",
    "Functional programming is a programming paradigm in which the primary method of computation is using functions."
   ]
  },
  {
   "cell_type": "code",
   "execution_count": null,
   "metadata": {},
   "outputs": [
    {
     "name": "stdout",
     "output_type": "stream",
     "text": [
      "5.0\n",
      "Point (8, 12)\n",
      "Point (11, 15)\n",
      "Point (12, 16)\n"
     ]
    }
   ],
   "source": [
    "def point_to_string(point):\n",
    "  return f'Point ({point[0]}, {point[1]})'\n",
    "\n",
    "\n",
    "def translate_point(point, delta_x, delta_y):\n",
    "  return (point[0] + delta_x, point[1] + delta_y)\n",
    "\n",
    "\n",
    "def origin_distance(point):\n",
    "  return math.sqrt(point[0]**2 + point[1]**2)\n",
    "\n",
    "\n",
    "def add_points(point1, point2):\n",
    "  return (point1[0] + point2[0], point1[1] + point2[1])\n",
    "\n",
    "\n",
    "p = (3, 4)\n",
    "q = (5, 8)\n",
    "print(origin_distance(p))\n",
    "\n",
    "r = add_points(p, q)\n",
    "print(point_to_string(r))\n",
    "\n",
    "r = translate_point(r, 3, 3)\n",
    "print(point_to_string(r))\n",
    "\n",
    "r = add_points(r, (1, 1))\n",
    "print(point_to_string(r))"
   ]
  }
 ],
 "metadata": {
  "kernelspec": {
   "display_name": "Python 3",
   "language": "python",
   "name": "python3"
  },
  "language_info": {
   "codemirror_mode": {
    "name": "ipython",
    "version": 3
   },
   "file_extension": ".py",
   "mimetype": "text/x-python",
   "name": "python",
   "nbconvert_exporter": "python",
   "pygments_lexer": "ipython3",
   "version": "3.12.0"
  }
 },
 "nbformat": 4,
 "nbformat_minor": 2
}
