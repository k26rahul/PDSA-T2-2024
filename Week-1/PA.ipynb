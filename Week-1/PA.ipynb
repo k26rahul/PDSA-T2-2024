{
 "cells": [
  {
   "cell_type": "markdown",
   "metadata": {},
   "source": [
    "# PPA-1"
   ]
  },
  {
   "cell_type": "code",
   "execution_count": 1,
   "metadata": {},
   "outputs": [
    {
     "name": "stdout",
     "output_type": "stream",
     "text": [
      "True\n",
      "True\n",
      "False\n"
     ]
    }
   ],
   "source": [
    "def is_prime(n):\n",
    "  for i in range(2, int(n ** 0.5)+1):\n",
    "    if n % i == 0:\n",
    "      return False\n",
    "  return True\n",
    "\n",
    "\n",
    "print(is_prime(2))\n",
    "print(is_prime(7))\n",
    "print(is_prime(8))"
   ]
  },
  {
   "cell_type": "code",
   "execution_count": 2,
   "metadata": {},
   "outputs": [
    {
     "name": "stdout",
     "output_type": "stream",
     "text": [
      "[(3, 5), (5, 7), (11, 13)]\n"
     ]
    }
   ],
   "source": [
    "n = 1\n",
    "m = 15\n",
    "n = max(2, n)\n",
    "\n",
    "twins = []\n",
    "\n",
    "for i in range(n, m+1):\n",
    "  if i+2 > m:\n",
    "    break\n",
    "  if is_prime(i) and is_prime(i+2):\n",
    "    twins.append((i, i+2))\n",
    "\n",
    "print(twins)"
   ]
  },
  {
   "cell_type": "markdown",
   "metadata": {},
   "source": [
    "### Calculate all primes in one pass"
   ]
  },
  {
   "cell_type": "code",
   "execution_count": 3,
   "metadata": {},
   "outputs": [
    {
     "name": "stdout",
     "output_type": "stream",
     "text": [
      "[2, 3, 5, 7, 11, 13]\n",
      "[(3, 5), (5, 7), (11, 13)]\n"
     ]
    }
   ],
   "source": [
    "n = 1\n",
    "m = 15\n",
    "n = max(2, n)\n",
    "\n",
    "primes = []\n",
    "twins = []\n",
    "\n",
    "for i in range(n, m+1):\n",
    "  if is_prime(i):\n",
    "    primes.append(i)\n",
    "\n",
    "for i in range(len(primes)):\n",
    "  if i+1 >= len(primes):\n",
    "    break\n",
    "  if primes[i+1] - primes[i] == 2:\n",
    "    twins.append((primes[i], primes[i+1]))\n",
    "\n",
    "print(primes)\n",
    "print(twins)"
   ]
  },
  {
   "cell_type": "markdown",
   "metadata": {},
   "source": [
    "### DP [Highly optimized]"
   ]
  },
  {
   "cell_type": "code",
   "execution_count": 4,
   "metadata": {},
   "outputs": [
    {
     "name": "stdout",
     "output_type": "stream",
     "text": [
      "True\n",
      "True\n",
      "False\n"
     ]
    }
   ],
   "source": [
    "cache = {}\n",
    "\n",
    "\n",
    "def is_prime(n):\n",
    "  if n in cache:\n",
    "    return cache[n]\n",
    "\n",
    "  for i in range(2, int(n ** 0.5)+1):\n",
    "    if n % i == 0:\n",
    "      cache[n] = False\n",
    "      return False\n",
    "\n",
    "  cache[n] = True\n",
    "  return True\n",
    "\n",
    "\n",
    "print(is_prime(2))\n",
    "print(is_prime(7))\n",
    "print(is_prime(8))"
   ]
  },
  {
   "cell_type": "code",
   "execution_count": 5,
   "metadata": {},
   "outputs": [
    {
     "name": "stdout",
     "output_type": "stream",
     "text": [
      "[(3, 5), (5, 7), (11, 13)]\n"
     ]
    }
   ],
   "source": [
    "n = 1\n",
    "m = 15\n",
    "n = max(2, n)\n",
    "\n",
    "twins = []\n",
    "\n",
    "for i in range(n, m+1):\n",
    "  if i+2 > m:\n",
    "    break\n",
    "  if is_prime(i) and is_prime(i+2):\n",
    "    twins.append((i, i+2))\n",
    "\n",
    "print(twins)"
   ]
  },
  {
   "cell_type": "markdown",
   "metadata": {},
   "source": [
    "# PPA-2"
   ]
  },
  {
   "cell_type": "code",
   "execution_count": 42,
   "metadata": {},
   "outputs": [
    {
     "name": "stdout",
     "output_type": "stream",
     "text": [
      "Valid\n",
      "Scalene\n",
      "Obtuse\n",
      "2.9047375096555625\n",
      "\n",
      "Invalid\n",
      "Invalid\n",
      "Invalid\n",
      "Invalid\n",
      "\n",
      "Valid\n",
      "Equilateral\n",
      "Acute\n",
      "10.825317547305483\n"
     ]
    }
   ],
   "source": [
    "class Triangle:\n",
    "  def __init__(self, a, b, c):\n",
    "    self.a = a\n",
    "    self.b = b\n",
    "    self.c = c\n",
    "\n",
    "  def Is_valid(self):\n",
    "    a, b, c = self.a, self.b, self.c  # unpacking values from self\n",
    "    if a+b > c and a+c > b and b+c > a:\n",
    "      return 'Valid'\n",
    "    else:\n",
    "      return 'Invalid'\n",
    "\n",
    "  def Side_Classification(self):\n",
    "    if self.Is_valid() == 'Invalid':\n",
    "      return 'Invalid'\n",
    "\n",
    "    a, b, c = self.a, self.b, self.c\n",
    "    if a == b == c:\n",
    "      return 'Equilateral'\n",
    "    if a == b or a == c or b == c:\n",
    "      return 'Isosceles'\n",
    "    return 'Scalene'\n",
    "\n",
    "  def Angle_Classification(self):\n",
    "    if self.Is_valid() == 'Invalid':\n",
    "      return 'Invalid'\n",
    "\n",
    "    a, b, c = sorted([self.a, self.b, self.c])  # ensure `c` is the largest side\n",
    "    if a**2 + b**2 == c**2:\n",
    "      return 'Right'\n",
    "    if a**2 + b**2 > c**2:\n",
    "      return 'Acute'\n",
    "    return 'Obtuse'\n",
    "\n",
    "  def Area(self):\n",
    "    if self.Is_valid() == 'Invalid':\n",
    "      return 'Invalid'\n",
    "\n",
    "    a, b, c = self.a, self.b, self.c\n",
    "    s = (a+b+c)/2\n",
    "    return (s*(s-a)*(s-b)*(s-c)) ** 0.5\n",
    "\n",
    "\n",
    "# t = Triangle(2, 3, 4)\n",
    "t = Triangle(2, 4, 3)\n",
    "print(t.Is_valid())\n",
    "print(t.Side_Classification())\n",
    "print(t.Angle_Classification())\n",
    "print(t.Area())\n",
    "\n",
    "print()\n",
    "t = Triangle(10, 3, 5)\n",
    "print(t.Is_valid())\n",
    "print(t.Side_Classification())\n",
    "print(t.Angle_Classification())\n",
    "print(t.Area())\n",
    "\n",
    "print()\n",
    "t = Triangle(5, 5, 5)\n",
    "print(t.Is_valid())\n",
    "print(t.Side_Classification())\n",
    "print(t.Angle_Classification())\n",
    "print(t.Area())"
   ]
  },
  {
   "cell_type": "markdown",
   "metadata": {},
   "source": [
    "# GrPA 1"
   ]
  },
  {
   "cell_type": "code",
   "execution_count": 43,
   "metadata": {},
   "outputs": [
    {
     "name": "stdout",
     "output_type": "stream",
     "text": [
      "0 5 [1, 3, 4, 7, 9] 8\n",
      "1 6 [3, 4, 7, 9, 9] 6\n",
      "2 7 [4, 7, 9, 9, 12] 8\n",
      "3 8 [7, 9, 9, 12, 13] 6\n",
      "4 9 [9, 9, 12, 13, 56] 47\n"
     ]
    },
    {
     "data": {
      "text/plain": [
       "6"
      ]
     },
     "execution_count": 43,
     "metadata": {},
     "output_type": "execute_result"
    }
   ],
   "source": [
    "def find_Min_Difference(L, P):\n",
    "  L = sorted(L)\n",
    "  min_diff = float('inf')\n",
    "\n",
    "  for i in range(len(L)-P+1):\n",
    "    group = L[i:i+5]\n",
    "    diff = max(group)-min(group)\n",
    "    if diff < min_diff:\n",
    "      min_diff = diff\n",
    "\n",
    "    print(i, i+P, group, diff)\n",
    "  return min_diff\n",
    "\n",
    "\n",
    "find_Min_Difference([3, 4, 1, 9, 56, 7, 9, 12, 13], 5)"
   ]
  },
  {
   "cell_type": "markdown",
   "metadata": {},
   "source": [
    "# GrPA 2"
   ]
  },
  {
   "cell_type": "code",
   "execution_count": 45,
   "metadata": {},
   "outputs": [
    {
     "data": {
      "text/plain": [
       "[(3, 23), (7, 19), (13, 13)]"
      ]
     },
     "execution_count": 45,
     "metadata": {},
     "output_type": "execute_result"
    },
    {
     "data": {
      "text/plain": [
       "[(3, 13), (5, 11)]"
      ]
     },
     "execution_count": 45,
     "metadata": {},
     "output_type": "execute_result"
    }
   ],
   "source": [
    "def is_prime(n):\n",
    "  for i in range(2, int(n**0.5)+1):\n",
    "    if n % i == 0:\n",
    "      return False\n",
    "  return True\n",
    "\n",
    "\n",
    "def Goldbach(n):\n",
    "  pairs = []\n",
    "\n",
    "  for i in range(2, n//2+1):\n",
    "    if is_prime(i) and is_prime(n-i):\n",
    "      pair = (i, n-i)\n",
    "      pairs.append(pair)\n",
    "\n",
    "  return pairs\n",
    "\n",
    "\n",
    "Goldbach(26)\n",
    "Goldbach(16)"
   ]
  },
  {
   "cell_type": "markdown",
   "metadata": {},
   "source": [
    "# GrPA 3"
   ]
  },
  {
   "cell_type": "code",
   "execution_count": 48,
   "metadata": {},
   "outputs": [
    {
     "data": {
      "text/plain": [
       "'str'"
      ]
     },
     "execution_count": 48,
     "metadata": {},
     "output_type": "execute_result"
    }
   ],
   "source": [
    "def odd_one(L):\n",
    "  count = {\n",
    "      'int': 0,\n",
    "      'float': 0,\n",
    "      'bool': 0,\n",
    "      'str': 0,\n",
    "  }\n",
    "\n",
    "  for el in L:\n",
    "    if isinstance(el, int):\n",
    "      count['int'] += 1\n",
    "    if isinstance(el, float):\n",
    "      count['float'] += 1\n",
    "    if isinstance(el, bool):\n",
    "      count['bool'] += 1\n",
    "    if isinstance(el, str):\n",
    "      count['str'] += 1\n",
    "\n",
    "  for key in count:\n",
    "    if count[key] == 1:\n",
    "      return key\n",
    "\n",
    "\n",
    "odd_one([2, 3, 4, 5, 6, 7, '1'])"
   ]
  }
 ],
 "metadata": {
  "kernelspec": {
   "display_name": "Python 3",
   "language": "python",
   "name": "python3"
  },
  "language_info": {
   "codemirror_mode": {
    "name": "ipython",
    "version": 3
   },
   "file_extension": ".py",
   "mimetype": "text/x-python",
   "name": "python",
   "nbconvert_exporter": "python",
   "pygments_lexer": "ipython3",
   "version": "3.12.0"
  }
 },
 "nbformat": 4,
 "nbformat_minor": 2
}
