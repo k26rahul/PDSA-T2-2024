{
 "cells": [
  {
   "cell_type": "markdown",
   "metadata": {},
   "source": [
    "# PPA-1"
   ]
  },
  {
   "cell_type": "code",
   "execution_count": 1,
   "metadata": {},
   "outputs": [
    {
     "name": "stdout",
     "output_type": "stream",
     "text": [
      "True\n",
      "True\n",
      "False\n"
     ]
    }
   ],
   "source": [
    "def is_prime(n):\n",
    "  for i in range(2, int(n ** 0.5)+1):\n",
    "    if n % i == 0:\n",
    "      return False\n",
    "  return True\n",
    "\n",
    "\n",
    "print(is_prime(2))\n",
    "print(is_prime(7))\n",
    "print(is_prime(8))"
   ]
  },
  {
   "cell_type": "code",
   "execution_count": 2,
   "metadata": {},
   "outputs": [
    {
     "name": "stdout",
     "output_type": "stream",
     "text": [
      "[(3, 5), (5, 7), (11, 13)]\n"
     ]
    }
   ],
   "source": [
    "n = 1\n",
    "m = 15\n",
    "n = max(2, n)\n",
    "\n",
    "twins = []\n",
    "\n",
    "for i in range(n, m+1):\n",
    "  if i+2 > m:\n",
    "    break\n",
    "  if is_prime(i) and is_prime(i+2):\n",
    "    twins.append((i, i+2))\n",
    "\n",
    "print(twins)"
   ]
  },
  {
   "cell_type": "markdown",
   "metadata": {},
   "source": [
    "### Calculate all primes in one pass"
   ]
  },
  {
   "cell_type": "code",
   "execution_count": 3,
   "metadata": {},
   "outputs": [
    {
     "name": "stdout",
     "output_type": "stream",
     "text": [
      "[2, 3, 5, 7, 11, 13]\n",
      "[(3, 5), (5, 7), (11, 13)]\n"
     ]
    }
   ],
   "source": [
    "n = 1\n",
    "m = 15\n",
    "n = max(2, n)\n",
    "\n",
    "primes = []\n",
    "twins = []\n",
    "\n",
    "for i in range(n, m+1):\n",
    "  if is_prime(i):\n",
    "    primes.append(i)\n",
    "\n",
    "for i in range(len(primes)):\n",
    "  if i+1 >= len(primes):\n",
    "    break\n",
    "  if primes[i+1] - primes[i] == 2:\n",
    "    twins.append((primes[i], primes[i+1]))\n",
    "\n",
    "print(primes)\n",
    "print(twins)"
   ]
  },
  {
   "cell_type": "markdown",
   "metadata": {},
   "source": [
    "### DP [Highly optimized]"
   ]
  },
  {
   "cell_type": "code",
   "execution_count": 4,
   "metadata": {},
   "outputs": [
    {
     "name": "stdout",
     "output_type": "stream",
     "text": [
      "True\n",
      "True\n",
      "False\n"
     ]
    }
   ],
   "source": [
    "cache = {}\n",
    "\n",
    "\n",
    "def is_prime(n):\n",
    "  if n in cache:\n",
    "    return cache[n]\n",
    "\n",
    "  for i in range(2, int(n ** 0.5)+1):\n",
    "    if n % i == 0:\n",
    "      cache[n] = False\n",
    "      return False\n",
    "\n",
    "  cache[n] = True\n",
    "  return True\n",
    "\n",
    "\n",
    "print(is_prime(2))\n",
    "print(is_prime(7))\n",
    "print(is_prime(8))"
   ]
  },
  {
   "cell_type": "code",
   "execution_count": 5,
   "metadata": {},
   "outputs": [
    {
     "name": "stdout",
     "output_type": "stream",
     "text": [
      "[(3, 5), (5, 7), (11, 13)]\n"
     ]
    }
   ],
   "source": [
    "n = 1\n",
    "m = 15\n",
    "n = max(2, n)\n",
    "\n",
    "twins = []\n",
    "\n",
    "for i in range(n, m+1):\n",
    "  if i+2 > m:\n",
    "    break\n",
    "  if is_prime(i) and is_prime(i+2):\n",
    "    twins.append((i, i+2))\n",
    "\n",
    "print(twins)"
   ]
  }
 ],
 "metadata": {
  "kernelspec": {
   "display_name": "Python 3",
   "language": "python",
   "name": "python3"
  },
  "language_info": {
   "codemirror_mode": {
    "name": "ipython",
    "version": 3
   },
   "file_extension": ".py",
   "mimetype": "text/x-python",
   "name": "python",
   "nbconvert_exporter": "python",
   "pygments_lexer": "ipython3",
   "version": "3.12.0"
  }
 },
 "nbformat": 4,
 "nbformat_minor": 2
}
