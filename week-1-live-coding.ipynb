{
 "cells": [
  {
   "cell_type": "markdown",
   "metadata": {},
   "source": [
    "# PDSA Week - 1 Live Coding"
   ]
  },
  {
   "cell_type": "markdown",
   "metadata": {},
   "source": [
    "## 📃 Live Coding Problem 1\n",
    "\n",
    "A positive integer `m` is a prime product if it can be written as `p × q`, where `p` and `q` are both primes. .\n",
    "\n",
    "Write a Python function **primeproduct(m)** that takes an integer `m` as input and returns `True` if `m` is a prime product and `False` otherwise.\n",
    "\n",
    "(If `m` is not positive, function should return `False`.)\n",
    "\n",
    "\n",
    "\n",
    "**Sample Input**\n",
    "\n",
    "```\n",
    "6\n",
    "```\n",
    "\n",
    "**Output**\n",
    "\n",
    "```\n",
    "True\n",
    "```"
   ]
  },
  {
   "cell_type": "markdown",
   "metadata": {},
   "source": [
    "### 👉 Problem Explanation\n",
    "\n",
    "We need to determine if a given positive integer `m` is a prime product. A prime product means that `m` can be written as the product of two prime numbers, `p` and `q`. \n",
    "\n",
    "For example:\n",
    "- For `m = 6`, we can write it as `2 * 3`, and both 2 and 3 are prime numbers. So, the function should return `True`.\n",
    "- For `m = 8`, we cannot write it as a product of two prime numbers. So, the function should return `False`.\n",
    "\n",
    "### 👉 Solution Approach\n",
    "\n",
    "1. **Define a function `is_prime(n)` to check if `n` is a prime number:**\n",
    "   - If `n` is less than 2, return `False`.\n",
    "   - Check divisibility from 2 to the square root of `n`. If any number divides `n`, return `False`.\n",
    "   - If no divisors are found, return `True`.\n",
    "\n",
    "2. **Define the main function `primeproduct(m)`:**\n",
    "   - Returns `False` immediately if `m` is not a positive integer.\n",
    "   - Iterates through all numbers from 2 to the square root of `m`.\n",
    "   - For each number `i`, checks if `i` is a divisor of `m` and if both `i` and `m // i` are prime.\n",
    "   - If such a pair of primes is found, returns `True`.\n",
    "   - If no such pair is found after the loop, returns `False`."
   ]
  },
  {
   "cell_type": "code",
   "execution_count": 31,
   "metadata": {},
   "outputs": [
    {
     "name": "stdout",
     "output_type": "stream",
     "text": [
      "True\n",
      "False\n"
     ]
    }
   ],
   "source": [
    "def is_prime(n):\n",
    "  \"\"\"Helper function to check if n is a prime number.\"\"\"\n",
    "  if n <= 1:\n",
    "    return False\n",
    "  for i in range(2, int(n ** 0.5) + 1):\n",
    "    if n % i == 0:\n",
    "      return False\n",
    "  return True\n",
    "\n",
    "\n",
    "print(is_prime(2))\n",
    "print(is_prime(8))"
   ]
  },
  {
   "cell_type": "code",
   "execution_count": 32,
   "metadata": {},
   "outputs": [
    {
     "name": "stdout",
     "output_type": "stream",
     "text": [
      "True\n",
      "True\n",
      "True\n",
      "False\n",
      "False\n",
      "False\n"
     ]
    }
   ],
   "source": [
    "def primeproduct(m):\n",
    "  \"\"\"Function to check if m is a prime product.\"\"\"\n",
    "  if m <= 0:\n",
    "    return False\n",
    "  for i in range(2, int(m ** 0.5) + 1):\n",
    "    if m % i == 0:  # i is a divisor of m\n",
    "      if is_prime(i) and is_prime(m // i):\n",
    "        return True\n",
    "  return False\n",
    "\n",
    "\n",
    "print(primeproduct(6))\n",
    "print(primeproduct(9))\n",
    "print(primeproduct(15))\n",
    "\n",
    "print(primeproduct(1))\n",
    "print(primeproduct(8))\n",
    "print(primeproduct(12))"
   ]
  },
  {
   "cell_type": "markdown",
   "metadata": {},
   "source": [
    "## 📃 Live Coding Problem 2\n",
    "\n",
    "Write a function **del_char(s,c)** that takes strings `s` and `c`  as input, where `c` has length 1 (i.e., a single character), and returns the string obtained by deleting all occurrences of `c` in `s`.\n",
    "\n",
    "If `c` has length other than 1, the function should return `s`.\n",
    "\n",
    "**Sample input-1**\n",
    "\n",
    "```\n",
    "banana\n",
    "b\n",
    "```\n",
    "\n",
    "**Output**\n",
    "\n",
    "```\n",
    "anana\n",
    "```\n",
    "\n",
    "**Sample input-2**\n",
    "\n",
    "```\n",
    "banana\n",
    "an\n",
    "```\n",
    "\n",
    "**Output**\n",
    "\n",
    "```\n",
    "banana\n",
    "```"
   ]
  },
  {
   "cell_type": "markdown",
   "metadata": {},
   "source": [
    "### 👉 Problem Explanation\n",
    "\n",
    "We need to remove all occurrences of a given character `c` from a string `s`. The function should handle two cases:\n",
    "1. If `c` is a single character, remove all occurrences of `c` from `s`.\n",
    "2. If `c` is not a single character, return the original string `s` without any changes.\n",
    "\n",
    "For example:\n",
    "- For `s = \"banana\"` and `c = \"b\"`, we should remove all 'b' characters from \"banana\", resulting in \"anana\".\n",
    "- For `s = \"banana\"` and `c = \"an\"`, since `c` is not a single character, the function should return the original string \"banana\".\n",
    "\n",
    "### 👉 Solution Approach\n",
    "\n",
    "**Define the function `del_char(s, c)`:**\n",
    "   - If `c` has a length other than 1, return `s`.\n",
    "   - Initialize an empty string `result`.\n",
    "   - Iterate through each character in `s`:\n",
    "     - If the character is not equal to `c`, add it to `result`.\n",
    "   - Return `result`."
   ]
  },
  {
   "cell_type": "code",
   "execution_count": 33,
   "metadata": {},
   "outputs": [
    {
     "name": "stdout",
     "output_type": "stream",
     "text": [
      "anana\n",
      "bnn\n",
      "baaa\n",
      "banana\n",
      "ale\n",
      "apple\n"
     ]
    }
   ],
   "source": [
    "def del_char(s, c):\n",
    "  \"\"\"Function to delete all occurrences of character c from string s.\"\"\"\n",
    "  if len(c) != 1:\n",
    "    return s\n",
    "  result = ''\n",
    "  for char in s:\n",
    "    if char != c:\n",
    "      result += char\n",
    "  return result\n",
    "\n",
    "\n",
    "print(del_char(\"banana\", \"b\"))\n",
    "print(del_char(\"banana\", \"a\"))\n",
    "print(del_char(\"banana\", \"n\"))\n",
    "print(del_char(\"banana\", \"an\"))\n",
    "\n",
    "print(del_char(\"apple\", \"p\"))\n",
    "print(del_char(\"apple\", \"\"))"
   ]
  },
  {
   "cell_type": "markdown",
   "metadata": {},
   "source": [
    "## 📃 Live Coding Problem 3\n",
    "\n",
    "Write a function **shuffle(l1,l2)** that takes two lists, `l1` and `l2` as input, and returns a list consisting of the first element in `l1`, then the first element in `l2`, then the second element in `l1`, then the second element in `l2`, and so on.\n",
    "\n",
    "If the two lists are not of equal length, the remaining elements of the longer list are appended at the end of the shuffled output.\n",
    "\n",
    "**Sample Input**\n",
    "\n",
    "```\n",
    "[0,2,4]\n",
    "[1,3,5]\n",
    "```\n",
    "\n",
    "**Output**\n",
    "\n",
    "```python\n",
    "[0, 1, 2, 3, 4, 5]\n",
    "```\n",
    "\n",
    "**Sample Input**\n",
    "\n",
    "```\n",
    "[0,2,4]\n",
    "[1]\n",
    "```\n",
    "\n",
    "**Output**\n",
    "\n",
    "```python\n",
    "[0, 1, 2, 4]\n",
    "```"
   ]
  },
  {
   "cell_type": "markdown",
   "metadata": {},
   "source": [
    "### 👉 Problem Explanation\n",
    "\n",
    "We need to create a new list by alternating elements from two input lists, `l1` and `l2`. If the lists are of unequal length, any remaining elements from the longer list should be added to the end of the new list.\n",
    "\n",
    "For example:\n",
    "- For `l1 = [0, 2, 4]` and `l2 = [1, 3, 5]`, the function should return `[0, 1, 2, 3, 4, 5]`.\n",
    "- For `l1 = [0, 2, 4]` and `l2 = [1]`, the function should return `[0, 1, 2, 4]`.\n",
    "\n",
    "### 👉 Solution Approach\n",
    "\n",
    "**Define the function `shuffle(l1, l2)`:**\n",
    "   - Initialize an empty list `result`.\n",
    "   - Use a loop to iterate through the indices of the shorter list:\n",
    "     - Append the element from `l1` at the current index to `result`.\n",
    "     - Append the element from `l2` at the current index to `result`.\n",
    "   - Append the remaining elements from the longer list to `result`.\n",
    "   - Return `result`."
   ]
  },
  {
   "cell_type": "code",
   "execution_count": 34,
   "metadata": {},
   "outputs": [
    {
     "name": "stdout",
     "output_type": "stream",
     "text": [
      "[0, 1, 2, 3, 4, 5]\n",
      "[0, 1, 2, 4]\n",
      "[0, 1, 3, 5]\n",
      "[1, 3, 5]\n",
      "[0, 2, 4]\n"
     ]
    }
   ],
   "source": [
    "def shuffle(l1, l2):\n",
    "  \"\"\"Function to shuffle two lists by alternating their elements.\"\"\"\n",
    "  result = []\n",
    "  min_length = min(len(l1), len(l2))\n",
    "\n",
    "  for i in range(min_length):\n",
    "    result.append(l1[i])\n",
    "    result.append(l2[i])\n",
    "\n",
    "  result.extend(l1[min_length:])\n",
    "  result.extend(l2[min_length:])\n",
    "\n",
    "  return result\n",
    "\n",
    "\n",
    "print(shuffle([0, 2, 4], [1, 3, 5]))  # Output: [0, 1, 2, 3, 4, 5]\n",
    "print(shuffle([0, 2, 4], [1]))        # Output: [0, 1, 2, 4]\n",
    "print(shuffle([0], [1, 3, 5]))        # Output: [0, 1, 3, 5]\n",
    "print(shuffle([], [1, 3, 5]))         # Output: [1, 3, 5]\n",
    "print(shuffle([0, 2, 4], []))         # Output: [0, 2, 4]"
   ]
  },
  {
   "cell_type": "markdown",
   "metadata": {},
   "source": [
    "## 📃 Live Coding Problem 4\n",
    "\n",
    "Write a function **expanding(L)** that takes a list of integer `L` as input and returns `True` if the absolute difference between each adjacent pair of elements strictly increases.\n",
    "\n",
    "**Sample Input**\n",
    "\n",
    "```\n",
    "[1,3,7,2,9]\n",
    "```\n",
    "\n",
    "**Output**\n",
    "\n",
    "```python\n",
    "True\n",
    "```\n",
    "\n",
    "**Sample Input**\n",
    "\n",
    "```\n",
    "[1,3,7,2,-3]\n",
    "```\n",
    "\n",
    "**Output**\n",
    "\n",
    "```python\n",
    "False\n",
    "```"
   ]
  },
  {
   "cell_type": "markdown",
   "metadata": {},
   "source": [
    "### 👉 Problem Explanation\n",
    "\n",
    "We need to determine if the absolute differences between each pair of adjacent elements in the list `L` are strictly increasing. This means that for every adjacent pair of elements in `L`, the difference between the current pair should be greater than the difference between the previous pair.\n",
    "\n",
    "For example:\n",
    "- For `L = [1, 3, 7, 2, 9]`, the absolute differences between adjacent pairs are `[2, 4, 5, 7]`. These differences are strictly increasing, so the function should return `True`.\n",
    "- For `L = [1, 3, 7, 2, -3]`, the absolute differences between adjacent pairs are `[2, 4, 5, 5]`. The differences do not strictly increase, so the function should return `False`.\n",
    "\n",
    "### 👉 Solution Approach\n",
    "\n",
    "**Define the function `expanding(L)`:**\n",
    "   - If the list `L` has fewer than 2 elements, return `True` (since there's no pair to compare).\n",
    "   - Initialize a list `diffs` to store the absolute differences.\n",
    "   - Iterate through the list `L` to compute the absolute differences and store them in `diffs`.\n",
    "   - Iterate through `diffs` to check if each difference is greater than the previous one.\n",
    "   - If all differences are strictly increasing, return `True`; otherwise, return `False`."
   ]
  },
  {
   "cell_type": "code",
   "execution_count": 35,
   "metadata": {},
   "outputs": [
    {
     "name": "stdout",
     "output_type": "stream",
     "text": [
      "True\n",
      "False\n",
      "True\n",
      "True\n",
      "False\n"
     ]
    }
   ],
   "source": [
    "def expanding(L):\n",
    "  \"\"\"Function to check if the absolute differences between adjacent elements are strictly increasing.\"\"\"\n",
    "  if len(L) < 2:\n",
    "    return True\n",
    "\n",
    "  diffs = []\n",
    "  for i in range(1, len(L)):\n",
    "    diffs.append(abs(L[i] - L[i - 1]))\n",
    "\n",
    "  for i in range(1, len(diffs)):\n",
    "    if diffs[i] <= diffs[i - 1]:\n",
    "      return False\n",
    "\n",
    "  return True\n",
    "\n",
    "\n",
    "print(expanding([1, 3, 7, 2, 9]))     # Output: True, diffs = [2, 4, 5, 7]\n",
    "print(expanding([1, 3, 7, 2, -3]))    # Output: False, diffs = [2, 4, 5, 5]\n",
    "\n",
    "print(expanding([1]))                 # Output: True, diffs = []\n",
    "print(expanding([]))                  # Output: True, diffs = []\n",
    "\n",
    "print(expanding([10, 1, 10, 1, 10]))  # Output: False, diffs = [9, 9, 9, 9]"
   ]
  },
  {
   "cell_type": "markdown",
   "metadata": {},
   "source": [
    "## 📃 Live Coding Problem 5\n",
    "\n",
    "Write a Python function `sumsquare(l)` that takes a nonempty list of integers as input and returns a list `[odd,even]`, where `odd` is the sum of squares all the odd numbers in `l` and `even` is the sum of squares of all the even numbers in `l`.\n",
    "\n",
    "**Sample Input**\n",
    "\n",
    "```\n",
    "[1,3,5]\n",
    "```\n",
    "\n",
    "**Output**\n",
    "\n",
    "```python\n",
    "[35, 0]\n",
    "```\n",
    "\n",
    "**Sample Input**\n",
    "\n",
    "```\n",
    "[-1,-2,3,7]\n",
    "```\n",
    "\n",
    "**Output**\n",
    "\n",
    "```python\n",
    "[59, 4]\n",
    "```"
   ]
  },
  {
   "cell_type": "markdown",
   "metadata": {},
   "source": [
    "### 👉 Problem Explanation\n",
    "\n",
    "We need to calculate two values from a given list of integers:\n",
    "1. The sum of squares of all the odd numbers.\n",
    "2. The sum of squares of all the even numbers.\n",
    "\n",
    "For example:\n",
    "- For `l = [1, 3, 5]`, the sum of squares of odd numbers is `1^2 + 3^2 + 5^2 = 35` and there are no even numbers, so the function should return `[35, 0]`.\n",
    "- For `l = [-1, -2, 3, 7]`, the sum of squares of odd numbers is `(-1)^2 + 3^2 + 7^2 = 59` and the sum of squares of even numbers is `(-2)^2 = 4`, so the function should return `[59, 4]`.\n",
    "\n",
    "### 👉 Solution Approach\n",
    "\n",
    "**Define the function `sumsquare(l)`:**\n",
    "   - Initialize two variables `odd_sum` and `even_sum` to 0.\n",
    "   - Iterate through each element in `l`:\n",
    "     - If the element is odd, add its square to `odd_sum`.\n",
    "     - If the element is even, add its square to `even_sum`.\n",
    "   - Return the list `[odd_sum, even_sum]`."
   ]
  },
  {
   "cell_type": "code",
   "execution_count": 36,
   "metadata": {},
   "outputs": [
    {
     "name": "stdout",
     "output_type": "stream",
     "text": [
      "[35, 0]\n",
      "[35, 0]\n",
      "[35, 20]\n",
      "[0, 56]\n",
      "[0, 56]\n",
      "[59, 4]\n"
     ]
    }
   ],
   "source": [
    "def sumsquare(l):\n",
    "  \"\"\"Function to return the sum of squares of odd and even numbers in the list.\"\"\"\n",
    "  odd_sum = 0\n",
    "  even_sum = 0\n",
    "\n",
    "  for num in l:\n",
    "    if num % 2 == 0:\n",
    "      even_sum += num ** 2\n",
    "    else:\n",
    "      odd_sum += num ** 2\n",
    "\n",
    "  return [odd_sum, even_sum]\n",
    "\n",
    "\n",
    "print(sumsquare([1, 3, 5]))         # Output: [35, 0]\n",
    "print(sumsquare([-1, -3, -5]))      # Output: [35, 0]\n",
    "print(sumsquare([1, 2, 3, 4, 5]))   # Output: [35, 20]\n",
    "\n",
    "print(sumsquare([-2, -4, -6]))      # Output: [0, 56]\n",
    "print(sumsquare([0, 2, 4, 6]))      # Output: [0, 56]\n",
    "print(sumsquare([-1, -2, 3, 7]))    # Output: [59, 4]"
   ]
  },
  {
   "cell_type": "markdown",
   "metadata": {},
   "source": [
    "## 📃 Live Coding Problem 6\n",
    "\n",
    "Write a Python function `histogram(l)` that takes as input a list of integers with repetitions and returns a list of pairs as follows:.\n",
    "\n",
    "- for each number `n` that appears in `l`, there should be exactly one pair `(n,r)` in the list returned by the function, where `r` is the number of repetitions of `n` in `l`.\n",
    "- the final list should be sorted in ascending order by `r`, the number of repetitions. For numbers that occur with the same number of repetitions, arrange the pairs in ascending order of the value of the number.\n",
    "\n",
    "**Sample Input**\n",
    "\n",
    "```\n",
    "[13,12,11,13,14,13,7,7,13,14,12]\n",
    "```\n",
    "\n",
    "**Output**\n",
    "\n",
    "```python\n",
    "[(11, 1), (7, 2), (12, 2), (14, 2), (13, 4)]\n",
    "```\n",
    "\n",
    "**Sample Input**\n",
    "\n",
    "```\n",
    "[13,7,12,7,11,13,14,13,7,11,13,14,12,14,14,7]\n",
    "```\n",
    "\n",
    "**Output**\n",
    "\n",
    "```python\n",
    "[(11, 2), (12, 2), (7, 4), (13, 4), (14, 4)]\n",
    "```"
   ]
  },
  {
   "cell_type": "markdown",
   "metadata": {},
   "source": [
    "### 👉 Problem Explanation\n",
    "\n",
    "We need to create a histogram of the occurrences of each number in a given list of integers. The histogram should consist of pairs `(n, r)` where `n` is a unique number in the list, and `r` is the number of times `n` appears in the list.\n",
    "\n",
    "For example:\n",
    "- For `l = [13, 12, 11, 13, 14, 13, 7, 7, 13, 14, 12]`, the histogram should be `[(11, 1), (7, 2), (12, 2), (14, 2), (13, 4)]`.\n",
    "- For `l = [13, 7, 12, 7, 11, 13, 14, 13, 7, 11, 13, 14, 12, 14, 14, 7]`, the histogram should be `[(11, 2), (12, 2), (7, 4), (13, 4), (14, 4)]`.\n",
    "\n",
    "### 👉 Solution Approach\n",
    "\n",
    "**Define the function `histogram(l)`:**\n",
    "   - Initialize an empty dictionary `count`.\n",
    "   - Iterate through each number `n` in the list `l`:\n",
    "     - Increment the count of `n` in the dictionary.\n",
    "   - Convert the dictionary items to pairs `(n, r)`.\n",
    "   - Sort the pairs first by `r` in ascending order, and then by `n` in ascending order.\n",
    "   - Return the sorted list of pairs."
   ]
  },
  {
   "cell_type": "code",
   "execution_count": 37,
   "metadata": {},
   "outputs": [
    {
     "name": "stdout",
     "output_type": "stream",
     "text": [
      "[(11, 1), (7, 2), (12, 2), (14, 2), (13, 4)]\n",
      "[(11, 2), (12, 2), (7, 4), (13, 4), (14, 4)]\n"
     ]
    }
   ],
   "source": [
    "def histogram(l):\n",
    "  \"\"\"Function to create a histogram of occurrences of each number in the list.\"\"\"\n",
    "  count = {}\n",
    "  for num in l:\n",
    "    count[num] = count.get(num, 0) + 1\n",
    "\n",
    "  hist = [(num, count[num]) for num in count]\n",
    "  hist.sort(key=lambda x: (x[1], x[0]))\n",
    "  return hist\n",
    "\n",
    "\n",
    "# Output: [(11, 1), (7, 2), (12, 2), (14, 2), (13, 4)]\n",
    "print(histogram([13, 12, 11, 13, 14, 13, 7, 7, 13, 14, 12]))\n",
    "\n",
    "# Output: [(11, 2), (12, 2), (7, 4), (13, 4), (14, 4)]\n",
    "print(histogram([13, 7, 12, 7, 11, 13, 14, 13, 7, 11, 13, 14, 12, 14, 14, 7]))"
   ]
  }
 ],
 "metadata": {
  "kernelspec": {
   "display_name": "Python 3",
   "language": "python",
   "name": "python3"
  },
  "language_info": {
   "codemirror_mode": {
    "name": "ipython",
    "version": 3
   },
   "file_extension": ".py",
   "mimetype": "text/x-python",
   "name": "python",
   "nbconvert_exporter": "python",
   "pygments_lexer": "ipython3",
   "version": "3.12.0"
  }
 },
 "nbformat": 4,
 "nbformat_minor": 2
}
