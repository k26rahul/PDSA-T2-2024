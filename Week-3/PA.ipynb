{
 "cells": [
  {
   "cell_type": "markdown",
   "metadata": {},
   "source": [
    "# PPA 1 - Not Graded"
   ]
  },
  {
   "cell_type": "code",
   "execution_count": 24,
   "metadata": {},
   "outputs": [
    {
     "data": {
      "text/plain": [
       "' \\nvidhatri -> <- rahul -> <- harikesh -> <- cmd -> <- sanika\\n '"
      ]
     },
     "execution_count": 24,
     "metadata": {},
     "output_type": "execute_result"
    }
   ],
   "source": [
    "\"\"\" \n",
    "vidhatri -> <- rahul -> <- harikesh -> <- cmd -> <- sanika\n",
    " \"\"\""
   ]
  },
  {
   "cell_type": "code",
   "execution_count": 25,
   "metadata": {},
   "outputs": [],
   "source": [
    "class Node:\n",
    "  def __init__(self, data):\n",
    "    self.data = data\n",
    "    self.prev = None\n",
    "    self.next = None\n",
    "\n",
    "  def __str__(self):\n",
    "    return f'Node: {self.data}'"
   ]
  },
  {
   "cell_type": "code",
   "execution_count": 26,
   "metadata": {},
   "outputs": [],
   "source": [
    "class DoublyLinkedList:\n",
    "  def __init__(self):\n",
    "    self.head = None\n",
    "    self.last = None\n",
    "\n",
    "  def print(self):\n",
    "    current = self.head\n",
    "    while current is not None:\n",
    "      print(current)\n",
    "      current = current.next\n",
    "\n",
    "  def is_empty(self):\n",
    "    if self.head is None:\n",
    "      return True\n",
    "    return False\n",
    "\n",
    "  def insert_end(self, data):  # O(1)\n",
    "    node = Node(data)\n",
    "    if self.is_empty():\n",
    "      self.head = node\n",
    "      self.last = node\n",
    "    else:\n",
    "      self.last.next = node\n",
    "      node.prev = self.last\n",
    "      self.last = node\n",
    "\n",
    "  def delete_end(self):  # O(1)\n",
    "    # if no nodes in chain\n",
    "    if self.is_empty():\n",
    "      return\n",
    "\n",
    "    # if just 1 node in chain\n",
    "    if self.head.next is None:\n",
    "      self.head = None\n",
    "      self.last = None\n",
    "      return\n",
    "\n",
    "    # if more than 1 nodes in chain [O(1)]\n",
    "    previous = self.last.prev\n",
    "    self.last = previous\n",
    "    self.last.next = None\n",
    "\n",
    "\n",
    "chain = DoublyLinkedList()\n",
    "chain.insert_end(1)\n",
    "chain.delete_end()\n",
    "chain.print()"
   ]
  },
  {
   "cell_type": "markdown",
   "metadata": {},
   "source": [
    "# PPA 2 - Not Graded"
   ]
  },
  {
   "cell_type": "code",
   "execution_count": 27,
   "metadata": {},
   "outputs": [
    {
     "name": "stdout",
     "output_type": "stream",
     "text": [
      "Hash table is full\n",
      "[11, 12, 13, 14, 15, 16, 17, 18, 19, 20, 10]\n"
     ]
    }
   ],
   "source": [
    "class Hashing:\n",
    "  def __init__(self, c1, c2, m):\n",
    "    self.hashtable = []\n",
    "    for _ in range(m):\n",
    "      self.hashtable.append(None)\n",
    "    self.c1 = c1\n",
    "    self.c2 = c2\n",
    "    self.m = m\n",
    "\n",
    "  def h(self, key):  # h(k)\n",
    "    return key % self.m\n",
    "\n",
    "  def h_prob(self, key, i):  # h(k, i)\n",
    "    return (self.h(key) + self.c1*i + self.c2*i*i) % self.m\n",
    "\n",
    "  def quadratic_probing(self, index, value):\n",
    "    # do we even need probing?\n",
    "    if self.hashtable[index] is None:\n",
    "      return index\n",
    "\n",
    "    # yes, we need probing\n",
    "    i = 0\n",
    "    while i < m:\n",
    "      prob_index = self.h_prob(value, i)\n",
    "      # print(f'quadratic_probing: {value=}, {index=} {prob_index=}')\n",
    "      if self.hashtable[prob_index] is None:\n",
    "        return prob_index\n",
    "      i += 1\n",
    "    print('Hash table is full')\n",
    "    return -1\n",
    "\n",
    "  def store_data(self, value):\n",
    "    index = self.h(value)\n",
    "    probed_index = self.quadratic_probing(index, value)\n",
    "    if probed_index == -1:  # hash table is full\n",
    "      return\n",
    "    self.hashtable[probed_index] = value\n",
    "    # print(f'store_data: {value=} {index}, {probed_index}')\n",
    "\n",
    "  def display_hashtable(self):\n",
    "    return self.hashtable\n",
    "\n",
    "\n",
    "c1 = 1\n",
    "c2 = 2\n",
    "m = 11\n",
    "data = [10, 11, 12, 13, 14, 15, 16, 17, 18, 19, 20, 21]\n",
    "table = Hashing(c1, c2, m)\n",
    "for x in data:\n",
    "  table.store_data(x)\n",
    "print(table.display_hashtable())"
   ]
  },
  {
   "cell_type": "markdown",
   "metadata": {},
   "source": [
    "# GrPA1"
   ]
  },
  {
   "cell_type": "code",
   "execution_count": 41,
   "metadata": {},
   "outputs": [
    {
     "name": "stdout",
     "output_type": "stream",
     "text": [
      "[1002, 1003, 1004, 1005, 1001]\n"
     ]
    }
   ],
   "source": [
    "def DishPrepareOrder(orders):\n",
    "  freq = {}\n",
    "\n",
    "  for order in orders:\n",
    "    freq[order] = freq.get(order, 0) + 1\n",
    "\n",
    "  prepare = list(freq.items())\n",
    "  prepare.sort()\n",
    "  prepare.sort(key=lambda pair: pair[1], reverse=True)\n",
    "  return [pair[0] for pair in prepare]\n",
    "\n",
    "\n",
    "orders = [1004, 1003, 1004, 1003, 1004, 1005, 1003, 1004, 1003, 1002, 1005, 1002, 1002, 1001, 1002, 1002, 1002]\n",
    "print(DishPrepareOrder(orders))"
   ]
  },
  {
   "cell_type": "markdown",
   "metadata": {},
   "source": [
    "# GrPA 2"
   ]
  },
  {
   "cell_type": "code",
   "execution_count": 64,
   "metadata": {},
   "outputs": [
    {
     "name": "stdout",
     "output_type": "stream",
     "text": [
      "-4.0\n"
     ]
    }
   ],
   "source": [
    "def is_number(el):\n",
    "  try:\n",
    "    float(el)\n",
    "    return True\n",
    "  except:\n",
    "    return False\n",
    "\n",
    "\n",
    "def EvaluateExpression(expression):\n",
    "  expression = expression.split()\n",
    "  operands = []\n",
    "  for el in expression:\n",
    "    if is_number(el):\n",
    "      operands.append(float(el))\n",
    "      continue\n",
    "\n",
    "    operand_b = operands.pop()\n",
    "    operand_a = operands.pop()\n",
    "    if el == '+':\n",
    "      result = operand_a + operand_b\n",
    "    if el == '-':\n",
    "      result = operand_a - operand_b\n",
    "    if el == '*':\n",
    "      result = operand_a * operand_b\n",
    "    if el == '/':\n",
    "      result = operand_a / operand_b\n",
    "    if el == '**':\n",
    "      result = operand_a ** operand_b\n",
    "    operands.append(result)\n",
    "  return operands[0]\n",
    "\n",
    "\n",
    "expression = '2 3 1 * + 9 -'\n",
    "print(float(EvaluateExpression(expression)))"
   ]
  },
  {
   "cell_type": "markdown",
   "metadata": {},
   "source": [
    "# GrPA 3"
   ]
  },
  {
   "cell_type": "code",
   "execution_count": 71,
   "metadata": {},
   "outputs": [],
   "source": [
    "class Node:\n",
    "  def __init__(self, data):\n",
    "    self.data = data\n",
    "    self.next = None\n",
    "\n",
    "  def __str__(self):\n",
    "    return f'Node: {self.data}'\n",
    "\n",
    "\n",
    "class LinkedList:\n",
    "  def __init__(self):\n",
    "    self.head = None\n",
    "    self.tail = None\n",
    "\n",
    "  def print(self):\n",
    "    current = self.head\n",
    "    while current is not None:\n",
    "      print(current)\n",
    "      current = current.next\n",
    "\n",
    "  def is_empty(self):\n",
    "    if self.head is None:\n",
    "      return True\n",
    "    return False\n",
    "\n",
    "  def append(self, data):  # O(1)\n",
    "    node = Node(data)\n",
    "    if self.is_empty():\n",
    "      self.head = node\n",
    "      self.tail = node\n",
    "    else:\n",
    "      self.tail.next = node\n",
    "      self.tail = node"
   ]
  },
  {
   "cell_type": "code",
   "execution_count": 84,
   "metadata": {},
   "outputs": [
    {
     "name": "stdout",
     "output_type": "stream",
     "text": [
      "Node: 5\n",
      "Node: 4\n",
      "Node: 3\n",
      "Node: 2\n",
      "Node: 1\n"
     ]
    }
   ],
   "source": [
    "def reverse(root):\n",
    "  if root.next is None:\n",
    "    return root\n",
    "\n",
    "  prev = root\n",
    "  current = root.next\n",
    "  root.next = None\n",
    "  while current is not None:\n",
    "    loop_next = current.next\n",
    "    current.next = prev\n",
    "    prev = current\n",
    "    current = loop_next\n",
    "\n",
    "  return prev\n",
    "\n",
    "\n",
    "chain = LinkedList()\n",
    "chain.append(1)\n",
    "chain.append(2)\n",
    "chain.append(3)\n",
    "chain.append(4)\n",
    "chain.append(5)\n",
    "\n",
    "current = reverse(chain.head)\n",
    "while current is not None:\n",
    "  print(current)\n",
    "  current = current.next"
   ]
  }
 ],
 "metadata": {
  "kernelspec": {
   "display_name": "Python 3",
   "language": "python",
   "name": "python3"
  },
  "language_info": {
   "codemirror_mode": {
    "name": "ipython",
    "version": 3
   },
   "file_extension": ".py",
   "mimetype": "text/x-python",
   "name": "python",
   "nbconvert_exporter": "python",
   "pygments_lexer": "ipython3",
   "version": "3.12.0"
  }
 },
 "nbformat": 4,
 "nbformat_minor": 2
}
