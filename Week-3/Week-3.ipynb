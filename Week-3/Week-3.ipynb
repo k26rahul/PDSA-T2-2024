{
 "cells": [
  {
   "cell_type": "markdown",
   "metadata": {},
   "source": [
    "# Linked List"
   ]
  },
  {
   "cell_type": "code",
   "execution_count": 2,
   "metadata": {},
   "outputs": [],
   "source": [
    "class Node:\n",
    "  def __init__(self, data):\n",
    "    self.data = data\n",
    "    self.next = None\n",
    "\n",
    "  def __str__(self):\n",
    "    return str(f'Node: {self.data}')\n",
    "\n",
    "\n",
    "vidhatri = Node('i am vidhatri')\n",
    "rahul = Node('i am rahul')\n",
    "harikesh = Node('i am harikesh')\n",
    "sanika = Node('i am sanika')\n",
    "cmd = Node('i am cmd')"
   ]
  },
  {
   "cell_type": "code",
   "execution_count": 3,
   "metadata": {},
   "outputs": [],
   "source": [
    "vidhatri.next = rahul\n",
    "rahul.next = sanika\n",
    "sanika.next = harikesh\n",
    "harikesh.next = cmd"
   ]
  },
  {
   "cell_type": "code",
   "execution_count": 4,
   "metadata": {},
   "outputs": [
    {
     "name": "stdout",
     "output_type": "stream",
     "text": [
      "Node: i am vidhatri\n",
      "Node: i am rahul\n",
      "Node: i am sanika\n",
      "Node: i am harikesh\n",
      "Node: i am cmd\n"
     ]
    }
   ],
   "source": [
    "current = vidhatri\n",
    "\n",
    "while current is not None:\n",
    "  print(current)\n",
    "  current = current.next"
   ]
  },
  {
   "cell_type": "markdown",
   "metadata": {},
   "source": [
    "# Linked List [Implementation]"
   ]
  },
  {
   "cell_type": "code",
   "execution_count": 5,
   "metadata": {},
   "outputs": [],
   "source": [
    "class Node:\n",
    "  def __init__(self, data):\n",
    "    self.data = data\n",
    "    self.next = None\n",
    "\n",
    "  def __str__(self):\n",
    "    return f'Node: {self.data}'"
   ]
  },
  {
   "cell_type": "code",
   "execution_count": 6,
   "metadata": {},
   "outputs": [
    {
     "name": "stdout",
     "output_type": "stream",
     "text": [
      "New link: Node: vidhatri -> Node: harikesh\n",
      "Node: rahul\n",
      "Node: vidhatri\n",
      "Node: harikesh\n",
      "Node: sanika\n"
     ]
    }
   ],
   "source": [
    "class LinkedList:\n",
    "  def __init__(self):\n",
    "    self.head = None\n",
    "    self.tail = None\n",
    "    self.count = 0\n",
    "\n",
    "  def is_empty(self):\n",
    "    if self.head is None:\n",
    "      return True\n",
    "    return False\n",
    "\n",
    "  def insert_start(self, data):  # append()\n",
    "    self.count += 1\n",
    "\n",
    "    node = Node(data)\n",
    "    if self.is_empty():\n",
    "      self.head = node\n",
    "      self.tail = node\n",
    "    else:\n",
    "      node.next = self.head\n",
    "      self.head = node\n",
    "\n",
    "  def insert_end(self, data):\n",
    "    self.count += 1\n",
    "\n",
    "    node = Node(data)\n",
    "    if self.is_empty():\n",
    "      self.head = node\n",
    "      self.tail = node\n",
    "    else:\n",
    "      self.tail.next = node\n",
    "      self.tail = node\n",
    "\n",
    "  def print(self):\n",
    "    current = self.head\n",
    "    while current is not None:\n",
    "      print(current)\n",
    "      current = current.next\n",
    "\n",
    "  def delete_first(self):\n",
    "    self.count -= 1\n",
    "    self.head = self.head.next\n",
    "\n",
    "  def delete_last(self):\n",
    "    self.count -= 1\n",
    "\n",
    "    current = self.head\n",
    "    while current.next != self.tail:  # it breaks when current.next = self.tail\n",
    "      current = current.next\n",
    "\n",
    "    self.tail = current\n",
    "    self.tail.next = None\n",
    "\n",
    "  def delete(self, data):\n",
    "    index = self.index_of(data)\n",
    "\n",
    "    if index == 0:\n",
    "      self.delete_first()\n",
    "      return\n",
    "    if index == self.count-1:\n",
    "      self.delete_last()\n",
    "      return\n",
    "\n",
    "    before_node = self.get_node(index-1)\n",
    "    after_node = before_node.next.next\n",
    "    print(f'New link: {before_node} -> {after_node}')\n",
    "    before_node.next = after_node\n",
    "\n",
    "  def get_node(self, node_index):\n",
    "    current = self.head\n",
    "    i = 0\n",
    "    while current is not None:\n",
    "      if (i == node_index):\n",
    "        break\n",
    "      i += 1\n",
    "      current = current.next\n",
    "    return current\n",
    "\n",
    "  def index_of(self, data):\n",
    "    index = 0\n",
    "    found = False\n",
    "    current = self.head\n",
    "    while current is not None:\n",
    "      if current.data == data:\n",
    "        found = True\n",
    "        break\n",
    "      index += 1\n",
    "      current = current.next\n",
    "\n",
    "    if not found:\n",
    "      return -1\n",
    "    return index\n",
    "\n",
    "\n",
    "chain = LinkedList()\n",
    "chain.insert_end('rahul')\n",
    "chain.insert_end('vidhatri')\n",
    "chain.insert_end('cmd')\n",
    "chain.insert_end('harikesh')\n",
    "chain.insert_end('sanika')\n",
    "\n",
    "chain.delete('cmd')\n",
    "chain.print()"
   ]
  },
  {
   "cell_type": "code",
   "execution_count": 7,
   "metadata": {},
   "outputs": [],
   "source": [
    "# chain.print()\n",
    "# print(chain.head)\n",
    "# print(chain.tail)"
   ]
  },
  {
   "cell_type": "code",
   "execution_count": 8,
   "metadata": {},
   "outputs": [
    {
     "data": {
      "text/plain": [
       "' \\nhead = vidhatri\\ntail = sanika\\nchain = vidhatri -> rahul -> harikesh -> cmd -> sanika\\n                                          c\\nhead = rahul\\ntail = cmd + cmd.next = None\\n\\nhead  = head.next\\nvidhatri -> rahul -> harikesh -> cmd -> sanika\\n\\nchain = rahul -> cmd, sanika, muskan -> []\\npt sir (tail ?)\\nvidhatri [muskan ke pas jao]\\n '"
      ]
     },
     "execution_count": 8,
     "metadata": {},
     "output_type": "execute_result"
    }
   ],
   "source": [
    "\"\"\" \n",
    "head = vidhatri\n",
    "tail = sanika\n",
    "chain = vidhatri -> rahul -> harikesh -> cmd -> sanika\n",
    "                                          c\n",
    "head = rahul\n",
    "tail = cmd + cmd.next = None\n",
    "\n",
    "head  = head.next\n",
    "vidhatri -> rahul -> harikesh -> cmd -> sanika\n",
    "\n",
    "chain = rahul -> cmd, sanika, muskan -> []\n",
    "pt sir (tail ?)\n",
    "vidhatri [muskan ke pas jao]\n",
    " \"\"\""
   ]
  },
  {
   "cell_type": "code",
   "execution_count": 9,
   "metadata": {},
   "outputs": [
    {
     "data": {
      "text/plain": [
       "[1, 2, 3]"
      ]
     },
     "execution_count": 9,
     "metadata": {},
     "output_type": "execute_result"
    }
   ],
   "source": [
    "L = []\n",
    "\n",
    "L.append(1)\n",
    "L.append(2)\n",
    "L.append(3)\n",
    "\n",
    "L"
   ]
  },
  {
   "cell_type": "markdown",
   "metadata": {},
   "source": [
    "# LinkedList [Implementation #2]"
   ]
  },
  {
   "cell_type": "code",
   "execution_count": 10,
   "metadata": {},
   "outputs": [],
   "source": [
    "class Node:\n",
    "  def __init__(self, data):\n",
    "    self.data = data\n",
    "    self.next = None\n",
    "\n",
    "  def __str__(self):\n",
    "    return f'Node: {self.data}'"
   ]
  },
  {
   "cell_type": "code",
   "execution_count": 11,
   "metadata": {},
   "outputs": [],
   "source": [
    "class LinkedList:\n",
    "  def __init__(self):\n",
    "    self.head = None\n",
    "    self.tail = None\n",
    "\n",
    "  def print(self):\n",
    "    current = self.head\n",
    "    while current is not None:\n",
    "      print(current)\n",
    "      current = current.next\n",
    "\n",
    "  def is_empty(self):\n",
    "    if self.head is None:\n",
    "      return True\n",
    "    return False\n",
    "\n",
    "  def append(self, data):  # O(1)\n",
    "    node = Node(data)\n",
    "    if self.is_empty():\n",
    "      self.head = node\n",
    "      self.tail = node\n",
    "    else:\n",
    "      self.tail.next = node\n",
    "      self.tail = node\n",
    "\n",
    "  def delete_first(self):  # O(1)\n",
    "    self.head = self.head.next\n",
    "\n",
    "  def delete_last(self):  # O(n)\n",
    "    # if no nodes in chain\n",
    "    if self.is_empty():\n",
    "      return\n",
    "\n",
    "    # if only 1 node in chain\n",
    "    if self.head.next is None:\n",
    "      self.delete_first()\n",
    "      return\n",
    "\n",
    "    # if more than 1 nodes in chain [O(n)]\n",
    "    previous = self.head\n",
    "    while previous.next != self.tail:\n",
    "      previous = previous.next\n",
    "\n",
    "    self.tail = previous\n",
    "    self.tail.next = None\n",
    "\n",
    "  def delete(self, data):  # O(n)\n",
    "    node = self.search(data)\n",
    "    if node == self.head:\n",
    "      self.delete_first()\n",
    "      return\n",
    "    if node == self.tail:\n",
    "      self.delete_last()\n",
    "      return\n",
    "\n",
    "    previous = self.head\n",
    "    while previous.next != node:\n",
    "      previous = previous.next\n",
    "\n",
    "    previous.next = previous.next.next\n",
    "\n",
    "  def search(self, data):\n",
    "    current = self.head\n",
    "    while current is not None:\n",
    "      if current.data == data:\n",
    "        return current\n",
    "      current = current.next\n",
    "    return -1\n",
    "\n",
    "\n",
    "chain = LinkedList()\n",
    "chain.append('vidhatri')\n",
    "chain.delete_last()\n",
    "# chain.append('rahul')\n",
    "# chain.append('sanika')\n",
    "# chain.append('cmd')\n",
    "\n",
    "# chain.delete('cmd')\n",
    "chain.print()"
   ]
  },
  {
   "cell_type": "code",
   "execution_count": 12,
   "metadata": {},
   "outputs": [
    {
     "data": {
      "text/plain": [
       "' \\nhead = vidhatri\\ntail = cmd\\nvidhatri -> rahul -> harikesh -> cmd\\n '"
      ]
     },
     "execution_count": 12,
     "metadata": {},
     "output_type": "execute_result"
    }
   ],
   "source": [
    "\"\"\" \n",
    "head = vidhatri\n",
    "tail = cmd\n",
    "vidhatri -> rahul -> harikesh -> cmd\n",
    " \"\"\""
   ]
  },
  {
   "cell_type": "markdown",
   "metadata": {},
   "source": [
    "# Stacks [using python lists]"
   ]
  },
  {
   "cell_type": "code",
   "execution_count": 13,
   "metadata": {},
   "outputs": [
    {
     "data": {
      "text/plain": [
       "2"
      ]
     },
     "execution_count": 13,
     "metadata": {},
     "output_type": "execute_result"
    },
    {
     "data": {
      "text/plain": [
       "1"
      ]
     },
     "execution_count": 13,
     "metadata": {},
     "output_type": "execute_result"
    },
    {
     "name": "stdout",
     "output_type": "stream",
     "text": [
      "[]\n"
     ]
    }
   ],
   "source": [
    "class Stack:\n",
    "  def __init__(self):\n",
    "    self.data = []\n",
    "\n",
    "  def is_empty(self):\n",
    "    if len(self.data) == 0:\n",
    "      return True\n",
    "    return False\n",
    "\n",
    "  def print(self):\n",
    "    print(self.data)\n",
    "\n",
    "  def push(self, value):\n",
    "    self.data.append(value)\n",
    "\n",
    "  def pop(self):\n",
    "    if not self.is_empty():\n",
    "      return self.data.pop()\n",
    "\n",
    "\n",
    "stack = Stack()\n",
    "stack.push(1)\n",
    "stack.push(2)\n",
    "\n",
    "stack.pop()\n",
    "stack.pop()\n",
    "stack.pop()  # do nothing\n",
    "stack.print()"
   ]
  },
  {
   "cell_type": "code",
   "execution_count": 14,
   "metadata": {},
   "outputs": [
    {
     "name": "stdout",
     "output_type": "stream",
     "text": [
      "2\n",
      "[1]\n"
     ]
    }
   ],
   "source": [
    "L = [1, 2]\n",
    "\n",
    "print(L.pop())\n",
    "print(L)"
   ]
  },
  {
   "cell_type": "markdown",
   "metadata": {},
   "source": [
    "# Stack implementation [using a Linked list]"
   ]
  },
  {
   "cell_type": "code",
   "execution_count": 15,
   "metadata": {},
   "outputs": [],
   "source": [
    "class Node:\n",
    "  def __init__(self, data):\n",
    "    self.data = data\n",
    "    self.next = None\n",
    "\n",
    "  def __str__(self):\n",
    "    return f'Node: {self.data}'"
   ]
  },
  {
   "cell_type": "code",
   "execution_count": 16,
   "metadata": {},
   "outputs": [
    {
     "name": "stdout",
     "output_type": "stream",
     "text": [
      "3\n",
      "2\n",
      "1\n",
      "None\n"
     ]
    }
   ],
   "source": [
    "class Stack:\n",
    "  def __init__(self):\n",
    "    self.head = None\n",
    "    self.tail = None\n",
    "\n",
    "  def print(self):\n",
    "    current = self.head\n",
    "    while current is not None:\n",
    "      print(current)\n",
    "      current = current.next\n",
    "\n",
    "  def is_empty(self):\n",
    "    if self.head == None:\n",
    "      return True\n",
    "    return False\n",
    "\n",
    "  def push(self, data):  # LL.append(), LL.insert_end(), queue.enqueue() [O(1)]\n",
    "    node = Node(data)\n",
    "    if self.is_empty():\n",
    "      self.head = node\n",
    "      self.tail = node\n",
    "    else:\n",
    "      self.tail.next = node\n",
    "      self.tail = node\n",
    "\n",
    "  def pop(self):  # delete_last() [O(n)]\n",
    "    # if no nodes in chain\n",
    "    if self.is_empty():\n",
    "      return\n",
    "\n",
    "    # if only 1 node in chain\n",
    "    if self.head.next is None:\n",
    "      result = self.head.data  # storing result (data to return) before modifying head\n",
    "      self.head = None\n",
    "      return result\n",
    "\n",
    "    # if more than 1 nodes in chain\n",
    "    previous = self.head\n",
    "    while previous.next != self.tail:\n",
    "      previous = previous.next\n",
    "\n",
    "    result = self.tail.data\n",
    "    self.tail = previous\n",
    "    self.tail.next = None\n",
    "    return result\n",
    "\n",
    "\n",
    "stack = Stack()\n",
    "stack.push(1)\n",
    "stack.push(2)\n",
    "stack.push(3)\n",
    "print(stack.pop())\n",
    "print(stack.pop())\n",
    "print(stack.pop())\n",
    "print(stack.pop())"
   ]
  },
  {
   "cell_type": "markdown",
   "metadata": {},
   "source": [
    "# Queue [using a list]"
   ]
  },
  {
   "cell_type": "code",
   "execution_count": 17,
   "metadata": {},
   "outputs": [
    {
     "data": {
      "text/plain": [
       "1"
      ]
     },
     "execution_count": 17,
     "metadata": {},
     "output_type": "execute_result"
    },
    {
     "data": {
      "text/plain": [
       "2"
      ]
     },
     "execution_count": 17,
     "metadata": {},
     "output_type": "execute_result"
    },
    {
     "data": {
      "text/plain": [
       "3"
      ]
     },
     "execution_count": 17,
     "metadata": {},
     "output_type": "execute_result"
    },
    {
     "name": "stdout",
     "output_type": "stream",
     "text": [
      "[10, 11]\n"
     ]
    }
   ],
   "source": [
    "class Queue:\n",
    "  def __init__(self):\n",
    "    self.data = []\n",
    "\n",
    "  def print(self):\n",
    "    print(self.data)\n",
    "\n",
    "  def is_empty(self):\n",
    "    if len(self.data) == 0:\n",
    "      return True\n",
    "    return False\n",
    "\n",
    "  def enqueue(self, value):\n",
    "    self.data.append(value)\n",
    "\n",
    "  def dequeue(self):\n",
    "    if not self.is_empty():\n",
    "      return self.data.pop(0)\n",
    "\n",
    "\n",
    "queue = Queue()\n",
    "queue.enqueue(1)\n",
    "queue.enqueue(2)\n",
    "queue.enqueue(3)\n",
    "queue.dequeue()\n",
    "\n",
    "queue.enqueue(10)\n",
    "queue.enqueue(11)\n",
    "\n",
    "queue.dequeue()\n",
    "queue.dequeue()\n",
    "queue.print()"
   ]
  },
  {
   "cell_type": "markdown",
   "metadata": {},
   "source": [
    "# Queue implementation [using a Linked list]"
   ]
  },
  {
   "cell_type": "code",
   "execution_count": 18,
   "metadata": {},
   "outputs": [],
   "source": [
    "class Node:\n",
    "  def __init__(self, data):\n",
    "    self.data = data\n",
    "    self.next = None\n",
    "\n",
    "  def __str__(self):\n",
    "    return f'Node: {self.data}'"
   ]
  },
  {
   "cell_type": "code",
   "execution_count": 19,
   "metadata": {},
   "outputs": [
    {
     "data": {
      "text/plain": [
       "1"
      ]
     },
     "execution_count": 19,
     "metadata": {},
     "output_type": "execute_result"
    },
    {
     "data": {
      "text/plain": [
       "2"
      ]
     },
     "execution_count": 19,
     "metadata": {},
     "output_type": "execute_result"
    },
    {
     "name": "stdout",
     "output_type": "stream",
     "text": [
      "Node: 3\n",
      "Node: 40\n",
      "Node: 41\n"
     ]
    }
   ],
   "source": [
    "class Queue:\n",
    "  def __init__(self):\n",
    "    self.head = None\n",
    "    self.tail = None\n",
    "\n",
    "  def print(self):\n",
    "    current = self.head\n",
    "    while current is not None:\n",
    "      print(current)\n",
    "      current = current.next\n",
    "\n",
    "  def is_empty(self):\n",
    "    if self.head is None:\n",
    "      return True\n",
    "    return False\n",
    "\n",
    "  def enqueue(self, data):  # append(), insert_last() [O(1)]\n",
    "    node = Node(data)\n",
    "    if self.is_empty():\n",
    "      self.head = node\n",
    "      self.tail = node\n",
    "    else:\n",
    "      self.tail.next = node\n",
    "      self.tail = node\n",
    "\n",
    "  def dequeue(self):  # delete_first() [O(1)]\n",
    "    if not self.is_empty():\n",
    "      output = self.head.data\n",
    "      self.head = self.head.next\n",
    "      return output\n",
    "\n",
    "\n",
    "queue = Queue()\n",
    "queue.enqueue(1)\n",
    "queue.enqueue(2)\n",
    "queue.enqueue(3)\n",
    "queue.dequeue()\n",
    "queue.enqueue(40)\n",
    "queue.enqueue(41)\n",
    "queue.dequeue()\n",
    "queue.print()"
   ]
  },
  {
   "cell_type": "markdown",
   "metadata": {},
   "source": [
    "# Hash Table"
   ]
  },
  {
   "cell_type": "code",
   "execution_count": 20,
   "metadata": {},
   "outputs": [
    {
     "name": "stdout",
     "output_type": "stream",
     "text": [
      "345\n",
      "100\n",
      "{'James': 123, 'Ellen': 918, 'Bill': 512, 'Susan': 100, 'rahul': 101}\n"
     ]
    }
   ],
   "source": [
    "contacts = {\n",
    "    'James': 123,\n",
    "    'Ellen': 918,\n",
    "    'Bill': 512,\n",
    "    'Susan': 345\n",
    "}\n",
    "\n",
    "# get Susan's contact\n",
    "print(contacts['Susan'])\n",
    "\n",
    "# update Susan's contact\n",
    "contacts['Susan'] = 100\n",
    "print(contacts['Susan'])\n",
    "\n",
    "# add a new contact [rahul: 101]\n",
    "contacts['rahul'] = 101\n",
    "print(contacts)"
   ]
  },
  {
   "cell_type": "markdown",
   "metadata": {},
   "source": [
    "# Hash Table [implementation from scratch]"
   ]
  },
  {
   "cell_type": "markdown",
   "metadata": {},
   "source": [
    "**Hashing**: Process of transforming any given key (int, string, etc.) into another value. \n",
    "\n",
    "The most popular use of hashing is for setting up hash tables.\n",
    "\n",
    "- 45 -> 10\n",
    "- 'hello' -> 'haCV1y'\n",
    "- 'hello' -> 14\n",
    "- 'hello' -> 5d41402abc4b2a76b9719d911017c592 (md5)"
   ]
  },
  {
   "cell_type": "markdown",
   "metadata": {},
   "source": [
    "# k mod m (hashing algo, m=7, k=[-inf, inf])\n",
    "\n",
    "- k is mapped to [0, 6]"
   ]
  },
  {
   "cell_type": "code",
   "execution_count": 21,
   "metadata": {},
   "outputs": [
    {
     "name": "stdout",
     "output_type": "stream",
     "text": [
      "1\n",
      "5\n",
      "3\n",
      "1\n",
      "0\n",
      "6\n",
      "5\n",
      "2\n",
      "0\n",
      "1\n"
     ]
    }
   ],
   "source": [
    "print(176 % 7)\n",
    "print(1762 % 7)\n",
    "print(7661 % 7)\n",
    "print(1 % 7)\n",
    "print(0 % 7)\n",
    "print(-911772 % 7)\n",
    "print(9182 % 7)\n",
    "print(4321 % 7)\n",
    "print(7 % 7)\n",
    "print(8 % 7)"
   ]
  },
  {
   "cell_type": "code",
   "execution_count": 22,
   "metadata": {},
   "outputs": [
    {
     "data": {
      "text/plain": [
       "87"
      ]
     },
     "execution_count": 22,
     "metadata": {},
     "output_type": "execute_result"
    },
    {
     "data": {
      "text/plain": [
       "{1: 0, 2: 90, 3: 100, 4: 50, 40198216619188277166255152: 101}"
      ]
     },
     "execution_count": 22,
     "metadata": {},
     "output_type": "execute_result"
    }
   ],
   "source": [
    "marks = {\n",
    "    1: 87,\n",
    "    2: 90,\n",
    "    3: 100\n",
    "}\n",
    "\n",
    "marks[1]  # O(1) [get]\n",
    "marks[1] = 0  # O(1) [set]\n",
    "marks[4] = 50  # O(1) [set]\n",
    "marks[40198216619188277166255152] = 101  # O(1) [set]\n",
    "marks"
   ]
  },
  {
   "cell_type": "markdown",
   "metadata": {},
   "source": [
    "# Rough Implementation"
   ]
  },
  {
   "cell_type": "code",
   "execution_count": 23,
   "metadata": {},
   "outputs": [],
   "source": [
    "m = 7  # reasonable bucket size"
   ]
  },
  {
   "cell_type": "code",
   "execution_count": 24,
   "metadata": {},
   "outputs": [],
   "source": [
    "# h(k) returns hash/index/bucket for k\n",
    "def h(k):  # hash function (that maps an element k to an integer in [0, m−1])\n",
    "  return k % m"
   ]
  },
  {
   "cell_type": "code",
   "execution_count": 25,
   "metadata": {},
   "outputs": [
    {
     "name": "stdout",
     "output_type": "stream",
     "text": [
      "[None, None, None, None, None, None, None]\n"
     ]
    }
   ],
   "source": [
    "storage = [None] * m  # capacity = m\n",
    "print(storage)"
   ]
  },
  {
   "cell_type": "code",
   "execution_count": 26,
   "metadata": {},
   "outputs": [
    {
     "name": "stdout",
     "output_type": "stream",
     "text": [
      "key=3, index=3, storage=[None, None, None, 70, None, None, None]\n",
      "key=10, index=3, storage=[None, None, None, 100, None, None, None]\n"
     ]
    },
    {
     "data": {
      "text/plain": [
       "100"
      ]
     },
     "execution_count": 26,
     "metadata": {},
     "output_type": "execute_result"
    }
   ],
   "source": [
    "def set(key, value):  # save key-value pair in storage [O(1)]\n",
    "  index = h(key)\n",
    "  storage[index] = value\n",
    "  print(f'{key=}, {index=}, {storage=}')\n",
    "\n",
    "\n",
    "def get(key):  # returns value for the provided key [O(1)]\n",
    "  index = h(key)\n",
    "  return storage[index]\n",
    "\n",
    "\n",
    "def delete(key):  # [O(1)]\n",
    "  index = h(key)\n",
    "  storage[index] = None\n",
    "\n",
    "\n",
    "set(3, 70)\n",
    "set(10, 100)\n",
    "get(3)"
   ]
  },
  {
   "cell_type": "code",
   "execution_count": 27,
   "metadata": {},
   "outputs": [
    {
     "name": "stdout",
     "output_type": "stream",
     "text": [
      "5\n",
      "2\n",
      "4\n",
      "6\n",
      "2\n",
      "1\n",
      "1\n",
      "6\n",
      "0\n"
     ]
    }
   ],
   "source": [
    "print(h(1762))  # key = 1762\n",
    "print(h(4321))  # key = 4321\n",
    "print(h(4))  # key = 4\n",
    "print(h(-88271))  # key = -88271\n",
    "print(h(-8827191818227666161))  # key = -8827191818227666161\n",
    "print(h(715515155111))  # key = 715515155111\n",
    "print(h(8))  # key = 8\n",
    "print(h(-1))  # key = -1\n",
    "print(h(7))  # key = 7"
   ]
  },
  {
   "cell_type": "code",
   "execution_count": 28,
   "metadata": {},
   "outputs": [
    {
     "name": "stdout",
     "output_type": "stream",
     "text": [
      "1\n",
      "1\n"
     ]
    }
   ],
   "source": [
    "print(h(715515155111))  # key = 715515155111\n",
    "print(h(8))  # key = 8"
   ]
  },
  {
   "cell_type": "code",
   "execution_count": 29,
   "metadata": {},
   "outputs": [],
   "source": [
    "aadhar_names = {\n",
    "    901012346789: ('rahul', 21),\n",
    "    801012351789: ('muskan', 20),\n",
    "    501012616789: ('vidhatri', 20),\n",
    "    101812346789: ('cmd', 19),\n",
    "}"
   ]
  },
  {
   "cell_type": "code",
   "execution_count": 30,
   "metadata": {},
   "outputs": [],
   "source": [
    "marks = {\n",
    "    817171771711: 100,\n",
    "    817171771782: 40,\n",
    "}"
   ]
  },
  {
   "cell_type": "markdown",
   "metadata": {},
   "source": [
    "# **Probing:** Exploring something in a deep or searching way"
   ]
  },
  {
   "cell_type": "markdown",
   "metadata": {},
   "source": [
    "# Linear probing"
   ]
  },
  {
   "cell_type": "code",
   "execution_count": 31,
   "metadata": {},
   "outputs": [
    {
     "name": "stdout",
     "output_type": "stream",
     "text": [
      "get: key=3, index=3\n",
      "(3, 70)\n",
      "get: key=10, index=0\n",
      "(10, 100)\n",
      "get: key=17, index=1\n",
      "(17, 101)\n",
      "get: key=24, index=2\n",
      "(24, 102)\n",
      "get: key=31, index=4\n",
      "(31, 103)\n",
      "get: key=38, index=5\n",
      "(38, 104)\n",
      "get: key=45, index=6\n",
      "(45, 105)\n"
     ]
    }
   ],
   "source": [
    "class HashTable:\n",
    "  def __init__(self, m):\n",
    "    self.m = m\n",
    "    self.storage = [(None, None) for _ in range(m)]\n",
    "\n",
    "  def h(self, key):\n",
    "    return key % self.m\n",
    "\n",
    "  def linear_probing_set(self, index):\n",
    "    # no collision, safe to exit\n",
    "    if self.storage[index] == (None, None):\n",
    "      return index\n",
    "\n",
    "    # deal collision, search [0, m-1]\n",
    "    i = 0\n",
    "    while i < m:\n",
    "      if self.storage[i] == (None, None):  # check if bucket at i is empty\n",
    "        # print(f'linear_probing: {index=} {i=}')\n",
    "        return i\n",
    "      i += 1\n",
    "    raise Exception('storage is full!')  # cannot deal this!\n",
    "\n",
    "  def set(self, key, value):\n",
    "    index = self.h(key)\n",
    "    index = self.linear_probing_set(index)  # make sure bucket at index is empty\n",
    "    bucket = (key, value)\n",
    "    self.storage[index] = bucket\n",
    "    # print(f'set: {key=}, {index=}, {self.storage}')\n",
    "\n",
    "  def linear_probing_get(self, index, key):\n",
    "    if self.storage[index][0] == key:\n",
    "      return index\n",
    "\n",
    "    i = 0\n",
    "    while i < m:\n",
    "      if self.storage[i][0] == key:\n",
    "        return i\n",
    "      i += 1\n",
    "    raise Exception('key not found!')\n",
    "\n",
    "  def get(self, key):\n",
    "    index = self.h(key)\n",
    "    index = self.linear_probing_get(index, key)  # make sure bucket at index is correct bucket\n",
    "    print(f'get: {key=}, {index=}')\n",
    "    return self.storage[index]\n",
    "\n",
    "\n",
    "marks = HashTable(m=7)\n",
    "marks.set(3, 70)   # 3\n",
    "marks.set(10, 100)  # 0\n",
    "marks.set(17, 101)  # 1\n",
    "marks.set(24, 102)  # 2\n",
    "marks.set(31, 103)  # 4\n",
    "marks.set(38, 104)  # 5\n",
    "marks.set(45, 105)  # 6\n",
    "# marks.set(52, 106)  # ?\n",
    "\n",
    "print(marks.get(3))\n",
    "print(marks.get(10))\n",
    "print(marks.get(17))\n",
    "print(marks.get(24))\n",
    "print(marks.get(31))\n",
    "print(marks.get(38))\n",
    "print(marks.get(45))"
   ]
  },
  {
   "cell_type": "markdown",
   "metadata": {},
   "source": [
    "# Quadratic probing [?]"
   ]
  },
  {
   "cell_type": "code",
   "execution_count": 36,
   "metadata": {},
   "outputs": [],
   "source": [
    "# i=0, 3+0 =3 %7=3\n",
    "# i=1, 3+1 =4 %7=4\n",
    "# i=2, 3+4 =7 %7=0\n",
    "# i=3, 3+9 =14%7=0\n",
    "# i=4, 3+16=19%7=5\n",
    "# i=5, 3+25=28%7=0\n",
    "# i=6, 3+36=39%7=4\n",
    "\n",
    "# 0, 3, 4, 5 (2, 1, 6)"
   ]
  },
  {
   "cell_type": "code",
   "execution_count": 34,
   "metadata": {},
   "outputs": [
    {
     "data": {
      "text/plain": [
       "' \\n[0, 2, 1, 3, 6, 8, 9] (10, 5, 4, 7 ?)\\n '"
      ]
     },
     "execution_count": 34,
     "metadata": {},
     "output_type": "execute_result"
    }
   ],
   "source": [
    "\"\"\" \n",
    "[0, 2, 1, 3, 6, 8, 9] (10, 5, 4, 7 ?)\n",
    " \"\"\""
   ]
  },
  {
   "cell_type": "markdown",
   "metadata": {},
   "source": [
    "# PPA 1 - Not Graded"
   ]
  },
  {
   "cell_type": "code",
   "execution_count": 1,
   "metadata": {},
   "outputs": [],
   "source": [
    "class Node:\n",
    "  def __init__(self, data):\n",
    "    self.data = data\n",
    "    self.next = None\n",
    "    self.prev = None\n",
    "\n",
    "  def __str__(self):\n",
    "    return f'Node: {self.data}'"
   ]
  },
  {
   "cell_type": "code",
   "execution_count": 18,
   "metadata": {},
   "outputs": [
    {
     "name": "stdout",
     "output_type": "stream",
     "text": [
      "Node: 1\n",
      "Node: 2\n",
      "Node: 3\n",
      "Node: 4\n"
     ]
    }
   ],
   "source": [
    "class DoublyLinkedList:\n",
    "  def __init__(self):\n",
    "    self.head = None\n",
    "    self.last = None\n",
    "\n",
    "  def print(self):\n",
    "    current = self.head\n",
    "    while current is not None:\n",
    "      print(current)\n",
    "      current = current.next\n",
    "\n",
    "  def is_empty(self):\n",
    "    if self.head is None:\n",
    "      return True\n",
    "    return False\n",
    "\n",
    "  def insert_end(self, data):\n",
    "    node = Node(data)\n",
    "    if self.is_empty():\n",
    "      self.head = node\n",
    "      self.last = node\n",
    "    else:\n",
    "      self.last.next = node\n",
    "      node.prev = self.last\n",
    "      self.last = node\n",
    "\n",
    "  def delete_end(self):\n",
    "    # when no nodes in chain\n",
    "    if self.is_empty():\n",
    "      return\n",
    "\n",
    "    # when just 1 node in chain\n",
    "    if self.head.next is None:\n",
    "      self.head = None\n",
    "      return\n",
    "\n",
    "    # when 1 more than 1 nodes in chain\n",
    "    prev = self.last.prev\n",
    "    self.last = prev\n",
    "    self.last.next = None\n",
    "\n",
    "\n",
    "chain = DoublyLinkedList()\n",
    "chain.delete_end()\n",
    "\n",
    "chain.insert_end(1)\n",
    "chain.insert_end(2)\n",
    "chain.insert_end(3)\n",
    "chain.insert_end(4)\n",
    "chain.print()"
   ]
  },
  {
   "cell_type": "markdown",
   "metadata": {},
   "source": [
    "# PPA 2 - Not Graded"
   ]
  },
  {
   "cell_type": "code",
   "execution_count": 24,
   "metadata": {},
   "outputs": [
    {
     "name": "stdout",
     "output_type": "stream",
     "text": [
      "Hash table is full\n",
      "[11, 12, 13, 14, 15, 16, 17, 18, 19, 20, 10]\n"
     ]
    }
   ],
   "source": [
    "class Hashing:\n",
    "  def __init__(self, c1, c2, m):\n",
    "    self.hashtable = []\n",
    "    for _ in range(m):\n",
    "      self.hashtable.append(None)\n",
    "    self.c1 = c1\n",
    "    self.c2 = c2\n",
    "    self.m = m\n",
    "\n",
    "  def h(self, key):\n",
    "    return key % self.m\n",
    "\n",
    "  def h_prob(self, key, i):\n",
    "    return (self.h(key) + self.c1*i + self.c2*i*i) % self.m\n",
    "\n",
    "  def quadratic_probing(self, index, value):\n",
    "    # do we really need probing?\n",
    "    if self.hashtable[index] is None:\n",
    "      return index\n",
    "\n",
    "    # yes, we've to do probing\n",
    "    i = 0\n",
    "    while i < m:\n",
    "      new_index = self.h_prob(value, i)\n",
    "      if self.hashtable[new_index] is None:\n",
    "        return new_index\n",
    "      i += 1\n",
    "    return -1\n",
    "\n",
    "  def store_data(self, value):\n",
    "    index = self.h(value)\n",
    "    index = self.quadratic_probing(index, value)\n",
    "    if index == -1:\n",
    "      print('Hash table is full')\n",
    "      return\n",
    "    self.hashtable[index] = value\n",
    "\n",
    "  def display_hashtable(self):\n",
    "    return self.hashtable\n",
    "\n",
    "\n",
    "# c1 = 1\n",
    "# c2 = 1\n",
    "# m = 11\n",
    "# data = [22, 44, 35, 54, 36, 27]\n",
    "\n",
    "c1 = 1\n",
    "c2 = 2\n",
    "m = 11\n",
    "data = [10, 11, 12, 13, 14, 15, 16, 17, 18, 19, 20, 21]\n",
    "table = Hashing(c1, c2, m)\n",
    "for x in data:\n",
    "  table.store_data(x)\n",
    "print(table.display_hashtable())"
   ]
  },
  {
   "cell_type": "markdown",
   "metadata": {},
   "source": [
    "# GrPA1"
   ]
  },
  {
   "cell_type": "code",
   "execution_count": 45,
   "metadata": {},
   "outputs": [
    {
     "name": "stdout",
     "output_type": "stream",
     "text": [
      "[1002, 1003, 1004, 1005, 1001]\n"
     ]
    }
   ],
   "source": [
    "def DishPrepareOrder(orders):\n",
    "  freq = {}\n",
    "\n",
    "  for order in orders:\n",
    "    freq[order] = freq.get(order, 0) + 1\n",
    "\n",
    "  # list of tuples (order, frequency)\n",
    "  prepare = list(freq.items())\n",
    "  prepare.sort()\n",
    "  prepare.sort(key=lambda pair: pair[1], reverse=True)\n",
    "  return [pair[0] for pair in prepare]\n",
    "\n",
    "\n",
    "order = [1004, 1003, 1004, 1003, 1004, 1005, 1003, 1004, 1003, 1002, 1005, 1002, 1002, 1001, 1002, 1002, 1002]\n",
    "print(DishPrepareOrder(order))"
   ]
  },
  {
   "cell_type": "markdown",
   "metadata": {},
   "source": [
    "# GrPA 2"
   ]
  },
  {
   "cell_type": "code",
   "execution_count": null,
   "metadata": {},
   "outputs": [],
   "source": [
    "\"\"\" \n",
    "(2+2)/10 => RPN = 2 2 + 10 /\n",
    "2+(2/10) => RPN = 2 2 10 / +\n",
    " \"\"\""
   ]
  },
  {
   "cell_type": "code",
   "execution_count": null,
   "metadata": {},
   "outputs": [],
   "source": [
    "\"\"\" \n",
    "stack [100]\n",
    "\n",
    "3 7 + 12 2 - *\n",
    "token = ?\n",
    "\n",
    "ans. 100\n",
    " \"\"\""
   ]
  },
  {
   "cell_type": "code",
   "execution_count": 63,
   "metadata": {},
   "outputs": [
    {
     "name": "stdout",
     "output_type": "stream",
     "text": [
      "2\n",
      "3\n",
      "1\n",
      "*\n",
      "+\n",
      "9\n",
      "-\n",
      "-1.0\n"
     ]
    }
   ],
   "source": [
    "def is_number(token):\n",
    "  try:\n",
    "    float(token)\n",
    "    return True\n",
    "  except:\n",
    "    return False\n",
    "\n",
    "\n",
    "def EvaluateExpression(expression):\n",
    "  tokens = expression.split()\n",
    "  for token in tokens:\n",
    "    if is_number(token):\n",
    "      pass\n",
    "  return -1\n",
    "\n",
    "\n",
    "expression = '2 3 1 * + 9 -'\n",
    "print(float(EvaluateExpression(expression)))"
   ]
  },
  {
   "cell_type": "code",
   "execution_count": 56,
   "metadata": {},
   "outputs": [
    {
     "name": "stdout",
     "output_type": "stream",
     "text": [
      "['2', '3', '1', '*', '+', '9', '-']\n",
      "<class 'str'>\n",
      "<class 'str'>\n",
      "<class 'str'>\n",
      "<class 'str'>\n",
      "<class 'str'>\n",
      "<class 'str'>\n",
      "<class 'str'>\n"
     ]
    }
   ],
   "source": [
    "exp = '2 3 1 * + 9 -'\n",
    "tokens = exp.split()\n",
    "\n",
    "for token in tokens:\n",
    "  print(type(token))"
   ]
  },
  {
   "cell_type": "code",
   "execution_count": 62,
   "metadata": {},
   "outputs": [
    {
     "data": {
      "text/plain": [
       "True"
      ]
     },
     "execution_count": 62,
     "metadata": {},
     "output_type": "execute_result"
    },
    {
     "data": {
      "text/plain": [
       "False"
      ]
     },
     "execution_count": 62,
     "metadata": {},
     "output_type": "execute_result"
    }
   ],
   "source": [
    "def is_number(token):\n",
    "  try:\n",
    "    float(token)\n",
    "    return True\n",
    "  except:\n",
    "    return False\n",
    "\n",
    "\n",
    "is_number('5')\n",
    "is_number('+')"
   ]
  },
  {
   "cell_type": "code",
   "execution_count": null,
   "metadata": {},
   "outputs": [],
   "source": []
  }
 ],
 "metadata": {
  "kernelspec": {
   "display_name": "Python 3",
   "language": "python",
   "name": "python3"
  },
  "language_info": {
   "codemirror_mode": {
    "name": "ipython",
    "version": 3
   },
   "file_extension": ".py",
   "mimetype": "text/x-python",
   "name": "python",
   "nbconvert_exporter": "python",
   "pygments_lexer": "ipython3",
   "version": "3.12.0"
  }
 },
 "nbformat": 4,
 "nbformat_minor": 2
}
