{
 "cells": [
  {
   "cell_type": "markdown",
   "metadata": {},
   "source": [
    "# Linked List"
   ]
  },
  {
   "cell_type": "code",
   "execution_count": 16,
   "metadata": {},
   "outputs": [],
   "source": [
    "class Node:\n",
    "  def __init__(self, data):\n",
    "    self.data = data\n",
    "    self.next = None\n",
    "\n",
    "  def __str__(self):\n",
    "    return str(f'Node: {self.data}')\n",
    "\n",
    "\n",
    "vidhatri = Node('i am vidhatri')\n",
    "rahul = Node('i am rahul')\n",
    "harikesh = Node('i am harikesh')\n",
    "sanika = Node('i am sanika')\n",
    "cmd = Node('i am cmd')"
   ]
  },
  {
   "cell_type": "code",
   "execution_count": 17,
   "metadata": {},
   "outputs": [],
   "source": [
    "vidhatri.next = rahul\n",
    "rahul.next = sanika\n",
    "sanika.next = harikesh\n",
    "harikesh.next = cmd"
   ]
  },
  {
   "cell_type": "code",
   "execution_count": 18,
   "metadata": {},
   "outputs": [
    {
     "name": "stdout",
     "output_type": "stream",
     "text": [
      "Node: i am vidhatri\n",
      "Node: i am rahul\n",
      "Node: i am sanika\n",
      "Node: i am harikesh\n",
      "Node: i am cmd\n"
     ]
    }
   ],
   "source": [
    "current = vidhatri\n",
    "\n",
    "while current is not None:\n",
    "  print(current)\n",
    "  current = current.next"
   ]
  },
  {
   "cell_type": "markdown",
   "metadata": {},
   "source": [
    "# Linked List [Implementation]"
   ]
  },
  {
   "cell_type": "code",
   "execution_count": 19,
   "metadata": {},
   "outputs": [],
   "source": [
    "class Node:\n",
    "  def __init__(self, data):\n",
    "    self.data = data\n",
    "    self.next = None\n",
    "\n",
    "  def __str__(self):\n",
    "    return f'Node: {self.data}'"
   ]
  },
  {
   "cell_type": "code",
   "execution_count": 75,
   "metadata": {},
   "outputs": [
    {
     "name": "stdout",
     "output_type": "stream",
     "text": [
      "New link: Node: vidhatri -> Node: harikesh\n",
      "Node: rahul\n",
      "Node: vidhatri\n",
      "Node: harikesh\n",
      "Node: sanika\n"
     ]
    }
   ],
   "source": [
    "class LinkedList:\n",
    "  def __init__(self):\n",
    "    self.head = None\n",
    "    self.tail = None\n",
    "    self.count = 0\n",
    "\n",
    "  def is_empty(self):\n",
    "    if self.head is None:\n",
    "      return True\n",
    "    return False\n",
    "\n",
    "  def insert_start(self, data):  # append()\n",
    "    self.count += 1\n",
    "\n",
    "    node = Node(data)\n",
    "    if self.is_empty():\n",
    "      self.head = node\n",
    "      self.tail = node\n",
    "    else:\n",
    "      node.next = self.head\n",
    "      self.head = node\n",
    "\n",
    "  def insert_end(self, data):\n",
    "    self.count += 1\n",
    "\n",
    "    node = Node(data)\n",
    "    if self.is_empty():\n",
    "      self.head = node\n",
    "      self.tail = node\n",
    "    else:\n",
    "      self.tail.next = node\n",
    "      self.tail = node\n",
    "\n",
    "  def print(self):\n",
    "    current = self.head\n",
    "    while current is not None:\n",
    "      print(current)\n",
    "      current = current.next\n",
    "\n",
    "  def delete_first(self):\n",
    "    self.count -= 1\n",
    "    self.head = self.head.next\n",
    "\n",
    "  def delete_last(self):\n",
    "    self.count -= 1\n",
    "\n",
    "    current = self.head\n",
    "    while current.next != self.tail:  # it breaks when current.next = self.tail\n",
    "      current = current.next\n",
    "\n",
    "    self.tail = current\n",
    "    self.tail.next = None\n",
    "\n",
    "  def delete(self, data):\n",
    "    index = self.index_of(data)\n",
    "\n",
    "    if index == 0:\n",
    "      self.delete_first()\n",
    "      return\n",
    "    if index == self.count-1:\n",
    "      self.delete_last()\n",
    "      return\n",
    "\n",
    "    before_node = self.get_node(index-1)\n",
    "    after_node = before_node.next.next\n",
    "    print(f'New link: {before_node} -> {after_node}')\n",
    "    before_node.next = after_node\n",
    "\n",
    "  def get_node(self, node_index):\n",
    "    current = self.head\n",
    "    i = 0\n",
    "    while current is not None:\n",
    "      if (i == node_index):\n",
    "        break\n",
    "      i += 1\n",
    "      current = current.next\n",
    "    return current\n",
    "\n",
    "  def index_of(self, data):\n",
    "    index = 0\n",
    "    found = False\n",
    "    current = self.head\n",
    "    while current is not None:\n",
    "      if current.data == data:\n",
    "        found = True\n",
    "        break\n",
    "      index += 1\n",
    "      current = current.next\n",
    "\n",
    "    if not found:\n",
    "      return -1\n",
    "    return index\n",
    "\n",
    "\n",
    "chain = LinkedList()\n",
    "chain.insert_end('rahul')\n",
    "chain.insert_end('vidhatri')\n",
    "chain.insert_end('cmd')\n",
    "chain.insert_end('harikesh')\n",
    "chain.insert_end('sanika')\n",
    "\n",
    "chain.delete('cmd')\n",
    "chain.print()"
   ]
  },
  {
   "cell_type": "code",
   "execution_count": 21,
   "metadata": {},
   "outputs": [],
   "source": [
    "# chain.print()\n",
    "# print(chain.head)\n",
    "# print(chain.tail)"
   ]
  },
  {
   "cell_type": "code",
   "execution_count": 22,
   "metadata": {},
   "outputs": [
    {
     "data": {
      "text/plain": [
       "' \\nhead = vidhatri\\ntail = sanika\\nchain = vidhatri -> rahul -> harikesh -> cmd -> sanika\\n\\nhead = rahul\\ntail = cmd + cmd.next = None\\n\\nhead  = head.next\\nvidhatri -> rahul -> harikesh -> cmd -> sanika\\n\\nchain = rahul -> cmd, sanika, muskan -> []\\npt sir (tail ?)\\nvidhatri [muskan ke pas jao]\\n '"
      ]
     },
     "execution_count": 22,
     "metadata": {},
     "output_type": "execute_result"
    }
   ],
   "source": [
    "\"\"\" \n",
    "head = vidhatri\n",
    "tail = sanika\n",
    "chain = vidhatri -> rahul -> harikesh -> cmd -> sanika\n",
    "                                          c\n",
    "head = rahul\n",
    "tail = cmd + cmd.next = None\n",
    "\n",
    "head  = head.next\n",
    "vidhatri -> rahul -> harikesh -> cmd -> sanika\n",
    "\n",
    "chain = rahul -> cmd, sanika, muskan -> []\n",
    "pt sir (tail ?)\n",
    "vidhatri [muskan ke pas jao]\n",
    " \"\"\""
   ]
  },
  {
   "cell_type": "code",
   "execution_count": 23,
   "metadata": {},
   "outputs": [
    {
     "data": {
      "text/plain": [
       "[1, 2, 3]"
      ]
     },
     "execution_count": 23,
     "metadata": {},
     "output_type": "execute_result"
    }
   ],
   "source": [
    "L = []\n",
    "\n",
    "L.append(1)\n",
    "L.append(2)\n",
    "L.append(3)\n",
    "\n",
    "L"
   ]
  },
  {
   "cell_type": "markdown",
   "metadata": {},
   "source": [
    "# LinkedList [Implementation #2]"
   ]
  },
  {
   "cell_type": "code",
   "execution_count": 3,
   "metadata": {},
   "outputs": [],
   "source": [
    "class Node:\n",
    "  def __init__(self, data):\n",
    "    self.data = data\n",
    "    self.next = None\n",
    "\n",
    "  def __str__(self):\n",
    "    return f'Node: {self.data}'"
   ]
  },
  {
   "cell_type": "code",
   "execution_count": 33,
   "metadata": {},
   "outputs": [
    {
     "name": "stdout",
     "output_type": "stream",
     "text": [
      "Node: vidhatri\n",
      "Node: rahul\n",
      "Node: sanika\n"
     ]
    }
   ],
   "source": [
    "class LinkedList:\n",
    "  def __init__(self):\n",
    "    self.head = None\n",
    "    self.tail = None\n",
    "\n",
    "  def print(self):\n",
    "    current = self.head\n",
    "    while current is not None:\n",
    "      print(current)\n",
    "      current = current.next\n",
    "\n",
    "  def is_empty(self):\n",
    "    if self.head is None:\n",
    "      return True\n",
    "    return False\n",
    "\n",
    "  def append(self, data):  # O(1)\n",
    "    node = Node(data)\n",
    "    if self.is_empty():\n",
    "      self.head = node\n",
    "      self.tail = node\n",
    "    else:\n",
    "      self.tail.next = node\n",
    "      self.tail = node\n",
    "\n",
    "  def delete_first(self):  # O(1)\n",
    "    self.head = self.head.next\n",
    "\n",
    "  def delete_last(self):  # O(n)\n",
    "    current = self.head\n",
    "    while current.next != self.tail:\n",
    "      current = current.next\n",
    "\n",
    "    self.tail = current\n",
    "    self.tail.next = None\n",
    "\n",
    "  def delete(self, data):  # O(n)\n",
    "    node = self.search(data)\n",
    "    if node == self.head:\n",
    "      self.delete_first()\n",
    "      return\n",
    "    if node == self.tail:\n",
    "      self.delete_last()\n",
    "      return\n",
    "\n",
    "    previous = self.head\n",
    "    while previous.next != node:\n",
    "      previous = previous.next\n",
    "\n",
    "    previous.next = previous.next.next\n",
    "\n",
    "  def search(self, data):\n",
    "    current = self.head\n",
    "    while current is not None:\n",
    "      if current.data == data:\n",
    "        return current\n",
    "      current = current.next\n",
    "    return -1\n",
    "\n",
    "\n",
    "chain = LinkedList()\n",
    "chain.append('vidhatri')\n",
    "chain.append('rahul')\n",
    "chain.append('sanika')\n",
    "chain.append('cmd')\n",
    "\n",
    "chain.delete('cmd')\n",
    "chain.print()"
   ]
  },
  {
   "cell_type": "code",
   "execution_count": null,
   "metadata": {},
   "outputs": [],
   "source": [
    "\"\"\" \n",
    "head = vidhatri\n",
    "tail = cmd\n",
    "vidhatri -> rahul -> harikesh -> cmd\n",
    " \"\"\""
   ]
  }
 ],
 "metadata": {
  "kernelspec": {
   "display_name": "Python 3",
   "language": "python",
   "name": "python3"
  },
  "language_info": {
   "codemirror_mode": {
    "name": "ipython",
    "version": 3
   },
   "file_extension": ".py",
   "mimetype": "text/x-python",
   "name": "python",
   "nbconvert_exporter": "python",
   "pygments_lexer": "ipython3",
   "version": "3.12.0"
  }
 },
 "nbformat": 4,
 "nbformat_minor": 2
}
