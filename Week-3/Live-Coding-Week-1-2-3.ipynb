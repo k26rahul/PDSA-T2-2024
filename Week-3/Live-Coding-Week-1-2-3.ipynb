{
 "cells": [
  {
   "cell_type": "markdown",
   "metadata": {},
   "source": [
    "## Week 1 - Problem 1"
   ]
  },
  {
   "cell_type": "code",
   "execution_count": 22,
   "metadata": {},
   "outputs": [
    {
     "name": "stdout",
     "output_type": "stream",
     "text": [
      "True\n",
      "False\n",
      "True\n"
     ]
    }
   ],
   "source": [
    "def is_prime(n):\n",
    "  for i in range(2, int(n ** 0.5)+1):\n",
    "    if n % i == 0:\n",
    "      return False\n",
    "  return True\n",
    "\n",
    "\n",
    "def prime_product(n):\n",
    "  if n < 0:\n",
    "    return False\n",
    "  for i in range(2, int(n ** 0.5)+1):\n",
    "    if n % i == 0:\n",
    "      if is_prime(i) and is_prime(n//i):\n",
    "        return True\n",
    "  return False\n",
    "\n",
    "\n",
    "print(prime_product(6))\n",
    "print(prime_product(12))\n",
    "print(prime_product(58))"
   ]
  },
  {
   "cell_type": "markdown",
   "metadata": {},
   "source": [
    "## Week 1 - Problem 2"
   ]
  },
  {
   "cell_type": "code",
   "execution_count": 23,
   "metadata": {},
   "outputs": [
    {
     "name": "stdout",
     "output_type": "stream",
     "text": [
      "data strctre\n",
      "bnn\n",
      "banana\n"
     ]
    }
   ],
   "source": [
    "def del_char(string, c):\n",
    "  if len(c) > 1:\n",
    "    return string\n",
    "  result = ''\n",
    "  for char in string:\n",
    "    if char == c:\n",
    "      continue\n",
    "    result += char\n",
    "  return result\n",
    "\n",
    "\n",
    "print(del_char(string='data structure', c='u'))\n",
    "print(del_char(string='banana', c='a'))\n",
    "print(del_char(string='banana', c='an'))"
   ]
  },
  {
   "cell_type": "markdown",
   "metadata": {},
   "source": [
    "## Week 1 - Problem 3"
   ]
  },
  {
   "cell_type": "code",
   "execution_count": 24,
   "metadata": {},
   "outputs": [
    {
     "name": "stdout",
     "output_type": "stream",
     "text": [
      "[0, 1, 2, 3, 4, 5]\n",
      "[0, 1, 2, 4]\n",
      "[0, 1, 3, 5]\n"
     ]
    }
   ],
   "source": [
    "def shuffle(l1, l2):\n",
    "  m, n = len(l1), len(l2)\n",
    "  result = []\n",
    "  for i in range(min(m, n)):\n",
    "    result.append(l1.pop(0))\n",
    "    result.append(l2.pop(0))\n",
    "  result += l1 + l2\n",
    "  return result\n",
    "\n",
    "\n",
    "print(shuffle(l1=[0, 2, 4], l2=[1, 3, 5]))\n",
    "print(shuffle(l1=[0, 2, 4], l2=[1]))\n",
    "print(shuffle(l1=[0], l2=[1, 3, 5]))"
   ]
  },
  {
   "cell_type": "code",
   "execution_count": 25,
   "metadata": {},
   "outputs": [
    {
     "name": "stdout",
     "output_type": "stream",
     "text": [
      "[0, 1, 2, 3, 4, 5]\n",
      "[0, 1, 2, 4]\n",
      "[0, 1, 3, 5]\n"
     ]
    }
   ],
   "source": [
    "def shuffle(l1, l2):\n",
    "  m, n = len(l1), len(l2)\n",
    "  result = []\n",
    "  z = min(m, n)\n",
    "  for i in range(z):\n",
    "    result.append(l1[i])\n",
    "    result.append(l2[i])\n",
    "  result += l1[z:] + l2[z:]\n",
    "  return result\n",
    "\n",
    "\n",
    "print(shuffle(l1=[0, 2, 4], l2=[1, 3, 5]))\n",
    "print(shuffle(l1=[0, 2, 4], l2=[1]))\n",
    "print(shuffle(l1=[0], l2=[1, 3, 5]))"
   ]
  },
  {
   "cell_type": "markdown",
   "metadata": {},
   "source": [
    "## Week 1 - Problem 4"
   ]
  },
  {
   "cell_type": "code",
   "execution_count": 26,
   "metadata": {},
   "outputs": [
    {
     "name": "stdout",
     "output_type": "stream",
     "text": [
      "True\n",
      "False\n"
     ]
    }
   ],
   "source": [
    "def expanding(L):\n",
    "  last_diff = 0\n",
    "  for i in range(1, len(L)):\n",
    "    diff = abs(L[i] - L[i-1])\n",
    "    if diff > last_diff:\n",
    "      last_diff = diff\n",
    "      continue\n",
    "    return False\n",
    "  return True\n",
    "\n",
    "\n",
    "print(expanding(L=[1, 3, 7, 2, 9]))\n",
    "print(expanding(L=[1, 3, 7, 2, -3]))"
   ]
  },
  {
   "cell_type": "markdown",
   "metadata": {},
   "source": [
    "## Week 1 - Problem 5"
   ]
  },
  {
   "cell_type": "code",
   "execution_count": 27,
   "metadata": {},
   "outputs": [
    {
     "name": "stdout",
     "output_type": "stream",
     "text": [
      "[35, 0]\n",
      "[59, 4]\n"
     ]
    }
   ],
   "source": [
    "def sumsquare(L):\n",
    "  odd_sum = 0\n",
    "  even_sum = 0\n",
    "  for x in L:\n",
    "    if x % 2 == 0:\n",
    "      even_sum += x**2\n",
    "    else:\n",
    "      odd_sum += x**2\n",
    "  return [odd_sum, even_sum]\n",
    "\n",
    "\n",
    "print(sumsquare(L=[1, 3, 5]))\n",
    "print(sumsquare(L=[-1, -2, 3, 7]))"
   ]
  },
  {
   "cell_type": "markdown",
   "metadata": {},
   "source": [
    "## Week 1 - Problem 6"
   ]
  },
  {
   "cell_type": "code",
   "execution_count": 28,
   "metadata": {},
   "outputs": [
    {
     "name": "stdout",
     "output_type": "stream",
     "text": [
      "[(11, 2), (12, 2), (7, 4), (13, 4), (14, 4)]\n"
     ]
    }
   ],
   "source": [
    "def histogram(L):\n",
    "  hist = {}\n",
    "  for x in L:\n",
    "    hist[x] = hist.get(x, 0)+1\n",
    "\n",
    "  hist = list(hist.items())\n",
    "  hist.sort()\n",
    "  hist.sort(key=lambda pair: pair[1])\n",
    "  return hist\n",
    "\n",
    "\n",
    "print(histogram(L=[13, 7, 12, 7, 11, 13, 14, 13, 7, 11, 13, 14, 12, 14, 14, 7]))"
   ]
  },
  {
   "cell_type": "markdown",
   "metadata": {},
   "source": [
    "## Week 2 - Problem 1"
   ]
  },
  {
   "cell_type": "code",
   "execution_count": 8,
   "metadata": {},
   "outputs": [
    {
     "name": "stdout",
     "output_type": "stream",
     "text": [
      "17\n"
     ]
    }
   ],
   "source": [
    "def Findpeak(lst):\n",
    "  low = 0\n",
    "  high = len(lst)-1\n",
    "  while low <= high:\n",
    "    mid = (low+high)//2\n",
    "    # print(f'{low=}, {high=}, {mid=}, {lst[mid]=}')\n",
    "    if mid == 0 or mid == len(lst)-1:  # corner elements\n",
    "      return lst[mid]\n",
    "\n",
    "    if lst[mid-1] < lst[mid] > lst[mid+1]:  # peak\n",
    "      return lst[mid]\n",
    "\n",
    "    if lst[mid-1] > lst[mid]:  # go left\n",
    "      high = mid-1\n",
    "\n",
    "    elif lst[mid+1] > lst[mid]:  # go right\n",
    "      low = mid+1\n",
    "    # print(f'END: {low=}, {high=}, {mid=}, {lst[mid]=}')\n",
    "\n",
    "\n",
    "# print(Findpeak(lst=[5, 10, 20, 15]))\n",
    "# print(Findpeak(lst=[1, 2, 3, 4, 5, 6, 7, 8]))\n",
    "# print(Findpeak(lst=[1, 2, 3, 4, 5, 20, 6, 7, 8]))\n",
    "print(Findpeak(lst=[5, 20, 4, 6, 11, 15, 17]))\n",
    "\n",
    "# -> incr -> peak; # -> incr"
   ]
  },
  {
   "cell_type": "markdown",
   "metadata": {},
   "source": [
    "## Week 2 - Problem 2"
   ]
  },
  {
   "cell_type": "code",
   "execution_count": 30,
   "metadata": {},
   "outputs": [
    {
     "name": "stdout",
     "output_type": "stream",
     "text": [
      "[3, 7, 5]\n"
     ]
    }
   ],
   "source": [
    "def binary_search(lst, target):\n",
    "  low = 0\n",
    "  high = len(lst)-1\n",
    "  while low <= high:\n",
    "    mid = (low+high)//2\n",
    "    if lst[mid] == target:\n",
    "      return mid\n",
    "    if target > lst[mid]:\n",
    "      low = mid+1\n",
    "    else:\n",
    "      high = mid-1\n",
    "  return -1\n",
    "\n",
    "\n",
    "def findCommonElements(l1, l2):\n",
    "  common = []\n",
    "  l2 = sorted(l2)  # for binary_search\n",
    "  for x in l1:\n",
    "    # print(f'{x=}, {binary_search(l2, x)=}')\n",
    "    if binary_search(l2, x) != -1:\n",
    "      common.append(x)\n",
    "  return common\n",
    "\n",
    "# print(binary_search([1, 2, 3, 4, 5], 1))\n",
    "# print(binary_search([1, 2, 3, 4, 5], 2))\n",
    "# print(binary_search([1, 2, 3, 4, 5], 5))\n",
    "# print(binary_search([1, 2, 3, 4, 5], 10))\n",
    "\n",
    "\n",
    "print(findCommonElements(l1=[3, 7, 2, 9, 5], l2=[6, 3, 7, 5, 4]))  # [3, 5, 7]"
   ]
  },
  {
   "cell_type": "markdown",
   "metadata": {},
   "source": [
    "## Week 2 - Problem 3"
   ]
  },
  {
   "cell_type": "code",
   "execution_count": 31,
   "metadata": {},
   "outputs": [
    {
     "name": "stdout",
     "output_type": "stream",
     "text": [
      "[10, 11, 12, 13, 14, 15, 16, 20]\n"
     ]
    }
   ],
   "source": [
    "def merge(left, right):\n",
    "  m, n = len(left), len(right)\n",
    "  merged, i, j = [], 0, 0\n",
    "\n",
    "  while i < m and j < n:\n",
    "    if left[i] <= right[j]:\n",
    "      merged.append(left[i])\n",
    "      i += 1\n",
    "    else:\n",
    "      merged.append(right[j])\n",
    "      j += 1\n",
    "\n",
    "  merged += left[i:]\n",
    "  merged += right[j:]\n",
    "\n",
    "  return merged\n",
    "\n",
    "\n",
    "print(merge([10, 14, 15, 16], [11, 12, 13, 20]))"
   ]
  },
  {
   "cell_type": "code",
   "execution_count": 32,
   "metadata": {},
   "outputs": [
    {
     "data": {
      "text/plain": [
       "([5, 10, 33, 45, 67, 92, 99, 100, 105], 9)"
      ]
     },
     "execution_count": 32,
     "metadata": {},
     "output_type": "execute_result"
    },
    {
     "data": {
      "text/plain": [
       "([44, 69, 98, 103, 103, 150, 151, 194], 7)"
      ]
     },
     "execution_count": 32,
     "metadata": {},
     "output_type": "execute_result"
    },
    {
     "data": {
      "text/plain": [
       "([5, 10, 33, 45, 67, 92, 100], 7)"
      ]
     },
     "execution_count": 32,
     "metadata": {},
     "output_type": "execute_result"
    }
   ],
   "source": [
    "def merge_sort(lst, k=0):\n",
    "  k += 1\n",
    "  n = len(lst)\n",
    "\n",
    "  # print(f'{lst=}')\n",
    "\n",
    "  if n <= 1:\n",
    "    return lst, k\n",
    "  if n == 2:\n",
    "    a, b = lst\n",
    "    return (lst, k) if a <= b else ([b, a], k)\n",
    "\n",
    "  left, k = merge_sort(lst[:n//2], k)\n",
    "  right, k = merge_sort(lst[n//2:], k)\n",
    "\n",
    "  merged = merge(left, right)\n",
    "  return merged, k\n",
    "\n",
    "\n",
    "def subordinates(lst):\n",
    "  return merge_sort(lst)\n",
    "\n",
    "\n",
    "# ([5, 10, 33, 45, 67, 92, 99, 100, 105], 9)\n",
    "subordinates(lst=[10, 33, 45, 67, 92, 100, 5, 99, 105])\n",
    "\n",
    "# ([44, 69, 98, 103, 103, 150, 151, 194], 7)\n",
    "subordinates(lst=[194, 69, 103, 150, 151, 44, 103, 98])\n",
    "\n",
    "# ([5, 10, 33, 45, 67, 92, 100], 7)\n",
    "subordinates(lst=[10, 33, 45, 67, 92, 100, 5])"
   ]
  },
  {
   "cell_type": "markdown",
   "metadata": {},
   "source": [
    "## Week 2 - Problem 4"
   ]
  },
  {
   "cell_type": "code",
   "execution_count": 33,
   "metadata": {},
   "outputs": [
    {
     "name": "stdout",
     "output_type": "stream",
     "text": [
      "0\n",
      "1\n",
      "4\n",
      "-1\n"
     ]
    }
   ],
   "source": [
    "def binary_search(lst, target):\n",
    "  low = 0\n",
    "  high = len(lst)-1\n",
    "  while low <= high:\n",
    "    mid = (low+high)//2\n",
    "    if lst[mid] == target:\n",
    "      return mid\n",
    "    if target > lst[mid]:\n",
    "      low = mid+1\n",
    "    else:\n",
    "      high = mid-1\n",
    "  return -1\n",
    "\n",
    "\n",
    "print(binary_search([12, 13, 15, 18, 20], 12))\n",
    "print(binary_search([12, 13, 15, 18, 20], 13))\n",
    "print(binary_search([12, 13, 15, 18, 20], 20))\n",
    "print(binary_search([12, 13, 15, 18, 20], 99))"
   ]
  },
  {
   "cell_type": "code",
   "execution_count": 34,
   "metadata": {},
   "outputs": [
    {
     "data": {
      "text/plain": [
       "True"
      ]
     },
     "execution_count": 34,
     "metadata": {},
     "output_type": "execute_result"
    },
    {
     "data": {
      "text/plain": [
       "True"
      ]
     },
     "execution_count": 34,
     "metadata": {},
     "output_type": "execute_result"
    },
    {
     "data": {
      "text/plain": [
       "True"
      ]
     },
     "execution_count": 34,
     "metadata": {},
     "output_type": "execute_result"
    }
   ],
   "source": [
    "def findPair(lst, pairSum):\n",
    "  lst = sorted(lst)\n",
    "  for x in lst:\n",
    "    if x >= pairSum:\n",
    "      return False\n",
    "    if binary_search(lst, pairSum-x) != -1:\n",
    "      return True\n",
    "  return False\n",
    "\n",
    "\n",
    "findPair([3825, 29286, 12635, 73450, 69276, 1052, 67615, 27144, 32660], 33111)\n",
    "findPair([3825, 29286, 12635, 73450, 69276, 1052, 67615, 27144, 32660], 102736)\n",
    "findPair([7625, 33422, 45912, 24600, 38030, 64596, 35281, 49247, 808, 45679,\n",
    "         38388, 37078, 7997, 43351, 81537, 87537, 17318, 9801], 41047)"
   ]
  },
  {
   "cell_type": "markdown",
   "metadata": {},
   "source": [
    "## Week 3 - Problem 1"
   ]
  },
  {
   "cell_type": "code",
   "execution_count": 35,
   "metadata": {},
   "outputs": [],
   "source": [
    "def removeDuplicate(head):\n",
    "  class Node:\n",
    "    def __init__(self, data):\n",
    "      self.data = data\n",
    "      self.next = None\n",
    "\n",
    "  lst = []\n",
    "  current = head\n",
    "  while current is not None:\n",
    "    lst.append(current.data)\n",
    "    current = current.next\n",
    "\n",
    "  lst = list(set(lst))\n",
    "\n",
    "  head.next = None\n",
    "  ptr = head\n",
    "  for x in lst[1:]:\n",
    "    ptr.next = Node(x)\n",
    "    ptr = ptr.next"
   ]
  },
  {
   "cell_type": "code",
   "execution_count": 36,
   "metadata": {},
   "outputs": [],
   "source": [
    "def removeDuplicate(head):\n",
    "  current = head\n",
    "  last_node = head\n",
    "  last_data = head.data\n",
    "  while current is not None:\n",
    "    if current.data != last_data:\n",
    "      last_data = current.data\n",
    "      last_node.next = current\n",
    "      last_node = current\n",
    "    current = current.next\n",
    "  last_node.next = None"
   ]
  },
  {
   "cell_type": "markdown",
   "metadata": {},
   "source": [
    "## Week 3 - Problem 2"
   ]
  },
  {
   "cell_type": "code",
   "execution_count": 37,
   "metadata": {},
   "outputs": [],
   "source": [
    "class Node:\n",
    "  def __init__(self, data):\n",
    "    self.data = data\n",
    "    self.next = None\n",
    "    self.prev = None\n",
    "\n",
    "\n",
    "class doubly_linked_list:\n",
    "  def __init__(self):\n",
    "    self.head = None\n",
    "    self.last = None\n",
    "\n",
    "  def insert_end(self, data):\n",
    "    newnode = Node(data)\n",
    "    newnode.prev = self.last\n",
    "    if self.head == None:\n",
    "      self.head = newnode\n",
    "      self.last = newnode\n",
    "    else:\n",
    "      self.last.next = newnode\n",
    "      self.last = newnode\n",
    "\n",
    "  def insert_at_pos(self, data, pos):\n",
    "    i = 1\n",
    "    current = self.head\n",
    "    while current is not None:\n",
    "      if i == pos:\n",
    "        break\n",
    "      i += 1\n",
    "      current = current.next\n",
    "\n",
    "    node = Node(data)\n",
    "    if current == self.head:\n",
    "      self.head.prev = node\n",
    "      node.next = self.head\n",
    "      self.head = node\n",
    "      return\n",
    "    if current == self.last:\n",
    "      # last_data = self.last.data\n",
    "      # self.last.data = data\n",
    "      # self.insert_end(last_data)\n",
    "      # return\n",
    "      pass\n",
    "    node.prev = current.prev\n",
    "    current.prev.next = node\n",
    "    node.next = current\n",
    "    current.prev = node"
   ]
  },
  {
   "cell_type": "markdown",
   "metadata": {},
   "source": [
    "## Week 3 - Problem 3"
   ]
  },
  {
   "cell_type": "code",
   "execution_count": 38,
   "metadata": {},
   "outputs": [
    {
     "name": "stdout",
     "output_type": "stream",
     "text": [
      "[1, 2]\n"
     ]
    }
   ],
   "source": [
    "def ll_to_lst(head):\n",
    "  lst = []\n",
    "  current = head\n",
    "  while current is not None:\n",
    "    lst.append(current.data)\n",
    "    current = current.next\n",
    "  return lst\n",
    "\n",
    "\n",
    "def lst_to_ll(lst, head=None):\n",
    "  class Node:\n",
    "    def __init__(self, data):\n",
    "      self.data = data\n",
    "      self.next = None\n",
    "\n",
    "    def __str__(self):\n",
    "      return str(self.data)\n",
    "\n",
    "  if head is None:\n",
    "    head = Node(lst[0])\n",
    "    lst = lst[1:]\n",
    "\n",
    "  ptr = head\n",
    "  for x in lst:\n",
    "    ptr.next = Node(x)\n",
    "    ptr = ptr.next\n",
    "\n",
    "  return head\n",
    "\n",
    "\n",
    "print(ll_to_lst(lst_to_ll([1, 2])))"
   ]
  },
  {
   "cell_type": "code",
   "execution_count": 39,
   "metadata": {},
   "outputs": [
    {
     "data": {
      "text/plain": [
       "[1, 2, 3, 4, 5, 6, 7, 9, 11]"
      ]
     },
     "execution_count": 39,
     "metadata": {},
     "output_type": "execute_result"
    }
   ],
   "source": [
    "def mergeSortedList(head1, head2):\n",
    "  lst1 = ll_to_lst(head1)\n",
    "  lst2 = ll_to_lst(head2)\n",
    "  merged = sorted(lst1 + lst2)\n",
    "  return lst_to_ll(merged)\n",
    "\n",
    "\n",
    "head1 = lst_to_ll([1, 3, 5, 7, 9, 11])\n",
    "head2 = lst_to_ll([2, 4, 6])\n",
    "ll_to_lst(mergeSortedList(head1, head2))"
   ]
  },
  {
   "cell_type": "code",
   "execution_count": 40,
   "metadata": {},
   "outputs": [
    {
     "data": {
      "text/plain": [
       "[1, 1, 2, 2, 3, 3, 4, 4, 5, 5]"
      ]
     },
     "execution_count": 40,
     "metadata": {},
     "output_type": "execute_result"
    }
   ],
   "source": [
    "class Node:\n",
    "  def __init__(self, data):\n",
    "    self.data = data\n",
    "    self.next = None\n",
    "\n",
    "  def __str__(self):\n",
    "    return str(self.data)\n",
    "\n",
    "\n",
    "def mergeSortedList(head1, head2):\n",
    "  ptr1 = head1\n",
    "  ptr2 = head2\n",
    "\n",
    "  root = ptr1\n",
    "  prev = None\n",
    "  while ptr1 is not None:\n",
    "    while ptr2 and ptr2.data < ptr1.data:\n",
    "      ptr2_next = ptr2.next\n",
    "      ptr2.next = ptr1\n",
    "      if prev:\n",
    "        prev.next = ptr2\n",
    "      if ptr1 == root:\n",
    "        root = ptr2\n",
    "      ptr1 = ptr2\n",
    "      ptr2 = ptr2_next\n",
    "    prev = ptr1\n",
    "    ptr1 = ptr1.next\n",
    "\n",
    "  if ptr2:\n",
    "    prev.next = ptr2\n",
    "  return root\n",
    "\n",
    "\n",
    "ll1 = lst_to_ll([1, 2, 3, 4, 5])\n",
    "ll2 = lst_to_ll([1, 2, 3, 4, 5])\n",
    "# ll1 = lst_to_ll([1, 2, 3])\n",
    "# ll2 = lst_to_ll([4, 5])\n",
    "# ll1 = lst_to_ll([1, 3, 5, 7, 9])\n",
    "# ll2 = lst_to_ll([2, 4, 6, 8, 10, 12])\n",
    "# ll1 = lst_to_ll([10])\n",
    "# ll2 = lst_to_ll([1, 2, 3])\n",
    "ll_to_lst(mergeSortedList(ll1, ll2))"
   ]
  },
  {
   "cell_type": "code",
   "execution_count": 41,
   "metadata": {},
   "outputs": [],
   "source": [
    "# with open(__file__, 'r') as f:\n",
    "#   print(f.read())\n",
    "\n",
    "import os\n",
    "\n",
    "\n",
    "def list_files_and_folders():\n",
    "  current_directory = os.getcwd()\n",
    "  items = os.listdir(current_directory)\n",
    "\n",
    "  print(\"Current script:\", os.path.basename(__file__))\n",
    "  print(\"Files and folders in '\", current_directory, \"' :\")\n",
    "  for item in items:\n",
    "    print(item)\n",
    "\n",
    "\n",
    "def print_file_or_directory_content(name):\n",
    "  if os.path.isdir(name):\n",
    "    print(f\"'{name}' is a directory. Listing its contents:\")\n",
    "    items = os.listdir(name)\n",
    "    for item in items:\n",
    "      print(item)\n",
    "  elif os.path.isfile(name):\n",
    "    try:\n",
    "      with open(name, 'r') as file:\n",
    "        content = file.read()\n",
    "        print(f\"Content of '{name}':\")\n",
    "        print(content)\n",
    "    except Exception as e:\n",
    "      print(f\"An error occurred while reading the file: {e}\")\n",
    "  else:\n",
    "    print(f\"Error: '{name}' does not exist.\")"
   ]
  },
  {
   "cell_type": "markdown",
   "metadata": {},
   "source": [
    "## Week 3 - Problem 4"
   ]
  },
  {
   "cell_type": "code",
   "execution_count": 42,
   "metadata": {},
   "outputs": [
    {
     "name": "stdout",
     "output_type": "stream",
     "text": [
      "30\n",
      "30\n",
      "20\n",
      "10\n",
      "Stack is empty\n"
     ]
    }
   ],
   "source": [
    "class Queue:\n",
    "  def __init__(self):\n",
    "    self.items = []\n",
    "\n",
    "  def enqueue(self, key):\n",
    "    self.items.insert(0, key)\n",
    "\n",
    "  def dequeue(self):\n",
    "    return self.items.pop()\n",
    "\n",
    "\n",
    "class stack:\n",
    "  def __init__(self):\n",
    "    self.q1 = Queue()\n",
    "    self.q2 = Queue()\n",
    "    self.size = 0\n",
    "\n",
    "  def push(self, data):\n",
    "    self.q1.enqueue(data)\n",
    "    self.size += 1\n",
    "\n",
    "  def isempty(self):\n",
    "    return self.size == 0\n",
    "\n",
    "  def pop(self):\n",
    "    if self.isempty():\n",
    "      return 'Stack is empty'\n",
    "    for _ in range(self.size-1):\n",
    "      self.q2.enqueue(self.q1.dequeue())\n",
    "    output = self.q1.dequeue()\n",
    "    for _ in range(self.size-1):\n",
    "      self.q1.enqueue(self.q2.dequeue())\n",
    "    self.size -= 1\n",
    "    return output\n",
    "\n",
    "  def top(self):\n",
    "    if self.isempty():\n",
    "      return 'Stack is empty'\n",
    "    output = self.pop()\n",
    "    self.push(output)\n",
    "    return output\n",
    "\n",
    "\n",
    "s = stack()\n",
    "s.push(10)\n",
    "s.push(20)\n",
    "s.push(30)\n",
    "print(s.top())\n",
    "\n",
    "print(s.pop())\n",
    "print(s.pop())\n",
    "print(s.pop())\n",
    "print(s.pop())\n",
    "\n",
    "# s.push(40)\n",
    "# s.push(50)\n",
    "# print(s.pop())\n",
    "# print(s.pop())\n",
    "# print(s.pop())\n",
    "\n",
    "# print(s.pop())"
   ]
  }
 ],
 "metadata": {
  "kernelspec": {
   "display_name": "Python 3",
   "language": "python",
   "name": "python3"
  },
  "language_info": {
   "codemirror_mode": {
    "name": "ipython",
    "version": 3
   },
   "file_extension": ".py",
   "mimetype": "text/x-python",
   "name": "python",
   "nbconvert_exporter": "python",
   "pygments_lexer": "ipython3",
   "version": "3.12.0"
  }
 },
 "nbformat": 4,
 "nbformat_minor": 2
}
