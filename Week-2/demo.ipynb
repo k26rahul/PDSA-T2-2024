{
 "cells": [
  {
   "cell_type": "code",
   "execution_count": 13,
   "metadata": {},
   "outputs": [],
   "source": [
    "L = [2, 3, 10, 15, 7]\n",
    "v = 7"
   ]
  },
  {
   "cell_type": "markdown",
   "metadata": {},
   "source": [
    "# Naïve Search"
   ]
  },
  {
   "cell_type": "code",
   "execution_count": 14,
   "metadata": {},
   "outputs": [
    {
     "data": {
      "text/plain": [
       "4"
      ]
     },
     "execution_count": 14,
     "metadata": {},
     "output_type": "execute_result"
    }
   ],
   "source": [
    "def naive_search(L, v):\n",
    "  for x in L:\n",
    "    if x == v:\n",
    "      return True\n",
    "  return False\n",
    "\n",
    "\n",
    "def naive_search(L, v):\n",
    "  for i in range(len(L)):\n",
    "    if L[i] == v:\n",
    "      return i\n",
    "  return False\n",
    "\n",
    "\n",
    "naive_search(L, v)"
   ]
  },
  {
   "cell_type": "markdown",
   "metadata": {},
   "source": [
    "# Binary Search"
   ]
  },
  {
   "cell_type": "code",
   "execution_count": 15,
   "metadata": {},
   "outputs": [
    {
     "name": "stdout",
     "output_type": "stream",
     "text": [
      "0\n",
      "2\n",
      "5\n",
      "-1\n"
     ]
    }
   ],
   "source": [
    "def binary_search(L, v):\n",
    "  left = 0\n",
    "  right = len(L)-1\n",
    "\n",
    "  while left <= right:\n",
    "    mid = (left + right)//2\n",
    "    if L[mid] == v:\n",
    "      return mid\n",
    "    if L[mid] < v:\n",
    "      left = mid+1\n",
    "    else:\n",
    "      right = mid-1\n",
    "  return -1\n",
    "\n",
    "\n",
    "print(binary_search([5, 6, 9, 15, 27, 30], 5))\n",
    "print(binary_search([5, 6, 9, 15, 27, 30], 9))\n",
    "print(binary_search([5, 6, 9, 15, 27, 30], 30))\n",
    "print(binary_search([5, 6, 9, 15, 27, 30], 100))"
   ]
  },
  {
   "cell_type": "markdown",
   "metadata": {},
   "source": [
    "# Bubble sort"
   ]
  },
  {
   "cell_type": "code",
   "execution_count": 16,
   "metadata": {},
   "outputs": [
    {
     "data": {
      "text/plain": [
       "'\\n0, 1\\n1, 2\\n2, 3\\n'"
      ]
     },
     "execution_count": 16,
     "metadata": {},
     "output_type": "execute_result"
    }
   ],
   "source": [
    "\"\"\"\n",
    "0, 1\n",
    "1, 2\n",
    "2, 3\n",
    "\"\"\""
   ]
  },
  {
   "cell_type": "code",
   "execution_count": 17,
   "metadata": {},
   "outputs": [
    {
     "name": "stdout",
     "output_type": "stream",
     "text": [
      "[11, 10, 20]\n"
     ]
    }
   ],
   "source": [
    "def swap(L, a, b):\n",
    "  L[a], L[b] = L[b], L[a]\n",
    "\n",
    "\n",
    "L = [10, 11, 20]\n",
    "swap(L, 0, 1)\n",
    "print(L)"
   ]
  },
  {
   "cell_type": "code",
   "execution_count": 18,
   "metadata": {},
   "outputs": [
    {
     "name": "stdout",
     "output_type": "stream",
     "text": [
      "i=0\n",
      "j=0, 1\n",
      "j=1, 2\n",
      "j=2, 3\n",
      "j=3, 4\n",
      "j=4, 5\n",
      "j=5, 6\n",
      "i=1\n",
      "j=0, 1\n",
      "j=1, 2\n",
      "j=2, 3\n",
      "j=3, 4\n",
      "j=4, 5\n",
      "i=2\n",
      "j=0, 1\n",
      "j=1, 2\n",
      "j=2, 3\n",
      "j=3, 4\n",
      "i=3\n",
      "j=0, 1\n",
      "j=1, 2\n",
      "j=2, 3\n",
      "i=4\n",
      "j=0, 1\n",
      "j=1, 2\n",
      "i=5\n",
      "j=0, 1\n"
     ]
    },
    {
     "data": {
      "text/plain": [
       "[1, 2, 3, 4, 5, 8, 9]"
      ]
     },
     "execution_count": 18,
     "metadata": {},
     "output_type": "execute_result"
    }
   ],
   "source": [
    "def bubble_sort(L):\n",
    "  n = len(L)\n",
    "\n",
    "  for i in range(n-1): # ith pass loop\n",
    "    print(f'{i=}')\n",
    "    for j in range(n-1-i):  # last i values are already sorted 🚀🚀\n",
    "      print(f'{j=}, {j+1}')\n",
    "      if L[j+1] < L[j]:\n",
    "        swap(L, j, j+1)\n",
    "\n",
    "  return L\n",
    "\n",
    "\n",
    "bubble_sort([2, 8, 5, 3, 9, 4, 1])"
   ]
  },
  {
   "cell_type": "code",
   "execution_count": 19,
   "metadata": {},
   "outputs": [
    {
     "data": {
      "text/plain": [
       "1000"
      ]
     },
     "execution_count": 19,
     "metadata": {},
     "output_type": "execute_result"
    },
    {
     "data": {
      "text/plain": [
       "False"
      ]
     },
     "execution_count": 19,
     "metadata": {},
     "output_type": "execute_result"
    },
    {
     "data": {
      "text/plain": [
       "False"
      ]
     },
     "execution_count": 19,
     "metadata": {},
     "output_type": "execute_result"
    },
    {
     "data": {
      "text/plain": [
       "Ellipsis"
      ]
     },
     "execution_count": 19,
     "metadata": {},
     "output_type": "execute_result"
    },
    {
     "data": {
      "text/plain": [
       "False"
      ]
     },
     "execution_count": 19,
     "metadata": {},
     "output_type": "execute_result"
    },
    {
     "data": {
      "text/plain": [
       "Ellipsis"
      ]
     },
     "execution_count": 19,
     "metadata": {},
     "output_type": "execute_result"
    },
    {
     "data": {
      "text/plain": [
       "False"
      ]
     },
     "execution_count": 19,
     "metadata": {},
     "output_type": "execute_result"
    },
    {
     "data": {
      "text/plain": [
       "False"
      ]
     },
     "execution_count": 19,
     "metadata": {},
     "output_type": "execute_result"
    }
   ],
   "source": [
    "1000\n",
    "\n",
    "0 > 999\n",
    "1 > 999\n",
    "...\n",
    "500 > 999\n",
    "...\n",
    "998 > 999\n",
    "999 > 999\n",
    "\n",
    "# total comparisons: 999 * 999"
   ]
  },
  {
   "cell_type": "code",
   "execution_count": 20,
   "metadata": {},
   "outputs": [
    {
     "data": {
      "text/plain": [
       "1000"
      ]
     },
     "execution_count": 20,
     "metadata": {},
     "output_type": "execute_result"
    },
    {
     "data": {
      "text/plain": [
       "False"
      ]
     },
     "execution_count": 20,
     "metadata": {},
     "output_type": "execute_result"
    },
    {
     "data": {
      "text/plain": [
       "False"
      ]
     },
     "execution_count": 20,
     "metadata": {},
     "output_type": "execute_result"
    },
    {
     "data": {
      "text/plain": [
       "Ellipsis"
      ]
     },
     "execution_count": 20,
     "metadata": {},
     "output_type": "execute_result"
    },
    {
     "data": {
      "text/plain": [
       "True"
      ]
     },
     "execution_count": 20,
     "metadata": {},
     "output_type": "execute_result"
    },
    {
     "data": {
      "text/plain": [
       "Ellipsis"
      ]
     },
     "execution_count": 20,
     "metadata": {},
     "output_type": "execute_result"
    },
    {
     "data": {
      "text/plain": [
       "True"
      ]
     },
     "execution_count": 20,
     "metadata": {},
     "output_type": "execute_result"
    },
    {
     "data": {
      "text/plain": [
       "True"
      ]
     },
     "execution_count": 20,
     "metadata": {},
     "output_type": "execute_result"
    }
   ],
   "source": [
    "1000\n",
    "\n",
    "0 > 999\n",
    "1 > 998\n",
    "...\n",
    "500 > 499\n",
    "...\n",
    "998 > 1\n",
    "999 > 0\n",
    "\n",
    "# total comparisons: 999 + 998 + 997 + ... + 5 + 4 + 3 + 2 + 1 + 0 = 999 * 500"
   ]
  },
  {
   "cell_type": "code",
   "execution_count": 21,
   "metadata": {},
   "outputs": [
    {
     "name": "stdout",
     "output_type": "stream",
     "text": [
      "i=0, L=[1, 2, 3, 4, 5, 9, 8]\n",
      "j=0, 1\n",
      "j=1, 2\n",
      "j=2, 3\n",
      "j=3, 4\n",
      "j=4, 5\n",
      "j=5, 6\n",
      "i=1, L=[1, 2, 3, 4, 5, 8, 9]\n",
      "j=0, 1\n",
      "j=1, 2\n",
      "j=2, 3\n",
      "j=3, 4\n",
      "j=4, 5\n",
      "i=2, L=[1, 2, 3, 4, 5, 8, 9]\n"
     ]
    },
    {
     "data": {
      "text/plain": [
       "[1, 2, 3, 4, 5, 8, 9]"
      ]
     },
     "execution_count": 21,
     "metadata": {},
     "output_type": "execute_result"
    }
   ],
   "source": [
    "def bubble_sort(L):\n",
    "  n = len(L)\n",
    "\n",
    "  swapped = True\n",
    "  for i in range(n-1):  # ith-pass\n",
    "    print(f'{i=}, {L=}')\n",
    "    if not swapped:  # break next pass if no swapping in current pass 🚀🚀\n",
    "      break\n",
    "    swapped = False\n",
    "\n",
    "    for j in range(n-1-i):  # last i values are already sorted 🚀🚀\n",
    "      print(f'{j=}, {j+1}')\n",
    "      if L[j+1] < L[j]:\n",
    "        swap(L, j, j+1)\n",
    "        swapped = True\n",
    "  return L\n",
    "\n",
    "\n",
    "# bubble_sort([2, 8, 5, 3, 9, 4, 1])\n",
    "bubble_sort([1, 2, 3, 4, 5, 9, 8])"
   ]
  },
  {
   "cell_type": "markdown",
   "metadata": {},
   "source": [
    "# Selection sort"
   ]
  },
  {
   "cell_type": "markdown",
   "metadata": {},
   "source": [
    "min_idx = current minimum\n",
    "j = current item"
   ]
  },
  {
   "cell_type": "code",
   "execution_count": 22,
   "metadata": {},
   "outputs": [
    {
     "data": {
      "text/plain": [
       "[1, 2, 3, 4, 5, 8, 9]"
      ]
     },
     "execution_count": 22,
     "metadata": {},
     "output_type": "execute_result"
    }
   ],
   "source": [
    "def selection_sort(L):\n",
    "  n = len(L)\n",
    "\n",
    "  for i in range(n):  # ith-pass\n",
    "    min_idx = i\n",
    "    for j in range(min_idx, n):  # calc min_idx\n",
    "      if L[j] < L[min_idx]:\n",
    "        min_idx = j\n",
    "\n",
    "    if min_idx != i:\n",
    "      swap(L, i, min_idx)\n",
    "  return L\n",
    "\n",
    "\n",
    "selection_sort([2, 8, 5, 3, 9, 4, 1])"
   ]
  },
  {
   "cell_type": "markdown",
   "metadata": {},
   "source": [
    "# Insertion sort "
   ]
  },
  {
   "cell_type": "code",
   "execution_count": 26,
   "metadata": {},
   "outputs": [
    {
     "data": {
      "text/plain": [
       "[2, 3, 4, 5, 8, 9]"
      ]
     },
     "execution_count": 26,
     "metadata": {},
     "output_type": "execute_result"
    }
   ],
   "source": [
    "def insertion_sort(L):\n",
    "  n = len(L)\n",
    "  for i in range(1, n):  # ith pass loop\n",
    "    j = i\n",
    "    while j > 0 and L[j-1] > L[j]:\n",
    "      swap(L, j, j-1)\n",
    "      j -= 1\n",
    "  return L\n",
    "\n",
    "\n",
    "insertion_sort([2, 8, 5, 3, 9, 4])"
   ]
  },
  {
   "cell_type": "markdown",
   "metadata": {},
   "source": [
    "# Merge sort"
   ]
  },
  {
   "cell_type": "code",
   "execution_count": 53,
   "metadata": {},
   "outputs": [
    {
     "data": {
      "text/plain": [
       "[5, 7]"
      ]
     },
     "execution_count": 53,
     "metadata": {},
     "output_type": "execute_result"
    },
    {
     "data": {
      "text/plain": [
       "[1, 2, 3, 4]"
      ]
     },
     "execution_count": 53,
     "metadata": {},
     "output_type": "execute_result"
    },
    {
     "data": {
      "text/plain": [
       "[1, 2, 4, 6, 10, 12, 13, 99]"
      ]
     },
     "execution_count": 53,
     "metadata": {},
     "output_type": "execute_result"
    },
    {
     "data": {
      "text/plain": [
       "[1, 2, 4, 6, 10, 12, 13, 99]"
      ]
     },
     "execution_count": 53,
     "metadata": {},
     "output_type": "execute_result"
    }
   ],
   "source": [
    "def merge(left, right):\n",
    "  m, n = len(left), len(right)\n",
    "  merged, i, j = [], 0, 0\n",
    "\n",
    "  # step 1: add elems from left, right together\n",
    "  while i < m and j < n:\n",
    "    if left[i] < right[j]:\n",
    "      merged.append(left[i])\n",
    "      i += 1\n",
    "    else:\n",
    "      merged.append(right[j])\n",
    "      j += 1\n",
    "\n",
    "  # step 2: add remaining elems of left\n",
    "  while i < m:\n",
    "    merged.append(left[i])\n",
    "    i += 1\n",
    "\n",
    "  # step 3: add remaining elems of right\n",
    "  while j < n:\n",
    "    merged.append(right[j])\n",
    "    j += 1\n",
    "\n",
    "  return merged\n",
    "\n",
    "\n",
    "merge([7], [5])\n",
    "merge([3, 4], [1, 2])\n",
    "merge([1, 2, 99], [4, 6, 10, 12, 13])\n",
    "merge([4, 6, 10, 12, 13], [1, 2, 99])"
   ]
  },
  {
   "cell_type": "code",
   "execution_count": 56,
   "metadata": {},
   "outputs": [
    {
     "data": {
      "text/plain": [
       "[1, 2, 3, 4, 5, 7, 8, 9]"
      ]
     },
     "execution_count": 56,
     "metadata": {},
     "output_type": "execute_result"
    }
   ],
   "source": [
    "def merge_sort(L):\n",
    "  n = len(L)\n",
    "  if n <= 1:\n",
    "    return L\n",
    "\n",
    "  left = L[:n//2]\n",
    "  right = L[n//2:]\n",
    "\n",
    "  left = merge_sort(left)\n",
    "  right = merge_sort(right)\n",
    "\n",
    "  return merge(left, right)\n",
    "\n",
    "\n",
    "merge_sort([2, 8, 5, 3, 9, 4, 1, 7])"
   ]
  },
  {
   "cell_type": "code",
   "execution_count": null,
   "metadata": {},
   "outputs": [],
   "source": [
    "\"\"\"\n",
    "O(n): 10n\n",
    "n, t\n",
    "2, 20\n",
    "4, 40\n",
    "100, 1000\n",
    "1000, 10000\n",
    "\n",
    "O(nlogn): 10*nlogn\n",
    "n, t\n",
    "16, 16*4*10\n",
    "128, 128*7*10\n",
    "1024, 1024*10*10\n",
    "\n",
    "O(n^2): 2*n^2\n",
    "n, t\n",
    "2, 8\n",
    "4, 32\n",
    "8, 128\n",
    "100, 200000\n",
    "1000, 2000000\n",
    "\"\"\""
   ]
  }
 ],
 "metadata": {
  "kernelspec": {
   "display_name": "Python 3",
   "language": "python",
   "name": "python3"
  },
  "language_info": {
   "codemirror_mode": {
    "name": "ipython",
    "version": 3
   },
   "file_extension": ".py",
   "mimetype": "text/x-python",
   "name": "python",
   "nbconvert_exporter": "python",
   "pygments_lexer": "ipython3",
   "version": "3.12.0"
  }
 },
 "nbformat": 4,
 "nbformat_minor": 2
}
