{
 "cells": [
  {
   "cell_type": "code",
   "execution_count": 1,
   "metadata": {},
   "outputs": [],
   "source": [
    "L = [2, 3, 10, 15, 7]\n",
    "v = 7"
   ]
  },
  {
   "cell_type": "markdown",
   "metadata": {},
   "source": [
    "# Naïve Search"
   ]
  },
  {
   "cell_type": "code",
   "execution_count": 2,
   "metadata": {},
   "outputs": [
    {
     "data": {
      "text/plain": [
       "4"
      ]
     },
     "execution_count": 2,
     "metadata": {},
     "output_type": "execute_result"
    }
   ],
   "source": [
    "def naive_search(L, v):\n",
    "  for x in L:\n",
    "    if x == v:\n",
    "      return True\n",
    "  return False\n",
    "\n",
    "\n",
    "def naive_search(L, v):\n",
    "  for i in range(len(L)):\n",
    "    if L[i] == v:\n",
    "      return i\n",
    "  return False\n",
    "\n",
    "\n",
    "naive_search(L, v)"
   ]
  },
  {
   "cell_type": "markdown",
   "metadata": {},
   "source": [
    "# Binary Search"
   ]
  },
  {
   "cell_type": "code",
   "execution_count": 3,
   "metadata": {},
   "outputs": [
    {
     "name": "stdout",
     "output_type": "stream",
     "text": [
      "0\n",
      "2\n",
      "5\n",
      "-1\n"
     ]
    }
   ],
   "source": [
    "def binary_search(L, v):\n",
    "  left = 0\n",
    "  right = len(L)-1\n",
    "\n",
    "  while left <= right:\n",
    "    mid = (left + right)//2\n",
    "    if L[mid] == v:\n",
    "      return mid\n",
    "    if L[mid] < v:\n",
    "      left = mid+1\n",
    "    else:\n",
    "      right = mid-1\n",
    "  return -1\n",
    "\n",
    "\n",
    "print(binary_search([5, 6, 9, 15, 27, 30], 5))\n",
    "print(binary_search([5, 6, 9, 15, 27, 30], 9))\n",
    "print(binary_search([5, 6, 9, 15, 27, 30], 30))\n",
    "print(binary_search([5, 6, 9, 15, 27, 30], 100))"
   ]
  },
  {
   "cell_type": "markdown",
   "metadata": {},
   "source": [
    "# Bubble sort"
   ]
  },
  {
   "cell_type": "code",
   "execution_count": 4,
   "metadata": {},
   "outputs": [
    {
     "data": {
      "text/plain": [
       "'\\n0, 1\\n1, 2\\n2, 3\\n'"
      ]
     },
     "execution_count": 4,
     "metadata": {},
     "output_type": "execute_result"
    }
   ],
   "source": [
    "\"\"\"\n",
    "0, 1\n",
    "1, 2\n",
    "2, 3\n",
    "\"\"\""
   ]
  },
  {
   "cell_type": "code",
   "execution_count": 5,
   "metadata": {},
   "outputs": [
    {
     "name": "stdout",
     "output_type": "stream",
     "text": [
      "[11, 10, 20]\n"
     ]
    }
   ],
   "source": [
    "def swap(L, a, b):\n",
    "  L[a], L[b] = L[b], L[a]\n",
    "\n",
    "\n",
    "L = [10, 11, 20]\n",
    "swap(L, 0, 1)\n",
    "print(L)"
   ]
  },
  {
   "cell_type": "code",
   "execution_count": 6,
   "metadata": {},
   "outputs": [
    {
     "name": "stdout",
     "output_type": "stream",
     "text": [
      "i=0\n",
      "j=0, 1\n",
      "j=1, 2\n",
      "j=2, 3\n",
      "j=3, 4\n",
      "j=4, 5\n",
      "j=5, 6\n",
      "i=1\n",
      "j=0, 1\n",
      "j=1, 2\n",
      "j=2, 3\n",
      "j=3, 4\n",
      "j=4, 5\n",
      "i=2\n",
      "j=0, 1\n",
      "j=1, 2\n",
      "j=2, 3\n",
      "j=3, 4\n",
      "i=3\n",
      "j=0, 1\n",
      "j=1, 2\n",
      "j=2, 3\n",
      "i=4\n",
      "j=0, 1\n",
      "j=1, 2\n",
      "i=5\n",
      "j=0, 1\n"
     ]
    },
    {
     "data": {
      "text/plain": [
       "[1, 2, 3, 4, 5, 8, 9]"
      ]
     },
     "execution_count": 6,
     "metadata": {},
     "output_type": "execute_result"
    }
   ],
   "source": [
    "def bubble_sort(L):\n",
    "  n = len(L)\n",
    "\n",
    "  for i in range(n-1):  # ith pass loop\n",
    "    print(f'{i=}')\n",
    "    for j in range(n-1-i):  # last i values are already sorted 🚀🚀\n",
    "      print(f'{j=}, {j+1}')\n",
    "      if L[j+1] < L[j]:\n",
    "        swap(L, j, j+1)\n",
    "\n",
    "  return L\n",
    "\n",
    "\n",
    "bubble_sort([2, 8, 5, 3, 9, 4, 1])"
   ]
  },
  {
   "cell_type": "code",
   "execution_count": 7,
   "metadata": {},
   "outputs": [
    {
     "data": {
      "text/plain": [
       "1000"
      ]
     },
     "execution_count": 7,
     "metadata": {},
     "output_type": "execute_result"
    },
    {
     "data": {
      "text/plain": [
       "False"
      ]
     },
     "execution_count": 7,
     "metadata": {},
     "output_type": "execute_result"
    },
    {
     "data": {
      "text/plain": [
       "False"
      ]
     },
     "execution_count": 7,
     "metadata": {},
     "output_type": "execute_result"
    },
    {
     "data": {
      "text/plain": [
       "Ellipsis"
      ]
     },
     "execution_count": 7,
     "metadata": {},
     "output_type": "execute_result"
    },
    {
     "data": {
      "text/plain": [
       "False"
      ]
     },
     "execution_count": 7,
     "metadata": {},
     "output_type": "execute_result"
    },
    {
     "data": {
      "text/plain": [
       "Ellipsis"
      ]
     },
     "execution_count": 7,
     "metadata": {},
     "output_type": "execute_result"
    },
    {
     "data": {
      "text/plain": [
       "False"
      ]
     },
     "execution_count": 7,
     "metadata": {},
     "output_type": "execute_result"
    },
    {
     "data": {
      "text/plain": [
       "False"
      ]
     },
     "execution_count": 7,
     "metadata": {},
     "output_type": "execute_result"
    }
   ],
   "source": [
    "1000\n",
    "\n",
    "0 > 999\n",
    "1 > 999\n",
    "...\n",
    "500 > 999\n",
    "...\n",
    "998 > 999\n",
    "999 > 999\n",
    "\n",
    "# total comparisons: 999 * 999"
   ]
  },
  {
   "cell_type": "code",
   "execution_count": 8,
   "metadata": {},
   "outputs": [
    {
     "data": {
      "text/plain": [
       "1000"
      ]
     },
     "execution_count": 8,
     "metadata": {},
     "output_type": "execute_result"
    },
    {
     "data": {
      "text/plain": [
       "False"
      ]
     },
     "execution_count": 8,
     "metadata": {},
     "output_type": "execute_result"
    },
    {
     "data": {
      "text/plain": [
       "False"
      ]
     },
     "execution_count": 8,
     "metadata": {},
     "output_type": "execute_result"
    },
    {
     "data": {
      "text/plain": [
       "Ellipsis"
      ]
     },
     "execution_count": 8,
     "metadata": {},
     "output_type": "execute_result"
    },
    {
     "data": {
      "text/plain": [
       "True"
      ]
     },
     "execution_count": 8,
     "metadata": {},
     "output_type": "execute_result"
    },
    {
     "data": {
      "text/plain": [
       "Ellipsis"
      ]
     },
     "execution_count": 8,
     "metadata": {},
     "output_type": "execute_result"
    },
    {
     "data": {
      "text/plain": [
       "True"
      ]
     },
     "execution_count": 8,
     "metadata": {},
     "output_type": "execute_result"
    },
    {
     "data": {
      "text/plain": [
       "True"
      ]
     },
     "execution_count": 8,
     "metadata": {},
     "output_type": "execute_result"
    }
   ],
   "source": [
    "1000\n",
    "\n",
    "0 > 999\n",
    "1 > 998\n",
    "...\n",
    "500 > 499\n",
    "...\n",
    "998 > 1\n",
    "999 > 0\n",
    "\n",
    "# total comparisons: 999 + 998 + 997 + ... + 5 + 4 + 3 + 2 + 1 + 0 = 999 * 500"
   ]
  },
  {
   "cell_type": "code",
   "execution_count": 9,
   "metadata": {},
   "outputs": [
    {
     "name": "stdout",
     "output_type": "stream",
     "text": [
      "i=0, L=[1, 2, 3, 4, 5, 9, 8]\n",
      "j=0, 1\n",
      "j=1, 2\n",
      "j=2, 3\n",
      "j=3, 4\n",
      "j=4, 5\n",
      "j=5, 6\n",
      "i=1, L=[1, 2, 3, 4, 5, 8, 9]\n",
      "j=0, 1\n",
      "j=1, 2\n",
      "j=2, 3\n",
      "j=3, 4\n",
      "j=4, 5\n",
      "i=2, L=[1, 2, 3, 4, 5, 8, 9]\n"
     ]
    },
    {
     "data": {
      "text/plain": [
       "[1, 2, 3, 4, 5, 8, 9]"
      ]
     },
     "execution_count": 9,
     "metadata": {},
     "output_type": "execute_result"
    }
   ],
   "source": [
    "def bubble_sort(L):\n",
    "  n = len(L)\n",
    "\n",
    "  swapped = True\n",
    "  for i in range(n-1):  # ith-pass\n",
    "    print(f'{i=}, {L=}')\n",
    "    if not swapped:  # break next pass if no swapping in current pass 🚀🚀\n",
    "      break\n",
    "    swapped = False\n",
    "\n",
    "    for j in range(n-1-i):  # last i values are already sorted 🚀🚀\n",
    "      print(f'{j=}, {j+1}')\n",
    "      if L[j+1] < L[j]:\n",
    "        swap(L, j, j+1)\n",
    "        swapped = True\n",
    "  return L\n",
    "\n",
    "\n",
    "# bubble_sort([2, 8, 5, 3, 9, 4, 1])\n",
    "bubble_sort([1, 2, 3, 4, 5, 9, 8])"
   ]
  },
  {
   "cell_type": "markdown",
   "metadata": {},
   "source": [
    "# Selection sort"
   ]
  },
  {
   "cell_type": "markdown",
   "metadata": {},
   "source": [
    "min_idx = current minimum\n",
    "\n",
    "j = current item"
   ]
  },
  {
   "cell_type": "code",
   "execution_count": 10,
   "metadata": {},
   "outputs": [
    {
     "data": {
      "text/plain": [
       "[1, 2, 3, 4, 5, 8, 9]"
      ]
     },
     "execution_count": 10,
     "metadata": {},
     "output_type": "execute_result"
    }
   ],
   "source": [
    "def selection_sort(L):\n",
    "  n = len(L)\n",
    "\n",
    "  for i in range(n):  # ith-pass\n",
    "    min_idx = i\n",
    "    for j in range(min_idx, n):  # calc min_idx\n",
    "      if L[j] < L[min_idx]:\n",
    "        min_idx = j\n",
    "\n",
    "    if min_idx != i:\n",
    "      swap(L, i, min_idx)\n",
    "  return L\n",
    "\n",
    "\n",
    "selection_sort([2, 8, 5, 3, 9, 4, 1])"
   ]
  },
  {
   "cell_type": "markdown",
   "metadata": {},
   "source": [
    "# Insertion sort "
   ]
  },
  {
   "cell_type": "code",
   "execution_count": 11,
   "metadata": {},
   "outputs": [
    {
     "data": {
      "text/plain": [
       "[2, 3, 4, 5, 8, 9]"
      ]
     },
     "execution_count": 11,
     "metadata": {},
     "output_type": "execute_result"
    }
   ],
   "source": [
    "def insertion_sort(L):\n",
    "  n = len(L)\n",
    "  for i in range(1, n):  # ith pass loop\n",
    "    j = i\n",
    "    while j > 0 and L[j-1] > L[j]:\n",
    "      swap(L, j, j-1)\n",
    "      j -= 1\n",
    "  return L\n",
    "\n",
    "\n",
    "insertion_sort([2, 8, 5, 3, 9, 4])"
   ]
  },
  {
   "cell_type": "markdown",
   "metadata": {},
   "source": [
    "# Merge sort"
   ]
  },
  {
   "cell_type": "code",
   "execution_count": 12,
   "metadata": {},
   "outputs": [
    {
     "data": {
      "text/plain": [
       "[5, 7]"
      ]
     },
     "execution_count": 12,
     "metadata": {},
     "output_type": "execute_result"
    },
    {
     "data": {
      "text/plain": [
       "[1, 2, 3, 4]"
      ]
     },
     "execution_count": 12,
     "metadata": {},
     "output_type": "execute_result"
    },
    {
     "data": {
      "text/plain": [
       "[1, 2, 4, 6, 10, 12, 13, 99]"
      ]
     },
     "execution_count": 12,
     "metadata": {},
     "output_type": "execute_result"
    },
    {
     "data": {
      "text/plain": [
       "[1, 2, 4, 6, 10, 12, 13, 99]"
      ]
     },
     "execution_count": 12,
     "metadata": {},
     "output_type": "execute_result"
    }
   ],
   "source": [
    "def merge(left, right):\n",
    "  m, n = len(left), len(right)\n",
    "  merged, i, j = [], 0, 0\n",
    "\n",
    "  # step 1: add elems from left, right together\n",
    "  while i < m and j < n:\n",
    "    if left[i] < right[j]:\n",
    "      merged.append(left[i])\n",
    "      i += 1\n",
    "    else:\n",
    "      merged.append(right[j])\n",
    "      j += 1\n",
    "\n",
    "  # step 2: add remaining elems of left\n",
    "  while i < m:\n",
    "    merged.append(left[i])\n",
    "    i += 1\n",
    "\n",
    "  # step 3: add remaining elems of right\n",
    "  while j < n:\n",
    "    merged.append(right[j])\n",
    "    j += 1\n",
    "\n",
    "  return merged\n",
    "\n",
    "\n",
    "merge([7], [5])\n",
    "merge([3, 4], [1, 2])\n",
    "merge([1, 2, 99], [4, 6, 10, 12, 13])\n",
    "merge([4, 6, 10, 12, 13], [1, 2, 99])"
   ]
  },
  {
   "cell_type": "code",
   "execution_count": 13,
   "metadata": {},
   "outputs": [
    {
     "data": {
      "text/plain": [
       "[1, 2, 3, 4, 5, 7, 8, 9]"
      ]
     },
     "execution_count": 13,
     "metadata": {},
     "output_type": "execute_result"
    }
   ],
   "source": [
    "def merge_sort(L):\n",
    "  n = len(L)\n",
    "  if n <= 1:\n",
    "    return L\n",
    "\n",
    "  left = L[:n//2]\n",
    "  right = L[n//2:]\n",
    "\n",
    "  left = merge_sort(left)\n",
    "  right = merge_sort(right)\n",
    "\n",
    "  return merge(left, right)\n",
    "\n",
    "\n",
    "merge_sort([2, 8, 5, 3, 9, 4, 1, 7])"
   ]
  },
  {
   "cell_type": "code",
   "execution_count": 14,
   "metadata": {},
   "outputs": [
    {
     "data": {
      "text/plain": [
       "'\\nO(n): 10n\\nn, t\\n2, 20\\n4, 40\\n100, 1000\\n1000, 10000\\n\\nO(nlogn): 10*nlogn\\nn, t\\n16, 16*4*10\\n128, 128*7*10\\n1024, 1024*10*10\\n\\nO(n^2): 2*n^2\\nn, t\\n2, 8\\n4, 32\\n8, 128\\n100, 200000\\n1000, 2000000\\n'"
      ]
     },
     "execution_count": 14,
     "metadata": {},
     "output_type": "execute_result"
    }
   ],
   "source": [
    "\"\"\"\n",
    "O(n): 10n\n",
    "n, t\n",
    "2, 20\n",
    "4, 40\n",
    "100, 1000\n",
    "1000, 10000\n",
    "\n",
    "O(nlogn): 10*nlogn\n",
    "n, t\n",
    "16, 16*4*10\n",
    "128, 128*7*10\n",
    "1024, 1024*10*10\n",
    "\n",
    "O(n^2): 2*n^2\n",
    "n, t\n",
    "2, 8\n",
    "4, 32\n",
    "8, 128\n",
    "100, 200000\n",
    "1000, 2000000\n",
    "\"\"\""
   ]
  },
  {
   "cell_type": "markdown",
   "metadata": {},
   "source": [
    "# PPA 1 - Not Graded"
   ]
  },
  {
   "cell_type": "code",
   "execution_count": 15,
   "metadata": {},
   "outputs": [
    {
     "data": {
      "text/plain": [
       "(True, 3)"
      ]
     },
     "execution_count": 15,
     "metadata": {},
     "output_type": "execute_result"
    },
    {
     "data": {
      "text/plain": [
       "(False, 4)"
      ]
     },
     "execution_count": 15,
     "metadata": {},
     "output_type": "execute_result"
    }
   ],
   "source": [
    "def binarySearchIndexAndComparisons(L, k):\n",
    "  low = 0\n",
    "  high = len(L)-1\n",
    "  comparisons = 0\n",
    "\n",
    "  while low <= high:\n",
    "    comparisons += 1\n",
    "\n",
    "    mid = (low+high)//2\n",
    "    if L[mid] == k:\n",
    "      return (True, comparisons)\n",
    "    if L[mid] < k:\n",
    "      low = mid+1\n",
    "    else:\n",
    "      high = mid-1\n",
    "\n",
    "  return (False, comparisons)\n",
    "\n",
    "\n",
    "binarySearchIndexAndComparisons([2, 6, 8, 11, 17, 23, 33, 44, 46, 50, 65], 11)\n",
    "binarySearchIndexAndComparisons([2, 6, 8, 11, 17, 23, 33, 44, 46, 50, 65], 100)"
   ]
  },
  {
   "cell_type": "markdown",
   "metadata": {},
   "source": [
    "# PPA 2 - Not Graded (Counting Sort: $O(n+r)$)"
   ]
  },
  {
   "cell_type": "code",
   "execution_count": 16,
   "metadata": {},
   "outputs": [
    {
     "name": "stdout",
     "output_type": "stream",
     "text": [
      "[0, 0, 0, 0, 1, 1, 1, 1, 1, 2, 2, 2, 2, 3, 3]\n"
     ]
    }
   ],
   "source": [
    "def sortInRange(L, r):  # O(n+r)\n",
    "  count = [0] * r\n",
    "  for x in L:  # O(n)\n",
    "    count[x] += 1\n",
    "\n",
    "  L.clear()\n",
    "  for i in range(r):  # O(r)\n",
    "    L.extend([i] * count[i])\n",
    "\n",
    "\n",
    "L = [2, 0, 1, 1, 2, 3, 0, 2, 1, 0, 3, 1, 2, 1, 0]\n",
    "sortInRange(L, 4)\n",
    "print(L)"
   ]
  },
  {
   "cell_type": "markdown",
   "metadata": {},
   "source": [
    "# GrPA 1"
   ]
  },
  {
   "cell_type": "code",
   "execution_count": 17,
   "metadata": {},
   "outputs": [
    {
     "data": {
      "text/plain": [
       "(['b87', 'c65', 'd34', 'd12', 'd77', 'g54', 'g1', 'g40', 'g5'],\n",
       " ['b87', 'c65', 'd77', 'd34', 'd12', 'g54', 'g40', 'g5', 'g1'])"
      ]
     },
     "execution_count": 17,
     "metadata": {},
     "output_type": "execute_result"
    }
   ],
   "source": [
    "def combinationSort(L):\n",
    "  L1 = sorted(L, key=lambda my_string: my_string[0])\n",
    "\n",
    "  L2 = sorted(L, key=lambda my_string: int(my_string[1:]), reverse=True)\n",
    "  # ['b87', 'd77', 'c65', 'g54', 'g40', 'd34', 'd12', 'g5', 'g1']\n",
    "\n",
    "  L2 = sorted(L2, key=lambda my_string: my_string[0])\n",
    "\n",
    "  return (L1, L2)\n",
    "\n",
    "\n",
    "combinationSort(['d34', 'g54', 'd12', 'b87', 'g1', 'c65', 'g40', 'g5', 'd77'])"
   ]
  },
  {
   "cell_type": "code",
   "execution_count": 18,
   "metadata": {},
   "outputs": [
    {
     "data": {
      "text/plain": [
       "[('muskan', 20, 40),\n",
       " ('vidhatri', 20, 45),\n",
       " ('cmd', 19, 50),\n",
       " ('rahul', 21, 65),\n",
       " ('harikesh', 18, 70),\n",
       " ('harikesh', 21, 70),\n",
       " ('harikesh', 25, 70),\n",
       " ('harikesh', 18, 80)]"
      ]
     },
     "execution_count": 18,
     "metadata": {},
     "output_type": "execute_result"
    }
   ],
   "source": [
    "friends = [\n",
    "    ('vidhatri', 20, 45),\n",
    "    ('muskan', 20, 40),\n",
    "    ('cmd', 19, 50),\n",
    "    ('harikesh', 18, 80),\n",
    "    ('harikesh', 18, 70),\n",
    "    ('harikesh', 25, 70),\n",
    "    ('harikesh', 21, 70),\n",
    "    ('rahul', 21, 65)\n",
    "]\n",
    "\n",
    "sorted(friends, key=lambda data: (data[2], data[1]))"
   ]
  },
  {
   "cell_type": "code",
   "execution_count": 19,
   "metadata": {},
   "outputs": [
    {
     "name": "stdout",
     "output_type": "stream",
     "text": [
      "hello, how are u?\n",
      "25\n"
     ]
    }
   ],
   "source": [
    "# autopep8: off\n",
    "hello = lambda msg: f'hello, {msg}'\n",
    "square = lambda x: x ** 2\n",
    "\n",
    "print(hello('how are u?'))\n",
    "print(square(5))"
   ]
  },
  {
   "cell_type": "code",
   "execution_count": 20,
   "metadata": {},
   "outputs": [
    {
     "data": {
      "text/plain": [
       "[('vidu', '🤷'), ('rahul', '😍'), ('muskan', '👁️'), ('cmd', '😐')]"
      ]
     },
     "execution_count": 20,
     "metadata": {},
     "output_type": "execute_result"
    }
   ],
   "source": [
    "L = [('rahul', '😍'), ('muskan', '👁️'), ('vidu', '🤷'), ('cmd', '😐')]  # list of (data) tuples\n",
    "# L = [   100,                50,              101,            0         ] # keys\n",
    "\n",
    "marks = {\n",
    "    'rahul': 100,\n",
    "    'vidu': 101,\n",
    "    'cmd': 0,\n",
    "    'muskan': 50,\n",
    "}\n",
    "\n",
    "sorted(L, key=lambda my_tuple: marks[my_tuple[0]], reverse=True)"
   ]
  },
  {
   "cell_type": "markdown",
   "metadata": {},
   "source": [
    "# GrPA 2"
   ]
  },
  {
   "cell_type": "code",
   "execution_count": 44,
   "metadata": {},
   "outputs": [
    {
     "name": "stdout",
     "output_type": "stream",
     "text": [
      "8\n",
      "8\n",
      "8\n",
      "8\n",
      "8\n"
     ]
    }
   ],
   "source": [
    "def findLargest(L):\n",
    "  return max(L)\n",
    "\n",
    "\n",
    "print(findLargest([2, 4, 5, 7, 8]))\n",
    "print(findLargest([8, 2, 4, 5, 7]))\n",
    "print(findLargest([7, 8, 2, 4, 5]))\n",
    "print(findLargest([5, 7, 8, 2, 4]))\n",
    "print(findLargest([4, 5, 7, 8, 2]))"
   ]
  },
  {
   "cell_type": "code",
   "execution_count": 102,
   "metadata": {},
   "outputs": [
    {
     "name": "stdout",
     "output_type": "stream",
     "text": [
      "[10, 1, 2, 3, 4, 5, 6, 7, 8, 9] 10\n",
      "[9, 10, 1, 2, 3, 4, 5, 6, 7, 8] 10\n",
      "[8, 9, 10, 1, 2, 3, 4, 5, 6, 7] 10\n",
      "[7, 8, 9, 10, 1, 2, 3, 4, 5, 6] 10\n",
      "[6, 7, 8, 9, 10, 1, 2, 3, 4, 5] 10\n",
      "[5, 6, 7, 8, 9, 10, 1, 2, 3, 4] 10\n",
      "[4, 5, 6, 7, 8, 9, 10, 1, 2, 3] 10\n",
      "[3, 4, 5, 6, 7, 8, 9, 10, 1, 2] 10\n",
      "[2, 3, 4, 5, 6, 7, 8, 9, 10, 1] 10\n",
      "[1, 2, 3, 4, 5, 6, 7, 8, 9, 10] 10\n"
     ]
    }
   ],
   "source": [
    "def findLargest(L):\n",
    "  max_x = L[0]\n",
    "  for x in L:\n",
    "    if x > max_x:\n",
    "      max_x = x\n",
    "  return max_x\n",
    "\n",
    "\n",
    "# print(findLargest([2, 4, 5, 7, 8]))\n",
    "# print(findLargest([8, 2, 4, 5, 7]))\n",
    "# print(findLargest([7, 8, 2, 4, 5]))\n",
    "# print(findLargest([5, 7, 8, 2, 4]))\n",
    "# print(findLargest([4, 5, 7, 8, 2]))\n",
    "\n",
    "\n",
    "n = 10\n",
    "L = list(range(1, n+1))\n",
    "for i in range(1, n+1):\n",
    "  test = L[n-i:] + L[:n-i]\n",
    "  print(test, findLargest(test))"
   ]
  },
  {
   "cell_type": "code",
   "execution_count": 119,
   "metadata": {},
   "outputs": [
    {
     "name": "stdout",
     "output_type": "stream",
     "text": [
      "8\n",
      "8\n",
      "7\n",
      "8\n",
      "7\n"
     ]
    }
   ],
   "source": [
    "def findLargest(L):\n",
    "  low = 0\n",
    "  high = len(L)-1\n",
    "\n",
    "  while low <= high:  # O(logn)\n",
    "    mid = (low+high)//2\n",
    "    if L[0] > L[mid]:\n",
    "      high = mid-1  # left me jana\n",
    "    elif L[-1] > L[mid]:\n",
    "      low = mid+1  # right me jana\n",
    "    else:\n",
    "      return L[mid]\n",
    "\n",
    "\n",
    "print(findLargest([2, 4, 5, 7, 8]))\n",
    "print(findLargest([8, 2, 4, 5, 7]))\n",
    "print(findLargest([7, 8, 2, 4, 5]))\n",
    "print(findLargest([5, 7, 8, 2, 4]))\n",
    "print(findLargest([4, 5, 7, 8, 2]))"
   ]
  },
  {
   "cell_type": "code",
   "execution_count": 101,
   "metadata": {},
   "outputs": [
    {
     "name": "stdout",
     "output_type": "stream",
     "text": [
      "8\n",
      "7\n",
      "8\n",
      "8\n",
      "8\n"
     ]
    }
   ],
   "source": [
    "comparisons = 0\n",
    "\n",
    "\n",
    "def findLargest(L):\n",
    "  low = 0\n",
    "  high = len(L)-1\n",
    "  n = len(L)\n",
    "\n",
    "  while low <= high:  # O(logn)\n",
    "    global comparisons\n",
    "    comparisons += 1\n",
    "\n",
    "    mid = (low+high)//2\n",
    "    if mid-1 > 0 and L[mid-1] > L[mid]:\n",
    "      high = mid-1  # left me jana\n",
    "    elif mid+1 < n and L[mid+1] > L[mid]:\n",
    "      low = mid+1  # right me jana\n",
    "    else:\n",
    "      return L[mid]\n",
    "\n",
    "\n",
    "# print(findLargest(list(range(2 ** 20 + 1))), comparisons)\n",
    "\n",
    "print(findLargest([2, 4, 5, 7, 8]))\n",
    "print(findLargest([8, 2, 4, 5, 7]))\n",
    "print(findLargest([7, 8, 2, 4, 5]))\n",
    "print(findLargest([5, 7, 8, 2, 4]))\n",
    "print(findLargest([4, 5, 7, 8, 2]))\n",
    "\n",
    "# print(findLargest([7, 8, 2, 4, 5]))\n",
    "# print(findLargest([2, 4, 5, 7, 9]))\n",
    "\n",
    "# print(findLargest([3, 3, 3, 3, 3]))"
   ]
  },
  {
   "cell_type": "markdown",
   "metadata": {},
   "source": [
    "### Roshni 1 [Passes public but fails private cases]"
   ]
  },
  {
   "cell_type": "code",
   "execution_count": 103,
   "metadata": {},
   "outputs": [
    {
     "name": "stdout",
     "output_type": "stream",
     "text": [
      "[10, 1, 2, 3, 4, 5, 6, 7, 8, 9] 10\n",
      "[9, 10, 1, 2, 3, 4, 5, 6, 7, 8] 10\n",
      "[8, 9, 10, 1, 2, 3, 4, 5, 6, 7] 10\n",
      "[7, 8, 9, 10, 1, 2, 3, 4, 5, 6] 10\n",
      "[6, 7, 8, 9, 10, 1, 2, 3, 4, 5] 10\n",
      "[5, 6, 7, 8, 9, 10, 1, 2, 3, 4] 10\n",
      "[4, 5, 6, 7, 8, 9, 10, 1, 2, 3] 10\n",
      "[3, 4, 5, 6, 7, 8, 9, 10, 1, 2] 10\n",
      "[2, 3, 4, 5, 6, 7, 8, 9, 10, 1] 10\n",
      "[1, 2, 3, 4, 5, 6, 7, 8, 9, 10] 10\n"
     ]
    }
   ],
   "source": [
    "comparisons = 0\n",
    "\n",
    "\n",
    "def findLargest(L):\n",
    "  global comparisons\n",
    "  comparisons += 1\n",
    "\n",
    "  if len(L) == 1:\n",
    "    return L[0]\n",
    "\n",
    "  left = 0\n",
    "  right = len(L) - 1\n",
    "  mid = (left + right)//2  # middle index\n",
    "\n",
    "  if L[mid - 1] > L[mid]:  # 7,8,2,4,5\n",
    "    return (L[mid-1])\n",
    "\n",
    "  if L[mid] > L[mid + 1]:  # 5,7,8,2,4\n",
    "    return (L[mid])\n",
    "\n",
    "  if L[0] < L[mid] < L[-1]:\n",
    "    return (findLargest(L[mid+1:]))  # go R\n",
    "\n",
    "  if L[0] > L[mid] < L[-1]:\n",
    "    return (findLargest(L[:mid]))  # go L\n",
    "\n",
    "  if L[0] < L[mid] > L[-1]:\n",
    "    return (findLargest(L[mid+1:]))  # go R\n",
    "\n",
    "\n",
    "# print(findLargest(list(range(2 ** 20 + 1))), comparisons)\n",
    "\n",
    "# print(findLargest([2, 4, 5, 7, 8]))\n",
    "# print(findLargest([8, 2, 4, 5, 7]))\n",
    "# print(findLargest([7, 8, 2, 4, 5]))\n",
    "# print(findLargest([5, 7, 8, 2, 4]))\n",
    "# print(findLargest([4, 5, 7, 8, 2]))\n",
    "\n",
    "# print(findLargest([7, 8, 2, 4, 5]))\n",
    "# print(findLargest([2, 4, 5, 7, 9]))\n",
    "\n",
    "# print(findLargest([3, 3, 3, 3, 3]))\n",
    "\n",
    "n = 10\n",
    "L = list(range(1, n+1))\n",
    "for i in range(1, n+1):\n",
    "  test = L[n-i:] + L[:n-i]\n",
    "  print(test, findLargest(test))"
   ]
  },
  {
   "cell_type": "markdown",
   "metadata": {},
   "source": [
    "### Roshni 2 [Passes public but fails private cases]"
   ]
  },
  {
   "cell_type": "code",
   "execution_count": 117,
   "metadata": {},
   "outputs": [
    {
     "name": "stdout",
     "output_type": "stream",
     "text": [
      "[10, 1, 2, 3, 4, 5, 6, 7, 8, 9] 10\n",
      "[9, 10, 1, 2, 3, 4, 5, 6, 7, 8] 10\n",
      "[8, 9, 10, 1, 2, 3, 4, 5, 6, 7] 10\n",
      "[7, 8, 9, 10, 1, 2, 3, 4, 5, 6] 10\n",
      "[6, 7, 8, 9, 10, 1, 2, 3, 4, 5] 10\n",
      "[5, 6, 7, 8, 9, 10, 1, 2, 3, 4] 10\n",
      "[4, 5, 6, 7, 8, 9, 10, 1, 2, 3] 10\n",
      "[3, 4, 5, 6, 7, 8, 9, 10, 1, 2] 10\n",
      "[2, 3, 4, 5, 6, 7, 8, 9, 10, 1] 10\n",
      "[1, 2, 3, 4, 5, 6, 7, 8, 9, 10] 10\n"
     ]
    }
   ],
   "source": [
    "def findLargest(L):\n",
    "  if len(L) == 1:\n",
    "    return (L[0])\n",
    "\n",
    "  left = 0\n",
    "  right = len(L)\n",
    "  mid = (left + right)//2  # middle index\n",
    "\n",
    "  if L[mid] > L[left]:\n",
    "    return (findLargest(L[mid:]))  # go R\n",
    "  else:\n",
    "    return (findLargest(L[:mid]))  # go L\n",
    "\n",
    "\n",
    "n = 10\n",
    "L = list(range(1, n+1))\n",
    "for i in range(1, n+1):\n",
    "  test = L[n-i:] + L[:n-i]\n",
    "  print(test, findLargest(test))"
   ]
  },
  {
   "cell_type": "markdown",
   "metadata": {},
   "source": [
    "### External Solution [Passes Pvt cases]"
   ]
  },
  {
   "cell_type": "code",
   "execution_count": 115,
   "metadata": {},
   "outputs": [
    {
     "name": "stdout",
     "output_type": "stream",
     "text": [
      "[10, 1, 2, 3, 4, 5, 6, 7, 8, 9] 10\n",
      "[9, 10, 1, 2, 3, 4, 5, 6, 7, 8] 10\n",
      "[8, 9, 10, 1, 2, 3, 4, 5, 6, 7] 10\n",
      "[7, 8, 9, 10, 1, 2, 3, 4, 5, 6] 10\n",
      "[6, 7, 8, 9, 10, 1, 2, 3, 4, 5] 10\n",
      "[5, 6, 7, 8, 9, 10, 1, 2, 3, 4] 10\n",
      "[4, 5, 6, 7, 8, 9, 10, 1, 2, 3] 10\n",
      "[3, 4, 5, 6, 7, 8, 9, 10, 1, 2] 10\n",
      "[2, 3, 4, 5, 6, 7, 8, 9, 10, 1] 10\n",
      "[1, 2, 3, 4, 5, 6, 7, 8, 9, 10] 10\n"
     ]
    }
   ],
   "source": [
    "def findLargest(L):\n",
    "  left = 0\n",
    "  right = len(L)\n",
    "\n",
    "  while left < right:\n",
    "    mid = (left+right)//2\n",
    "    if L[mid] > L[left]:\n",
    "      left = mid  # go R\n",
    "    else:\n",
    "      right = mid  # go L\n",
    "\n",
    "  return L[left]\n",
    "\n",
    "\n",
    "n = 10\n",
    "L = list(range(1, n+1))\n",
    "for i in range(1, n+1):\n",
    "  test = L[n-i:] + L[:n-i]\n",
    "  print(test, findLargest(test))"
   ]
  },
  {
   "cell_type": "markdown",
   "metadata": {},
   "source": [
    "# GrPA 3"
   ]
  },
  {
   "cell_type": "code",
   "execution_count": 26,
   "metadata": {},
   "outputs": [
    {
     "data": {
      "text/plain": [
       "'\\n[2, 4, 6, 9, 13, 15]\\n =\\n[1, 3, 5, 10]\\n =\\n \\n[1, 4, 6, 9, 13, 15]\\n    =\\n[2, 3, 5, 10]\\n =\\n\\n[1, 2, 6, 9, 13, 15]\\n       =\\n[4, 3, 5, 10]\\n =\\n\\n[1, 2, 4, 9, 13, 15]\\n          =\\n[6, 3, 5, 10]\\n =\\n\\n[1, 2, 4, 6, 13, 15]\\n             =\\n[9, 3, 5, 10]\\n =\\n\\n[1, 2, 4, 6, 9, 15]\\n                =\\n[13, 3, 5, 10]\\n =\\n\\n[1, 2, 4, 6, 9, 13]\\n                =\\n[15, 3, 5, 10]\\n =\\n'"
      ]
     },
     "execution_count": 26,
     "metadata": {},
     "output_type": "execute_result"
    }
   ],
   "source": [
    "\"\"\"\n",
    "[2, 4, 6, 9, 13, 15]\n",
    " =\n",
    "[1, 3, 5, 10]\n",
    " =\n",
    " \n",
    "[1, 4, 6, 9, 13, 15]\n",
    "    =\n",
    "[2, 3, 5, 10]\n",
    " =\n",
    "\n",
    "[1, 2, 6, 9, 13, 15]\n",
    "       =\n",
    "[4, 3, 5, 10]\n",
    " =\n",
    "\n",
    "[1, 2, 4, 9, 13, 15]\n",
    "          =\n",
    "[6, 3, 5, 10]\n",
    " =\n",
    "\n",
    "[1, 2, 4, 6, 13, 15]\n",
    "             =\n",
    "[9, 3, 5, 10]\n",
    " =\n",
    "\n",
    "[1, 2, 4, 6, 9, 15]\n",
    "                =\n",
    "[13, 3, 5, 10]\n",
    " =\n",
    "\n",
    "[1, 2, 4, 6, 9, 13]\n",
    "                =\n",
    "[15, 3, 5, 10]\n",
    " =\n",
    "\"\"\""
   ]
  },
  {
   "cell_type": "code",
   "execution_count": 118,
   "metadata": {},
   "outputs": [
    {
     "name": "stdout",
     "output_type": "stream",
     "text": [
      "[2, 4, 6, 9, 13, 15]\n"
     ]
    }
   ],
   "source": [
    "def mergeInPlace(A, B):\n",
    "  m, n = len(A), len(B)\n",
    "  i, j = 0, 0\n",
    "\n",
    "  while i < m:\n",
    "    if B[0] < A[i]:\n",
    "      # A.swap(i, B, j)\n",
    "      ...\n",
    "    i += 1\n",
    "\n",
    "\n",
    "A = [2, 4, 6, 9, 13, 15]\n",
    "B = [1, 3, 5, 10]\n",
    "mergeInPlace(A, B)\n",
    "print(A)"
   ]
  },
  {
   "cell_type": "markdown",
   "metadata": {},
   "source": [
    "### External Solution $O(n^2)$"
   ]
  },
  {
   "cell_type": "code",
   "execution_count": 136,
   "metadata": {},
   "outputs": [],
   "source": [
    "def reform(B):\n",
    "  n = len(B)\n",
    "  for i in range(1, n):\n",
    "    if B[i-1] > B[i]:\n",
    "      B.swap(i-1, B, i)\n",
    "\n",
    "\n",
    "def mergeInPlace(A, B):\n",
    "  n = len(A)\n",
    "  for i in range(n):\n",
    "    if A[i] > B[0]:\n",
    "      A.swap(i, B, 0)\n",
    "      reform(B)"
   ]
  },
  {
   "cell_type": "markdown",
   "metadata": {},
   "source": [
    "### Roshni $O(n^2)$"
   ]
  },
  {
   "cell_type": "code",
   "execution_count": 137,
   "metadata": {},
   "outputs": [],
   "source": [
    "def mergeInPlace(A, B):\n",
    "\n",
    "  m = len(A)\n",
    "  n = len(B)\n",
    "\n",
    "  # A is sorted\n",
    "  for i in range(m):\n",
    "    for j in range(n):\n",
    "      if B[j] < A[i]:\n",
    "        A.swap(i, B, j)\n",
    "        # (A[i], B[j]) = (B[j], A[i])\n",
    "\n",
    "  # for sorting B in place\n",
    "  for i in range(n):\n",
    "    for j in range(i+1, n):\n",
    "      if B[j] < B[i]:\n",
    "        B.swap(i, B, j)\n",
    "        # (B[i], B[j]) = (B[j], B[i])"
   ]
  }
 ],
 "metadata": {
  "kernelspec": {
   "display_name": "Python 3",
   "language": "python",
   "name": "python3"
  },
  "language_info": {
   "codemirror_mode": {
    "name": "ipython",
    "version": 3
   },
   "file_extension": ".py",
   "mimetype": "text/x-python",
   "name": "python",
   "nbconvert_exporter": "python",
   "pygments_lexer": "ipython3",
   "version": "3.12.0"
  }
 },
 "nbformat": 4,
 "nbformat_minor": 2
}
