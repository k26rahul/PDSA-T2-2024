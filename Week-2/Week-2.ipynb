{
 "cells": [
  {
   "cell_type": "markdown",
   "metadata": {},
   "source": [
    "# Complexity\n",
    "\n",
    "### Asymptotic analysis\n",
    "\n",
    "🔗 Analyzing algorithms in 7 minutes — Asymptotic Notation (https://www.youtube.com/watch?v=u8AprTUkJjM)\n",
    "\n",
    "🔗 Time Complexity of Algorithms and Asymptotic Notations #1 [Codearchery] (https://www.youtube.com/watch?v=bxgTDN9c6rg)\n",
    "\n",
    "🔗 Amortized analysis (https://stackoverflow.com/questions/11102585/what-is-amortized-analysis-of-algorithms) 😲\n",
    "\n",
    "### Big O Notation\n",
    "\n",
    "🔗 Why My Teenage Code Was Terrible: Sorting Algorithms and Big O Notation [Tom Scott] (https://www.youtube.com/watch?v=RGuJga2Gl_k)\n",
    "\n",
    "🔗 Big-O notation in 5 minutes (https://www.youtube.com/watch?v=__vX2sjlpXU)\n",
    "\n",
    "🔗 Big-O Notation - For Coding Interviews [NeetCode] (https://www.youtube.com/watch?v=BgLTDT03QtU)\n",
    "\n",
    "👉 **In big O notation,** the growth rate of a function refers to how the amount of time it takes to execute the function grows in relation to the size of the input.\n",
    "\n",
    "- $O(1)$ - *constant time*\n",
    "- $O(logn)$ - *logarithmic time*\n",
    "- $O(n)$ - *linear time*\n",
    "- $O(nlogn)$ - *linearithmic time*\n",
    "- $O(n²)$ - *quadratic time*\n",
    "- $O(n³)$ - *cubic time*\n",
    "- $O(2^n)$ - *exponential time*\n",
    "- $O(n!)$ - *factorial time*"
   ]
  },
  {
   "cell_type": "markdown",
   "metadata": {},
   "source": [
    "# Searching Algorithm"
   ]
  },
  {
   "cell_type": "markdown",
   "metadata": {},
   "source": [
    "## Linear Search"
   ]
  },
  {
   "cell_type": "code",
   "execution_count": 45,
   "metadata": {},
   "outputs": [
    {
     "name": "stdout",
     "output_type": "stream",
     "text": [
      "0\n",
      "4\n",
      "-1\n"
     ]
    }
   ],
   "source": [
    "def linear_search(L, v):\n",
    "  for i in range(len(L)):\n",
    "    if L[i] == v:\n",
    "      return i\n",
    "  return -1\n",
    "\n",
    "\n",
    "print(linear_search([15, 16, 10, 11, 1], 15))\n",
    "print(linear_search([15, 16, 10, 11, 1], 1))\n",
    "print(linear_search([15, 16, 10, 11, 1], 20))"
   ]
  },
  {
   "cell_type": "markdown",
   "metadata": {},
   "source": [
    "## Binary Search\n",
    "\n",
    "🔗 How Binary Search Makes Computers Much, Much Faster [Tom Scott] (https://www.youtube.com/watch?v=KXJSjte_OAI)\n",
    "\n",
    "🔗 Binary Search Algorithm in 100 Seconds (https://youtu.be/MFhxShGxHWc)\n",
    "\n",
    "🔗 Binary search in 4 minutes (https://youtu.be/fDKIpRe8GW4)"
   ]
  },
  {
   "cell_type": "code",
   "execution_count": 46,
   "metadata": {},
   "outputs": [
    {
     "name": "stdout",
     "output_type": "stream",
     "text": [
      "0\n",
      "2\n",
      "4\n",
      "-1\n"
     ]
    }
   ],
   "source": [
    "def binary_search(L, v):\n",
    "  low = 0\n",
    "  high = len(L)-1\n",
    "  while low <= high:\n",
    "    mid = (low+high)//2\n",
    "    if L[mid] < v:\n",
    "      low = mid+1\n",
    "    elif L[mid] > v:\n",
    "      high = mid-1\n",
    "    else:\n",
    "      return mid\n",
    "  return -1\n",
    "\n",
    "\n",
    "print(binary_search([17, 18, 19, 25, 26], 17))\n",
    "print(binary_search([17, 18, 19, 25, 26], 19))\n",
    "print(binary_search([17, 18, 19, 25, 26], 26))\n",
    "print(binary_search([17, 18, 19, 25, 26], 20))"
   ]
  },
  {
   "cell_type": "markdown",
   "metadata": {},
   "source": [
    "### Recursive Implementation without slicing"
   ]
  },
  {
   "cell_type": "code",
   "execution_count": 47,
   "metadata": {},
   "outputs": [
    {
     "name": "stdout",
     "output_type": "stream",
     "text": [
      "0\n",
      "2\n",
      "4\n",
      "-1\n"
     ]
    }
   ],
   "source": [
    "def binary_search_recursive(L, v, low=None, high=None):\n",
    "  if low is None:\n",
    "    low = 0\n",
    "    high = len(L)-1\n",
    "\n",
    "  if low > high:\n",
    "    return -1\n",
    "\n",
    "  mid = (low+high)//2\n",
    "  if L[mid] == v:\n",
    "    return mid\n",
    "\n",
    "  if L[mid] < v:\n",
    "    low = mid+1\n",
    "  else:\n",
    "    high = mid-1\n",
    "  return binary_search_recursive(L, v, low, high)\n",
    "\n",
    "\n",
    "print(binary_search_recursive([17, 18, 19, 25, 26], 17))\n",
    "print(binary_search_recursive([17, 18, 19, 25, 26], 19))\n",
    "print(binary_search_recursive([17, 18, 19, 25, 26], 26))\n",
    "print(binary_search_recursive([17, 18, 19, 25, 26], 20))"
   ]
  },
  {
   "cell_type": "markdown",
   "metadata": {},
   "source": [
    "# Sorting Algorithm"
   ]
  },
  {
   "cell_type": "code",
   "execution_count": 48,
   "metadata": {},
   "outputs": [
    {
     "name": "stdout",
     "output_type": "stream",
     "text": [
      "[11, 10, 5]\n"
     ]
    }
   ],
   "source": [
    "def swap(L, i, j):\n",
    "  L[i], L[j] = L[j], L[i]\n",
    "\n",
    "\n",
    "L = [10, 11, 5]\n",
    "swap(L, 0, 1)\n",
    "print(L)"
   ]
  },
  {
   "cell_type": "markdown",
   "metadata": {},
   "source": [
    "## Bubble sort\n",
    "\n",
    "At each step, if two adjacent elements of a list are not in order, they will be swapped.\n",
    "\n",
    "Thus, smaller elements will \"bubble\" to the front, (or bigger elements will be \"bubbled\" to the back) and hence the name \"bubble sort\".\n",
    "\n",
    "**Bubble sort is stable,** as two equal elements will never be swapped.\n",
    "\n",
    "**Sort in Place - Yes**\n",
    "\n",
    "🔗 Bubble sort in 2 minutes (https://www.youtube.com/watch?v=xli_FI7CuzA)\n",
    "\n",
    "🔗 https://en.wikipedia.org/wiki/Bubble_sort\n",
    "\n",
    "🔗 https://algorithmist.com/wiki/Bubble_sort"
   ]
  },
  {
   "cell_type": "code",
   "execution_count": 49,
   "metadata": {},
   "outputs": [
    {
     "data": {
      "text/plain": [
       "[2, 3, 4, 5, 8]"
      ]
     },
     "execution_count": 49,
     "metadata": {},
     "output_type": "execute_result"
    }
   ],
   "source": [
    "def bubble_sort(L):\n",
    "  n = len(L)\n",
    "  for i in range(n):\n",
    "    # print(f'{L=}')\n",
    "    for j in range(n-1-i):  # Last i elements are already in place\n",
    "      # print(f'{i=}, {j=}, {j+1=}')\n",
    "      if L[j] > L[j+1]:\n",
    "        swap(L, j, j+1)\n",
    "  return L\n",
    "\n",
    "\n",
    "bubble_sort([5, 3, 8, 2, 4])\n",
    "# bubble_sort([2, 3, 4, 5, 8])"
   ]
  },
  {
   "cell_type": "markdown",
   "metadata": {},
   "source": [
    "### Optimization: keep track of whether or not an element was swapped:"
   ]
  },
  {
   "cell_type": "code",
   "execution_count": 50,
   "metadata": {},
   "outputs": [
    {
     "data": {
      "text/plain": [
       "[2, 3, 4, 5, 8]"
      ]
     },
     "execution_count": 50,
     "metadata": {},
     "output_type": "execute_result"
    }
   ],
   "source": [
    "def bubble_sort_swapped(L):\n",
    "  n = len(L)\n",
    "  i, swapped = 0, True\n",
    "  while swapped and i < n:\n",
    "    swapped = False\n",
    "    # print(f'{L=}')\n",
    "    for j in range(n-1-i):  # Last i elements are already in place\n",
    "      # print(f'{i=}, {j=}, {j+1=}')\n",
    "      if L[j] > L[j+1]:\n",
    "        swap(L, j, j+1)\n",
    "        swapped = True\n",
    "    i += 1\n",
    "  return L\n",
    "\n",
    "\n",
    "bubble_sort_swapped([5, 3, 8, 2, 4])\n",
    "# bubble_sort_swapped([2, 3, 4, 5, 8])"
   ]
  },
  {
   "cell_type": "markdown",
   "metadata": {},
   "source": [
    "## Selection sort\n",
    "\n",
    "Take the smallest entry from the unsorted portion of an array and build a sorted array at the front, entry by entry.\n",
    "\n",
    "1. At each iteration find the smallest entry (the `key`) in the unsorted portion of the array.\n",
    "2. Swap the `key` with the the i-th entry.\n",
    "\n",
    "**Stable - No**\n",
    "\n",
    "**Sort in Place - Yes**\n",
    "\n",
    "🔗 Selection sort in 3 minutes (https://www.youtube.com/watch?v=g-PGLbMth_g)\n",
    "\n",
    "🔗 https://en.wikipedia.org/wiki/Selection_sort"
   ]
  },
  {
   "cell_type": "code",
   "execution_count": 51,
   "metadata": {},
   "outputs": [
    {
     "data": {
      "text/plain": [
       "[2, 3, 4, 5, 8]"
      ]
     },
     "execution_count": 51,
     "metadata": {},
     "output_type": "execute_result"
    }
   ],
   "source": [
    "def selection_sort(L):\n",
    "  n = len(L)\n",
    "  for i in range(n):\n",
    "    # print(f'{L=}')\n",
    "    key_idx = i\n",
    "    for j in range(key_idx+1, n):\n",
    "      # print(f'{key_idx=}, {j=}')\n",
    "      if L[j] < L[key_idx]:\n",
    "        key_idx = j\n",
    "\n",
    "    if key_idx != i:\n",
    "      swap(L, key_idx, i)\n",
    "  return L\n",
    "\n",
    "\n",
    "selection_sort([5, 3, 8, 2, 4])\n",
    "# selection_sort([2, 3, 4, 5, 8])"
   ]
  },
  {
   "cell_type": "markdown",
   "metadata": {},
   "source": [
    "## Insertion sort\n",
    "\n",
    "At each iteration, insertion sort removes one element from the input data, finds the location it belongs within the sorted list, and inserts it there.\n",
    "\n",
    "**Stable - Yes**\n",
    "\n",
    "**Sort in Place - Yes**\n",
    "\n",
    "🔗 Insertion sort in 2 minutes (https://www.youtube.com/watch?v=JU767SDMDvA)\n",
    "\n",
    "🔗 https://en.wikipedia.org/wiki/Insertion_sort"
   ]
  },
  {
   "cell_type": "code",
   "execution_count": 52,
   "metadata": {},
   "outputs": [
    {
     "data": {
      "text/plain": [
       "[2, 3, 4, 5, 8]"
      ]
     },
     "execution_count": 52,
     "metadata": {},
     "output_type": "execute_result"
    }
   ],
   "source": [
    "def insertion_sort(L):\n",
    "  n = len(L)\n",
    "  for i in range(1, n):\n",
    "    # print(f'{L=}')\n",
    "    for j in range(i, 0, -1):\n",
    "      # print(f'{i=}, {j=}, {j-1=}')\n",
    "      if L[j-1] > L[j]:\n",
    "        swap(L, j-1, j)\n",
    "      else:\n",
    "        break\n",
    "  return L\n",
    "\n",
    "\n",
    "insertion_sort([5, 3, 8, 2, 4])\n",
    "# insertion_sort([2, 3, 4, 5, 8])"
   ]
  },
  {
   "cell_type": "markdown",
   "metadata": {},
   "source": [
    "### Better: inner `while` loop:"
   ]
  },
  {
   "cell_type": "code",
   "execution_count": 53,
   "metadata": {},
   "outputs": [
    {
     "data": {
      "text/plain": [
       "[2, 3, 4, 5, 8]"
      ]
     },
     "execution_count": 53,
     "metadata": {},
     "output_type": "execute_result"
    }
   ],
   "source": [
    "def insertion_sort_while(L):\n",
    "  n = len(L)\n",
    "  for i in range(1, n):\n",
    "    # print(f'{L=}')\n",
    "    j = i\n",
    "    while j > 0 and L[j-1] > L[j]:\n",
    "      # print(f'{i=}, {j=}, {j-1=}')\n",
    "      swap(L, j-1, j)\n",
    "      j -= 1\n",
    "  return L\n",
    "\n",
    "\n",
    "insertion_sort_while([5, 3, 8, 2, 4])\n",
    "# insertion_sort_while([2, 3, 4, 5, 8])"
   ]
  },
  {
   "cell_type": "markdown",
   "metadata": {},
   "source": [
    "## Merge Sort\n",
    "\n",
    "\n",
    "Uses the divide-and-conquer technique.\n",
    "\n",
    "It works by recursively dividing an list into two halves, sorting each half separately, and then merging them back together into a single sorted list. \n",
    "\n",
    "\n",
    "The recurrence is thus: $ \\displaystyle T(n)=T({\\frac {n}{2}})+T({\\frac {n}{2}})+O (n) $, which solves to: $ \\displaystyle T(n)=O (n\\log n) $\n",
    "\n",
    "It always runs in $O(n \\log n)$ time.\n",
    "\n",
    "**Stable - Yes**\n",
    "\n",
    "**Sort in Place - No**\n",
    "\n",
    "🔗 Merge sort in 3 minutes (https://www.youtube.com/watch?v=4VqmGXwpLqc)\n",
    "\n",
    "🔗 https://en.wikipedia.org/wiki/Merge_sort"
   ]
  },
  {
   "cell_type": "code",
   "execution_count": 54,
   "metadata": {},
   "outputs": [],
   "source": [
    "def merge(left, right):\n",
    "  m, n = len(left), len(right)\n",
    "  merged, i, j = [], 0, 0\n",
    "\n",
    "  while i < m and j < n:\n",
    "    if left[i] <= right[j]:\n",
    "      merged.append(left[i])\n",
    "      i += 1\n",
    "    else:\n",
    "      merged.append(right[j])\n",
    "      j += 1\n",
    "\n",
    "  while i < m:\n",
    "    merged.append(left[i])\n",
    "    i += 1\n",
    "\n",
    "  while j < n:\n",
    "    merged.append(right[j])\n",
    "    j += 1\n",
    "\n",
    "  return merged"
   ]
  },
  {
   "cell_type": "code",
   "execution_count": 55,
   "metadata": {},
   "outputs": [
    {
     "data": {
      "text/plain": [
       "[2, 3, 4, 5, 8]"
      ]
     },
     "execution_count": 55,
     "metadata": {},
     "output_type": "execute_result"
    }
   ],
   "source": [
    "def merge_sort(L):\n",
    "  n = len(L)\n",
    "  if n <= 1:\n",
    "    return L\n",
    "  left = merge_sort(L[:n//2])\n",
    "  right = merge_sort(L[n//2:])\n",
    "  return merge(left, right)\n",
    "\n",
    "\n",
    "merge_sort([5, 3, 8, 2, 4])"
   ]
  },
  {
   "cell_type": "markdown",
   "metadata": {},
   "source": [
    "## Test"
   ]
  },
  {
   "cell_type": "code",
   "execution_count": 58,
   "metadata": {},
   "outputs": [],
   "source": [
    "from random import shuffle\n",
    "L = list(range(40))"
   ]
  },
  {
   "cell_type": "code",
   "execution_count": 73,
   "metadata": {},
   "outputs": [
    {
     "name": "stdout",
     "output_type": "stream",
     "text": [
      "[0, 1, 2, 3, 4, 5, 6, 7, 8, 9, 10, 11, 12, 13, 14, 15, 16, 17, 18, 19, 20, 21, 22, 23, 24, 25, 26, 27, 28, 29, 30, 31, 32, 33, 34, 35, 36, 37, 38, 39]\n",
      "[27, 28, 18, 25, 8, 38, 29, 1, 12, 4, 7, 2, 39, 14, 13, 0, 3, 23, 17, 9, 35, 24, 19, 10, 22, 21, 15, 16, 37, 30, 5, 31, 36, 26, 6, 11, 34, 33, 32, 20]\n",
      "False\n",
      "True\n"
     ]
    }
   ],
   "source": [
    "L_shuffled = L[:]\n",
    "shuffle(L_shuffled)  # modifies `L_shuffled` [in-place shuffling]\n",
    "\n",
    "print(L)\n",
    "print(L_shuffled)\n",
    "print(L == L_shuffled)\n",
    "print(L == sorted(L_shuffled))"
   ]
  },
  {
   "cell_type": "code",
   "execution_count": 74,
   "metadata": {},
   "outputs": [],
   "source": [
    "shuffle(L_shuffled)\n",
    "assert L == bubble_sort(L_shuffled)\n",
    "\n",
    "shuffle(L_shuffled)\n",
    "assert L == bubble_sort_swapped(L_shuffled)\n",
    "\n",
    "shuffle(L_shuffled)\n",
    "assert L == selection_sort(L_shuffled)\n",
    "\n",
    "shuffle(L_shuffled)\n",
    "assert L == insertion_sort(L_shuffled)\n",
    "\n",
    "shuffle(L_shuffled)\n",
    "assert L == insertion_sort_while(L_shuffled)\n",
    "\n",
    "shuffle(L_shuffled)\n",
    "assert L == merge_sort(L_shuffled)"
   ]
  }
 ],
 "metadata": {
  "kernelspec": {
   "display_name": "Python 3",
   "language": "python",
   "name": "python3"
  },
  "language_info": {
   "codemirror_mode": {
    "name": "ipython",
    "version": 3
   },
   "file_extension": ".py",
   "mimetype": "text/x-python",
   "name": "python",
   "nbconvert_exporter": "python",
   "pygments_lexer": "ipython3",
   "version": "3.12.0"
  }
 },
 "nbformat": 4,
 "nbformat_minor": 2
}
