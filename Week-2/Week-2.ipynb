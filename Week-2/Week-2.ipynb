{
 "cells": [
  {
   "cell_type": "markdown",
   "metadata": {},
   "source": [
    "# Searching Algorithm"
   ]
  },
  {
   "cell_type": "markdown",
   "metadata": {},
   "source": [
    "## Linear Search"
   ]
  },
  {
   "cell_type": "code",
   "execution_count": 6,
   "metadata": {},
   "outputs": [
    {
     "name": "stdout",
     "output_type": "stream",
     "text": [
      "0\n",
      "4\n",
      "-1\n"
     ]
    }
   ],
   "source": [
    "def linear_search(L, v):\n",
    "  for i in range(len(L)):\n",
    "    if L[i] == v:\n",
    "      return i\n",
    "  return -1\n",
    "\n",
    "\n",
    "print(linear_search([15, 16, 10, 11, 1], 15))\n",
    "print(linear_search([15, 16, 10, 11, 1], 1))\n",
    "print(linear_search([15, 16, 10, 11, 1], 20))"
   ]
  },
  {
   "cell_type": "markdown",
   "metadata": {},
   "source": [
    "## Binary Search"
   ]
  },
  {
   "cell_type": "code",
   "execution_count": 12,
   "metadata": {},
   "outputs": [
    {
     "name": "stdout",
     "output_type": "stream",
     "text": [
      "0\n",
      "2\n",
      "4\n",
      "-1\n"
     ]
    }
   ],
   "source": [
    "def binary_search(L, v):\n",
    "  low = 0\n",
    "  high = len(L)-1\n",
    "  while low <= high:\n",
    "    mid = (low+high)//2\n",
    "    if L[mid] < v:\n",
    "      low = mid+1\n",
    "    elif L[mid] > v:\n",
    "      high = mid-1\n",
    "    else:\n",
    "      return mid\n",
    "  return -1\n",
    "\n",
    "\n",
    "print(binary_search([17, 18, 19, 25, 26], 17))\n",
    "print(binary_search([17, 18, 19, 25, 26], 19))\n",
    "print(binary_search([17, 18, 19, 25, 26], 26))\n",
    "print(binary_search([17, 18, 19, 25, 26], 20))"
   ]
  },
  {
   "cell_type": "markdown",
   "metadata": {},
   "source": [
    "### Recursive Implementation without slicing"
   ]
  },
  {
   "cell_type": "code",
   "execution_count": 16,
   "metadata": {},
   "outputs": [
    {
     "name": "stdout",
     "output_type": "stream",
     "text": [
      "0\n",
      "2\n",
      "4\n",
      "-1\n"
     ]
    }
   ],
   "source": [
    "def binary_search_recursive(L, v, low=None, high=None):\n",
    "  if low is None:\n",
    "    low = 0\n",
    "    high = len(L)-1\n",
    "\n",
    "  if low > high:\n",
    "    return -1\n",
    "\n",
    "  mid = (low+high)//2\n",
    "  if L[mid] == v:\n",
    "    return mid\n",
    "\n",
    "  if L[mid] < v:\n",
    "    low = mid+1\n",
    "  else:\n",
    "    high = mid-1\n",
    "  return binary_search_recursive(L, v, low, high)\n",
    "\n",
    "\n",
    "print(binary_search_recursive([17, 18, 19, 25, 26], 17))\n",
    "print(binary_search_recursive([17, 18, 19, 25, 26], 19))\n",
    "print(binary_search_recursive([17, 18, 19, 25, 26], 26))\n",
    "print(binary_search_recursive([17, 18, 19, 25, 26], 20))"
   ]
  },
  {
   "cell_type": "markdown",
   "metadata": {},
   "source": [
    "# Sorting Algorithm"
   ]
  }
 ],
 "metadata": {
  "kernelspec": {
   "display_name": "Python 3",
   "language": "python",
   "name": "python3"
  },
  "language_info": {
   "codemirror_mode": {
    "name": "ipython",
    "version": 3
   },
   "file_extension": ".py",
   "mimetype": "text/x-python",
   "name": "python",
   "nbconvert_exporter": "python",
   "pygments_lexer": "ipython3",
   "version": "3.12.0"
  }
 },
 "nbformat": 4,
 "nbformat_minor": 2
}
