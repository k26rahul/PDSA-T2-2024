{
 "cells": [
  {
   "cell_type": "markdown",
   "metadata": {},
   "source": [
    "# Searching Algorithm"
   ]
  },
  {
   "cell_type": "markdown",
   "metadata": {},
   "source": [
    "## Linear Search"
   ]
  },
  {
   "cell_type": "code",
   "execution_count": 1,
   "metadata": {},
   "outputs": [
    {
     "name": "stdout",
     "output_type": "stream",
     "text": [
      "0\n",
      "4\n",
      "-1\n"
     ]
    }
   ],
   "source": [
    "def linear_search(L, v):\n",
    "  for i in range(len(L)):\n",
    "    if L[i] == v:\n",
    "      return i\n",
    "  return -1\n",
    "\n",
    "\n",
    "print(linear_search([15, 16, 10, 11, 1], 15))\n",
    "print(linear_search([15, 16, 10, 11, 1], 1))\n",
    "print(linear_search([15, 16, 10, 11, 1], 20))"
   ]
  },
  {
   "cell_type": "markdown",
   "metadata": {},
   "source": [
    "## Binary Search"
   ]
  },
  {
   "cell_type": "code",
   "execution_count": 2,
   "metadata": {},
   "outputs": [
    {
     "name": "stdout",
     "output_type": "stream",
     "text": [
      "0\n",
      "2\n",
      "4\n",
      "-1\n"
     ]
    }
   ],
   "source": [
    "def binary_search(L, v):\n",
    "  low = 0\n",
    "  high = len(L)-1\n",
    "  while low <= high:\n",
    "    mid = (low+high)//2\n",
    "    if L[mid] < v:\n",
    "      low = mid+1\n",
    "    elif L[mid] > v:\n",
    "      high = mid-1\n",
    "    else:\n",
    "      return mid\n",
    "  return -1\n",
    "\n",
    "\n",
    "print(binary_search([17, 18, 19, 25, 26], 17))\n",
    "print(binary_search([17, 18, 19, 25, 26], 19))\n",
    "print(binary_search([17, 18, 19, 25, 26], 26))\n",
    "print(binary_search([17, 18, 19, 25, 26], 20))"
   ]
  },
  {
   "cell_type": "markdown",
   "metadata": {},
   "source": [
    "### Recursive Implementation without slicing"
   ]
  },
  {
   "cell_type": "code",
   "execution_count": 3,
   "metadata": {},
   "outputs": [
    {
     "name": "stdout",
     "output_type": "stream",
     "text": [
      "0\n",
      "2\n",
      "4\n",
      "-1\n"
     ]
    }
   ],
   "source": [
    "def binary_search_recursive(L, v, low=None, high=None):\n",
    "  if low is None:\n",
    "    low = 0\n",
    "    high = len(L)-1\n",
    "\n",
    "  if low > high:\n",
    "    return -1\n",
    "\n",
    "  mid = (low+high)//2\n",
    "  if L[mid] == v:\n",
    "    return mid\n",
    "\n",
    "  if L[mid] < v:\n",
    "    low = mid+1\n",
    "  else:\n",
    "    high = mid-1\n",
    "  return binary_search_recursive(L, v, low, high)\n",
    "\n",
    "\n",
    "print(binary_search_recursive([17, 18, 19, 25, 26], 17))\n",
    "print(binary_search_recursive([17, 18, 19, 25, 26], 19))\n",
    "print(binary_search_recursive([17, 18, 19, 25, 26], 26))\n",
    "print(binary_search_recursive([17, 18, 19, 25, 26], 20))"
   ]
  },
  {
   "cell_type": "markdown",
   "metadata": {},
   "source": [
    "# Sorting Algorithm"
   ]
  },
  {
   "cell_type": "code",
   "execution_count": 4,
   "metadata": {},
   "outputs": [
    {
     "name": "stdout",
     "output_type": "stream",
     "text": [
      "[11, 10, 5]\n"
     ]
    }
   ],
   "source": [
    "def swap(L, i, j):\n",
    "  L[i], L[j] = L[j], L[i]\n",
    "\n",
    "\n",
    "L = [10, 11, 5]\n",
    "swap(L, 0, 1)\n",
    "print(L)"
   ]
  },
  {
   "cell_type": "markdown",
   "metadata": {},
   "source": [
    "## Bubble sort\n",
    "\n",
    "At each step, if two adjacent elements of a list are not in order, they will be swapped.\n",
    "\n",
    "Thus, smaller elements will \"bubble\" to the front, (or bigger elements will be \"bubbled\" to the back) and hence the name \"bubble sort\".\n",
    "\n",
    "**Bubble sort is stable,** as two equal elements will never be swapped.\n",
    "\n",
    "🔗 Bubble sort in 2 minutes (https://www.youtube.com/watch?v=xli_FI7CuzA)\n",
    "\n",
    "🔗 https://en.wikipedia.org/wiki/Bubble_sort\n",
    "\n",
    "🔗 https://algorithmist.com/wiki/Bubble_sort"
   ]
  },
  {
   "cell_type": "code",
   "execution_count": 5,
   "metadata": {},
   "outputs": [
    {
     "name": "stdout",
     "output_type": "stream",
     "text": [
      "L=[5, 3, 8, 2, 4]\n",
      "i=0, j=0, j+1=1\n",
      "i=0, j=1, j+1=2\n",
      "i=0, j=2, j+1=3\n",
      "i=0, j=3, j+1=4\n",
      "L=[3, 5, 2, 4, 8]\n",
      "i=1, j=0, j+1=1\n",
      "i=1, j=1, j+1=2\n",
      "i=1, j=2, j+1=3\n",
      "L=[3, 2, 4, 5, 8]\n",
      "i=2, j=0, j+1=1\n",
      "i=2, j=1, j+1=2\n",
      "L=[2, 3, 4, 5, 8]\n",
      "i=3, j=0, j+1=1\n",
      "L=[2, 3, 4, 5, 8]\n"
     ]
    },
    {
     "data": {
      "text/plain": [
       "[2, 3, 4, 5, 8]"
      ]
     },
     "execution_count": 5,
     "metadata": {},
     "output_type": "execute_result"
    }
   ],
   "source": [
    "def bubble_sort(L):\n",
    "  n = len(L)\n",
    "  for i in range(n):\n",
    "    print(f'{L=}')\n",
    "    for j in range(n-1-i):  # Last i elements are already in place\n",
    "      print(f'{i=}, {j=}, {j+1=}')\n",
    "      if L[j] > L[j+1]:\n",
    "        swap(L, j, j+1)\n",
    "  return L\n",
    "\n",
    "\n",
    "bubble_sort([5, 3, 8, 2, 4])\n",
    "# bubble_sort([2, 3, 4, 5, 8])"
   ]
  },
  {
   "cell_type": "markdown",
   "metadata": {},
   "source": [
    "### Optimization: keep track of whether or not an element was swapped:"
   ]
  },
  {
   "cell_type": "code",
   "execution_count": 6,
   "metadata": {},
   "outputs": [
    {
     "name": "stdout",
     "output_type": "stream",
     "text": [
      "L=[2, 3, 4, 5, 8]\n",
      "i=0, j=0, j+1=1\n",
      "i=0, j=1, j+1=2\n",
      "i=0, j=2, j+1=3\n",
      "i=0, j=3, j+1=4\n"
     ]
    },
    {
     "data": {
      "text/plain": [
       "[2, 3, 4, 5, 8]"
      ]
     },
     "execution_count": 6,
     "metadata": {},
     "output_type": "execute_result"
    }
   ],
   "source": [
    "def bubble_sort_swapped(L):\n",
    "  n = len(L)\n",
    "  i, swapped = 0, True\n",
    "  while swapped and i < n:\n",
    "    swapped = False\n",
    "    print(f'{L=}')\n",
    "    for j in range(n-1-i):  # Last i elements are already in place\n",
    "      print(f'{i=}, {j=}, {j+1=}')\n",
    "      if L[j] > L[j+1]:\n",
    "        swap(L, j, j+1)\n",
    "        swapped = True\n",
    "    i += 1\n",
    "  return L\n",
    "\n",
    "\n",
    "# bubble_sort_swapped([5, 3, 8, 2, 4])\n",
    "bubble_sort_swapped([2, 3, 4, 5, 8])"
   ]
  },
  {
   "cell_type": "markdown",
   "metadata": {},
   "source": [
    "## Selection sort\n",
    "\n",
    "Take the smallest entry from the unsorted portion of an array and build a sorted array at the front, entry by entry.\n",
    "\n",
    "1. At each iteration find the smallest entry (the `key`) in the unsorted portion of the array.\n",
    "2. Swap the `key` with the the i-th entry.\n",
    "\n",
    "**Stable - No**\n",
    "\n",
    "🔗 Selection sort in 3 minutes (https://www.youtube.com/watch?v=g-PGLbMth_g)\n",
    "\n",
    "🔗 https://en.wikipedia.org/wiki/Selection_sort"
   ]
  },
  {
   "cell_type": "code",
   "execution_count": 7,
   "metadata": {},
   "outputs": [
    {
     "name": "stdout",
     "output_type": "stream",
     "text": [
      "L=[5, 3, 8, 2, 4]\n",
      "key_idx=0, j=1\n",
      "key_idx=1, j=2\n",
      "key_idx=1, j=3\n",
      "key_idx=3, j=4\n",
      "L=[2, 3, 8, 5, 4]\n",
      "key_idx=1, j=2\n",
      "key_idx=1, j=3\n",
      "key_idx=1, j=4\n",
      "L=[2, 3, 8, 5, 4]\n",
      "key_idx=2, j=3\n",
      "key_idx=3, j=4\n",
      "L=[2, 3, 4, 5, 8]\n",
      "key_idx=3, j=4\n",
      "L=[2, 3, 4, 5, 8]\n"
     ]
    },
    {
     "data": {
      "text/plain": [
       "[2, 3, 4, 5, 8]"
      ]
     },
     "execution_count": 7,
     "metadata": {},
     "output_type": "execute_result"
    }
   ],
   "source": [
    "def selection_sort(L):\n",
    "  n = len(L)\n",
    "  for i in range(n):\n",
    "    print(f'{L=}')\n",
    "\n",
    "    key_idx = i\n",
    "    for j in range(key_idx+1, n):\n",
    "      print(f'{key_idx=}, {j=}')\n",
    "      if L[j] < L[key_idx]:\n",
    "        key_idx = j\n",
    "\n",
    "    if key_idx != i:\n",
    "      swap(L, key_idx, i)\n",
    "  return L\n",
    "\n",
    "\n",
    "selection_sort([5, 3, 8, 2, 4])\n",
    "# selection_sort([2, 3, 4, 5, 8])"
   ]
  },
  {
   "cell_type": "markdown",
   "metadata": {},
   "source": [
    "## Insertion sort\n",
    "\n",
    "At each iteration, insertion sort removes one element from the input data, finds the location it belongs within the sorted list, and inserts it there.\n",
    "\n",
    "**Stable - Yes**\n",
    "\n",
    "🔗 Insertion sort in 2 minutes (https://www.youtube.com/watch?v=JU767SDMDvA)\n",
    "\n",
    "🔗 https://en.wikipedia.org/wiki/Insertion_sort"
   ]
  },
  {
   "cell_type": "code",
   "execution_count": 43,
   "metadata": {},
   "outputs": [
    {
     "name": "stdout",
     "output_type": "stream",
     "text": [
      "L=[2, 3, 4, 5, 8]\n",
      "i=1, j=1, j-1=0\n",
      "L=[2, 3, 4, 5, 8]\n",
      "i=2, j=2, j-1=1\n",
      "L=[2, 3, 4, 5, 8]\n",
      "i=3, j=3, j-1=2\n",
      "L=[2, 3, 4, 5, 8]\n",
      "i=4, j=4, j-1=3\n"
     ]
    },
    {
     "data": {
      "text/plain": [
       "[2, 3, 4, 5, 8]"
      ]
     },
     "execution_count": 43,
     "metadata": {},
     "output_type": "execute_result"
    }
   ],
   "source": [
    "def insertion_sort(L):\n",
    "  n = len(L)\n",
    "  for i in range(1, n):\n",
    "    print(f'{L=}')\n",
    "    for j in range(i, 0, -1):\n",
    "      print(f'{i=}, {j=}, {j-1=}')\n",
    "      if L[j-1] > L[j]:\n",
    "        swap(L, j-1, j)\n",
    "      else:\n",
    "        break\n",
    "  return L\n",
    "\n",
    "\n",
    "# insertion_sort([5, 3, 8, 2, 4])\n",
    "insertion_sort([2, 3, 4, 5, 8])"
   ]
  },
  {
   "cell_type": "markdown",
   "metadata": {},
   "source": [
    "### Better: inner `while` loop:"
   ]
  },
  {
   "cell_type": "code",
   "execution_count": 44,
   "metadata": {},
   "outputs": [
    {
     "name": "stdout",
     "output_type": "stream",
     "text": [
      "L=[2, 3, 4, 5, 8]\n",
      "L=[2, 3, 4, 5, 8]\n",
      "L=[2, 3, 4, 5, 8]\n",
      "L=[2, 3, 4, 5, 8]\n"
     ]
    },
    {
     "data": {
      "text/plain": [
       "[2, 3, 4, 5, 8]"
      ]
     },
     "execution_count": 44,
     "metadata": {},
     "output_type": "execute_result"
    }
   ],
   "source": [
    "def insertion_sort_while(L):\n",
    "  n = len(L)\n",
    "  for i in range(1, n):\n",
    "    print(f'{L=}')\n",
    "    j = i\n",
    "    while j > 0 and L[j-1] > L[j]:\n",
    "      print(f'{i=}, {j=}, {j-1=}')\n",
    "      swap(L, j-1, j)\n",
    "      j -= 1\n",
    "  return L\n",
    "\n",
    "\n",
    "# insertion_sort_while([5, 3, 8, 2, 4])\n",
    "insertion_sort_while([2, 3, 4, 5, 8])"
   ]
  }
 ],
 "metadata": {
  "kernelspec": {
   "display_name": "Python 3",
   "language": "python",
   "name": "python3"
  },
  "language_info": {
   "codemirror_mode": {
    "name": "ipython",
    "version": 3
   },
   "file_extension": ".py",
   "mimetype": "text/x-python",
   "name": "python",
   "nbconvert_exporter": "python",
   "pygments_lexer": "ipython3",
   "version": "3.12.0"
  }
 },
 "nbformat": 4,
 "nbformat_minor": 2
}
