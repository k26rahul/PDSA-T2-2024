{
 "cells": [
  {
   "cell_type": "code",
   "execution_count": 3,
   "metadata": {},
   "outputs": [
    {
     "name": "stdout",
     "output_type": "stream",
     "text": [
      "[2, 3, 4, 5, None, 7, 8]\n"
     ]
    }
   ],
   "source": [
    "table = [2, 3, 4, 5, 6, 7, 8]\n",
    "\n",
    "what_to_cross = 6\n",
    "\n",
    "table[what_to_cross - 2] = None\n",
    "\n",
    "print(table)"
   ]
  },
  {
   "cell_type": "code",
   "execution_count": 4,
   "metadata": {},
   "outputs": [
    {
     "name": "stdout",
     "output_type": "stream",
     "text": [
      "[0, 1, 2, 3, 4, 5, None, 7, 8]\n"
     ]
    }
   ],
   "source": [
    "table = [0, 1, 2, 3, 4, 5, 6, 7, 8]\n",
    "\n",
    "table[6] = None\n",
    "\n",
    "print(table)"
   ]
  },
  {
   "cell_type": "code",
   "execution_count": 5,
   "metadata": {},
   "outputs": [],
   "source": [
    "limit = 50"
   ]
  },
  {
   "cell_type": "code",
   "execution_count": 6,
   "metadata": {},
   "outputs": [
    {
     "name": "stdout",
     "output_type": "stream",
     "text": [
      "[0, 1, 2, 3, 4, 5, 6, 7, 8, 9, 10, 11, 12, 13, 14, 15, 16, 17, 18, 19, 20, 21, 22, 23, 24, 25, 26, 27, 28, 29, 30, 31, 32, 33, 34, 35, 36, 37, 38, 39, 40, 41, 42, 43, 44, 45, 46, 47, 48, 49, 50]\n"
     ]
    }
   ],
   "source": [
    "table = list(range(limit+1))\n",
    "\n",
    "print(table)"
   ]
  },
  {
   "cell_type": "code",
   "execution_count": 7,
   "metadata": {},
   "outputs": [
    {
     "name": "stdout",
     "output_type": "stream",
     "text": [
      "p=2\n",
      "p=3\n",
      "got p=4, but skipping it cause already crossed\n",
      "p=5\n",
      "got p=6, but skipping it cause already crossed\n",
      "p=7\n",
      "got p=8, but skipping it cause already crossed\n",
      "got p=9, but skipping it cause already crossed\n",
      "got p=10, but skipping it cause already crossed\n",
      "p=11\n",
      "got p=12, but skipping it cause already crossed\n",
      "p=13\n",
      "got p=14, but skipping it cause already crossed\n",
      "got p=15, but skipping it cause already crossed\n",
      "got p=16, but skipping it cause already crossed\n",
      "p=17\n",
      "got p=18, but skipping it cause already crossed\n",
      "p=19\n",
      "got p=20, but skipping it cause already crossed\n",
      "got p=21, but skipping it cause already crossed\n",
      "got p=22, but skipping it cause already crossed\n",
      "p=23\n",
      "got p=24, but skipping it cause already crossed\n",
      "got p=25, but skipping it cause already crossed\n",
      "got p=26, but skipping it cause already crossed\n",
      "got p=27, but skipping it cause already crossed\n",
      "got p=28, but skipping it cause already crossed\n",
      "p=29\n",
      "got p=30, but skipping it cause already crossed\n",
      "p=31\n",
      "got p=32, but skipping it cause already crossed\n",
      "got p=33, but skipping it cause already crossed\n",
      "got p=34, but skipping it cause already crossed\n",
      "got p=35, but skipping it cause already crossed\n",
      "got p=36, but skipping it cause already crossed\n",
      "p=37\n",
      "got p=38, but skipping it cause already crossed\n",
      "got p=39, but skipping it cause already crossed\n",
      "got p=40, but skipping it cause already crossed\n",
      "p=41\n",
      "got p=42, but skipping it cause already crossed\n",
      "p=43\n",
      "got p=44, but skipping it cause already crossed\n",
      "got p=45, but skipping it cause already crossed\n",
      "got p=46, but skipping it cause already crossed\n",
      "p=47\n",
      "got p=48, but skipping it cause already crossed\n",
      "got p=49, but skipping it cause already crossed\n",
      "got p=50, but skipping it cause already crossed\n",
      "[0, 1, 2, 3, None, 5, None, 7, None, None, None, 11, None, 13, None, None, None, 17, None, 19, None, None, None, 23, None, None, None, None, None, 29, None, 31, None, None, None, None, None, 37, None, None, None, 41, None, 43, None, None, None, 47, None, None, None]\n"
     ]
    }
   ],
   "source": [
    "p = 2\n",
    "\n",
    "while p <= limit:\n",
    "  if table[p] is None:\n",
    "    print(f'got {p=}, but skipping it cause already crossed')\n",
    "    p += 1\n",
    "    continue\n",
    "\n",
    "  print(f'{p=}')\n",
    "\n",
    "  next_composite = 2 * p\n",
    "  while next_composite <= limit:\n",
    "    table[next_composite] = None\n",
    "    next_composite += p\n",
    "\n",
    "  p += 1\n",
    "\n",
    "print(table)"
   ]
  },
  {
   "cell_type": "code",
   "execution_count": 8,
   "metadata": {},
   "outputs": [
    {
     "name": "stdout",
     "output_type": "stream",
     "text": [
      "[4, 9, 25, 49, 121, 169, 289, 361, 529, 841, 961, 1369, 1681, 1849, 2209]\n"
     ]
    }
   ],
   "source": [
    "primes = [i ** 2 for i in table[2:] if i is not None]\n",
    "\n",
    "print(primes)"
   ]
  },
  {
   "cell_type": "code",
   "execution_count": 9,
   "metadata": {},
   "outputs": [
    {
     "name": "stdout",
     "output_type": "stream",
     "text": [
      "[4, 9, 25, 49, 121, 169, 289, 361, 529, 841, 961, 1369, 1681, 1849, 2209]\n"
     ]
    }
   ],
   "source": [
    "primes = []\n",
    "\n",
    "for i in table[2:]:\n",
    "  if i is not None:\n",
    "    primes.append(i ** 2)\n",
    "\n",
    "print(primes)"
   ]
  },
  {
   "cell_type": "code",
   "execution_count": 10,
   "metadata": {},
   "outputs": [
    {
     "name": "stdout",
     "output_type": "stream",
     "text": [
      "[2, 3, 5, 7, 11, 13, 17, 19, 23, 29, 31, 37, 41, 43, 47]\n"
     ]
    }
   ],
   "source": [
    "def sieve_of_eratosthenes(limit):\n",
    "  table = list(range(limit + 1))\n",
    "\n",
    "  p = 2\n",
    "\n",
    "  while p <= limit:\n",
    "    if table[p] is None:\n",
    "      p += 1\n",
    "      continue\n",
    "\n",
    "    next_composite = 2 * p\n",
    "    while next_composite <= limit:\n",
    "      table[next_composite] = None\n",
    "      next_composite += p\n",
    "\n",
    "    p += 1\n",
    "\n",
    "  primes = [i for i in table[2:] if i is not None]\n",
    "  return primes\n",
    "\n",
    "\n",
    "print(sieve_of_eratosthenes(50))"
   ]
  },
  {
   "cell_type": "code",
   "execution_count": 11,
   "metadata": {},
   "outputs": [
    {
     "name": "stdout",
     "output_type": "stream",
     "text": [
      "[2, 3, 5, 7, 11, 13, 17, 19, 23, 29, 31, 37, 41, 43, 47]\n"
     ]
    }
   ],
   "source": [
    "def sieve_of_eratosthenes(limit):\n",
    "  table = list(range(limit + 1))\n",
    "\n",
    "  p = 2\n",
    "\n",
    "  while p <= limit:\n",
    "    if table[p] is None:\n",
    "      p += 1\n",
    "      continue\n",
    "\n",
    "    for next_composite in range(2*p, limit+1, p):\n",
    "      table[next_composite] = None\n",
    "\n",
    "    p += 1\n",
    "\n",
    "  primes = [i for i in table[2:] if i is not None]\n",
    "  return primes\n",
    "\n",
    "\n",
    "print(sieve_of_eratosthenes(50))"
   ]
  },
  {
   "cell_type": "code",
   "execution_count": 12,
   "metadata": {},
   "outputs": [
    {
     "name": "stdout",
     "output_type": "stream",
     "text": [
      "[2, 3, 5, 7, 11, 13, 17, 19, 23, 29, 31, 37, 41, 43, 47]\n"
     ]
    }
   ],
   "source": [
    "def sieve_of_eratosthenes(limit):\n",
    "  table = list(range(limit + 1))\n",
    "\n",
    "  p = 2\n",
    "\n",
    "  while p <= limit:\n",
    "    if table[p] is not None:\n",
    "      for next_composite in range(2*p, limit+1, p):\n",
    "        table[next_composite] = None\n",
    "\n",
    "    p += 1\n",
    "\n",
    "  primes = [i for i in table[2:] if i is not None]\n",
    "  return primes\n",
    "\n",
    "\n",
    "print(sieve_of_eratosthenes(50))"
   ]
  },
  {
   "cell_type": "markdown",
   "metadata": {},
   "source": [
    "# p*p optimization 1/2"
   ]
  },
  {
   "cell_type": "code",
   "execution_count": 13,
   "metadata": {},
   "outputs": [
    {
     "name": "stdout",
     "output_type": "stream",
     "text": [
      "[2, 3, 5, 7, 11, 13, 17, 19, 23, 29, 31, 37, 41, 43, 47]\n"
     ]
    }
   ],
   "source": [
    "def sieve_of_eratosthenes(limit):\n",
    "  table = list(range(limit + 1))\n",
    "\n",
    "  p = 2\n",
    "\n",
    "  while p*p <= limit:  # 🚀🚀 1: p candidates\n",
    "    # print(f'{p=}')\n",
    "\n",
    "    if table[p] is not None:\n",
    "      for next_composite in range(p*p, limit+1, p):  # 🚀🚀 2: multiples of p\n",
    "        # print(f'{p=}, {next_composite=}, {table[next_composite]}')\n",
    "\n",
    "        table[next_composite] = None\n",
    "\n",
    "    p += 1\n",
    "\n",
    "  primes = [i for i in table[2:] if i is not None]\n",
    "  return primes\n",
    "\n",
    "\n",
    "print(sieve_of_eratosthenes(50))"
   ]
  }
 ],
 "metadata": {
  "kernelspec": {
   "display_name": "Python 3",
   "language": "python",
   "name": "python3"
  },
  "language_info": {
   "codemirror_mode": {
    "name": "ipython",
    "version": 3
   },
   "file_extension": ".py",
   "mimetype": "text/x-python",
   "name": "python",
   "nbconvert_exporter": "python",
   "pygments_lexer": "ipython3",
   "version": "3.12.0"
  }
 },
 "nbformat": 4,
 "nbformat_minor": 2
}
