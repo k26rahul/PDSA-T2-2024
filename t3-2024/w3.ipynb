{
 "cells": [
  {
   "cell_type": "code",
   "execution_count": 2,
   "metadata": {},
   "outputs": [],
   "source": [
    "from input_buffer import set_input_buffer, input"
   ]
  },
  {
   "cell_type": "code",
   "execution_count": 3,
   "metadata": {},
   "outputs": [],
   "source": [
    "class Node:\n",
    "  def __init__(self, value):\n",
    "    self.next = None\n",
    "    self.prev = None\n",
    "    self.value = value\n",
    "\n",
    "  def __repr__(self):\n",
    "    return f'<Node {self.value}>'\n",
    "\n",
    "\n",
    "# rahul = Node('rahul')\n",
    "# vidu = Node('vidu')\n",
    "# muskan = Node('muskan')\n",
    "# cmd = Node('cmd')\n",
    "\n",
    "# rahul.next = vidu\n",
    "# vidu.next = muskan\n",
    "# muskan.next = cmd\n",
    "\n",
    "# current = rahul\n",
    "# while current:\n",
    "#   print(current)\n",
    "#   current = current.next"
   ]
  },
  {
   "cell_type": "code",
   "execution_count": 4,
   "metadata": {},
   "outputs": [
    {
     "data": {
      "text/plain": [
       "[<Node rahul>, <Node vidu>, <Node muskan>, <Node cmd>, <Node harikesh>]"
      ]
     },
     "execution_count": 4,
     "metadata": {},
     "output_type": "execute_result"
    }
   ],
   "source": [
    "class LinkedList:\n",
    "  def __init__(self):\n",
    "    self.head = None\n",
    "    self.tail = None\n",
    "    self.count = 0\n",
    "\n",
    "  def insert_first(self, value):\n",
    "    self.count += 1\n",
    "    node = Node(value)\n",
    "    if not self.head:\n",
    "      self.head = node\n",
    "      self.tail = node\n",
    "    else:\n",
    "      node.next = self.head\n",
    "      self.head = node\n",
    "\n",
    "  def insert_last(self, value):\n",
    "    self.count += 1\n",
    "    node = Node(value)\n",
    "    if not self.head:\n",
    "      self.head = node\n",
    "      self.tail = node\n",
    "    else:\n",
    "      self.tail.next = node\n",
    "      self.tail = node\n",
    "\n",
    "  def insert_at_index(self, index, value):\n",
    "    if index < 0 or index > self.count:\n",
    "      raise Exception('insert_at_index >>> index out of range')\n",
    "\n",
    "    if index == 0:\n",
    "      self.insert_first(value)\n",
    "\n",
    "    elif index == self.count:\n",
    "      self.insert_last(value)\n",
    "\n",
    "    else:\n",
    "      self.count += 1\n",
    "      current = self.head\n",
    "      j = 0\n",
    "      while j < index-1:\n",
    "        current = current.next\n",
    "        j += 1\n",
    "      node = Node(value)\n",
    "      node.next = current.next\n",
    "      current.next = node\n",
    "\n",
    "  def __repr__(self):\n",
    "    current = self.head\n",
    "    array = []\n",
    "    while current:\n",
    "      array.append(current)\n",
    "      current = current.next\n",
    "    return str(array)\n",
    "\n",
    "\n",
    "ll = LinkedList()\n",
    "ll.insert_last('rahul')\n",
    "ll.insert_last('vidu')\n",
    "ll.insert_last('muskan')\n",
    "ll.insert_last('cmd')\n",
    "ll.insert_at_index(4, 'harikesh')\n",
    "\n",
    "ll"
   ]
  },
  {
   "cell_type": "markdown",
   "metadata": {},
   "source": [
    "# PPA 1 - Not Graded"
   ]
  },
  {
   "cell_type": "code",
   "execution_count": 5,
   "metadata": {},
   "outputs": [
    {
     "data": {
      "text/plain": [
       "'rahul'"
      ]
     },
     "execution_count": 5,
     "metadata": {},
     "output_type": "execute_result"
    },
    {
     "data": {
      "text/plain": [
       "'vidu'"
      ]
     },
     "execution_count": 5,
     "metadata": {},
     "output_type": "execute_result"
    }
   ],
   "source": [
    "class Node:\n",
    "  def __init__(self, data):\n",
    "    self.data = data\n",
    "    self.next = None\n",
    "    self.prev = None\n",
    "\n",
    "\n",
    "class doubly_linked_list:\n",
    "  def __init__(self):\n",
    "    self.head = None\n",
    "    self.last = None\n",
    "\n",
    "  def insert_end(self, data):\n",
    "    node = Node(data)\n",
    "    if not self.head:\n",
    "      self.head = node\n",
    "      self.last = node\n",
    "    else:\n",
    "      self.last.next = node\n",
    "      node.prev = self.last\n",
    "      self.last = node\n",
    "\n",
    "  def delete_end(self):\n",
    "    self.last = self.last.prev\n",
    "    self.last.next = None\n",
    "\n",
    "\n",
    "ll = doubly_linked_list()\n",
    "ll.insert_end('rahul')\n",
    "ll.insert_end('vidu')\n",
    "ll.insert_end('muskan')\n",
    "ll.head.data\n",
    "ll.delete_end()\n",
    "ll.last.data"
   ]
  },
  {
   "cell_type": "markdown",
   "metadata": {},
   "source": [
    "# PPA 2 - Not Graded"
   ]
  },
  {
   "cell_type": "code",
   "execution_count": 6,
   "metadata": {},
   "outputs": [
    {
     "name": "stdout",
     "output_type": "stream",
     "text": [
      "[22, None, 44, 36, 35, 27, None, None, None, None, 54]\n"
     ]
    }
   ],
   "source": [
    "class Hashing:\n",
    "  def __init__(self, c1, c2, m):\n",
    "    self.hashtable = []\n",
    "    for i in range(m):\n",
    "      self.hashtable.append(None)\n",
    "    self.c1 = c1\n",
    "    self.c2 = c2\n",
    "    self.m = m\n",
    "\n",
    "  def hk(self, k):\n",
    "    return k % self.m\n",
    "\n",
    "  def hki(self, k, i):\n",
    "    return (self.hk(k) + self.c1*i + self.c2*i*i) % self.m\n",
    "\n",
    "  def q_prob(self, data):\n",
    "    index = self.hk(data)\n",
    "    if self.hashtable[index] == None:\n",
    "      return index\n",
    "    else:\n",
    "      i = 0\n",
    "      while i < self.m:\n",
    "        index = self.hki(data, i)\n",
    "        if self.hashtable[index] == None:\n",
    "          return index\n",
    "        i += 1\n",
    "    return None\n",
    "\n",
    "  def store_data(self, data):\n",
    "    index = self.q_prob(data)\n",
    "    if index == None:\n",
    "      print('Hash table is full')\n",
    "      return\n",
    "    self.hashtable[index] = data\n",
    "\n",
    "  def display_hashtable(self):\n",
    "    return self.hashtable\n",
    "\n",
    "\n",
    "set_input_buffer(\"\"\" \n",
    "1\n",
    "1\n",
    "11\n",
    "[22,44,35,54,36,27] \"\"\")\n",
    "\n",
    "c1 = int(input())\n",
    "c2 = int(input())\n",
    "m = int(input())\n",
    "data = eval(input())\n",
    "A = Hashing(c1, c2, m)\n",
    "for i in data:\n",
    "  A.store_data(i)\n",
    "print(A.display_hashtable())"
   ]
  },
  {
   "cell_type": "markdown",
   "metadata": {},
   "source": [
    "# GrPA1"
   ]
  },
  {
   "cell_type": "code",
   "execution_count": 20,
   "metadata": {},
   "outputs": [
    {
     "data": {
      "text/plain": [
       "True"
      ]
     },
     "execution_count": 20,
     "metadata": {},
     "output_type": "execute_result"
    },
    {
     "data": {
      "text/plain": [
       "True"
      ]
     },
     "execution_count": 20,
     "metadata": {},
     "output_type": "execute_result"
    }
   ],
   "source": [
    "def DishPrepareOrder(orders):\n",
    "  freq = {}\n",
    "  for order in orders:\n",
    "    freq[order] = freq.get(order, 0) + 1\n",
    "\n",
    "  ans = sorted(list(freq))\n",
    "  ans = sorted(ans, key=freq.get, reverse=True)\n",
    "  return ans\n",
    "\n",
    "\n",
    "DishPrepareOrder([1006, 1008, 1009, 1008, 1007, 1005, 1008, 1001, 1003, 1009, 1006, 1003, 1004, 1002, 1008, 1005, 1004, 1007, 1006, 1002, 1002, 1001, 1004, 1001, 1003, 1007, 1007, 1005, 1004, 1002]\n",
    "                 ) == [1002, 1004, 1007, 1008, 1001, 1003, 1005, 1006, 1009]\n",
    "\n",
    "\n",
    "DishPrepareOrder([1006, 1007, 1005, 1006, 1003, 1009, 1001, 1005, 1007, 1007, 1004, 1008, 1002, 1002, 1006, 1001, 1006, 1003, 1001, 1006, 1007, 1002, 1005, 1003, 1007, 1007, 1001, 1008, 1007, 1005, 1003, 1005, 1001, 1005, 1003, 1003, 1004, 1001, 1007, 1006, 1006, 1007, 1006, 1008, 1009, 1004, 1005, 1002, 1006, 1002, 1002, 1003, 1007, 1007, 1004, 1006, 1006, 1001, 1004, 1004, 1006, 1007, 1008, 1006, 1004, 1002, 1008, 1002, 1008, 1006, 1007, 1007, 1006, 1008, 1002, 1004, 1004, 1008, 1005, 1001, 1007, 1003, 1005, 1007, 1006, 1001, 1002, 1004, 1001, 1008, 1001, 1007, 1007, 1001, 1005, 1003, 1009, 1007, 1004, 1006, 1001, 1002, 1005, 1006, 1003, 1003, 1006, 1001, 1005, 1003, 1005, 1005, 1004, 1006, 1005, 1002, 1005, 1006, 1005, 1003, 1006, 1006, 1001, 1003, 1009, 1009, 1005, 1003, 1008, 1005, 1006, 1008, 1004, 1002, 1008, 1001, 1009, 1008, 1009, 1009, 1003, 1007, 1009, 1005, 1003, 1006, 1008, 1007, 1001, 1008, 1009, 1006, 1004, 1002, 1004, 1006, 1001, 1002, 1007, 1008, 1003, 1002, 1004, 1008, 1009, 1006, 1002, 1004, 1004, 1006, 1001, 1001, 1006, 1002, 1009, 1005, 1004, 1005, 1009, 1006, 1008, 1001, 1009, 1001, 1002, 1004, 1003, 1003, 1007, 1001, 1006, 1006, 1006, 1001, 1001, 1005, 1003, 1001, 1001, 1007]\n",
    "                 ) == [1006, 1001, 1007, 1005, 1003, 1004, 1002, 1008, 1009]"
   ]
  },
  {
   "cell_type": "markdown",
   "metadata": {},
   "source": [
    "# GrPA 2"
   ]
  },
  {
   "cell_type": "code",
   "execution_count": 44,
   "metadata": {},
   "outputs": [
    {
     "data": {
      "text/plain": [
       "11.25"
      ]
     },
     "execution_count": 44,
     "metadata": {},
     "output_type": "execute_result"
    }
   ],
   "source": [
    "def EvaluateExpression(expression):\n",
    "  tokens = expression.split(' ')\n",
    "  stack = []\n",
    "  for token in tokens:\n",
    "    if token not in {'+', '-', '*', '/', '**'}:\n",
    "      stack.append(float(token))\n",
    "    else:\n",
    "      B = stack.pop()\n",
    "      A = stack.pop()\n",
    "      if token == '+':\n",
    "        result = A + B\n",
    "      if token == '-':\n",
    "        result = A - B\n",
    "      if token == '*':\n",
    "        result = A * B\n",
    "      if token == '/':\n",
    "        result = A / B\n",
    "      if token == '**':\n",
    "        result = A ** B\n",
    "      stack.append(result)\n",
    "\n",
    "  return float(stack[0])\n",
    "\n",
    "\n",
    "EvaluateExpression('10 3 5 * 16 4 - / +')"
   ]
  },
  {
   "cell_type": "markdown",
   "metadata": {},
   "source": [
    "# GrPA 3"
   ]
  },
  {
   "cell_type": "code",
   "execution_count": 51,
   "metadata": {},
   "outputs": [
    {
     "data": {
      "text/plain": [
       "[64, 7, 28, 43, 3]"
      ]
     },
     "execution_count": 51,
     "metadata": {},
     "output_type": "execute_result"
    }
   ],
   "source": [
    "class Node:\n",
    "  def __init__(self, value):\n",
    "    self.next = None\n",
    "    self.value = value\n",
    "\n",
    "  def __repr__(self):\n",
    "    return f'<Node {self.value}>'\n",
    "\n",
    "\n",
    "def list_to_ll(lst):\n",
    "  head = None\n",
    "  tail = None\n",
    "  for elem in lst:\n",
    "    node = Node(elem)\n",
    "    if tail != None:\n",
    "      tail.next = node\n",
    "    if tail == None:\n",
    "      head = node\n",
    "    tail = node\n",
    "  return head\n",
    "\n",
    "\n",
    "def ll_to_list(ll):\n",
    "  current = ll\n",
    "  ans = []\n",
    "  while current:\n",
    "    ans.append(current.value)\n",
    "    current = current.next\n",
    "  return ans\n",
    "\n",
    "\n",
    "ll_to_list(list_to_ll([64, 7, 28, 43, 3]))"
   ]
  },
  {
   "cell_type": "code",
   "execution_count": 74,
   "metadata": {},
   "outputs": [
    {
     "data": {
      "text/plain": [
       "[3, 43, 28, 7, 64]"
      ]
     },
     "execution_count": 74,
     "metadata": {},
     "output_type": "execute_result"
    },
    {
     "data": {
      "text/plain": [
       "True"
      ]
     },
     "execution_count": 74,
     "metadata": {},
     "output_type": "execute_result"
    }
   ],
   "source": [
    "def reverse(root):\n",
    "  curr = root\n",
    "  prev = root\n",
    "  og_root = root\n",
    "  while curr:\n",
    "    curr_next = curr.next\n",
    "    curr.next = prev\n",
    "    prev = curr\n",
    "    curr = curr_next\n",
    "  og_root.next = None\n",
    "  return prev\n",
    "\n",
    "\n",
    "ll_to_list(reverse(list_to_ll([64, 7, 28, 43, 3])))\n",
    "ll_to_list(reverse(list_to_ll(\n",
    "    [1, 2, 2, 3, 5, 4, 6, 8, 7, 9, 8, 7, 6, 5, 4, 6, 3, 2, 1, 2, 3, 4, 5, 6, 7\n",
    "     ]\n",
    "))) == [\n",
    "    7, 6, 5, 4, 3, 2, 1, 2, 3, 6, 4, 5, 6, 7, 8, 9, 7, 8, 6, 4, 5, 3, 2, 2, 1]"
   ]
  }
 ],
 "metadata": {
  "kernelspec": {
   "display_name": "Python 3",
   "language": "python",
   "name": "python3"
  },
  "language_info": {
   "codemirror_mode": {
    "name": "ipython",
    "version": 3
   },
   "file_extension": ".py",
   "mimetype": "text/x-python",
   "name": "python",
   "nbconvert_exporter": "python",
   "pygments_lexer": "ipython3",
   "version": "3.12.6"
  }
 },
 "nbformat": 4,
 "nbformat_minor": 2
}
