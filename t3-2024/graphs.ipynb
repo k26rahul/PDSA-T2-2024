{
 "cells": [
  {
   "cell_type": "code",
   "execution_count": 5,
   "metadata": {},
   "outputs": [
    {
     "data": {
      "text/plain": [
       "['A', 'C', 'F', 'B', 'E', 'M', 'D', 'X']"
      ]
     },
     "execution_count": 5,
     "metadata": {},
     "output_type": "execute_result"
    }
   ],
   "source": [
    "def dfs(adj_list, u, visited, sorted):\n",
    "  visited[u] = True\n",
    "  for v in adj_list[u]:\n",
    "    if not visited[v]:\n",
    "      dfs(adj_list, v, visited, sorted)\n",
    "  sorted.append(u)\n",
    "\n",
    "\n",
    "def topological_sort(adj_list):\n",
    "  visited = {u: False for u in adj_list}\n",
    "  sorted = []\n",
    "  for u in adj_list:\n",
    "    if not visited[u]:\n",
    "      dfs(adj_list, u, visited, sorted)\n",
    "  return sorted[::-1]\n",
    "\n",
    "\n",
    "adj_list = {\n",
    "    'A': ['B', 'C'],\n",
    "    'B': ['D', 'E'],\n",
    "    'C': ['E', 'F'],\n",
    "    'D': ['X'],\n",
    "    'E': ['D', 'M'],\n",
    "    'F': [],\n",
    "    'X': [],\n",
    "    'M': [],\n",
    "}\n",
    "\n",
    "topological_sort(adj_list)"
   ]
  }
 ],
 "metadata": {
  "kernelspec": {
   "display_name": "Python 3",
   "language": "python",
   "name": "python3"
  },
  "language_info": {
   "codemirror_mode": {
    "name": "ipython",
    "version": 3
   },
   "file_extension": ".py",
   "mimetype": "text/x-python",
   "name": "python",
   "nbconvert_exporter": "python",
   "pygments_lexer": "ipython3",
   "version": "3.12.6"
  }
 },
 "nbformat": 4,
 "nbformat_minor": 2
}
