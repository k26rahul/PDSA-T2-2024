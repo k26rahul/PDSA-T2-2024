{
 "cells": [
  {
   "cell_type": "markdown",
   "metadata": {},
   "source": [
    "1"
   ]
  },
  {
   "cell_type": "code",
   "execution_count": 1,
   "metadata": {},
   "outputs": [
    {
     "name": "stdout",
     "output_type": "stream",
     "text": [
      "18\n",
      "32\n"
     ]
    }
   ],
   "source": [
    "def minmax(a, b):\n",
    "  for i in range(len(a)):\n",
    "    if b[i] > a[i]:\n",
    "      b[i], a[i] = a[i], b[i]\n",
    "  return max(a) * max(b)\n",
    "\n",
    "\n",
    "print(minmax([1, 2, 6, 5, 1, 2],\n",
    "             [3, 4, 3, 2, 2, 5]))\n",
    "\n",
    "print(minmax([1, 2, 3, 2, 3, 4, 5, 3, 5, 6, 7, 8],\n",
    "             [2, 1, 5, 3, 4, 6, 4, 3, 2, 3, 1, 2]))"
   ]
  },
  {
   "cell_type": "markdown",
   "metadata": {},
   "source": [
    "2"
   ]
  },
  {
   "cell_type": "code",
   "execution_count": 5,
   "metadata": {},
   "outputs": [
    {
     "data": {
      "text/plain": [
       "[64, 7, 28, 43, 3]"
      ]
     },
     "execution_count": 5,
     "metadata": {},
     "output_type": "execute_result"
    }
   ],
   "source": [
    "class Node:\n",
    "  def __init__(self, data):\n",
    "    self.next = None\n",
    "    self.data = data\n",
    "\n",
    "  def __repr__(self):\n",
    "    return f'<Node {self.data}>'\n",
    "\n",
    "\n",
    "def list_to_ll(lst):\n",
    "  head = None\n",
    "  tail = None\n",
    "  for elem in lst:\n",
    "    node = Node(elem)\n",
    "    if tail != None:\n",
    "      tail.next = node\n",
    "    if tail == None:\n",
    "      head = node\n",
    "    tail = node\n",
    "  return head\n",
    "\n",
    "\n",
    "def ll_to_list(ll):\n",
    "  current = ll\n",
    "  ans = []\n",
    "  while current:\n",
    "    ans.append(current.data)\n",
    "    current = current.next\n",
    "  return ans\n",
    "\n",
    "\n",
    "ll_to_list(list_to_ll([64, 7, 28, 43, 3]))"
   ]
  },
  {
   "cell_type": "code",
   "execution_count": 14,
   "metadata": {},
   "outputs": [
    {
     "data": {
      "text/plain": [
       "[1, 2, 3, 4, 5, 7, 9]"
      ]
     },
     "execution_count": 14,
     "metadata": {},
     "output_type": "execute_result"
    }
   ],
   "source": [
    "def removeDuplicate(head):\n",
    "  og_head = head\n",
    "  curr = head\n",
    "  prev = None\n",
    "  while curr:\n",
    "    if prev and prev.data == curr.data:\n",
    "      prev.next = None\n",
    "      curr = curr.next\n",
    "      continue\n",
    "    if prev:\n",
    "      prev.next = curr\n",
    "    prev = curr\n",
    "    curr = curr.next\n",
    "  return og_head\n",
    "\n",
    "\n",
    "ll_to_list(\n",
    "    removeDuplicate(list_to_ll([1, 1, 2, 2, 2, 3, 3, 4, 4, 4, 4, 5, 7, 9]))\n",
    ")"
   ]
  },
  {
   "cell_type": "markdown",
   "metadata": {},
   "source": [
    "3"
   ]
  },
  {
   "cell_type": "code",
   "execution_count": 26,
   "metadata": {},
   "outputs": [
    {
     "data": {
      "text/plain": [
       "[1, 2, 3, 4, 5, 6, 7, 9, 11]"
      ]
     },
     "execution_count": 26,
     "metadata": {},
     "output_type": "execute_result"
    }
   ],
   "source": [
    "def mergeSortedList(head1, head2):\n",
    "  c1 = head1\n",
    "  c2 = head2\n",
    "  prev = None\n",
    "  root = None\n",
    "  while c1 and c2:\n",
    "    if c1.data < c2.data:\n",
    "      if prev:\n",
    "        prev.next = c1\n",
    "      prev = c1\n",
    "      c1 = c1.next\n",
    "    else:\n",
    "      if prev:\n",
    "        prev.next = c2\n",
    "      prev = c2\n",
    "      c2 = c2.next\n",
    "    if not root:\n",
    "      root = prev\n",
    "\n",
    "  if c1:\n",
    "    prev.next = c1\n",
    "  if c2:\n",
    "    prev.next = c2\n",
    "  return root\n",
    "\n",
    "\n",
    "ll_to_list(\n",
    "    mergeSortedList(\n",
    "        list_to_ll([1, 3, 5, 7, 9, 11]),\n",
    "        list_to_ll([2, 4, 6])\n",
    "    )\n",
    ")"
   ]
  },
  {
   "cell_type": "markdown",
   "metadata": {},
   "source": [
    "4"
   ]
  },
  {
   "cell_type": "code",
   "execution_count": 28,
   "metadata": {},
   "outputs": [
    {
     "data": {
      "text/plain": [
       "5"
      ]
     },
     "execution_count": 28,
     "metadata": {},
     "output_type": "execute_result"
    }
   ],
   "source": [
    "def peak_unimodal(A):\n",
    "  low = 0\n",
    "  high = len(A)-1\n",
    "  while low <= high:\n",
    "    mid = (low+high)//2\n",
    "    if A[mid-1] < A[mid] > A[mid+1]:\n",
    "      return mid\n",
    "    if A[mid] < A[mid+1]:\n",
    "      low = mid+1\n",
    "    else:\n",
    "      high = mid-1\n",
    "\n",
    "\n",
    "peak_unimodal([2, 3, 4, 21, 43, 52, 51, 18, 11, 9, 6, 5, 1])"
   ]
  }
 ],
 "metadata": {
  "kernelspec": {
   "display_name": "Python 3",
   "language": "python",
   "name": "python3"
  },
  "language_info": {
   "codemirror_mode": {
    "name": "ipython",
    "version": 3
   },
   "file_extension": ".py",
   "mimetype": "text/x-python",
   "name": "python",
   "nbconvert_exporter": "python",
   "pygments_lexer": "ipython3",
   "version": "3.12.6"
  }
 },
 "nbformat": 4,
 "nbformat_minor": 2
}
