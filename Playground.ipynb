{
 "cells": [
  {
   "cell_type": "code",
   "execution_count": 39,
   "metadata": {},
   "outputs": [],
   "source": [
    "l1 = [5, 6, 7, 18, 19, 20]\n",
    "l2 = [9, 10, 11]"
   ]
  },
  {
   "cell_type": "code",
   "execution_count": 40,
   "metadata": {},
   "outputs": [
    {
     "data": {
      "text/plain": [
       "3"
      ]
     },
     "execution_count": 40,
     "metadata": {},
     "output_type": "execute_result"
    }
   ],
   "source": [
    "min_length = min([len(l1), len(l2)])\n",
    "min_length"
   ]
  },
  {
   "cell_type": "code",
   "execution_count": 42,
   "metadata": {},
   "outputs": [
    {
     "data": {
      "text/plain": [
       "[5, 9, 6, 10, 7, 11, 18, 19, 20]"
      ]
     },
     "execution_count": 42,
     "metadata": {},
     "output_type": "execute_result"
    }
   ],
   "source": [
    "result = []\n",
    "for i in range(min_length):\n",
    "  result.append(l1[i])\n",
    "  result.append(l2[i])\n",
    "\n",
    "result += l1[min_length:]\n",
    "result += l2[min_length:]\n",
    "\n",
    "result"
   ]
  },
  {
   "cell_type": "code",
   "execution_count": 45,
   "metadata": {},
   "outputs": [
    {
     "name": "stdout",
     "output_type": "stream",
     "text": [
      "[5, 9, 6, 10, 7, 11, 18, 19, 20]\n"
     ]
    }
   ],
   "source": [
    "def shuffle(l1, l2):\n",
    "  min_length = min([len(l1), len(l2)])\n",
    "\n",
    "  result = []\n",
    "  for i in range(min_length):\n",
    "    result.append(l1[i])\n",
    "    result.append(l2[i])\n",
    "\n",
    "  result += l1[min_length:]\n",
    "  result += l2[min_length:]\n",
    "\n",
    "  return result\n",
    "\n",
    "\n",
    "l1 = [5, 6, 7, 18, 19, 20]\n",
    "l2 = [9, 10, 11]\n",
    "print(shuffle(l1, l2))"
   ]
  },
  {
   "cell_type": "code",
   "execution_count": 47,
   "metadata": {},
   "outputs": [
    {
     "name": "stdout",
     "output_type": "stream",
     "text": [
      "[0, 1, 2, 3, 4, 5]\n",
      "[0, 1, 2, 4]\n",
      "[0, 1, 3, 5]\n",
      "[1, 3, 5]\n",
      "[0, 2, 4]\n"
     ]
    }
   ],
   "source": [
    "print(shuffle([0, 2, 4], [1, 3, 5]))  # Output: [0, 1, 2, 3, 4, 5]\n",
    "print(shuffle([0, 2, 4], [1]))        # Output: [0, 1, 2, 4]\n",
    "print(shuffle([0], [1, 3, 5]))        # Output: [0, 1, 3, 5]\n",
    "print(shuffle([], [1, 3, 5]))         # Output: [1, 3, 5]\n",
    "print(shuffle([0, 2, 4], []))         # Output: [0, 2, 4]"
   ]
  },
  {
   "cell_type": "code",
   "execution_count": 49,
   "metadata": {},
   "outputs": [
    {
     "data": {
      "text/plain": [
       "'5 ** 4'"
      ]
     },
     "execution_count": 49,
     "metadata": {},
     "output_type": "execute_result"
    },
    {
     "data": {
      "text/plain": [
       "625"
      ]
     },
     "execution_count": 49,
     "metadata": {},
     "output_type": "execute_result"
    }
   ],
   "source": [
    "\"5 ** 4\"\n",
    "eval(\"5 ** 4\")"
   ]
  },
  {
   "cell_type": "code",
   "execution_count": 50,
   "metadata": {},
   "outputs": [
    {
     "data": {
      "text/plain": [
       "'[1,2,4]'"
      ]
     },
     "execution_count": 50,
     "metadata": {},
     "output_type": "execute_result"
    },
    {
     "data": {
      "text/plain": [
       "[1, 2, 4]"
      ]
     },
     "execution_count": 50,
     "metadata": {},
     "output_type": "execute_result"
    }
   ],
   "source": [
    "\"[1,2,4]\"\n",
    "\n",
    "eval(\"[1,2,4]\")"
   ]
  },
  {
   "cell_type": "code",
   "execution_count": 14,
   "metadata": {},
   "outputs": [
    {
     "name": "stdout",
     "output_type": "stream",
     "text": [
      "1 0\n",
      "2 1\n",
      "3 2\n",
      "4 3\n"
     ]
    },
    {
     "data": {
      "text/plain": [
       "[5, 2, 5, 4]"
      ]
     },
     "execution_count": 14,
     "metadata": {},
     "output_type": "execute_result"
    }
   ],
   "source": [
    "L = [2, 7, 9, 14, 18]\n",
    "\n",
    "diffs = []\n",
    "\n",
    "for i in range(1, len(L)):\n",
    "  # print(i, i-1)\n",
    "  diffs.append(abs(L[i] - L[i-1]))\n",
    "\n",
    "diffs"
   ]
  },
  {
   "cell_type": "code",
   "execution_count": 15,
   "metadata": {},
   "outputs": [
    {
     "name": "stdout",
     "output_type": "stream",
     "text": [
      "0 1\n",
      "1 2\n",
      "2 3\n",
      "3 4\n"
     ]
    },
    {
     "data": {
      "text/plain": [
       "[5, 2, 5, 4]"
      ]
     },
     "execution_count": 15,
     "metadata": {},
     "output_type": "execute_result"
    }
   ],
   "source": [
    "L = [2, 7, 9, 14, 18]\n",
    "\n",
    "diffs = []\n",
    "\n",
    "for i in range(len(L)):\n",
    "  if i == len(L)-1:\n",
    "    break\n",
    "  print(i, i+1)\n",
    "  diffs.append(abs(L[i] - L[i+1]))\n",
    "\n",
    "diffs"
   ]
  },
  {
   "cell_type": "code",
   "execution_count": 28,
   "metadata": {},
   "outputs": [
    {
     "name": "stdout",
     "output_type": "stream",
     "text": [
      "True\n"
     ]
    }
   ],
   "source": [
    "L = [1, 2, 3, 4, 5]  # increasing order ok, but NOT strictly increasing\n",
    "\n",
    "ans = True\n",
    "\n",
    "for i in range(1, len(L)):\n",
    "  if L[i] - L[i-1] <= 0:\n",
    "    ans = False\n",
    "    break\n",
    "\n",
    "print(ans)"
   ]
  },
  {
   "cell_type": "code",
   "execution_count": 31,
   "metadata": {},
   "outputs": [
    {
     "name": "stdout",
     "output_type": "stream",
     "text": [
      "False\n"
     ]
    }
   ],
   "source": [
    "L = [1, 2, 3, 4, 4]  # increasing order ok, but NOT strictly increasing\n",
    "\n",
    "ans = True\n",
    "\n",
    "for i in range(1, len(L)):\n",
    "  if L[i] <= L[i-1]:\n",
    "    ans = False\n",
    "    break\n",
    "\n",
    "print(ans)"
   ]
  }
 ],
 "metadata": {
  "kernelspec": {
   "display_name": "Python 3",
   "language": "python",
   "name": "python3"
  },
  "language_info": {
   "codemirror_mode": {
    "name": "ipython",
    "version": 3
   },
   "file_extension": ".py",
   "mimetype": "text/x-python",
   "name": "python",
   "nbconvert_exporter": "python",
   "pygments_lexer": "ipython3",
   "version": "3.12.0"
  }
 },
 "nbformat": 4,
 "nbformat_minor": 2
}
