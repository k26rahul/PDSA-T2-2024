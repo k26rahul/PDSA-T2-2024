{
 "cells": [
  {
   "cell_type": "markdown",
   "metadata": {},
   "source": [
    "# Utility functions"
   ]
  },
  {
   "cell_type": "code",
   "execution_count": 38,
   "metadata": {},
   "outputs": [
    {
     "data": {
      "text/plain": [
       "None"
      ]
     },
     "metadata": {},
     "output_type": "display_data"
    },
    {
     "name": "stdout",
     "output_type": "stream",
     "text": [
      "0\n",
      "1\n",
      "2\n",
      "3\n",
      "4\n",
      "0 1\n",
      "0 2\n",
      "1 3\n",
      "1 4\n",
      "2 3\n",
      "2 4\n",
      "3 4\n"
     ]
    },
    {
     "data": {
      "text/plain": [
       "None"
      ]
     },
     "metadata": {},
     "output_type": "display_data"
    },
    {
     "name": "stdout",
     "output_type": "stream",
     "text": [
      "0\n",
      "1\n",
      "2\n",
      "3\n",
      "0 1 10\n",
      "0 2 6\n",
      "1 2 4\n",
      "1 3 15\n",
      "2 3 11\n"
     ]
    }
   ],
   "source": [
    "def print_graph_info(adjacency_list):\n",
    "  # https://csacademy.com/app/graph_editor/\n",
    "  edges = []\n",
    "  for node, neighbors in adjacency_list.items():\n",
    "    for neighbor in neighbors:\n",
    "      if type(neighbor) == tuple:\n",
    "        edges.append((node, neighbor[0], neighbor[1]))\n",
    "      else:\n",
    "        edges.append((node, neighbor))\n",
    "  edges.sort()\n",
    "\n",
    "  display(None)\n",
    "\n",
    "  # print nodes\n",
    "  for node in sorted(adjacency_list):\n",
    "    print(node)\n",
    "\n",
    "  # print edges\n",
    "  for edge in edges:\n",
    "    print(' '.join(map(str, edge)))\n",
    "\n",
    "\n",
    "adjacency_list = {0: [1, 2], 1: [3, 4], 2: [4, 3], 3: [4], 4: []}\n",
    "print_graph_info(adjacency_list)\n",
    "\n",
    "adjacency_list = {\n",
    "    0: [(1, 10), (2, 6)],\n",
    "    1: [(3, 15), (2, 4)],\n",
    "    2: [(3, 11)],\n",
    "    3: []\n",
    "}\n",
    "print_graph_info(adjacency_list)"
   ]
  },
  {
   "cell_type": "code",
   "execution_count": 39,
   "metadata": {},
   "outputs": [
    {
     "data": {
      "text/plain": [
       "{0: [1, 2], 1: [0, 3, 4], 2: [0, 3, 4], 3: [1, 2, 4], 4: [1, 2, 3]}"
      ]
     },
     "execution_count": 39,
     "metadata": {},
     "output_type": "execute_result"
    },
    {
     "data": {
      "text/plain": [
       "{0: [(1, 10), (2, 6)],\n",
       " 1: [(0, 10), (2, 4), (3, 15)],\n",
       " 2: [(0, 6), (1, 4), (3, 11)],\n",
       " 3: [(1, 15), (2, 11)]}"
      ]
     },
     "execution_count": 39,
     "metadata": {},
     "output_type": "execute_result"
    }
   ],
   "source": [
    "def is_weighted(adjacency_list):\n",
    "  # determine if the adjacency list is weighted.\n",
    "  return any(neighbors and type(neighbors[0]) == tuple for neighbors in adjacency_list.values())\n",
    "\n",
    "\n",
    "def add_edge(adjacency_list, u, v, w=None):\n",
    "  # add an edge u-v to the adjacency list if it doesn't already exist.\n",
    "  # if w is not none, the adjacency list is assumed to be weighted.\n",
    "  if w is not None:  # weighted adjacency list\n",
    "    if not any(adj_vertex == v for adj_vertex, _ in adjacency_list[u]):\n",
    "      adjacency_list[u].append((v, w))\n",
    "  else:  # unweighted adjacency list\n",
    "    if v not in adjacency_list[u]:\n",
    "      adjacency_list[u].append(v)\n",
    "\n",
    "\n",
    "def get_undirected(adjacency_list):\n",
    "  # convert a directed adjacency list to an undirected adjacency list.\n",
    "  weighted = is_weighted(adjacency_list)\n",
    "\n",
    "  # copy the original adjacency list\n",
    "  undirected_list = {node: neighbors[:] for node, neighbors in adjacency_list.items()}\n",
    "\n",
    "  # add missing reverse edges\n",
    "  for node in adjacency_list:\n",
    "    for neighbor_info in adjacency_list[node]:\n",
    "      if weighted:\n",
    "        neighbor, weight = neighbor_info\n",
    "        add_edge(undirected_list, neighbor, node, weight)\n",
    "      else:\n",
    "        neighbor = neighbor_info\n",
    "        add_edge(undirected_list, neighbor, node)\n",
    "\n",
    "  # sort neighbors of each node\n",
    "  for node in undirected_list:\n",
    "    undirected_list[node].sort()\n",
    "\n",
    "  return undirected_list\n",
    "\n",
    "\n",
    "adjacency_list = {0: [1, 2], 1: [3, 4], 2: [4, 3], 3: [4], 4: []}\n",
    "get_undirected(adjacency_list)\n",
    "\n",
    "adjacency_list = {\n",
    "    0: [(1, 10), (2, 6)],\n",
    "    1: [(3, 15), (2, 4)],\n",
    "    2: [(3, 11)],\n",
    "    3: []\n",
    "}\n",
    "get_undirected(adjacency_list)"
   ]
  },
  {
   "cell_type": "code",
   "execution_count": 40,
   "metadata": {},
   "outputs": [
    {
     "data": {
      "text/plain": [
       "{0, 1, 2, 4}"
      ]
     },
     "execution_count": 40,
     "metadata": {},
     "output_type": "execute_result"
    },
    {
     "data": {
      "text/plain": [
       "{0, 1, 2, 4}"
      ]
     },
     "execution_count": 40,
     "metadata": {},
     "output_type": "execute_result"
    }
   ],
   "source": [
    "def get_vertices(edges):\n",
    "  # extracts unique vertices from a list of edges.\n",
    "  vertices = set()\n",
    "  for edge in edges:\n",
    "    vertices.add(edge[0])\n",
    "    vertices.add(edge[1])\n",
    "  return vertices\n",
    "\n",
    "\n",
    "edges = [(0, 1), (0, 2), (1, 2), (1, 4)]\n",
    "get_vertices(edges)\n",
    "\n",
    "edges = [(0, 1, 10), (0, 2, 80), (1, 2, 6), (1, 4, 20)]\n",
    "get_vertices(edges)"
   ]
  },
  {
   "cell_type": "code",
   "execution_count": 41,
   "metadata": {},
   "outputs": [
    {
     "data": {
      "text/plain": [
       "{0: [1, 2], 1: [2, 4], 2: [], 4: []}"
      ]
     },
     "execution_count": 41,
     "metadata": {},
     "output_type": "execute_result"
    },
    {
     "data": {
      "text/plain": [
       "{0: [(1, 10), (2, 80)], 1: [(2, 6), (4, 20)], 2: [], 4: []}"
      ]
     },
     "execution_count": 41,
     "metadata": {},
     "output_type": "execute_result"
    }
   ],
   "source": [
    "def create_adjacency_list(edges, vertices=set()):\n",
    "  vertices = vertices | get_vertices(edges)\n",
    "  adjacency_list = {u: [] for u in sorted(vertices)}\n",
    "\n",
    "  for edge in edges:\n",
    "    if len(edge) == 3:\n",
    "      u, v, w = edge\n",
    "      adjacency_list[u].append((v, w))\n",
    "    else:\n",
    "      u, v = edge\n",
    "      adjacency_list[u].append(v)\n",
    "\n",
    "  return adjacency_list\n",
    "\n",
    "\n",
    "edges = [(0, 1), (0, 2), (1, 2), (1, 4)]\n",
    "create_adjacency_list(edges)\n",
    "\n",
    "edges = [(0, 1, 10), (0, 2, 80), (1, 2, 6), (1, 4, 20)]\n",
    "create_adjacency_list(edges)"
   ]
  },
  {
   "cell_type": "code",
   "execution_count": 42,
   "metadata": {},
   "outputs": [],
   "source": [
    "def print_ufs_info(ufs):\n",
    "  adjacency_list = {u: [v] for u, v in ufs.parent.items()}\n",
    "  print_graph_info(adjacency_list)\n",
    "\n",
    "\n",
    "def print_mst_info(mst):\n",
    "  print_graph_info(create_adjacency_list(mst))"
   ]
  },
  {
   "cell_type": "code",
   "execution_count": 43,
   "metadata": {},
   "outputs": [
    {
     "data": {
      "text/plain": [
       "{'A': ['B'], 'B': ['C'], 'C': []}"
      ]
     },
     "execution_count": 43,
     "metadata": {},
     "output_type": "execute_result"
    }
   ],
   "source": [
    "def parse_csa_graph(graph_text):\n",
    "  # https://csacademy.com/app/graph_editor/\n",
    "  graph_text = graph_text.strip().split('\\n')\n",
    "  vertices = set()\n",
    "  edges = []\n",
    "  for line in graph_text:\n",
    "    line = line.strip().split()\n",
    "    for i, value in enumerate(line):\n",
    "      if value.isdigit():\n",
    "        line[i] = int(value)\n",
    "    if len(line) == 1:\n",
    "      vertices.add(line[0])\n",
    "    else:\n",
    "      edges.append(tuple(line))\n",
    "\n",
    "  return create_adjacency_list(edges, vertices)\n",
    "\n",
    "\n",
    "parse_csa_graph(\"\"\"\n",
    "A B\n",
    "B C\n",
    "\"\"\")"
   ]
  }
 ],
 "metadata": {
  "kernelspec": {
   "display_name": "Python 3",
   "language": "python",
   "name": "python3"
  },
  "language_info": {
   "codemirror_mode": {
    "name": "ipython",
    "version": 3
   },
   "file_extension": ".py",
   "mimetype": "text/x-python",
   "name": "python",
   "nbconvert_exporter": "python",
   "pygments_lexer": "ipython3",
   "version": "3.12.0"
  }
 },
 "nbformat": 4,
 "nbformat_minor": 2
}
