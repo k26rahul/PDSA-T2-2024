{
 "cells": [
  {
   "cell_type": "markdown",
   "metadata": {},
   "source": [
    "# GrPA 1"
   ]
  },
  {
   "cell_type": "code",
   "execution_count": 1,
   "metadata": {},
   "outputs": [],
   "source": [
    "class MinHeap:\n",
    "  def __init__(self, H, method='one_by_one'):\n",
    "    self.heap = []\n",
    "    if method == 'one_by_one':\n",
    "      self._build_heap_one_by_one(H)\n",
    "    elif method == 'heapify':\n",
    "      self._build_heap_heapify(H)\n",
    "    else:\n",
    "      raise ValueError(\"Invalid method. Choose 'one_by_one' or 'heapify'.\")\n",
    "\n",
    "  def insert(self, value):\n",
    "    # add value to the end\n",
    "    self.heap.append(value)\n",
    "    # fix heap property (bottom to top)\n",
    "    self._heapify_up(len(self.heap) - 1)\n",
    "\n",
    "  def delete(self):\n",
    "    if self.is_empty():\n",
    "      return None\n",
    "    # swap root with last element and remove last element\n",
    "    self._swap(0, len(self.heap) - 1)\n",
    "    root = self.heap.pop()\n",
    "    # fix heap property (top to bottom)\n",
    "    self._heapify_down(0)\n",
    "    return root\n",
    "\n",
    "  def is_empty(self):\n",
    "    # return true if heap is empty, else false\n",
    "    return len(self.heap) == 0\n",
    "\n",
    "  def _build_heap_one_by_one(self, H):\n",
    "    for value in H:\n",
    "      self.insert(value)\n",
    "\n",
    "  def _build_heap_heapify(self, H):\n",
    "    self.heap = H\n",
    "    # build heap property (top to bottom)\n",
    "    for i in range(len(H) // 2 - 1, -1, -1):\n",
    "      self._heapify_down(i)\n",
    "\n",
    "  def _heapify_up(self, index):\n",
    "    parent_index = (index - 1) // 2\n",
    "    if index > 0 and self.heap[parent_index] > self.heap[index]:\n",
    "      self._swap(index, parent_index)\n",
    "      self._heapify_up(parent_index)\n",
    "\n",
    "  def _heapify_down(self, index):\n",
    "    smallest = index\n",
    "    left = 2 * index + 1\n",
    "    right = 2 * index + 2\n",
    "    if left < len(self.heap) and self.heap[left] < self.heap[smallest]:\n",
    "      smallest = left\n",
    "    if right < len(self.heap) and self.heap[right] < self.heap[smallest]:\n",
    "      smallest = right\n",
    "    if smallest != index:\n",
    "      self._swap(index, smallest)\n",
    "      self._heapify_down(smallest)\n",
    "\n",
    "  def _swap(self, i, j):\n",
    "    self.heap[i], self.heap[j] = self.heap[j], self.heap[i]\n",
    "\n",
    "  def print_heap(self):\n",
    "    # print heap in space-separated format\n",
    "    print(\" \".join(map(str, self.heap)))\n",
    "\n",
    "# test"
   ]
  },
  {
   "cell_type": "code",
   "execution_count": 2,
   "metadata": {},
   "outputs": [],
   "source": [
    "class PriorityQueue:\n",
    "  def __init__(self):\n",
    "    self.min_heap = MinHeap([])\n",
    "\n",
    "  def enqueue(self, priority, item):\n",
    "    self.min_heap.insert((priority, item))\n",
    "\n",
    "  def dequeue(self):\n",
    "    return self.min_heap.delete()\n",
    "\n",
    "  def is_empty(self):\n",
    "    return self.min_heap.is_empty()\n",
    "\n",
    "  def __str__(self):\n",
    "    return str(self.min_heap.heap)\n",
    "\n",
    "\n",
    "# test"
   ]
  },
  {
   "cell_type": "code",
   "execution_count": 3,
   "metadata": {},
   "outputs": [
    {
     "data": {
      "text/plain": [
       "[4, 5, 8, 10, 13, 17, 26, 69, 101, 122, 125, 135, 450]"
      ]
     },
     "execution_count": 3,
     "metadata": {},
     "output_type": "execute_result"
    }
   ],
   "source": [
    "def merge_k_lists(matrix):\n",
    "  pq = PriorityQueue()\n",
    "  k = len(matrix)\n",
    "  for which_k in range(k):\n",
    "    num_index = 0\n",
    "    num = matrix[which_k][num_index]\n",
    "    pq.enqueue(num, (num_index, which_k))\n",
    "\n",
    "  output = []\n",
    "  while not pq.is_empty():\n",
    "    num, (num_index, which_k) = pq.dequeue()\n",
    "    output.append(num)\n",
    "    if num_index < len(matrix[which_k])-1:\n",
    "      num_index += 1\n",
    "      num = matrix[which_k][num_index]\n",
    "      pq.enqueue(num, (num_index, which_k))\n",
    "\n",
    "  return output\n",
    "\n",
    "\n",
    "merge_k_lists([\n",
    "    [4, 5, 13, 17],\n",
    "    [8, 26, 69, 122, 135],\n",
    "    [10, 101, 125, 450],\n",
    "])"
   ]
  },
  {
   "cell_type": "markdown",
   "metadata": {},
   "source": [
    "# GrPA 2"
   ]
  },
  {
   "cell_type": "code",
   "execution_count": 4,
   "metadata": {},
   "outputs": [
    {
     "data": {
      "text/plain": [
       "74"
      ]
     },
     "execution_count": 4,
     "metadata": {},
     "output_type": "execute_result"
    }
   ],
   "source": [
    "class Tree:\n",
    "  # constructor\n",
    "  def __init__(self, initval=None):\n",
    "    self.value = initval\n",
    "    if self.value:\n",
    "      self.left = Tree()\n",
    "      self.right = Tree()\n",
    "    else:\n",
    "      self.left = self.right = None\n",
    "    return\n",
    "\n",
    "  # Only empty node has value None\n",
    "  def isempty(self):\n",
    "    return (self.value == None)\n",
    "\n",
    "  # Leaf nodes have both children empty\n",
    "  def isleaf(self):\n",
    "    return (self.value != None and self.left.isempty() and self.right.isempty())\n",
    "\n",
    "\n",
    "def insertToBST(root, x):\n",
    "  # insert element to BST\n",
    "  # Tree should have at least one element.\n",
    "  temp = root\n",
    "  while (not temp.isempty()):\n",
    "    if (x < temp.value):\n",
    "      temp = temp.left\n",
    "    else:\n",
    "      temp = temp.right\n",
    "\n",
    "  temp.value = x\n",
    "  temp.left = Tree()\n",
    "  temp.right = Tree()\n",
    "# gray code 👆\n",
    "\n",
    "\n",
    "def inorder_traversal(node, result=[]):  # NEW 😱\n",
    "  if node.value is not None:\n",
    "    inorder_traversal(node.left, result)\n",
    "    result.append(node.value)\n",
    "    inorder_traversal(node.right, result)\n",
    "    return result\n",
    "\n",
    "\n",
    "def maxLessThan(root, k):  # NEW 😱\n",
    "  order = inorder_traversal(root)\n",
    "  if order[0] > k:\n",
    "    return None\n",
    "  ans = order[0]\n",
    "  for num in order:\n",
    "    if num > k:\n",
    "      return ans\n",
    "    ans = num\n",
    "\n",
    "\n",
    "# gray code 👇\n",
    "L = [50, 52, 54, 74, 93, 100, 114, 124, 130, 143]\n",
    "x = 92\n",
    "root = Tree(L[0])\n",
    "for item in L[1:]:\n",
    "  insertToBST(root, item)\n",
    "\n",
    "maxLessThan(root, x)"
   ]
  },
  {
   "cell_type": "code",
   "execution_count": 5,
   "metadata": {},
   "outputs": [
    {
     "name": "stdout",
     "output_type": "stream",
     "text": [
      "50 52 54 74 93 100 114 124 130 143\n"
     ]
    }
   ],
   "source": [
    "print(' '.join(map(str, [50, 52, 54, 74, 93, 100, 114, 124, 130, 143])))"
   ]
  },
  {
   "cell_type": "markdown",
   "metadata": {},
   "source": [
    "# GrPA 3"
   ]
  },
  {
   "cell_type": "code",
   "execution_count": 6,
   "metadata": {},
   "outputs": [
    {
     "data": {
      "text/plain": [
       "[44, 35, 42, 26, 33, 19, 27, 10, 14, 31]"
      ]
     },
     "execution_count": 6,
     "metadata": {},
     "output_type": "execute_result"
    }
   ],
   "source": [
    "def swap(heap, i, j):\n",
    "  heap[i], heap[j] = heap[j], heap[i]\n",
    "\n",
    "\n",
    "def heapify_down(heap, parent_index):\n",
    "  left = parent_index*2+1\n",
    "  right = parent_index*2+2\n",
    "  largest = parent_index\n",
    "  if left < len(heap) and heap[left] > heap[largest]:\n",
    "    largest = left\n",
    "  if right < len(heap) and heap[right] > heap[largest]:\n",
    "    largest = right\n",
    "  if largest != parent_index:\n",
    "    swap(heap, parent_index, largest)\n",
    "    heapify_down(heap, largest)\n",
    "\n",
    "\n",
    "def min_max(heap):\n",
    "  middle_index = len(heap)//2-1\n",
    "  for i in range(middle_index, -1, -1):\n",
    "    heapify_down(heap, i)\n",
    "  return heap\n",
    "\n",
    "\n",
    "# min_max([66, 55, 43, 34, 12, 7, 2, 20, 5])\n",
    "min_max([10, 14, 19, 26, 31, 42, 27, 44, 35, 33])"
   ]
  }
 ],
 "metadata": {
  "kernelspec": {
   "display_name": "Python 3",
   "language": "python",
   "name": "python3"
  },
  "language_info": {
   "codemirror_mode": {
    "name": "ipython",
    "version": 3
   },
   "file_extension": ".py",
   "mimetype": "text/x-python",
   "name": "python",
   "nbconvert_exporter": "python",
   "pygments_lexer": "ipython3",
   "version": "3.12.0"
  }
 },
 "nbformat": 4,
 "nbformat_minor": 2
}
