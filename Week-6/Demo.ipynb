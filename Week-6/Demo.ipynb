{
 "cells": [
  {
   "cell_type": "code",
   "execution_count": 2,
   "metadata": {},
   "outputs": [],
   "source": [
    "# a graph with 2 (disconnected) components/sets.\n",
    "# {A, B, C}, {F, G, H, D, E}\n",
    "parent = {\n",
    "    # comp 1\n",
    "    'A': 'A',\n",
    "    'B': 'A',  # A -> B\n",
    "    'C': 'B',  # B -> C\n",
    "\n",
    "    # comp 2\n",
    "    'F': 'F',\n",
    "    'G': 'F',\n",
    "    'H': 'G',\n",
    "    'D': 'H',\n",
    "    'E': 'D',\n",
    "}"
   ]
  },
  {
   "cell_type": "code",
   "execution_count": 11,
   "metadata": {},
   "outputs": [
    {
     "name": "stdout",
     "output_type": "stream",
     "text": [
      "F\n",
      "F\n",
      "F\n",
      "A\n"
     ]
    }
   ],
   "source": [
    "# find the `root node` of the component in which `node` belongs\n",
    "def find(node):\n",
    "  while parent[node] != node:\n",
    "    node = parent[node]  # go upward in hierarchy\n",
    "  return node  # final node is `root node`\n",
    "\n",
    "\n",
    "print(find('D'))\n",
    "print(find('H'))\n",
    "print(find('F'))\n",
    "print(find('C'))"
   ]
  },
  {
   "cell_type": "code",
   "execution_count": 18,
   "metadata": {},
   "outputs": [
    {
     "name": "stdout",
     "output_type": "stream",
     "text": [
      "☠️ roots are equal, means u, v are in same component, so merge rejected.\n"
     ]
    },
    {
     "data": {
      "text/plain": [
       "{'A': 'A',\n",
       " 'B': 'A',\n",
       " 'C': 'B',\n",
       " 'F': 'A',\n",
       " 'G': 'F',\n",
       " 'H': 'G',\n",
       " 'D': 'H',\n",
       " 'E': 'D'}"
      ]
     },
     "metadata": {},
     "output_type": "display_data"
    }
   ],
   "source": [
    "# attempt to merge 2 disjoint components to make a single larger component\n",
    "# u and v must come from DIFFERENT components\n",
    "def union(u, v):\n",
    "  root1 = find(u)\n",
    "  root2 = find(v)\n",
    "  if root1 != root2:\n",
    "    parent[root2] = root1\n",
    "    print('✅ merge successfully!')\n",
    "  else:\n",
    "    print('☠️ roots are equal, means u, v are in same component, so merge rejected.')\n",
    "\n",
    "\n",
    "union('B', 'G')  # roots are A, F: parent[F] = A\n",
    "display(parent)"
   ]
  },
  {
   "cell_type": "code",
   "execution_count": 4,
   "metadata": {},
   "outputs": [],
   "source": [
    "# {A, B, C}, {F, G, H, D, E} <- components (divided into sets) [goal]\n",
    "\n",
    "# {A, B, C, F, G, H, D, E} <- vertices (all together) [init situation]"
   ]
  },
  {
   "cell_type": "code",
   "execution_count": null,
   "metadata": {},
   "outputs": [],
   "source": [
    "# Stack keeps track of order of elements (LIFO)\n",
    "# Queue keeps track of order of elements (FIFO)\n",
    "# LL is just a list (sequence of elements, made with chain of nodes)\n",
    "\n",
    "# UFS keeps a track of disjoint sets:\n",
    "#   Suppose you have a collection of nodes. Nodes have connection among themselves. So basically, you've a graph. This graph may have disjoint components (sets).\n",
    "#   ➡️ UFS usage:\n",
    "#   1. helps you to keep a track of which component a node belongs (`find()`)\n",
    "#   2. helps you to merge components"
   ]
  }
 ],
 "metadata": {
  "kernelspec": {
   "display_name": "Python 3",
   "language": "python",
   "name": "python3"
  },
  "language_info": {
   "codemirror_mode": {
    "name": "ipython",
    "version": 3
   },
   "file_extension": ".py",
   "mimetype": "text/x-python",
   "name": "python",
   "nbconvert_exporter": "python",
   "pygments_lexer": "ipython3",
   "version": "3.12.0"
  }
 },
 "nbformat": 4,
 "nbformat_minor": 2
}
