{
 "cells": [
  {
   "cell_type": "markdown",
   "metadata": {},
   "source": [
    "# Kruskal's"
   ]
  },
  {
   "cell_type": "code",
   "execution_count": 3,
   "metadata": {},
   "outputs": [
    {
     "data": {
      "text/plain": [
       "True"
      ]
     },
     "execution_count": 3,
     "metadata": {},
     "output_type": "execute_result"
    }
   ],
   "source": [
    "class UnionFind:\n",
    "  def __init__(self, vertices):\n",
    "    self.parent = {u: u for u in vertices}\n",
    "\n",
    "  def find(self, node):\n",
    "    while self.parent[node] != node:\n",
    "      node = self.parent[node]\n",
    "    return node\n",
    "\n",
    "  def union(self, u, v):\n",
    "    root1 = self.find(u)\n",
    "    root2 = self.find(v)\n",
    "    if root1 != root2:\n",
    "      self.parent[root2] = root1\n",
    "      return True\n",
    "    return False\n",
    "\n",
    "\n",
    "def kruskal(adjacency_list):\n",
    "  mst = []\n",
    "  edges = []\n",
    "  for u in adjacency_list:\n",
    "    for v, weight in adjacency_list[u]:\n",
    "      edges.append((weight, u, v))\n",
    "  edges.sort()\n",
    "\n",
    "  ufs = UnionFind(adjacency_list)\n",
    "\n",
    "  for weight, u, v in edges:\n",
    "    if ufs.union(u, v):\n",
    "      mst.append((u, v, weight))\n",
    "  return mst\n",
    "\n",
    "\n",
    "adjacency_list = {\n",
    "    0: [(1, 10), (2, 6)],\n",
    "    1: [(0, 10), (3, 15), (2, 4)],\n",
    "    2: [(0, 6), (1, 4), (3, 11)],\n",
    "    3: [(1, 15), (2, 11)]\n",
    "}\n",
    "\n",
    "kruskal(adjacency_list) == [(1, 2, 4), (0, 2, 6), (2, 3, 11)]"
   ]
  },
  {
   "cell_type": "code",
   "execution_count": 4,
   "metadata": {},
   "outputs": [
    {
     "data": {
      "text/plain": [
       "True"
      ]
     },
     "execution_count": 4,
     "metadata": {},
     "output_type": "execute_result"
    }
   ],
   "source": [
    "adjacency_list = {\n",
    "    'A': [('C', 3), ('D', 3), ('B', 2)],\n",
    "    'B': [('A', 2), ('C', 4), ('E', 3)],\n",
    "    'C': [('A', 3), ('B', 4), ('F', 6), ('E', 1)],\n",
    "    'D': [('A', 3), ('F', 7)],\n",
    "    'E': [('B', 3), ('C', 1), ('F', 8)],\n",
    "    'F': [('D', 7), ('E', 8), ('G', 9), ('C', 6)],\n",
    "    'G': [('F', 9)]\n",
    "}\n",
    "\n",
    "kruskal(adjacency_list) == [('C', 'E', 1),\n",
    "                            ('A', 'B', 2),\n",
    "                            ('A', 'C', 3),\n",
    "                            ('A', 'D', 3),\n",
    "                            ('C', 'F', 6),\n",
    "                            ('F', 'G', 9)]"
   ]
  },
  {
   "cell_type": "markdown",
   "metadata": {},
   "source": [
    "# Heap Construction [MaxHeap]"
   ]
  },
  {
   "cell_type": "code",
   "execution_count": 22,
   "metadata": {},
   "outputs": [
    {
     "name": "stdout",
     "output_type": "stream",
     "text": [
      "100 90 70 80 50 60 30 10 40 20\n"
     ]
    }
   ],
   "source": [
    "class MaxHeap:\n",
    "  def __init__(self, H, method='one_by_one'):\n",
    "    self.heap = []\n",
    "    if method == 'one_by_one':\n",
    "      self._build_heap_one_by_one(H)\n",
    "    elif method == 'heapify':\n",
    "      self._build_heap_heapify(H)\n",
    "\n",
    "  def insert(self, value):\n",
    "    # 1. append\n",
    "    self.heap.append(value)\n",
    "    # 2. heapify (bottom to top)\n",
    "    self._heapify_up(len(self.heap)-1)\n",
    "\n",
    "  def _swap(self, i, j):\n",
    "    self.heap[i], self.heap[j] = self.heap[j], self.heap[i]\n",
    "\n",
    "  def _heapify_up(self, index):\n",
    "    parent_index = (index-1)//2\n",
    "    if index > 0 and self.heap[parent_index] < self.heap[index]:\n",
    "      self._swap(index, parent_index)\n",
    "      self._heapify_up(parent_index)\n",
    "\n",
    "  def _heapify_down(self, index):\n",
    "    largest = index\n",
    "    left = index*2 + 1\n",
    "    right = index*2 + 2\n",
    "    if left < len(self.heap) and self.heap[left] > self.heap[largest]:\n",
    "      largest = left\n",
    "    if right < len(self.heap) and self.heap[right] > self.heap[largest]:\n",
    "      largest = right\n",
    "    if largest != index:\n",
    "      self._swap(index, largest)\n",
    "      self._heapify_down(largest)\n",
    "\n",
    "  def _build_heap_one_by_one(self, H):\n",
    "    for value in H:\n",
    "      self.insert(value)\n",
    "\n",
    "  def _build_heap_heapify(self, H):\n",
    "    self.heap = H\n",
    "    middle_index = len(self.heap)//2-1\n",
    "    for i in range(middle_index, -1, -1):\n",
    "      self._heapify_down(i)\n",
    "\n",
    "  def print_heap(self):\n",
    "    # print(self.heap)\n",
    "    print(' '.join(map(str, self.heap)))\n",
    "\n",
    "\n",
    "H = [10, 20, 30, 40, 50, 60, 70, 80, 90, 100]\n",
    "max_heap = MaxHeap(H, method='heapify')\n",
    "# max_heap = MaxHeap(H, method='one_by_one')\n",
    "max_heap.print_heap()"
   ]
  },
  {
   "cell_type": "markdown",
   "metadata": {},
   "source": [
    "# Heap Construction [MinHeap]"
   ]
  },
  {
   "cell_type": "code",
   "execution_count": 27,
   "metadata": {},
   "outputs": [
    {
     "name": "stdout",
     "output_type": "stream",
     "text": [
      "10 20 40 30 60 50 80 100 70 90\n"
     ]
    }
   ],
   "source": [
    "class MinHeap:\n",
    "  def __init__(self, H, method='one_by_one'):\n",
    "    self.heap = []\n",
    "    if method == 'one_by_one':\n",
    "      self._build_heap_one_by_one(H)\n",
    "    elif method == 'heapify':\n",
    "      self._build_heap_heapify(H)\n",
    "\n",
    "  def insert(self, value):\n",
    "    # 1. append\n",
    "    self.heap.append(value)\n",
    "    # 2. heapify (bottom to top)\n",
    "    self._heapify_up(len(self.heap)-1)\n",
    "\n",
    "  def _swap(self, i, j):\n",
    "    self.heap[i], self.heap[j] = self.heap[j], self.heap[i]\n",
    "\n",
    "  def _heapify_up(self, index):\n",
    "    parent_index = (index-1)//2\n",
    "    if index > 0 and self.heap[parent_index] > self.heap[index]:\n",
    "      self._swap(index, parent_index)\n",
    "      self._heapify_up(parent_index)\n",
    "\n",
    "  def _heapify_down(self, index):\n",
    "    smallest = index\n",
    "    left = index*2 + 1\n",
    "    right = index*2 + 2\n",
    "    if left < len(self.heap) and self.heap[left] < self.heap[smallest]:\n",
    "      smallest = left\n",
    "    if right < len(self.heap) and self.heap[right] < self.heap[smallest]:\n",
    "      smallest = right\n",
    "    if smallest != index:\n",
    "      self._swap(index, smallest)\n",
    "      self._heapify_down(smallest)\n",
    "\n",
    "  def _build_heap_one_by_one(self, H):\n",
    "    for value in H:\n",
    "      self.insert(value)\n",
    "\n",
    "  def _build_heap_heapify(self, H):\n",
    "    self.heap = H\n",
    "    middle_index = len(self.heap)//2-1\n",
    "    for i in range(middle_index, -1, -1):\n",
    "      self._heapify_down(i)\n",
    "\n",
    "  def print_heap(self):\n",
    "    # print(self.heap)\n",
    "    print(' '.join(map(str, self.heap)))\n",
    "\n",
    "\n",
    "H = [100, 90, 80, 70, 60, 50, 40, 30, 20, 10]\n",
    "min_heap = MinHeap(H, method='heapify')\n",
    "# min_heap = MinHeap(H, method='one_by_one')\n",
    "min_heap.print_heap()"
   ]
  },
  {
   "cell_type": "markdown",
   "metadata": {},
   "source": [
    "# MinHeap `delete()`"
   ]
  },
  {
   "cell_type": "code",
   "execution_count": 32,
   "metadata": {},
   "outputs": [
    {
     "name": "stdout",
     "output_type": "stream",
     "text": [
      "10\n",
      "20\n",
      "30\n",
      "40 60 50 70 90 100 80\n"
     ]
    }
   ],
   "source": [
    "class MinHeap:\n",
    "  def __init__(self, H, method='one_by_one'):\n",
    "    self.heap = []\n",
    "    if method == 'one_by_one':\n",
    "      self._build_heap_one_by_one(H)\n",
    "    elif method == 'heapify':\n",
    "      self._build_heap_heapify(H)\n",
    "\n",
    "  def insert(self, value):\n",
    "    # 1. append\n",
    "    self.heap.append(value)\n",
    "    # 2. heapify (bottom to top)\n",
    "    self._heapify_up(len(self.heap)-1)\n",
    "\n",
    "  def delete(self):\n",
    "    self._swap(0, len(self.heap)-1)\n",
    "    root = self.heap.pop()\n",
    "    self._heapify_down(0)\n",
    "    return root\n",
    "\n",
    "  def _swap(self, i, j):\n",
    "    self.heap[i], self.heap[j] = self.heap[j], self.heap[i]\n",
    "\n",
    "  def _heapify_up(self, index):\n",
    "    parent_index = (index-1)//2\n",
    "    if index > 0 and self.heap[parent_index] > self.heap[index]:\n",
    "      self._swap(index, parent_index)\n",
    "      self._heapify_up(parent_index)\n",
    "\n",
    "  def _heapify_down(self, index):\n",
    "    smallest = index\n",
    "    left = index*2 + 1\n",
    "    right = index*2 + 2\n",
    "    if left < len(self.heap) and self.heap[left] < self.heap[smallest]:\n",
    "      smallest = left\n",
    "    if right < len(self.heap) and self.heap[right] < self.heap[smallest]:\n",
    "      smallest = right\n",
    "    if smallest != index:\n",
    "      self._swap(index, smallest)\n",
    "      self._heapify_down(smallest)\n",
    "\n",
    "  def _build_heap_one_by_one(self, H):\n",
    "    for value in H:\n",
    "      self.insert(value)\n",
    "\n",
    "  def _build_heap_heapify(self, H):\n",
    "    self.heap = H\n",
    "    middle_index = len(self.heap)//2-1\n",
    "    for i in range(middle_index, -1, -1):\n",
    "      self._heapify_down(i)\n",
    "\n",
    "  def print_heap(self):\n",
    "    # print(self.heap)\n",
    "    print(' '.join(map(str, self.heap)))\n",
    "\n",
    "\n",
    "H = [100, 90, 80, 70, 60, 50, 40, 30, 20, 10]\n",
    "min_heap = MinHeap(H, method='heapify')\n",
    "print(min_heap.delete())\n",
    "print(min_heap.delete())\n",
    "print(min_heap.delete())\n",
    "min_heap.print_heap()"
   ]
  },
  {
   "cell_type": "markdown",
   "metadata": {},
   "source": [
    "# Heap sort [MinHeap]"
   ]
  },
  {
   "cell_type": "code",
   "execution_count": 38,
   "metadata": {},
   "outputs": [
    {
     "name": "stdout",
     "output_type": "stream",
     "text": [
      "10 20 40 30 60 50 80 100 70 90\n"
     ]
    },
    {
     "data": {
      "text/plain": [
       "[10, 20, 30, 40, 50, 60, 70, 80, 90, 100]"
      ]
     },
     "execution_count": 38,
     "metadata": {},
     "output_type": "execute_result"
    },
    {
     "name": "stdout",
     "output_type": "stream",
     "text": [
      "10 20 40 30 60 50 80 100 70 90\n"
     ]
    }
   ],
   "source": [
    "class MinHeap:\n",
    "  def __init__(self, H, method='one_by_one'):\n",
    "    self.heap = []\n",
    "    if method == 'one_by_one':\n",
    "      self._build_heap_one_by_one(H)\n",
    "    elif method == 'heapify':\n",
    "      self._build_heap_heapify(H)\n",
    "\n",
    "  def insert(self, value):\n",
    "    # 1. append\n",
    "    self.heap.append(value)\n",
    "    # 2. heapify (bottom to top)\n",
    "    self._heapify_up(len(self.heap)-1)\n",
    "\n",
    "  def delete(self):\n",
    "    self._swap(0, len(self.heap)-1)\n",
    "    root = self.heap.pop()\n",
    "    self._heapify_down(0)\n",
    "    return root\n",
    "\n",
    "  def _swap(self, i, j):\n",
    "    self.heap[i], self.heap[j] = self.heap[j], self.heap[i]\n",
    "\n",
    "  def _heapify_up(self, index):\n",
    "    parent_index = (index-1)//2\n",
    "    if index > 0 and self.heap[parent_index] > self.heap[index]:\n",
    "      self._swap(index, parent_index)\n",
    "      self._heapify_up(parent_index)\n",
    "\n",
    "  def _heapify_down(self, index):\n",
    "    smallest = index\n",
    "    left = index*2 + 1\n",
    "    right = index*2 + 2\n",
    "    if left < len(self.heap) and self.heap[left] < self.heap[smallest]:\n",
    "      smallest = left\n",
    "    if right < len(self.heap) and self.heap[right] < self.heap[smallest]:\n",
    "      smallest = right\n",
    "    if smallest != index:\n",
    "      self._swap(index, smallest)\n",
    "      self._heapify_down(smallest)\n",
    "\n",
    "  def _build_heap_one_by_one(self, H):\n",
    "    for value in H:\n",
    "      self.insert(value)\n",
    "\n",
    "  def _build_heap_heapify(self, H):\n",
    "    self.heap = H\n",
    "    middle_index = len(self.heap)//2-1\n",
    "    for i in range(middle_index, -1, -1):\n",
    "      self._heapify_down(i)\n",
    "\n",
    "  def heap_sort(self):\n",
    "    temp_heap = self.heap.copy()\n",
    "    output = []\n",
    "    for i in range(len(self.heap)):\n",
    "      root = self.delete()\n",
    "      output.append(root)\n",
    "    self.heap = temp_heap\n",
    "    return output\n",
    "\n",
    "  def print_heap(self):\n",
    "    # print(self.heap)\n",
    "    print(' '.join(map(str, self.heap)))\n",
    "\n",
    "\n",
    "H = [100, 90, 80, 70, 60, 50, 40, 30, 20, 10]\n",
    "min_heap = MinHeap(H, method='heapify')\n",
    "\n",
    "min_heap.print_heap()\n",
    "min_heap.heap_sort()\n",
    "min_heap.print_heap()"
   ]
  },
  {
   "cell_type": "markdown",
   "metadata": {},
   "source": [
    "# BST 2"
   ]
  },
  {
   "cell_type": "code",
   "execution_count": 54,
   "metadata": {},
   "outputs": [
    {
     "name": "stdout",
     "output_type": "stream",
     "text": [
      "[1, 2, 3, 5, 13, 17, 20, 100]\n"
     ]
    }
   ],
   "source": [
    "class BST:\n",
    "  def __init__(self, values=[]):\n",
    "    self.make_empty()\n",
    "    for value in values:\n",
    "      self.insert(value)\n",
    "\n",
    "  def is_empty(self):\n",
    "    return self.value is None\n",
    "\n",
    "  def is_leaf(self):\n",
    "    return self.value and self.left.is_empty() and self.right.is_empty()\n",
    "\n",
    "  def make_empty(self):\n",
    "    self.value, self.left, self.right = None, None, None\n",
    "\n",
    "  def inorder_traversal(self):\n",
    "    if self.is_empty():\n",
    "      return []\n",
    "    return self.left.inorder_traversal() + [self.value] + self.right.inorder_traversal()\n",
    "\n",
    "  def insert(self, value):\n",
    "    if self.is_empty():\n",
    "      self.value = value\n",
    "      self.left = BST()\n",
    "      self.right = BST()\n",
    "    elif value < self.value:\n",
    "      self.left.insert(value)\n",
    "    elif value > self.value:\n",
    "      self.right.insert(value)\n",
    "\n",
    "  def delete(self, value):\n",
    "    if self.is_empty():\n",
    "      return\n",
    "    if value < self.value:\n",
    "      self.left.delete(value)\n",
    "    elif value > self.value:\n",
    "      self.right.delete(value)\n",
    "    else:  # value == self.value\n",
    "      if self.is_leaf():\n",
    "        self.make_empty()\n",
    "      elif self.left.is_empty():\n",
    "        self._replace_with_right_subtree()\n",
    "      elif self.right.is_empty():\n",
    "        self._replace_with_left_subtree()\n",
    "      else:\n",
    "        left_max_value = self.left.get_max_value()\n",
    "        self.value = left_max_value\n",
    "        self.left.delete(left_max_value)\n",
    "\n",
    "  def _replace_with_left_subtree(self):\n",
    "    self.value, self.left, self.right = (self.left.value,\n",
    "                                         self.left.left, self.left.right)\n",
    "\n",
    "  def _replace_with_right_subtree(self):\n",
    "    self.value, self.left, self.right = (self.right.value,\n",
    "                                         self.right.left, self.right.right)\n",
    "\n",
    "  def find(self, value):\n",
    "    if self.is_empty():\n",
    "      return False\n",
    "    if self.value == value:\n",
    "      return True\n",
    "    if value < self.value:\n",
    "      return self.left.find(value)\n",
    "    return self.right.find(value)\n",
    "\n",
    "  def get_min_value(self):\n",
    "    if self.is_empty():\n",
    "      return None\n",
    "    if self.left.is_empty():\n",
    "      return self.value\n",
    "    return self.left.get_min_value()\n",
    "\n",
    "  def get_max_value(self):\n",
    "    if self.is_empty():\n",
    "      return None\n",
    "    if self.right.is_empty():\n",
    "      return self.value\n",
    "    return self.right.get_max_value()\n",
    "\n",
    "  def __str__(self):\n",
    "    return str(self.inorder_traversal())\n",
    "\n",
    "\n",
    "bst = BST([17, 5, 13, 20, 2, 3, 1, 100])\n",
    "bst.delete(16)\n",
    "print(bst)\n",
    "# print(bst.get_min_value())\n",
    "# print(bst.get_max_value())\n",
    "# print(bst.find(13))\n",
    "# print(bst.find(23))"
   ]
  },
  {
   "cell_type": "markdown",
   "metadata": {},
   "source": [
    "# BST 2"
   ]
  }
 ],
 "metadata": {
  "kernelspec": {
   "display_name": "Python 3",
   "language": "python",
   "name": "python3"
  },
  "language_info": {
   "codemirror_mode": {
    "name": "ipython",
    "version": 3
   },
   "file_extension": ".py",
   "mimetype": "text/x-python",
   "name": "python",
   "nbconvert_exporter": "python",
   "pygments_lexer": "ipython3",
   "version": "3.12.0"
  }
 },
 "nbformat": 4,
 "nbformat_minor": 2
}
