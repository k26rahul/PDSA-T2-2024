{
 "cells": [
  {
   "cell_type": "markdown",
   "metadata": {},
   "source": [
    "# Kruskal's"
   ]
  },
  {
   "cell_type": "code",
   "execution_count": 3,
   "metadata": {},
   "outputs": [
    {
     "data": {
      "text/plain": [
       "True"
      ]
     },
     "execution_count": 3,
     "metadata": {},
     "output_type": "execute_result"
    }
   ],
   "source": [
    "class UnionFind:\n",
    "  def __init__(self, vertices):\n",
    "    self.parent = {u: u for u in vertices}\n",
    "\n",
    "  def find(self, node):\n",
    "    while self.parent[node] != node:\n",
    "      node = self.parent[node]\n",
    "    return node\n",
    "\n",
    "  def union(self, u, v):\n",
    "    root1 = self.find(u)\n",
    "    root2 = self.find(v)\n",
    "    if root1 != root2:\n",
    "      self.parent[root2] = root1\n",
    "      return True\n",
    "    return False\n",
    "\n",
    "\n",
    "def kruskal(adjacency_list):\n",
    "  mst = []\n",
    "  edges = []\n",
    "  for u in adjacency_list:\n",
    "    for v, weight in adjacency_list[u]:\n",
    "      edges.append((weight, u, v))\n",
    "  edges.sort()\n",
    "\n",
    "  ufs = UnionFind(adjacency_list)\n",
    "\n",
    "  for weight, u, v in edges:\n",
    "    if ufs.union(u, v):\n",
    "      mst.append((u, v, weight))\n",
    "  return mst\n",
    "\n",
    "\n",
    "adjacency_list = {\n",
    "    0: [(1, 10), (2, 6)],\n",
    "    1: [(0, 10), (3, 15), (2, 4)],\n",
    "    2: [(0, 6), (1, 4), (3, 11)],\n",
    "    3: [(1, 15), (2, 11)]\n",
    "}\n",
    "\n",
    "kruskal(adjacency_list) == [(1, 2, 4), (0, 2, 6), (2, 3, 11)]"
   ]
  },
  {
   "cell_type": "code",
   "execution_count": 4,
   "metadata": {},
   "outputs": [
    {
     "data": {
      "text/plain": [
       "True"
      ]
     },
     "execution_count": 4,
     "metadata": {},
     "output_type": "execute_result"
    }
   ],
   "source": [
    "adjacency_list = {\n",
    "    'A': [('C', 3), ('D', 3), ('B', 2)],\n",
    "    'B': [('A', 2), ('C', 4), ('E', 3)],\n",
    "    'C': [('A', 3), ('B', 4), ('F', 6), ('E', 1)],\n",
    "    'D': [('A', 3), ('F', 7)],\n",
    "    'E': [('B', 3), ('C', 1), ('F', 8)],\n",
    "    'F': [('D', 7), ('E', 8), ('G', 9), ('C', 6)],\n",
    "    'G': [('F', 9)]\n",
    "}\n",
    "\n",
    "kruskal(adjacency_list) == [('C', 'E', 1),\n",
    "                            ('A', 'B', 2),\n",
    "                            ('A', 'C', 3),\n",
    "                            ('A', 'D', 3),\n",
    "                            ('C', 'F', 6),\n",
    "                            ('F', 'G', 9)]"
   ]
  },
  {
   "cell_type": "markdown",
   "metadata": {},
   "source": [
    "# Heap Construction [MaxHeap]"
   ]
  },
  {
   "cell_type": "code",
   "execution_count": 22,
   "metadata": {},
   "outputs": [
    {
     "name": "stdout",
     "output_type": "stream",
     "text": [
      "100 90 70 80 50 60 30 10 40 20\n"
     ]
    }
   ],
   "source": [
    "class MaxHeap:\n",
    "  def __init__(self, H, method='one_by_one'):\n",
    "    self.heap = []\n",
    "    if method == 'one_by_one':\n",
    "      self._build_heap_one_by_one(H)\n",
    "    elif method == 'heapify':\n",
    "      self._build_heap_heapify(H)\n",
    "\n",
    "  def insert(self, value):\n",
    "    # 1. append\n",
    "    self.heap.append(value)\n",
    "    # 2. heapify (bottom to top)\n",
    "    self._heapify_up(len(self.heap)-1)\n",
    "\n",
    "  def _swap(self, i, j):\n",
    "    self.heap[i], self.heap[j] = self.heap[j], self.heap[i]\n",
    "\n",
    "  def _heapify_up(self, index):\n",
    "    parent_index = (index-1)//2\n",
    "    if index > 0 and self.heap[parent_index] < self.heap[index]:\n",
    "      self._swap(index, parent_index)\n",
    "      self._heapify_up(parent_index)\n",
    "\n",
    "  def _heapify_down(self, index):\n",
    "    largest = index\n",
    "    left = index*2 + 1\n",
    "    right = index*2 + 2\n",
    "    if left < len(self.heap) and self.heap[left] > self.heap[largest]:\n",
    "      largest = left\n",
    "    if right < len(self.heap) and self.heap[right] > self.heap[largest]:\n",
    "      largest = right\n",
    "    if largest != index:\n",
    "      self._swap(index, largest)\n",
    "      self._heapify_down(largest)\n",
    "\n",
    "  def _build_heap_one_by_one(self, H):\n",
    "    for value in H:\n",
    "      self.insert(value)\n",
    "\n",
    "  def _build_heap_heapify(self, H):\n",
    "    self.heap = H\n",
    "    middle_index = len(self.heap)//2-1\n",
    "    for i in range(middle_index, -1, -1):\n",
    "      self._heapify_down(i)\n",
    "\n",
    "  def print_heap(self):\n",
    "    # print(self.heap)\n",
    "    print(' '.join(map(str, self.heap)))\n",
    "\n",
    "\n",
    "H = [10, 20, 30, 40, 50, 60, 70, 80, 90, 100]\n",
    "max_heap = MaxHeap(H, method='heapify')\n",
    "# max_heap = MaxHeap(H, method='one_by_one')\n",
    "max_heap.print_heap()"
   ]
  },
  {
   "cell_type": "markdown",
   "metadata": {},
   "source": [
    "# Heap Construction [MinHeap]"
   ]
  },
  {
   "cell_type": "code",
   "execution_count": 27,
   "metadata": {},
   "outputs": [
    {
     "name": "stdout",
     "output_type": "stream",
     "text": [
      "10 20 40 30 60 50 80 100 70 90\n"
     ]
    }
   ],
   "source": [
    "class MinHeap:\n",
    "  def __init__(self, H, method='one_by_one'):\n",
    "    self.heap = []\n",
    "    if method == 'one_by_one':\n",
    "      self._build_heap_one_by_one(H)\n",
    "    elif method == 'heapify':\n",
    "      self._build_heap_heapify(H)\n",
    "\n",
    "  def insert(self, value):\n",
    "    # 1. append\n",
    "    self.heap.append(value)\n",
    "    # 2. heapify (bottom to top)\n",
    "    self._heapify_up(len(self.heap)-1)\n",
    "\n",
    "  def _swap(self, i, j):\n",
    "    self.heap[i], self.heap[j] = self.heap[j], self.heap[i]\n",
    "\n",
    "  def _heapify_up(self, index):\n",
    "    parent_index = (index-1)//2\n",
    "    if index > 0 and self.heap[parent_index] > self.heap[index]:\n",
    "      self._swap(index, parent_index)\n",
    "      self._heapify_up(parent_index)\n",
    "\n",
    "  def _heapify_down(self, index):\n",
    "    smallest = index\n",
    "    left = index*2 + 1\n",
    "    right = index*2 + 2\n",
    "    if left < len(self.heap) and self.heap[left] < self.heap[smallest]:\n",
    "      smallest = left\n",
    "    if right < len(self.heap) and self.heap[right] < self.heap[smallest]:\n",
    "      smallest = right\n",
    "    if smallest != index:\n",
    "      self._swap(index, smallest)\n",
    "      self._heapify_down(smallest)\n",
    "\n",
    "  def _build_heap_one_by_one(self, H):\n",
    "    for value in H:\n",
    "      self.insert(value)\n",
    "\n",
    "  def _build_heap_heapify(self, H):\n",
    "    self.heap = H\n",
    "    middle_index = len(self.heap)//2-1\n",
    "    for i in range(middle_index, -1, -1):\n",
    "      self._heapify_down(i)\n",
    "\n",
    "  def print_heap(self):\n",
    "    # print(self.heap)\n",
    "    print(' '.join(map(str, self.heap)))\n",
    "\n",
    "\n",
    "H = [100, 90, 80, 70, 60, 50, 40, 30, 20, 10]\n",
    "min_heap = MinHeap(H, method='heapify')\n",
    "# min_heap = MinHeap(H, method='one_by_one')\n",
    "min_heap.print_heap()"
   ]
  },
  {
   "cell_type": "markdown",
   "metadata": {},
   "source": [
    "# MinHeap `delete()`"
   ]
  },
  {
   "cell_type": "code",
   "execution_count": 32,
   "metadata": {},
   "outputs": [
    {
     "name": "stdout",
     "output_type": "stream",
     "text": [
      "10\n",
      "20\n",
      "30\n",
      "40 60 50 70 90 100 80\n"
     ]
    }
   ],
   "source": [
    "class MinHeap:\n",
    "  def __init__(self, H, method='one_by_one'):\n",
    "    self.heap = []\n",
    "    if method == 'one_by_one':\n",
    "      self._build_heap_one_by_one(H)\n",
    "    elif method == 'heapify':\n",
    "      self._build_heap_heapify(H)\n",
    "\n",
    "  def insert(self, value):\n",
    "    # 1. append\n",
    "    self.heap.append(value)\n",
    "    # 2. heapify (bottom to top)\n",
    "    self._heapify_up(len(self.heap)-1)\n",
    "\n",
    "  def delete(self):\n",
    "    self._swap(0, len(self.heap)-1)\n",
    "    root = self.heap.pop()\n",
    "    self._heapify_down(0)\n",
    "    return root\n",
    "\n",
    "  def _swap(self, i, j):\n",
    "    self.heap[i], self.heap[j] = self.heap[j], self.heap[i]\n",
    "\n",
    "  def _heapify_up(self, index):\n",
    "    parent_index = (index-1)//2\n",
    "    if index > 0 and self.heap[parent_index] > self.heap[index]:\n",
    "      self._swap(index, parent_index)\n",
    "      self._heapify_up(parent_index)\n",
    "\n",
    "  def _heapify_down(self, index):\n",
    "    smallest = index\n",
    "    left = index*2 + 1\n",
    "    right = index*2 + 2\n",
    "    if left < len(self.heap) and self.heap[left] < self.heap[smallest]:\n",
    "      smallest = left\n",
    "    if right < len(self.heap) and self.heap[right] < self.heap[smallest]:\n",
    "      smallest = right\n",
    "    if smallest != index:\n",
    "      self._swap(index, smallest)\n",
    "      self._heapify_down(smallest)\n",
    "\n",
    "  def _build_heap_one_by_one(self, H):\n",
    "    for value in H:\n",
    "      self.insert(value)\n",
    "\n",
    "  def _build_heap_heapify(self, H):\n",
    "    self.heap = H\n",
    "    middle_index = len(self.heap)//2-1\n",
    "    for i in range(middle_index, -1, -1):\n",
    "      self._heapify_down(i)\n",
    "\n",
    "  def print_heap(self):\n",
    "    # print(self.heap)\n",
    "    print(' '.join(map(str, self.heap)))\n",
    "\n",
    "\n",
    "H = [100, 90, 80, 70, 60, 50, 40, 30, 20, 10]\n",
    "min_heap = MinHeap(H, method='heapify')\n",
    "print(min_heap.delete())\n",
    "print(min_heap.delete())\n",
    "print(min_heap.delete())\n",
    "min_heap.print_heap()"
   ]
  },
  {
   "cell_type": "markdown",
   "metadata": {},
   "source": [
    "# Heap sort [MinHeap]"
   ]
  },
  {
   "cell_type": "code",
   "execution_count": 38,
   "metadata": {},
   "outputs": [
    {
     "name": "stdout",
     "output_type": "stream",
     "text": [
      "10 20 40 30 60 50 80 100 70 90\n"
     ]
    },
    {
     "data": {
      "text/plain": [
       "[10, 20, 30, 40, 50, 60, 70, 80, 90, 100]"
      ]
     },
     "execution_count": 38,
     "metadata": {},
     "output_type": "execute_result"
    },
    {
     "name": "stdout",
     "output_type": "stream",
     "text": [
      "10 20 40 30 60 50 80 100 70 90\n"
     ]
    }
   ],
   "source": [
    "class MinHeap:\n",
    "  def __init__(self, H, method='one_by_one'):\n",
    "    self.heap = []\n",
    "    if method == 'one_by_one':\n",
    "      self._build_heap_one_by_one(H)\n",
    "    elif method == 'heapify':\n",
    "      self._build_heap_heapify(H)\n",
    "\n",
    "  def insert(self, value):\n",
    "    # 1. append\n",
    "    self.heap.append(value)\n",
    "    # 2. heapify (bottom to top)\n",
    "    self._heapify_up(len(self.heap)-1)\n",
    "\n",
    "  def delete(self):\n",
    "    self._swap(0, len(self.heap)-1)\n",
    "    root = self.heap.pop()\n",
    "    self._heapify_down(0)\n",
    "    return root\n",
    "\n",
    "  def _swap(self, i, j):\n",
    "    self.heap[i], self.heap[j] = self.heap[j], self.heap[i]\n",
    "\n",
    "  def _heapify_up(self, index):\n",
    "    parent_index = (index-1)//2\n",
    "    if index > 0 and self.heap[parent_index] > self.heap[index]:\n",
    "      self._swap(index, parent_index)\n",
    "      self._heapify_up(parent_index)\n",
    "\n",
    "  def _heapify_down(self, index):\n",
    "    smallest = index\n",
    "    left = index*2 + 1\n",
    "    right = index*2 + 2\n",
    "    if left < len(self.heap) and self.heap[left] < self.heap[smallest]:\n",
    "      smallest = left\n",
    "    if right < len(self.heap) and self.heap[right] < self.heap[smallest]:\n",
    "      smallest = right\n",
    "    if smallest != index:\n",
    "      self._swap(index, smallest)\n",
    "      self._heapify_down(smallest)\n",
    "\n",
    "  def _build_heap_one_by_one(self, H):\n",
    "    for value in H:\n",
    "      self.insert(value)\n",
    "\n",
    "  def _build_heap_heapify(self, H):\n",
    "    self.heap = H\n",
    "    middle_index = len(self.heap)//2-1\n",
    "    for i in range(middle_index, -1, -1):\n",
    "      self._heapify_down(i)\n",
    "\n",
    "  def heap_sort(self):\n",
    "    temp_heap = self.heap.copy()\n",
    "    output = []\n",
    "    for i in range(len(self.heap)):\n",
    "      root = self.delete()\n",
    "      output.append(root)\n",
    "    self.heap = temp_heap\n",
    "    return output\n",
    "\n",
    "  def print_heap(self):\n",
    "    # print(self.heap)\n",
    "    print(' '.join(map(str, self.heap)))\n",
    "\n",
    "\n",
    "H = [100, 90, 80, 70, 60, 50, 40, 30, 20, 10]\n",
    "min_heap = MinHeap(H, method='heapify')\n",
    "\n",
    "min_heap.print_heap()\n",
    "min_heap.heap_sort()\n",
    "min_heap.print_heap()"
   ]
  },
  {
   "cell_type": "markdown",
   "metadata": {},
   "source": [
    "# BST 2"
   ]
  },
  {
   "cell_type": "code",
   "execution_count": 54,
   "metadata": {},
   "outputs": [
    {
     "name": "stdout",
     "output_type": "stream",
     "text": [
      "[1, 2, 3, 5, 13, 17, 20, 100]\n"
     ]
    }
   ],
   "source": [
    "class BST:\n",
    "  def __init__(self, values=[]):\n",
    "    self.make_empty()\n",
    "    for value in values:\n",
    "      self.insert(value)\n",
    "\n",
    "  def is_empty(self):\n",
    "    return self.value is None\n",
    "\n",
    "  def is_leaf(self):\n",
    "    return self.value and self.left.is_empty() and self.right.is_empty()\n",
    "\n",
    "  def make_empty(self):\n",
    "    self.value, self.left, self.right = None, None, None\n",
    "\n",
    "  def inorder_traversal(self):\n",
    "    if self.is_empty():\n",
    "      return []\n",
    "    return self.left.inorder_traversal() + [self.value] + self.right.inorder_traversal()\n",
    "\n",
    "  def insert(self, value):\n",
    "    if self.is_empty():\n",
    "      self.value = value\n",
    "      self.left = BST()\n",
    "      self.right = BST()\n",
    "    elif value < self.value:\n",
    "      self.left.insert(value)\n",
    "    elif value > self.value:\n",
    "      self.right.insert(value)\n",
    "\n",
    "  def delete(self, value):\n",
    "    if self.is_empty():\n",
    "      return\n",
    "    if value < self.value:\n",
    "      self.left.delete(value)\n",
    "    elif value > self.value:\n",
    "      self.right.delete(value)\n",
    "    else:  # value == self.value\n",
    "      if self.is_leaf():\n",
    "        self.make_empty()\n",
    "      elif self.left.is_empty():\n",
    "        self._replace_with_right_subtree()\n",
    "      elif self.right.is_empty():\n",
    "        self._replace_with_left_subtree()\n",
    "      else:\n",
    "        left_max_value = self.left.get_max_value()\n",
    "        self.value = left_max_value\n",
    "        self.left.delete(left_max_value)\n",
    "\n",
    "  def _replace_with_left_subtree(self):\n",
    "    self.value, self.left, self.right = (self.left.value,\n",
    "                                         self.left.left, self.left.right)\n",
    "\n",
    "  def _replace_with_right_subtree(self):\n",
    "    self.value, self.left, self.right = (self.right.value,\n",
    "                                         self.right.left, self.right.right)\n",
    "\n",
    "  def find(self, value):\n",
    "    if self.is_empty():\n",
    "      return False\n",
    "    if self.value == value:\n",
    "      return True\n",
    "    if value < self.value:\n",
    "      return self.left.find(value)\n",
    "    return self.right.find(value)\n",
    "\n",
    "  def get_min_value(self):\n",
    "    if self.is_empty():\n",
    "      return None\n",
    "    if self.left.is_empty():\n",
    "      return self.value\n",
    "    return self.left.get_min_value()\n",
    "\n",
    "  def get_max_value(self):\n",
    "    if self.is_empty():\n",
    "      return None\n",
    "    if self.right.is_empty():\n",
    "      return self.value\n",
    "    return self.right.get_max_value()\n",
    "\n",
    "  def __str__(self):\n",
    "    return str(self.inorder_traversal())\n",
    "\n",
    "\n",
    "bst = BST([17, 5, 13, 20, 2, 3, 1, 100])\n",
    "bst.delete(16)\n",
    "print(bst)\n",
    "# print(bst.get_min_value())\n",
    "# print(bst.get_max_value())\n",
    "# print(bst.find(13))\n",
    "# print(bst.find(23))"
   ]
  },
  {
   "cell_type": "code",
   "execution_count": 4,
   "metadata": {},
   "outputs": [
    {
     "data": {
      "text/plain": [
       "False"
      ]
     },
     "execution_count": 4,
     "metadata": {},
     "output_type": "execute_result"
    }
   ],
   "source": [
    "(12, 19) > (12, 20)"
   ]
  },
  {
   "cell_type": "markdown",
   "metadata": {},
   "source": [
    "# GrPA 1"
   ]
  },
  {
   "cell_type": "code",
   "execution_count": 31,
   "metadata": {},
   "outputs": [],
   "source": [
    "class MinHeap:\n",
    "  def __init__(self, H, method='one_by_one'):\n",
    "    self.heap = []\n",
    "    if method == 'one_by_one':\n",
    "      self._build_heap_one_by_one(H)\n",
    "    elif method == 'heapify':\n",
    "      self._build_heap_heapify(H)\n",
    "    else:\n",
    "      raise ValueError(\"Invalid method. Choose 'one_by_one' or 'heapify'.\")\n",
    "\n",
    "  def insert(self, value):\n",
    "    # add value to the end\n",
    "    self.heap.append(value)\n",
    "    # fix heap property (bottom to top)\n",
    "    self._heapify_up(len(self.heap) - 1)\n",
    "\n",
    "  def delete(self):\n",
    "    if self.is_empty():\n",
    "      return None\n",
    "    # swap root with last element and remove last element\n",
    "    self._swap(0, len(self.heap) - 1)\n",
    "    root = self.heap.pop()\n",
    "    # fix heap property (top to bottom)\n",
    "    self._heapify_down(0)\n",
    "    return root\n",
    "\n",
    "  def is_empty(self):\n",
    "    # return true if heap is empty, else false\n",
    "    return len(self.heap) == 0\n",
    "\n",
    "  def _build_heap_one_by_one(self, H):\n",
    "    for value in H:\n",
    "      self.insert(value)\n",
    "\n",
    "  def _build_heap_heapify(self, H):\n",
    "    self.heap = H\n",
    "    # build heap property (top to bottom)\n",
    "    for i in range(len(H) // 2 - 1, -1, -1):\n",
    "      self._heapify_down(i)\n",
    "\n",
    "  def _heapify_up(self, index):\n",
    "    parent_index = (index - 1) // 2\n",
    "    if index > 0 and self.heap[parent_index] > self.heap[index]:\n",
    "      self._swap(index, parent_index)\n",
    "      self._heapify_up(parent_index)\n",
    "\n",
    "  def _heapify_down(self, index):\n",
    "    smallest = index\n",
    "    left = 2 * index + 1\n",
    "    right = 2 * index + 2\n",
    "    if left < len(self.heap) and self.heap[left] < self.heap[smallest]:\n",
    "      smallest = left\n",
    "    if right < len(self.heap) and self.heap[right] < self.heap[smallest]:\n",
    "      smallest = right\n",
    "    if smallest != index:\n",
    "      self._swap(index, smallest)\n",
    "      self._heapify_down(smallest)\n",
    "\n",
    "  def _swap(self, i, j):\n",
    "    self.heap[i], self.heap[j] = self.heap[j], self.heap[i]\n",
    "\n",
    "  def print_heap(self):\n",
    "    # print heap in space-separated format\n",
    "    print(\" \".join(map(str, self.heap)))\n",
    "\n",
    "# test"
   ]
  },
  {
   "cell_type": "code",
   "execution_count": 29,
   "metadata": {},
   "outputs": [],
   "source": [
    "class PriorityQueue:\n",
    "  def __init__(self):\n",
    "    self.min_heap = MinHeap([])\n",
    "\n",
    "  def enqueue(self, priority, item):\n",
    "    self.min_heap.insert((priority, item))\n",
    "\n",
    "  def dequeue(self):\n",
    "    return self.min_heap.delete()\n",
    "\n",
    "  def is_empty(self):\n",
    "    return self.min_heap.is_empty()\n",
    "\n",
    "  def __str__(self):\n",
    "    return str(self.min_heap.heap)\n",
    "\n",
    "\n",
    "# test"
   ]
  },
  {
   "cell_type": "code",
   "execution_count": 30,
   "metadata": {},
   "outputs": [
    {
     "data": {
      "text/plain": [
       "[4, 5, 8, 10, 13, 17, 26, 69, 101, 122, 125, 135, 450]"
      ]
     },
     "execution_count": 30,
     "metadata": {},
     "output_type": "execute_result"
    }
   ],
   "source": [
    "def merge_k_lists(matrix):\n",
    "  pq = PriorityQueue()\n",
    "  k = len(matrix)\n",
    "  for which_k in range(k):\n",
    "    num_index = 0\n",
    "    num = matrix[which_k][num_index]\n",
    "    pq.enqueue(num, (num_index, which_k))\n",
    "\n",
    "  output = []\n",
    "  while not pq.is_empty():\n",
    "    num, (num_index, which_k) = pq.dequeue()\n",
    "    output.append(num)\n",
    "    if num_index < len(matrix[which_k])-1:\n",
    "      num_index += 1\n",
    "      num = matrix[which_k][num_index]\n",
    "      pq.enqueue(num, (num_index, which_k))\n",
    "\n",
    "  return output\n",
    "\n",
    "\n",
    "merge_k_lists([\n",
    "    [4, 5, 13, 17],\n",
    "    [8, 26, 69, 122, 135],\n",
    "    [10, 101, 125, 450],\n",
    "])"
   ]
  },
  {
   "cell_type": "markdown",
   "metadata": {},
   "source": [
    "# GrPA 2"
   ]
  },
  {
   "cell_type": "code",
   "execution_count": 96,
   "metadata": {},
   "outputs": [
    {
     "data": {
      "text/plain": [
       "74"
      ]
     },
     "execution_count": 96,
     "metadata": {},
     "output_type": "execute_result"
    }
   ],
   "source": [
    "class Tree:\n",
    "  # constructor\n",
    "  def __init__(self, initval=None):\n",
    "    self.value = initval\n",
    "    if self.value:\n",
    "      self.left = Tree()\n",
    "      self.right = Tree()\n",
    "    else:\n",
    "      self.left = self.right = None\n",
    "    return\n",
    "\n",
    "  # Only empty node has value None\n",
    "  def isempty(self):\n",
    "    return (self.value == None)\n",
    "\n",
    "  # Leaf nodes have both children empty\n",
    "  def isleaf(self):\n",
    "    return (self.value != None and self.left.isempty() and self.right.isempty())\n",
    "\n",
    "\n",
    "def insertToBST(root, x):\n",
    "  # insert element to BST\n",
    "  # Tree should have at least one element.\n",
    "  temp = root\n",
    "  while (not temp.isempty()):\n",
    "    if (x < temp.value):\n",
    "      temp = temp.left\n",
    "    else:\n",
    "      temp = temp.right\n",
    "\n",
    "  temp.value = x\n",
    "  temp.left = Tree()\n",
    "  temp.right = Tree()\n",
    "# gray code 👆\n",
    "\n",
    "\n",
    "def inorder_traversal(node, result=[]):  # NEW 😱\n",
    "  if node.value is not None:\n",
    "    inorder_traversal(node.left, result)\n",
    "    result.append(node.value)\n",
    "    inorder_traversal(node.right, result)\n",
    "    return result\n",
    "\n",
    "\n",
    "def maxLessThan(root, k):  # NEW 😱\n",
    "  order = inorder_traversal(root)\n",
    "  if order[0] > k:\n",
    "    return None\n",
    "  ans = order[0]\n",
    "  for num in order:\n",
    "    if num > k:\n",
    "      return ans\n",
    "    ans = num\n",
    "\n",
    "\n",
    "# gray code 👇\n",
    "L = [50, 52, 54, 74, 93, 100, 114, 124, 130, 143]\n",
    "x = 92\n",
    "root = Tree(L[0])\n",
    "for item in L[1:]:\n",
    "  insertToBST(root, item)\n",
    "\n",
    "maxLessThan(root, x)"
   ]
  },
  {
   "cell_type": "code",
   "execution_count": 39,
   "metadata": {},
   "outputs": [
    {
     "name": "stdout",
     "output_type": "stream",
     "text": [
      "50 52 54 74 93 100 114 124 130 143\n"
     ]
    }
   ],
   "source": [
    "print(' '.join(map(str, [50, 52, 54, 74, 93, 100, 114, 124, 130, 143])))"
   ]
  },
  {
   "cell_type": "markdown",
   "metadata": {},
   "source": [
    "# GrPA 3"
   ]
  },
  {
   "cell_type": "code",
   "execution_count": 91,
   "metadata": {},
   "outputs": [
    {
     "data": {
      "text/plain": [
       "[44, 35, 42, 26, 33, 19, 27, 10, 14, 31]"
      ]
     },
     "execution_count": 91,
     "metadata": {},
     "output_type": "execute_result"
    }
   ],
   "source": [
    "def swap(heap, i, j):\n",
    "  heap[i], heap[j] = heap[j], heap[i]\n",
    "\n",
    "\n",
    "def heapify_down(heap, parent_index):\n",
    "  left = parent_index*2+1\n",
    "  right = parent_index*2+2\n",
    "  largest = parent_index\n",
    "  if left < len(heap) and heap[left] > heap[largest]:\n",
    "    largest = left\n",
    "  if right < len(heap) and heap[right] > heap[largest]:\n",
    "    largest = right\n",
    "  if largest != parent_index:\n",
    "    swap(heap, parent_index, largest)\n",
    "    heapify_down(heap, largest)\n",
    "\n",
    "\n",
    "def min_max(heap):\n",
    "  middle_index = len(heap)//2-1\n",
    "  for i in range(middle_index, -1, -1):\n",
    "    heapify_down(heap, i)\n",
    "  return heap\n",
    "\n",
    "\n",
    "# min_max([66, 55, 43, 34, 12, 7, 2, 20, 5])\n",
    "min_max([10, 14, 19, 26, 31, 42, 27, 44, 35, 33])"
   ]
  },
  {
   "cell_type": "code",
   "execution_count": 83,
   "metadata": {},
   "outputs": [],
   "source": [
    "# 10 14 19 26 31 42 27 44 35 33"
   ]
  },
  {
   "cell_type": "code",
   "execution_count": 13,
   "metadata": {},
   "outputs": [
    {
     "name": "stdout",
     "output_type": "stream",
     "text": [
      "44 35 42 26 33 19 27 10 14 31\n"
     ]
    }
   ],
   "source": [
    "class MaxHeap:\n",
    "  def __init__(self, H, method='one_by_one'):\n",
    "    self.heap = []\n",
    "    if method == 'one_by_one':\n",
    "      self._build_heap_one_by_one(H)\n",
    "    elif method == 'heapify':\n",
    "      self._build_heap_heapify(H)\n",
    "    else:\n",
    "      raise Exception('invalid build method')\n",
    "\n",
    "  def _build_heap_one_by_one(self, H):\n",
    "    for value in H:\n",
    "      self.insert(value)\n",
    "\n",
    "  def _build_heap_heapify(self, H):\n",
    "    self.heap = H\n",
    "    middle_index = len(self.heap)//2-1\n",
    "    for i in range(middle_index, -1, -1):\n",
    "      self._heapify_down(i)\n",
    "\n",
    "  def insert(self, value):\n",
    "    self.heap.append(value)\n",
    "    self._heapify_up(len(self.heap)-1)\n",
    "\n",
    "  def _heapify_up(self, index):\n",
    "    parent_index = (index-1)//2\n",
    "    if index > 0 and self.heap[parent_index] < self.heap[index]:\n",
    "      self._swap(index, parent_index)\n",
    "      self._heapify_up(parent_index)\n",
    "\n",
    "  def _heapify_down(self, parent_index):\n",
    "    left = parent_index*2+1\n",
    "    right = parent_index*2+2\n",
    "    largest = parent_index\n",
    "    if left < len(self.heap) and self.heap[left] > self.heap[largest]:\n",
    "      largest = left\n",
    "    if right < len(self.heap) and self.heap[right] > self.heap[largest]:\n",
    "      largest = right\n",
    "    if largest != parent_index:\n",
    "      self._swap(parent_index, largest)\n",
    "      self._heapify_down(largest)\n",
    "\n",
    "  def _swap(self, i, j):\n",
    "    self.heap[i], self.heap[j] = self.heap[j], self.heap[i]\n",
    "\n",
    "  def __str__(self):\n",
    "    return ' '.join(map(str, self.heap))\n",
    "\n",
    "\n",
    "H = [10, 14, 19, 26, 31, 42, 27, 44, 35, 33]\n",
    "max_heap = MaxHeap(H, method='heapify')\n",
    "print(max_heap)"
   ]
  },
  {
   "cell_type": "markdown",
   "metadata": {},
   "source": [
    "# July 23 🌿"
   ]
  },
  {
   "cell_type": "code",
   "execution_count": null,
   "metadata": {},
   "outputs": [],
   "source": [
    "# dijkstra (select vertices):\n",
    "#   pq: priority=weight, item=current_vertex\n",
    "#   A (start): next? pq <- (B, C); current_vertex=B on dequeue\n",
    "#     B (5)\n",
    "#     C (10)\n",
    "    \n",
    "# prim's (select edges):\n",
    "#   pq: priority:weight, item=(u, v)\n",
    "#   A (start):\n",
    "#     A, B (2)\n",
    "#     A, D (6)"
   ]
  },
  {
   "cell_type": "code",
   "execution_count": null,
   "metadata": {},
   "outputs": [
    {
     "name": "stdout",
     "output_type": "stream",
     "text": [
      "[(5, 'E', 'F'), (10, 'A', 'B'), (12, 'X', 'Y')]\n"
     ]
    }
   ],
   "source": [
    "edges = [(10, 'A', 'B'), (5, 'E', 'F'), (12, 'X', 'Y')]\n",
    "edges.sort()\n",
    "print(edges)"
   ]
  },
  {
   "cell_type": "code",
   "execution_count": 15,
   "metadata": {},
   "outputs": [
    {
     "data": {
      "text/plain": [
       "True"
      ]
     },
     "execution_count": 15,
     "metadata": {},
     "output_type": "execute_result"
    }
   ],
   "source": [
    "class UnionFind:\n",
    "  def __init__(self, vertices):\n",
    "    self.parent = {u: u for u in vertices}\n",
    "\n",
    "  def find(self, node):\n",
    "    while self.parent[node] != node:\n",
    "      node = self.parent[node]\n",
    "    return node\n",
    "\n",
    "  def union(self, u, v):\n",
    "    root1 = self.find(u)\n",
    "    root2 = self.find(v)\n",
    "    if root1 != root2:\n",
    "      self.parent[root2] = root1\n",
    "      return True\n",
    "    return False\n",
    "\n",
    "\n",
    "def kruskal(adjacency_list):\n",
    "  mst = []\n",
    "  edges = []\n",
    "  for u in adjacency_list:\n",
    "    for v, weight in adjacency_list[u]:\n",
    "      edges.append((weight, u, v))\n",
    "  edges.sort()\n",
    "\n",
    "  ufs = UnionFind(adjacency_list)\n",
    "\n",
    "  for weight, u, v in edges:\n",
    "    if ufs.union(u, v):\n",
    "      mst.append((u, v, weight))\n",
    "  return mst\n",
    "\n",
    "\n",
    "adjacency_list = {\n",
    "    0: [(1, 10), (2, 6)],\n",
    "    1: [(0, 10), (3, 15), (2, 4)],\n",
    "    2: [(0, 6), (1, 4), (3, 11)],\n",
    "    3: [(1, 15), (2, 11)]\n",
    "}\n",
    "\n",
    "kruskal(adjacency_list) == [(1, 2, 4), (0, 2, 6), (2, 3, 11)]"
   ]
  },
  {
   "cell_type": "code",
   "execution_count": 16,
   "metadata": {},
   "outputs": [
    {
     "data": {
      "text/plain": [
       "True"
      ]
     },
     "execution_count": 16,
     "metadata": {},
     "output_type": "execute_result"
    }
   ],
   "source": [
    "adjacency_list = {\n",
    "    'A': [('C', 3), ('D', 3), ('B', 2)],\n",
    "    'B': [('A', 2), ('C', 4), ('E', 3)],\n",
    "    'C': [('A', 3), ('B', 4), ('F', 6), ('E', 1)],\n",
    "    'D': [('A', 3), ('F', 7)],\n",
    "    'E': [('B', 3), ('C', 1), ('F', 8)],\n",
    "    'F': [('D', 7), ('E', 8), ('G', 9), ('C', 6)],\n",
    "    'G': [('F', 9)]\n",
    "}\n",
    "\n",
    "kruskal(adjacency_list) == [('C', 'E', 1),\n",
    "                            ('A', 'B', 2),\n",
    "                            ('A', 'C', 3),\n",
    "                            ('A', 'D', 3),\n",
    "                            ('C', 'F', 6),\n",
    "                            ('F', 'G', 9)]"
   ]
  },
  {
   "cell_type": "markdown",
   "metadata": {},
   "source": [
    "# MaxHeap"
   ]
  },
  {
   "cell_type": "code",
   "execution_count": null,
   "metadata": {},
   "outputs": [],
   "source": [
    "# Implementation details are things which users of your\n",
    "# code will not typically use, see, or even know about.\n",
    "# e.g., method='one_by_one'\n",
    "\n",
    "# It's another way of saying, \"This is not something you should care about.\""
   ]
  },
  {
   "cell_type": "code",
   "execution_count": 23,
   "metadata": {},
   "outputs": [
    {
     "name": "stdout",
     "output_type": "stream",
     "text": [
      "44 42 31 35 33 14 27 10 26 19\n"
     ]
    }
   ],
   "source": [
    "class MaxHeap:\n",
    "  def __init__(self, H, method='one_by_one'):  # method is implementation detail\n",
    "    self.heap = []\n",
    "    if method == 'one_by_one':\n",
    "      self._build_heap_one_by_one(H)\n",
    "    elif method == 'heapify':\n",
    "      self._build_heap_heapify(H)\n",
    "    else:\n",
    "      raise Exception('invalid build method')\n",
    "\n",
    "  def insert(self, value):\n",
    "    self.heap.append(value)\n",
    "    last_index = len(self.heap)-1\n",
    "    self._heapify_up(last_index)\n",
    "\n",
    "  def _heapify_up(self, index):\n",
    "    parent_index = (index-1)//2\n",
    "    if index > 0 and self.heap[parent_index] < self.heap[index]:\n",
    "      self._swap(index, parent_index)\n",
    "      self._heapify_up(parent_index)\n",
    "\n",
    "  def _build_heap_one_by_one(self, H):\n",
    "    for value in H:\n",
    "      self.insert(value)\n",
    "\n",
    "  def _build_heap_heapify(self, H):\n",
    "    pass\n",
    "\n",
    "  def _swap(self, i, j):\n",
    "    self.heap[i], self.heap[j] = self.heap[j], self.heap[i]\n",
    "\n",
    "  def __str__(self):\n",
    "    return ' '.join(map(str, self.heap))\n",
    "\n",
    "\n",
    "H = [10, 14, 19, 26, 31, 42, 27, 44, 35, 33]\n",
    "max_heap = MaxHeap(H)\n",
    "print(max_heap)"
   ]
  }
 ],
 "metadata": {
  "kernelspec": {
   "display_name": "Python 3",
   "language": "python",
   "name": "python3"
  },
  "language_info": {
   "codemirror_mode": {
    "name": "ipython",
    "version": 3
   },
   "file_extension": ".py",
   "mimetype": "text/x-python",
   "name": "python",
   "nbconvert_exporter": "python",
   "pygments_lexer": "ipython3",
   "version": "3.12.0"
  }
 },
 "nbformat": 4,
 "nbformat_minor": 2
}
