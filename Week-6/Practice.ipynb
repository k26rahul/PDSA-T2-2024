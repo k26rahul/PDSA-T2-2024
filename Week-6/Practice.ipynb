{
 "cells": [
  {
   "cell_type": "markdown",
   "metadata": {},
   "source": [
    "# Kruskal's"
   ]
  },
  {
   "cell_type": "code",
   "execution_count": 1,
   "metadata": {},
   "outputs": [
    {
     "data": {
      "text/plain": [
       "True"
      ]
     },
     "execution_count": 1,
     "metadata": {},
     "output_type": "execute_result"
    }
   ],
   "source": [
    "class UnionFind:\n",
    "  def __init__(self, vertices):\n",
    "    self.parent = {u: u for u in vertices}\n",
    "\n",
    "  def find(self, node):\n",
    "    while self.parent[node] != node:\n",
    "      node = self.parent[node]\n",
    "    return node\n",
    "\n",
    "  def union(self, u, v):\n",
    "    root1 = self.find(u)\n",
    "    root2 = self.find(v)\n",
    "    if root1 != root2:\n",
    "      self.parent[root2] = root1\n",
    "      return True\n",
    "    return False\n",
    "\n",
    "\n",
    "def kruskal(adjacency_list):\n",
    "  mst = []\n",
    "  edges = []\n",
    "  for u in adjacency_list:\n",
    "    for v, weight in adjacency_list[u]:\n",
    "      edges.append((weight, u, v))\n",
    "  edges.sort()\n",
    "\n",
    "  ufs = UnionFind(adjacency_list)\n",
    "\n",
    "  for weight, u, v in edges:\n",
    "    if ufs.union(u, v):\n",
    "      mst.append((u, v, weight))\n",
    "  return mst\n",
    "\n",
    "\n",
    "adjacency_list = {\n",
    "    0: [(1, 10), (2, 6)],\n",
    "    1: [(0, 10), (3, 15), (2, 4)],\n",
    "    2: [(0, 6), (1, 4), (3, 11)],\n",
    "    3: [(1, 15), (2, 11)]\n",
    "}\n",
    "\n",
    "kruskal(adjacency_list) == [(1, 2, 4), (0, 2, 6), (2, 3, 11)]"
   ]
  },
  {
   "cell_type": "code",
   "execution_count": 2,
   "metadata": {},
   "outputs": [
    {
     "data": {
      "text/plain": [
       "True"
      ]
     },
     "execution_count": 2,
     "metadata": {},
     "output_type": "execute_result"
    }
   ],
   "source": [
    "adjacency_list = {\n",
    "    'A': [('C', 3), ('D', 3), ('B', 2)],\n",
    "    'B': [('A', 2), ('C', 4), ('E', 3)],\n",
    "    'C': [('A', 3), ('B', 4), ('F', 6), ('E', 1)],\n",
    "    'D': [('A', 3), ('F', 7)],\n",
    "    'E': [('B', 3), ('C', 1), ('F', 8)],\n",
    "    'F': [('D', 7), ('E', 8), ('G', 9), ('C', 6)],\n",
    "    'G': [('F', 9)]\n",
    "}\n",
    "\n",
    "kruskal(adjacency_list) == [('C', 'E', 1),\n",
    "                            ('A', 'B', 2),\n",
    "                            ('A', 'C', 3),\n",
    "                            ('A', 'D', 3),\n",
    "                            ('C', 'F', 6),\n",
    "                            ('F', 'G', 9)]"
   ]
  },
  {
   "cell_type": "markdown",
   "metadata": {},
   "source": [
    "# Heap Construction [MaxHeap]"
   ]
  },
  {
   "cell_type": "code",
   "execution_count": 3,
   "metadata": {},
   "outputs": [
    {
     "name": "stdout",
     "output_type": "stream",
     "text": [
      "100 90 70 80 50 60 30 10 40 20\n"
     ]
    }
   ],
   "source": [
    "class MaxHeap:\n",
    "  def __init__(self, H, method='one_by_one'):\n",
    "    self.heap = []\n",
    "    if method == 'one_by_one':\n",
    "      self._build_heap_one_by_one(H)\n",
    "    elif method == 'heapify':\n",
    "      self._build_heap_heapify(H)\n",
    "\n",
    "  def insert(self, value):\n",
    "    # 1. append\n",
    "    self.heap.append(value)\n",
    "    # 2. heapify (bottom to top)\n",
    "    self._heapify_up(len(self.heap)-1)\n",
    "\n",
    "  def _swap(self, i, j):\n",
    "    self.heap[i], self.heap[j] = self.heap[j], self.heap[i]\n",
    "\n",
    "  def _heapify_up(self, index):\n",
    "    parent_index = (index-1)//2\n",
    "    if index > 0 and self.heap[parent_index] < self.heap[index]:\n",
    "      self._swap(index, parent_index)\n",
    "      self._heapify_up(parent_index)\n",
    "\n",
    "  def _heapify_down(self, index):\n",
    "    largest = index\n",
    "    left = index*2 + 1\n",
    "    right = index*2 + 2\n",
    "    if left < len(self.heap) and self.heap[left] > self.heap[largest]:\n",
    "      largest = left\n",
    "    if right < len(self.heap) and self.heap[right] > self.heap[largest]:\n",
    "      largest = right\n",
    "    if largest != index:\n",
    "      self._swap(index, largest)\n",
    "      self._heapify_down(largest)\n",
    "\n",
    "  def _build_heap_one_by_one(self, H):\n",
    "    for value in H:\n",
    "      self.insert(value)\n",
    "\n",
    "  def _build_heap_heapify(self, H):\n",
    "    self.heap = H\n",
    "    middle_index = len(self.heap)//2-1\n",
    "    for i in range(middle_index, -1, -1):\n",
    "      self._heapify_down(i)\n",
    "\n",
    "  def print_heap(self):\n",
    "    # print(self.heap)\n",
    "    print(' '.join(map(str, self.heap)))\n",
    "\n",
    "\n",
    "H = [10, 20, 30, 40, 50, 60, 70, 80, 90, 100]\n",
    "max_heap = MaxHeap(H, method='heapify')\n",
    "# max_heap = MaxHeap(H, method='one_by_one')\n",
    "max_heap.print_heap()"
   ]
  },
  {
   "cell_type": "markdown",
   "metadata": {},
   "source": [
    "# Heap Construction [MinHeap]"
   ]
  },
  {
   "cell_type": "code",
   "execution_count": 4,
   "metadata": {},
   "outputs": [
    {
     "name": "stdout",
     "output_type": "stream",
     "text": [
      "10 20 40 30 60 50 80 100 70 90\n"
     ]
    }
   ],
   "source": [
    "class MinHeap:\n",
    "  def __init__(self, H, method='one_by_one'):\n",
    "    self.heap = []\n",
    "    if method == 'one_by_one':\n",
    "      self._build_heap_one_by_one(H)\n",
    "    elif method == 'heapify':\n",
    "      self._build_heap_heapify(H)\n",
    "\n",
    "  def insert(self, value):\n",
    "    # 1. append\n",
    "    self.heap.append(value)\n",
    "    # 2. heapify (bottom to top)\n",
    "    self._heapify_up(len(self.heap)-1)\n",
    "\n",
    "  def _swap(self, i, j):\n",
    "    self.heap[i], self.heap[j] = self.heap[j], self.heap[i]\n",
    "\n",
    "  def _heapify_up(self, index):\n",
    "    parent_index = (index-1)//2\n",
    "    if index > 0 and self.heap[parent_index] > self.heap[index]:\n",
    "      self._swap(index, parent_index)\n",
    "      self._heapify_up(parent_index)\n",
    "\n",
    "  def _heapify_down(self, index):\n",
    "    smallest = index\n",
    "    left = index*2 + 1\n",
    "    right = index*2 + 2\n",
    "    if left < len(self.heap) and self.heap[left] < self.heap[smallest]:\n",
    "      smallest = left\n",
    "    if right < len(self.heap) and self.heap[right] < self.heap[smallest]:\n",
    "      smallest = right\n",
    "    if smallest != index:\n",
    "      self._swap(index, smallest)\n",
    "      self._heapify_down(smallest)\n",
    "\n",
    "  def _build_heap_one_by_one(self, H):\n",
    "    for value in H:\n",
    "      self.insert(value)\n",
    "\n",
    "  def _build_heap_heapify(self, H):\n",
    "    self.heap = H\n",
    "    middle_index = len(self.heap)//2-1\n",
    "    for i in range(middle_index, -1, -1):\n",
    "      self._heapify_down(i)\n",
    "\n",
    "  def print_heap(self):\n",
    "    # print(self.heap)\n",
    "    print(' '.join(map(str, self.heap)))\n",
    "\n",
    "\n",
    "H = [100, 90, 80, 70, 60, 50, 40, 30, 20, 10]\n",
    "min_heap = MinHeap(H, method='heapify')\n",
    "# min_heap = MinHeap(H, method='one_by_one')\n",
    "min_heap.print_heap()"
   ]
  },
  {
   "cell_type": "markdown",
   "metadata": {},
   "source": [
    "# MinHeap `delete()`"
   ]
  },
  {
   "cell_type": "code",
   "execution_count": 5,
   "metadata": {},
   "outputs": [
    {
     "name": "stdout",
     "output_type": "stream",
     "text": [
      "10\n",
      "20\n",
      "30\n",
      "40 60 50 70 90 100 80\n"
     ]
    }
   ],
   "source": [
    "class MinHeap:\n",
    "  def __init__(self, H, method='one_by_one'):\n",
    "    self.heap = []\n",
    "    if method == 'one_by_one':\n",
    "      self._build_heap_one_by_one(H)\n",
    "    elif method == 'heapify':\n",
    "      self._build_heap_heapify(H)\n",
    "\n",
    "  def insert(self, value):\n",
    "    # 1. append\n",
    "    self.heap.append(value)\n",
    "    # 2. heapify (bottom to top)\n",
    "    self._heapify_up(len(self.heap)-1)\n",
    "\n",
    "  def delete(self):\n",
    "    self._swap(0, len(self.heap)-1)\n",
    "    root = self.heap.pop()\n",
    "    self._heapify_down(0)\n",
    "    return root\n",
    "\n",
    "  def _swap(self, i, j):\n",
    "    self.heap[i], self.heap[j] = self.heap[j], self.heap[i]\n",
    "\n",
    "  def _heapify_up(self, index):\n",
    "    parent_index = (index-1)//2\n",
    "    if index > 0 and self.heap[parent_index] > self.heap[index]:\n",
    "      self._swap(index, parent_index)\n",
    "      self._heapify_up(parent_index)\n",
    "\n",
    "  def _heapify_down(self, index):\n",
    "    smallest = index\n",
    "    left = index*2 + 1\n",
    "    right = index*2 + 2\n",
    "    if left < len(self.heap) and self.heap[left] < self.heap[smallest]:\n",
    "      smallest = left\n",
    "    if right < len(self.heap) and self.heap[right] < self.heap[smallest]:\n",
    "      smallest = right\n",
    "    if smallest != index:\n",
    "      self._swap(index, smallest)\n",
    "      self._heapify_down(smallest)\n",
    "\n",
    "  def _build_heap_one_by_one(self, H):\n",
    "    for value in H:\n",
    "      self.insert(value)\n",
    "\n",
    "  def _build_heap_heapify(self, H):\n",
    "    self.heap = H\n",
    "    middle_index = len(self.heap)//2-1\n",
    "    for i in range(middle_index, -1, -1):\n",
    "      self._heapify_down(i)\n",
    "\n",
    "  def print_heap(self):\n",
    "    # print(self.heap)\n",
    "    print(' '.join(map(str, self.heap)))\n",
    "\n",
    "\n",
    "H = [100, 90, 80, 70, 60, 50, 40, 30, 20, 10]\n",
    "min_heap = MinHeap(H, method='heapify')\n",
    "print(min_heap.delete())\n",
    "print(min_heap.delete())\n",
    "print(min_heap.delete())\n",
    "min_heap.print_heap()"
   ]
  },
  {
   "cell_type": "markdown",
   "metadata": {},
   "source": [
    "# Heap sort [MinHeap]"
   ]
  },
  {
   "cell_type": "code",
   "execution_count": 6,
   "metadata": {},
   "outputs": [
    {
     "name": "stdout",
     "output_type": "stream",
     "text": [
      "10 20 40 30 60 50 80 100 70 90\n"
     ]
    },
    {
     "data": {
      "text/plain": [
       "[10, 20, 30, 40, 50, 60, 70, 80, 90, 100]"
      ]
     },
     "execution_count": 6,
     "metadata": {},
     "output_type": "execute_result"
    },
    {
     "name": "stdout",
     "output_type": "stream",
     "text": [
      "10 20 40 30 60 50 80 100 70 90\n"
     ]
    }
   ],
   "source": [
    "class MinHeap:\n",
    "  def __init__(self, H, method='one_by_one'):\n",
    "    self.heap = []\n",
    "    if method == 'one_by_one':\n",
    "      self._build_heap_one_by_one(H)\n",
    "    elif method == 'heapify':\n",
    "      self._build_heap_heapify(H)\n",
    "\n",
    "  def insert(self, value):\n",
    "    # 1. append\n",
    "    self.heap.append(value)\n",
    "    # 2. heapify (bottom to top)\n",
    "    self._heapify_up(len(self.heap)-1)\n",
    "\n",
    "  def delete(self):\n",
    "    self._swap(0, len(self.heap)-1)\n",
    "    root = self.heap.pop()\n",
    "    self._heapify_down(0)\n",
    "    return root\n",
    "\n",
    "  def _swap(self, i, j):\n",
    "    self.heap[i], self.heap[j] = self.heap[j], self.heap[i]\n",
    "\n",
    "  def _heapify_up(self, index):\n",
    "    parent_index = (index-1)//2\n",
    "    if index > 0 and self.heap[parent_index] > self.heap[index]:\n",
    "      self._swap(index, parent_index)\n",
    "      self._heapify_up(parent_index)\n",
    "\n",
    "  def _heapify_down(self, index):\n",
    "    smallest = index\n",
    "    left = index*2 + 1\n",
    "    right = index*2 + 2\n",
    "    if left < len(self.heap) and self.heap[left] < self.heap[smallest]:\n",
    "      smallest = left\n",
    "    if right < len(self.heap) and self.heap[right] < self.heap[smallest]:\n",
    "      smallest = right\n",
    "    if smallest != index:\n",
    "      self._swap(index, smallest)\n",
    "      self._heapify_down(smallest)\n",
    "\n",
    "  def _build_heap_one_by_one(self, H):\n",
    "    for value in H:\n",
    "      self.insert(value)\n",
    "\n",
    "  def _build_heap_heapify(self, H):\n",
    "    self.heap = H\n",
    "    middle_index = len(self.heap)//2-1\n",
    "    for i in range(middle_index, -1, -1):\n",
    "      self._heapify_down(i)\n",
    "\n",
    "  def heap_sort(self):\n",
    "    temp_heap = self.heap.copy()\n",
    "    output = []\n",
    "    for i in range(len(self.heap)):\n",
    "      root = self.delete()\n",
    "      output.append(root)\n",
    "    self.heap = temp_heap\n",
    "    return output\n",
    "\n",
    "  def print_heap(self):\n",
    "    # print(self.heap)\n",
    "    print(' '.join(map(str, self.heap)))\n",
    "\n",
    "\n",
    "H = [100, 90, 80, 70, 60, 50, 40, 30, 20, 10]\n",
    "min_heap = MinHeap(H, method='heapify')\n",
    "\n",
    "min_heap.print_heap()\n",
    "min_heap.heap_sort()\n",
    "min_heap.print_heap()"
   ]
  },
  {
   "cell_type": "markdown",
   "metadata": {},
   "source": [
    "# BST 2"
   ]
  },
  {
   "cell_type": "code",
   "execution_count": 7,
   "metadata": {},
   "outputs": [
    {
     "name": "stdout",
     "output_type": "stream",
     "text": [
      "[1, 2, 3, 5, 13, 17, 20, 100]\n"
     ]
    }
   ],
   "source": [
    "class BST:\n",
    "  def __init__(self, values=[]):\n",
    "    self.make_empty()\n",
    "    for value in values:\n",
    "      self.insert(value)\n",
    "\n",
    "  def is_empty(self):\n",
    "    return self.value is None\n",
    "\n",
    "  def is_leaf(self):\n",
    "    return self.value and self.left.is_empty() and self.right.is_empty()\n",
    "\n",
    "  def make_empty(self):\n",
    "    self.value, self.left, self.right = None, None, None\n",
    "\n",
    "  def inorder_traversal(self):\n",
    "    if self.is_empty():\n",
    "      return []\n",
    "    return self.left.inorder_traversal() + [self.value] + self.right.inorder_traversal()\n",
    "\n",
    "  def insert(self, value):\n",
    "    if self.is_empty():\n",
    "      self.value = value\n",
    "      self.left = BST()\n",
    "      self.right = BST()\n",
    "    elif value < self.value:\n",
    "      self.left.insert(value)\n",
    "    elif value > self.value:\n",
    "      self.right.insert(value)\n",
    "\n",
    "  def delete(self, value):\n",
    "    if self.is_empty():\n",
    "      return\n",
    "    if value < self.value:\n",
    "      self.left.delete(value)\n",
    "    elif value > self.value:\n",
    "      self.right.delete(value)\n",
    "    else:  # value == self.value\n",
    "      if self.is_leaf():\n",
    "        self.make_empty()\n",
    "      elif self.left.is_empty():\n",
    "        self._replace_with_right_subtree()\n",
    "      elif self.right.is_empty():\n",
    "        self._replace_with_left_subtree()\n",
    "      else:\n",
    "        left_max_value = self.left.get_max_value()\n",
    "        self.value = left_max_value\n",
    "        self.left.delete(left_max_value)\n",
    "\n",
    "  def _replace_with_left_subtree(self):\n",
    "    self.value, self.left, self.right = (self.left.value,\n",
    "                                         self.left.left, self.left.right)\n",
    "\n",
    "  def _replace_with_right_subtree(self):\n",
    "    self.value, self.left, self.right = (self.right.value,\n",
    "                                         self.right.left, self.right.right)\n",
    "\n",
    "  def find(self, value):\n",
    "    if self.is_empty():\n",
    "      return False\n",
    "    if self.value == value:\n",
    "      return True\n",
    "    if value < self.value:\n",
    "      return self.left.find(value)\n",
    "    return self.right.find(value)\n",
    "\n",
    "  def get_min_value(self):\n",
    "    if self.is_empty():\n",
    "      return None\n",
    "    if self.left.is_empty():\n",
    "      return self.value\n",
    "    return self.left.get_min_value()\n",
    "\n",
    "  def get_max_value(self):\n",
    "    if self.is_empty():\n",
    "      return None\n",
    "    if self.right.is_empty():\n",
    "      return self.value\n",
    "    return self.right.get_max_value()\n",
    "\n",
    "  def __str__(self):\n",
    "    return str(self.inorder_traversal())\n",
    "\n",
    "\n",
    "bst = BST([17, 5, 13, 20, 2, 3, 1, 100])\n",
    "bst.delete(16)\n",
    "print(bst)\n",
    "# print(bst.get_min_value())\n",
    "# print(bst.get_max_value())\n",
    "# print(bst.find(13))\n",
    "# print(bst.find(23))"
   ]
  },
  {
   "cell_type": "code",
   "execution_count": 8,
   "metadata": {},
   "outputs": [
    {
     "data": {
      "text/plain": [
       "False"
      ]
     },
     "execution_count": 8,
     "metadata": {},
     "output_type": "execute_result"
    }
   ],
   "source": [
    "(12, 19) > (12, 20)"
   ]
  },
  {
   "cell_type": "code",
   "execution_count": 9,
   "metadata": {},
   "outputs": [],
   "source": [
    "# 10 14 19 26 31 42 27 44 35 33"
   ]
  },
  {
   "cell_type": "code",
   "execution_count": 10,
   "metadata": {},
   "outputs": [
    {
     "name": "stdout",
     "output_type": "stream",
     "text": [
      "44 35 42 26 33 19 27 10 14 31\n"
     ]
    }
   ],
   "source": [
    "class MaxHeap:\n",
    "  def __init__(self, H, method='one_by_one'):\n",
    "    self.heap = []\n",
    "    if method == 'one_by_one':\n",
    "      self._build_heap_one_by_one(H)\n",
    "    elif method == 'heapify':\n",
    "      self._build_heap_heapify(H)\n",
    "    else:\n",
    "      raise Exception('invalid build method')\n",
    "\n",
    "  def _build_heap_one_by_one(self, H):\n",
    "    for value in H:\n",
    "      self.insert(value)\n",
    "\n",
    "  def _build_heap_heapify(self, H):\n",
    "    self.heap = H\n",
    "    middle_index = len(self.heap)//2-1\n",
    "    for i in range(middle_index, -1, -1):\n",
    "      self._heapify_down(i)\n",
    "\n",
    "  def insert(self, value):\n",
    "    self.heap.append(value)\n",
    "    self._heapify_up(len(self.heap)-1)\n",
    "\n",
    "  def _heapify_up(self, index):\n",
    "    parent_index = (index-1)//2\n",
    "    if index > 0 and self.heap[parent_index] < self.heap[index]:\n",
    "      self._swap(index, parent_index)\n",
    "      self._heapify_up(parent_index)\n",
    "\n",
    "  def _heapify_down(self, parent_index):\n",
    "    left = parent_index*2+1\n",
    "    right = parent_index*2+2\n",
    "    largest = parent_index\n",
    "    if left < len(self.heap) and self.heap[left] > self.heap[largest]:\n",
    "      largest = left\n",
    "    if right < len(self.heap) and self.heap[right] > self.heap[largest]:\n",
    "      largest = right\n",
    "    if largest != parent_index:\n",
    "      self._swap(parent_index, largest)\n",
    "      self._heapify_down(largest)\n",
    "\n",
    "  def _swap(self, i, j):\n",
    "    self.heap[i], self.heap[j] = self.heap[j], self.heap[i]\n",
    "\n",
    "  def __str__(self):\n",
    "    return ' '.join(map(str, self.heap))\n",
    "\n",
    "\n",
    "H = [10, 14, 19, 26, 31, 42, 27, 44, 35, 33]\n",
    "max_heap = MaxHeap(H, method='heapify')\n",
    "print(max_heap)"
   ]
  },
  {
   "cell_type": "markdown",
   "metadata": {},
   "source": [
    "# July 23 🌿"
   ]
  },
  {
   "cell_type": "code",
   "execution_count": 11,
   "metadata": {},
   "outputs": [],
   "source": [
    "# dijkstra (select vertices):\n",
    "#   pq: priority=weight, item=current_vertex\n",
    "#   A (start): next? pq <- (B, C); current_vertex=B on dequeue\n",
    "#     B (5)\n",
    "#     C (10)\n",
    "\n",
    "# prim's (select edges):\n",
    "#   pq: priority:weight, item=(u, v)\n",
    "#   A (start):\n",
    "#     A, B (2)\n",
    "#     A, D (6)"
   ]
  },
  {
   "cell_type": "code",
   "execution_count": 12,
   "metadata": {},
   "outputs": [
    {
     "name": "stdout",
     "output_type": "stream",
     "text": [
      "[(5, 'E', 'F'), (10, 'A', 'B'), (12, 'X', 'Y')]\n"
     ]
    }
   ],
   "source": [
    "edges = [(10, 'A', 'B'), (5, 'E', 'F'), (12, 'X', 'Y')]\n",
    "edges.sort()\n",
    "print(edges)"
   ]
  },
  {
   "cell_type": "code",
   "execution_count": 13,
   "metadata": {},
   "outputs": [
    {
     "data": {
      "text/plain": [
       "True"
      ]
     },
     "execution_count": 13,
     "metadata": {},
     "output_type": "execute_result"
    }
   ],
   "source": [
    "class UnionFind:\n",
    "  def __init__(self, vertices):\n",
    "    self.parent = {u: u for u in vertices}\n",
    "\n",
    "  def find(self, node):\n",
    "    while self.parent[node] != node:\n",
    "      node = self.parent[node]\n",
    "    return node\n",
    "\n",
    "  def union(self, u, v):\n",
    "    root1 = self.find(u)\n",
    "    root2 = self.find(v)\n",
    "    if root1 != root2:\n",
    "      self.parent[root2] = root1\n",
    "      return True\n",
    "    return False\n",
    "\n",
    "\n",
    "def kruskal(adjacency_list):\n",
    "  mst = []\n",
    "  edges = []\n",
    "  for u in adjacency_list:\n",
    "    for v, weight in adjacency_list[u]:\n",
    "      edges.append((weight, u, v))\n",
    "  edges.sort()\n",
    "\n",
    "  ufs = UnionFind(adjacency_list)\n",
    "\n",
    "  for weight, u, v in edges:\n",
    "    if ufs.union(u, v):\n",
    "      mst.append((u, v, weight))\n",
    "  return mst\n",
    "\n",
    "\n",
    "adjacency_list = {\n",
    "    0: [(1, 10), (2, 6)],\n",
    "    1: [(0, 10), (3, 15), (2, 4)],\n",
    "    2: [(0, 6), (1, 4), (3, 11)],\n",
    "    3: [(1, 15), (2, 11)]\n",
    "}\n",
    "\n",
    "kruskal(adjacency_list) == [(1, 2, 4), (0, 2, 6), (2, 3, 11)]"
   ]
  },
  {
   "cell_type": "code",
   "execution_count": 14,
   "metadata": {},
   "outputs": [
    {
     "data": {
      "text/plain": [
       "True"
      ]
     },
     "execution_count": 14,
     "metadata": {},
     "output_type": "execute_result"
    }
   ],
   "source": [
    "adjacency_list = {\n",
    "    'A': [('C', 3), ('D', 3), ('B', 2)],\n",
    "    'B': [('A', 2), ('C', 4), ('E', 3)],\n",
    "    'C': [('A', 3), ('B', 4), ('F', 6), ('E', 1)],\n",
    "    'D': [('A', 3), ('F', 7)],\n",
    "    'E': [('B', 3), ('C', 1), ('F', 8)],\n",
    "    'F': [('D', 7), ('E', 8), ('G', 9), ('C', 6)],\n",
    "    'G': [('F', 9)]\n",
    "}\n",
    "\n",
    "kruskal(adjacency_list) == [('C', 'E', 1),\n",
    "                            ('A', 'B', 2),\n",
    "                            ('A', 'C', 3),\n",
    "                            ('A', 'D', 3),\n",
    "                            ('C', 'F', 6),\n",
    "                            ('F', 'G', 9)]"
   ]
  },
  {
   "cell_type": "markdown",
   "metadata": {},
   "source": [
    "# MaxHeap"
   ]
  },
  {
   "cell_type": "code",
   "execution_count": 15,
   "metadata": {},
   "outputs": [],
   "source": [
    "# Implementation details are things which users of your\n",
    "# code will not typically use, see, or even know about.\n",
    "# e.g., method='one_by_one'\n",
    "\n",
    "# It's another way of saying, \"This is not something you should care about.\""
   ]
  },
  {
   "cell_type": "code",
   "execution_count": 16,
   "metadata": {},
   "outputs": [
    {
     "name": "stdout",
     "output_type": "stream",
     "text": [
      "44 35 42 26 33 19 27 10 14 31\n"
     ]
    }
   ],
   "source": [
    "class MaxHeap:\n",
    "  def __init__(self, H, method='one_by_one'):  # method is implementation detail\n",
    "    self.heap = []\n",
    "    if method == 'one_by_one':\n",
    "      self._build_heap_one_by_one(H)\n",
    "    elif method == 'heapify':\n",
    "      self._build_heap_heapify(H)\n",
    "    else:\n",
    "      raise Exception('invalid build method')\n",
    "\n",
    "  def insert(self, value):\n",
    "    self.heap.append(value)\n",
    "    last_index = len(self.heap)-1\n",
    "    self._heapify_up(last_index)\n",
    "\n",
    "  def _heapify_up(self, index):\n",
    "    parent_index = (index-1)//2\n",
    "    if index > 0 and self.heap[parent_index] < self.heap[index]:\n",
    "      self._swap(index, parent_index)\n",
    "      self._heapify_up(parent_index)\n",
    "\n",
    "  def _heapify_down(self, parent_index):\n",
    "    left = parent_index*2+1\n",
    "    right = parent_index*2+2\n",
    "    largest = parent_index\n",
    "    if left < len(self.heap) and self.heap[left] > self.heap[largest]:\n",
    "      largest = left\n",
    "    if right < len(self.heap) and self.heap[right] > self.heap[largest]:\n",
    "      largest = right\n",
    "    if largest != parent_index:\n",
    "      self._swap(parent_index, largest)\n",
    "      self._heapify_down(largest)\n",
    "\n",
    "  def _build_heap_one_by_one(self, H):\n",
    "    for value in H:\n",
    "      self.insert(value)\n",
    "\n",
    "  def _build_heap_heapify(self, H):\n",
    "    self.heap = H\n",
    "    middle_index = len(self.heap)//2-1\n",
    "    for i in range(middle_index, -1, -1):\n",
    "      self._heapify_down(i)\n",
    "\n",
    "  def _swap(self, i, j):\n",
    "    self.heap[i], self.heap[j] = self.heap[j], self.heap[i]\n",
    "\n",
    "  def __str__(self):\n",
    "    return ' '.join(map(str, self.heap))\n",
    "\n",
    "\n",
    "H = [10, 14, 19, 26, 31, 42, 27, 44, 35, 33]\n",
    "max_heap = MaxHeap(H, method='heapify')\n",
    "print(max_heap)"
   ]
  },
  {
   "cell_type": "code",
   "execution_count": 17,
   "metadata": {},
   "outputs": [
    {
     "name": "stdout",
     "output_type": "stream",
     "text": [
      "[10, 14, 19, 26, 27, 31, 33, 35, 42, 44]\n",
      "[10, 14, 19, 26, 31, 42, 27, 44, 35, 33]\n"
     ]
    }
   ],
   "source": [
    "class MinHeap:\n",
    "  def __init__(self, H, method='one_by_one'):  # method is implementation detail\n",
    "    self.heap = []\n",
    "    if method == 'one_by_one':\n",
    "      self._build_heap_one_by_one(H)\n",
    "    elif method == 'heapify':\n",
    "      self._build_heap_heapify(H)\n",
    "    else:\n",
    "      raise Exception('invalid build method')\n",
    "\n",
    "  def is_empty(self):\n",
    "    return len(self.heap) == 0\n",
    "\n",
    "  def insert(self, value):\n",
    "    self.heap.append(value)\n",
    "    last_index = len(self.heap)-1\n",
    "    self._heapify_up(last_index)\n",
    "\n",
    "  def delete(self):\n",
    "    self._swap(0, len(self.heap)-1)\n",
    "    root = self.heap.pop()\n",
    "    self._heapify_down(0)\n",
    "    return root\n",
    "\n",
    "  def _heapify_up(self, index):\n",
    "    parent_index = (index-1)//2\n",
    "    if index > 0 and self.heap[parent_index] > self.heap[index]:\n",
    "      self._swap(index, parent_index)\n",
    "      self._heapify_up(parent_index)\n",
    "\n",
    "  def _heapify_down(self, parent_index):\n",
    "    left = parent_index*2+1\n",
    "    right = parent_index*2+2\n",
    "    smallest = parent_index\n",
    "    if left < len(self.heap) and self.heap[left] < self.heap[smallest]:\n",
    "      smallest = left\n",
    "    if right < len(self.heap) and self.heap[right] < self.heap[smallest]:\n",
    "      smallest = right\n",
    "    if smallest != parent_index:\n",
    "      self._swap(parent_index, smallest)\n",
    "      self._heapify_down(smallest)\n",
    "\n",
    "  def _build_heap_one_by_one(self, H):\n",
    "    for value in H:\n",
    "      self.insert(value)\n",
    "\n",
    "  def _build_heap_heapify(self, H):\n",
    "    self.heap = H\n",
    "    middle_index = len(self.heap)//2-1\n",
    "    for i in range(middle_index, -1, -1):\n",
    "      self._heapify_down(i)\n",
    "\n",
    "  def _swap(self, i, j):\n",
    "    self.heap[i], self.heap[j] = self.heap[j], self.heap[i]\n",
    "\n",
    "  def heap_sort(self):\n",
    "    temp_heap = self.heap.copy()\n",
    "    output = []\n",
    "    for _ in range(len(self.heap)):\n",
    "      root = self.delete()\n",
    "      output.append(root)\n",
    "    self.heap = temp_heap\n",
    "    return output\n",
    "\n",
    "  def __str__(self):\n",
    "    return ' '.join(map(str, self.heap))\n",
    "\n",
    "\n",
    "H = [10, 14, 19, 26, 31, 42, 27, 44, 35, 33]\n",
    "min_heap = MinHeap(H, method='heapify')\n",
    "print(min_heap.heap_sort())\n",
    "print(min_heap.heap)"
   ]
  },
  {
   "cell_type": "code",
   "execution_count": 18,
   "metadata": {},
   "outputs": [
    {
     "name": "stdout",
     "output_type": "stream",
     "text": [
      "(40, 'harikesh')\n",
      "(50, 'vidhatri')\n",
      "(65, 'sanika')\n",
      "(90, 'rahul')\n"
     ]
    }
   ],
   "source": [
    "class PriorityQueue:\n",
    "  def __init__(self):\n",
    "    self.min_heap = MinHeap(H=[])\n",
    "\n",
    "  def enqueue(self, value):\n",
    "    self.min_heap.insert(value)\n",
    "\n",
    "  def dequeue(self):\n",
    "    return self.min_heap.delete()\n",
    "\n",
    "  def is_empty(self):\n",
    "    return self.min_heap.is_empty()\n",
    "\n",
    "  def __str__(self):\n",
    "    return str(self.min_heap)\n",
    "\n",
    "\n",
    "pq = PriorityQueue()\n",
    "pq.enqueue((90, 'rahul'))\n",
    "pq.enqueue((50, 'vidhatri'))\n",
    "pq.enqueue((100, 'cmd'))\n",
    "pq.enqueue((40, 'harikesh'))\n",
    "pq.enqueue((65, 'sanika'))\n",
    "\n",
    "print(pq.dequeue())\n",
    "print(pq.dequeue())\n",
    "print(pq.dequeue())\n",
    "print(pq.dequeue())"
   ]
  },
  {
   "cell_type": "code",
   "execution_count": 19,
   "metadata": {},
   "outputs": [
    {
     "name": "stdout",
     "output_type": "stream",
     "text": [
      "1 5 15 62 19 100\n",
      "1\n",
      "-1000\n"
     ]
    }
   ],
   "source": [
    "H = [19, 5, 15, 62, 1, 100]\n",
    "min_heap = MinHeap(H)\n",
    "print(min_heap)\n",
    "print(min_heap.delete())\n",
    "min_heap.insert(0)\n",
    "min_heap.insert(-5)\n",
    "min_heap.insert(-1000)\n",
    "print(min_heap.delete())"
   ]
  },
  {
   "cell_type": "code",
   "execution_count": 20,
   "metadata": {},
   "outputs": [
    {
     "name": "stdout",
     "output_type": "stream",
     "text": [
      "(40, 'harikesh') (50, 'vidhatri') (100, 'cmd') (90, 'rahul') (65, 'sanika')\n",
      "(40, 'harikesh')\n",
      "(50, 'vidhatri')\n",
      "(65, 'sanika')\n",
      "(90, 'rahul')\n",
      "(100, 'cmd')\n"
     ]
    }
   ],
   "source": [
    "# priority, item\n",
    "# H = [90, 50, 100, 40, 65] # marks\n",
    "H = [(90, 'rahul'), (50, 'vidhatri'), (100, 'cmd'), (40, 'harikesh'), (65, 'sanika')]  # marks, name\n",
    "min_heap = MinHeap(H)\n",
    "print(min_heap)\n",
    "print(min_heap.delete())\n",
    "print(min_heap.delete())\n",
    "print(min_heap.delete())\n",
    "print(min_heap.delete())\n",
    "print(min_heap.delete())"
   ]
  },
  {
   "cell_type": "code",
   "execution_count": 21,
   "metadata": {},
   "outputs": [
    {
     "name": "stdout",
     "output_type": "stream",
     "text": [
      "apple cat ball fish dog ink eye house goat\n",
      "apple\n",
      "ball\n",
      "cat\n",
      "dog\n",
      "eye\n"
     ]
    }
   ],
   "source": [
    "H = ['dog', 'house', 'ink', 'ball', 'cat', 'apple', 'eye', 'fish', 'goat']\n",
    "min_heap = MinHeap(H)\n",
    "print(min_heap)\n",
    "print(min_heap.delete())\n",
    "print(min_heap.delete())\n",
    "print(min_heap.delete())\n",
    "print(min_heap.delete())\n",
    "print(min_heap.delete())"
   ]
  },
  {
   "cell_type": "code",
   "execution_count": 22,
   "metadata": {},
   "outputs": [
    {
     "name": "stdout",
     "output_type": "stream",
     "text": [
      "(40, 'harikesh')\n",
      "(50, 'vidhatri')\n",
      "(65, 'sanika')\n",
      "(90, 'rahul')\n"
     ]
    }
   ],
   "source": [
    "min_heap = MinHeap(H=[])\n",
    "min_heap.insert((90, 'rahul'))  # enqueue\n",
    "min_heap.insert((50, 'vidhatri'))  # enqueue\n",
    "min_heap.insert((100, 'cmd'))  # enqueue\n",
    "min_heap.insert((40, 'harikesh'))  # enqueue\n",
    "min_heap.insert((65, 'sanika'))  # enqueue\n",
    "\n",
    "print(min_heap.delete())  # dequeue\n",
    "print(min_heap.delete())  # dequeue\n",
    "print(min_heap.delete())  # dequeue\n",
    "print(min_heap.delete())  # dequeue"
   ]
  },
  {
   "cell_type": "code",
   "execution_count": 23,
   "metadata": {},
   "outputs": [
    {
     "name": "stdout",
     "output_type": "stream",
     "text": [
      "5\n",
      "50\n",
      "550\n"
     ]
    }
   ],
   "source": [
    "queue = []\n",
    "queue.append(5)\n",
    "queue.append(50)\n",
    "queue.append(550)\n",
    "print(queue.pop(0))\n",
    "print(queue.pop(0))\n",
    "print(queue.pop(0))\n",
    "\n",
    "\n",
    "class Queue:  # wrapper class\n",
    "  def __init__(self):\n",
    "    self.data = []\n",
    "\n",
    "  def enqueue(self, value):\n",
    "    self.data.append(value)  # wrapped the append procedure inside enqueue"
   ]
  },
  {
   "cell_type": "markdown",
   "metadata": {},
   "source": [
    "# BST"
   ]
  },
  {
   "cell_type": "code",
   "execution_count": 24,
   "metadata": {},
   "outputs": [
    {
     "data": {
      "text/plain": [
       "[2, 3, 5, 13, 17, 19]"
      ]
     },
     "execution_count": 24,
     "metadata": {},
     "output_type": "execute_result"
    }
   ],
   "source": [
    "class BST:\n",
    "  def __init__(self, initial_values=[]):\n",
    "    self.make_empty()\n",
    "    for value in initial_values:\n",
    "      self.insert(value)\n",
    "\n",
    "  def make_empty(self):\n",
    "    self.value, self.left, self.right = None, None, None\n",
    "\n",
    "  def is_empty(self):\n",
    "    return self.value is None\n",
    "\n",
    "  def is_leaf(self):\n",
    "    return self.value is not None and self.left.is_empty() and self.right.is_empty()\n",
    "\n",
    "  def insert(self, number):\n",
    "    if self.value is None:\n",
    "      self.value = number\n",
    "      self.left = BST()\n",
    "      self.right = BST()\n",
    "    elif number < self.value:\n",
    "      self.left.insert(number)\n",
    "    elif number > self.value:\n",
    "      self.right.insert(number)\n",
    "\n",
    "  def delete(self, number):\n",
    "    if self.is_empty():\n",
    "      return\n",
    "    if number < self.value:\n",
    "      self.left.delete(number)\n",
    "    elif number > self.value:\n",
    "      self.right.delete(number)\n",
    "    else:  # number == self.value (kill myself 👇)\n",
    "      if self.is_leaf():  # 0 child\n",
    "        self.make_empty()\n",
    "      elif self.left.is_empty():  # 1 child (R)\n",
    "        self._replace_with_right_subtree()\n",
    "      elif self.right.is_empty():  # 1 child (L)\n",
    "        self._replace_with_left_subtree()\n",
    "      else:  # 2 child\n",
    "        left_max_value = self.left.get_max_value()\n",
    "        self.value = left_max_value\n",
    "        self.left.delete(left_max_value)\n",
    "\n",
    "  def _replace_with_right_subtree(self):\n",
    "    self.value, self.left, self.right = (self.right.value,\n",
    "                                         self.right.left, self.right.right)\n",
    "\n",
    "  def _replace_with_left_subtree(self):\n",
    "    self.value, self.left, self.right = (self.left.value,\n",
    "                                         self.left.left, self.left.right)\n",
    "\n",
    "  def inorder_traversal(self):\n",
    "    if self.is_empty():\n",
    "      return []\n",
    "    return self.left.inorder_traversal() + [self.value] + self.right.inorder_traversal()\n",
    "\n",
    "  def get_min_value(self):\n",
    "    if self.is_empty():\n",
    "      return None\n",
    "    if self.left.is_empty():\n",
    "      return self.value\n",
    "    return self.left.get_min_value()\n",
    "\n",
    "  def get_max_value(self):\n",
    "    if self.is_empty():\n",
    "      return None\n",
    "    if self.right.is_empty():\n",
    "      return self.value\n",
    "    return self.right.get_max_value()\n",
    "\n",
    "  def find(self, number):\n",
    "    if self.is_empty():\n",
    "      return False\n",
    "    if number == self.value:\n",
    "      return True\n",
    "    if number < self.value:\n",
    "      return self.left.find(number)\n",
    "    if number > self.value:\n",
    "      return self.right.find(number)\n",
    "\n",
    "\n",
    "root = BST([17, 5, 2, 13, 20, 3, 19])\n",
    "root.delete(20)\n",
    "root.inorder_traversal()"
   ]
  },
  {
   "cell_type": "code",
   "execution_count": 25,
   "metadata": {},
   "outputs": [],
   "source": [
    "# (None, None, None) empty BST\n",
    "# (16, BST, BST) non-empty BST"
   ]
  },
  {
   "cell_type": "code",
   "execution_count": 26,
   "metadata": {},
   "outputs": [],
   "source": [
    "# 16 15 40 4 18 7 92 100 5\n",
    "# 16, 15, 40, 4, 18, 7, 92, 100, 5\n",
    "# BST (empty): value=None, L, R = None\n",
    "# BST (non-empty): value=Number, L, R = BST\n",
    "\n",
    "# A BST Node whose value=None is invisible (L, R = None)"
   ]
  },
  {
   "cell_type": "markdown",
   "metadata": {},
   "source": [
    "# July 26"
   ]
  },
  {
   "cell_type": "markdown",
   "metadata": {},
   "source": [
    "# Dijkstra's Algorithm"
   ]
  },
  {
   "cell_type": "code",
   "execution_count": 1,
   "metadata": {},
   "outputs": [
    {
     "data": {
      "text/plain": [
       "True"
      ]
     },
     "execution_count": 1,
     "metadata": {},
     "output_type": "execute_result"
    },
    {
     "data": {
      "text/plain": [
       "True"
      ]
     },
     "execution_count": 1,
     "metadata": {},
     "output_type": "execute_result"
    }
   ],
   "source": [
    "from heapq import heappush, heappop\n",
    "\n",
    "\n",
    "class PriorityQueue:\n",
    "  def __init__(self):\n",
    "    self.heap = []\n",
    "\n",
    "  def enqueue(self, priority, item):\n",
    "    heappush(self.heap, (priority, item))\n",
    "\n",
    "  def dequeue(self):\n",
    "    return heappop(self.heap)[1]\n",
    "\n",
    "  def is_empty(self):\n",
    "    return len(self.heap) == 0\n",
    "\n",
    "\n",
    "def dijkstra(adjacency_list, start_vertex):\n",
    "  visited = {u: False for u in adjacency_list}\n",
    "  distance = {u: float('inf') for u in adjacency_list}\n",
    "  distance[start_vertex] = 0\n",
    "\n",
    "  pq = PriorityQueue()\n",
    "  pq.enqueue(0, start_vertex)\n",
    "\n",
    "  while not pq.is_empty():\n",
    "    current_vertex = pq.dequeue()\n",
    "    visited[current_vertex] = True\n",
    "    for neighbor, weight in adjacency_list[current_vertex]:\n",
    "      if not visited[neighbor]:\n",
    "        new_distance = distance[current_vertex] + weight\n",
    "        if new_distance < distance[neighbor]:\n",
    "          distance[neighbor] = new_distance\n",
    "          pq.enqueue(new_distance, neighbor)\n",
    "\n",
    "  return distance\n",
    "\n",
    "\n",
    "adjacency_list = {\n",
    "    0: [(1, 10), (2, 80)],\n",
    "    1: [(2, 6), (4, 20)],\n",
    "    2: [(3, 70)],\n",
    "    4: [(5, 50), (6, 5)],\n",
    "    3: [],\n",
    "    5: [(6, 10)],\n",
    "    6: []\n",
    "}\n",
    "\n",
    "dijkstra(adjacency_list, 0) == {0: 0, 1: 10.0, 2: 16.0, 3: 86.0, 4: 30.0, 5: 80.0, 6: 35.0}\n",
    "\n",
    "adjacency_list = {\n",
    "    'A': [('B', 4), ('C', 2)],\n",
    "    'B': [('C', 3), ('D', 2), ('E', 3)],\n",
    "    'C': [('B', 1), ('D', 4), ('E', 5)],\n",
    "    'D': [],\n",
    "    'E': [('D', 1)],\n",
    "}\n",
    "\n",
    "dijkstra(adjacency_list, 'A') == {'A': 0, 'B': 3, 'C': 2, 'D': 5, 'E': 6}"
   ]
  },
  {
   "cell_type": "code",
   "execution_count": 5,
   "metadata": {},
   "outputs": [
    {
     "name": "stdout",
     "output_type": "stream",
     "text": [
      "u='A', distance[u]=0, path=['A']\n",
      "u='B', distance[u]=3, path=['A', 'C', 'B']\n",
      "u='C', distance[u]=2, path=['A', 'C']\n",
      "u='D', distance[u]=5, path=['A', 'C', 'B', 'D']\n",
      "u='E', distance[u]=6, path=['A', 'C', 'B', 'E']\n"
     ]
    }
   ],
   "source": [
    "from heapq import heappush, heappop\n",
    "\n",
    "\n",
    "class PriorityQueue:\n",
    "  def __init__(self):\n",
    "    self.heap = []\n",
    "\n",
    "  def enqueue(self, priority, item):\n",
    "    heappush(self.heap, (priority, item))\n",
    "\n",
    "  def dequeue(self):\n",
    "    return heappop(self.heap)[1]\n",
    "\n",
    "  def is_empty(self):\n",
    "    return len(self.heap) == 0\n",
    "\n",
    "\n",
    "def dijkstra(adjacency_list, start_vertex):\n",
    "  visited = {u: False for u in adjacency_list}\n",
    "  distance = {u: float('inf') for u in adjacency_list}\n",
    "  predecessor = {u: None for u in adjacency_list}\n",
    "  distance[start_vertex] = 0\n",
    "\n",
    "  pq = PriorityQueue()\n",
    "  pq.enqueue(0, start_vertex)\n",
    "\n",
    "  while not pq.is_empty():\n",
    "    current_vertex = pq.dequeue()\n",
    "    visited[current_vertex] = True\n",
    "    for neighbor, weight in adjacency_list[current_vertex]:\n",
    "      if not visited[neighbor]:\n",
    "        new_distance = distance[current_vertex] + weight\n",
    "        if new_distance < distance[neighbor]:\n",
    "          distance[neighbor] = new_distance\n",
    "          pq.enqueue(new_distance, neighbor)\n",
    "          predecessor[neighbor] = current_vertex\n",
    "\n",
    "  return distance, predecessor\n",
    "\n",
    "\n",
    "adjacency_list = {\n",
    "    'A': [('B', 4), ('C', 2)],\n",
    "    'B': [('C', 3), ('D', 2), ('E', 3)],\n",
    "    'C': [('B', 1), ('D', 4), ('E', 5)],\n",
    "    'D': [],\n",
    "    'E': [('D', 1)],\n",
    "}\n",
    "\n",
    "distance, predecessor = dijkstra(adjacency_list, 'A')\n",
    "\n",
    "\n",
    "def construct_path(predecessor, destination):\n",
    "  path = []\n",
    "  while destination is not None:\n",
    "    path.append(destination)\n",
    "    destination = predecessor[destination]\n",
    "  path.reverse()\n",
    "  return path\n",
    "\n",
    "\n",
    "for u in adjacency_list:\n",
    "  path = construct_path(predecessor, u)\n",
    "  print(f'{u=}, {distance[u]=}, {path=}')"
   ]
  },
  {
   "attachments": {
    "image.png": {
     "image/png": "[encoded data removed]"
    }
   },
   "cell_type": "markdown",
   "metadata": {},
   "source": [
    "![image.png](attachment:image.png)"
   ]
  }
 ],
 "metadata": {
  "kernelspec": {
   "display_name": "Python 3",
   "language": "python",
   "name": "python3"
  },
  "language_info": {
   "codemirror_mode": {
    "name": "ipython",
    "version": 3
   },
   "file_extension": ".py",
   "mimetype": "text/x-python",
   "name": "python",
   "nbconvert_exporter": "python",
   "pygments_lexer": "ipython3",
   "version": "3.12.0"
  }
 },
 "nbformat": 4,
 "nbformat_minor": 2
}
